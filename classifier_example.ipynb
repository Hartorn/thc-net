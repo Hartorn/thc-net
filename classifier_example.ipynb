{
 "cells": [
  {
   "cell_type": "code",
   "execution_count": 1,
   "metadata": {},
   "outputs": [
    {
     "data": {
      "application/javascript": [
       "\n",
       "            setTimeout(function() {\n",
       "                var nbb_cell_id = 1;\n",
       "                var nbb_unformatted_code = \"%load_ext nb_black\\n%load_ext autoreload\\n\\n%autoreload 2\";\n",
       "                var nbb_formatted_code = \"%load_ext nb_black\\n%load_ext autoreload\\n\\n%autoreload 2\";\n",
       "                var nbb_cells = Jupyter.notebook.get_cells();\n",
       "                for (var i = 0; i < nbb_cells.length; ++i) {\n",
       "                    if (nbb_cells[i].input_prompt_number == nbb_cell_id) {\n",
       "                        if (nbb_cells[i].get_text() == nbb_unformatted_code) {\n",
       "                             nbb_cells[i].set_text(nbb_formatted_code);\n",
       "                        }\n",
       "                        break;\n",
       "                    }\n",
       "                }\n",
       "            }, 500);\n",
       "            "
      ],
      "text/plain": [
       "<IPython.core.display.Javascript object>"
      ]
     },
     "metadata": {},
     "output_type": "display_data"
    }
   ],
   "source": [
    "%load_ext nb_black\n",
    "%load_ext autoreload\n",
    "\n",
    "%autoreload 2"
   ]
  },
  {
   "cell_type": "code",
   "execution_count": 2,
   "metadata": {},
   "outputs": [
    {
     "data": {
      "application/javascript": [
       "\n",
       "            setTimeout(function() {\n",
       "                var nbb_cell_id = 2;\n",
       "                var nbb_unformatted_code = \"from sklearn.preprocessing import LabelEncoder\\nfrom sklearn.metrics import roc_auc_score\\n\\nimport pandas as pd\\nimport numpy as np\\n\\nnp.random.seed(0)\\n\\n\\nimport os\\nfrom requests import get\\nfrom pathlib import Path\\nimport gc\\n\\nfrom matplotlib import pyplot as plt\\nfrom zipfile import ZipFile\\n\\n%matplotlib inline\";\n",
       "                var nbb_formatted_code = \"from sklearn.preprocessing import LabelEncoder\\nfrom sklearn.metrics import roc_auc_score\\n\\nimport pandas as pd\\nimport numpy as np\\n\\nnp.random.seed(0)\\n\\n\\nimport os\\nfrom requests import get\\nfrom pathlib import Path\\nimport gc\\n\\nfrom matplotlib import pyplot as plt\\nfrom zipfile import ZipFile\\n\\n%matplotlib inline\";\n",
       "                var nbb_cells = Jupyter.notebook.get_cells();\n",
       "                for (var i = 0; i < nbb_cells.length; ++i) {\n",
       "                    if (nbb_cells[i].input_prompt_number == nbb_cell_id) {\n",
       "                        if (nbb_cells[i].get_text() == nbb_unformatted_code) {\n",
       "                             nbb_cells[i].set_text(nbb_formatted_code);\n",
       "                        }\n",
       "                        break;\n",
       "                    }\n",
       "                }\n",
       "            }, 500);\n",
       "            "
      ],
      "text/plain": [
       "<IPython.core.display.Javascript object>"
      ]
     },
     "metadata": {},
     "output_type": "display_data"
    }
   ],
   "source": [
    "from sklearn.preprocessing import LabelEncoder\n",
    "from sklearn.metrics import roc_auc_score\n",
    "\n",
    "import pandas as pd\n",
    "import numpy as np\n",
    "\n",
    "np.random.seed(0)\n",
    "\n",
    "\n",
    "import os\n",
    "from requests import get\n",
    "from pathlib import Path\n",
    "import gc\n",
    "\n",
    "from matplotlib import pyplot as plt\n",
    "from zipfile import ZipFile\n",
    "\n",
    "%matplotlib inline"
   ]
  },
  {
   "cell_type": "code",
   "execution_count": 3,
   "metadata": {},
   "outputs": [
    {
     "data": {
      "application/javascript": [
       "\n",
       "            setTimeout(function() {\n",
       "                var nbb_cell_id = 3;\n",
       "                var nbb_unformatted_code = \"from tensorflow.keras.utils import plot_model\";\n",
       "                var nbb_formatted_code = \"from tensorflow.keras.utils import plot_model\";\n",
       "                var nbb_cells = Jupyter.notebook.get_cells();\n",
       "                for (var i = 0; i < nbb_cells.length; ++i) {\n",
       "                    if (nbb_cells[i].input_prompt_number == nbb_cell_id) {\n",
       "                        if (nbb_cells[i].get_text() == nbb_unformatted_code) {\n",
       "                             nbb_cells[i].set_text(nbb_formatted_code);\n",
       "                        }\n",
       "                        break;\n",
       "                    }\n",
       "                }\n",
       "            }, 500);\n",
       "            "
      ],
      "text/plain": [
       "<IPython.core.display.Javascript object>"
      ]
     },
     "metadata": {},
     "output_type": "display_data"
    }
   ],
   "source": [
    "from tensorflow.keras.utils import plot_model"
   ]
  },
  {
   "cell_type": "code",
   "execution_count": 25,
   "metadata": {},
   "outputs": [
    {
     "data": {
      "application/javascript": [
       "\n",
       "            setTimeout(function() {\n",
       "                var nbb_cell_id = 25;\n",
       "                var nbb_unformatted_code = \"from thc_net.classifier import ThcNetClassifier\\nfrom thc_net.utils import download, plot_history\\nfrom thc_net.input_utils import prepare_input_data\";\n",
       "                var nbb_formatted_code = \"from thc_net.classifier import ThcNetClassifier\\nfrom thc_net.utils import download, plot_history\\nfrom thc_net.input_utils import prepare_input_data\";\n",
       "                var nbb_cells = Jupyter.notebook.get_cells();\n",
       "                for (var i = 0; i < nbb_cells.length; ++i) {\n",
       "                    if (nbb_cells[i].input_prompt_number == nbb_cell_id) {\n",
       "                        if (nbb_cells[i].get_text() == nbb_unformatted_code) {\n",
       "                             nbb_cells[i].set_text(nbb_formatted_code);\n",
       "                        }\n",
       "                        break;\n",
       "                    }\n",
       "                }\n",
       "            }, 500);\n",
       "            "
      ],
      "text/plain": [
       "<IPython.core.display.Javascript object>"
      ]
     },
     "metadata": {},
     "output_type": "display_data"
    }
   ],
   "source": [
    "from thc_net.classifier import ThcNetClassifier\n",
    "from thc_net.utils import download, plot_history\n",
    "from thc_net.input_utils import prepare_input_data"
   ]
  },
  {
   "cell_type": "markdown",
   "metadata": {},
   "source": [
    "# Bank marketing  : loading data"
   ]
  },
  {
   "cell_type": "raw",
   "metadata": {},
   "source": [
    "url = \"https://archive.ics.uci.edu/ml/machine-learning-databases/00222/bank-additional.zip\"\n",
    "dataset_name = \"bank-additional-full\"\n",
    "out_zip = Path(os.getcwd().rsplit(\"/\", 1)[0] + \"/data/bank-additional.zip\")\n",
    "out = Path(\n",
    "    os.getcwd().rsplit(\"/\", 1)[0] + \"/data/bank-additional/\" + dataset_name + \".csv\"\n",
    ")\n",
    "\n",
    "download(url, out_zip)\n",
    "with ZipFile(out_zip, \"r\") as zipObj:\n",
    "    zipObj.extractall(\"/data\")\n",
    "\n",
    "target = \"y\"\n",
    "to_remove = []\n",
    "train = pd.read_csv(out, sep=\";\", low_memory=False)"
   ]
  },
  {
   "cell_type": "markdown",
   "metadata": {},
   "source": [
    "# Census income  : loading data"
   ]
  },
  {
   "cell_type": "raw",
   "metadata": {},
   "source": [
    "url = \"https://archive.ics.uci.edu/ml/machine-learning-databases/adult/adult.data\"\n",
    "dataset_name = \"census-income\"\n",
    "out = Path(os.getcwd().rsplit(\"/\", 1)[0] + \"/data/\" + dataset_name + \".csv\")\n",
    "\n",
    "\n",
    "download(url, out)\n",
    "target = \" <=50K\"\n",
    "to_remove = []\n",
    "train = pd.read_csv(out, sep=\";\", low_memory=False)"
   ]
  },
  {
   "cell_type": "markdown",
   "metadata": {},
   "source": [
    "# Load data and split"
   ]
  },
  {
   "cell_type": "code",
   "execution_count": 7,
   "metadata": {},
   "outputs": [
    {
     "data": {
      "application/javascript": [
       "\n",
       "            setTimeout(function() {\n",
       "                var nbb_cell_id = 7;\n",
       "                var nbb_unformatted_code = \"if \\\"Set\\\" not in train.columns:\\n    train[\\\"Set\\\"] = np.random.choice(\\n        [\\\"train\\\", \\\"valid\\\", \\\"test\\\"], p=[0.8, 0.1, 0.1], size=(train.shape[0],)\\n    )\\n\\ntrain_indices = train[train.Set == \\\"train\\\"].index\\nvalid_indices = train[train.Set == \\\"valid\\\"].index\\ntest_indices = train[train.Set == \\\"test\\\"].index\";\n",
       "                var nbb_formatted_code = \"if \\\"Set\\\" not in train.columns:\\n    train[\\\"Set\\\"] = np.random.choice(\\n        [\\\"train\\\", \\\"valid\\\", \\\"test\\\"], p=[0.8, 0.1, 0.1], size=(train.shape[0],)\\n    )\\n\\ntrain_indices = train[train.Set == \\\"train\\\"].index\\nvalid_indices = train[train.Set == \\\"valid\\\"].index\\ntest_indices = train[train.Set == \\\"test\\\"].index\";\n",
       "                var nbb_cells = Jupyter.notebook.get_cells();\n",
       "                for (var i = 0; i < nbb_cells.length; ++i) {\n",
       "                    if (nbb_cells[i].input_prompt_number == nbb_cell_id) {\n",
       "                        if (nbb_cells[i].get_text() == nbb_unformatted_code) {\n",
       "                             nbb_cells[i].set_text(nbb_formatted_code);\n",
       "                        }\n",
       "                        break;\n",
       "                    }\n",
       "                }\n",
       "            }, 500);\n",
       "            "
      ],
      "text/plain": [
       "<IPython.core.display.Javascript object>"
      ]
     },
     "metadata": {},
     "output_type": "display_data"
    }
   ],
   "source": [
    "if \"Set\" not in train.columns:\n",
    "    train[\"Set\"] = np.random.choice(\n",
    "        [\"train\", \"valid\", \"test\"], p=[0.8, 0.1, 0.1], size=(train.shape[0],)\n",
    "    )\n",
    "\n",
    "train_indices = train[train.Set == \"train\"].index\n",
    "valid_indices = train[train.Set == \"valid\"].index\n",
    "test_indices = train[train.Set == \"test\"].index"
   ]
  },
  {
   "cell_type": "code",
   "execution_count": 8,
   "metadata": {},
   "outputs": [
    {
     "data": {
      "application/javascript": [
       "\n",
       "            setTimeout(function() {\n",
       "                var nbb_cell_id = 8;\n",
       "                var nbb_unformatted_code = \"Y = train[target].values\\nX = train.drop(columns=[\\\"Set\\\"] + [target])\";\n",
       "                var nbb_formatted_code = \"Y = train[target].values\\nX = train.drop(columns=[\\\"Set\\\"] + [target])\";\n",
       "                var nbb_cells = Jupyter.notebook.get_cells();\n",
       "                for (var i = 0; i < nbb_cells.length; ++i) {\n",
       "                    if (nbb_cells[i].input_prompt_number == nbb_cell_id) {\n",
       "                        if (nbb_cells[i].get_text() == nbb_unformatted_code) {\n",
       "                             nbb_cells[i].set_text(nbb_formatted_code);\n",
       "                        }\n",
       "                        break;\n",
       "                    }\n",
       "                }\n",
       "            }, 500);\n",
       "            "
      ],
      "text/plain": [
       "<IPython.core.display.Javascript object>"
      ]
     },
     "metadata": {},
     "output_type": "display_data"
    }
   ],
   "source": [
    "Y = train[target].values\n",
    "X = train.drop(columns=[\"Set\"] + [target])"
   ]
  },
  {
   "cell_type": "code",
   "execution_count": 9,
   "metadata": {},
   "outputs": [
    {
     "data": {
      "application/javascript": [
       "\n",
       "            setTimeout(function() {\n",
       "                var nbb_cell_id = 9;\n",
       "                var nbb_unformatted_code = \"ratio = 0.005\";\n",
       "                var nbb_formatted_code = \"ratio = 0.005\";\n",
       "                var nbb_cells = Jupyter.notebook.get_cells();\n",
       "                for (var i = 0; i < nbb_cells.length; ++i) {\n",
       "                    if (nbb_cells[i].input_prompt_number == nbb_cell_id) {\n",
       "                        if (nbb_cells[i].get_text() == nbb_unformatted_code) {\n",
       "                             nbb_cells[i].set_text(nbb_formatted_code);\n",
       "                        }\n",
       "                        break;\n",
       "                    }\n",
       "                }\n",
       "            }, 500);\n",
       "            "
      ],
      "text/plain": [
       "<IPython.core.display.Javascript object>"
      ]
     },
     "metadata": {},
     "output_type": "display_data"
    }
   ],
   "source": [
    "ratio = 0.005"
   ]
  },
  {
   "cell_type": "code",
   "execution_count": 10,
   "metadata": {},
   "outputs": [
    {
     "data": {
      "application/javascript": [
       "\n",
       "            setTimeout(function() {\n",
       "                var nbb_cell_id = 10;\n",
       "                var nbb_unformatted_code = \"n_unique = X.nunique()\\nratios = (n_unique / X.shape[0]) < ratio\\ncat_idxs = np.argwhere(\\n    X.columns.isin(X.columns[ratios | (X.dtypes == \\\"object\\\")])\\n).ravel()\\ncat_dims = n_unique[cat_idxs].values + X.isnull().sum()[cat_idxs].values + 1\\ndel n_unique, ratios, train\";\n",
       "                var nbb_formatted_code = \"n_unique = X.nunique()\\nratios = (n_unique / X.shape[0]) < ratio\\ncat_idxs = np.argwhere(\\n    X.columns.isin(X.columns[ratios | (X.dtypes == \\\"object\\\")])\\n).ravel()\\ncat_dims = n_unique[cat_idxs].values + X.isnull().sum()[cat_idxs].values + 1\\ndel n_unique, ratios, train\";\n",
       "                var nbb_cells = Jupyter.notebook.get_cells();\n",
       "                for (var i = 0; i < nbb_cells.length; ++i) {\n",
       "                    if (nbb_cells[i].input_prompt_number == nbb_cell_id) {\n",
       "                        if (nbb_cells[i].get_text() == nbb_unformatted_code) {\n",
       "                             nbb_cells[i].set_text(nbb_formatted_code);\n",
       "                        }\n",
       "                        break;\n",
       "                    }\n",
       "                }\n",
       "            }, 500);\n",
       "            "
      ],
      "text/plain": [
       "<IPython.core.display.Javascript object>"
      ]
     },
     "metadata": {},
     "output_type": "display_data"
    }
   ],
   "source": [
    "n_unique = X.nunique()\n",
    "ratios = (n_unique / X.shape[0]) < ratio\n",
    "cat_idxs = np.argwhere(\n",
    "    X.columns.isin(X.columns[ratios | (X.dtypes == \"object\")])\n",
    ").ravel()\n",
    "cat_dims = n_unique[cat_idxs].values + X.isnull().sum()[cat_idxs].values + 1\n",
    "del n_unique, ratios, train"
   ]
  },
  {
   "cell_type": "code",
   "execution_count": 11,
   "metadata": {},
   "outputs": [
    {
     "data": {
      "text/plain": [
       "635"
      ]
     },
     "execution_count": 11,
     "metadata": {},
     "output_type": "execute_result"
    },
    {
     "data": {
      "application/javascript": [
       "\n",
       "            setTimeout(function() {\n",
       "                var nbb_cell_id = 11;\n",
       "                var nbb_unformatted_code = \"gc.collect()\";\n",
       "                var nbb_formatted_code = \"gc.collect()\";\n",
       "                var nbb_cells = Jupyter.notebook.get_cells();\n",
       "                for (var i = 0; i < nbb_cells.length; ++i) {\n",
       "                    if (nbb_cells[i].input_prompt_number == nbb_cell_id) {\n",
       "                        if (nbb_cells[i].get_text() == nbb_unformatted_code) {\n",
       "                             nbb_cells[i].set_text(nbb_formatted_code);\n",
       "                        }\n",
       "                        break;\n",
       "                    }\n",
       "                }\n",
       "            }, 500);\n",
       "            "
      ],
      "text/plain": [
       "<IPython.core.display.Javascript object>"
      ]
     },
     "metadata": {},
     "output_type": "display_data"
    }
   ],
   "source": [
    "gc.collect()"
   ]
  },
  {
   "cell_type": "markdown",
   "metadata": {},
   "source": [
    "# Training"
   ]
  },
  {
   "cell_type": "code",
   "execution_count": 12,
   "metadata": {},
   "outputs": [
    {
     "data": {
      "application/javascript": [
       "\n",
       "            setTimeout(function() {\n",
       "                var nbb_cell_id = 12;\n",
       "                var nbb_unformatted_code = \"tg_enc = LabelEncoder()\\nY = tg_enc.fit_transform(Y)\";\n",
       "                var nbb_formatted_code = \"tg_enc = LabelEncoder()\\nY = tg_enc.fit_transform(Y)\";\n",
       "                var nbb_cells = Jupyter.notebook.get_cells();\n",
       "                for (var i = 0; i < nbb_cells.length; ++i) {\n",
       "                    if (nbb_cells[i].input_prompt_number == nbb_cell_id) {\n",
       "                        if (nbb_cells[i].get_text() == nbb_unformatted_code) {\n",
       "                             nbb_cells[i].set_text(nbb_formatted_code);\n",
       "                        }\n",
       "                        break;\n",
       "                    }\n",
       "                }\n",
       "            }, 500);\n",
       "            "
      ],
      "text/plain": [
       "<IPython.core.display.Javascript object>"
      ]
     },
     "metadata": {},
     "output_type": "display_data"
    }
   ],
   "source": [
    "tg_enc = LabelEncoder()\n",
    "Y = tg_enc.fit_transform(Y)"
   ]
  },
  {
   "cell_type": "code",
   "execution_count": 13,
   "metadata": {},
   "outputs": [
    {
     "data": {
      "application/javascript": [
       "\n",
       "            setTimeout(function() {\n",
       "                var nbb_cell_id = 13;\n",
       "                var nbb_unformatted_code = \"X_train = X.values[train_indices]\\ny_train = Y[train_indices]\\n\\nX_valid = X.values[valid_indices]\\ny_valid = Y[valid_indices]\\n\\nX_test = X.values[test_indices]\\ny_test = Y[test_indices]\";\n",
       "                var nbb_formatted_code = \"X_train = X.values[train_indices]\\ny_train = Y[train_indices]\\n\\nX_valid = X.values[valid_indices]\\ny_valid = Y[valid_indices]\\n\\nX_test = X.values[test_indices]\\ny_test = Y[test_indices]\";\n",
       "                var nbb_cells = Jupyter.notebook.get_cells();\n",
       "                for (var i = 0; i < nbb_cells.length; ++i) {\n",
       "                    if (nbb_cells[i].input_prompt_number == nbb_cell_id) {\n",
       "                        if (nbb_cells[i].get_text() == nbb_unformatted_code) {\n",
       "                             nbb_cells[i].set_text(nbb_formatted_code);\n",
       "                        }\n",
       "                        break;\n",
       "                    }\n",
       "                }\n",
       "            }, 500);\n",
       "            "
      ],
      "text/plain": [
       "<IPython.core.display.Javascript object>"
      ]
     },
     "metadata": {},
     "output_type": "display_data"
    }
   ],
   "source": [
    "X_train = X.values[train_indices]\n",
    "y_train = Y[train_indices]\n",
    "\n",
    "X_valid = X.values[valid_indices]\n",
    "y_valid = Y[valid_indices]\n",
    "\n",
    "X_test = X.values[test_indices]\n",
    "y_test = Y[test_indices]"
   ]
  },
  {
   "cell_type": "code",
   "execution_count": 14,
   "metadata": {},
   "outputs": [
    {
     "data": {
      "text/plain": [
       "(32976, 20)"
      ]
     },
     "execution_count": 14,
     "metadata": {},
     "output_type": "execute_result"
    },
    {
     "data": {
      "application/javascript": [
       "\n",
       "            setTimeout(function() {\n",
       "                var nbb_cell_id = 14;\n",
       "                var nbb_unformatted_code = \"X_train.shape\";\n",
       "                var nbb_formatted_code = \"X_train.shape\";\n",
       "                var nbb_cells = Jupyter.notebook.get_cells();\n",
       "                for (var i = 0; i < nbb_cells.length; ++i) {\n",
       "                    if (nbb_cells[i].input_prompt_number == nbb_cell_id) {\n",
       "                        if (nbb_cells[i].get_text() == nbb_unformatted_code) {\n",
       "                             nbb_cells[i].set_text(nbb_formatted_code);\n",
       "                        }\n",
       "                        break;\n",
       "                    }\n",
       "                }\n",
       "            }, 500);\n",
       "            "
      ],
      "text/plain": [
       "<IPython.core.display.Javascript object>"
      ]
     },
     "metadata": {},
     "output_type": "display_data"
    }
   ],
   "source": [
    "X_train.shape"
   ]
  },
  {
   "cell_type": "code",
   "execution_count": 15,
   "metadata": {},
   "outputs": [
    {
     "data": {
      "application/javascript": [
       "\n",
       "            setTimeout(function() {\n",
       "                var nbb_cell_id = 15;\n",
       "                var nbb_unformatted_code = \"X_train_prep, encoders = prepare_input_data(X_train, cat_idxs)\\nX_valid_prep, _ = prepare_input_data(X_valid, cat_idxs, encoders=encoders, fit=False)\\nX_test_prep, _ = prepare_input_data(X_test, cat_idxs, encoders=encoders, fit=False)\";\n",
       "                var nbb_formatted_code = \"X_train_prep, encoders = prepare_input_data(X_train, cat_idxs)\\nX_valid_prep, _ = prepare_input_data(X_valid, cat_idxs, encoders=encoders, fit=False)\\nX_test_prep, _ = prepare_input_data(X_test, cat_idxs, encoders=encoders, fit=False)\";\n",
       "                var nbb_cells = Jupyter.notebook.get_cells();\n",
       "                for (var i = 0; i < nbb_cells.length; ++i) {\n",
       "                    if (nbb_cells[i].input_prompt_number == nbb_cell_id) {\n",
       "                        if (nbb_cells[i].get_text() == nbb_unformatted_code) {\n",
       "                             nbb_cells[i].set_text(nbb_formatted_code);\n",
       "                        }\n",
       "                        break;\n",
       "                    }\n",
       "                }\n",
       "            }, 500);\n",
       "            "
      ],
      "text/plain": [
       "<IPython.core.display.Javascript object>"
      ]
     },
     "metadata": {},
     "output_type": "display_data"
    }
   ],
   "source": [
    "X_train_prep, encoders = prepare_input_data(X_train, cat_idxs)\n",
    "X_valid_prep, _ = prepare_input_data(X_valid, cat_idxs, encoders=encoders, fit=False)\n",
    "X_test_prep, _ = prepare_input_data(X_test, cat_idxs, encoders=encoders, fit=False)"
   ]
  },
  {
   "cell_type": "markdown",
   "metadata": {},
   "source": [
    "# Network parameters"
   ]
  },
  {
   "cell_type": "code",
   "execution_count": null,
   "metadata": {},
   "outputs": [],
   "source": [
    "metrics = ['AUC']"
   ]
  },
  {
   "cell_type": "code",
   "execution_count": 16,
   "metadata": {},
   "outputs": [
    {
     "name": "stdout",
     "output_type": "stream",
     "text": [
      "Epoch 1/10000\n",
      "WARNING:tensorflow:From /work/.cache/poetry/thc-net-KQLMmzPP-py3.7/lib/python3.7/site-packages/tensorflow/python/ops/resource_variable_ops.py:1817: calling BaseResourceVariable.__init__ (from tensorflow.python.ops.resource_variable_ops) with constraint is deprecated and will be removed in a future version.\n",
      "Instructions for updating:\n",
      "If using Keras pass *_constraint arguments to layers.\n",
      "33/33 - 1s - loss: 0.3369 - val_loss: 0.2303\n",
      "Epoch 2/10000\n",
      "33/33 - 0s - loss: 0.2115 - val_loss: 0.2100\n",
      "Epoch 3/10000\n",
      "33/33 - 0s - loss: 0.1989 - val_loss: 0.1983\n",
      "Epoch 4/10000\n",
      "33/33 - 0s - loss: 0.1914 - val_loss: 0.1933\n",
      "Epoch 5/10000\n",
      "33/33 - 0s - loss: 0.1875 - val_loss: 0.1929\n",
      "Epoch 6/10000\n",
      "33/33 - 0s - loss: 0.1841 - val_loss: 0.1881\n",
      "Epoch 7/10000\n",
      "33/33 - 0s - loss: 0.1805 - val_loss: 0.1890\n",
      "Epoch 8/10000\n",
      "33/33 - 0s - loss: 0.1793 - val_loss: 0.1859\n",
      "Epoch 9/10000\n",
      "33/33 - 0s - loss: 0.1768 - val_loss: 0.1843\n",
      "Epoch 10/10000\n",
      "33/33 - 0s - loss: 0.1756 - val_loss: 0.1840\n",
      "Epoch 11/10000\n",
      "33/33 - 0s - loss: 0.1744 - val_loss: 0.1856\n",
      "Epoch 12/10000\n",
      "33/33 - 0s - loss: 0.1734 - val_loss: 0.1841\n",
      "Epoch 13/10000\n",
      "33/33 - 0s - loss: 0.1727 - val_loss: 0.1837\n",
      "Epoch 14/10000\n",
      "33/33 - 0s - loss: 0.1716 - val_loss: 0.1838\n",
      "Epoch 15/10000\n",
      "33/33 - 0s - loss: 0.1705 - val_loss: 0.1867\n",
      "Epoch 16/10000\n",
      "33/33 - 0s - loss: 0.1702 - val_loss: 0.1825\n",
      "Epoch 17/10000\n",
      "33/33 - 0s - loss: 0.1695 - val_loss: 0.1822\n",
      "Epoch 18/10000\n",
      "33/33 - 0s - loss: 0.1684 - val_loss: 0.1847\n",
      "Epoch 19/10000\n",
      "33/33 - 0s - loss: 0.1670 - val_loss: 0.1871\n",
      "Epoch 20/10000\n",
      "33/33 - 0s - loss: 0.1660 - val_loss: 0.1835\n",
      "Epoch 21/10000\n",
      "33/33 - 0s - loss: 0.1645 - val_loss: 0.1854\n",
      "Epoch 22/10000\n",
      "33/33 - 0s - loss: 0.1624 - val_loss: 0.1903\n",
      "Epoch 23/10000\n",
      "33/33 - 0s - loss: 0.1622 - val_loss: 0.1854\n",
      "Epoch 24/10000\n",
      "33/33 - 0s - loss: 0.1603 - val_loss: 0.1849\n",
      "Epoch 25/10000\n",
      "33/33 - 0s - loss: 0.1596 - val_loss: 0.1946\n",
      "Epoch 26/10000\n",
      "33/33 - 0s - loss: 0.1590 - val_loss: 0.1874\n",
      "Epoch 27/10000\n",
      "33/33 - 0s - loss: 0.1591 - val_loss: 0.1914\n",
      "Epoch 28/10000\n",
      "33/33 - 0s - loss: 0.1549 - val_loss: 0.1898\n",
      "Epoch 29/10000\n",
      "33/33 - 0s - loss: 0.1561 - val_loss: 0.1911\n",
      "Epoch 30/10000\n",
      "33/33 - 0s - loss: 0.1537 - val_loss: 0.1895\n",
      "Epoch 31/10000\n",
      "33/33 - 0s - loss: 0.1514 - val_loss: 0.1971\n",
      "Epoch 32/10000\n",
      "33/33 - 0s - loss: 0.1506 - val_loss: 0.1928\n",
      "Epoch 33/10000\n",
      "33/33 - 0s - loss: 0.1480 - val_loss: 0.1972\n",
      "Epoch 34/10000\n",
      "33/33 - 0s - loss: 0.1470 - val_loss: 0.1951\n",
      "Epoch 35/10000\n",
      "33/33 - 0s - loss: 0.1450 - val_loss: 0.1993\n",
      "Epoch 36/10000\n",
      "33/33 - 0s - loss: 0.1434 - val_loss: 0.1957\n",
      "Epoch 37/10000\n",
      "33/33 - 0s - loss: 0.1428 - val_loss: 0.2027\n",
      "Epoch 38/10000\n",
      "33/33 - 0s - loss: 0.1390 - val_loss: 0.2024\n",
      "Epoch 39/10000\n",
      "33/33 - 0s - loss: 0.1384 - val_loss: 0.2067\n",
      "Epoch 40/10000\n",
      "33/33 - 0s - loss: 0.1356 - val_loss: 0.2036\n",
      "Epoch 41/10000\n",
      "33/33 - 0s - loss: 0.1328 - val_loss: 0.2078\n",
      "Epoch 42/10000\n",
      "33/33 - 0s - loss: 0.1306 - val_loss: 0.2139\n",
      "Epoch 43/10000\n",
      "33/33 - 0s - loss: 0.1264 - val_loss: 0.2142\n",
      "Epoch 44/10000\n",
      "33/33 - 0s - loss: 0.1255 - val_loss: 0.2157\n",
      "Epoch 45/10000\n",
      "33/33 - 0s - loss: 0.1221 - val_loss: 0.2260\n",
      "Epoch 46/10000\n",
      "33/33 - 0s - loss: 0.1206 - val_loss: 0.2211\n",
      "Epoch 47/10000\n",
      "Restoring model weights from the end of the best epoch.\n",
      "33/33 - 0s - loss: 0.1179 - val_loss: 0.2275\n",
      "Epoch 00047: early stopping\n",
      "CPU times: user 27.5 s, sys: 2.07 s, total: 29.6 s\n",
      "Wall time: 21.7 s\n"
     ]
    },
    {
     "data": {
      "application/javascript": [
       "\n",
       "            setTimeout(function() {\n",
       "                var nbb_cell_id = 16;\n",
       "                var nbb_unformatted_code = \"%%time\\n\\nmodel = ThcNetClassifier(\\n    n_layer=3,\\n    mul_input=8, \\n    metrics=[],\\n    cat_idxs=cat_idxs,\\n    cat_emb_dims=cat_dims,\\n    dropout=0.05,\\n    normalize=False,\\n    max_emb=20,\\n    patience=30\\n)\\n\\nhistory = model.fit(\\n        X=X_train_prep, \\n        y=y_train,\\n        X_valid=X_valid_prep,\\n        y_valid=y_valid,\\n        batch_size=1024,\\n        epochs=10000,\\n        verbose=2,\\n)\";\n",
       "                var nbb_formatted_code = \"%%time\\n\\nmodel = ThcNetClassifier(\\n    n_layer=3,\\n    mul_input=8, \\n    metrics=[],\\n    cat_idxs=cat_idxs,\\n    cat_emb_dims=cat_dims,\\n    dropout=0.05,\\n    normalize=False,\\n    max_emb=20,\\n    patience=30\\n)\\n\\nhistory = model.fit(\\n        X=X_train_prep, \\n        y=y_train,\\n        X_valid=X_valid_prep,\\n        y_valid=y_valid,\\n        batch_size=1024,\\n        epochs=10000,\\n        verbose=2,\\n)\";\n",
       "                var nbb_cells = Jupyter.notebook.get_cells();\n",
       "                for (var i = 0; i < nbb_cells.length; ++i) {\n",
       "                    if (nbb_cells[i].input_prompt_number == nbb_cell_id) {\n",
       "                        if (nbb_cells[i].get_text() == nbb_unformatted_code) {\n",
       "                             nbb_cells[i].set_text(nbb_formatted_code);\n",
       "                        }\n",
       "                        break;\n",
       "                    }\n",
       "                }\n",
       "            }, 500);\n",
       "            "
      ],
      "text/plain": [
       "<IPython.core.display.Javascript object>"
      ]
     },
     "metadata": {},
     "output_type": "display_data"
    }
   ],
   "source": [
    "%%time\n",
    "\n",
    "model = ThcNetClassifier(\n",
    "    n_layer=3,\n",
    "    mul_input=8, \n",
    "    metrics=metrics,\n",
    "    cat_idxs=cat_idxs,\n",
    "    cat_emb_dims=cat_dims,\n",
    "    dropout=0.05,\n",
    "    normalize=False,\n",
    "    max_emb=20,\n",
    "    patience=30\n",
    ")\n",
    "\n",
    "history = model.fit(\n",
    "        X=X_train_prep, \n",
    "        y=y_train,\n",
    "        X_valid=X_valid_prep,\n",
    "        y_valid=y_valid,\n",
    "        batch_size=1024,\n",
    "        epochs=10000,\n",
    "        verbose=2,\n",
    ")"
   ]
  },
  {
   "cell_type": "code",
   "execution_count": 17,
   "metadata": {},
   "outputs": [
    {
     "name": "stdout",
     "output_type": "stream",
     "text": [
      "Epoch 1/10000\n",
      "33/33 - 1s - loss: 0.5395 - auc: 0.8415 - val_loss: 0.3399 - val_auc: 0.9622\n",
      "Epoch 2/10000\n",
      "33/33 - 0s - loss: 0.2872 - auc: 0.9541 - val_loss: 0.2945 - val_auc: 0.9692\n",
      "Epoch 3/10000\n",
      "33/33 - 0s - loss: 0.2692 - auc: 0.9576 - val_loss: 0.2844 - val_auc: 0.9707\n",
      "Epoch 4/10000\n",
      "33/33 - 0s - loss: 0.2598 - auc: 0.9603 - val_loss: 0.2542 - val_auc: 0.9733\n",
      "Epoch 5/10000\n",
      "33/33 - 0s - loss: 0.2477 - auc: 0.9640 - val_loss: 0.2239 - val_auc: 0.9747\n",
      "Epoch 6/10000\n",
      "33/33 - 0s - loss: 0.2392 - auc: 0.9661 - val_loss: 0.2309 - val_auc: 0.9741\n",
      "Epoch 7/10000\n",
      "33/33 - 0s - loss: 0.2334 - auc: 0.9677 - val_loss: 0.2134 - val_auc: 0.9752\n",
      "Epoch 8/10000\n",
      "33/33 - 0s - loss: 0.2241 - auc: 0.9702 - val_loss: 0.2109 - val_auc: 0.9751\n",
      "Epoch 9/10000\n",
      "33/33 - 0s - loss: 0.2217 - auc: 0.9704 - val_loss: 0.2018 - val_auc: 0.9754\n",
      "Epoch 10/10000\n",
      "33/33 - 0s - loss: 0.2169 - auc: 0.9715 - val_loss: 0.2013 - val_auc: 0.9752\n",
      "Epoch 11/10000\n",
      "33/33 - 0s - loss: 0.2176 - auc: 0.9712 - val_loss: 0.1980 - val_auc: 0.9756\n",
      "Epoch 12/10000\n",
      "33/33 - 0s - loss: 0.2152 - auc: 0.9717 - val_loss: 0.1989 - val_auc: 0.9756\n",
      "Epoch 13/10000\n",
      "33/33 - 0s - loss: 0.2123 - auc: 0.9725 - val_loss: 0.2037 - val_auc: 0.9754\n",
      "Epoch 14/10000\n",
      "33/33 - 0s - loss: 0.2089 - auc: 0.9733 - val_loss: 0.1974 - val_auc: 0.9753\n",
      "Epoch 15/10000\n",
      "33/33 - 0s - loss: 0.2083 - auc: 0.9733 - val_loss: 0.1985 - val_auc: 0.9757\n",
      "Epoch 16/10000\n",
      "33/33 - 0s - loss: 0.2048 - auc: 0.9741 - val_loss: 0.1943 - val_auc: 0.9764\n",
      "Epoch 17/10000\n",
      "33/33 - 0s - loss: 0.2040 - auc: 0.9743 - val_loss: 0.2171 - val_auc: 0.9695\n",
      "Epoch 18/10000\n",
      "33/33 - 0s - loss: 0.2032 - auc: 0.9743 - val_loss: 0.1958 - val_auc: 0.9757\n",
      "Epoch 19/10000\n",
      "33/33 - 0s - loss: 0.1999 - auc: 0.9752 - val_loss: 0.2035 - val_auc: 0.9735\n",
      "Epoch 20/10000\n",
      "33/33 - 0s - loss: 0.2009 - auc: 0.9748 - val_loss: 0.1940 - val_auc: 0.9758\n",
      "Epoch 21/10000\n",
      "33/33 - 0s - loss: 0.1985 - auc: 0.9755 - val_loss: 0.1936 - val_auc: 0.9760\n",
      "Epoch 22/10000\n",
      "33/33 - 0s - loss: 0.1994 - auc: 0.9752 - val_loss: 0.1924 - val_auc: 0.9763\n",
      "Epoch 23/10000\n",
      "33/33 - 0s - loss: 0.1970 - auc: 0.9758 - val_loss: 0.1951 - val_auc: 0.9755\n",
      "Epoch 24/10000\n",
      "33/33 - 0s - loss: 0.1952 - auc: 0.9762 - val_loss: 0.1951 - val_auc: 0.9756\n",
      "Epoch 25/10000\n",
      "33/33 - 0s - loss: 0.1945 - auc: 0.9765 - val_loss: 0.1907 - val_auc: 0.9771\n",
      "Epoch 26/10000\n",
      "33/33 - 0s - loss: 0.1949 - auc: 0.9764 - val_loss: 0.1895 - val_auc: 0.9771\n",
      "Epoch 27/10000\n",
      "33/33 - 0s - loss: 0.1941 - auc: 0.9764 - val_loss: 0.1931 - val_auc: 0.9760\n",
      "Epoch 28/10000\n",
      "33/33 - 0s - loss: 0.1950 - auc: 0.9762 - val_loss: 0.1913 - val_auc: 0.9766\n",
      "Epoch 29/10000\n",
      "33/33 - 0s - loss: 0.1931 - auc: 0.9767 - val_loss: 0.2022 - val_auc: 0.9733\n",
      "Epoch 30/10000\n",
      "33/33 - 0s - loss: 0.1920 - auc: 0.9768 - val_loss: 0.1904 - val_auc: 0.9767\n",
      "Epoch 31/10000\n",
      "33/33 - 0s - loss: 0.1911 - auc: 0.9771 - val_loss: 0.1885 - val_auc: 0.9773\n",
      "Epoch 32/10000\n",
      "33/33 - 0s - loss: 0.1896 - auc: 0.9774 - val_loss: 0.1912 - val_auc: 0.9767\n",
      "Epoch 33/10000\n",
      "33/33 - 0s - loss: 0.1894 - auc: 0.9774 - val_loss: 0.1854 - val_auc: 0.9780\n",
      "Epoch 34/10000\n",
      "33/33 - 0s - loss: 0.1894 - auc: 0.9775 - val_loss: 0.1881 - val_auc: 0.9774\n",
      "Epoch 35/10000\n",
      "33/33 - 0s - loss: 0.1893 - auc: 0.9774 - val_loss: 0.1981 - val_auc: 0.9744\n",
      "Epoch 36/10000\n",
      "33/33 - 0s - loss: 0.1878 - auc: 0.9778 - val_loss: 0.1950 - val_auc: 0.9758\n",
      "Epoch 37/10000\n",
      "33/33 - 0s - loss: 0.1890 - auc: 0.9775 - val_loss: 0.2016 - val_auc: 0.9736\n",
      "Epoch 38/10000\n",
      "33/33 - 0s - loss: 0.1885 - auc: 0.9776 - val_loss: 0.1912 - val_auc: 0.9768\n",
      "Epoch 39/10000\n",
      "33/33 - 0s - loss: 0.1873 - auc: 0.9780 - val_loss: 0.2018 - val_auc: 0.9734\n",
      "Epoch 40/10000\n",
      "33/33 - 0s - loss: 0.1875 - auc: 0.9779 - val_loss: 0.1912 - val_auc: 0.9767\n",
      "Epoch 41/10000\n",
      "33/33 - 0s - loss: 0.1871 - auc: 0.9780 - val_loss: 0.1906 - val_auc: 0.9771\n",
      "Epoch 42/10000\n",
      "33/33 - 0s - loss: 0.1870 - auc: 0.9781 - val_loss: 0.1877 - val_auc: 0.9776\n",
      "Epoch 43/10000\n",
      "33/33 - 0s - loss: 0.1871 - auc: 0.9780 - val_loss: 0.1887 - val_auc: 0.9771\n",
      "Epoch 44/10000\n",
      "33/33 - 0s - loss: 0.1849 - auc: 0.9785 - val_loss: 0.1970 - val_auc: 0.9750\n",
      "Epoch 45/10000\n",
      "33/33 - 0s - loss: 0.1864 - auc: 0.9782 - val_loss: 0.1999 - val_auc: 0.9744\n",
      "Epoch 46/10000\n",
      "33/33 - 0s - loss: 0.1861 - auc: 0.9782 - val_loss: 0.1857 - val_auc: 0.9780\n",
      "Epoch 47/10000\n",
      "33/33 - 0s - loss: 0.1844 - auc: 0.9786 - val_loss: 0.2001 - val_auc: 0.9739\n",
      "Epoch 48/10000\n",
      "33/33 - 0s - loss: 0.1852 - auc: 0.9784 - val_loss: 0.1915 - val_auc: 0.9763\n",
      "Epoch 49/10000\n",
      "33/33 - 0s - loss: 0.1859 - auc: 0.9783 - val_loss: 0.1875 - val_auc: 0.9776\n",
      "Epoch 50/10000\n",
      "33/33 - 0s - loss: 0.1834 - auc: 0.9788 - val_loss: 0.1898 - val_auc: 0.9769\n",
      "Epoch 51/10000\n",
      "33/33 - 0s - loss: 0.1832 - auc: 0.9788 - val_loss: 0.1944 - val_auc: 0.9757\n",
      "Epoch 52/10000\n",
      "33/33 - 0s - loss: 0.1833 - auc: 0.9788 - val_loss: 0.1853 - val_auc: 0.9781\n",
      "Epoch 53/10000\n",
      "33/33 - 0s - loss: 0.1851 - auc: 0.9785 - val_loss: 0.1863 - val_auc: 0.9780\n",
      "Epoch 54/10000\n",
      "33/33 - 0s - loss: 0.1835 - auc: 0.9787 - val_loss: 0.1922 - val_auc: 0.9762\n",
      "Epoch 55/10000\n",
      "33/33 - 0s - loss: 0.1844 - auc: 0.9786 - val_loss: 0.1884 - val_auc: 0.9776\n",
      "Epoch 56/10000\n",
      "33/33 - 0s - loss: 0.1833 - auc: 0.9789 - val_loss: 0.1840 - val_auc: 0.9785\n",
      "Epoch 57/10000\n",
      "33/33 - 0s - loss: 0.1828 - auc: 0.9790 - val_loss: 0.1903 - val_auc: 0.9768\n",
      "Epoch 58/10000\n",
      "33/33 - 0s - loss: 0.1831 - auc: 0.9789 - val_loss: 0.1856 - val_auc: 0.9782\n",
      "Epoch 59/10000\n",
      "33/33 - 0s - loss: 0.1825 - auc: 0.9790 - val_loss: 0.1894 - val_auc: 0.9773\n",
      "Epoch 60/10000\n",
      "33/33 - 0s - loss: 0.1820 - auc: 0.9791 - val_loss: 0.1853 - val_auc: 0.9781\n",
      "Epoch 61/10000\n",
      "33/33 - 0s - loss: 0.1818 - auc: 0.9792 - val_loss: 0.1868 - val_auc: 0.9778\n",
      "Epoch 62/10000\n",
      "33/33 - 0s - loss: 0.1832 - auc: 0.9790 - val_loss: 0.1869 - val_auc: 0.9777\n",
      "Epoch 63/10000\n",
      "33/33 - 0s - loss: 0.1810 - auc: 0.9794 - val_loss: 0.1888 - val_auc: 0.9772\n",
      "Epoch 64/10000\n",
      "33/33 - 0s - loss: 0.1811 - auc: 0.9793 - val_loss: 0.1865 - val_auc: 0.9778\n",
      "Epoch 65/10000\n",
      "33/33 - 0s - loss: 0.1816 - auc: 0.9792 - val_loss: 0.1852 - val_auc: 0.9780\n",
      "Epoch 66/10000\n",
      "33/33 - 0s - loss: 0.1813 - auc: 0.9793 - val_loss: 0.1845 - val_auc: 0.9784\n",
      "Epoch 67/10000\n",
      "33/33 - 0s - loss: 0.1800 - auc: 0.9796 - val_loss: 0.1853 - val_auc: 0.9784\n",
      "Epoch 68/10000\n",
      "33/33 - 0s - loss: 0.1817 - auc: 0.9791 - val_loss: 0.1872 - val_auc: 0.9777\n",
      "Epoch 69/10000\n",
      "33/33 - 0s - loss: 0.1804 - auc: 0.9795 - val_loss: 0.1845 - val_auc: 0.9787\n",
      "Epoch 70/10000\n",
      "33/33 - 0s - loss: 0.1796 - auc: 0.9797 - val_loss: 0.1893 - val_auc: 0.9772\n",
      "Epoch 71/10000\n",
      "33/33 - 0s - loss: 0.1788 - auc: 0.9798 - val_loss: 0.1851 - val_auc: 0.9785\n",
      "Epoch 72/10000\n",
      "33/33 - 0s - loss: 0.1792 - auc: 0.9798 - val_loss: 0.1853 - val_auc: 0.9783\n",
      "Epoch 73/10000\n",
      "33/33 - 0s - loss: 0.1788 - auc: 0.9798 - val_loss: 0.2008 - val_auc: 0.9742\n",
      "Epoch 74/10000\n",
      "33/33 - 0s - loss: 0.1783 - auc: 0.9799 - val_loss: 0.1855 - val_auc: 0.9784\n",
      "Epoch 75/10000\n",
      "33/33 - 0s - loss: 0.1791 - auc: 0.9797 - val_loss: 0.1863 - val_auc: 0.9781\n",
      "Epoch 76/10000\n",
      "33/33 - 0s - loss: 0.1800 - auc: 0.9796 - val_loss: 0.1859 - val_auc: 0.9780\n",
      "Epoch 77/10000\n",
      "33/33 - 0s - loss: 0.1792 - auc: 0.9798 - val_loss: 0.1997 - val_auc: 0.9747\n",
      "Epoch 78/10000\n",
      "33/33 - 0s - loss: 0.1795 - auc: 0.9797 - val_loss: 0.1835 - val_auc: 0.9785\n",
      "Epoch 79/10000\n",
      "33/33 - 0s - loss: 0.1790 - auc: 0.9798 - val_loss: 0.1921 - val_auc: 0.9773\n",
      "Epoch 80/10000\n",
      "33/33 - 0s - loss: 0.1785 - auc: 0.9798 - val_loss: 0.1826 - val_auc: 0.9789\n",
      "Epoch 81/10000\n",
      "33/33 - 0s - loss: 0.1771 - auc: 0.9802 - val_loss: 0.1890 - val_auc: 0.9779\n",
      "Epoch 82/10000\n",
      "33/33 - 0s - loss: 0.1772 - auc: 0.9801 - val_loss: 0.1885 - val_auc: 0.9770\n",
      "Epoch 83/10000\n",
      "33/33 - 0s - loss: 0.1789 - auc: 0.9798 - val_loss: 0.1831 - val_auc: 0.9786\n",
      "Epoch 84/10000\n",
      "33/33 - 0s - loss: 0.1766 - auc: 0.9802 - val_loss: 0.1854 - val_auc: 0.9779\n",
      "Epoch 85/10000\n",
      "33/33 - 0s - loss: 0.1784 - auc: 0.9799 - val_loss: 0.1865 - val_auc: 0.9783\n",
      "Epoch 86/10000\n",
      "33/33 - 0s - loss: 0.1773 - auc: 0.9802 - val_loss: 0.1859 - val_auc: 0.9782\n",
      "Epoch 87/10000\n",
      "33/33 - 0s - loss: 0.1779 - auc: 0.9800 - val_loss: 0.1885 - val_auc: 0.9770\n",
      "Epoch 88/10000\n",
      "33/33 - 0s - loss: 0.1784 - auc: 0.9799 - val_loss: 0.1814 - val_auc: 0.9790\n",
      "Epoch 89/10000\n",
      "33/33 - 0s - loss: 0.1769 - auc: 0.9802 - val_loss: 0.1818 - val_auc: 0.9790\n",
      "Epoch 90/10000\n"
     ]
    },
    {
     "name": "stdout",
     "output_type": "stream",
     "text": [
      "33/33 - 0s - loss: 0.1761 - auc: 0.9804 - val_loss: 0.1836 - val_auc: 0.9785\n",
      "Epoch 91/10000\n",
      "33/33 - 0s - loss: 0.1765 - auc: 0.9803 - val_loss: 0.1800 - val_auc: 0.9793\n",
      "Epoch 92/10000\n",
      "33/33 - 0s - loss: 0.1758 - auc: 0.9804 - val_loss: 0.1860 - val_auc: 0.9778\n",
      "Epoch 93/10000\n",
      "33/33 - 0s - loss: 0.1767 - auc: 0.9802 - val_loss: 0.1861 - val_auc: 0.9777\n",
      "Epoch 94/10000\n",
      "33/33 - 0s - loss: 0.1749 - auc: 0.9807 - val_loss: 0.1807 - val_auc: 0.9790\n",
      "Epoch 95/10000\n",
      "33/33 - 0s - loss: 0.1749 - auc: 0.9806 - val_loss: 0.1829 - val_auc: 0.9787\n",
      "Epoch 96/10000\n",
      "33/33 - 0s - loss: 0.1764 - auc: 0.9804 - val_loss: 0.1835 - val_auc: 0.9784\n",
      "Epoch 97/10000\n",
      "33/33 - 0s - loss: 0.1765 - auc: 0.9802 - val_loss: 0.1845 - val_auc: 0.9783\n",
      "Epoch 98/10000\n",
      "33/33 - 0s - loss: 0.1750 - auc: 0.9807 - val_loss: 0.1835 - val_auc: 0.9785\n",
      "Epoch 99/10000\n",
      "33/33 - 0s - loss: 0.1734 - auc: 0.9810 - val_loss: 0.1846 - val_auc: 0.9783\n",
      "Epoch 100/10000\n",
      "33/33 - 0s - loss: 0.1747 - auc: 0.9807 - val_loss: 0.1828 - val_auc: 0.9788\n",
      "Epoch 101/10000\n",
      "33/33 - 0s - loss: 0.1746 - auc: 0.9809 - val_loss: 0.1850 - val_auc: 0.9782\n",
      "Epoch 102/10000\n",
      "33/33 - 0s - loss: 0.1736 - auc: 0.9809 - val_loss: 0.1845 - val_auc: 0.9784\n",
      "Epoch 103/10000\n",
      "33/33 - 0s - loss: 0.1745 - auc: 0.9807 - val_loss: 0.1898 - val_auc: 0.9771\n",
      "Epoch 104/10000\n",
      "33/33 - 0s - loss: 0.1731 - auc: 0.9811 - val_loss: 0.1872 - val_auc: 0.9777\n",
      "Epoch 105/10000\n",
      "33/33 - 0s - loss: 0.1745 - auc: 0.9807 - val_loss: 0.1814 - val_auc: 0.9787\n",
      "Epoch 106/10000\n",
      "33/33 - 0s - loss: 0.1742 - auc: 0.9808 - val_loss: 0.1869 - val_auc: 0.9778\n",
      "Epoch 107/10000\n",
      "33/33 - 0s - loss: 0.1743 - auc: 0.9808 - val_loss: 0.1824 - val_auc: 0.9788\n",
      "Epoch 108/10000\n",
      "33/33 - 0s - loss: 0.1733 - auc: 0.9810 - val_loss: 0.1843 - val_auc: 0.9787\n",
      "Epoch 109/10000\n",
      "33/33 - 0s - loss: 0.1724 - auc: 0.9812 - val_loss: 0.1836 - val_auc: 0.9785\n",
      "Epoch 110/10000\n",
      "33/33 - 0s - loss: 0.1725 - auc: 0.9811 - val_loss: 0.1835 - val_auc: 0.9790\n",
      "Epoch 111/10000\n",
      "33/33 - 0s - loss: 0.1740 - auc: 0.9808 - val_loss: 0.1855 - val_auc: 0.9785\n",
      "Epoch 112/10000\n",
      "33/33 - 0s - loss: 0.1717 - auc: 0.9814 - val_loss: 0.1830 - val_auc: 0.9787\n",
      "Epoch 113/10000\n",
      "33/33 - 0s - loss: 0.1734 - auc: 0.9810 - val_loss: 0.1838 - val_auc: 0.9786\n",
      "Epoch 114/10000\n",
      "33/33 - 0s - loss: 0.1738 - auc: 0.9809 - val_loss: 0.1829 - val_auc: 0.9788\n",
      "Epoch 115/10000\n",
      "33/33 - 0s - loss: 0.1732 - auc: 0.9810 - val_loss: 0.1812 - val_auc: 0.9788\n",
      "Epoch 116/10000\n",
      "33/33 - 0s - loss: 0.1725 - auc: 0.9813 - val_loss: 0.1840 - val_auc: 0.9788\n",
      "Epoch 117/10000\n",
      "33/33 - 0s - loss: 0.1725 - auc: 0.9812 - val_loss: 0.1802 - val_auc: 0.9789\n",
      "Epoch 118/10000\n",
      "33/33 - 0s - loss: 0.1710 - auc: 0.9814 - val_loss: 0.1837 - val_auc: 0.9788\n",
      "Epoch 119/10000\n",
      "33/33 - 0s - loss: 0.1707 - auc: 0.9815 - val_loss: 0.1818 - val_auc: 0.9790\n",
      "Epoch 120/10000\n",
      "33/33 - 0s - loss: 0.1704 - auc: 0.9815 - val_loss: 0.1819 - val_auc: 0.9790\n",
      "Epoch 121/10000\n",
      "Restoring model weights from the end of the best epoch.\n",
      "33/33 - 0s - loss: 0.1715 - auc: 0.9815 - val_loss: 0.1900 - val_auc: 0.9781\n",
      "Epoch 00121: early stopping\n",
      "CPU times: user 1min 6s, sys: 5.01 s, total: 1min 11s\n",
      "Wall time: 49.2 s\n"
     ]
    },
    {
     "data": {
      "application/javascript": [
       "\n",
       "            setTimeout(function() {\n",
       "                var nbb_cell_id = 17;\n",
       "                var nbb_unformatted_code = \"%%time\\n\\nmodel_snn = ThcNetClassifier(\\n    n_layer=3,\\n    mul_input=8, \\n    metrics=['AUC'],\\n    cat_idxs=cat_idxs,\\n    cat_emb_dims=cat_dims,\\n    dropout=0.05,\\n    normalize=False,\\n    max_emb=20,\\n    patience=30,\\n    use_snn=True,\\n    noise=None\\n)\\n\\nhistory_snn = model_snn.fit(\\n        X=X_train_prep, \\n        y=y_train,\\n        X_valid=X_valid_prep,\\n        y_valid=y_valid,\\n        batch_size=1024,\\n        epochs=10000,\\n        verbose=2,\\n)\";\n",
       "                var nbb_formatted_code = \"%%time\\n\\nmodel_snn = ThcNetClassifier(\\n    n_layer=3,\\n    mul_input=8, \\n    metrics=['AUC'],\\n    cat_idxs=cat_idxs,\\n    cat_emb_dims=cat_dims,\\n    dropout=0.05,\\n    normalize=False,\\n    max_emb=20,\\n    patience=30,\\n    use_snn=True,\\n    noise=None\\n)\\n\\nhistory_snn = model_snn.fit(\\n        X=X_train_prep, \\n        y=y_train,\\n        X_valid=X_valid_prep,\\n        y_valid=y_valid,\\n        batch_size=1024,\\n        epochs=10000,\\n        verbose=2,\\n)\";\n",
       "                var nbb_cells = Jupyter.notebook.get_cells();\n",
       "                for (var i = 0; i < nbb_cells.length; ++i) {\n",
       "                    if (nbb_cells[i].input_prompt_number == nbb_cell_id) {\n",
       "                        if (nbb_cells[i].get_text() == nbb_unformatted_code) {\n",
       "                             nbb_cells[i].set_text(nbb_formatted_code);\n",
       "                        }\n",
       "                        break;\n",
       "                    }\n",
       "                }\n",
       "            }, 500);\n",
       "            "
      ],
      "text/plain": [
       "<IPython.core.display.Javascript object>"
      ]
     },
     "metadata": {},
     "output_type": "display_data"
    }
   ],
   "source": [
    "%%time\n",
    "\n",
    "model_snn = ThcNetClassifier(\n",
    "    n_layer=3,\n",
    "    mul_input=8, \n",
    "    metrics=metrics,\n",
    "    cat_idxs=cat_idxs,\n",
    "    cat_emb_dims=cat_dims,\n",
    "    dropout=0.05,\n",
    "    normalize=False,\n",
    "    max_emb=20,\n",
    "    patience=30,\n",
    "    use_snn=True,\n",
    "    noise=None\n",
    ")\n",
    "\n",
    "history_snn = model_snn.fit(\n",
    "        X=X_train_prep, \n",
    "        y=y_train,\n",
    "        X_valid=X_valid_prep,\n",
    "        y_valid=y_valid,\n",
    "        batch_size=1024,\n",
    "        epochs=10000,\n",
    "        verbose=2,\n",
    ")"
   ]
  },
  {
   "cell_type": "code",
   "execution_count": 18,
   "metadata": {},
   "outputs": [
    {
     "name": "stdout",
     "output_type": "stream",
     "text": [
      "Model: \"model\"\n",
      "__________________________________________________________________________________________________\n",
      "Layer (type)                    Output Shape         Param #     Connected to                     \n",
      "==================================================================================================\n",
      "input_1 (InputLayer)            [(None, 1)]          0                                            \n",
      "__________________________________________________________________________________________________\n",
      "input_2 (InputLayer)            [(None, 1)]          0                                            \n",
      "__________________________________________________________________________________________________\n",
      "input_3 (InputLayer)            [(None, 1)]          0                                            \n",
      "__________________________________________________________________________________________________\n",
      "input_4 (InputLayer)            [(None, 1)]          0                                            \n",
      "__________________________________________________________________________________________________\n",
      "input_5 (InputLayer)            [(None, 1)]          0                                            \n",
      "__________________________________________________________________________________________________\n",
      "input_6 (InputLayer)            [(None, 1)]          0                                            \n",
      "__________________________________________________________________________________________________\n",
      "input_7 (InputLayer)            [(None, 1)]          0                                            \n",
      "__________________________________________________________________________________________________\n",
      "input_8 (InputLayer)            [(None, 1)]          0                                            \n",
      "__________________________________________________________________________________________________\n",
      "input_9 (InputLayer)            [(None, 1)]          0                                            \n",
      "__________________________________________________________________________________________________\n",
      "input_10 (InputLayer)           [(None, 1)]          0                                            \n",
      "__________________________________________________________________________________________________\n",
      "input_11 (InputLayer)           [(None, 1)]          0                                            \n",
      "__________________________________________________________________________________________________\n",
      "input_12 (InputLayer)           [(None, 1)]          0                                            \n",
      "__________________________________________________________________________________________________\n",
      "input_13 (InputLayer)           [(None, 1)]          0                                            \n",
      "__________________________________________________________________________________________________\n",
      "input_14 (InputLayer)           [(None, 1)]          0                                            \n",
      "__________________________________________________________________________________________________\n",
      "input_15 (InputLayer)           [(None, 1)]          0                                            \n",
      "__________________________________________________________________________________________________\n",
      "input_16 (InputLayer)           [(None, 1)]          0                                            \n",
      "__________________________________________________________________________________________________\n",
      "input_17 (InputLayer)           [(None, 1)]          0                                            \n",
      "__________________________________________________________________________________________________\n",
      "input_18 (InputLayer)           [(None, 1)]          0                                            \n",
      "__________________________________________________________________________________________________\n",
      "embedding (Embedding)           (None, 1, 20)        1580        input_1[0][0]                    \n",
      "__________________________________________________________________________________________________\n",
      "embedding_1 (Embedding)         (None, 1, 7)         91          input_2[0][0]                    \n",
      "__________________________________________________________________________________________________\n",
      "embedding_2 (Embedding)         (None, 1, 3)         15          input_3[0][0]                    \n",
      "__________________________________________________________________________________________________\n",
      "embedding_3 (Embedding)         (None, 1, 5)         45          input_4[0][0]                    \n",
      "__________________________________________________________________________________________________\n",
      "embedding_4 (Embedding)         (None, 1, 2)         8           input_5[0][0]                    \n",
      "__________________________________________________________________________________________________\n",
      "embedding_5 (Embedding)         (None, 1, 2)         8           input_6[0][0]                    \n",
      "__________________________________________________________________________________________________\n",
      "embedding_6 (Embedding)         (None, 1, 2)         8           input_7[0][0]                    \n",
      "__________________________________________________________________________________________________\n",
      "embedding_7 (Embedding)         (None, 1, 2)         6           input_8[0][0]                    \n",
      "__________________________________________________________________________________________________\n",
      "embedding_8 (Embedding)         (None, 1, 6)         66          input_9[0][0]                    \n",
      "__________________________________________________________________________________________________\n",
      "embedding_9 (Embedding)         (None, 1, 3)         18          input_10[0][0]                   \n",
      "__________________________________________________________________________________________________\n",
      "embedding_10 (Embedding)        (None, 1, 20)        860         input_11[0][0]                   \n",
      "__________________________________________________________________________________________________\n",
      "embedding_11 (Embedding)        (None, 1, 14)        392         input_12[0][0]                   \n",
      "__________________________________________________________________________________________________\n",
      "embedding_12 (Embedding)        (None, 1, 5)         45          input_13[0][0]                   \n",
      "__________________________________________________________________________________________________\n",
      "embedding_13 (Embedding)        (None, 1, 2)         8           input_14[0][0]                   \n",
      "__________________________________________________________________________________________________\n",
      "embedding_14 (Embedding)        (None, 1, 6)         66          input_15[0][0]                   \n",
      "__________________________________________________________________________________________________\n",
      "embedding_15 (Embedding)        (None, 1, 14)        378         input_16[0][0]                   \n",
      "__________________________________________________________________________________________________\n",
      "embedding_16 (Embedding)        (None, 1, 14)        378         input_17[0][0]                   \n",
      "__________________________________________________________________________________________________\n",
      "embedding_17 (Embedding)        (None, 1, 6)         72          input_18[0][0]                   \n",
      "__________________________________________________________________________________________________\n",
      "concatenate (Concatenate)       (None, 1, 133)       0           embedding[0][0]                  \n",
      "                                                                 embedding_1[0][0]                \n",
      "                                                                 embedding_2[0][0]                \n",
      "                                                                 embedding_3[0][0]                \n",
      "                                                                 embedding_4[0][0]                \n",
      "                                                                 embedding_5[0][0]                \n",
      "                                                                 embedding_6[0][0]                \n",
      "                                                                 embedding_7[0][0]                \n",
      "                                                                 embedding_8[0][0]                \n",
      "                                                                 embedding_9[0][0]                \n",
      "                                                                 embedding_10[0][0]               \n",
      "                                                                 embedding_11[0][0]               \n",
      "                                                                 embedding_12[0][0]               \n",
      "                                                                 embedding_13[0][0]               \n",
      "                                                                 embedding_14[0][0]               \n",
      "                                                                 embedding_15[0][0]               \n",
      "                                                                 embedding_16[0][0]               \n",
      "                                                                 embedding_17[0][0]               \n",
      "__________________________________________________________________________________________________\n",
      "spatial_dropout1d (SpatialDropo (None, 1, 133)       0           concatenate[0][0]                \n",
      "__________________________________________________________________________________________________\n",
      "input_19 (InputLayer)           [(None, 2)]          0                                            \n",
      "__________________________________________________________________________________________________\n",
      "reshape (Reshape)               (None, 133)          0           spatial_dropout1d[0][0]          \n",
      "__________________________________________________________________________________________________\n",
      "gaussian_noise (GaussianNoise)  (None, 2)            0           input_19[0][0]                   \n",
      "__________________________________________________________________________________________________\n",
      "concatenate_1 (Concatenate)     (None, 135)          0           reshape[0][0]                    \n",
      "                                                                 gaussian_noise[0][0]             \n",
      "__________________________________________________________________________________________________\n",
      "dense (Dense)                   (None, 1080)         146880      concatenate_1[0][0]              \n",
      "__________________________________________________________________________________________________\n",
      "dropout (Dropout)               (None, 1080)         0           dense[0][0]                      \n",
      "__________________________________________________________________________________________________\n",
      "dense_1 (Dense)                 (None, 720)          778320      dropout[0][0]                    \n",
      "__________________________________________________________________________________________________\n",
      "dropout_1 (Dropout)             (None, 720)          0           dense_1[0][0]                    \n",
      "__________________________________________________________________________________________________\n",
      "dense_2 (Dense)                 (None, 361)          260281      dropout_1[0][0]                  \n",
      "__________________________________________________________________________________________________\n",
      "dropout_2 (Dropout)             (None, 361)          0           dense_2[0][0]                    \n",
      "__________________________________________________________________________________________________\n",
      "dense_3 (Dense)                 (None, 2)            724         dropout_2[0][0]                  \n",
      "==================================================================================================\n",
      "Total params: 1,190,249\n",
      "Trainable params: 1,190,249\n",
      "Non-trainable params: 0\n",
      "__________________________________________________________________________________________________\n"
     ]
    },
    {
     "data": {
      "application/javascript": [
       "\n",
       "            setTimeout(function() {\n",
       "                var nbb_cell_id = 18;\n",
       "                var nbb_unformatted_code = \"model.network.summary()\";\n",
       "                var nbb_formatted_code = \"model.network.summary()\";\n",
       "                var nbb_cells = Jupyter.notebook.get_cells();\n",
       "                for (var i = 0; i < nbb_cells.length; ++i) {\n",
       "                    if (nbb_cells[i].input_prompt_number == nbb_cell_id) {\n",
       "                        if (nbb_cells[i].get_text() == nbb_unformatted_code) {\n",
       "                             nbb_cells[i].set_text(nbb_formatted_code);\n",
       "                        }\n",
       "                        break;\n",
       "                    }\n",
       "                }\n",
       "            }, 500);\n",
       "            "
      ],
      "text/plain": [
       "<IPython.core.display.Javascript object>"
      ]
     },
     "metadata": {},
     "output_type": "display_data"
    }
   ],
   "source": [
    "model.network.summary()"
   ]
  },
  {
   "cell_type": "code",
   "execution_count": 19,
   "metadata": {},
   "outputs": [
    {
     "name": "stdout",
     "output_type": "stream",
     "text": [
      "Failed to import pydot. You must install pydot and graphviz for `pydotprint` to work.\n"
     ]
    },
    {
     "data": {
      "application/javascript": [
       "\n",
       "            setTimeout(function() {\n",
       "                var nbb_cell_id = 19;\n",
       "                var nbb_unformatted_code = \"plot_model(\\n    model,\\n    # to_file=\\\"model.png\\\",\\n    show_shapes=True,\\n    show_layer_names=True,\\n    rankdir=\\\"TB\\\",\\n    expand_nested=False,\\n    dpi=96,\\n)\";\n",
       "                var nbb_formatted_code = \"plot_model(\\n    model,\\n    # to_file=\\\"model.png\\\",\\n    show_shapes=True,\\n    show_layer_names=True,\\n    rankdir=\\\"TB\\\",\\n    expand_nested=False,\\n    dpi=96,\\n)\";\n",
       "                var nbb_cells = Jupyter.notebook.get_cells();\n",
       "                for (var i = 0; i < nbb_cells.length; ++i) {\n",
       "                    if (nbb_cells[i].input_prompt_number == nbb_cell_id) {\n",
       "                        if (nbb_cells[i].get_text() == nbb_unformatted_code) {\n",
       "                             nbb_cells[i].set_text(nbb_formatted_code);\n",
       "                        }\n",
       "                        break;\n",
       "                    }\n",
       "                }\n",
       "            }, 500);\n",
       "            "
      ],
      "text/plain": [
       "<IPython.core.display.Javascript object>"
      ]
     },
     "metadata": {},
     "output_type": "display_data"
    }
   ],
   "source": [
    "plot_model(\n",
    "    model,\n",
    "    # to_file=\"model.png\",\n",
    "    show_shapes=True,\n",
    "    show_layer_names=True,\n",
    "    rankdir=\"TB\",\n",
    "    expand_nested=False,\n",
    "    dpi=96,\n",
    ")"
   ]
  },
  {
   "cell_type": "code",
   "execution_count": 20,
   "metadata": {},
   "outputs": [
    {
     "name": "stdout",
     "output_type": "stream",
     "text": [
      "Model: \"model_1\"\n",
      "__________________________________________________________________________________________________\n",
      "Layer (type)                    Output Shape         Param #     Connected to                     \n",
      "==================================================================================================\n",
      "input_20 (InputLayer)           [(None, 1)]          0                                            \n",
      "__________________________________________________________________________________________________\n",
      "input_21 (InputLayer)           [(None, 1)]          0                                            \n",
      "__________________________________________________________________________________________________\n",
      "input_22 (InputLayer)           [(None, 1)]          0                                            \n",
      "__________________________________________________________________________________________________\n",
      "input_23 (InputLayer)           [(None, 1)]          0                                            \n",
      "__________________________________________________________________________________________________\n",
      "input_24 (InputLayer)           [(None, 1)]          0                                            \n",
      "__________________________________________________________________________________________________\n",
      "input_25 (InputLayer)           [(None, 1)]          0                                            \n",
      "__________________________________________________________________________________________________\n",
      "input_26 (InputLayer)           [(None, 1)]          0                                            \n",
      "__________________________________________________________________________________________________\n",
      "input_27 (InputLayer)           [(None, 1)]          0                                            \n",
      "__________________________________________________________________________________________________\n",
      "input_28 (InputLayer)           [(None, 1)]          0                                            \n",
      "__________________________________________________________________________________________________\n",
      "input_29 (InputLayer)           [(None, 1)]          0                                            \n",
      "__________________________________________________________________________________________________\n",
      "input_30 (InputLayer)           [(None, 1)]          0                                            \n",
      "__________________________________________________________________________________________________\n",
      "input_31 (InputLayer)           [(None, 1)]          0                                            \n",
      "__________________________________________________________________________________________________\n",
      "input_32 (InputLayer)           [(None, 1)]          0                                            \n",
      "__________________________________________________________________________________________________\n",
      "input_33 (InputLayer)           [(None, 1)]          0                                            \n",
      "__________________________________________________________________________________________________\n",
      "input_34 (InputLayer)           [(None, 1)]          0                                            \n",
      "__________________________________________________________________________________________________\n",
      "input_35 (InputLayer)           [(None, 1)]          0                                            \n",
      "__________________________________________________________________________________________________\n",
      "input_36 (InputLayer)           [(None, 1)]          0                                            \n",
      "__________________________________________________________________________________________________\n",
      "input_37 (InputLayer)           [(None, 1)]          0                                            \n",
      "__________________________________________________________________________________________________\n",
      "embedding_18 (Embedding)        (None, 1, 20)        1580        input_20[0][0]                   \n",
      "__________________________________________________________________________________________________\n",
      "embedding_19 (Embedding)        (None, 1, 7)         91          input_21[0][0]                   \n",
      "__________________________________________________________________________________________________\n",
      "embedding_20 (Embedding)        (None, 1, 3)         15          input_22[0][0]                   \n",
      "__________________________________________________________________________________________________\n",
      "embedding_21 (Embedding)        (None, 1, 5)         45          input_23[0][0]                   \n",
      "__________________________________________________________________________________________________\n",
      "embedding_22 (Embedding)        (None, 1, 2)         8           input_24[0][0]                   \n",
      "__________________________________________________________________________________________________\n",
      "embedding_23 (Embedding)        (None, 1, 2)         8           input_25[0][0]                   \n",
      "__________________________________________________________________________________________________\n",
      "embedding_24 (Embedding)        (None, 1, 2)         8           input_26[0][0]                   \n",
      "__________________________________________________________________________________________________\n",
      "embedding_25 (Embedding)        (None, 1, 2)         6           input_27[0][0]                   \n",
      "__________________________________________________________________________________________________\n",
      "embedding_26 (Embedding)        (None, 1, 6)         66          input_28[0][0]                   \n",
      "__________________________________________________________________________________________________\n",
      "embedding_27 (Embedding)        (None, 1, 3)         18          input_29[0][0]                   \n",
      "__________________________________________________________________________________________________\n",
      "embedding_28 (Embedding)        (None, 1, 20)        860         input_30[0][0]                   \n",
      "__________________________________________________________________________________________________\n",
      "embedding_29 (Embedding)        (None, 1, 14)        392         input_31[0][0]                   \n",
      "__________________________________________________________________________________________________\n",
      "embedding_30 (Embedding)        (None, 1, 5)         45          input_32[0][0]                   \n",
      "__________________________________________________________________________________________________\n",
      "embedding_31 (Embedding)        (None, 1, 2)         8           input_33[0][0]                   \n",
      "__________________________________________________________________________________________________\n",
      "embedding_32 (Embedding)        (None, 1, 6)         66          input_34[0][0]                   \n",
      "__________________________________________________________________________________________________\n",
      "embedding_33 (Embedding)        (None, 1, 14)        378         input_35[0][0]                   \n",
      "__________________________________________________________________________________________________\n",
      "embedding_34 (Embedding)        (None, 1, 14)        378         input_36[0][0]                   \n",
      "__________________________________________________________________________________________________\n",
      "embedding_35 (Embedding)        (None, 1, 6)         72          input_37[0][0]                   \n",
      "__________________________________________________________________________________________________\n",
      "concatenate_2 (Concatenate)     (None, 1, 133)       0           embedding_18[0][0]               \n",
      "                                                                 embedding_19[0][0]               \n",
      "                                                                 embedding_20[0][0]               \n",
      "                                                                 embedding_21[0][0]               \n",
      "                                                                 embedding_22[0][0]               \n",
      "                                                                 embedding_23[0][0]               \n",
      "                                                                 embedding_24[0][0]               \n",
      "                                                                 embedding_25[0][0]               \n",
      "                                                                 embedding_26[0][0]               \n",
      "                                                                 embedding_27[0][0]               \n",
      "                                                                 embedding_28[0][0]               \n",
      "                                                                 embedding_29[0][0]               \n",
      "                                                                 embedding_30[0][0]               \n",
      "                                                                 embedding_31[0][0]               \n",
      "                                                                 embedding_32[0][0]               \n",
      "                                                                 embedding_33[0][0]               \n",
      "                                                                 embedding_34[0][0]               \n",
      "                                                                 embedding_35[0][0]               \n",
      "__________________________________________________________________________________________________\n",
      "reshape_1 (Reshape)             (None, 133)          0           concatenate_2[0][0]              \n",
      "__________________________________________________________________________________________________\n",
      "alpha_dropout (AlphaDropout)    (None, 133)          0           reshape_1[0][0]                  \n",
      "__________________________________________________________________________________________________\n",
      "input_38 (InputLayer)           [(None, 2)]          0                                            \n",
      "__________________________________________________________________________________________________\n",
      "concatenate_3 (Concatenate)     (None, 135)          0           alpha_dropout[0][0]              \n",
      "                                                                 input_38[0][0]                   \n",
      "__________________________________________________________________________________________________\n",
      "dense_4 (Dense)                 (None, 1080)         146880      concatenate_3[0][0]              \n",
      "__________________________________________________________________________________________________\n",
      "alpha_dropout_1 (AlphaDropout)  (None, 1080)         0           dense_4[0][0]                    \n",
      "__________________________________________________________________________________________________\n",
      "dense_5 (Dense)                 (None, 720)          778320      alpha_dropout_1[0][0]            \n",
      "__________________________________________________________________________________________________\n",
      "alpha_dropout_2 (AlphaDropout)  (None, 720)          0           dense_5[0][0]                    \n",
      "__________________________________________________________________________________________________\n",
      "dense_6 (Dense)                 (None, 361)          260281      alpha_dropout_2[0][0]            \n",
      "__________________________________________________________________________________________________\n",
      "alpha_dropout_3 (AlphaDropout)  (None, 361)          0           dense_6[0][0]                    \n",
      "__________________________________________________________________________________________________\n",
      "dense_7 (Dense)                 (None, 2)            724         alpha_dropout_3[0][0]            \n",
      "==================================================================================================\n",
      "Total params: 1,190,249\n",
      "Trainable params: 1,190,249\n",
      "Non-trainable params: 0\n",
      "__________________________________________________________________________________________________\n"
     ]
    },
    {
     "data": {
      "application/javascript": [
       "\n",
       "            setTimeout(function() {\n",
       "                var nbb_cell_id = 20;\n",
       "                var nbb_unformatted_code = \"model_snn.network.summary()\";\n",
       "                var nbb_formatted_code = \"model_snn.network.summary()\";\n",
       "                var nbb_cells = Jupyter.notebook.get_cells();\n",
       "                for (var i = 0; i < nbb_cells.length; ++i) {\n",
       "                    if (nbb_cells[i].input_prompt_number == nbb_cell_id) {\n",
       "                        if (nbb_cells[i].get_text() == nbb_unformatted_code) {\n",
       "                             nbb_cells[i].set_text(nbb_formatted_code);\n",
       "                        }\n",
       "                        break;\n",
       "                    }\n",
       "                }\n",
       "            }, 500);\n",
       "            "
      ],
      "text/plain": [
       "<IPython.core.display.Javascript object>"
      ]
     },
     "metadata": {},
     "output_type": "display_data"
    }
   ],
   "source": [
    "model_snn.network.summary()"
   ]
  },
  {
   "cell_type": "markdown",
   "metadata": {},
   "source": [
    "### Predictions"
   ]
  },
  {
   "cell_type": "code",
   "execution_count": 21,
   "metadata": {},
   "outputs": [
    {
     "data": {
      "image/png": "[encoded data removed]",
      "text/plain": [
       "<Figure size 432x288 with 1 Axes>"
      ]
     },
     "metadata": {
      "needs_background": "light"
     },
     "output_type": "display_data"
    },
    {
     "data": {
      "application/javascript": [
       "\n",
       "            setTimeout(function() {\n",
       "                var nbb_cell_id = 21;\n",
       "                var nbb_unformatted_code = \"plot_history(history)\";\n",
       "                var nbb_formatted_code = \"plot_history(history)\";\n",
       "                var nbb_cells = Jupyter.notebook.get_cells();\n",
       "                for (var i = 0; i < nbb_cells.length; ++i) {\n",
       "                    if (nbb_cells[i].input_prompt_number == nbb_cell_id) {\n",
       "                        if (nbb_cells[i].get_text() == nbb_unformatted_code) {\n",
       "                             nbb_cells[i].set_text(nbb_formatted_code);\n",
       "                        }\n",
       "                        break;\n",
       "                    }\n",
       "                }\n",
       "            }, 500);\n",
       "            "
      ],
      "text/plain": [
       "<IPython.core.display.Javascript object>"
      ]
     },
     "metadata": {},
     "output_type": "display_data"
    }
   ],
   "source": [
    "plot_history(history)"
   ]
  },
  {
   "cell_type": "code",
   "execution_count": 22,
   "metadata": {},
   "outputs": [
    {
     "data": {
      "image/png": "[encoded data removed]",
      "text/plain": [
       "<Figure size 432x288 with 1 Axes>"
      ]
     },
     "metadata": {
      "needs_background": "light"
     },
     "output_type": "display_data"
    },
    {
     "data": {
      "application/javascript": [
       "\n",
       "            setTimeout(function() {\n",
       "                var nbb_cell_id = 22;\n",
       "                var nbb_unformatted_code = \"plot_history(history_snn)\";\n",
       "                var nbb_formatted_code = \"plot_history(history_snn)\";\n",
       "                var nbb_cells = Jupyter.notebook.get_cells();\n",
       "                for (var i = 0; i < nbb_cells.length; ++i) {\n",
       "                    if (nbb_cells[i].input_prompt_number == nbb_cell_id) {\n",
       "                        if (nbb_cells[i].get_text() == nbb_unformatted_code) {\n",
       "                             nbb_cells[i].set_text(nbb_formatted_code);\n",
       "                        }\n",
       "                        break;\n",
       "                    }\n",
       "                }\n",
       "            }, 500);\n",
       "            "
      ],
      "text/plain": [
       "<IPython.core.display.Javascript object>"
      ]
     },
     "metadata": {},
     "output_type": "display_data"
    }
   ],
   "source": [
    "plot_history(history_snn)"
   ]
  },
  {
   "cell_type": "code",
   "execution_count": 23,
   "metadata": {},
   "outputs": [
    {
     "name": "stdout",
     "output_type": "stream",
     "text": [
      "FINAL TEST SCORE FOR bank-additional-full : 0.9458906993511176\n"
     ]
    },
    {
     "data": {
      "application/javascript": [
       "\n",
       "            setTimeout(function() {\n",
       "                var nbb_cell_id = 23;\n",
       "                var nbb_unformatted_code = \"y_pred = model.predict_proba(X_test_prep)\\ntest_auc = roc_auc_score(y_score=y_pred[:, 1], y_true=y_test)\\nprint(f\\\"FINAL TEST SCORE FOR {dataset_name} : {test_auc}\\\")\";\n",
       "                var nbb_formatted_code = \"y_pred = model.predict_proba(X_test_prep)\\ntest_auc = roc_auc_score(y_score=y_pred[:, 1], y_true=y_test)\\nprint(f\\\"FINAL TEST SCORE FOR {dataset_name} : {test_auc}\\\")\";\n",
       "                var nbb_cells = Jupyter.notebook.get_cells();\n",
       "                for (var i = 0; i < nbb_cells.length; ++i) {\n",
       "                    if (nbb_cells[i].input_prompt_number == nbb_cell_id) {\n",
       "                        if (nbb_cells[i].get_text() == nbb_unformatted_code) {\n",
       "                             nbb_cells[i].set_text(nbb_formatted_code);\n",
       "                        }\n",
       "                        break;\n",
       "                    }\n",
       "                }\n",
       "            }, 500);\n",
       "            "
      ],
      "text/plain": [
       "<IPython.core.display.Javascript object>"
      ]
     },
     "metadata": {},
     "output_type": "display_data"
    }
   ],
   "source": [
    "y_pred = model.predict_proba(X_test_prep)\n",
    "test_auc = roc_auc_score(y_score=y_pred[:, 1], y_true=y_test)\n",
    "print(f\"FINAL TEST SCORE FOR {dataset_name} : {test_auc}\")"
   ]
  },
  {
   "cell_type": "code",
   "execution_count": 24,
   "metadata": {},
   "outputs": [
    {
     "name": "stdout",
     "output_type": "stream",
     "text": [
      "FINAL TEST SCORE FOR bank-additional-full : 0.9495036770007209\n"
     ]
    },
    {
     "data": {
      "application/javascript": [
       "\n",
       "            setTimeout(function() {\n",
       "                var nbb_cell_id = 24;\n",
       "                var nbb_unformatted_code = \"y_pred = model_snn.predict_proba(X_test_prep)\\ntest_auc = roc_auc_score(y_score=y_pred[:, 1], y_true=y_test)\\nprint(f\\\"FINAL TEST SCORE FOR {dataset_name} : {test_auc}\\\")\";\n",
       "                var nbb_formatted_code = \"y_pred = model_snn.predict_proba(X_test_prep)\\ntest_auc = roc_auc_score(y_score=y_pred[:, 1], y_true=y_test)\\nprint(f\\\"FINAL TEST SCORE FOR {dataset_name} : {test_auc}\\\")\";\n",
       "                var nbb_cells = Jupyter.notebook.get_cells();\n",
       "                for (var i = 0; i < nbb_cells.length; ++i) {\n",
       "                    if (nbb_cells[i].input_prompt_number == nbb_cell_id) {\n",
       "                        if (nbb_cells[i].get_text() == nbb_unformatted_code) {\n",
       "                             nbb_cells[i].set_text(nbb_formatted_code);\n",
       "                        }\n",
       "                        break;\n",
       "                    }\n",
       "                }\n",
       "            }, 500);\n",
       "            "
      ],
      "text/plain": [
       "<IPython.core.display.Javascript object>"
      ]
     },
     "metadata": {},
     "output_type": "display_data"
    }
   ],
   "source": [
    "y_pred = model_snn.predict_proba(X_test_prep)\n",
    "test_auc = roc_auc_score(y_score=y_pred[:, 1], y_true=y_test)\n",
    "print(f\"FINAL TEST SCORE FOR {dataset_name} : {test_auc}\")"
   ]
  },
  {
   "cell_type": "code",
   "execution_count": null,
   "metadata": {},
   "outputs": [],
   "source": []
  }
 ],
 "metadata": {
  "kernelspec": {
   "display_name": "Python 3",
   "language": "python",
   "name": "python3"
  },
  "language_info": {
   "codemirror_mode": {
    "name": "ipython",
    "version": 3
   },
   "file_extension": ".py",
   "mimetype": "text/x-python",
   "name": "python",
   "nbconvert_exporter": "python",
   "pygments_lexer": "ipython3",
   "version": "3.7.7"
  }
 },
 "nbformat": 4,
 "nbformat_minor": 2
}
