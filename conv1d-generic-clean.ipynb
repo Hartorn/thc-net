{
 "cells": [
  {
   "cell_type": "code",
   "execution_count": 1,
   "metadata": {
    "ExecuteTime": {
     "end_time": "2020-05-25T20:59:43.941660Z",
     "start_time": "2020-05-25T20:59:43.833639Z"
    }
   },
   "outputs": [
    {
     "data": {
      "application/javascript": [
       "\n",
       "            setTimeout(function() {\n",
       "                var nbb_cell_id = 1;\n",
       "                var nbb_unformatted_code = \"%load_ext nb_black\";\n",
       "                var nbb_formatted_code = \"%load_ext nb_black\";\n",
       "                var nbb_cells = Jupyter.notebook.get_cells();\n",
       "                for (var i = 0; i < nbb_cells.length; ++i) {\n",
       "                    if (nbb_cells[i].input_prompt_number == nbb_cell_id) {\n",
       "                        if (nbb_cells[i].get_text() == nbb_unformatted_code) {\n",
       "                             nbb_cells[i].set_text(nbb_formatted_code);\n",
       "                        }\n",
       "                        break;\n",
       "                    }\n",
       "                }\n",
       "            }, 500);\n",
       "            "
      ],
      "text/plain": [
       "<IPython.core.display.Javascript object>"
      ]
     },
     "metadata": {},
     "output_type": "display_data"
    }
   ],
   "source": [
    "%load_ext nb_black"
   ]
  },
  {
   "cell_type": "code",
   "execution_count": 24,
   "metadata": {
    "ExecuteTime": {
     "end_time": "2020-05-25T20:59:44.433824Z",
     "start_time": "2020-05-25T20:59:43.943368Z"
    }
   },
   "outputs": [
    {
     "data": {
      "application/javascript": [
       "\n",
       "            setTimeout(function() {\n",
       "                var nbb_cell_id = 24;\n",
       "                var nbb_unformatted_code = \"import os\\nfrom pathlib import Path\\n\\nfrom requests import get\\nimport pandas as pd\\nimport numpy as np\\n\\nfrom sklearn.metrics import roc_auc_score, log_loss\\nfrom sklearn.preprocessing import LabelEncoder\\nfrom tensorflow.keras.utils import plot_model\\nfrom tensorflow.keras.callbacks import EarlyStopping\\n\\nimport logging\\n\\nlogging.basicConfig(level=logging.WARN)\";\n",
       "                var nbb_formatted_code = \"import os\\nfrom pathlib import Path\\n\\nfrom requests import get\\nimport pandas as pd\\nimport numpy as np\\n\\nfrom sklearn.metrics import roc_auc_score, log_loss\\nfrom sklearn.preprocessing import LabelEncoder\\nfrom tensorflow.keras.utils import plot_model\\nfrom tensorflow.keras.callbacks import EarlyStopping\\n\\nimport logging\\n\\nlogging.basicConfig(level=logging.WARN)\";\n",
       "                var nbb_cells = Jupyter.notebook.get_cells();\n",
       "                for (var i = 0; i < nbb_cells.length; ++i) {\n",
       "                    if (nbb_cells[i].input_prompt_number == nbb_cell_id) {\n",
       "                        if (nbb_cells[i].get_text() == nbb_unformatted_code) {\n",
       "                             nbb_cells[i].set_text(nbb_formatted_code);\n",
       "                        }\n",
       "                        break;\n",
       "                    }\n",
       "                }\n",
       "            }, 500);\n",
       "            "
      ],
      "text/plain": [
       "<IPython.core.display.Javascript object>"
      ]
     },
     "metadata": {},
     "output_type": "display_data"
    }
   ],
   "source": [
    "import os\n",
    "from pathlib import Path\n",
    "\n",
    "from requests import get\n",
    "import pandas as pd\n",
    "import numpy as np\n",
    "\n",
    "from sklearn.metrics import roc_auc_score, log_loss\n",
    "from sklearn.preprocessing import LabelEncoder\n",
    "from tensorflow.keras.utils import plot_model\n",
    "from tensorflow.keras.callbacks import EarlyStopping\n",
    "\n",
    "import logging\n",
    "\n",
    "logging.basicConfig(level=logging.WARN)"
   ]
  },
  {
   "cell_type": "code",
   "execution_count": 3,
   "metadata": {},
   "outputs": [
    {
     "data": {
      "application/javascript": [
       "\n",
       "            setTimeout(function() {\n",
       "                var nbb_cell_id = 3;\n",
       "                var nbb_unformatted_code = \"from thc_net.explainable_model.input_utils import preproc_dataset\\nfrom thc_net.explainable_model.model import build_model\\nfrom thc_net.explainable_model.random_utils import setup_seed\\n\\nimport matplotlib.pyplot as plt\\nfrom matplotlib.pyplot import imshow\\n\\n%matplotlib inline\";\n",
       "                var nbb_formatted_code = \"from thc_net.explainable_model.input_utils import preproc_dataset\\nfrom thc_net.explainable_model.model import build_model\\nfrom thc_net.explainable_model.random_utils import setup_seed\\n\\nimport matplotlib.pyplot as plt\\nfrom matplotlib.pyplot import imshow\\n\\n%matplotlib inline\";\n",
       "                var nbb_cells = Jupyter.notebook.get_cells();\n",
       "                for (var i = 0; i < nbb_cells.length; ++i) {\n",
       "                    if (nbb_cells[i].input_prompt_number == nbb_cell_id) {\n",
       "                        if (nbb_cells[i].get_text() == nbb_unformatted_code) {\n",
       "                             nbb_cells[i].set_text(nbb_formatted_code);\n",
       "                        }\n",
       "                        break;\n",
       "                    }\n",
       "                }\n",
       "            }, 500);\n",
       "            "
      ],
      "text/plain": [
       "<IPython.core.display.Javascript object>"
      ]
     },
     "metadata": {},
     "output_type": "display_data"
    }
   ],
   "source": [
    "from thc_net.explainable_model.input_utils import preproc_dataset\n",
    "from thc_net.explainable_model.model import build_model\n",
    "from thc_net.explainable_model.random_utils import setup_seed\n",
    "\n",
    "import matplotlib.pyplot as plt\n",
    "from matplotlib.pyplot import imshow\n",
    "\n",
    "%matplotlib inline"
   ]
  },
  {
   "cell_type": "code",
   "execution_count": 4,
   "metadata": {
    "ExecuteTime": {
     "end_time": "2020-05-25T20:59:46.106802Z",
     "start_time": "2020-05-25T20:59:46.020842Z"
    }
   },
   "outputs": [
    {
     "data": {
      "application/javascript": [
       "\n",
       "            setTimeout(function() {\n",
       "                var nbb_cell_id = 4;\n",
       "                var nbb_unformatted_code = \"def download(url, out, force=False, verify=True):\\n    out.parent.mkdir(parents=True, exist_ok=True)\\n    if force and out.exists():\\n        print(f\\\"Removing file at {str(out)}\\\")\\n        out.unlink()\\n\\n    if out.exists():\\n        print(\\\"File already exists.\\\")\\n        return\\n    print(f\\\"Downloading {url} at {str(out)} ...\\\")\\n    # open in binary mode\\n    with out.open(mode=\\\"wb\\\") as file:\\n        # get request\\n        response = get(url, verify=verify)\\n        for chunk in response.iter_content(100000):\\n            # write to file\\n            file.write(chunk)\";\n",
       "                var nbb_formatted_code = \"def download(url, out, force=False, verify=True):\\n    out.parent.mkdir(parents=True, exist_ok=True)\\n    if force and out.exists():\\n        print(f\\\"Removing file at {str(out)}\\\")\\n        out.unlink()\\n\\n    if out.exists():\\n        print(\\\"File already exists.\\\")\\n        return\\n    print(f\\\"Downloading {url} at {str(out)} ...\\\")\\n    # open in binary mode\\n    with out.open(mode=\\\"wb\\\") as file:\\n        # get request\\n        response = get(url, verify=verify)\\n        for chunk in response.iter_content(100000):\\n            # write to file\\n            file.write(chunk)\";\n",
       "                var nbb_cells = Jupyter.notebook.get_cells();\n",
       "                for (var i = 0; i < nbb_cells.length; ++i) {\n",
       "                    if (nbb_cells[i].input_prompt_number == nbb_cell_id) {\n",
       "                        if (nbb_cells[i].get_text() == nbb_unformatted_code) {\n",
       "                             nbb_cells[i].set_text(nbb_formatted_code);\n",
       "                        }\n",
       "                        break;\n",
       "                    }\n",
       "                }\n",
       "            }, 500);\n",
       "            "
      ],
      "text/plain": [
       "<IPython.core.display.Javascript object>"
      ]
     },
     "metadata": {},
     "output_type": "display_data"
    }
   ],
   "source": [
    "def download(url, out, force=False, verify=True):\n",
    "    out.parent.mkdir(parents=True, exist_ok=True)\n",
    "    if force and out.exists():\n",
    "        print(f\"Removing file at {str(out)}\")\n",
    "        out.unlink()\n",
    "\n",
    "    if out.exists():\n",
    "        print(\"File already exists.\")\n",
    "        return\n",
    "    print(f\"Downloading {url} at {str(out)} ...\")\n",
    "    # open in binary mode\n",
    "    with out.open(mode=\"wb\") as file:\n",
    "        # get request\n",
    "        response = get(url, verify=verify)\n",
    "        for chunk in response.iter_content(100000):\n",
    "            # write to file\n",
    "            file.write(chunk)\n"
   ]
  },
  {
   "cell_type": "code",
   "execution_count": 5,
   "metadata": {
    "ExecuteTime": {
     "end_time": "2020-05-25T20:59:46.210035Z",
     "start_time": "2020-05-25T20:59:46.110562Z"
    }
   },
   "outputs": [
    {
     "data": {
      "application/javascript": [
       "\n",
       "            setTimeout(function() {\n",
       "                var nbb_cell_id = 5;\n",
       "                var nbb_unformatted_code = \"def plot_history(history):\\n    loss_list = [s for s in history.history.keys() if \\\"loss\\\" in s and \\\"val\\\" not in s]\\n    val_loss_list = [s for s in history.history.keys() if \\\"loss\\\" in s and \\\"val\\\" in s]\\n    acc_list = [s for s in history.history.keys() if \\\"AUC\\\" in s and \\\"val\\\" not in s]\\n    val_acc_list = [s for s in history.history.keys() if \\\"AUC\\\" in s and \\\"val\\\" in s]\\n\\n    if len(loss_list) == 0:\\n        print(\\\"Loss is missing in history\\\")\\n        return\\n\\n    ## As loss always exists\\n    epochs = range(1, len(history.history[loss_list[0]]) + 1)\\n\\n    ## Loss\\n    plt.figure(1)\\n    for l in loss_list:\\n        plt.plot(\\n            epochs,\\n            history.history[l],\\n            \\\"b\\\",\\n            label=\\\"Training loss (\\\"\\n            + str(str(format(history.history[l][-1], \\\".5f\\\")) + \\\")\\\"),\\n        )\\n    for l in val_loss_list:\\n        plt.plot(\\n            epochs,\\n            history.history[l],\\n            \\\"g\\\",\\n            label=\\\"Validation loss (\\\"\\n            + str(str(format(history.history[l][-1], \\\".5f\\\")) + \\\")\\\"),\\n        )\\n\\n    plt.title(\\\"Loss\\\")\\n    plt.xlabel(\\\"Epochs\\\")\\n    plt.ylabel(\\\"Loss\\\")\\n    plt.legend()\\n\\n    plt.show()\";\n",
       "                var nbb_formatted_code = \"def plot_history(history):\\n    loss_list = [s for s in history.history.keys() if \\\"loss\\\" in s and \\\"val\\\" not in s]\\n    val_loss_list = [s for s in history.history.keys() if \\\"loss\\\" in s and \\\"val\\\" in s]\\n    acc_list = [s for s in history.history.keys() if \\\"AUC\\\" in s and \\\"val\\\" not in s]\\n    val_acc_list = [s for s in history.history.keys() if \\\"AUC\\\" in s and \\\"val\\\" in s]\\n\\n    if len(loss_list) == 0:\\n        print(\\\"Loss is missing in history\\\")\\n        return\\n\\n    ## As loss always exists\\n    epochs = range(1, len(history.history[loss_list[0]]) + 1)\\n\\n    ## Loss\\n    plt.figure(1)\\n    for l in loss_list:\\n        plt.plot(\\n            epochs,\\n            history.history[l],\\n            \\\"b\\\",\\n            label=\\\"Training loss (\\\"\\n            + str(str(format(history.history[l][-1], \\\".5f\\\")) + \\\")\\\"),\\n        )\\n    for l in val_loss_list:\\n        plt.plot(\\n            epochs,\\n            history.history[l],\\n            \\\"g\\\",\\n            label=\\\"Validation loss (\\\"\\n            + str(str(format(history.history[l][-1], \\\".5f\\\")) + \\\")\\\"),\\n        )\\n\\n    plt.title(\\\"Loss\\\")\\n    plt.xlabel(\\\"Epochs\\\")\\n    plt.ylabel(\\\"Loss\\\")\\n    plt.legend()\\n\\n    plt.show()\";\n",
       "                var nbb_cells = Jupyter.notebook.get_cells();\n",
       "                for (var i = 0; i < nbb_cells.length; ++i) {\n",
       "                    if (nbb_cells[i].input_prompt_number == nbb_cell_id) {\n",
       "                        if (nbb_cells[i].get_text() == nbb_unformatted_code) {\n",
       "                             nbb_cells[i].set_text(nbb_formatted_code);\n",
       "                        }\n",
       "                        break;\n",
       "                    }\n",
       "                }\n",
       "            }, 500);\n",
       "            "
      ],
      "text/plain": [
       "<IPython.core.display.Javascript object>"
      ]
     },
     "metadata": {},
     "output_type": "display_data"
    }
   ],
   "source": [
    "def plot_history(history):\n",
    "    loss_list = [s for s in history.history.keys() if \"loss\" in s and \"val\" not in s]\n",
    "    val_loss_list = [s for s in history.history.keys() if \"loss\" in s and \"val\" in s]\n",
    "    acc_list = [s for s in history.history.keys() if \"AUC\" in s and \"val\" not in s]\n",
    "    val_acc_list = [s for s in history.history.keys() if \"AUC\" in s and \"val\" in s]\n",
    "\n",
    "    if len(loss_list) == 0:\n",
    "        print(\"Loss is missing in history\")\n",
    "        return\n",
    "\n",
    "    ## As loss always exists\n",
    "    epochs = range(1, len(history.history[loss_list[0]]) + 1)\n",
    "\n",
    "    ## Loss\n",
    "    plt.figure(1)\n",
    "    for l in loss_list:\n",
    "        plt.plot(\n",
    "            epochs,\n",
    "            history.history[l],\n",
    "            \"b\",\n",
    "            label=\"Training loss (\"\n",
    "            + str(str(format(history.history[l][-1], \".5f\")) + \")\"),\n",
    "        )\n",
    "    for l in val_loss_list:\n",
    "        plt.plot(\n",
    "            epochs,\n",
    "            history.history[l],\n",
    "            \"g\",\n",
    "            label=\"Validation loss (\"\n",
    "            + str(str(format(history.history[l][-1], \".5f\")) + \")\"),\n",
    "        )\n",
    "\n",
    "    plt.title(\"Loss\")\n",
    "    plt.xlabel(\"Epochs\")\n",
    "    plt.ylabel(\"Loss\")\n",
    "    plt.legend()\n",
    "\n",
    "    plt.show()"
   ]
  },
  {
   "cell_type": "code",
   "execution_count": 6,
   "metadata": {},
   "outputs": [
    {
     "data": {
      "application/javascript": [
       "\n",
       "            setTimeout(function() {\n",
       "                var nbb_cell_id = 6;\n",
       "                var nbb_unformatted_code = \"dataset_name = \\\"bank-marketing\\\"\\nfilename = \\\"train_bench.csv\\\"\\ntarget = \\\"y\\\"\\nids = []\";\n",
       "                var nbb_formatted_code = \"dataset_name = \\\"bank-marketing\\\"\\nfilename = \\\"train_bench.csv\\\"\\ntarget = \\\"y\\\"\\nids = []\";\n",
       "                var nbb_cells = Jupyter.notebook.get_cells();\n",
       "                for (var i = 0; i < nbb_cells.length; ++i) {\n",
       "                    if (nbb_cells[i].input_prompt_number == nbb_cell_id) {\n",
       "                        if (nbb_cells[i].get_text() == nbb_unformatted_code) {\n",
       "                             nbb_cells[i].set_text(nbb_formatted_code);\n",
       "                        }\n",
       "                        break;\n",
       "                    }\n",
       "                }\n",
       "            }, 500);\n",
       "            "
      ],
      "text/plain": [
       "<IPython.core.display.Javascript object>"
      ]
     },
     "metadata": {},
     "output_type": "display_data"
    }
   ],
   "source": [
    "dataset_name = \"bank-marketing\"\n",
    "filename = \"train_bench.csv\"\n",
    "target = \"y\"\n",
    "ids = []"
   ]
  },
  {
   "cell_type": "raw",
   "metadata": {},
   "source": [
    "dataset_name = \"portoseguro\"\n",
    "filename = \"train_bench.csv\"\n",
    "target = \"target\"\n",
    "ids = []"
   ]
  },
  {
   "cell_type": "markdown",
   "metadata": {},
   "source": [
    "dataset_name = \"census-income\"\n",
    "filename = \"train_bench.csv\"\n",
    "target = \"taxable income amount\"\n",
    "ids = []"
   ]
  },
  {
   "cell_type": "markdown",
   "metadata": {},
   "source": [
    "dataset_name = \"rl\"\n",
    "filename = \"train_bench.csv\"\n",
    "target = \"target\"\n",
    "ids = []"
   ]
  },
  {
   "cell_type": "raw",
   "metadata": {},
   "source": [
    "dataset_name = \"open-payments\"\n",
    "filename = \"train_bench.csv\"\n",
    "target = \"status\"\n",
    "ids = []"
   ]
  },
  {
   "cell_type": "raw",
   "metadata": {},
   "source": [
    "dataset_name = \"give-me-some-credit\"\n",
    "filename = \"train_bench.csv\"\n",
    "target = \"SeriousDlqin2yrs\"\n",
    "ids = [\"Unamed\"]"
   ]
  },
  {
   "cell_type": "raw",
   "metadata": {},
   "source": [
    "dataset_name = \"amazon\"\n",
    "filename = \"train_bench.csv\"\n",
    "target = \"ACTION\"\n",
    "ids = []"
   ]
  },
  {
   "cell_type": "raw",
   "metadata": {},
   "source": [
    "dataset_name = \"santander-customer-satisfaction\"\n",
    "filename = \"train_bench.csv\"\n",
    "target = \"TARGET\"\n",
    "ids = []"
   ]
  },
  {
   "cell_type": "code",
   "execution_count": 7,
   "metadata": {},
   "outputs": [
    {
     "data": {
      "application/javascript": [
       "\n",
       "            setTimeout(function() {\n",
       "                var nbb_cell_id = 7;\n",
       "                var nbb_unformatted_code = \"out = Path(os.getcwd()) / \\\"data\\\" / dataset_name / filename\";\n",
       "                var nbb_formatted_code = \"out = Path(os.getcwd()) / \\\"data\\\" / dataset_name / filename\";\n",
       "                var nbb_cells = Jupyter.notebook.get_cells();\n",
       "                for (var i = 0; i < nbb_cells.length; ++i) {\n",
       "                    if (nbb_cells[i].input_prompt_number == nbb_cell_id) {\n",
       "                        if (nbb_cells[i].get_text() == nbb_unformatted_code) {\n",
       "                             nbb_cells[i].set_text(nbb_formatted_code);\n",
       "                        }\n",
       "                        break;\n",
       "                    }\n",
       "                }\n",
       "            }, 500);\n",
       "            "
      ],
      "text/plain": [
       "<IPython.core.display.Javascript object>"
      ]
     },
     "metadata": {},
     "output_type": "display_data"
    }
   ],
   "source": [
    "out = Path(os.getcwd()) / \"data\" / dataset_name / filename"
   ]
  },
  {
   "cell_type": "code",
   "execution_count": 8,
   "metadata": {},
   "outputs": [
    {
     "data": {
      "text/plain": [
       "(41188, 21)"
      ]
     },
     "execution_count": 8,
     "metadata": {},
     "output_type": "execute_result"
    },
    {
     "data": {
      "application/javascript": [
       "\n",
       "            setTimeout(function() {\n",
       "                var nbb_cell_id = 8;\n",
       "                var nbb_unformatted_code = \"train = pd.read_csv(out)\\ntrain.shape\";\n",
       "                var nbb_formatted_code = \"train = pd.read_csv(out)\\ntrain.shape\";\n",
       "                var nbb_cells = Jupyter.notebook.get_cells();\n",
       "                for (var i = 0; i < nbb_cells.length; ++i) {\n",
       "                    if (nbb_cells[i].input_prompt_number == nbb_cell_id) {\n",
       "                        if (nbb_cells[i].get_text() == nbb_unformatted_code) {\n",
       "                             nbb_cells[i].set_text(nbb_formatted_code);\n",
       "                        }\n",
       "                        break;\n",
       "                    }\n",
       "                }\n",
       "            }, 500);\n",
       "            "
      ],
      "text/plain": [
       "<IPython.core.display.Javascript object>"
      ]
     },
     "metadata": {},
     "output_type": "display_data"
    }
   ],
   "source": [
    "train = pd.read_csv(out)\n",
    "train.shape"
   ]
  },
  {
   "cell_type": "code",
   "execution_count": 9,
   "metadata": {},
   "outputs": [
    {
     "data": {
      "application/javascript": [
       "\n",
       "            setTimeout(function() {\n",
       "                var nbb_cell_id = 9;\n",
       "                var nbb_unformatted_code = \"if \\\"Set\\\" not in train.columns:\\n    print(\\\"Building tailored column\\\")\\n    train_valid_index, test_index = next(\\n        StratifiedShuffleSplit(n_splits=1, test_size=0.1, random_state=SEED).split(\\n            range(train[target].shape[0]), train[target].values\\n        )\\n    )\\n    train_index, valid_index = next(\\n        StratifiedShuffleSplit(n_splits=1, test_size=0.1, random_state=SEED).split(\\n            train_valid_index, train[target].values[train_valid_index]\\n        )\\n    )\\n    train[\\\"Set\\\"] = \\\"train\\\"\\n    train[\\\"Set\\\"][valid_index] = \\\"valid\\\"\\n    train[\\\"Set\\\"][test_index] = \\\"test\\\"\\n    # train.to_csv((out.parent / \\\"train_bench.csv\\\").as_posix(), index=False)\";\n",
       "                var nbb_formatted_code = \"if \\\"Set\\\" not in train.columns:\\n    print(\\\"Building tailored column\\\")\\n    train_valid_index, test_index = next(\\n        StratifiedShuffleSplit(n_splits=1, test_size=0.1, random_state=SEED).split(\\n            range(train[target].shape[0]), train[target].values\\n        )\\n    )\\n    train_index, valid_index = next(\\n        StratifiedShuffleSplit(n_splits=1, test_size=0.1, random_state=SEED).split(\\n            train_valid_index, train[target].values[train_valid_index]\\n        )\\n    )\\n    train[\\\"Set\\\"] = \\\"train\\\"\\n    train[\\\"Set\\\"][valid_index] = \\\"valid\\\"\\n    train[\\\"Set\\\"][test_index] = \\\"test\\\"\\n    # train.to_csv((out.parent / \\\"train_bench.csv\\\").as_posix(), index=False)\";\n",
       "                var nbb_cells = Jupyter.notebook.get_cells();\n",
       "                for (var i = 0; i < nbb_cells.length; ++i) {\n",
       "                    if (nbb_cells[i].input_prompt_number == nbb_cell_id) {\n",
       "                        if (nbb_cells[i].get_text() == nbb_unformatted_code) {\n",
       "                             nbb_cells[i].set_text(nbb_formatted_code);\n",
       "                        }\n",
       "                        break;\n",
       "                    }\n",
       "                }\n",
       "            }, 500);\n",
       "            "
      ],
      "text/plain": [
       "<IPython.core.display.Javascript object>"
      ]
     },
     "metadata": {},
     "output_type": "display_data"
    }
   ],
   "source": [
    "if \"Set\" not in train.columns:\n",
    "    print(\"Building tailored column\")\n",
    "    train_valid_index, test_index = next(\n",
    "        StratifiedShuffleSplit(n_splits=1, test_size=0.1, random_state=SEED).split(\n",
    "            range(train[target].shape[0]), train[target].values\n",
    "        )\n",
    "    )\n",
    "    train_index, valid_index = next(\n",
    "        StratifiedShuffleSplit(n_splits=1, test_size=0.1, random_state=SEED).split(\n",
    "            train_valid_index, train[target].values[train_valid_index]\n",
    "        )\n",
    "    )\n",
    "    train[\"Set\"] = \"train\"\n",
    "    train[\"Set\"][valid_index] = \"valid\"\n",
    "    train[\"Set\"][test_index] = \"test\"\n",
    "    # train.to_csv((out.parent / \"train_bench.csv\").as_posix(), index=False)"
   ]
  },
  {
   "cell_type": "code",
   "execution_count": 10,
   "metadata": {},
   "outputs": [
    {
     "data": {
      "application/javascript": [
       "\n",
       "            setTimeout(function() {\n",
       "                var nbb_cell_id = 10;\n",
       "                var nbb_unformatted_code = \"train_indices = train[train.Set == \\\"train\\\"].index\\nvalid_indices = train[train.Set == \\\"valid\\\"].index\\ntest_indices = train[train.Set == \\\"test\\\"].index\";\n",
       "                var nbb_formatted_code = \"train_indices = train[train.Set == \\\"train\\\"].index\\nvalid_indices = train[train.Set == \\\"valid\\\"].index\\ntest_indices = train[train.Set == \\\"test\\\"].index\";\n",
       "                var nbb_cells = Jupyter.notebook.get_cells();\n",
       "                for (var i = 0; i < nbb_cells.length; ++i) {\n",
       "                    if (nbb_cells[i].input_prompt_number == nbb_cell_id) {\n",
       "                        if (nbb_cells[i].get_text() == nbb_unformatted_code) {\n",
       "                             nbb_cells[i].set_text(nbb_formatted_code);\n",
       "                        }\n",
       "                        break;\n",
       "                    }\n",
       "                }\n",
       "            }, 500);\n",
       "            "
      ],
      "text/plain": [
       "<IPython.core.display.Javascript object>"
      ]
     },
     "metadata": {},
     "output_type": "display_data"
    }
   ],
   "source": [
    "train_indices = train[train.Set == \"train\"].index\n",
    "valid_indices = train[train.Set == \"valid\"].index\n",
    "test_indices = train[train.Set == \"test\"].index"
   ]
  },
  {
   "cell_type": "code",
   "execution_count": 11,
   "metadata": {},
   "outputs": [
    {
     "data": {
      "text/plain": [
       "{'constant_cols': [],\n",
       " 'bool_cols': ['contact'],\n",
       " 'num_cols': ['euribor3m',\n",
       "  'nr_employed',\n",
       "  'pdays',\n",
       "  'age',\n",
       "  'previous',\n",
       "  'campaign',\n",
       "  'emp_var_rate',\n",
       "  'cons_conf_idx',\n",
       "  'cons_price_idx'],\n",
       " 'cat_cols': ['loan',\n",
       "  'month',\n",
       "  'default',\n",
       "  'day_of_week',\n",
       "  'housing',\n",
       "  'job',\n",
       "  'education',\n",
       "  'poutcome',\n",
       "  'marital'],\n",
       " 'num_encoder': [SimpleImputer(fill_value=0.460393384648371, strategy='constant'),\n",
       "  SimpleImputer(fill_value=4956.36064204546, strategy='constant'),\n",
       "  SimpleImputer(fill_value=-18.72055347235185, strategy='constant'),\n",
       "  SimpleImputer(fill_value=15.955021681255555, strategy='constant'),\n",
       "  SimpleImputer(fill_value=-0.0495943770348874, strategy='constant'),\n",
       "  SimpleImputer(fill_value=0.7241611217453983, strategy='constant'),\n",
       "  SimpleImputer(fill_value=-3.557134365384693, strategy='constant'),\n",
       "  SimpleImputer(fill_value=-51.26324405539975, strategy='constant'),\n",
       "  SimpleImputer(fill_value=92.14308060910383, strategy='constant')],\n",
       " 'bool_encoder': [SafeLabelEncoder()],\n",
       " 'nb_channels': 19}"
      ]
     },
     "execution_count": 11,
     "metadata": {},
     "output_type": "execute_result"
    },
    {
     "data": {
      "application/javascript": [
       "\n",
       "            setTimeout(function() {\n",
       "                var nbb_cell_id = 11;\n",
       "                var nbb_unformatted_code = \"input_train, params = preproc_dataset(train.loc[train_indices], target, ids + [\\\"Set\\\"])\\nparams\";\n",
       "                var nbb_formatted_code = \"input_train, params = preproc_dataset(train.loc[train_indices], target, ids + [\\\"Set\\\"])\\nparams\";\n",
       "                var nbb_cells = Jupyter.notebook.get_cells();\n",
       "                for (var i = 0; i < nbb_cells.length; ++i) {\n",
       "                    if (nbb_cells[i].input_prompt_number == nbb_cell_id) {\n",
       "                        if (nbb_cells[i].get_text() == nbb_unformatted_code) {\n",
       "                             nbb_cells[i].set_text(nbb_formatted_code);\n",
       "                        }\n",
       "                        break;\n",
       "                    }\n",
       "                }\n",
       "            }, 500);\n",
       "            "
      ],
      "text/plain": [
       "<IPython.core.display.Javascript object>"
      ]
     },
     "metadata": {},
     "output_type": "display_data"
    }
   ],
   "source": [
    "input_train, params = preproc_dataset(train.loc[train_indices], target, ids + [\"Set\"])\n",
    "params"
   ]
  },
  {
   "cell_type": "code",
   "execution_count": 12,
   "metadata": {},
   "outputs": [
    {
     "data": {
      "application/javascript": [
       "\n",
       "            setTimeout(function() {\n",
       "                var nbb_cell_id = 12;\n",
       "                var nbb_unformatted_code = \"input_valid, _ = preproc_dataset(\\n    train.loc[valid_indices], target, ids + [\\\"Set\\\"], params\\n)\\ninput_test, _ = preproc_dataset(train.loc[test_indices], target, ids + [\\\"Set\\\"], params)\";\n",
       "                var nbb_formatted_code = \"input_valid, _ = preproc_dataset(\\n    train.loc[valid_indices], target, ids + [\\\"Set\\\"], params\\n)\\ninput_test, _ = preproc_dataset(train.loc[test_indices], target, ids + [\\\"Set\\\"], params)\";\n",
       "                var nbb_cells = Jupyter.notebook.get_cells();\n",
       "                for (var i = 0; i < nbb_cells.length; ++i) {\n",
       "                    if (nbb_cells[i].input_prompt_number == nbb_cell_id) {\n",
       "                        if (nbb_cells[i].get_text() == nbb_unformatted_code) {\n",
       "                             nbb_cells[i].set_text(nbb_formatted_code);\n",
       "                        }\n",
       "                        break;\n",
       "                    }\n",
       "                }\n",
       "            }, 500);\n",
       "            "
      ],
      "text/plain": [
       "<IPython.core.display.Javascript object>"
      ]
     },
     "metadata": {},
     "output_type": "display_data"
    }
   ],
   "source": [
    "input_valid, _ = preproc_dataset(\n",
    "    train.loc[valid_indices], target, ids + [\"Set\"], params\n",
    ")\n",
    "input_test, _ = preproc_dataset(train.loc[test_indices], target, ids + [\"Set\"], params)"
   ]
  },
  {
   "cell_type": "code",
   "execution_count": 13,
   "metadata": {
    "ExecuteTime": {
     "end_time": "2020-05-25T20:59:46.566032Z",
     "start_time": "2020-05-25T20:59:46.559340Z"
    }
   },
   "outputs": [
    {
     "data": {
      "application/javascript": [
       "\n",
       "            setTimeout(function() {\n",
       "                var nbb_cell_id = 13;\n",
       "                var nbb_unformatted_code = \"target_encoder = LabelEncoder()\";\n",
       "                var nbb_formatted_code = \"target_encoder = LabelEncoder()\";\n",
       "                var nbb_cells = Jupyter.notebook.get_cells();\n",
       "                for (var i = 0; i < nbb_cells.length; ++i) {\n",
       "                    if (nbb_cells[i].input_prompt_number == nbb_cell_id) {\n",
       "                        if (nbb_cells[i].get_text() == nbb_unformatted_code) {\n",
       "                             nbb_cells[i].set_text(nbb_formatted_code);\n",
       "                        }\n",
       "                        break;\n",
       "                    }\n",
       "                }\n",
       "            }, 500);\n",
       "            "
      ],
      "text/plain": [
       "<IPython.core.display.Javascript object>"
      ]
     },
     "metadata": {},
     "output_type": "display_data"
    }
   ],
   "source": [
    "target_encoder = LabelEncoder()"
   ]
  },
  {
   "cell_type": "code",
   "execution_count": 14,
   "metadata": {
    "ExecuteTime": {
     "end_time": "2020-05-25T20:59:46.661768Z",
     "start_time": "2020-05-25T20:59:46.567593Z"
    }
   },
   "outputs": [
    {
     "data": {
      "application/javascript": [
       "\n",
       "            setTimeout(function() {\n",
       "                var nbb_cell_id = 14;\n",
       "                var nbb_unformatted_code = \"train[target] = target_encoder.fit_transform(train[target].values.reshape(-1))\\ny_train = train[target].values[train_indices]\\ny_valid = train[target].values[valid_indices]\\ny_test = train[target].values[test_indices]\";\n",
       "                var nbb_formatted_code = \"train[target] = target_encoder.fit_transform(train[target].values.reshape(-1))\\ny_train = train[target].values[train_indices]\\ny_valid = train[target].values[valid_indices]\\ny_test = train[target].values[test_indices]\";\n",
       "                var nbb_cells = Jupyter.notebook.get_cells();\n",
       "                for (var i = 0; i < nbb_cells.length; ++i) {\n",
       "                    if (nbb_cells[i].input_prompt_number == nbb_cell_id) {\n",
       "                        if (nbb_cells[i].get_text() == nbb_unformatted_code) {\n",
       "                             nbb_cells[i].set_text(nbb_formatted_code);\n",
       "                        }\n",
       "                        break;\n",
       "                    }\n",
       "                }\n",
       "            }, 500);\n",
       "            "
      ],
      "text/plain": [
       "<IPython.core.display.Javascript object>"
      ]
     },
     "metadata": {},
     "output_type": "display_data"
    }
   ],
   "source": [
    "train[target] = target_encoder.fit_transform(train[target].values.reshape(-1))\n",
    "y_train = train[target].values[train_indices]\n",
    "y_valid = train[target].values[valid_indices]\n",
    "y_test = train[target].values[test_indices]"
   ]
  },
  {
   "cell_type": "code",
   "execution_count": 15,
   "metadata": {
    "ExecuteTime": {
     "end_time": "2020-05-25T21:00:00.979562Z",
     "start_time": "2020-05-25T21:00:00.062758Z"
    }
   },
   "outputs": [
    {
     "data": {
      "application/javascript": [
       "\n",
       "            setTimeout(function() {\n",
       "                var nbb_cell_id = 15;\n",
       "                var nbb_unformatted_code = \"model = build_model(params, lconv_dim=[64, 32], lconv_num_dim=[16],)\";\n",
       "                var nbb_formatted_code = \"model = build_model(params, lconv_dim=[64, 32], lconv_num_dim=[16],)\";\n",
       "                var nbb_cells = Jupyter.notebook.get_cells();\n",
       "                for (var i = 0; i < nbb_cells.length; ++i) {\n",
       "                    if (nbb_cells[i].input_prompt_number == nbb_cell_id) {\n",
       "                        if (nbb_cells[i].get_text() == nbb_unformatted_code) {\n",
       "                             nbb_cells[i].set_text(nbb_formatted_code);\n",
       "                        }\n",
       "                        break;\n",
       "                    }\n",
       "                }\n",
       "            }, 500);\n",
       "            "
      ],
      "text/plain": [
       "<IPython.core.display.Javascript object>"
      ]
     },
     "metadata": {},
     "output_type": "display_data"
    }
   ],
   "source": [
    "model = build_model(params, lconv_dim=[64, 32], lconv_num_dim=[16],)"
   ]
  },
  {
   "cell_type": "code",
   "execution_count": 61,
   "metadata": {},
   "outputs": [
    {
     "data": {
      "text/plain": [
       "TensorShape([None, 433])"
      ]
     },
     "execution_count": 61,
     "metadata": {},
     "output_type": "execute_result"
    },
    {
     "data": {
      "application/javascript": [
       "\n",
       "            setTimeout(function() {\n",
       "                var nbb_cell_id = 61;\n",
       "                var nbb_unformatted_code = \"model.get_layer(\\\"output\\\")._build_input_shape\";\n",
       "                var nbb_formatted_code = \"model.get_layer(\\\"output\\\")._build_input_shape\";\n",
       "                var nbb_cells = Jupyter.notebook.get_cells();\n",
       "                for (var i = 0; i < nbb_cells.length; ++i) {\n",
       "                    if (nbb_cells[i].input_prompt_number == nbb_cell_id) {\n",
       "                        if (nbb_cells[i].get_text() == nbb_unformatted_code) {\n",
       "                             nbb_cells[i].set_text(nbb_formatted_code);\n",
       "                        }\n",
       "                        break;\n",
       "                    }\n",
       "                }\n",
       "            }, 500);\n",
       "            "
      ],
      "text/plain": [
       "<IPython.core.display.Javascript object>"
      ]
     },
     "metadata": {},
     "output_type": "display_data"
    }
   ],
   "source": [
    "model.get_layer(\"output\")._build_input_shape"
   ]
  },
  {
   "cell_type": "code",
   "execution_count": 16,
   "metadata": {
    "ExecuteTime": {
     "end_time": "2020-05-25T21:00:00.994383Z",
     "start_time": "2020-05-25T21:00:00.981768Z"
    }
   },
   "outputs": [
    {
     "name": "stdout",
     "output_type": "stream",
     "text": [
      "Model: \"explainable_model\"\n",
      "__________________________________________________________________________________________________\n",
      "Layer (type)                    Output Shape         Param #     Connected to                     \n",
      "==================================================================================================\n",
      "input_cat (InputLayer)          [(None, 9, 19)]      0                                            \n",
      "__________________________________________________________________________________________________\n",
      "block_cat_0_conv (LocallyConnec (None, 9, 64)        10944       input_cat[0][0]                  \n",
      "__________________________________________________________________________________________________\n",
      "block_cat_0_nb (BatchNormalizat (None, 9, 64)        256         block_cat_0_conv[0][0]           \n",
      "__________________________________________________________________________________________________\n",
      "input_num (InputLayer)          [(None, 9)]          0                                            \n",
      "__________________________________________________________________________________________________\n",
      "block_cat_0_activation (Activat (None, 9, 64)        0           block_cat_0_nb[0][0]             \n",
      "__________________________________________________________________________________________________\n",
      "reshape_num_input (Reshape)     (None, 9, 1)         0           input_num[0][0]                  \n",
      "__________________________________________________________________________________________________\n",
      "block_cat_1_conv (LocallyConnec (None, 9, 32)        18432       block_cat_0_activation[0][0]     \n",
      "__________________________________________________________________________________________________\n",
      "block_num_0_conv (LocallyConnec (None, 9, 16)        144         reshape_num_input[0][0]          \n",
      "__________________________________________________________________________________________________\n",
      "block_cat_1_nb (BatchNormalizat (None, 9, 32)        128         block_cat_1_conv[0][0]           \n",
      "__________________________________________________________________________________________________\n",
      "block_num_0_activation (Activat (None, 9, 16)        0           block_num_0_conv[0][0]           \n",
      "__________________________________________________________________________________________________\n",
      "block_cat_1_activation (Activat (None, 9, 32)        0           block_cat_1_nb[0][0]             \n",
      "__________________________________________________________________________________________________\n",
      "input_bool (InputLayer)         [(None, 1)]          0                                            \n",
      "__________________________________________________________________________________________________\n",
      "reshape_num_output (Reshape)    (None, 144)          0           block_num_0_activation[0][0]     \n",
      "__________________________________________________________________________________________________\n",
      "reshape_cat_output (Reshape)    (None, 288)          0           block_cat_1_activation[0][0]     \n",
      "__________________________________________________________________________________________________\n",
      "concatenate (Concatenate)       (None, 433)          0           input_bool[0][0]                 \n",
      "                                                                 reshape_num_output[0][0]         \n",
      "                                                                 reshape_cat_output[0][0]         \n",
      "__________________________________________________________________________________________________\n",
      "output (Dense)                  (None, 1)            434         concatenate[0][0]                \n",
      "==================================================================================================\n",
      "Total params: 30,338\n",
      "Trainable params: 30,146\n",
      "Non-trainable params: 192\n",
      "__________________________________________________________________________________________________\n"
     ]
    },
    {
     "data": {
      "application/javascript": [
       "\n",
       "            setTimeout(function() {\n",
       "                var nbb_cell_id = 16;\n",
       "                var nbb_unformatted_code = \"model.summary()\";\n",
       "                var nbb_formatted_code = \"model.summary()\";\n",
       "                var nbb_cells = Jupyter.notebook.get_cells();\n",
       "                for (var i = 0; i < nbb_cells.length; ++i) {\n",
       "                    if (nbb_cells[i].input_prompt_number == nbb_cell_id) {\n",
       "                        if (nbb_cells[i].get_text() == nbb_unformatted_code) {\n",
       "                             nbb_cells[i].set_text(nbb_formatted_code);\n",
       "                        }\n",
       "                        break;\n",
       "                    }\n",
       "                }\n",
       "            }, 500);\n",
       "            "
      ],
      "text/plain": [
       "<IPython.core.display.Javascript object>"
      ]
     },
     "metadata": {},
     "output_type": "display_data"
    }
   ],
   "source": [
    "model.summary()"
   ]
  },
  {
   "cell_type": "code",
   "execution_count": 17,
   "metadata": {},
   "outputs": [
    {
     "data": {
      "application/javascript": [
       "\n",
       "            setTimeout(function() {\n",
       "                var nbb_cell_id = 17;\n",
       "                var nbb_unformatted_code = \"#!pip install pydot graphviz\";\n",
       "                var nbb_formatted_code = \"#!pip install pydot graphviz\";\n",
       "                var nbb_cells = Jupyter.notebook.get_cells();\n",
       "                for (var i = 0; i < nbb_cells.length; ++i) {\n",
       "                    if (nbb_cells[i].input_prompt_number == nbb_cell_id) {\n",
       "                        if (nbb_cells[i].get_text() == nbb_unformatted_code) {\n",
       "                             nbb_cells[i].set_text(nbb_formatted_code);\n",
       "                        }\n",
       "                        break;\n",
       "                    }\n",
       "                }\n",
       "            }, 500);\n",
       "            "
      ],
      "text/plain": [
       "<IPython.core.display.Javascript object>"
      ]
     },
     "metadata": {},
     "output_type": "display_data"
    }
   ],
   "source": [
    "#!pip install pydot graphviz"
   ]
  },
  {
   "cell_type": "code",
   "execution_count": 20,
   "metadata": {},
   "outputs": [
    {
     "data": {
      "image/png": "[encoded data removed]",
      "text/plain": [
       "<IPython.core.display.Image object>"
      ]
     },
     "execution_count": 20,
     "metadata": {},
     "output_type": "execute_result"
    },
    {
     "data": {
      "application/javascript": [
       "\n",
       "            setTimeout(function() {\n",
       "                var nbb_cell_id = 20;\n",
       "                var nbb_unformatted_code = \"plot_model(\\n    model,\\n    # to_file=\\\"model.png\\\",\\n    show_shapes=True,\\n    show_layer_names=True,\\n    rankdir=\\\"TB\\\",\\n    expand_nested=False,\\n    dpi=96,\\n)\";\n",
       "                var nbb_formatted_code = \"plot_model(\\n    model,\\n    # to_file=\\\"model.png\\\",\\n    show_shapes=True,\\n    show_layer_names=True,\\n    rankdir=\\\"TB\\\",\\n    expand_nested=False,\\n    dpi=96,\\n)\";\n",
       "                var nbb_cells = Jupyter.notebook.get_cells();\n",
       "                for (var i = 0; i < nbb_cells.length; ++i) {\n",
       "                    if (nbb_cells[i].input_prompt_number == nbb_cell_id) {\n",
       "                        if (nbb_cells[i].get_text() == nbb_unformatted_code) {\n",
       "                             nbb_cells[i].set_text(nbb_formatted_code);\n",
       "                        }\n",
       "                        break;\n",
       "                    }\n",
       "                }\n",
       "            }, 500);\n",
       "            "
      ],
      "text/plain": [
       "<IPython.core.display.Javascript object>"
      ]
     },
     "metadata": {},
     "output_type": "display_data"
    }
   ],
   "source": [
    "plot_model(\n",
    "    model,\n",
    "    # to_file=\"model.png\",\n",
    "    show_shapes=True,\n",
    "    show_layer_names=True,\n",
    "    rankdir=\"TB\",\n",
    "    expand_nested=False,\n",
    "    dpi=96,\n",
    ")"
   ]
  },
  {
   "cell_type": "code",
   "execution_count": 21,
   "metadata": {
    "ExecuteTime": {
     "end_time": "2020-05-25T21:00:01.114121Z",
     "start_time": "2020-05-25T21:00:00.997404Z"
    }
   },
   "outputs": [
    {
     "data": {
      "text/plain": [
       "(32950,)"
      ]
     },
     "execution_count": 21,
     "metadata": {},
     "output_type": "execute_result"
    },
    {
     "data": {
      "application/javascript": [
       "\n",
       "            setTimeout(function() {\n",
       "                var nbb_cell_id = 21;\n",
       "                var nbb_unformatted_code = \"y_train.shape\";\n",
       "                var nbb_formatted_code = \"y_train.shape\";\n",
       "                var nbb_cells = Jupyter.notebook.get_cells();\n",
       "                for (var i = 0; i < nbb_cells.length; ++i) {\n",
       "                    if (nbb_cells[i].input_prompt_number == nbb_cell_id) {\n",
       "                        if (nbb_cells[i].get_text() == nbb_unformatted_code) {\n",
       "                             nbb_cells[i].set_text(nbb_formatted_code);\n",
       "                        }\n",
       "                        break;\n",
       "                    }\n",
       "                }\n",
       "            }, 500);\n",
       "            "
      ],
      "text/plain": [
       "<IPython.core.display.Javascript object>"
      ]
     },
     "metadata": {},
     "output_type": "display_data"
    }
   ],
   "source": [
    "y_train.shape"
   ]
  },
  {
   "cell_type": "code",
   "execution_count": 25,
   "metadata": {
    "ExecuteTime": {
     "end_time": "2020-05-25T21:00:07.717722Z",
     "start_time": "2020-05-25T21:00:01.118492Z"
    }
   },
   "outputs": [
    {
     "name": "stdout",
     "output_type": "stream",
     "text": [
      "Epoch 1/2000\n"
     ]
    },
    {
     "name": "stderr",
     "output_type": "stream",
     "text": [
      "WARNING:tensorflow:From /work/.cache/poetry/thc-net-KQLMmzPP-py3.7/lib/python3.7/site-packages/tensorflow/python/ops/resource_variable_ops.py:1817: calling BaseResourceVariable.__init__ (from tensorflow.python.ops.resource_variable_ops) with constraint is deprecated and will be removed in a future version.\n",
      "Instructions for updating:\n",
      "If using Keras pass *_constraint arguments to layers.\n"
     ]
    },
    {
     "name": "stdout",
     "output_type": "stream",
     "text": [
      "33/33 [==============================] - 5s 141ms/step - loss: 0.4745 - val_loss: 0.3908\n",
      "Epoch 2/2000\n",
      "33/33 [==============================] - 5s 140ms/step - loss: 0.3339 - val_loss: 0.3779\n",
      "Epoch 3/2000\n",
      "33/33 [==============================] - 4s 129ms/step - loss: 0.3297 - val_loss: 0.3774\n",
      "Epoch 4/2000\n",
      "33/33 [==============================] - 4s 107ms/step - loss: 0.3268 - val_loss: 0.3695\n",
      "Epoch 5/2000\n",
      "33/33 [==============================] - 4s 114ms/step - loss: 0.3244 - val_loss: 0.3628\n",
      "Epoch 6/2000\n",
      "33/33 [==============================] - 4s 113ms/step - loss: 0.3219 - val_loss: 0.3563\n",
      "Epoch 7/2000\n",
      "33/33 [==============================] - 4s 119ms/step - loss: 0.3192 - val_loss: 0.3505\n",
      "Epoch 8/2000\n",
      "33/33 [==============================] - 3s 102ms/step - loss: 0.3164 - val_loss: 0.3442\n",
      "Epoch 9/2000\n",
      "33/33 [==============================] - 3s 99ms/step - loss: 0.3135 - val_loss: 0.3398\n",
      "Epoch 10/2000\n",
      "33/33 [==============================] - 4s 128ms/step - loss: 0.3101 - val_loss: 0.3314\n",
      "Epoch 11/2000\n",
      "33/33 [==============================] - 4s 133ms/step - loss: 0.3067 - val_loss: 0.3288\n",
      "Epoch 12/2000\n",
      "33/33 [==============================] - 4s 112ms/step - loss: 0.3033 - val_loss: 0.3202\n",
      "Epoch 13/2000\n",
      "33/33 [==============================] - 4s 122ms/step - loss: 0.3002 - val_loss: 0.3194\n",
      "Epoch 14/2000\n",
      "33/33 [==============================] - 4s 106ms/step - loss: 0.2978 - val_loss: 0.3122\n",
      "Epoch 15/2000\n",
      "33/33 [==============================] - 4s 111ms/step - loss: 0.2972 - val_loss: 0.3065\n",
      "Epoch 16/2000\n",
      "33/33 [==============================] - 4s 111ms/step - loss: 0.2949 - val_loss: 0.3079\n",
      "Epoch 17/2000\n",
      "33/33 [==============================] - 4s 123ms/step - loss: 0.2938 - val_loss: 0.3029\n",
      "Epoch 18/2000\n",
      "33/33 [==============================] - 4s 116ms/step - loss: 0.2924 - val_loss: 0.3013\n",
      "Epoch 19/2000\n",
      "33/33 [==============================] - 3s 105ms/step - loss: 0.2913 - val_loss: 0.2991\n",
      "Epoch 20/2000\n",
      "33/33 [==============================] - 3s 105ms/step - loss: 0.2907 - val_loss: 0.2981\n",
      "Epoch 21/2000\n",
      "33/33 [==============================] - 3s 104ms/step - loss: 0.2910 - val_loss: 0.2973\n",
      "Epoch 22/2000\n",
      "33/33 [==============================] - 3s 100ms/step - loss: 0.2889 - val_loss: 0.2959\n",
      "Epoch 23/2000\n",
      "33/33 [==============================] - 4s 111ms/step - loss: 0.2890 - val_loss: 0.2959\n",
      "Epoch 24/2000\n",
      "33/33 [==============================] - 3s 101ms/step - loss: 0.2884 - val_loss: 0.2951\n",
      "Epoch 25/2000\n",
      "33/33 [==============================] - 4s 115ms/step - loss: 0.2880 - val_loss: 0.2949\n",
      "Epoch 26/2000\n",
      "33/33 [==============================] - 4s 125ms/step - loss: 0.2883 - val_loss: 0.2943\n",
      "Epoch 27/2000\n",
      "33/33 [==============================] - 4s 114ms/step - loss: 0.2874 - val_loss: 0.2953\n",
      "Epoch 28/2000\n",
      "33/33 [==============================] - 4s 126ms/step - loss: 0.2874 - val_loss: 0.2946\n",
      "Epoch 29/2000\n",
      "33/33 [==============================] - 4s 125ms/step - loss: 0.2874 - val_loss: 0.2948\n",
      "Epoch 30/2000\n",
      "33/33 [==============================] - 4s 114ms/step - loss: 0.2880 - val_loss: 0.2953\n",
      "Epoch 31/2000\n",
      "33/33 [==============================] - 4s 117ms/step - loss: 0.2872 - val_loss: 0.2978\n",
      "Epoch 32/2000\n",
      "33/33 [==============================] - 4s 129ms/step - loss: 0.2872 - val_loss: 0.2942\n",
      "Epoch 33/2000\n",
      "33/33 [==============================] - 4s 122ms/step - loss: 0.2867 - val_loss: 0.2933\n",
      "Epoch 34/2000\n",
      "33/33 [==============================] - 4s 116ms/step - loss: 0.2875 - val_loss: 0.2972\n",
      "Epoch 35/2000\n",
      "33/33 [==============================] - 4s 119ms/step - loss: 0.2879 - val_loss: 0.2924\n",
      "Epoch 36/2000\n",
      "33/33 [==============================] - 4s 117ms/step - loss: 0.2865 - val_loss: 0.2928\n",
      "Epoch 37/2000\n",
      "33/33 [==============================] - 4s 121ms/step - loss: 0.2866 - val_loss: 0.2950\n",
      "Epoch 38/2000\n",
      "33/33 [==============================] - 4s 119ms/step - loss: 0.2869 - val_loss: 0.2930\n",
      "Epoch 39/2000\n",
      "33/33 [==============================] - 4s 121ms/step - loss: 0.2865 - val_loss: 0.2940\n",
      "Epoch 40/2000\n",
      "33/33 [==============================] - 4s 124ms/step - loss: 0.2863 - val_loss: 0.2928\n",
      "Epoch 41/2000\n",
      "33/33 [==============================] - 4s 123ms/step - loss: 0.2864 - val_loss: 0.2953\n",
      "Epoch 42/2000\n",
      "33/33 [==============================] - 4s 112ms/step - loss: 0.2858 - val_loss: 0.2939\n",
      "Epoch 43/2000\n",
      "33/33 [==============================] - 4s 122ms/step - loss: 0.2861 - val_loss: 0.2936\n",
      "Epoch 44/2000\n",
      "33/33 [==============================] - 4s 126ms/step - loss: 0.2861 - val_loss: 0.2930\n",
      "Epoch 45/2000\n",
      "33/33 [==============================] - 4s 126ms/step - loss: 0.2868 - val_loss: 0.2995\n",
      "Epoch 46/2000\n",
      "33/33 [==============================] - 4s 134ms/step - loss: 0.2871 - val_loss: 0.2951\n",
      "Epoch 47/2000\n",
      "33/33 [==============================] - 4s 130ms/step - loss: 0.2860 - val_loss: 0.2931\n",
      "Epoch 48/2000\n",
      "33/33 [==============================] - 4s 128ms/step - loss: 0.2857 - val_loss: 0.2917\n",
      "Epoch 49/2000\n",
      "33/33 [==============================] - 4s 122ms/step - loss: 0.2861 - val_loss: 0.2977\n",
      "Epoch 50/2000\n",
      "33/33 [==============================] - 4s 127ms/step - loss: 0.2856 - val_loss: 0.2953\n",
      "Epoch 51/2000\n",
      "33/33 [==============================] - 4s 122ms/step - loss: 0.2856 - val_loss: 0.2930\n",
      "Epoch 52/2000\n",
      "33/33 [==============================] - 4s 120ms/step - loss: 0.2852 - val_loss: 0.2919\n",
      "Epoch 53/2000\n",
      "33/33 [==============================] - 4s 130ms/step - loss: 0.2856 - val_loss: 0.2956\n",
      "Epoch 54/2000\n",
      "33/33 [==============================] - 4s 133ms/step - loss: 0.2863 - val_loss: 0.2931\n",
      "Epoch 55/2000\n",
      "33/33 [==============================] - 4s 120ms/step - loss: 0.2852 - val_loss: 0.2921\n",
      "Epoch 56/2000\n",
      "33/33 [==============================] - 4s 117ms/step - loss: 0.2849 - val_loss: 0.2926\n",
      "Epoch 57/2000\n",
      "33/33 [==============================] - 4s 121ms/step - loss: 0.2853 - val_loss: 0.2970\n",
      "Epoch 58/2000\n",
      "33/33 [==============================] - 4s 118ms/step - loss: 0.2850 - val_loss: 0.2919\n",
      "Epoch 59/2000\n",
      "33/33 [==============================] - 4s 119ms/step - loss: 0.2849 - val_loss: 0.2926\n",
      "Epoch 60/2000\n",
      "33/33 [==============================] - 4s 117ms/step - loss: 0.2844 - val_loss: 0.2917\n",
      "Epoch 61/2000\n",
      "33/33 [==============================] - 4s 133ms/step - loss: 0.2848 - val_loss: 0.2932\n",
      "Epoch 62/2000\n",
      "33/33 [==============================] - 4s 116ms/step - loss: 0.2844 - val_loss: 0.2909\n",
      "Epoch 63/2000\n",
      "33/33 [==============================] - 4s 118ms/step - loss: 0.2847 - val_loss: 0.2961\n",
      "Epoch 64/2000\n",
      "33/33 [==============================] - 4s 131ms/step - loss: 0.2849 - val_loss: 0.2941\n",
      "Epoch 65/2000\n",
      "33/33 [==============================] - 4s 124ms/step - loss: 0.2846 - val_loss: 0.2915\n",
      "Epoch 66/2000\n",
      "33/33 [==============================] - 4s 110ms/step - loss: 0.2846 - val_loss: 0.2913\n",
      "Epoch 67/2000\n",
      "33/33 [==============================] - 4s 123ms/step - loss: 0.2853 - val_loss: 0.2915\n",
      "Epoch 68/2000\n",
      "33/33 [==============================] - 5s 137ms/step - loss: 0.2849 - val_loss: 0.2911\n",
      "Epoch 69/2000\n",
      "33/33 [==============================] - 4s 125ms/step - loss: 0.2848 - val_loss: 0.2948\n",
      "Epoch 70/2000\n",
      "33/33 [==============================] - 4s 120ms/step - loss: 0.2852 - val_loss: 0.2910\n",
      "Epoch 71/2000\n",
      "33/33 [==============================] - 4s 120ms/step - loss: 0.2837 - val_loss: 0.2906\n",
      "Epoch 72/2000\n",
      "33/33 [==============================] - 5s 140ms/step - loss: 0.2845 - val_loss: 0.2909\n",
      "Epoch 73/2000\n",
      "33/33 [==============================] - 4s 114ms/step - loss: 0.2845 - val_loss: 0.2916\n",
      "Epoch 74/2000\n",
      "33/33 [==============================] - 4s 119ms/step - loss: 0.2844 - val_loss: 0.2958\n",
      "Epoch 75/2000\n",
      "33/33 [==============================] - 4s 124ms/step - loss: 0.2841 - val_loss: 0.2921\n",
      "Epoch 76/2000\n",
      "33/33 [==============================] - 4s 115ms/step - loss: 0.2839 - val_loss: 0.2913\n",
      "Epoch 77/2000\n",
      "33/33 [==============================] - 4s 110ms/step - loss: 0.2837 - val_loss: 0.2961\n",
      "Epoch 78/2000\n",
      "33/33 [==============================] - 5s 150ms/step - loss: 0.2846 - val_loss: 0.2907\n",
      "Epoch 79/2000\n",
      "33/33 [==============================] - 4s 136ms/step - loss: 0.2836 - val_loss: 0.2914\n",
      "Epoch 80/2000\n",
      "33/33 [==============================] - 5s 150ms/step - loss: 0.2840 - val_loss: 0.2912\n"
     ]
    },
    {
     "name": "stdout",
     "output_type": "stream",
     "text": [
      "Epoch 81/2000\n",
      "33/33 [==============================] - 5s 148ms/step - loss: 0.2845 - val_loss: 0.2979\n",
      "Epoch 82/2000\n",
      "33/33 [==============================] - 4s 131ms/step - loss: 0.2837 - val_loss: 0.2909\n",
      "Epoch 83/2000\n",
      "33/33 [==============================] - 4s 126ms/step - loss: 0.2840 - val_loss: 0.2985\n",
      "Epoch 84/2000\n",
      "33/33 [==============================] - 4s 110ms/step - loss: 0.2843 - val_loss: 0.2908\n",
      "Epoch 85/2000\n",
      "33/33 [==============================] - 3s 105ms/step - loss: 0.2843 - val_loss: 0.2918\n",
      "Epoch 86/2000\n",
      "33/33 [==============================] - 3s 102ms/step - loss: 0.2838 - val_loss: 0.2910\n",
      "Epoch 87/2000\n",
      "33/33 [==============================] - 4s 121ms/step - loss: 0.2844 - val_loss: 0.2965\n",
      "Epoch 88/2000\n",
      "33/33 [==============================] - 4s 113ms/step - loss: 0.2846 - val_loss: 0.2901\n",
      "Epoch 89/2000\n",
      "33/33 [==============================] - 4s 111ms/step - loss: 0.2839 - val_loss: 0.2937\n",
      "Epoch 90/2000\n",
      "33/33 [==============================] - 4s 115ms/step - loss: 0.2838 - val_loss: 0.2899\n",
      "Epoch 91/2000\n",
      "33/33 [==============================] - 4s 109ms/step - loss: 0.2835 - val_loss: 0.2901\n",
      "Epoch 92/2000\n",
      "33/33 [==============================] - 4s 124ms/step - loss: 0.2841 - val_loss: 0.2902\n",
      "Epoch 93/2000\n",
      "33/33 [==============================] - 4s 128ms/step - loss: 0.2839 - val_loss: 0.2939\n",
      "Epoch 94/2000\n",
      "33/33 [==============================] - 4s 134ms/step - loss: 0.2831 - val_loss: 0.2929\n",
      "Epoch 95/2000\n",
      "33/33 [==============================] - 4s 127ms/step - loss: 0.2832 - val_loss: 0.2930\n",
      "Epoch 96/2000\n",
      "33/33 [==============================] - 4s 123ms/step - loss: 0.2834 - val_loss: 0.2911\n",
      "Epoch 97/2000\n",
      "33/33 [==============================] - 4s 121ms/step - loss: 0.2836 - val_loss: 0.2959\n",
      "Epoch 98/2000\n",
      "33/33 [==============================] - 4s 122ms/step - loss: 0.2834 - val_loss: 0.2932\n",
      "Epoch 99/2000\n",
      "33/33 [==============================] - 5s 149ms/step - loss: 0.2838 - val_loss: 0.2904\n",
      "Epoch 100/2000\n",
      "33/33 [==============================] - 4s 120ms/step - loss: 0.2827 - val_loss: 0.2898\n",
      "Epoch 101/2000\n",
      "33/33 [==============================] - 4s 111ms/step - loss: 0.2834 - val_loss: 0.2904\n",
      "Epoch 102/2000\n",
      "33/33 [==============================] - 4s 110ms/step - loss: 0.2828 - val_loss: 0.2910\n",
      "Epoch 103/2000\n",
      "33/33 [==============================] - 4s 112ms/step - loss: 0.2828 - val_loss: 0.2895\n",
      "Epoch 104/2000\n",
      "33/33 [==============================] - 3s 100ms/step - loss: 0.2825 - val_loss: 0.2903\n",
      "Epoch 105/2000\n",
      "33/33 [==============================] - 4s 122ms/step - loss: 0.2829 - val_loss: 0.2895\n",
      "Epoch 106/2000\n",
      "33/33 [==============================] - 4s 111ms/step - loss: 0.2828 - val_loss: 0.2895\n",
      "Epoch 107/2000\n",
      "33/33 [==============================] - 4s 115ms/step - loss: 0.2836 - val_loss: 0.2905\n",
      "Epoch 108/2000\n",
      "33/33 [==============================] - 4s 119ms/step - loss: 0.2829 - val_loss: 0.2898\n",
      "Epoch 109/2000\n",
      "33/33 [==============================] - 5s 151ms/step - loss: 0.2829 - val_loss: 0.2896\n",
      "Epoch 110/2000\n",
      "33/33 [==============================] - 3s 99ms/step - loss: 0.2838 - val_loss: 0.2900\n",
      "Epoch 111/2000\n",
      "33/33 [==============================] - 3s 88ms/step - loss: 0.2829 - val_loss: 0.2898\n",
      "Epoch 112/2000\n",
      "33/33 [==============================] - 3s 95ms/step - loss: 0.2825 - val_loss: 0.2894\n",
      "Epoch 113/2000\n",
      "33/33 [==============================] - 3s 97ms/step - loss: 0.2830 - val_loss: 0.3035\n",
      "Epoch 114/2000\n",
      "33/33 [==============================] - 3s 102ms/step - loss: 0.2840 - val_loss: 0.2934\n",
      "Epoch 115/2000\n",
      "33/33 [==============================] - 3s 95ms/step - loss: 0.2824 - val_loss: 0.2897\n",
      "Epoch 116/2000\n",
      "33/33 [==============================] - 3s 100ms/step - loss: 0.2832 - val_loss: 0.2904\n",
      "Epoch 117/2000\n",
      "33/33 [==============================] - 5s 137ms/step - loss: 0.2826 - val_loss: 0.2891\n",
      "Epoch 118/2000\n",
      "33/33 [==============================] - 4s 110ms/step - loss: 0.2832 - val_loss: 0.2895\n",
      "Epoch 119/2000\n",
      "33/33 [==============================] - 4s 120ms/step - loss: 0.2830 - val_loss: 0.2899\n",
      "Epoch 120/2000\n",
      "33/33 [==============================] - 3s 104ms/step - loss: 0.2829 - val_loss: 0.2898\n",
      "Epoch 121/2000\n",
      "33/33 [==============================] - 4s 108ms/step - loss: 0.2826 - val_loss: 0.2900\n",
      "Epoch 122/2000\n",
      "33/33 [==============================] - 3s 100ms/step - loss: 0.2823 - val_loss: 0.2894\n",
      "Epoch 123/2000\n",
      "33/33 [==============================] - 3s 104ms/step - loss: 0.2827 - val_loss: 0.2911\n",
      "Epoch 124/2000\n",
      "33/33 [==============================] - 3s 100ms/step - loss: 0.2830 - val_loss: 0.2907\n",
      "Epoch 125/2000\n",
      "33/33 [==============================] - 4s 123ms/step - loss: 0.2826 - val_loss: 0.2910\n",
      "Epoch 126/2000\n",
      "33/33 [==============================] - 5s 144ms/step - loss: 0.2830 - val_loss: 0.2903\n",
      "Epoch 127/2000\n",
      "33/33 [==============================] - 4s 124ms/step - loss: 0.2827 - val_loss: 0.2895\n",
      "Epoch 128/2000\n",
      "33/33 [==============================] - 4s 129ms/step - loss: 0.2820 - val_loss: 0.2899\n",
      "Epoch 129/2000\n",
      "33/33 [==============================] - 4s 120ms/step - loss: 0.2828 - val_loss: 0.2926\n",
      "Epoch 130/2000\n",
      "33/33 [==============================] - 4s 112ms/step - loss: 0.2832 - val_loss: 0.2893\n",
      "Epoch 131/2000\n",
      "33/33 [==============================] - 4s 117ms/step - loss: 0.2826 - val_loss: 0.2903\n",
      "Epoch 132/2000\n",
      "33/33 [==============================] - 5s 142ms/step - loss: 0.2831 - val_loss: 0.2897\n",
      "Epoch 133/2000\n",
      "33/33 [==============================] - 4s 131ms/step - loss: 0.2819 - val_loss: 0.2929\n",
      "Epoch 134/2000\n",
      "33/33 [==============================] - 4s 129ms/step - loss: 0.2820 - val_loss: 0.2892\n",
      "Epoch 135/2000\n",
      "33/33 [==============================] - 5s 144ms/step - loss: 0.2819 - val_loss: 0.2899\n",
      "Epoch 136/2000\n",
      "33/33 [==============================] - 4s 116ms/step - loss: 0.2822 - val_loss: 0.2900\n",
      "Epoch 137/2000\n",
      "33/33 [==============================] - 4s 119ms/step - loss: 0.2821 - val_loss: 0.2900\n",
      "Epoch 00137: early stopping\n",
      "CPU times: user 18min 7s, sys: 11min 48s, total: 29min 55s\n",
      "Wall time: 9min 22s\n"
     ]
    },
    {
     "data": {
      "application/javascript": [
       "\n",
       "            setTimeout(function() {\n",
       "                var nbb_cell_id = 25;\n",
       "                var nbb_unformatted_code = \"%%time\\nhistory = model.fit(\\n    input_train,\\n    y_train.reshape(-1, 1),\\n    epochs=2000,\\n    batch_size=1024,\\n    validation_data=(input_valid, y_valid.reshape(-1, 1),),\\n    verbose=1,\\n    callbacks=[EarlyStopping(monitor=\\\"val_loss\\\", patience=20, verbose=1)],\\n)\";\n",
       "                var nbb_formatted_code = \"%%time\\nhistory = model.fit(\\n    input_train,\\n    y_train.reshape(-1, 1),\\n    epochs=2000,\\n    batch_size=1024,\\n    validation_data=(input_valid, y_valid.reshape(-1, 1),),\\n    verbose=1,\\n    callbacks=[EarlyStopping(monitor=\\\"val_loss\\\", patience=20, verbose=1)],\\n)\";\n",
       "                var nbb_cells = Jupyter.notebook.get_cells();\n",
       "                for (var i = 0; i < nbb_cells.length; ++i) {\n",
       "                    if (nbb_cells[i].input_prompt_number == nbb_cell_id) {\n",
       "                        if (nbb_cells[i].get_text() == nbb_unformatted_code) {\n",
       "                             nbb_cells[i].set_text(nbb_formatted_code);\n",
       "                        }\n",
       "                        break;\n",
       "                    }\n",
       "                }\n",
       "            }, 500);\n",
       "            "
      ],
      "text/plain": [
       "<IPython.core.display.Javascript object>"
      ]
     },
     "metadata": {},
     "output_type": "display_data"
    }
   ],
   "source": [
    "%%time\n",
    "history = model.fit(\n",
    "    input_train,\n",
    "    y_train.reshape(-1, 1),\n",
    "    epochs=2000,\n",
    "    batch_size=1024,\n",
    "    validation_data=(input_valid, y_valid.reshape(-1, 1),),\n",
    "    verbose=1,\n",
    "    callbacks=[EarlyStopping(monitor=\"val_loss\", patience=20, verbose=1)],\n",
    ")"
   ]
  },
  {
   "cell_type": "code",
   "execution_count": 26,
   "metadata": {
    "ExecuteTime": {
     "end_time": "2020-05-25T21:00:07.719810Z",
     "start_time": "2020-05-25T20:59:43.864Z"
    }
   },
   "outputs": [
    {
     "data": {
      "image/png": "[encoded data removed]",
      "text/plain": [
       "<Figure size 432x288 with 1 Axes>"
      ]
     },
     "metadata": {
      "needs_background": "light"
     },
     "output_type": "display_data"
    },
    {
     "data": {
      "application/javascript": [
       "\n",
       "            setTimeout(function() {\n",
       "                var nbb_cell_id = 26;\n",
       "                var nbb_unformatted_code = \"plot_history(history)\";\n",
       "                var nbb_formatted_code = \"plot_history(history)\";\n",
       "                var nbb_cells = Jupyter.notebook.get_cells();\n",
       "                for (var i = 0; i < nbb_cells.length; ++i) {\n",
       "                    if (nbb_cells[i].input_prompt_number == nbb_cell_id) {\n",
       "                        if (nbb_cells[i].get_text() == nbb_unformatted_code) {\n",
       "                             nbb_cells[i].set_text(nbb_formatted_code);\n",
       "                        }\n",
       "                        break;\n",
       "                    }\n",
       "                }\n",
       "            }, 500);\n",
       "            "
      ],
      "text/plain": [
       "<IPython.core.display.Javascript object>"
      ]
     },
     "metadata": {},
     "output_type": "display_data"
    }
   ],
   "source": [
    "plot_history(history)"
   ]
  },
  {
   "cell_type": "code",
   "execution_count": 27,
   "metadata": {
    "ExecuteTime": {
     "end_time": "2020-05-25T21:00:07.720685Z",
     "start_time": "2020-05-25T20:59:43.865Z"
    }
   },
   "outputs": [
    {
     "data": {
      "text/plain": [
       "0.7812210336949205"
      ]
     },
     "execution_count": 27,
     "metadata": {},
     "output_type": "execute_result"
    },
    {
     "data": {
      "application/javascript": [
       "\n",
       "            setTimeout(function() {\n",
       "                var nbb_cell_id = 27;\n",
       "                var nbb_unformatted_code = \"model_auc = roc_auc_score(\\n    y_true=y_valid, y_score=model.predict(input_valid).reshape(-1),\\n)\\nmodel_auc\";\n",
       "                var nbb_formatted_code = \"model_auc = roc_auc_score(\\n    y_true=y_valid, y_score=model.predict(input_valid).reshape(-1),\\n)\\nmodel_auc\";\n",
       "                var nbb_cells = Jupyter.notebook.get_cells();\n",
       "                for (var i = 0; i < nbb_cells.length; ++i) {\n",
       "                    if (nbb_cells[i].input_prompt_number == nbb_cell_id) {\n",
       "                        if (nbb_cells[i].get_text() == nbb_unformatted_code) {\n",
       "                             nbb_cells[i].set_text(nbb_formatted_code);\n",
       "                        }\n",
       "                        break;\n",
       "                    }\n",
       "                }\n",
       "            }, 500);\n",
       "            "
      ],
      "text/plain": [
       "<IPython.core.display.Javascript object>"
      ]
     },
     "metadata": {},
     "output_type": "display_data"
    }
   ],
   "source": [
    "model_auc = roc_auc_score(\n",
    "    y_true=y_valid, y_score=model.predict(input_valid).reshape(-1),\n",
    ")\n",
    "model_auc"
   ]
  },
  {
   "cell_type": "code",
   "execution_count": 28,
   "metadata": {},
   "outputs": [
    {
     "data": {
      "application/javascript": [
       "\n",
       "            setTimeout(function() {\n",
       "                var nbb_cell_id = 28;\n",
       "                var nbb_unformatted_code = \"# BM : 0.7847761386793823\\n# Census : 0.9461137700867462\\n# give me some credit : 0.8584216818313924\";\n",
       "                var nbb_formatted_code = \"# BM : 0.7847761386793823\\n# Census : 0.9461137700867462\\n# give me some credit : 0.8584216818313924\";\n",
       "                var nbb_cells = Jupyter.notebook.get_cells();\n",
       "                for (var i = 0; i < nbb_cells.length; ++i) {\n",
       "                    if (nbb_cells[i].input_prompt_number == nbb_cell_id) {\n",
       "                        if (nbb_cells[i].get_text() == nbb_unformatted_code) {\n",
       "                             nbb_cells[i].set_text(nbb_formatted_code);\n",
       "                        }\n",
       "                        break;\n",
       "                    }\n",
       "                }\n",
       "            }, 500);\n",
       "            "
      ],
      "text/plain": [
       "<IPython.core.display.Javascript object>"
      ]
     },
     "metadata": {},
     "output_type": "display_data"
    }
   ],
   "source": [
    "# BM : 0.7847761386793823\n",
    "# Census : 0.9461137700867462\n",
    "# give me some credit : 0.8584216818313924"
   ]
  },
  {
   "cell_type": "code",
   "execution_count": 29,
   "metadata": {
    "ExecuteTime": {
     "end_time": "2020-05-25T21:00:07.722364Z",
     "start_time": "2020-05-25T20:59:43.867Z"
    }
   },
   "outputs": [
    {
     "data": {
      "text/plain": [
       "0.8076055545313701"
      ]
     },
     "execution_count": 29,
     "metadata": {},
     "output_type": "execute_result"
    },
    {
     "data": {
      "application/javascript": [
       "\n",
       "            setTimeout(function() {\n",
       "                var nbb_cell_id = 29;\n",
       "                var nbb_unformatted_code = \"model_auc = roc_auc_score(y_true=y_test, y_score=model.predict(input_test).reshape(-1),)\\nmodel_auc\";\n",
       "                var nbb_formatted_code = \"model_auc = roc_auc_score(y_true=y_test, y_score=model.predict(input_test).reshape(-1),)\\nmodel_auc\";\n",
       "                var nbb_cells = Jupyter.notebook.get_cells();\n",
       "                for (var i = 0; i < nbb_cells.length; ++i) {\n",
       "                    if (nbb_cells[i].input_prompt_number == nbb_cell_id) {\n",
       "                        if (nbb_cells[i].get_text() == nbb_unformatted_code) {\n",
       "                             nbb_cells[i].set_text(nbb_formatted_code);\n",
       "                        }\n",
       "                        break;\n",
       "                    }\n",
       "                }\n",
       "            }, 500);\n",
       "            "
      ],
      "text/plain": [
       "<IPython.core.display.Javascript object>"
      ]
     },
     "metadata": {},
     "output_type": "display_data"
    }
   ],
   "source": [
    "model_auc = roc_auc_score(y_true=y_test, y_score=model.predict(input_test).reshape(-1),)\n",
    "model_auc"
   ]
  },
  {
   "cell_type": "code",
   "execution_count": 64,
   "metadata": {},
   "outputs": [
    {
     "data": {
      "text/plain": [
       "9"
      ]
     },
     "execution_count": 64,
     "metadata": {},
     "output_type": "execute_result"
    },
    {
     "data": {
      "application/javascript": [
       "\n",
       "            setTimeout(function() {\n",
       "                var nbb_cell_id = 64;\n",
       "                var nbb_unformatted_code = \"model.get_layer(\\\"reshape_num_input\\\").output_shape[1]\";\n",
       "                var nbb_formatted_code = \"model.get_layer(\\\"reshape_num_input\\\").output_shape[1]\";\n",
       "                var nbb_cells = Jupyter.notebook.get_cells();\n",
       "                for (var i = 0; i < nbb_cells.length; ++i) {\n",
       "                    if (nbb_cells[i].input_prompt_number == nbb_cell_id) {\n",
       "                        if (nbb_cells[i].get_text() == nbb_unformatted_code) {\n",
       "                             nbb_cells[i].set_text(nbb_formatted_code);\n",
       "                        }\n",
       "                        break;\n",
       "                    }\n",
       "                }\n",
       "            }, 500);\n",
       "            "
      ],
      "text/plain": [
       "<IPython.core.display.Javascript object>"
      ]
     },
     "metadata": {},
     "output_type": "display_data"
    }
   ],
   "source": [
    "model.get_layer(\"reshape_num_input\").output_shape[1]"
   ]
  },
  {
   "cell_type": "code",
   "execution_count": 66,
   "metadata": {},
   "outputs": [
    {
     "ename": "AttributeError",
     "evalue": "'Model' object has no attribute 'has_layer'",
     "output_type": "error",
     "traceback": [
      "\u001b[0;31m---------------------------------------------------------------------------\u001b[0m",
      "\u001b[0;31mAttributeError\u001b[0m                            Traceback (most recent call last)",
      "\u001b[0;32m<ipython-input-66-3e0e7d0b59c0>\u001b[0m in \u001b[0;36m<module>\u001b[0;34m\u001b[0m\n\u001b[0;32m----> 1\u001b[0;31m \u001b[0mmodel\u001b[0m\u001b[0;34m.\u001b[0m\u001b[0mhas_layer\u001b[0m\u001b[0;34m(\u001b[0m\u001b[0;34m\"aze\"\u001b[0m\u001b[0;34m)\u001b[0m\u001b[0;34m\u001b[0m\u001b[0;34m\u001b[0m\u001b[0m\n\u001b[0m",
      "\u001b[0;31mAttributeError\u001b[0m: 'Model' object has no attribute 'has_layer'"
     ]
    },
    {
     "data": {
      "application/javascript": [
       "\n",
       "            setTimeout(function() {\n",
       "                var nbb_cell_id = 66;\n",
       "                var nbb_unformatted_code = \"model.has_layer(\\\"aze\\\")\";\n",
       "                var nbb_formatted_code = \"model.has_layer(\\\"aze\\\")\";\n",
       "                var nbb_cells = Jupyter.notebook.get_cells();\n",
       "                for (var i = 0; i < nbb_cells.length; ++i) {\n",
       "                    if (nbb_cells[i].input_prompt_number == nbb_cell_id) {\n",
       "                        if (nbb_cells[i].get_text() == nbb_unformatted_code) {\n",
       "                             nbb_cells[i].set_text(nbb_formatted_code);\n",
       "                        }\n",
       "                        break;\n",
       "                    }\n",
       "                }\n",
       "            }, 500);\n",
       "            "
      ],
      "text/plain": [
       "<IPython.core.display.Javascript object>"
      ]
     },
     "metadata": {},
     "output_type": "display_data"
    }
   ],
   "source": [
    "model.has_layer(\"aze\")"
   ]
  },
  {
   "cell_type": "code",
   "execution_count": null,
   "metadata": {},
   "outputs": [],
   "source": [
    "#  BM : 0.8091600443913225\n",
    "# Census : 0.9467201048401863\n",
    "# give me some credit : 0.8599316528022821"
   ]
  },
  {
   "cell_type": "code",
   "execution_count": null,
   "metadata": {},
   "outputs": [],
   "source": [
    "# New version V3 => number are fillna, and activation is tanh instead of mish\n"
   ]
  },
  {
   "cell_type": "code",
   "execution_count": null,
   "metadata": {},
   "outputs": [],
   "source": [
    "# NEW VERSION\n",
    "# Bank marketing\n",
    "# valid 0.7974101623084582 test 0.8133980360868731     conv_dim=[],    lconv_dim=[128, 64, 32],    lconv_num_dim=[64, 32, 16], patience 20\n",
    "# RL\n",
    "# valid 0.9334586431074957 test 0.9331843177543191     conv_dim=[],    lconv_dim=[128, 64, 32],    lconv_num_dim=[64, 32, 16], patience 20"
   ]
  },
  {
   "cell_type": "code",
   "execution_count": null,
   "metadata": {},
   "outputs": [],
   "source": [
    "# Census example\n",
    "# valid 0.9282381974389771 test 0.9262939626480025 conv_dim=[64], lconv_dim=[128, 64, 32] patience 50\n",
    "\n",
    "# RL\n",
    "# valid 0.9363136991351992 test 0.9431532242454923 conv_dim=[64], lconv_dim=[128, 64, 32] patience 50\n",
    "\n",
    "# Open payments\n",
    "# valid 0.9395366568006073 test 0.9370193221838594 conv_dim=[64], lconv_dim=[128, 64, 32] patience 50\n",
    "\n",
    "# give-me-some-credit\n",
    "# valid  test  conv_dim=[64], lconv_dim=[128, 64, 32] patience 50"
   ]
  },
  {
   "cell_type": "code",
   "execution_count": null,
   "metadata": {},
   "outputs": [],
   "source": [
    "SAMPLE_NB = 1000"
   ]
  },
  {
   "cell_type": "code",
   "execution_count": null,
   "metadata": {},
   "outputs": [],
   "source": [
    "if INPUT_DIM > 0:\n",
    "    sample = X_valid_preproc[:SAMPLE_NB]\n",
    "if INPUT_DIM_BOOL > 0:\n",
    "    bool_sample = X_bool_valid[:SAMPLE_NB]\n",
    "if INPUT_DIM_NUM > 0:\n",
    "    num_sample = X_num_valid[:SAMPLE_NB]\n",
    "input_sample = []"
   ]
  },
  {
   "cell_type": "code",
   "execution_count": null,
   "metadata": {},
   "outputs": [],
   "source": [
    "if INPUT_DIM_BOOL > 0:\n",
    "    input_sample.append(bool_sample)\n",
    "if INPUT_DIM_NUM > 0:\n",
    "    input_sample.append(num_sample)\n",
    "if INPUT_DIM > 0:\n",
    "    input_sample.append(sample)\n"
   ]
  },
  {
   "cell_type": "code",
   "execution_count": null,
   "metadata": {},
   "outputs": [],
   "source": [
    "model_pred = model.predict(input_sample)\n",
    "model_pred.shape"
   ]
  },
  {
   "cell_type": "code",
   "execution_count": null,
   "metadata": {},
   "outputs": [],
   "source": [
    "model.layers[-2].output"
   ]
  },
  {
   "cell_type": "code",
   "execution_count": null,
   "metadata": {},
   "outputs": [],
   "source": [
    "model.layers[-3].output"
   ]
  },
  {
   "cell_type": "code",
   "execution_count": null,
   "metadata": {},
   "outputs": [],
   "source": [
    "new_model = Model(\n",
    "    inputs=[model.inputs],\n",
    "    outputs=[model.output, model.layers[-2].output, model.layers[-3].output],\n",
    ")"
   ]
  },
  {
   "cell_type": "code",
   "execution_count": null,
   "metadata": {},
   "outputs": [],
   "source": [
    "new_model_pred, feature_cat_inter, feature_num_inter = new_model.predict(input_sample)"
   ]
  },
  {
   "cell_type": "code",
   "execution_count": null,
   "metadata": {},
   "outputs": [],
   "source": [
    "assert np.all(model_pred == new_model_pred)"
   ]
  },
  {
   "cell_type": "code",
   "execution_count": null,
   "metadata": {},
   "outputs": [],
   "source": [
    "feature_cat_inter.shape"
   ]
  },
  {
   "cell_type": "code",
   "execution_count": null,
   "metadata": {},
   "outputs": [],
   "source": [
    "feature_num_inter.shape"
   ]
  },
  {
   "cell_type": "raw",
   "metadata": {},
   "source": [
    "sample.shape"
   ]
  },
  {
   "cell_type": "code",
   "execution_count": null,
   "metadata": {},
   "outputs": [],
   "source": [
    "# feature_inter.shape"
   ]
  },
  {
   "cell_type": "raw",
   "metadata": {},
   "source": [
    "num_sample_zero = np.zeros(num_sample.shape)\n",
    "bool_sample_zero = np.zeros(bool_sample.shape)\n",
    "\n",
    "for idx in range(sample.shape[1]):\n",
    "    real_idx = bool_sample.shape[1] + num_sample.shape[1] + idx\n",
    "    sample_one_col = np.zeros(sample.shape)\n",
    "\n",
    "    sample_one_col[:, idx] = sample[:, idx]\n",
    "    _, feature_inter_one_col, _ = new_model.predict(\n",
    "        (bool_sample_zero, num_sample_zero, sample_one_col)\n",
    "    )\n",
    "    #     for elt in range(feature_inter_one_col.shape[2]):\n",
    "    #         print(elt)\n",
    "    #         print(feature_inter_one_col[:, idx, :][elt])\n",
    "    #         print(feature_cat_inter[:, idx, :][elt])\n",
    "    #     print(np.sum(feature_inter_one_col[:, idx, :] - feature_cat_inter[:, idx, :]))\n",
    "    assert np.all(feature_inter_one_col[:, idx, :] == feature_cat_inter[:, idx, :])\n",
    "#     assert np.sum(feature_inter_one_col - feature_cat_inter) > 1"
   ]
  },
  {
   "cell_type": "raw",
   "metadata": {},
   "source": [
    "idx = 0\n",
    "real_idx = bool_sample.shape[1] + num_sample.shape[1] + idx\n",
    "sample_one_col = np.zeros(sample.shape)\n",
    "\n",
    "sample_one_col[:, idx] = sample[:, idx]\n",
    "_, feature_inter_one_col, _ = new_model.predict(\n",
    "    (bool_sample_zero, num_sample_zero, sample_one_col)\n",
    ")\n",
    "assert np.all(feature_inter_one_col[:, idx, :] == feature_cat_inter[:, idx, :])"
   ]
  },
  {
   "cell_type": "raw",
   "metadata": {},
   "source": [
    "feature_inter_one_col[:, 0, :].shape"
   ]
  },
  {
   "cell_type": "code",
   "execution_count": null,
   "metadata": {},
   "outputs": [],
   "source": [
    "new_model.layers[-1]"
   ]
  },
  {
   "cell_type": "code",
   "execution_count": null,
   "metadata": {},
   "outputs": [],
   "source": [
    "model.get_weights()[-2].shape"
   ]
  },
  {
   "cell_type": "code",
   "execution_count": null,
   "metadata": {},
   "outputs": [],
   "source": [
    "model.layers[-2].output"
   ]
  },
  {
   "cell_type": "code",
   "execution_count": null,
   "metadata": {},
   "outputs": [],
   "source": [
    "new_model = Model(inputs=[model.input], outputs=[model.layers[-2].output])"
   ]
  },
  {
   "cell_type": "code",
   "execution_count": null,
   "metadata": {},
   "outputs": [],
   "source": [
    "%%time\n",
    "new_train_logistic = new_model.predict(input_model)\n",
    "new_valid_logistic = new_model.predict(input_valid)\n",
    "new_test_logistic = new_model.predict(input_test)\n"
   ]
  },
  {
   "cell_type": "code",
   "execution_count": null,
   "metadata": {},
   "outputs": [],
   "source": [
    "from sklearn.linear_model import LogisticRegression, LogisticRegressionCV"
   ]
  },
  {
   "cell_type": "code",
   "execution_count": null,
   "metadata": {},
   "outputs": [],
   "source": [
    "lreg = LogisticRegression(max_iter=300, n_jobs=-1, random_state=SEED)"
   ]
  },
  {
   "cell_type": "code",
   "execution_count": null,
   "metadata": {},
   "outputs": [],
   "source": [
    "%%time\n",
    "lreg.fit(new_train_logistic, y_train.reshape(-1))"
   ]
  },
  {
   "cell_type": "code",
   "execution_count": null,
   "metadata": {},
   "outputs": [],
   "source": [
    "roc_auc_score(\n",
    "    y_true=y_valid, y_score=lreg.predict_proba(new_valid_logistic)[:, 1],\n",
    ")"
   ]
  },
  {
   "cell_type": "code",
   "execution_count": null,
   "metadata": {},
   "outputs": [],
   "source": [
    "#  BM : 0.7914463179718816\n",
    "# give me some credit :0.8582349903898445"
   ]
  },
  {
   "cell_type": "code",
   "execution_count": null,
   "metadata": {},
   "outputs": [],
   "source": [
    "roc_auc_score(\n",
    "    y_true=y_test, y_score=lreg.predict_proba(new_test_logistic)[:, 1],\n",
    ")"
   ]
  },
  {
   "cell_type": "code",
   "execution_count": null,
   "metadata": {},
   "outputs": [],
   "source": [
    "# BM : 0.8097976507760546\n",
    "# give me some credit :0.8593843699840211\n"
   ]
  },
  {
   "cell_type": "raw",
   "metadata": {},
   "source": [
    "lreg_cv = LogisticRegressionCV(Cs=10, max_iter=300, n_jobs=-1, cv=5, random_state=0)"
   ]
  },
  {
   "cell_type": "raw",
   "metadata": {},
   "source": [
    "%%time\n",
    "lreg_cv.fit(new_train_logistic, y_train.reshape(-1))"
   ]
  },
  {
   "cell_type": "raw",
   "metadata": {},
   "source": [
    "roc_auc_score(\n",
    "    y_true=y_valid, y_score=lreg_cv.predict_proba(new_valid_logistic)[:, 1],\n",
    ")"
   ]
  },
  {
   "cell_type": "markdown",
   "metadata": {},
   "source": [
    "roc_auc_score(\n",
    "    y_true=y_test, y_score=lreg_cv.predict_proba(new_test_logistic)[:, 1],\n",
    ")"
   ]
  },
  {
   "cell_type": "code",
   "execution_count": null,
   "metadata": {},
   "outputs": [],
   "source": [
    "!pip install xgboost"
   ]
  },
  {
   "cell_type": "code",
   "execution_count": null,
   "metadata": {},
   "outputs": [],
   "source": [
    "from xgboost import XGBClassifier"
   ]
  },
  {
   "cell_type": "code",
   "execution_count": null,
   "metadata": {},
   "outputs": [],
   "source": [
    "xgb = XGBClassifier(verbosity=1, tree_method=\"hist\", seed=SEED,)"
   ]
  },
  {
   "cell_type": "code",
   "execution_count": null,
   "metadata": {},
   "outputs": [],
   "source": [
    "train_indices = train[train.Set == \"train\"].index\n",
    "valid_indices = train[train.Set == \"valid\"].index\n",
    "test_indices = train[train.Set == \"test\"].index"
   ]
  },
  {
   "cell_type": "code",
   "execution_count": null,
   "metadata": {},
   "outputs": [],
   "source": [
    "new_train_logistic.shape"
   ]
  },
  {
   "cell_type": "code",
   "execution_count": null,
   "metadata": {},
   "outputs": [],
   "source": [
    "cat_cols = {}"
   ]
  },
  {
   "cell_type": "code",
   "execution_count": null,
   "metadata": {},
   "outputs": [],
   "source": [
    "for col in used_columns:\n",
    "    enc = LabelEncoder()\n",
    "    train[col] = enc.fit_transform(train[col].values.astype(\"str\").reshape(-1))\n",
    "    cat_cols[col] = enc"
   ]
  },
  {
   "cell_type": "code",
   "execution_count": null,
   "metadata": {},
   "outputs": [],
   "source": [
    "new_concat_train = np.hstack(\n",
    "    [\n",
    "        new_train_logistic,\n",
    "        train[num_cols].values[train_indices],\n",
    "        train[used_columns].values[train_indices],\n",
    "    ]\n",
    ")\n",
    "new_concat_train.shape"
   ]
  },
  {
   "cell_type": "code",
   "execution_count": null,
   "metadata": {},
   "outputs": [],
   "source": [
    "new_concat_valid = np.hstack(\n",
    "    [\n",
    "        new_valid_logistic,\n",
    "        train[num_cols].values[valid_indices],\n",
    "        train[used_columns].values[valid_indices],\n",
    "    ]\n",
    ")\n",
    "new_concat_valid.shape"
   ]
  },
  {
   "cell_type": "code",
   "execution_count": null,
   "metadata": {},
   "outputs": [],
   "source": [
    "new_concat_test = np.hstack(\n",
    "    [\n",
    "        new_test_logistic,\n",
    "        train[num_cols].values[test_indices],\n",
    "        train[used_columns].values[test_indices],\n",
    "    ]\n",
    ")\n",
    "new_concat_test.shape"
   ]
  },
  {
   "cell_type": "code",
   "execution_count": null,
   "metadata": {},
   "outputs": [],
   "source": [
    "xgb.fit(\n",
    "    new_concat_train,\n",
    "    y_train.reshape(-1),\n",
    "    eval_set=[(new_concat_valid, y_valid.reshape(-1))],\n",
    "    eval_metric=\"auc\",\n",
    "    early_stopping_rounds=20,\n",
    ")"
   ]
  },
  {
   "cell_type": "code",
   "execution_count": null,
   "metadata": {},
   "outputs": [],
   "source": [
    "roc_auc_score(\n",
    "    y_true=y_valid, y_score=xgb.predict_proba(new_concat_valid)[:, 1],\n",
    ")"
   ]
  },
  {
   "cell_type": "code",
   "execution_count": null,
   "metadata": {},
   "outputs": [],
   "source": [
    "#  BM : 0.7950377112004379\n",
    "# give me some credit :0.8608505974744193\n"
   ]
  },
  {
   "cell_type": "code",
   "execution_count": null,
   "metadata": {},
   "outputs": [],
   "source": [
    "roc_auc_score(\n",
    "    y_true=y_test, y_score=xgb.predict_proba(new_concat_test)[:, 1],\n",
    ")"
   ]
  },
  {
   "cell_type": "code",
   "execution_count": null,
   "metadata": {},
   "outputs": [],
   "source": [
    "#  BM : 0.8175536181491652\n",
    "# give me some credit :0.8636238967612501"
   ]
  },
  {
   "cell_type": "code",
   "execution_count": null,
   "metadata": {},
   "outputs": [],
   "source": [
    "stack_valid = (\n",
    "    lreg.predict_proba(new_valid_logistic)[:, 1].reshape(-1)\n",
    "    + xgb.predict_proba(new_concat_valid)[:, 1].reshape(-1)\n",
    "    # + model.predict(input_valid).reshape(-1)\n",
    ") / 2\n",
    "stack_valid.shape"
   ]
  },
  {
   "cell_type": "code",
   "execution_count": null,
   "metadata": {},
   "outputs": [],
   "source": [
    "roc_auc_score(\n",
    "    y_true=y_valid, y_score=stack_valid,\n",
    ")"
   ]
  },
  {
   "cell_type": "code",
   "execution_count": null,
   "metadata": {},
   "outputs": [],
   "source": [
    "# BM 0.7989376973709024\n",
    "# give me some credit :0.8620617468400065"
   ]
  },
  {
   "cell_type": "code",
   "execution_count": null,
   "metadata": {},
   "outputs": [],
   "source": [
    "stack_test = (\n",
    "    lreg.predict_proba(new_test_logistic)[:, 1].reshape(-1)\n",
    "    + xgb.predict_proba(new_concat_test)[:, 1].reshape(-1)\n",
    "    # + model.predict(input_test).reshape(-1)\n",
    ") / 2\n",
    "stack_test.shape"
   ]
  },
  {
   "cell_type": "code",
   "execution_count": null,
   "metadata": {},
   "outputs": [],
   "source": [
    "roc_auc_score(\n",
    "    y_true=y_test, y_score=stack_test,\n",
    ")"
   ]
  },
  {
   "cell_type": "code",
   "execution_count": null,
   "metadata": {},
   "outputs": [],
   "source": [
    "# BM 0.8212055857859865\n",
    "# give me some credit :0.8640850442432623"
   ]
  },
  {
   "cell_type": "code",
   "execution_count": null,
   "metadata": {},
   "outputs": [],
   "source": [
    "lreg.coef_"
   ]
  },
  {
   "cell_type": "code",
   "execution_count": null,
   "metadata": {},
   "outputs": [],
   "source": [
    "model.get_weights()[-2]"
   ]
  },
  {
   "cell_type": "code",
   "execution_count": null,
   "metadata": {},
   "outputs": [],
   "source": [
    "explainable_model = Model(\n",
    "    inputs=[model.input], outputs=[model.output, model.layers[-3].output]\n",
    ")"
   ]
  },
  {
   "cell_type": "code",
   "execution_count": null,
   "metadata": {},
   "outputs": [],
   "source": [
    "preds, explainability = explainable_model.predict(input_sample)"
   ]
  },
  {
   "cell_type": "code",
   "execution_count": null,
   "metadata": {},
   "outputs": [],
   "source": [
    "preds.shape"
   ]
  },
  {
   "cell_type": "code",
   "execution_count": null,
   "metadata": {},
   "outputs": [],
   "source": [
    "explainability.shape"
   ]
  },
  {
   "cell_type": "code",
   "execution_count": null,
   "metadata": {},
   "outputs": [],
   "source": [
    "model.get_weights()[-6].shape"
   ]
  },
  {
   "cell_type": "code",
   "execution_count": null,
   "metadata": {},
   "outputs": [],
   "source": [
    "model.layers[-6].output"
   ]
  },
  {
   "cell_type": "code",
   "execution_count": null,
   "metadata": {},
   "outputs": [],
   "source": [
    "model.layers[-7].output"
   ]
  },
  {
   "cell_type": "code",
   "execution_count": null,
   "metadata": {},
   "outputs": [],
   "source": [
    "model.layers[-5]"
   ]
  },
  {
   "cell_type": "code",
   "execution_count": null,
   "metadata": {},
   "outputs": [],
   "source": [
    "explainable_model = Model(\n",
    "    inputs=[model.input],\n",
    "    outputs=[\n",
    "        model.output,\n",
    "        model.layers[-5].output,\n",
    "        model.layers[-7].output,\n",
    "        model.layers[-6].output,\n",
    "    ],\n",
    ")"
   ]
  },
  {
   "cell_type": "code",
   "execution_count": null,
   "metadata": {},
   "outputs": [],
   "source": [
    "preds, expl_boo, expl_num, expl_others = explainable_model.predict(input_sample)"
   ]
  },
  {
   "cell_type": "code",
   "execution_count": null,
   "metadata": {},
   "outputs": [],
   "source": [
    "expl_num.shape"
   ]
  },
  {
   "cell_type": "code",
   "execution_count": null,
   "metadata": {},
   "outputs": [],
   "source": [
    "preds"
   ]
  },
  {
   "cell_type": "code",
   "execution_count": null,
   "metadata": {},
   "outputs": [],
   "source": [
    "model.get_weights()[-2].shape"
   ]
  },
  {
   "cell_type": "code",
   "execution_count": null,
   "metadata": {},
   "outputs": [],
   "source": [
    "bool_weight = model.get_weights()[-2][:1]\n",
    "bool_weight.shape"
   ]
  },
  {
   "cell_type": "code",
   "execution_count": null,
   "metadata": {},
   "outputs": [],
   "source": [
    "num_weight = model.get_weights()[-2][1 : 9 * 16 + 1].reshape(-1, 16)\n",
    "num_weight.shape"
   ]
  },
  {
   "cell_type": "code",
   "execution_count": null,
   "metadata": {},
   "outputs": [],
   "source": [
    "others_weight = model.get_weights()[-2][9 * 16 + 1 :].reshape(-1, 32)\n",
    "others_weight.shape"
   ]
  },
  {
   "cell_type": "code",
   "execution_count": null,
   "metadata": {},
   "outputs": [],
   "source": [
    "expl_boo[0]"
   ]
  },
  {
   "cell_type": "code",
   "execution_count": null,
   "metadata": {},
   "outputs": [],
   "source": [
    "expl_num[0].shape"
   ]
  },
  {
   "cell_type": "code",
   "execution_count": null,
   "metadata": {},
   "outputs": [],
   "source": [
    "expl_others[0].shape"
   ]
  },
  {
   "cell_type": "code",
   "execution_count": null,
   "metadata": {},
   "outputs": [],
   "source": [
    "1 + 9 * 16 + 9 * 32"
   ]
  },
  {
   "cell_type": "code",
   "execution_count": null,
   "metadata": {},
   "outputs": [],
   "source": [
    "manual_pred = (\n",
    "    expl_boo[0].reshape(-1) * bool_weight.reshape(-1)\n",
    "    + (expl_num[0].reshape(-1) * num_weight.reshape(-1)).sum()\n",
    "    + (expl_others[0].reshape(-1) * others_weight.reshape(-1)).sum()\n",
    ") + model.layers[-1].get_weights()[1]\n",
    "manual_pred"
   ]
  },
  {
   "cell_type": "code",
   "execution_count": null,
   "metadata": {},
   "outputs": [],
   "source": [
    "from tensorflow.keras.activations import sigmoid"
   ]
  },
  {
   "cell_type": "code",
   "execution_count": null,
   "metadata": {},
   "outputs": [],
   "source": [
    "assert np.isclose(sigmoid(manual_pred).numpy(), preds[0])"
   ]
  },
  {
   "cell_type": "code",
   "execution_count": null,
   "metadata": {},
   "outputs": [],
   "source": [
    "model.layers[-1].get_weights()[1]"
   ]
  },
  {
   "cell_type": "code",
   "execution_count": null,
   "metadata": {},
   "outputs": [],
   "source": [
    "all(model.get_weights()[-2] == model.layers[-1].get_weights()[0])"
   ]
  },
  {
   "cell_type": "code",
   "execution_count": null,
   "metadata": {},
   "outputs": [],
   "source": [
    "expl_num[0].shape"
   ]
  },
  {
   "cell_type": "code",
   "execution_count": null,
   "metadata": {},
   "outputs": [],
   "source": [
    "num_weight.shape"
   ]
  },
  {
   "cell_type": "code",
   "execution_count": null,
   "metadata": {},
   "outputs": [],
   "source": [
    "features_explain = np.hstack(\n",
    "    [\n",
    "        (expl_boo * bool_weight).sum(axis=-1).reshape(-1, 1),\n",
    "        (expl_num * num_weight).sum(-1),\n",
    "        (expl_others * others_weight).sum(axis=-1),\n",
    "    ]\n",
    ")\n",
    "features_explain.shape"
   ]
  },
  {
   "cell_type": "code",
   "execution_count": null,
   "metadata": {},
   "outputs": [],
   "source": [
    "np.allclose(\n",
    "    sigmoid(features_explain.sum(axis=1) + model.layers[-1].get_weights()[1]).numpy(),\n",
    "    preds.reshape(-1),\n",
    ")"
   ]
  },
  {
   "cell_type": "code",
   "execution_count": null,
   "metadata": {},
   "outputs": [],
   "source": [
    "import matplotlib.pyplot as plt\n",
    "\n",
    "# plt.rcdefaults()\n",
    "import numpy as np\n",
    "import matplotlib.pyplot as plt\n",
    "\n",
    "\n",
    "def explain_plot(importances, columns):\n",
    "    # objects = ('Python', 'C++', 'Java', 'Perl', 'Scala', 'Lisp')\n",
    "    y_pos = np.arange(importances.shape[0])\n",
    "    indexes = np.argsort(importances)\n",
    "    performance = importances[indexes]\n",
    "\n",
    "    plt.barh(y_pos, performance, align=\"center\", alpha=0.5)\n",
    "    plt.yticks(y_pos, columns[indexes])\n",
    "    # plt.xlabel('Usage')\n",
    "    plt.title(\"Feature importance\")\n",
    "\n",
    "    plt.show()"
   ]
  },
  {
   "cell_type": "code",
   "execution_count": null,
   "metadata": {},
   "outputs": [],
   "source": [
    "all_cols = np.array(bool_cols + num_cols.tolist() + used_columns)\n",
    "all_cols"
   ]
  },
  {
   "cell_type": "code",
   "execution_count": null,
   "metadata": {},
   "outputs": [],
   "source": [
    "explain_plot(np.abs(features_explain).sum(axis=0), all_cols)"
   ]
  },
  {
   "cell_type": "code",
   "execution_count": null,
   "metadata": {},
   "outputs": [],
   "source": [
    "explain_plot(features_explain.sum(axis=0), all_cols)"
   ]
  },
  {
   "cell_type": "code",
   "execution_count": null,
   "metadata": {},
   "outputs": [],
   "source": [
    "explain_plot(features_explain[10], all_cols)"
   ]
  },
  {
   "cell_type": "code",
   "execution_count": null,
   "metadata": {},
   "outputs": [],
   "source": [
    "explain_plot(features_explain[0], all_cols)"
   ]
  },
  {
   "cell_type": "code",
   "execution_count": null,
   "metadata": {},
   "outputs": [],
   "source": [
    "def sigmoid_derivate(x):\n",
    "    return np.exp(-x) / (np.exp(-x) + 1) ** 2"
   ]
  },
  {
   "cell_type": "code",
   "execution_count": null,
   "metadata": {},
   "outputs": [],
   "source": [
    "sigmoid_derivate(features_explain[10]).sum()"
   ]
  },
  {
   "cell_type": "code",
   "execution_count": null,
   "metadata": {},
   "outputs": [],
   "source": [
    "sigmoid(features_explain[10])"
   ]
  },
  {
   "cell_type": "code",
   "execution_count": null,
   "metadata": {},
   "outputs": [],
   "source": [
    "features_explain[0]"
   ]
  },
  {
   "cell_type": "code",
   "execution_count": null,
   "metadata": {},
   "outputs": [],
   "source": [
    "explain_plot(features_explain[0], all_cols)"
   ]
  },
  {
   "cell_type": "code",
   "execution_count": null,
   "metadata": {},
   "outputs": [],
   "source": [
    "for explanation in features_explain[:10]:\n",
    "    explain_plot(explanation, all_cols)"
   ]
  },
  {
   "cell_type": "code",
   "execution_count": null,
   "metadata": {},
   "outputs": [],
   "source": []
  },
  {
   "cell_type": "code",
   "execution_count": null,
   "metadata": {},
   "outputs": [],
   "source": []
  }
 ],
 "metadata": {
  "kernelspec": {
   "display_name": "Python 3",
   "language": "python",
   "name": "python3"
  },
  "language_info": {
   "codemirror_mode": {
    "name": "ipython",
    "version": 3
   },
   "file_extension": ".py",
   "mimetype": "text/x-python",
   "name": "python",
   "nbconvert_exporter": "python",
   "pygments_lexer": "ipython3",
   "version": "3.7.7"
  }
 },
 "nbformat": 4,
 "nbformat_minor": 4
}
