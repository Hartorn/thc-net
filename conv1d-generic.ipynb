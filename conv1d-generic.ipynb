{
 "cells": [
  {
   "cell_type": "code",
   "execution_count": 1,
   "metadata": {
    "ExecuteTime": {
     "end_time": "2020-05-25T20:59:43.941660Z",
     "start_time": "2020-05-25T20:59:43.833639Z"
    }
   },
   "outputs": [
    {
     "data": {
      "application/javascript": [
       "\n",
       "            setTimeout(function() {\n",
       "                var nbb_cell_id = 1;\n",
       "                var nbb_unformatted_code = \"%load_ext nb_black\";\n",
       "                var nbb_formatted_code = \"%load_ext nb_black\";\n",
       "                var nbb_cells = Jupyter.notebook.get_cells();\n",
       "                for (var i = 0; i < nbb_cells.length; ++i) {\n",
       "                    if (nbb_cells[i].input_prompt_number == nbb_cell_id) {\n",
       "                        if (nbb_cells[i].get_text() == nbb_unformatted_code) {\n",
       "                             nbb_cells[i].set_text(nbb_formatted_code);\n",
       "                        }\n",
       "                        break;\n",
       "                    }\n",
       "                }\n",
       "            }, 500);\n",
       "            "
      ],
      "text/plain": [
       "<IPython.core.display.Javascript object>"
      ]
     },
     "metadata": {},
     "output_type": "display_data"
    }
   ],
   "source": [
    "%load_ext nb_black"
   ]
  },
  {
   "cell_type": "code",
   "execution_count": 2,
   "metadata": {
    "ExecuteTime": {
     "end_time": "2020-05-25T20:59:44.433824Z",
     "start_time": "2020-05-25T20:59:43.943368Z"
    }
   },
   "outputs": [
    {
     "data": {
      "application/javascript": [
       "\n",
       "            setTimeout(function() {\n",
       "                var nbb_cell_id = 2;\n",
       "                var nbb_unformatted_code = \"import os\\nfrom pathlib import Path\\n\\nfrom requests import get\\nimport pandas as pd\\nimport numpy as np\\n\\nnp.random.seed(0)\\n\\nfrom sklearn.preprocessing import LabelEncoder, StandardScaler\\nfrom sklearn.metrics import roc_auc_score\\n\\nimport logging\\n\\nlogging.basicConfig(level=logging.WARN)\";\n",
       "                var nbb_formatted_code = \"import os\\nfrom pathlib import Path\\n\\nfrom requests import get\\nimport pandas as pd\\nimport numpy as np\\n\\nnp.random.seed(0)\\n\\nfrom sklearn.preprocessing import LabelEncoder, StandardScaler\\nfrom sklearn.metrics import roc_auc_score\\n\\nimport logging\\n\\nlogging.basicConfig(level=logging.WARN)\";\n",
       "                var nbb_cells = Jupyter.notebook.get_cells();\n",
       "                for (var i = 0; i < nbb_cells.length; ++i) {\n",
       "                    if (nbb_cells[i].input_prompt_number == nbb_cell_id) {\n",
       "                        if (nbb_cells[i].get_text() == nbb_unformatted_code) {\n",
       "                             nbb_cells[i].set_text(nbb_formatted_code);\n",
       "                        }\n",
       "                        break;\n",
       "                    }\n",
       "                }\n",
       "            }, 500);\n",
       "            "
      ],
      "text/plain": [
       "<IPython.core.display.Javascript object>"
      ]
     },
     "metadata": {},
     "output_type": "display_data"
    }
   ],
   "source": [
    "import os\n",
    "from pathlib import Path\n",
    "\n",
    "from requests import get\n",
    "import pandas as pd\n",
    "import numpy as np\n",
    "\n",
    "np.random.seed(0)\n",
    "\n",
    "from sklearn.preprocessing import LabelEncoder, StandardScaler\n",
    "from sklearn.metrics import roc_auc_score\n",
    "\n",
    "import logging\n",
    "\n",
    "logging.basicConfig(level=logging.WARN)\n"
   ]
  },
  {
   "cell_type": "code",
   "execution_count": 3,
   "metadata": {
    "ExecuteTime": {
     "end_time": "2020-05-25T20:59:45.767278Z",
     "start_time": "2020-05-25T20:59:44.435849Z"
    }
   },
   "outputs": [
    {
     "data": {
      "application/javascript": [
       "\n",
       "            setTimeout(function() {\n",
       "                var nbb_cell_id = 3;\n",
       "                var nbb_unformatted_code = \"from tensorflow.keras import Model, Input\\nfrom tensorflow.keras.utils import plot_model, model_to_dot\\nfrom tensorflow.keras.layers import (\\n    Conv1D,\\n    SpatialDropout1D,\\n    LocallyConnected1D,\\n    Dense,\\n    Reshape,\\n    MaxPooling1D,\\n    BatchNormalization,\\n    Activation,\\n    LayerNormalization,\\n    Concatenate\\n)\\n\\nfrom tensorflow.keras.callbacks import EarlyStopping\\nfrom tensorflow.keras.utils import to_categorical\\n\\nfrom tensorflow_addons.activations import mish\\nfrom tensorflow_addons.optimizers import RectifiedAdam, Lookahead\\nfrom tensorflow_addons.layers import WeightNormalization\\n\\nfrom sklearn.model_selection import train_test_split, StratifiedShuffleSplit\\nfrom sklearn.metrics import roc_auc_score\\nfrom sklearn.preprocessing import LabelEncoder\\n\\n\\nfrom itertools import repeat\\nfrom concurrent.futures import ProcessPoolExecutor as PoolExecutor\\n\\nimport matplotlib.pyplot as plt\\nfrom matplotlib.pyplot import imshow\\n\\n%matplotlib inline\";\n",
       "                var nbb_formatted_code = \"from tensorflow.keras import Model, Input\\nfrom tensorflow.keras.utils import plot_model, model_to_dot\\nfrom tensorflow.keras.layers import (\\n    Conv1D,\\n    SpatialDropout1D,\\n    LocallyConnected1D,\\n    Dense,\\n    Reshape,\\n    MaxPooling1D,\\n    BatchNormalization,\\n    Activation,\\n    LayerNormalization,\\n    Concatenate,\\n)\\n\\nfrom tensorflow.keras.callbacks import EarlyStopping\\nfrom tensorflow.keras.utils import to_categorical\\n\\nfrom tensorflow_addons.activations import mish\\nfrom tensorflow_addons.optimizers import RectifiedAdam, Lookahead\\nfrom tensorflow_addons.layers import WeightNormalization\\n\\nfrom sklearn.model_selection import train_test_split, StratifiedShuffleSplit\\nfrom sklearn.metrics import roc_auc_score\\nfrom sklearn.preprocessing import LabelEncoder\\n\\n\\nfrom itertools import repeat\\nfrom concurrent.futures import ProcessPoolExecutor as PoolExecutor\\n\\nimport matplotlib.pyplot as plt\\nfrom matplotlib.pyplot import imshow\\n\\n%matplotlib inline\";\n",
       "                var nbb_cells = Jupyter.notebook.get_cells();\n",
       "                for (var i = 0; i < nbb_cells.length; ++i) {\n",
       "                    if (nbb_cells[i].input_prompt_number == nbb_cell_id) {\n",
       "                        if (nbb_cells[i].get_text() == nbb_unformatted_code) {\n",
       "                             nbb_cells[i].set_text(nbb_formatted_code);\n",
       "                        }\n",
       "                        break;\n",
       "                    }\n",
       "                }\n",
       "            }, 500);\n",
       "            "
      ],
      "text/plain": [
       "<IPython.core.display.Javascript object>"
      ]
     },
     "metadata": {},
     "output_type": "display_data"
    }
   ],
   "source": [
    "from tensorflow.keras import Model, Input\n",
    "from tensorflow.keras.utils import plot_model, model_to_dot\n",
    "from tensorflow.keras.layers import (\n",
    "    Conv1D,\n",
    "    SpatialDropout1D,\n",
    "    LocallyConnected1D,\n",
    "    Dense,\n",
    "    Reshape,\n",
    "    MaxPooling1D,\n",
    "    BatchNormalization,\n",
    "    Activation,\n",
    "    LayerNormalization,\n",
    "    Concatenate\n",
    ")\n",
    "\n",
    "from tensorflow.keras.callbacks import EarlyStopping\n",
    "from tensorflow.keras.utils import to_categorical\n",
    "\n",
    "from tensorflow_addons.activations import mish\n",
    "from tensorflow_addons.optimizers import RectifiedAdam, Lookahead\n",
    "from tensorflow_addons.layers import WeightNormalization\n",
    "\n",
    "from sklearn.model_selection import train_test_split, StratifiedShuffleSplit\n",
    "from sklearn.metrics import roc_auc_score\n",
    "from sklearn.preprocessing import LabelEncoder\n",
    "\n",
    "\n",
    "from itertools import repeat\n",
    "from concurrent.futures import ProcessPoolExecutor as PoolExecutor\n",
    "\n",
    "import matplotlib.pyplot as plt\n",
    "from matplotlib.pyplot import imshow\n",
    "\n",
    "%matplotlib inline\n"
   ]
  },
  {
   "cell_type": "code",
   "execution_count": 4,
   "metadata": {},
   "outputs": [
    {
     "data": {
      "application/javascript": [
       "\n",
       "            setTimeout(function() {\n",
       "                var nbb_cell_id = 4;\n",
       "                var nbb_unformatted_code = \"import tensorflow_addons as tfa\";\n",
       "                var nbb_formatted_code = \"import tensorflow_addons as tfa\";\n",
       "                var nbb_cells = Jupyter.notebook.get_cells();\n",
       "                for (var i = 0; i < nbb_cells.length; ++i) {\n",
       "                    if (nbb_cells[i].input_prompt_number == nbb_cell_id) {\n",
       "                        if (nbb_cells[i].get_text() == nbb_unformatted_code) {\n",
       "                             nbb_cells[i].set_text(nbb_formatted_code);\n",
       "                        }\n",
       "                        break;\n",
       "                    }\n",
       "                }\n",
       "            }, 500);\n",
       "            "
      ],
      "text/plain": [
       "<IPython.core.display.Javascript object>"
      ]
     },
     "metadata": {},
     "output_type": "display_data"
    }
   ],
   "source": [
    "import tensorflow_addons as tfa"
   ]
  },
  {
   "cell_type": "code",
   "execution_count": 5,
   "metadata": {
    "ExecuteTime": {
     "end_time": "2020-05-25T20:59:45.781039Z",
     "start_time": "2020-05-25T20:59:45.769170Z"
    }
   },
   "outputs": [
    {
     "data": {
      "application/javascript": [
       "\n",
       "            setTimeout(function() {\n",
       "                var nbb_cell_id = 5;\n",
       "                var nbb_unformatted_code = \"def word_to_np_array(word, cut_length):\\n    result = np.zeros(cut_length, dtype=\\\"uint8\\\")\\n    for i, letter in enumerate(word[:cut_length]):\\n        result[i] = ord(letter)\\n    return result\";\n",
       "                var nbb_formatted_code = \"def word_to_np_array(word, cut_length):\\n    result = np.zeros(cut_length, dtype=\\\"uint8\\\")\\n    for i, letter in enumerate(word[:cut_length]):\\n        result[i] = ord(letter)\\n    return result\";\n",
       "                var nbb_cells = Jupyter.notebook.get_cells();\n",
       "                for (var i = 0; i < nbb_cells.length; ++i) {\n",
       "                    if (nbb_cells[i].input_prompt_number == nbb_cell_id) {\n",
       "                        if (nbb_cells[i].get_text() == nbb_unformatted_code) {\n",
       "                             nbb_cells[i].set_text(nbb_formatted_code);\n",
       "                        }\n",
       "                        break;\n",
       "                    }\n",
       "                }\n",
       "            }, 500);\n",
       "            "
      ],
      "text/plain": [
       "<IPython.core.display.Javascript object>"
      ]
     },
     "metadata": {},
     "output_type": "display_data"
    }
   ],
   "source": [
    "def word_to_np_array(word, cut_length):\n",
    "    result = np.zeros(cut_length, dtype=\"uint8\")\n",
    "    for i, letter in enumerate(word[:cut_length]):\n",
    "        result[i] = ord(letter)\n",
    "    return result"
   ]
  },
  {
   "cell_type": "code",
   "execution_count": 6,
   "metadata": {
    "ExecuteTime": {
     "end_time": "2020-05-25T20:59:45.893504Z",
     "start_time": "2020-05-25T20:59:45.782485Z"
    }
   },
   "outputs": [
    {
     "data": {
      "application/javascript": [
       "\n",
       "            setTimeout(function() {\n",
       "                var nbb_cell_id = 6;\n",
       "                var nbb_unformatted_code = \"def line_to_img(line, cut_length):\\n    result = np.zeros((line.shape[0], cut_length), dtype=\\\"uint8\\\")\\n    for i in range(line.shape[0]):\\n        result[i] = word_to_np_array(line[i], cut_length)\\n    return result\";\n",
       "                var nbb_formatted_code = \"def line_to_img(line, cut_length):\\n    result = np.zeros((line.shape[0], cut_length), dtype=\\\"uint8\\\")\\n    for i in range(line.shape[0]):\\n        result[i] = word_to_np_array(line[i], cut_length)\\n    return result\";\n",
       "                var nbb_cells = Jupyter.notebook.get_cells();\n",
       "                for (var i = 0; i < nbb_cells.length; ++i) {\n",
       "                    if (nbb_cells[i].input_prompt_number == nbb_cell_id) {\n",
       "                        if (nbb_cells[i].get_text() == nbb_unformatted_code) {\n",
       "                             nbb_cells[i].set_text(nbb_formatted_code);\n",
       "                        }\n",
       "                        break;\n",
       "                    }\n",
       "                }\n",
       "            }, 500);\n",
       "            "
      ],
      "text/plain": [
       "<IPython.core.display.Javascript object>"
      ]
     },
     "metadata": {},
     "output_type": "display_data"
    }
   ],
   "source": [
    "def line_to_img(line, cut_length):\n",
    "    result = np.zeros((line.shape[0], cut_length), dtype=\"uint8\")\n",
    "    for i in range(line.shape[0]):\n",
    "        result[i] = word_to_np_array(line[i], cut_length)\n",
    "    return result"
   ]
  },
  {
   "cell_type": "code",
   "execution_count": 7,
   "metadata": {
    "ExecuteTime": {
     "end_time": "2020-05-25T20:59:46.016629Z",
     "start_time": "2020-05-25T20:59:45.895831Z"
    }
   },
   "outputs": [
    {
     "data": {
      "application/javascript": [
       "\n",
       "            setTimeout(function() {\n",
       "                var nbb_cell_id = 7;\n",
       "                var nbb_unformatted_code = \"def do_parallel_numpy(map_func, iter_params, constant_params=None):\\n    repeated_params = (\\n        [] if constant_params is None else list(map(repeat, constant_params))\\n    )\\n    results = None\\n    with PoolExecutor() as executor:\\n        results = np.stack(\\n            list(executor.map(map_func, *iter_params, *repeated_params)), axis=0\\n        )\\n    return results\";\n",
       "                var nbb_formatted_code = \"def do_parallel_numpy(map_func, iter_params, constant_params=None):\\n    repeated_params = (\\n        [] if constant_params is None else list(map(repeat, constant_params))\\n    )\\n    results = None\\n    with PoolExecutor() as executor:\\n        results = np.stack(\\n            list(executor.map(map_func, *iter_params, *repeated_params)), axis=0\\n        )\\n    return results\";\n",
       "                var nbb_cells = Jupyter.notebook.get_cells();\n",
       "                for (var i = 0; i < nbb_cells.length; ++i) {\n",
       "                    if (nbb_cells[i].input_prompt_number == nbb_cell_id) {\n",
       "                        if (nbb_cells[i].get_text() == nbb_unformatted_code) {\n",
       "                             nbb_cells[i].set_text(nbb_formatted_code);\n",
       "                        }\n",
       "                        break;\n",
       "                    }\n",
       "                }\n",
       "            }, 500);\n",
       "            "
      ],
      "text/plain": [
       "<IPython.core.display.Javascript object>"
      ]
     },
     "metadata": {},
     "output_type": "display_data"
    }
   ],
   "source": [
    "def do_parallel_numpy(map_func, iter_params, constant_params=None):\n",
    "    repeated_params = (\n",
    "        [] if constant_params is None else list(map(repeat, constant_params))\n",
    "    )\n",
    "    results = None\n",
    "    with PoolExecutor() as executor:\n",
    "        results = np.stack(\n",
    "            list(executor.map(map_func, *iter_params, *repeated_params)), axis=0\n",
    "        )\n",
    "    return results"
   ]
  },
  {
   "cell_type": "code",
   "execution_count": 8,
   "metadata": {
    "ExecuteTime": {
     "end_time": "2020-05-25T20:59:46.106802Z",
     "start_time": "2020-05-25T20:59:46.020842Z"
    }
   },
   "outputs": [
    {
     "data": {
      "application/javascript": [
       "\n",
       "            setTimeout(function() {\n",
       "                var nbb_cell_id = 8;\n",
       "                var nbb_unformatted_code = \"def download(url, out, force=False, verify=True):\\n    out.parent.mkdir(parents=True, exist_ok=True)\\n    if force and out.exists():\\n        print(f\\\"Removing file at {str(out)}\\\")\\n        out.unlink()\\n\\n    if out.exists():\\n        print(\\\"File already exists.\\\")\\n        return\\n    print(f\\\"Downloading {url} at {str(out)} ...\\\")\\n    # open in binary mode\\n    with out.open(mode=\\\"wb\\\") as file:\\n        # get request\\n        response = get(url, verify=verify)\\n        for chunk in response.iter_content(100000):\\n            # write to file\\n            file.write(chunk)\";\n",
       "                var nbb_formatted_code = \"def download(url, out, force=False, verify=True):\\n    out.parent.mkdir(parents=True, exist_ok=True)\\n    if force and out.exists():\\n        print(f\\\"Removing file at {str(out)}\\\")\\n        out.unlink()\\n\\n    if out.exists():\\n        print(\\\"File already exists.\\\")\\n        return\\n    print(f\\\"Downloading {url} at {str(out)} ...\\\")\\n    # open in binary mode\\n    with out.open(mode=\\\"wb\\\") as file:\\n        # get request\\n        response = get(url, verify=verify)\\n        for chunk in response.iter_content(100000):\\n            # write to file\\n            file.write(chunk)\";\n",
       "                var nbb_cells = Jupyter.notebook.get_cells();\n",
       "                for (var i = 0; i < nbb_cells.length; ++i) {\n",
       "                    if (nbb_cells[i].input_prompt_number == nbb_cell_id) {\n",
       "                        if (nbb_cells[i].get_text() == nbb_unformatted_code) {\n",
       "                             nbb_cells[i].set_text(nbb_formatted_code);\n",
       "                        }\n",
       "                        break;\n",
       "                    }\n",
       "                }\n",
       "            }, 500);\n",
       "            "
      ],
      "text/plain": [
       "<IPython.core.display.Javascript object>"
      ]
     },
     "metadata": {},
     "output_type": "display_data"
    }
   ],
   "source": [
    "def download(url, out, force=False, verify=True):\n",
    "    out.parent.mkdir(parents=True, exist_ok=True)\n",
    "    if force and out.exists():\n",
    "        print(f\"Removing file at {str(out)}\")\n",
    "        out.unlink()\n",
    "\n",
    "    if out.exists():\n",
    "        print(\"File already exists.\")\n",
    "        return\n",
    "    print(f\"Downloading {url} at {str(out)} ...\")\n",
    "    # open in binary mode\n",
    "    with out.open(mode=\"wb\") as file:\n",
    "        # get request\n",
    "        response = get(url, verify=verify)\n",
    "        for chunk in response.iter_content(100000):\n",
    "            # write to file\n",
    "            file.write(chunk)\n"
   ]
  },
  {
   "cell_type": "code",
   "execution_count": 9,
   "metadata": {
    "ExecuteTime": {
     "end_time": "2020-05-25T20:59:46.210035Z",
     "start_time": "2020-05-25T20:59:46.110562Z"
    }
   },
   "outputs": [
    {
     "data": {
      "application/javascript": [
       "\n",
       "            setTimeout(function() {\n",
       "                var nbb_cell_id = 9;\n",
       "                var nbb_unformatted_code = \"def plot_history(history):\\n    loss_list = [s for s in history.history.keys() if \\\"loss\\\" in s and \\\"val\\\" not in s]\\n    val_loss_list = [s for s in history.history.keys() if \\\"loss\\\" in s and \\\"val\\\" in s]\\n    acc_list = [s for s in history.history.keys() if \\\"AUC\\\" in s and \\\"val\\\" not in s]\\n    val_acc_list = [s for s in history.history.keys() if \\\"AUC\\\" in s and \\\"val\\\" in s]\\n\\n    if len(loss_list) == 0:\\n        print(\\\"Loss is missing in history\\\")\\n        return\\n\\n    ## As loss always exists\\n    epochs = range(1, len(history.history[loss_list[0]]) + 1)\\n\\n    ## Loss\\n    plt.figure(1)\\n    for l in loss_list:\\n        plt.plot(\\n            epochs,\\n            history.history[l],\\n            \\\"b\\\",\\n            label=\\\"Training loss (\\\"\\n            + str(str(format(history.history[l][-1], \\\".5f\\\")) + \\\")\\\"),\\n        )\\n    for l in val_loss_list:\\n        plt.plot(\\n            epochs,\\n            history.history[l],\\n            \\\"g\\\",\\n            label=\\\"Validation loss (\\\"\\n            + str(str(format(history.history[l][-1], \\\".5f\\\")) + \\\")\\\"),\\n        )\\n\\n    plt.title(\\\"Loss\\\")\\n    plt.xlabel(\\\"Epochs\\\")\\n    plt.ylabel(\\\"Loss\\\")\\n    plt.legend()\\n\\n    plt.show()\";\n",
       "                var nbb_formatted_code = \"def plot_history(history):\\n    loss_list = [s for s in history.history.keys() if \\\"loss\\\" in s and \\\"val\\\" not in s]\\n    val_loss_list = [s for s in history.history.keys() if \\\"loss\\\" in s and \\\"val\\\" in s]\\n    acc_list = [s for s in history.history.keys() if \\\"AUC\\\" in s and \\\"val\\\" not in s]\\n    val_acc_list = [s for s in history.history.keys() if \\\"AUC\\\" in s and \\\"val\\\" in s]\\n\\n    if len(loss_list) == 0:\\n        print(\\\"Loss is missing in history\\\")\\n        return\\n\\n    ## As loss always exists\\n    epochs = range(1, len(history.history[loss_list[0]]) + 1)\\n\\n    ## Loss\\n    plt.figure(1)\\n    for l in loss_list:\\n        plt.plot(\\n            epochs,\\n            history.history[l],\\n            \\\"b\\\",\\n            label=\\\"Training loss (\\\"\\n            + str(str(format(history.history[l][-1], \\\".5f\\\")) + \\\")\\\"),\\n        )\\n    for l in val_loss_list:\\n        plt.plot(\\n            epochs,\\n            history.history[l],\\n            \\\"g\\\",\\n            label=\\\"Validation loss (\\\"\\n            + str(str(format(history.history[l][-1], \\\".5f\\\")) + \\\")\\\"),\\n        )\\n\\n    plt.title(\\\"Loss\\\")\\n    plt.xlabel(\\\"Epochs\\\")\\n    plt.ylabel(\\\"Loss\\\")\\n    plt.legend()\\n\\n    plt.show()\";\n",
       "                var nbb_cells = Jupyter.notebook.get_cells();\n",
       "                for (var i = 0; i < nbb_cells.length; ++i) {\n",
       "                    if (nbb_cells[i].input_prompt_number == nbb_cell_id) {\n",
       "                        if (nbb_cells[i].get_text() == nbb_unformatted_code) {\n",
       "                             nbb_cells[i].set_text(nbb_formatted_code);\n",
       "                        }\n",
       "                        break;\n",
       "                    }\n",
       "                }\n",
       "            }, 500);\n",
       "            "
      ],
      "text/plain": [
       "<IPython.core.display.Javascript object>"
      ]
     },
     "metadata": {},
     "output_type": "display_data"
    }
   ],
   "source": [
    "def plot_history(history):\n",
    "    loss_list = [s for s in history.history.keys() if \"loss\" in s and \"val\" not in s]\n",
    "    val_loss_list = [s for s in history.history.keys() if \"loss\" in s and \"val\" in s]\n",
    "    acc_list = [s for s in history.history.keys() if \"AUC\" in s and \"val\" not in s]\n",
    "    val_acc_list = [s for s in history.history.keys() if \"AUC\" in s and \"val\" in s]\n",
    "\n",
    "    if len(loss_list) == 0:\n",
    "        print(\"Loss is missing in history\")\n",
    "        return\n",
    "\n",
    "    ## As loss always exists\n",
    "    epochs = range(1, len(history.history[loss_list[0]]) + 1)\n",
    "\n",
    "    ## Loss\n",
    "    plt.figure(1)\n",
    "    for l in loss_list:\n",
    "        plt.plot(\n",
    "            epochs,\n",
    "            history.history[l],\n",
    "            \"b\",\n",
    "            label=\"Training loss (\"\n",
    "            + str(str(format(history.history[l][-1], \".5f\")) + \")\"),\n",
    "        )\n",
    "    for l in val_loss_list:\n",
    "        plt.plot(\n",
    "            epochs,\n",
    "            history.history[l],\n",
    "            \"g\",\n",
    "            label=\"Validation loss (\"\n",
    "            + str(str(format(history.history[l][-1], \".5f\")) + \")\"),\n",
    "        )\n",
    "\n",
    "    plt.title(\"Loss\")\n",
    "    plt.xlabel(\"Epochs\")\n",
    "    plt.ylabel(\"Loss\")\n",
    "    plt.legend()\n",
    "\n",
    "    plt.show()"
   ]
  },
  {
   "cell_type": "code",
   "execution_count": 10,
   "metadata": {},
   "outputs": [
    {
     "data": {
      "application/javascript": [
       "\n",
       "            setTimeout(function() {\n",
       "                var nbb_cell_id = 10;\n",
       "                var nbb_unformatted_code = \"dataset_name = \\\"bank-marketing\\\"\\nfilename = \\\"train_bench.csv\\\"\\ntarget = \\\"y\\\"\\nids = []\";\n",
       "                var nbb_formatted_code = \"dataset_name = \\\"bank-marketing\\\"\\nfilename = \\\"train_bench.csv\\\"\\ntarget = \\\"y\\\"\\nids = []\";\n",
       "                var nbb_cells = Jupyter.notebook.get_cells();\n",
       "                for (var i = 0; i < nbb_cells.length; ++i) {\n",
       "                    if (nbb_cells[i].input_prompt_number == nbb_cell_id) {\n",
       "                        if (nbb_cells[i].get_text() == nbb_unformatted_code) {\n",
       "                             nbb_cells[i].set_text(nbb_formatted_code);\n",
       "                        }\n",
       "                        break;\n",
       "                    }\n",
       "                }\n",
       "            }, 500);\n",
       "            "
      ],
      "text/plain": [
       "<IPython.core.display.Javascript object>"
      ]
     },
     "metadata": {},
     "output_type": "display_data"
    }
   ],
   "source": [
    "dataset_name = \"bank-marketing\"\n",
    "filename = \"train_bench.csv\"\n",
    "target = \"y\"\n",
    "ids = []"
   ]
  },
  {
   "cell_type": "markdown",
   "metadata": {},
   "source": [
    "dataset_name = \"rl\"\n",
    "filename = \"train_bench.csv\"\n",
    "target = \"target\"\n",
    "ids = []"
   ]
  },
  {
   "cell_type": "markdown",
   "metadata": {},
   "source": [
    "dataset_name = \"open-payments\"\n",
    "filename = \"train_bench.csv\"\n",
    "target = \"status\"\n",
    "ids = []"
   ]
  },
  {
   "cell_type": "markdown",
   "metadata": {},
   "source": [
    "dataset_name = \"give-me-some-credit\"\n",
    "filename = \"train_bench.csv\"\n",
    "target = \"SeriousDlqin2yrs\"\n",
    "ids = [\"Unamed\"]"
   ]
  },
  {
   "cell_type": "markdown",
   "metadata": {},
   "source": [
    "dataset_name = \"santander-customer-satisfaction\"\n",
    "filename = \"train_bench.csv\"\n",
    "target = \"TARGET\"\n",
    "ids = []"
   ]
  },
  {
   "cell_type": "code",
   "execution_count": 11,
   "metadata": {},
   "outputs": [
    {
     "data": {
      "application/javascript": [
       "\n",
       "            setTimeout(function() {\n",
       "                var nbb_cell_id = 11;\n",
       "                var nbb_unformatted_code = \"out = Path(os.getcwd()) / \\\"data\\\" / dataset_name / filename\";\n",
       "                var nbb_formatted_code = \"out = Path(os.getcwd()) / \\\"data\\\" / dataset_name / filename\";\n",
       "                var nbb_cells = Jupyter.notebook.get_cells();\n",
       "                for (var i = 0; i < nbb_cells.length; ++i) {\n",
       "                    if (nbb_cells[i].input_prompt_number == nbb_cell_id) {\n",
       "                        if (nbb_cells[i].get_text() == nbb_unformatted_code) {\n",
       "                             nbb_cells[i].set_text(nbb_formatted_code);\n",
       "                        }\n",
       "                        break;\n",
       "                    }\n",
       "                }\n",
       "            }, 500);\n",
       "            "
      ],
      "text/plain": [
       "<IPython.core.display.Javascript object>"
      ]
     },
     "metadata": {},
     "output_type": "display_data"
    }
   ],
   "source": [
    "out = Path(os.getcwd()) / \"data\" / dataset_name / filename"
   ]
  },
  {
   "cell_type": "code",
   "execution_count": 12,
   "metadata": {},
   "outputs": [
    {
     "data": {
      "text/plain": [
       "(41188, 21)"
      ]
     },
     "execution_count": 12,
     "metadata": {},
     "output_type": "execute_result"
    },
    {
     "data": {
      "application/javascript": [
       "\n",
       "            setTimeout(function() {\n",
       "                var nbb_cell_id = 12;\n",
       "                var nbb_unformatted_code = \"train = pd.read_csv(out)\\ntrain.shape\";\n",
       "                var nbb_formatted_code = \"train = pd.read_csv(out)\\ntrain.shape\";\n",
       "                var nbb_cells = Jupyter.notebook.get_cells();\n",
       "                for (var i = 0; i < nbb_cells.length; ++i) {\n",
       "                    if (nbb_cells[i].input_prompt_number == nbb_cell_id) {\n",
       "                        if (nbb_cells[i].get_text() == nbb_unformatted_code) {\n",
       "                             nbb_cells[i].set_text(nbb_formatted_code);\n",
       "                        }\n",
       "                        break;\n",
       "                    }\n",
       "                }\n",
       "            }, 500);\n",
       "            "
      ],
      "text/plain": [
       "<IPython.core.display.Javascript object>"
      ]
     },
     "metadata": {},
     "output_type": "display_data"
    }
   ],
   "source": [
    "train = pd.read_csv(out)\n",
    "train.shape"
   ]
  },
  {
   "cell_type": "code",
   "execution_count": 13,
   "metadata": {},
   "outputs": [
    {
     "data": {
      "text/plain": [
       "Index([], dtype='object')"
      ]
     },
     "execution_count": 13,
     "metadata": {},
     "output_type": "execute_result"
    },
    {
     "data": {
      "application/javascript": [
       "\n",
       "            setTimeout(function() {\n",
       "                var nbb_cell_id = 13;\n",
       "                var nbb_unformatted_code = \"constant_cols = train.columns[train.nunique() <= 1]\\nconstant_cols\";\n",
       "                var nbb_formatted_code = \"constant_cols = train.columns[train.nunique() <= 1]\\nconstant_cols\";\n",
       "                var nbb_cells = Jupyter.notebook.get_cells();\n",
       "                for (var i = 0; i < nbb_cells.length; ++i) {\n",
       "                    if (nbb_cells[i].input_prompt_number == nbb_cell_id) {\n",
       "                        if (nbb_cells[i].get_text() == nbb_unformatted_code) {\n",
       "                             nbb_cells[i].set_text(nbb_formatted_code);\n",
       "                        }\n",
       "                        break;\n",
       "                    }\n",
       "                }\n",
       "            }, 500);\n",
       "            "
      ],
      "text/plain": [
       "<IPython.core.display.Javascript object>"
      ]
     },
     "metadata": {},
     "output_type": "display_data"
    }
   ],
   "source": [
    "constant_cols = train.columns[train.nunique() <= 1]\n",
    "constant_cols"
   ]
  },
  {
   "cell_type": "code",
   "execution_count": 14,
   "metadata": {},
   "outputs": [
    {
     "data": {
      "application/javascript": [
       "\n",
       "            setTimeout(function() {\n",
       "                var nbb_cell_id = 14;\n",
       "                var nbb_unformatted_code = \"n_unique = train.nunique()\";\n",
       "                var nbb_formatted_code = \"n_unique = train.nunique()\";\n",
       "                var nbb_cells = Jupyter.notebook.get_cells();\n",
       "                for (var i = 0; i < nbb_cells.length; ++i) {\n",
       "                    if (nbb_cells[i].input_prompt_number == nbb_cell_id) {\n",
       "                        if (nbb_cells[i].get_text() == nbb_unformatted_code) {\n",
       "                             nbb_cells[i].set_text(nbb_formatted_code);\n",
       "                        }\n",
       "                        break;\n",
       "                    }\n",
       "                }\n",
       "            }, 500);\n",
       "            "
      ],
      "text/plain": [
       "<IPython.core.display.Javascript object>"
      ]
     },
     "metadata": {},
     "output_type": "display_data"
    }
   ],
   "source": [
    "n_unique = train.nunique()"
   ]
  },
  {
   "cell_type": "code",
   "execution_count": 15,
   "metadata": {},
   "outputs": [
    {
     "data": {
      "text/plain": [
       "['contact']"
      ]
     },
     "execution_count": 15,
     "metadata": {},
     "output_type": "execute_result"
    },
    {
     "data": {
      "application/javascript": [
       "\n",
       "            setTimeout(function() {\n",
       "                var nbb_cell_id = 15;\n",
       "                var nbb_unformatted_code = \"bool_cols = train.columns[n_unique == 2]\\nbool_cols = list(set(bool_cols.tolist()) - set([target]) - set([\\\"Set\\\"]))\\nbool_cols\";\n",
       "                var nbb_formatted_code = \"bool_cols = train.columns[n_unique == 2]\\nbool_cols = list(set(bool_cols.tolist()) - set([target]) - set([\\\"Set\\\"]))\\nbool_cols\";\n",
       "                var nbb_cells = Jupyter.notebook.get_cells();\n",
       "                for (var i = 0; i < nbb_cells.length; ++i) {\n",
       "                    if (nbb_cells[i].input_prompt_number == nbb_cell_id) {\n",
       "                        if (nbb_cells[i].get_text() == nbb_unformatted_code) {\n",
       "                             nbb_cells[i].set_text(nbb_formatted_code);\n",
       "                        }\n",
       "                        break;\n",
       "                    }\n",
       "                }\n",
       "            }, 500);\n",
       "            "
      ],
      "text/plain": [
       "<IPython.core.display.Javascript object>"
      ]
     },
     "metadata": {},
     "output_type": "display_data"
    }
   ],
   "source": [
    "bool_cols = train.columns[n_unique == 2]\n",
    "bool_cols = list(set(bool_cols.tolist()) - set([target]) - set([\"Set\"]))\n",
    "bool_cols"
   ]
  },
  {
   "cell_type": "code",
   "execution_count": 16,
   "metadata": {},
   "outputs": [
    {
     "data": {
      "application/javascript": [
       "\n",
       "            setTimeout(function() {\n",
       "                var nbb_cell_id = 16;\n",
       "                var nbb_unformatted_code = \"bool_encoder = {}\";\n",
       "                var nbb_formatted_code = \"bool_encoder = {}\";\n",
       "                var nbb_cells = Jupyter.notebook.get_cells();\n",
       "                for (var i = 0; i < nbb_cells.length; ++i) {\n",
       "                    if (nbb_cells[i].input_prompt_number == nbb_cell_id) {\n",
       "                        if (nbb_cells[i].get_text() == nbb_unformatted_code) {\n",
       "                             nbb_cells[i].set_text(nbb_formatted_code);\n",
       "                        }\n",
       "                        break;\n",
       "                    }\n",
       "                }\n",
       "            }, 500);\n",
       "            "
      ],
      "text/plain": [
       "<IPython.core.display.Javascript object>"
      ]
     },
     "metadata": {},
     "output_type": "display_data"
    }
   ],
   "source": [
    "bool_encoder = {}"
   ]
  },
  {
   "cell_type": "code",
   "execution_count": 17,
   "metadata": {},
   "outputs": [
    {
     "data": {
      "application/javascript": [
       "\n",
       "            setTimeout(function() {\n",
       "                var nbb_cell_id = 17;\n",
       "                var nbb_unformatted_code = \"for col in bool_cols:\\n    enc = LabelEncoder()\\n    train[col] = enc.fit_transform(train[col].values.astype(\\\"str\\\").reshape(-1))\\n    bool_encoder[col] = enc\";\n",
       "                var nbb_formatted_code = \"for col in bool_cols:\\n    enc = LabelEncoder()\\n    train[col] = enc.fit_transform(train[col].values.astype(\\\"str\\\").reshape(-1))\\n    bool_encoder[col] = enc\";\n",
       "                var nbb_cells = Jupyter.notebook.get_cells();\n",
       "                for (var i = 0; i < nbb_cells.length; ++i) {\n",
       "                    if (nbb_cells[i].input_prompt_number == nbb_cell_id) {\n",
       "                        if (nbb_cells[i].get_text() == nbb_unformatted_code) {\n",
       "                             nbb_cells[i].set_text(nbb_formatted_code);\n",
       "                        }\n",
       "                        break;\n",
       "                    }\n",
       "                }\n",
       "            }, 500);\n",
       "            "
      ],
      "text/plain": [
       "<IPython.core.display.Javascript object>"
      ]
     },
     "metadata": {},
     "output_type": "display_data"
    }
   ],
   "source": [
    "for col in bool_cols:\n",
    "    enc = LabelEncoder()\n",
    "    train[col] = enc.fit_transform(train[col].values.astype(\"str\").reshape(-1))\n",
    "    bool_encoder[col] = enc"
   ]
  },
  {
   "cell_type": "code",
   "execution_count": 18,
   "metadata": {},
   "outputs": [
    {
     "data": {
      "text/plain": [
       "[]"
      ]
     },
     "execution_count": 18,
     "metadata": {},
     "output_type": "execute_result"
    },
    {
     "data": {
      "application/javascript": [
       "\n",
       "            setTimeout(function() {\n",
       "                var nbb_cell_id = 18;\n",
       "                var nbb_unformatted_code = \"constant_cols = train.columns[n_unique <= 1]\\nconstant_cols = list(set(constant_cols.tolist()) - set([target]) - set([\\\"Set\\\"]))\\nconstant_cols\";\n",
       "                var nbb_formatted_code = \"constant_cols = train.columns[n_unique <= 1]\\nconstant_cols = list(set(constant_cols.tolist()) - set([target]) - set([\\\"Set\\\"]))\\nconstant_cols\";\n",
       "                var nbb_cells = Jupyter.notebook.get_cells();\n",
       "                for (var i = 0; i < nbb_cells.length; ++i) {\n",
       "                    if (nbb_cells[i].input_prompt_number == nbb_cell_id) {\n",
       "                        if (nbb_cells[i].get_text() == nbb_unformatted_code) {\n",
       "                             nbb_cells[i].set_text(nbb_formatted_code);\n",
       "                        }\n",
       "                        break;\n",
       "                    }\n",
       "                }\n",
       "            }, 500);\n",
       "            "
      ],
      "text/plain": [
       "<IPython.core.display.Javascript object>"
      ]
     },
     "metadata": {},
     "output_type": "display_data"
    }
   ],
   "source": [
    "constant_cols = train.columns[n_unique <= 1]\n",
    "constant_cols = list(set(constant_cols.tolist()) - set([target]) - set([\"Set\"]))\n",
    "constant_cols"
   ]
  },
  {
   "cell_type": "code",
   "execution_count": 19,
   "metadata": {},
   "outputs": [
    {
     "data": {
      "application/javascript": [
       "\n",
       "            setTimeout(function() {\n",
       "                var nbb_cell_id = 19;\n",
       "                var nbb_unformatted_code = \"ratio = 0.05  # \\u00a0This means we consider this a category if 1000 elt, there is at most 50 different values\";\n",
       "                var nbb_formatted_code = \"ratio = 0.05  # \\u00a0This means we consider this a category if 1000 elt, there is at most 50 different values\";\n",
       "                var nbb_cells = Jupyter.notebook.get_cells();\n",
       "                for (var i = 0; i < nbb_cells.length; ++i) {\n",
       "                    if (nbb_cells[i].input_prompt_number == nbb_cell_id) {\n",
       "                        if (nbb_cells[i].get_text() == nbb_unformatted_code) {\n",
       "                             nbb_cells[i].set_text(nbb_formatted_code);\n",
       "                        }\n",
       "                        break;\n",
       "                    }\n",
       "                }\n",
       "            }, 500);\n",
       "            "
      ],
      "text/plain": [
       "<IPython.core.display.Javascript object>"
      ]
     },
     "metadata": {},
     "output_type": "display_data"
    }
   ],
   "source": [
    "ratio = 0.05  #  This means we consider this a category if 1000 elt, there is at most 50 different values"
   ]
  },
  {
   "cell_type": "code",
   "execution_count": 20,
   "metadata": {},
   "outputs": [
    {
     "data": {
      "text/plain": [
       "['euribor3m',\n",
       " 'cons_price_idx',\n",
       " 'job',\n",
       " 'marital',\n",
       " 'emp_var_rate',\n",
       " 'education',\n",
       " 'loan',\n",
       " 'month',\n",
       " 'pdays',\n",
       " 'age',\n",
       " 'poutcome',\n",
       " 'previous',\n",
       " 'nr_employed',\n",
       " 'default',\n",
       " 'day_of_week',\n",
       " 'housing',\n",
       " 'campaign',\n",
       " 'cons_conf_idx']"
      ]
     },
     "execution_count": 20,
     "metadata": {},
     "output_type": "execute_result"
    },
    {
     "data": {
      "application/javascript": [
       "\n",
       "            setTimeout(function() {\n",
       "                var nbb_cell_id = 20;\n",
       "                var nbb_unformatted_code = \"cat_cols = train.columns[\\n    (\\n        (train.dtypes == \\\"object\\\")\\n        | ((n_unique > 2) & (((n_unique / train.shape[0]) < ratio)))\\n    )\\n]\\ncat_cols = list(set(cat_cols.tolist()) - set([target]) - set([\\\"Set\\\"]))\\ncat_cols\";\n",
       "                var nbb_formatted_code = \"cat_cols = train.columns[\\n    (\\n        (train.dtypes == \\\"object\\\")\\n        | ((n_unique > 2) & (((n_unique / train.shape[0]) < ratio)))\\n    )\\n]\\ncat_cols = list(set(cat_cols.tolist()) - set([target]) - set([\\\"Set\\\"]))\\ncat_cols\";\n",
       "                var nbb_cells = Jupyter.notebook.get_cells();\n",
       "                for (var i = 0; i < nbb_cells.length; ++i) {\n",
       "                    if (nbb_cells[i].input_prompt_number == nbb_cell_id) {\n",
       "                        if (nbb_cells[i].get_text() == nbb_unformatted_code) {\n",
       "                             nbb_cells[i].set_text(nbb_formatted_code);\n",
       "                        }\n",
       "                        break;\n",
       "                    }\n",
       "                }\n",
       "            }, 500);\n",
       "            "
      ],
      "text/plain": [
       "<IPython.core.display.Javascript object>"
      ]
     },
     "metadata": {},
     "output_type": "display_data"
    }
   ],
   "source": [
    "cat_cols = train.columns[\n",
    "    (\n",
    "        (train.dtypes == \"object\")\n",
    "        | ((n_unique > 2) & (((n_unique / train.shape[0]) < ratio)))\n",
    "    )\n",
    "]\n",
    "cat_cols = list(set(cat_cols.tolist()) - set([target]) - set([\"Set\"]))\n",
    "cat_cols"
   ]
  },
  {
   "cell_type": "code",
   "execution_count": 21,
   "metadata": {},
   "outputs": [
    {
     "data": {
      "text/plain": [
       "[]"
      ]
     },
     "execution_count": 21,
     "metadata": {},
     "output_type": "execute_result"
    },
    {
     "data": {
      "application/javascript": [
       "\n",
       "            setTimeout(function() {\n",
       "                var nbb_cell_id = 21;\n",
       "                var nbb_unformatted_code = \"other_cols = train.columns[\\n    (n_unique > 2) & (train.dtypes != \\\"object\\\") & ((n_unique / train.shape[0]) >= ratio)\\n]\\nother_cols = list(set(other_cols.tolist()) - set([target]) - set([\\\"Set\\\"]))\\nother_cols\";\n",
       "                var nbb_formatted_code = \"other_cols = train.columns[\\n    (n_unique > 2) & (train.dtypes != \\\"object\\\") & ((n_unique / train.shape[0]) >= ratio)\\n]\\nother_cols = list(set(other_cols.tolist()) - set([target]) - set([\\\"Set\\\"]))\\nother_cols\";\n",
       "                var nbb_cells = Jupyter.notebook.get_cells();\n",
       "                for (var i = 0; i < nbb_cells.length; ++i) {\n",
       "                    if (nbb_cells[i].input_prompt_number == nbb_cell_id) {\n",
       "                        if (nbb_cells[i].get_text() == nbb_unformatted_code) {\n",
       "                             nbb_cells[i].set_text(nbb_formatted_code);\n",
       "                        }\n",
       "                        break;\n",
       "                    }\n",
       "                }\n",
       "            }, 500);\n",
       "            "
      ],
      "text/plain": [
       "<IPython.core.display.Javascript object>"
      ]
     },
     "metadata": {},
     "output_type": "display_data"
    }
   ],
   "source": [
    "other_cols = train.columns[\n",
    "    (n_unique > 2) & (train.dtypes != \"object\") & ((n_unique / train.shape[0]) >= ratio)\n",
    "]\n",
    "other_cols = list(set(other_cols.tolist()) - set([target]) - set([\"Set\"]))\n",
    "other_cols"
   ]
  },
  {
   "cell_type": "code",
   "execution_count": 22,
   "metadata": {
    "ExecuteTime": {
     "end_time": "2020-05-25T20:59:46.566032Z",
     "start_time": "2020-05-25T20:59:46.559340Z"
    }
   },
   "outputs": [
    {
     "data": {
      "application/javascript": [
       "\n",
       "            setTimeout(function() {\n",
       "                var nbb_cell_id = 22;\n",
       "                var nbb_unformatted_code = \"target_encoder = LabelEncoder()\";\n",
       "                var nbb_formatted_code = \"target_encoder = LabelEncoder()\";\n",
       "                var nbb_cells = Jupyter.notebook.get_cells();\n",
       "                for (var i = 0; i < nbb_cells.length; ++i) {\n",
       "                    if (nbb_cells[i].input_prompt_number == nbb_cell_id) {\n",
       "                        if (nbb_cells[i].get_text() == nbb_unformatted_code) {\n",
       "                             nbb_cells[i].set_text(nbb_formatted_code);\n",
       "                        }\n",
       "                        break;\n",
       "                    }\n",
       "                }\n",
       "            }, 500);\n",
       "            "
      ],
      "text/plain": [
       "<IPython.core.display.Javascript object>"
      ]
     },
     "metadata": {},
     "output_type": "display_data"
    }
   ],
   "source": [
    "target_encoder = LabelEncoder()"
   ]
  },
  {
   "cell_type": "code",
   "execution_count": 23,
   "metadata": {
    "ExecuteTime": {
     "end_time": "2020-05-25T20:59:46.661768Z",
     "start_time": "2020-05-25T20:59:46.567593Z"
    }
   },
   "outputs": [
    {
     "data": {
      "application/javascript": [
       "\n",
       "            setTimeout(function() {\n",
       "                var nbb_cell_id = 23;\n",
       "                var nbb_unformatted_code = \"train[target] = target_encoder.fit_transform(train[target].values.reshape(-1))\";\n",
       "                var nbb_formatted_code = \"train[target] = target_encoder.fit_transform(train[target].values.reshape(-1))\";\n",
       "                var nbb_cells = Jupyter.notebook.get_cells();\n",
       "                for (var i = 0; i < nbb_cells.length; ++i) {\n",
       "                    if (nbb_cells[i].input_prompt_number == nbb_cell_id) {\n",
       "                        if (nbb_cells[i].get_text() == nbb_unformatted_code) {\n",
       "                             nbb_cells[i].set_text(nbb_formatted_code);\n",
       "                        }\n",
       "                        break;\n",
       "                    }\n",
       "                }\n",
       "            }, 500);\n",
       "            "
      ],
      "text/plain": [
       "<IPython.core.display.Javascript object>"
      ]
     },
     "metadata": {},
     "output_type": "display_data"
    }
   ],
   "source": [
    "train[target] = target_encoder.fit_transform(train[target].values.reshape(-1))"
   ]
  },
  {
   "cell_type": "code",
   "execution_count": 24,
   "metadata": {
    "ExecuteTime": {
     "end_time": "2020-05-25T20:59:46.745241Z",
     "start_time": "2020-05-25T20:59:46.663423Z"
    }
   },
   "outputs": [
    {
     "data": {
      "text/plain": [
       "['euribor3m',\n",
       " 'cons_price_idx',\n",
       " 'job',\n",
       " 'marital',\n",
       " 'emp_var_rate',\n",
       " 'education',\n",
       " 'loan',\n",
       " 'month',\n",
       " 'pdays',\n",
       " 'age',\n",
       " 'poutcome',\n",
       " 'previous',\n",
       " 'nr_employed',\n",
       " 'default',\n",
       " 'day_of_week',\n",
       " 'housing',\n",
       " 'campaign',\n",
       " 'cons_conf_idx']"
      ]
     },
     "execution_count": 24,
     "metadata": {},
     "output_type": "execute_result"
    },
    {
     "data": {
      "application/javascript": [
       "\n",
       "            setTimeout(function() {\n",
       "                var nbb_cell_id = 24;\n",
       "                var nbb_unformatted_code = \"used_columns = list(\\n    set(train.columns.tolist())\\n    - set([target])\\n    - set([\\\"Set\\\"])\\n    - set(ids)\\n    - set(bool_cols)\\n    - set(constant_cols)\\n    - set(other_cols)\\n)\\nused_columns\";\n",
       "                var nbb_formatted_code = \"used_columns = list(\\n    set(train.columns.tolist())\\n    - set([target])\\n    - set([\\\"Set\\\"])\\n    - set(ids)\\n    - set(bool_cols)\\n    - set(constant_cols)\\n    - set(other_cols)\\n)\\nused_columns\";\n",
       "                var nbb_cells = Jupyter.notebook.get_cells();\n",
       "                for (var i = 0; i < nbb_cells.length; ++i) {\n",
       "                    if (nbb_cells[i].input_prompt_number == nbb_cell_id) {\n",
       "                        if (nbb_cells[i].get_text() == nbb_unformatted_code) {\n",
       "                             nbb_cells[i].set_text(nbb_formatted_code);\n",
       "                        }\n",
       "                        break;\n",
       "                    }\n",
       "                }\n",
       "            }, 500);\n",
       "            "
      ],
      "text/plain": [
       "<IPython.core.display.Javascript object>"
      ]
     },
     "metadata": {},
     "output_type": "display_data"
    }
   ],
   "source": [
    "used_columns = list(\n",
    "    set(train.columns.tolist())\n",
    "    - set([target])\n",
    "    - set([\"Set\"])\n",
    "    - set(ids)\n",
    "    - set(bool_cols)\n",
    "    - set(constant_cols)\n",
    "    - set(other_cols)\n",
    ")\n",
    "used_columns"
   ]
  },
  {
   "cell_type": "code",
   "execution_count": 25,
   "metadata": {},
   "outputs": [
    {
     "data": {
      "text/plain": [
       "['contact']"
      ]
     },
     "execution_count": 25,
     "metadata": {},
     "output_type": "execute_result"
    },
    {
     "data": {
      "application/javascript": [
       "\n",
       "            setTimeout(function() {\n",
       "                var nbb_cell_id = 25;\n",
       "                var nbb_unformatted_code = \"bool_cols\";\n",
       "                var nbb_formatted_code = \"bool_cols\";\n",
       "                var nbb_cells = Jupyter.notebook.get_cells();\n",
       "                for (var i = 0; i < nbb_cells.length; ++i) {\n",
       "                    if (nbb_cells[i].input_prompt_number == nbb_cell_id) {\n",
       "                        if (nbb_cells[i].get_text() == nbb_unformatted_code) {\n",
       "                             nbb_cells[i].set_text(nbb_formatted_code);\n",
       "                        }\n",
       "                        break;\n",
       "                    }\n",
       "                }\n",
       "            }, 500);\n",
       "            "
      ],
      "text/plain": [
       "<IPython.core.display.Javascript object>"
      ]
     },
     "metadata": {},
     "output_type": "display_data"
    }
   ],
   "source": [
    "bool_cols"
   ]
  },
  {
   "cell_type": "code",
   "execution_count": 26,
   "metadata": {},
   "outputs": [
    {
     "data": {
      "text/plain": [
       "[]"
      ]
     },
     "execution_count": 26,
     "metadata": {},
     "output_type": "execute_result"
    },
    {
     "data": {
      "application/javascript": [
       "\n",
       "            setTimeout(function() {\n",
       "                var nbb_cell_id = 26;\n",
       "                var nbb_unformatted_code = \"other_cols\";\n",
       "                var nbb_formatted_code = \"other_cols\";\n",
       "                var nbb_cells = Jupyter.notebook.get_cells();\n",
       "                for (var i = 0; i < nbb_cells.length; ++i) {\n",
       "                    if (nbb_cells[i].input_prompt_number == nbb_cell_id) {\n",
       "                        if (nbb_cells[i].get_text() == nbb_unformatted_code) {\n",
       "                             nbb_cells[i].set_text(nbb_formatted_code);\n",
       "                        }\n",
       "                        break;\n",
       "                    }\n",
       "                }\n",
       "            }, 500);\n",
       "            "
      ],
      "text/plain": [
       "<IPython.core.display.Javascript object>"
      ]
     },
     "metadata": {},
     "output_type": "display_data"
    }
   ],
   "source": [
    "other_cols"
   ]
  },
  {
   "cell_type": "code",
   "execution_count": 27,
   "metadata": {},
   "outputs": [
    {
     "data": {
      "application/javascript": [
       "\n",
       "            setTimeout(function() {\n",
       "                var nbb_cell_id = 27;\n",
       "                var nbb_unformatted_code = \"train_indices = train[train.Set == \\\"train\\\"].index\\nvalid_indices = train[train.Set == \\\"valid\\\"].index\\ntest_indices = train[train.Set == \\\"test\\\"].index\";\n",
       "                var nbb_formatted_code = \"train_indices = train[train.Set == \\\"train\\\"].index\\nvalid_indices = train[train.Set == \\\"valid\\\"].index\\ntest_indices = train[train.Set == \\\"test\\\"].index\";\n",
       "                var nbb_cells = Jupyter.notebook.get_cells();\n",
       "                for (var i = 0; i < nbb_cells.length; ++i) {\n",
       "                    if (nbb_cells[i].input_prompt_number == nbb_cell_id) {\n",
       "                        if (nbb_cells[i].get_text() == nbb_unformatted_code) {\n",
       "                             nbb_cells[i].set_text(nbb_formatted_code);\n",
       "                        }\n",
       "                        break;\n",
       "                    }\n",
       "                }\n",
       "            }, 500);\n",
       "            "
      ],
      "text/plain": [
       "<IPython.core.display.Javascript object>"
      ]
     },
     "metadata": {},
     "output_type": "display_data"
    }
   ],
   "source": [
    "train_indices = train[train.Set == \"train\"].index\n",
    "valid_indices = train[train.Set == \"valid\"].index\n",
    "test_indices = train[train.Set == \"test\"].index\n"
   ]
  },
  {
   "cell_type": "code",
   "execution_count": 28,
   "metadata": {},
   "outputs": [
    {
     "data": {
      "application/javascript": [
       "\n",
       "            setTimeout(function() {\n",
       "                var nbb_cell_id = 28;\n",
       "                var nbb_unformatted_code = \"train[other_cols] = train[other_cols].fillna(\\n    train[other_cols].min() - train[other_cols].std() / 10\\n)\";\n",
       "                var nbb_formatted_code = \"train[other_cols] = train[other_cols].fillna(\\n    train[other_cols].min() - train[other_cols].std() / 10\\n)\";\n",
       "                var nbb_cells = Jupyter.notebook.get_cells();\n",
       "                for (var i = 0; i < nbb_cells.length; ++i) {\n",
       "                    if (nbb_cells[i].input_prompt_number == nbb_cell_id) {\n",
       "                        if (nbb_cells[i].get_text() == nbb_unformatted_code) {\n",
       "                             nbb_cells[i].set_text(nbb_formatted_code);\n",
       "                        }\n",
       "                        break;\n",
       "                    }\n",
       "                }\n",
       "            }, 500);\n",
       "            "
      ],
      "text/plain": [
       "<IPython.core.display.Javascript object>"
      ]
     },
     "metadata": {},
     "output_type": "display_data"
    }
   ],
   "source": [
    "train[other_cols] = train[other_cols].fillna(\n",
    "    train[other_cols].min() - train[other_cols].std() / 10\n",
    ")"
   ]
  },
  {
   "cell_type": "markdown",
   "metadata": {},
   "source": [
    "scaler = StandardScaler()\n",
    "scaler.fit(train[other_cols].values[train_indices])\n",
    "train[other_cols] = scaler.transform(train[other_cols])"
   ]
  },
  {
   "cell_type": "code",
   "execution_count": 29,
   "metadata": {
    "ExecuteTime": {
     "end_time": "2020-05-25T20:59:47.405604Z",
     "start_time": "2020-05-25T20:59:46.747053Z"
    }
   },
   "outputs": [
    {
     "data": {
      "application/javascript": [
       "\n",
       "            setTimeout(function() {\n",
       "                var nbb_cell_id = 29;\n",
       "                var nbb_unformatted_code = \"# train[\\\"Set\\\"] = np.random.choice(\\n#     [\\\"train\\\", \\\"valid\\\"], p=[0.8, 0.2], size=(train.shape[0],)\\n# )\\ntrain_indices = train[train.Set == \\\"train\\\"].index\\nvalid_indices = train[train.Set == \\\"valid\\\"].index\\ntest_indices = train[train.Set == \\\"test\\\"].index\\n\\nX_train = np.char.strip(train[used_columns].values[train_indices].astype(\\\"str\\\"))\\nX_valid = np.char.strip(train[used_columns].values[valid_indices].astype(\\\"str\\\"))\\nX_test = np.char.strip(train[used_columns].values[test_indices].astype(\\\"str\\\"))\\n\\nX_bool_train = train[bool_cols].values[train_indices]\\nX_bool_valid = train[bool_cols].values[valid_indices]\\nX_bool_test = train[bool_cols].values[test_indices]\\n\\nX_num_train = train[other_cols].values[train_indices]\\nX_num_valid = train[other_cols].values[valid_indices]\\nX_num_test = train[other_cols].values[test_indices]\\n\\ny_train = train[target].values[train_indices]\\ny_valid = train[target].values[valid_indices]\\ny_test = train[target].values[test_indices]\";\n",
       "                var nbb_formatted_code = \"# train[\\\"Set\\\"] = np.random.choice(\\n#     [\\\"train\\\", \\\"valid\\\"], p=[0.8, 0.2], size=(train.shape[0],)\\n# )\\ntrain_indices = train[train.Set == \\\"train\\\"].index\\nvalid_indices = train[train.Set == \\\"valid\\\"].index\\ntest_indices = train[train.Set == \\\"test\\\"].index\\n\\nX_train = np.char.strip(train[used_columns].values[train_indices].astype(\\\"str\\\"))\\nX_valid = np.char.strip(train[used_columns].values[valid_indices].astype(\\\"str\\\"))\\nX_test = np.char.strip(train[used_columns].values[test_indices].astype(\\\"str\\\"))\\n\\nX_bool_train = train[bool_cols].values[train_indices]\\nX_bool_valid = train[bool_cols].values[valid_indices]\\nX_bool_test = train[bool_cols].values[test_indices]\\n\\nX_num_train = train[other_cols].values[train_indices]\\nX_num_valid = train[other_cols].values[valid_indices]\\nX_num_test = train[other_cols].values[test_indices]\\n\\ny_train = train[target].values[train_indices]\\ny_valid = train[target].values[valid_indices]\\ny_test = train[target].values[test_indices]\";\n",
       "                var nbb_cells = Jupyter.notebook.get_cells();\n",
       "                for (var i = 0; i < nbb_cells.length; ++i) {\n",
       "                    if (nbb_cells[i].input_prompt_number == nbb_cell_id) {\n",
       "                        if (nbb_cells[i].get_text() == nbb_unformatted_code) {\n",
       "                             nbb_cells[i].set_text(nbb_formatted_code);\n",
       "                        }\n",
       "                        break;\n",
       "                    }\n",
       "                }\n",
       "            }, 500);\n",
       "            "
      ],
      "text/plain": [
       "<IPython.core.display.Javascript object>"
      ]
     },
     "metadata": {},
     "output_type": "display_data"
    }
   ],
   "source": [
    "# train[\"Set\"] = np.random.choice(\n",
    "#     [\"train\", \"valid\"], p=[0.8, 0.2], size=(train.shape[0],)\n",
    "# )\n",
    "train_indices = train[train.Set == \"train\"].index\n",
    "valid_indices = train[train.Set == \"valid\"].index\n",
    "test_indices = train[train.Set == \"test\"].index\n",
    "\n",
    "X_train = np.char.strip(train[used_columns].values[train_indices].astype(\"str\"))\n",
    "X_valid = np.char.strip(train[used_columns].values[valid_indices].astype(\"str\"))\n",
    "X_test = np.char.strip(train[used_columns].values[test_indices].astype(\"str\"))\n",
    "\n",
    "X_bool_train = train[bool_cols].values[train_indices]\n",
    "X_bool_valid = train[bool_cols].values[valid_indices]\n",
    "X_bool_test = train[bool_cols].values[test_indices]\n",
    "\n",
    "X_num_train = train[other_cols].values[train_indices]\n",
    "X_num_valid = train[other_cols].values[valid_indices]\n",
    "X_num_test = train[other_cols].values[test_indices]\n",
    "\n",
    "y_train = train[target].values[train_indices]\n",
    "y_valid = train[target].values[valid_indices]\n",
    "y_test = train[target].values[test_indices]"
   ]
  },
  {
   "cell_type": "code",
   "execution_count": 30,
   "metadata": {},
   "outputs": [
    {
     "data": {
      "application/javascript": [
       "\n",
       "            setTimeout(function() {\n",
       "                var nbb_cell_id = 30;\n",
       "                var nbb_unformatted_code = \"del train, train_indices, valid_indices, test_indices\";\n",
       "                var nbb_formatted_code = \"del train, train_indices, valid_indices, test_indices\";\n",
       "                var nbb_cells = Jupyter.notebook.get_cells();\n",
       "                for (var i = 0; i < nbb_cells.length; ++i) {\n",
       "                    if (nbb_cells[i].input_prompt_number == nbb_cell_id) {\n",
       "                        if (nbb_cells[i].get_text() == nbb_unformatted_code) {\n",
       "                             nbb_cells[i].set_text(nbb_formatted_code);\n",
       "                        }\n",
       "                        break;\n",
       "                    }\n",
       "                }\n",
       "            }, 500);\n",
       "            "
      ],
      "text/plain": [
       "<IPython.core.display.Javascript object>"
      ]
     },
     "metadata": {},
     "output_type": "display_data"
    }
   ],
   "source": [
    "del train, train_indices, valid_indices, test_indices"
   ]
  },
  {
   "cell_type": "code",
   "execution_count": 31,
   "metadata": {
    "ExecuteTime": {
     "end_time": "2020-05-25T20:59:47.412417Z",
     "start_time": "2020-05-25T20:59:47.406951Z"
    }
   },
   "outputs": [
    {
     "data": {
      "text/plain": [
       "(32950, 18)"
      ]
     },
     "execution_count": 31,
     "metadata": {},
     "output_type": "execute_result"
    },
    {
     "data": {
      "application/javascript": [
       "\n",
       "            setTimeout(function() {\n",
       "                var nbb_cell_id = 31;\n",
       "                var nbb_unformatted_code = \"X_train.shape\";\n",
       "                var nbb_formatted_code = \"X_train.shape\";\n",
       "                var nbb_cells = Jupyter.notebook.get_cells();\n",
       "                for (var i = 0; i < nbb_cells.length; ++i) {\n",
       "                    if (nbb_cells[i].input_prompt_number == nbb_cell_id) {\n",
       "                        if (nbb_cells[i].get_text() == nbb_unformatted_code) {\n",
       "                             nbb_cells[i].set_text(nbb_formatted_code);\n",
       "                        }\n",
       "                        break;\n",
       "                    }\n",
       "                }\n",
       "            }, 500);\n",
       "            "
      ],
      "text/plain": [
       "<IPython.core.display.Javascript object>"
      ]
     },
     "metadata": {},
     "output_type": "display_data"
    }
   ],
   "source": [
    "X_train.shape"
   ]
  },
  {
   "cell_type": "code",
   "execution_count": 32,
   "metadata": {
    "ExecuteTime": {
     "end_time": "2020-05-25T20:59:47.573456Z",
     "start_time": "2020-05-25T20:59:47.413649Z"
    }
   },
   "outputs": [
    {
     "data": {
      "text/plain": [
       "19"
      ]
     },
     "execution_count": 32,
     "metadata": {},
     "output_type": "execute_result"
    },
    {
     "data": {
      "application/javascript": [
       "\n",
       "            setTimeout(function() {\n",
       "                var nbb_cell_id = 32;\n",
       "                var nbb_unformatted_code = \"INPUT_DIM = X_train.shape[1]\\nINPUT_DIM_BOOL = X_bool_train.shape[1]\\nINPUT_DIM_NUM = X_num_train.shape[1]\\n\\nif X_train.shape[1] > 0:\\n    NB_CHANNELS = np.vectorize(len)(X_train).max()\\nelse:\\n    NB_CHANNELS = 0\\nNB_CHANNELS\";\n",
       "                var nbb_formatted_code = \"INPUT_DIM = X_train.shape[1]\\nINPUT_DIM_BOOL = X_bool_train.shape[1]\\nINPUT_DIM_NUM = X_num_train.shape[1]\\n\\nif X_train.shape[1] > 0:\\n    NB_CHANNELS = np.vectorize(len)(X_train).max()\\nelse:\\n    NB_CHANNELS = 0\\nNB_CHANNELS\";\n",
       "                var nbb_cells = Jupyter.notebook.get_cells();\n",
       "                for (var i = 0; i < nbb_cells.length; ++i) {\n",
       "                    if (nbb_cells[i].input_prompt_number == nbb_cell_id) {\n",
       "                        if (nbb_cells[i].get_text() == nbb_unformatted_code) {\n",
       "                             nbb_cells[i].set_text(nbb_formatted_code);\n",
       "                        }\n",
       "                        break;\n",
       "                    }\n",
       "                }\n",
       "            }, 500);\n",
       "            "
      ],
      "text/plain": [
       "<IPython.core.display.Javascript object>"
      ]
     },
     "metadata": {},
     "output_type": "display_data"
    }
   ],
   "source": [
    "INPUT_DIM = X_train.shape[1]\n",
    "INPUT_DIM_BOOL = X_bool_train.shape[1]\n",
    "INPUT_DIM_NUM = X_num_train.shape[1]\n",
    "\n",
    "if X_train.shape[1] > 0:\n",
    "    NB_CHANNELS = np.vectorize(len)(X_train).max()\n",
    "else:\n",
    "    NB_CHANNELS = 0\n",
    "NB_CHANNELS"
   ]
  },
  {
   "cell_type": "code",
   "execution_count": 33,
   "metadata": {
    "ExecuteTime": {
     "end_time": "2020-05-25T21:00:00.007709Z",
     "start_time": "2020-05-25T20:59:47.617541Z"
    }
   },
   "outputs": [
    {
     "data": {
      "application/javascript": [
       "\n",
       "            setTimeout(function() {\n",
       "                var nbb_cell_id = 33;\n",
       "                var nbb_unformatted_code = \"X_train_preproc = do_parallel_numpy(line_to_img, [X_train], [NB_CHANNELS])\\nX_valid_preproc = do_parallel_numpy(line_to_img, [X_valid], [NB_CHANNELS])\\nX_test_preproc = do_parallel_numpy(line_to_img, [X_test], [NB_CHANNELS])\";\n",
       "                var nbb_formatted_code = \"X_train_preproc = do_parallel_numpy(line_to_img, [X_train], [NB_CHANNELS])\\nX_valid_preproc = do_parallel_numpy(line_to_img, [X_valid], [NB_CHANNELS])\\nX_test_preproc = do_parallel_numpy(line_to_img, [X_test], [NB_CHANNELS])\";\n",
       "                var nbb_cells = Jupyter.notebook.get_cells();\n",
       "                for (var i = 0; i < nbb_cells.length; ++i) {\n",
       "                    if (nbb_cells[i].input_prompt_number == nbb_cell_id) {\n",
       "                        if (nbb_cells[i].get_text() == nbb_unformatted_code) {\n",
       "                             nbb_cells[i].set_text(nbb_formatted_code);\n",
       "                        }\n",
       "                        break;\n",
       "                    }\n",
       "                }\n",
       "            }, 500);\n",
       "            "
      ],
      "text/plain": [
       "<IPython.core.display.Javascript object>"
      ]
     },
     "metadata": {},
     "output_type": "display_data"
    }
   ],
   "source": [
    "X_train_preproc = do_parallel_numpy(line_to_img, [X_train], [NB_CHANNELS])\n",
    "X_valid_preproc = do_parallel_numpy(line_to_img, [X_valid], [NB_CHANNELS])\n",
    "X_test_preproc = do_parallel_numpy(line_to_img, [X_test], [NB_CHANNELS])"
   ]
  },
  {
   "cell_type": "code",
   "execution_count": 34,
   "metadata": {
    "ExecuteTime": {
     "end_time": "2020-05-25T19:22:09.609604Z",
     "start_time": "2020-05-25T19:22:09.602138Z"
    }
   },
   "outputs": [
    {
     "data": {
      "application/javascript": [
       "\n",
       "            setTimeout(function() {\n",
       "                var nbb_cell_id = 34;\n",
       "                var nbb_unformatted_code = \"# Y_train_preproc = to_categorical(y_train)\\n# Y_valid_preproc = to_categorical(y_valid)\\n# Y_test_preproc = to_categorical(y_test)\";\n",
       "                var nbb_formatted_code = \"# Y_train_preproc = to_categorical(y_train)\\n# Y_valid_preproc = to_categorical(y_valid)\\n# Y_test_preproc = to_categorical(y_test)\";\n",
       "                var nbb_cells = Jupyter.notebook.get_cells();\n",
       "                for (var i = 0; i < nbb_cells.length; ++i) {\n",
       "                    if (nbb_cells[i].input_prompt_number == nbb_cell_id) {\n",
       "                        if (nbb_cells[i].get_text() == nbb_unformatted_code) {\n",
       "                             nbb_cells[i].set_text(nbb_formatted_code);\n",
       "                        }\n",
       "                        break;\n",
       "                    }\n",
       "                }\n",
       "            }, 500);\n",
       "            "
      ],
      "text/plain": [
       "<IPython.core.display.Javascript object>"
      ]
     },
     "metadata": {},
     "output_type": "display_data"
    }
   ],
   "source": [
    "# Y_train_preproc = to_categorical(y_train)\n",
    "# Y_valid_preproc = to_categorical(y_valid)\n",
    "# Y_test_preproc = to_categorical(y_test)"
   ]
  },
  {
   "cell_type": "code",
   "execution_count": 35,
   "metadata": {
    "ExecuteTime": {
     "end_time": "2020-05-25T21:00:00.061348Z",
     "start_time": "2020-05-25T21:00:00.017086Z"
    }
   },
   "outputs": [
    {
     "data": {
      "application/javascript": [
       "\n",
       "            setTimeout(function() {\n",
       "                var nbb_cell_id = 35;\n",
       "                var nbb_unformatted_code = \"def build_model(\\n    input_dim_cat,\\n    input_dim_bool,\\n    input_dim_num,\\n    nb_channels,\\n    conv_dim=[],\\n    lconv_dim=[],\\n    lconv_num_dim=[],\\n):\\n    activation = mish\\n    optimizer = Lookahead(RectifiedAdam(1e-3), sync_period=6, slow_step_size=0.5)\\n\\n    inputs = []\\n    concats = []\\n\\n    if input_dim_bool > 0:\\n        input_bool_layer = Input(shape=(input_dim_bool,), name=\\\"input_bool\\\")\\n        inputs.append(input_bool_layer)\\n        concats.append(input_bool_layer)\\n\\n    if input_dim_num > 0:\\n        input_num_layer = Input(shape=(input_dim_num,), name=\\\"input_num\\\")\\n        inputs.append(input_num_layer)\\n        x_num_layer = Reshape((input_dim_num, 1), name=\\\"reshape_num_input\\\")(\\n            input_num_layer\\n        )\\n\\n        for i, lconv_layer in enumerate(lconv_num_dim):\\n            name = f\\\"block_lconv_num_{i}_\\\"\\n            x_num_layer = LocallyConnected1D(\\n                filters=lconv_layer,\\n                padding=\\\"valid\\\",\\n                kernel_size=1,\\n                strides=1,\\n                name=name + \\\"conv\\\",\\n                use_bias=False,\\n                activation=None,\\n            )(x_num_layer)\\n            x_num_layer = BatchNormalization(name=name + \\\"nb\\\")(x_num_layer)\\n            x_num_layer = Activation(activation, name=name + \\\"activation\\\")(x_num_layer)\\n        nb_filters = lconv_num_dim[-1] if len(lconv_dim) > 0 else conv_dim[-1]\\n        x_num_layer = Reshape((input_dim_num * nb_filters,), name=\\\"reshape_num_output\\\")(\\n            x_num_layer\\n        )\\n        concats.append(x_num_layer)\\n\\n    if input_dim_cat > 0:\\n        input_cat_layer = Input(shape=(input_dim_cat, nb_channels), name=\\\"input_cat\\\")\\n        inputs.append(input_cat_layer)\\n\\n        x_layer = input_cat_layer\\n        for i, conv_layer in enumerate(conv_dim):\\n            name = f\\\"block_conv_{i}_\\\"\\n            x_layer = Conv1D(\\n                filters=conv_layer,\\n                padding=\\\"valid\\\",\\n                kernel_size=1,\\n                strides=1,\\n                name=name + \\\"conv\\\",\\n                use_bias=False,\\n                activation=None,\\n            )(x_layer)\\n            x_layer = BatchNormalization(name=name + \\\"nb\\\")(x_layer)\\n            x_layer = Activation(activation, name=name + \\\"activation\\\")(x_layer)\\n\\n        for i, lconv_layer in enumerate(lconv_dim):\\n            name = f\\\"block_lconv_{i}_\\\"\\n            x_layer = LocallyConnected1D(\\n                filters=lconv_layer,\\n                padding=\\\"valid\\\",\\n                kernel_size=1,\\n                strides=1,\\n                name=name + \\\"lconv\\\",\\n                use_bias=False,\\n                activation=None,\\n            )(x_layer)\\n            x_layer = BatchNormalization(name=name + \\\"nb\\\")(x_layer)\\n            x_layer = Activation(activation, name=name + \\\"activation\\\")(x_layer)\\n        nb_filters = lconv_dim[-1] if len(lconv_dim) > 0 else conv_dim[-1]\\n        x_layer = Reshape((input_dim_cat * nb_filters,), name=\\\"reshape\\\")(x_layer)\\n        concats.append(x_layer)\\n\\n    if len(concats) > 1:\\n        concat = Concatenate()(concats)\\n    else:\\n        concat = concats[0]\\n\\n    output = Dense(1, activation=\\\"sigmoid\\\", name=\\\"output\\\")(concat)\\n\\n    model = Model(inputs=inputs, outputs=[output], name=\\\"first_model\\\",)\\n    model.compile(loss=\\\"binary_crossentropy\\\", optimizer=optimizer)\\n\\n    return model\";\n",
       "                var nbb_formatted_code = \"def build_model(\\n    input_dim_cat,\\n    input_dim_bool,\\n    input_dim_num,\\n    nb_channels,\\n    conv_dim=[],\\n    lconv_dim=[],\\n    lconv_num_dim=[],\\n):\\n    activation = mish\\n    optimizer = Lookahead(RectifiedAdam(1e-3), sync_period=6, slow_step_size=0.5)\\n\\n    inputs = []\\n    concats = []\\n\\n    if input_dim_bool > 0:\\n        input_bool_layer = Input(shape=(input_dim_bool,), name=\\\"input_bool\\\")\\n        inputs.append(input_bool_layer)\\n        concats.append(input_bool_layer)\\n\\n    if input_dim_num > 0:\\n        input_num_layer = Input(shape=(input_dim_num,), name=\\\"input_num\\\")\\n        inputs.append(input_num_layer)\\n        x_num_layer = Reshape((input_dim_num, 1), name=\\\"reshape_num_input\\\")(\\n            input_num_layer\\n        )\\n\\n        for i, lconv_layer in enumerate(lconv_num_dim):\\n            name = f\\\"block_lconv_num_{i}_\\\"\\n            x_num_layer = LocallyConnected1D(\\n                filters=lconv_layer,\\n                padding=\\\"valid\\\",\\n                kernel_size=1,\\n                strides=1,\\n                name=name + \\\"conv\\\",\\n                use_bias=False,\\n                activation=None,\\n            )(x_num_layer)\\n            x_num_layer = BatchNormalization(name=name + \\\"nb\\\")(x_num_layer)\\n            x_num_layer = Activation(activation, name=name + \\\"activation\\\")(x_num_layer)\\n        nb_filters = lconv_num_dim[-1] if len(lconv_dim) > 0 else conv_dim[-1]\\n        x_num_layer = Reshape((input_dim_num * nb_filters,), name=\\\"reshape_num_output\\\")(\\n            x_num_layer\\n        )\\n        concats.append(x_num_layer)\\n\\n    if input_dim_cat > 0:\\n        input_cat_layer = Input(shape=(input_dim_cat, nb_channels), name=\\\"input_cat\\\")\\n        inputs.append(input_cat_layer)\\n\\n        x_layer = input_cat_layer\\n        for i, conv_layer in enumerate(conv_dim):\\n            name = f\\\"block_conv_{i}_\\\"\\n            x_layer = Conv1D(\\n                filters=conv_layer,\\n                padding=\\\"valid\\\",\\n                kernel_size=1,\\n                strides=1,\\n                name=name + \\\"conv\\\",\\n                use_bias=False,\\n                activation=None,\\n            )(x_layer)\\n            x_layer = BatchNormalization(name=name + \\\"nb\\\")(x_layer)\\n            x_layer = Activation(activation, name=name + \\\"activation\\\")(x_layer)\\n\\n        for i, lconv_layer in enumerate(lconv_dim):\\n            name = f\\\"block_lconv_{i}_\\\"\\n            x_layer = LocallyConnected1D(\\n                filters=lconv_layer,\\n                padding=\\\"valid\\\",\\n                kernel_size=1,\\n                strides=1,\\n                name=name + \\\"lconv\\\",\\n                use_bias=False,\\n                activation=None,\\n            )(x_layer)\\n            x_layer = BatchNormalization(name=name + \\\"nb\\\")(x_layer)\\n            x_layer = Activation(activation, name=name + \\\"activation\\\")(x_layer)\\n        nb_filters = lconv_dim[-1] if len(lconv_dim) > 0 else conv_dim[-1]\\n        x_layer = Reshape((input_dim_cat * nb_filters,), name=\\\"reshape\\\")(x_layer)\\n        concats.append(x_layer)\\n\\n    if len(concats) > 1:\\n        concat = Concatenate()(concats)\\n    else:\\n        concat = concats[0]\\n\\n    output = Dense(1, activation=\\\"sigmoid\\\", name=\\\"output\\\")(concat)\\n\\n    model = Model(inputs=inputs, outputs=[output], name=\\\"first_model\\\",)\\n    model.compile(loss=\\\"binary_crossentropy\\\", optimizer=optimizer)\\n\\n    return model\";\n",
       "                var nbb_cells = Jupyter.notebook.get_cells();\n",
       "                for (var i = 0; i < nbb_cells.length; ++i) {\n",
       "                    if (nbb_cells[i].input_prompt_number == nbb_cell_id) {\n",
       "                        if (nbb_cells[i].get_text() == nbb_unformatted_code) {\n",
       "                             nbb_cells[i].set_text(nbb_formatted_code);\n",
       "                        }\n",
       "                        break;\n",
       "                    }\n",
       "                }\n",
       "            }, 500);\n",
       "            "
      ],
      "text/plain": [
       "<IPython.core.display.Javascript object>"
      ]
     },
     "metadata": {},
     "output_type": "display_data"
    }
   ],
   "source": [
    "def build_model(\n",
    "    input_dim_cat,\n",
    "    input_dim_bool,\n",
    "    input_dim_num,\n",
    "    nb_channels,\n",
    "    conv_dim=[],\n",
    "    lconv_dim=[],\n",
    "    lconv_num_dim=[],\n",
    "):\n",
    "    activation = mish\n",
    "    optimizer = Lookahead(RectifiedAdam(1e-3), sync_period=6, slow_step_size=0.5)\n",
    "\n",
    "    inputs = []\n",
    "    concats = []\n",
    "\n",
    "    if input_dim_bool > 0:\n",
    "        input_bool_layer = Input(shape=(input_dim_bool,), name=\"input_bool\")\n",
    "        inputs.append(input_bool_layer)\n",
    "        concats.append(input_bool_layer)\n",
    "\n",
    "    if input_dim_num > 0:\n",
    "        input_num_layer = Input(shape=(input_dim_num,), name=\"input_num\")\n",
    "        inputs.append(input_num_layer)\n",
    "        x_num_layer = Reshape((input_dim_num, 1), name=\"reshape_num_input\")(\n",
    "            input_num_layer\n",
    "        )\n",
    "\n",
    "        for i, lconv_layer in enumerate(lconv_num_dim):\n",
    "            name = f\"block_lconv_num_{i}_\"\n",
    "            x_num_layer = LocallyConnected1D(\n",
    "                filters=lconv_layer,\n",
    "                padding=\"valid\",\n",
    "                kernel_size=1,\n",
    "                strides=1,\n",
    "                name=name + \"conv\",\n",
    "                use_bias=False,\n",
    "                activation=None,\n",
    "            )(x_num_layer)\n",
    "            x_num_layer = BatchNormalization(name=name + \"nb\")(x_num_layer)\n",
    "            x_num_layer = Activation(activation, name=name + \"activation\")(x_num_layer)\n",
    "        nb_filters = lconv_num_dim[-1] if len(lconv_dim) > 0 else conv_dim[-1]\n",
    "        x_num_layer = Reshape((input_dim_num * nb_filters,), name=\"reshape_num_output\")(\n",
    "            x_num_layer\n",
    "        )\n",
    "        concats.append(x_num_layer)\n",
    "\n",
    "    if input_dim_cat > 0:\n",
    "        input_cat_layer = Input(shape=(input_dim_cat, nb_channels), name=\"input_cat\")\n",
    "        inputs.append(input_cat_layer)\n",
    "\n",
    "        x_layer = input_cat_layer\n",
    "        for i, conv_layer in enumerate(conv_dim):\n",
    "            name = f\"block_conv_{i}_\"\n",
    "            x_layer = Conv1D(\n",
    "                filters=conv_layer,\n",
    "                padding=\"valid\",\n",
    "                kernel_size=1,\n",
    "                strides=1,\n",
    "                name=name + \"conv\",\n",
    "                use_bias=False,\n",
    "                activation=None,\n",
    "            )(x_layer)\n",
    "            x_layer = BatchNormalization(name=name + \"nb\")(x_layer)\n",
    "            x_layer = Activation(activation, name=name + \"activation\")(x_layer)\n",
    "\n",
    "        for i, lconv_layer in enumerate(lconv_dim):\n",
    "            name = f\"block_lconv_{i}_\"\n",
    "            x_layer = LocallyConnected1D(\n",
    "                filters=lconv_layer,\n",
    "                padding=\"valid\",\n",
    "                kernel_size=1,\n",
    "                strides=1,\n",
    "                name=name + \"lconv\",\n",
    "                use_bias=False,\n",
    "                activation=None,\n",
    "            )(x_layer)\n",
    "            x_layer = BatchNormalization(name=name + \"nb\")(x_layer)\n",
    "            x_layer = Activation(activation, name=name + \"activation\")(x_layer)\n",
    "        nb_filters = lconv_dim[-1] if len(lconv_dim) > 0 else conv_dim[-1]\n",
    "        x_layer = Reshape((input_dim_cat * nb_filters,), name=\"reshape\")(x_layer)\n",
    "        concats.append(x_layer)\n",
    "\n",
    "    if len(concats) > 1:\n",
    "        concat = Concatenate()(concats)\n",
    "    else:\n",
    "        concat = concats[0]\n",
    "\n",
    "    output = Dense(1, activation=\"sigmoid\", name=\"output\")(concat)\n",
    "\n",
    "    model = Model(inputs=inputs, outputs=[output], name=\"first_model\",)\n",
    "    model.compile(loss=\"binary_crossentropy\", optimizer=optimizer)\n",
    "\n",
    "    return model"
   ]
  },
  {
   "cell_type": "code",
   "execution_count": 36,
   "metadata": {
    "ExecuteTime": {
     "end_time": "2020-05-25T21:00:00.979562Z",
     "start_time": "2020-05-25T21:00:00.062758Z"
    }
   },
   "outputs": [
    {
     "data": {
      "application/javascript": [
       "\n",
       "            setTimeout(function() {\n",
       "                var nbb_cell_id = 36;\n",
       "                var nbb_unformatted_code = \"model = build_model(\\n    INPUT_DIM,\\n    INPUT_DIM_BOOL,\\n    INPUT_DIM_NUM,\\n    NB_CHANNELS,\\n    conv_dim=[],\\n    lconv_dim=[128, 64, 32],\\n    lconv_num_dim=[64, 32, 16],\\n)\";\n",
       "                var nbb_formatted_code = \"model = build_model(\\n    INPUT_DIM,\\n    INPUT_DIM_BOOL,\\n    INPUT_DIM_NUM,\\n    NB_CHANNELS,\\n    conv_dim=[],\\n    lconv_dim=[128, 64, 32],\\n    lconv_num_dim=[64, 32, 16],\\n)\";\n",
       "                var nbb_cells = Jupyter.notebook.get_cells();\n",
       "                for (var i = 0; i < nbb_cells.length; ++i) {\n",
       "                    if (nbb_cells[i].input_prompt_number == nbb_cell_id) {\n",
       "                        if (nbb_cells[i].get_text() == nbb_unformatted_code) {\n",
       "                             nbb_cells[i].set_text(nbb_formatted_code);\n",
       "                        }\n",
       "                        break;\n",
       "                    }\n",
       "                }\n",
       "            }, 500);\n",
       "            "
      ],
      "text/plain": [
       "<IPython.core.display.Javascript object>"
      ]
     },
     "metadata": {},
     "output_type": "display_data"
    }
   ],
   "source": [
    "model = build_model(\n",
    "    INPUT_DIM,\n",
    "    INPUT_DIM_BOOL,\n",
    "    INPUT_DIM_NUM,\n",
    "    NB_CHANNELS,\n",
    "    conv_dim=[],\n",
    "    lconv_dim=[128, 64, 32],\n",
    "    lconv_num_dim=[64, 32, 16],\n",
    ")"
   ]
  },
  {
   "cell_type": "code",
   "execution_count": 37,
   "metadata": {
    "ExecuteTime": {
     "end_time": "2020-05-25T21:00:00.994383Z",
     "start_time": "2020-05-25T21:00:00.981768Z"
    }
   },
   "outputs": [
    {
     "name": "stdout",
     "output_type": "stream",
     "text": [
      "Model: \"first_model\"\n",
      "__________________________________________________________________________________________________\n",
      "Layer (type)                    Output Shape         Param #     Connected to                     \n",
      "==================================================================================================\n",
      "input_cat (InputLayer)          [(None, 18, 19)]     0                                            \n",
      "__________________________________________________________________________________________________\n",
      "block_lconv_0_lconv (LocallyCon (None, 18, 128)      43776       input_cat[0][0]                  \n",
      "__________________________________________________________________________________________________\n",
      "block_lconv_0_nb (BatchNormaliz (None, 18, 128)      512         block_lconv_0_lconv[0][0]        \n",
      "__________________________________________________________________________________________________\n",
      "block_lconv_0_activation (Activ (None, 18, 128)      0           block_lconv_0_nb[0][0]           \n",
      "__________________________________________________________________________________________________\n",
      "block_lconv_1_lconv (LocallyCon (None, 18, 64)       147456      block_lconv_0_activation[0][0]   \n",
      "__________________________________________________________________________________________________\n",
      "block_lconv_1_nb (BatchNormaliz (None, 18, 64)       256         block_lconv_1_lconv[0][0]        \n",
      "__________________________________________________________________________________________________\n",
      "block_lconv_1_activation (Activ (None, 18, 64)       0           block_lconv_1_nb[0][0]           \n",
      "__________________________________________________________________________________________________\n",
      "block_lconv_2_lconv (LocallyCon (None, 18, 32)       36864       block_lconv_1_activation[0][0]   \n",
      "__________________________________________________________________________________________________\n",
      "block_lconv_2_nb (BatchNormaliz (None, 18, 32)       128         block_lconv_2_lconv[0][0]        \n",
      "__________________________________________________________________________________________________\n",
      "block_lconv_2_activation (Activ (None, 18, 32)       0           block_lconv_2_nb[0][0]           \n",
      "__________________________________________________________________________________________________\n",
      "input_bool (InputLayer)         [(None, 1)]          0                                            \n",
      "__________________________________________________________________________________________________\n",
      "reshape (Reshape)               (None, 576)          0           block_lconv_2_activation[0][0]   \n",
      "__________________________________________________________________________________________________\n",
      "concatenate (Concatenate)       (None, 577)          0           input_bool[0][0]                 \n",
      "                                                                 reshape[0][0]                    \n",
      "__________________________________________________________________________________________________\n",
      "output (Dense)                  (None, 1)            578         concatenate[0][0]                \n",
      "==================================================================================================\n",
      "Total params: 229,570\n",
      "Trainable params: 229,122\n",
      "Non-trainable params: 448\n",
      "__________________________________________________________________________________________________\n"
     ]
    },
    {
     "data": {
      "application/javascript": [
       "\n",
       "            setTimeout(function() {\n",
       "                var nbb_cell_id = 37;\n",
       "                var nbb_unformatted_code = \"model.summary()\";\n",
       "                var nbb_formatted_code = \"model.summary()\";\n",
       "                var nbb_cells = Jupyter.notebook.get_cells();\n",
       "                for (var i = 0; i < nbb_cells.length; ++i) {\n",
       "                    if (nbb_cells[i].input_prompt_number == nbb_cell_id) {\n",
       "                        if (nbb_cells[i].get_text() == nbb_unformatted_code) {\n",
       "                             nbb_cells[i].set_text(nbb_formatted_code);\n",
       "                        }\n",
       "                        break;\n",
       "                    }\n",
       "                }\n",
       "            }, 500);\n",
       "            "
      ],
      "text/plain": [
       "<IPython.core.display.Javascript object>"
      ]
     },
     "metadata": {},
     "output_type": "display_data"
    }
   ],
   "source": [
    "model.summary()"
   ]
  },
  {
   "cell_type": "code",
   "execution_count": 38,
   "metadata": {},
   "outputs": [
    {
     "data": {
      "application/javascript": [
       "\n",
       "            setTimeout(function() {\n",
       "                var nbb_cell_id = 38;\n",
       "                var nbb_unformatted_code = \"#!pip install pydot graphviz\";\n",
       "                var nbb_formatted_code = \"#!pip install pydot graphviz\";\n",
       "                var nbb_cells = Jupyter.notebook.get_cells();\n",
       "                for (var i = 0; i < nbb_cells.length; ++i) {\n",
       "                    if (nbb_cells[i].input_prompt_number == nbb_cell_id) {\n",
       "                        if (nbb_cells[i].get_text() == nbb_unformatted_code) {\n",
       "                             nbb_cells[i].set_text(nbb_formatted_code);\n",
       "                        }\n",
       "                        break;\n",
       "                    }\n",
       "                }\n",
       "            }, 500);\n",
       "            "
      ],
      "text/plain": [
       "<IPython.core.display.Javascript object>"
      ]
     },
     "metadata": {},
     "output_type": "display_data"
    }
   ],
   "source": [
    "#!pip install pydot graphviz"
   ]
  },
  {
   "cell_type": "code",
   "execution_count": 39,
   "metadata": {},
   "outputs": [
    {
     "data": {
      "image/png": "[encoded data removed]",
      "text/plain": [
       "<IPython.core.display.Image object>"
      ]
     },
     "execution_count": 39,
     "metadata": {},
     "output_type": "execute_result"
    },
    {
     "data": {
      "application/javascript": [
       "\n",
       "            setTimeout(function() {\n",
       "                var nbb_cell_id = 39;\n",
       "                var nbb_unformatted_code = \"plot_model(\\n    model,\\n    # to_file=\\\"model.png\\\",\\n    show_shapes=True,\\n    show_layer_names=True,\\n    rankdir=\\\"TB\\\",\\n    expand_nested=False,\\n    dpi=96,\\n)\";\n",
       "                var nbb_formatted_code = \"plot_model(\\n    model,\\n    # to_file=\\\"model.png\\\",\\n    show_shapes=True,\\n    show_layer_names=True,\\n    rankdir=\\\"TB\\\",\\n    expand_nested=False,\\n    dpi=96,\\n)\";\n",
       "                var nbb_cells = Jupyter.notebook.get_cells();\n",
       "                for (var i = 0; i < nbb_cells.length; ++i) {\n",
       "                    if (nbb_cells[i].input_prompt_number == nbb_cell_id) {\n",
       "                        if (nbb_cells[i].get_text() == nbb_unformatted_code) {\n",
       "                             nbb_cells[i].set_text(nbb_formatted_code);\n",
       "                        }\n",
       "                        break;\n",
       "                    }\n",
       "                }\n",
       "            }, 500);\n",
       "            "
      ],
      "text/plain": [
       "<IPython.core.display.Javascript object>"
      ]
     },
     "metadata": {},
     "output_type": "display_data"
    }
   ],
   "source": [
    "plot_model(\n",
    "    model,\n",
    "    # to_file=\"model.png\",\n",
    "    show_shapes=True,\n",
    "    show_layer_names=True,\n",
    "    rankdir=\"TB\",\n",
    "    expand_nested=False,\n",
    "    dpi=96,\n",
    ")"
   ]
  },
  {
   "cell_type": "code",
   "execution_count": 40,
   "metadata": {
    "ExecuteTime": {
     "end_time": "2020-05-25T21:00:01.114121Z",
     "start_time": "2020-05-25T21:00:00.997404Z"
    }
   },
   "outputs": [
    {
     "data": {
      "text/plain": [
       "(32950,)"
      ]
     },
     "execution_count": 40,
     "metadata": {},
     "output_type": "execute_result"
    },
    {
     "data": {
      "application/javascript": [
       "\n",
       "            setTimeout(function() {\n",
       "                var nbb_cell_id = 40;\n",
       "                var nbb_unformatted_code = \"y_train.shape\";\n",
       "                var nbb_formatted_code = \"y_train.shape\";\n",
       "                var nbb_cells = Jupyter.notebook.get_cells();\n",
       "                for (var i = 0; i < nbb_cells.length; ++i) {\n",
       "                    if (nbb_cells[i].input_prompt_number == nbb_cell_id) {\n",
       "                        if (nbb_cells[i].get_text() == nbb_unformatted_code) {\n",
       "                             nbb_cells[i].set_text(nbb_formatted_code);\n",
       "                        }\n",
       "                        break;\n",
       "                    }\n",
       "                }\n",
       "            }, 500);\n",
       "            "
      ],
      "text/plain": [
       "<IPython.core.display.Javascript object>"
      ]
     },
     "metadata": {},
     "output_type": "display_data"
    }
   ],
   "source": [
    "y_train.shape"
   ]
  },
  {
   "cell_type": "code",
   "execution_count": 41,
   "metadata": {},
   "outputs": [
    {
     "data": {
      "application/javascript": [
       "\n",
       "            setTimeout(function() {\n",
       "                var nbb_cell_id = 41;\n",
       "                var nbb_unformatted_code = \"input_model = []\\ninput_valid = []\\ninput_test = []\";\n",
       "                var nbb_formatted_code = \"input_model = []\\ninput_valid = []\\ninput_test = []\";\n",
       "                var nbb_cells = Jupyter.notebook.get_cells();\n",
       "                for (var i = 0; i < nbb_cells.length; ++i) {\n",
       "                    if (nbb_cells[i].input_prompt_number == nbb_cell_id) {\n",
       "                        if (nbb_cells[i].get_text() == nbb_unformatted_code) {\n",
       "                             nbb_cells[i].set_text(nbb_formatted_code);\n",
       "                        }\n",
       "                        break;\n",
       "                    }\n",
       "                }\n",
       "            }, 500);\n",
       "            "
      ],
      "text/plain": [
       "<IPython.core.display.Javascript object>"
      ]
     },
     "metadata": {},
     "output_type": "display_data"
    }
   ],
   "source": [
    "input_model = []\n",
    "input_valid = []\n",
    "input_test = []"
   ]
  },
  {
   "cell_type": "code",
   "execution_count": 42,
   "metadata": {},
   "outputs": [
    {
     "data": {
      "application/javascript": [
       "\n",
       "            setTimeout(function() {\n",
       "                var nbb_cell_id = 42;\n",
       "                var nbb_unformatted_code = \"if INPUT_DIM_BOOL > 0:\\n    input_model.append(X_bool_train)\\n    input_valid.append(X_bool_valid)\\n    input_test.append(X_bool_test)\\nif INPUT_DIM_NUM > 0:\\n    input_model.append(X_num_train)\\n    input_valid.append(X_num_valid)\\n    input_test.append(X_num_test)\\nif INPUT_DIM > 0:\\n    input_model.append(X_train_preproc)\\n    input_valid.append(X_valid_preproc)\\n    input_test.append(X_test_preproc)\";\n",
       "                var nbb_formatted_code = \"if INPUT_DIM_BOOL > 0:\\n    input_model.append(X_bool_train)\\n    input_valid.append(X_bool_valid)\\n    input_test.append(X_bool_test)\\nif INPUT_DIM_NUM > 0:\\n    input_model.append(X_num_train)\\n    input_valid.append(X_num_valid)\\n    input_test.append(X_num_test)\\nif INPUT_DIM > 0:\\n    input_model.append(X_train_preproc)\\n    input_valid.append(X_valid_preproc)\\n    input_test.append(X_test_preproc)\";\n",
       "                var nbb_cells = Jupyter.notebook.get_cells();\n",
       "                for (var i = 0; i < nbb_cells.length; ++i) {\n",
       "                    if (nbb_cells[i].input_prompt_number == nbb_cell_id) {\n",
       "                        if (nbb_cells[i].get_text() == nbb_unformatted_code) {\n",
       "                             nbb_cells[i].set_text(nbb_formatted_code);\n",
       "                        }\n",
       "                        break;\n",
       "                    }\n",
       "                }\n",
       "            }, 500);\n",
       "            "
      ],
      "text/plain": [
       "<IPython.core.display.Javascript object>"
      ]
     },
     "metadata": {},
     "output_type": "display_data"
    }
   ],
   "source": [
    "if INPUT_DIM_BOOL > 0:\n",
    "    input_model.append(X_bool_train)\n",
    "    input_valid.append(X_bool_valid)\n",
    "    input_test.append(X_bool_test)\n",
    "if INPUT_DIM_NUM > 0:\n",
    "    input_model.append(X_num_train)\n",
    "    input_valid.append(X_num_valid)\n",
    "    input_test.append(X_num_test)\n",
    "if INPUT_DIM > 0:\n",
    "    input_model.append(X_train_preproc)\n",
    "    input_valid.append(X_valid_preproc)\n",
    "    input_test.append(X_test_preproc)"
   ]
  },
  {
   "cell_type": "code",
   "execution_count": 43,
   "metadata": {
    "ExecuteTime": {
     "end_time": "2020-05-25T21:00:07.717722Z",
     "start_time": "2020-05-25T21:00:01.118492Z"
    }
   },
   "outputs": [
    {
     "name": "stdout",
     "output_type": "stream",
     "text": [
      "Epoch 1/2000\n"
     ]
    },
    {
     "name": "stderr",
     "output_type": "stream",
     "text": [
      "WARNING:tensorflow:From /work/.cache/poetry/thc-net-KQLMmzPP-py3.7/lib/python3.7/site-packages/tensorflow/python/ops/resource_variable_ops.py:1817: calling BaseResourceVariable.__init__ (from tensorflow.python.ops.resource_variable_ops) with constraint is deprecated and will be removed in a future version.\n",
      "Instructions for updating:\n",
      "If using Keras pass *_constraint arguments to layers.\n"
     ]
    },
    {
     "name": "stdout",
     "output_type": "stream",
     "text": [
      "33/33 [==============================] - 15s 448ms/step - loss: 0.3454 - val_loss: 0.6361\n",
      "Epoch 2/2000\n",
      "33/33 [==============================] - 14s 412ms/step - loss: 0.3141 - val_loss: 0.6346\n",
      "Epoch 3/2000\n",
      "33/33 [==============================] - 15s 464ms/step - loss: 0.2951 - val_loss: 0.6198\n",
      "Epoch 4/2000\n",
      "33/33 [==============================] - 16s 485ms/step - loss: 0.2885 - val_loss: 0.5918\n",
      "Epoch 5/2000\n",
      "33/33 [==============================] - 14s 424ms/step - loss: 0.2881 - val_loss: 0.5847\n",
      "Epoch 6/2000\n",
      "33/33 [==============================] - 14s 420ms/step - loss: 0.2869 - val_loss: 0.5580\n",
      "Epoch 7/2000\n",
      "33/33 [==============================] - 15s 453ms/step - loss: 0.2882 - val_loss: 0.4724\n",
      "Epoch 8/2000\n",
      "33/33 [==============================] - 14s 420ms/step - loss: 0.2864 - val_loss: 0.4667\n",
      "Epoch 9/2000\n",
      "33/33 [==============================] - 14s 413ms/step - loss: 0.2853 - val_loss: 0.4109\n",
      "Epoch 10/2000\n",
      "20/33 [=================>............] - ETA: 5s - loss: 0.2767"
     ]
    },
    {
     "ename": "KeyboardInterrupt",
     "evalue": "",
     "output_type": "error",
     "traceback": [
      "\u001b[0;31m---------------------------------------------------------------------------\u001b[0m",
      "\u001b[0;31mKeyboardInterrupt\u001b[0m                         Traceback (most recent call last)",
      "\u001b[0;32m<timed exec>\u001b[0m in \u001b[0;36m<module>\u001b[0;34m\u001b[0m\n",
      "\u001b[0;32m/work/.cache/poetry/thc-net-KQLMmzPP-py3.7/lib/python3.7/site-packages/tensorflow/python/keras/engine/training.py\u001b[0m in \u001b[0;36m_method_wrapper\u001b[0;34m(self, *args, **kwargs)\u001b[0m\n\u001b[1;32m     64\u001b[0m   \u001b[0;32mdef\u001b[0m \u001b[0m_method_wrapper\u001b[0m\u001b[0;34m(\u001b[0m\u001b[0mself\u001b[0m\u001b[0;34m,\u001b[0m \u001b[0;34m*\u001b[0m\u001b[0margs\u001b[0m\u001b[0;34m,\u001b[0m \u001b[0;34m**\u001b[0m\u001b[0mkwargs\u001b[0m\u001b[0;34m)\u001b[0m\u001b[0;34m:\u001b[0m\u001b[0;34m\u001b[0m\u001b[0;34m\u001b[0m\u001b[0m\n\u001b[1;32m     65\u001b[0m     \u001b[0;32mif\u001b[0m \u001b[0;32mnot\u001b[0m \u001b[0mself\u001b[0m\u001b[0;34m.\u001b[0m\u001b[0m_in_multi_worker_mode\u001b[0m\u001b[0;34m(\u001b[0m\u001b[0;34m)\u001b[0m\u001b[0;34m:\u001b[0m  \u001b[0;31m# pylint: disable=protected-access\u001b[0m\u001b[0;34m\u001b[0m\u001b[0;34m\u001b[0m\u001b[0m\n\u001b[0;32m---> 66\u001b[0;31m       \u001b[0;32mreturn\u001b[0m \u001b[0mmethod\u001b[0m\u001b[0;34m(\u001b[0m\u001b[0mself\u001b[0m\u001b[0;34m,\u001b[0m \u001b[0;34m*\u001b[0m\u001b[0margs\u001b[0m\u001b[0;34m,\u001b[0m \u001b[0;34m**\u001b[0m\u001b[0mkwargs\u001b[0m\u001b[0;34m)\u001b[0m\u001b[0;34m\u001b[0m\u001b[0;34m\u001b[0m\u001b[0m\n\u001b[0m\u001b[1;32m     67\u001b[0m \u001b[0;34m\u001b[0m\u001b[0m\n\u001b[1;32m     68\u001b[0m     \u001b[0;31m# Running inside `run_distribute_coordinator` already.\u001b[0m\u001b[0;34m\u001b[0m\u001b[0;34m\u001b[0m\u001b[0;34m\u001b[0m\u001b[0m\n",
      "\u001b[0;32m/work/.cache/poetry/thc-net-KQLMmzPP-py3.7/lib/python3.7/site-packages/tensorflow/python/keras/engine/training.py\u001b[0m in \u001b[0;36mfit\u001b[0;34m(self, x, y, batch_size, epochs, verbose, callbacks, validation_split, validation_data, shuffle, class_weight, sample_weight, initial_epoch, steps_per_epoch, validation_steps, validation_batch_size, validation_freq, max_queue_size, workers, use_multiprocessing)\u001b[0m\n\u001b[1;32m    846\u001b[0m                 batch_size=batch_size):\n\u001b[1;32m    847\u001b[0m               \u001b[0mcallbacks\u001b[0m\u001b[0;34m.\u001b[0m\u001b[0mon_train_batch_begin\u001b[0m\u001b[0;34m(\u001b[0m\u001b[0mstep\u001b[0m\u001b[0;34m)\u001b[0m\u001b[0;34m\u001b[0m\u001b[0;34m\u001b[0m\u001b[0m\n\u001b[0;32m--> 848\u001b[0;31m               \u001b[0mtmp_logs\u001b[0m \u001b[0;34m=\u001b[0m \u001b[0mtrain_function\u001b[0m\u001b[0;34m(\u001b[0m\u001b[0miterator\u001b[0m\u001b[0;34m)\u001b[0m\u001b[0;34m\u001b[0m\u001b[0;34m\u001b[0m\u001b[0m\n\u001b[0m\u001b[1;32m    849\u001b[0m               \u001b[0;31m# Catch OutOfRangeError for Datasets of unknown size.\u001b[0m\u001b[0;34m\u001b[0m\u001b[0;34m\u001b[0m\u001b[0;34m\u001b[0m\u001b[0m\n\u001b[1;32m    850\u001b[0m               \u001b[0;31m# This blocks until the batch has finished executing.\u001b[0m\u001b[0;34m\u001b[0m\u001b[0;34m\u001b[0m\u001b[0;34m\u001b[0m\u001b[0m\n",
      "\u001b[0;32m/work/.cache/poetry/thc-net-KQLMmzPP-py3.7/lib/python3.7/site-packages/tensorflow/python/eager/def_function.py\u001b[0m in \u001b[0;36m__call__\u001b[0;34m(self, *args, **kwds)\u001b[0m\n\u001b[1;32m    578\u001b[0m         \u001b[0mxla_context\u001b[0m\u001b[0;34m.\u001b[0m\u001b[0mExit\u001b[0m\u001b[0;34m(\u001b[0m\u001b[0;34m)\u001b[0m\u001b[0;34m\u001b[0m\u001b[0;34m\u001b[0m\u001b[0m\n\u001b[1;32m    579\u001b[0m     \u001b[0;32melse\u001b[0m\u001b[0;34m:\u001b[0m\u001b[0;34m\u001b[0m\u001b[0;34m\u001b[0m\u001b[0m\n\u001b[0;32m--> 580\u001b[0;31m       \u001b[0mresult\u001b[0m \u001b[0;34m=\u001b[0m \u001b[0mself\u001b[0m\u001b[0;34m.\u001b[0m\u001b[0m_call\u001b[0m\u001b[0;34m(\u001b[0m\u001b[0;34m*\u001b[0m\u001b[0margs\u001b[0m\u001b[0;34m,\u001b[0m \u001b[0;34m**\u001b[0m\u001b[0mkwds\u001b[0m\u001b[0;34m)\u001b[0m\u001b[0;34m\u001b[0m\u001b[0;34m\u001b[0m\u001b[0m\n\u001b[0m\u001b[1;32m    581\u001b[0m \u001b[0;34m\u001b[0m\u001b[0m\n\u001b[1;32m    582\u001b[0m     \u001b[0;32mif\u001b[0m \u001b[0mtracing_count\u001b[0m \u001b[0;34m==\u001b[0m \u001b[0mself\u001b[0m\u001b[0;34m.\u001b[0m\u001b[0m_get_tracing_count\u001b[0m\u001b[0;34m(\u001b[0m\u001b[0;34m)\u001b[0m\u001b[0;34m:\u001b[0m\u001b[0;34m\u001b[0m\u001b[0;34m\u001b[0m\u001b[0m\n",
      "\u001b[0;32m/work/.cache/poetry/thc-net-KQLMmzPP-py3.7/lib/python3.7/site-packages/tensorflow/python/eager/def_function.py\u001b[0m in \u001b[0;36m_call\u001b[0;34m(self, *args, **kwds)\u001b[0m\n\u001b[1;32m    609\u001b[0m       \u001b[0;31m# In this case we have created variables on the first call, so we run the\u001b[0m\u001b[0;34m\u001b[0m\u001b[0;34m\u001b[0m\u001b[0;34m\u001b[0m\u001b[0m\n\u001b[1;32m    610\u001b[0m       \u001b[0;31m# defunned version which is guaranteed to never create variables.\u001b[0m\u001b[0;34m\u001b[0m\u001b[0;34m\u001b[0m\u001b[0;34m\u001b[0m\u001b[0m\n\u001b[0;32m--> 611\u001b[0;31m       \u001b[0;32mreturn\u001b[0m \u001b[0mself\u001b[0m\u001b[0;34m.\u001b[0m\u001b[0m_stateless_fn\u001b[0m\u001b[0;34m(\u001b[0m\u001b[0;34m*\u001b[0m\u001b[0margs\u001b[0m\u001b[0;34m,\u001b[0m \u001b[0;34m**\u001b[0m\u001b[0mkwds\u001b[0m\u001b[0;34m)\u001b[0m  \u001b[0;31m# pylint: disable=not-callable\u001b[0m\u001b[0;34m\u001b[0m\u001b[0;34m\u001b[0m\u001b[0m\n\u001b[0m\u001b[1;32m    612\u001b[0m     \u001b[0;32melif\u001b[0m \u001b[0mself\u001b[0m\u001b[0;34m.\u001b[0m\u001b[0m_stateful_fn\u001b[0m \u001b[0;32mis\u001b[0m \u001b[0;32mnot\u001b[0m \u001b[0;32mNone\u001b[0m\u001b[0;34m:\u001b[0m\u001b[0;34m\u001b[0m\u001b[0;34m\u001b[0m\u001b[0m\n\u001b[1;32m    613\u001b[0m       \u001b[0;31m# Release the lock early so that multiple threads can perform the call\u001b[0m\u001b[0;34m\u001b[0m\u001b[0;34m\u001b[0m\u001b[0;34m\u001b[0m\u001b[0m\n",
      "\u001b[0;32m/work/.cache/poetry/thc-net-KQLMmzPP-py3.7/lib/python3.7/site-packages/tensorflow/python/eager/function.py\u001b[0m in \u001b[0;36m__call__\u001b[0;34m(self, *args, **kwargs)\u001b[0m\n\u001b[1;32m   2418\u001b[0m     \u001b[0;32mwith\u001b[0m \u001b[0mself\u001b[0m\u001b[0;34m.\u001b[0m\u001b[0m_lock\u001b[0m\u001b[0;34m:\u001b[0m\u001b[0;34m\u001b[0m\u001b[0;34m\u001b[0m\u001b[0m\n\u001b[1;32m   2419\u001b[0m       \u001b[0mgraph_function\u001b[0m\u001b[0;34m,\u001b[0m \u001b[0margs\u001b[0m\u001b[0;34m,\u001b[0m \u001b[0mkwargs\u001b[0m \u001b[0;34m=\u001b[0m \u001b[0mself\u001b[0m\u001b[0;34m.\u001b[0m\u001b[0m_maybe_define_function\u001b[0m\u001b[0;34m(\u001b[0m\u001b[0margs\u001b[0m\u001b[0;34m,\u001b[0m \u001b[0mkwargs\u001b[0m\u001b[0;34m)\u001b[0m\u001b[0;34m\u001b[0m\u001b[0;34m\u001b[0m\u001b[0m\n\u001b[0;32m-> 2420\u001b[0;31m     \u001b[0;32mreturn\u001b[0m \u001b[0mgraph_function\u001b[0m\u001b[0;34m.\u001b[0m\u001b[0m_filtered_call\u001b[0m\u001b[0;34m(\u001b[0m\u001b[0margs\u001b[0m\u001b[0;34m,\u001b[0m \u001b[0mkwargs\u001b[0m\u001b[0;34m)\u001b[0m  \u001b[0;31m# pylint: disable=protected-access\u001b[0m\u001b[0;34m\u001b[0m\u001b[0;34m\u001b[0m\u001b[0m\n\u001b[0m\u001b[1;32m   2421\u001b[0m \u001b[0;34m\u001b[0m\u001b[0m\n\u001b[1;32m   2422\u001b[0m   \u001b[0;34m@\u001b[0m\u001b[0mproperty\u001b[0m\u001b[0;34m\u001b[0m\u001b[0;34m\u001b[0m\u001b[0m\n",
      "\u001b[0;32m/work/.cache/poetry/thc-net-KQLMmzPP-py3.7/lib/python3.7/site-packages/tensorflow/python/eager/function.py\u001b[0m in \u001b[0;36m_filtered_call\u001b[0;34m(self, args, kwargs)\u001b[0m\n\u001b[1;32m   1663\u001b[0m          if isinstance(t, (ops.Tensor,\n\u001b[1;32m   1664\u001b[0m                            resource_variable_ops.BaseResourceVariable))),\n\u001b[0;32m-> 1665\u001b[0;31m         self.captured_inputs)\n\u001b[0m\u001b[1;32m   1666\u001b[0m \u001b[0;34m\u001b[0m\u001b[0m\n\u001b[1;32m   1667\u001b[0m   \u001b[0;32mdef\u001b[0m \u001b[0m_call_flat\u001b[0m\u001b[0;34m(\u001b[0m\u001b[0mself\u001b[0m\u001b[0;34m,\u001b[0m \u001b[0margs\u001b[0m\u001b[0;34m,\u001b[0m \u001b[0mcaptured_inputs\u001b[0m\u001b[0;34m,\u001b[0m \u001b[0mcancellation_manager\u001b[0m\u001b[0;34m=\u001b[0m\u001b[0;32mNone\u001b[0m\u001b[0;34m)\u001b[0m\u001b[0;34m:\u001b[0m\u001b[0;34m\u001b[0m\u001b[0;34m\u001b[0m\u001b[0m\n",
      "\u001b[0;32m/work/.cache/poetry/thc-net-KQLMmzPP-py3.7/lib/python3.7/site-packages/tensorflow/python/eager/function.py\u001b[0m in \u001b[0;36m_call_flat\u001b[0;34m(self, args, captured_inputs, cancellation_manager)\u001b[0m\n\u001b[1;32m   1744\u001b[0m       \u001b[0;31m# No tape is watching; skip to running the function.\u001b[0m\u001b[0;34m\u001b[0m\u001b[0;34m\u001b[0m\u001b[0;34m\u001b[0m\u001b[0m\n\u001b[1;32m   1745\u001b[0m       return self._build_call_outputs(self._inference_function.call(\n\u001b[0;32m-> 1746\u001b[0;31m           ctx, args, cancellation_manager=cancellation_manager))\n\u001b[0m\u001b[1;32m   1747\u001b[0m     forward_backward = self._select_forward_and_backward_functions(\n\u001b[1;32m   1748\u001b[0m         \u001b[0margs\u001b[0m\u001b[0;34m,\u001b[0m\u001b[0;34m\u001b[0m\u001b[0;34m\u001b[0m\u001b[0m\n",
      "\u001b[0;32m/work/.cache/poetry/thc-net-KQLMmzPP-py3.7/lib/python3.7/site-packages/tensorflow/python/eager/function.py\u001b[0m in \u001b[0;36mcall\u001b[0;34m(self, ctx, args, cancellation_manager)\u001b[0m\n\u001b[1;32m    596\u001b[0m               \u001b[0minputs\u001b[0m\u001b[0;34m=\u001b[0m\u001b[0margs\u001b[0m\u001b[0;34m,\u001b[0m\u001b[0;34m\u001b[0m\u001b[0;34m\u001b[0m\u001b[0m\n\u001b[1;32m    597\u001b[0m               \u001b[0mattrs\u001b[0m\u001b[0;34m=\u001b[0m\u001b[0mattrs\u001b[0m\u001b[0;34m,\u001b[0m\u001b[0;34m\u001b[0m\u001b[0;34m\u001b[0m\u001b[0m\n\u001b[0;32m--> 598\u001b[0;31m               ctx=ctx)\n\u001b[0m\u001b[1;32m    599\u001b[0m         \u001b[0;32melse\u001b[0m\u001b[0;34m:\u001b[0m\u001b[0;34m\u001b[0m\u001b[0;34m\u001b[0m\u001b[0m\n\u001b[1;32m    600\u001b[0m           outputs = execute.execute_with_cancellation(\n",
      "\u001b[0;32m/work/.cache/poetry/thc-net-KQLMmzPP-py3.7/lib/python3.7/site-packages/tensorflow/python/eager/execute.py\u001b[0m in \u001b[0;36mquick_execute\u001b[0;34m(op_name, num_outputs, inputs, attrs, ctx, name)\u001b[0m\n\u001b[1;32m     58\u001b[0m     \u001b[0mctx\u001b[0m\u001b[0;34m.\u001b[0m\u001b[0mensure_initialized\u001b[0m\u001b[0;34m(\u001b[0m\u001b[0;34m)\u001b[0m\u001b[0;34m\u001b[0m\u001b[0;34m\u001b[0m\u001b[0m\n\u001b[1;32m     59\u001b[0m     tensors = pywrap_tfe.TFE_Py_Execute(ctx._handle, device_name, op_name,\n\u001b[0;32m---> 60\u001b[0;31m                                         inputs, attrs, num_outputs)\n\u001b[0m\u001b[1;32m     61\u001b[0m   \u001b[0;32mexcept\u001b[0m \u001b[0mcore\u001b[0m\u001b[0;34m.\u001b[0m\u001b[0m_NotOkStatusException\u001b[0m \u001b[0;32mas\u001b[0m \u001b[0me\u001b[0m\u001b[0;34m:\u001b[0m\u001b[0;34m\u001b[0m\u001b[0;34m\u001b[0m\u001b[0m\n\u001b[1;32m     62\u001b[0m     \u001b[0;32mif\u001b[0m \u001b[0mname\u001b[0m \u001b[0;32mis\u001b[0m \u001b[0;32mnot\u001b[0m \u001b[0;32mNone\u001b[0m\u001b[0;34m:\u001b[0m\u001b[0;34m\u001b[0m\u001b[0;34m\u001b[0m\u001b[0m\n",
      "\u001b[0;31mKeyboardInterrupt\u001b[0m: "
     ]
    },
    {
     "data": {
      "application/javascript": [
       "\n",
       "            setTimeout(function() {\n",
       "                var nbb_cell_id = 43;\n",
       "                var nbb_unformatted_code = \"%%time\\nhistory = model.fit(\\n    tuple(input_model),\\n    y_train.reshape(-1, 1),\\n    epochs=2000,\\n    batch_size=1024,\\n    validation_data=(tuple(input_valid), y_valid.reshape(-1, 1),),\\n    verbose=1,\\n    callbacks=[EarlyStopping(monitor=\\\"val_loss\\\", patience=50, verbose=1)],\\n)\";\n",
       "                var nbb_formatted_code = \"%%time\\nhistory = model.fit(\\n    tuple(input_model),\\n    y_train.reshape(-1, 1),\\n    epochs=2000,\\n    batch_size=1024,\\n    validation_data=(tuple(input_valid), y_valid.reshape(-1, 1),),\\n    verbose=1,\\n    callbacks=[EarlyStopping(monitor=\\\"val_loss\\\", patience=50, verbose=1)],\\n)\";\n",
       "                var nbb_cells = Jupyter.notebook.get_cells();\n",
       "                for (var i = 0; i < nbb_cells.length; ++i) {\n",
       "                    if (nbb_cells[i].input_prompt_number == nbb_cell_id) {\n",
       "                        if (nbb_cells[i].get_text() == nbb_unformatted_code) {\n",
       "                             nbb_cells[i].set_text(nbb_formatted_code);\n",
       "                        }\n",
       "                        break;\n",
       "                    }\n",
       "                }\n",
       "            }, 500);\n",
       "            "
      ],
      "text/plain": [
       "<IPython.core.display.Javascript object>"
      ]
     },
     "metadata": {},
     "output_type": "display_data"
    }
   ],
   "source": [
    "%%time\n",
    "history = model.fit(\n",
    "    tuple(input_model),\n",
    "    y_train.reshape(-1, 1),\n",
    "    epochs=2000,\n",
    "    batch_size=1024,\n",
    "    validation_data=(tuple(input_valid), y_valid.reshape(-1, 1),),\n",
    "    verbose=1,\n",
    "    callbacks=[EarlyStopping(monitor=\"val_loss\", patience=50, verbose=1)],\n",
    ")"
   ]
  },
  {
   "cell_type": "code",
   "execution_count": 44,
   "metadata": {
    "ExecuteTime": {
     "end_time": "2020-05-25T21:00:07.719810Z",
     "start_time": "2020-05-25T20:59:43.864Z"
    }
   },
   "outputs": [
    {
     "ename": "NameError",
     "evalue": "name 'history' is not defined",
     "output_type": "error",
     "traceback": [
      "\u001b[0;31m---------------------------------------------------------------------------\u001b[0m",
      "\u001b[0;31mNameError\u001b[0m                                 Traceback (most recent call last)",
      "\u001b[0;32m<ipython-input-44-a8489d1127d4>\u001b[0m in \u001b[0;36m<module>\u001b[0;34m\u001b[0m\n\u001b[0;32m----> 1\u001b[0;31m \u001b[0mplot_history\u001b[0m\u001b[0;34m(\u001b[0m\u001b[0mhistory\u001b[0m\u001b[0;34m)\u001b[0m\u001b[0;34m\u001b[0m\u001b[0;34m\u001b[0m\u001b[0m\n\u001b[0m",
      "\u001b[0;31mNameError\u001b[0m: name 'history' is not defined"
     ]
    },
    {
     "data": {
      "application/javascript": [
       "\n",
       "            setTimeout(function() {\n",
       "                var nbb_cell_id = 44;\n",
       "                var nbb_unformatted_code = \"plot_history(history)\";\n",
       "                var nbb_formatted_code = \"plot_history(history)\";\n",
       "                var nbb_cells = Jupyter.notebook.get_cells();\n",
       "                for (var i = 0; i < nbb_cells.length; ++i) {\n",
       "                    if (nbb_cells[i].input_prompt_number == nbb_cell_id) {\n",
       "                        if (nbb_cells[i].get_text() == nbb_unformatted_code) {\n",
       "                             nbb_cells[i].set_text(nbb_formatted_code);\n",
       "                        }\n",
       "                        break;\n",
       "                    }\n",
       "                }\n",
       "            }, 500);\n",
       "            "
      ],
      "text/plain": [
       "<IPython.core.display.Javascript object>"
      ]
     },
     "metadata": {},
     "output_type": "display_data"
    }
   ],
   "source": [
    "plot_history(history)"
   ]
  },
  {
   "cell_type": "code",
   "execution_count": null,
   "metadata": {
    "ExecuteTime": {
     "end_time": "2020-05-25T21:00:07.720685Z",
     "start_time": "2020-05-25T20:59:43.865Z"
    }
   },
   "outputs": [],
   "source": [
    "model_auc = roc_auc_score(\n",
    "    y_true=y_valid, y_score=model.predict(input_valid).reshape(-1),\n",
    ")\n",
    "model_auc"
   ]
  },
  {
   "cell_type": "code",
   "execution_count": null,
   "metadata": {
    "ExecuteTime": {
     "end_time": "2020-05-25T21:00:07.722364Z",
     "start_time": "2020-05-25T20:59:43.867Z"
    }
   },
   "outputs": [],
   "source": [
    "model_auc = roc_auc_score(y_true=y_test, y_score=model.predict(input_test).reshape(-1),)\n",
    "model_auc"
   ]
  },
  {
   "cell_type": "code",
   "execution_count": null,
   "metadata": {},
   "outputs": [],
   "source": [
    "# NEW VERSION\n",
    "# Bank marketing\n",
    "# valid 0.7974101623084582 test 0.8133980360868731     conv_dim=[],    lconv_dim=[128, 64, 32],    lconv_num_dim=[64, 32, 16], patience 20"
   ]
  },
  {
   "cell_type": "code",
   "execution_count": null,
   "metadata": {},
   "outputs": [],
   "source": [
    "# Census example\n",
    "# valid 0.9282381974389771 test 0.9262939626480025 conv_dim=[64], lconv_dim=[128, 64, 32] patience 50\n",
    "\n",
    "# RL\n",
    "# valid 0.9363136991351992 test 0.9431532242454923 conv_dim=[64], lconv_dim=[128, 64, 32] patience 50\n",
    "\n",
    "# Open payments\n",
    "# valid 0.9395366568006073 test 0.9370193221838594 conv_dim=[64], lconv_dim=[128, 64, 32] patience 50\n",
    "\n",
    "# give-me-some-credit\n",
    "# valid  test  conv_dim=[64], lconv_dim=[128, 64, 32] patience 50"
   ]
  },
  {
   "cell_type": "code",
   "execution_count": null,
   "metadata": {},
   "outputs": [],
   "source": [
    "SAMPLE_NB = 1000"
   ]
  },
  {
   "cell_type": "code",
   "execution_count": null,
   "metadata": {},
   "outputs": [],
   "source": [
    "sample = X_valid_preproc[:SAMPLE_NB]\n",
    "bool_sample = X_bool_valid[:SAMPLE_NB]\n",
    "num_sample = X_num_valid[:SAMPLE_NB]"
   ]
  },
  {
   "cell_type": "code",
   "execution_count": null,
   "metadata": {},
   "outputs": [],
   "source": [
    "model_pred = model.predict((bool_sample, num_sample, sample))\n",
    "model_pred.shape"
   ]
  },
  {
   "cell_type": "code",
   "execution_count": null,
   "metadata": {},
   "outputs": [],
   "source": [
    "model.layers[-6].output"
   ]
  },
  {
   "cell_type": "code",
   "execution_count": null,
   "metadata": {},
   "outputs": [],
   "source": [
    "model.layers[-7].output"
   ]
  },
  {
   "cell_type": "code",
   "execution_count": null,
   "metadata": {},
   "outputs": [],
   "source": [
    "new_model = Model(\n",
    "    inputs=[model.inputs],\n",
    "    outputs=[model.output, model.layers[-6].output, model.layers[-7].output],\n",
    ")"
   ]
  },
  {
   "cell_type": "code",
   "execution_count": null,
   "metadata": {},
   "outputs": [],
   "source": [
    "new_model_pred, feature_cat_inter, feature_num_inter = new_model.predict(\n",
    "    (bool_sample, num_sample, sample)\n",
    ")"
   ]
  },
  {
   "cell_type": "code",
   "execution_count": null,
   "metadata": {},
   "outputs": [],
   "source": [
    "assert np.all(model_pred == new_model_pred)"
   ]
  },
  {
   "cell_type": "code",
   "execution_count": null,
   "metadata": {},
   "outputs": [],
   "source": [
    "feature_cat_inter.shape"
   ]
  },
  {
   "cell_type": "code",
   "execution_count": null,
   "metadata": {},
   "outputs": [],
   "source": [
    "feature_num_inter.shape"
   ]
  },
  {
   "cell_type": "code",
   "execution_count": null,
   "metadata": {},
   "outputs": [],
   "source": [
    "sample.shape"
   ]
  },
  {
   "cell_type": "code",
   "execution_count": null,
   "metadata": {},
   "outputs": [],
   "source": [
    "feature_inter.shape"
   ]
  },
  {
   "cell_type": "code",
   "execution_count": null,
   "metadata": {},
   "outputs": [],
   "source": [
    "num_sample_zero = np.zeros(num_sample.shape)\n",
    "bool_sample_zero = np.zeros(bool_sample.shape)\n",
    "\n",
    "for idx in range(sample.shape[1]):\n",
    "    real_idx = bool_sample.shape[1] + num_sample.shape[1] + idx\n",
    "    sample_one_col = np.zeros(sample.shape)\n",
    "\n",
    "    sample_one_col[:, idx] = sample[:, idx]\n",
    "    _, feature_inter_one_col, _ = new_model.predict(\n",
    "        (bool_sample_zero, num_sample_zero, sample_one_col)\n",
    "    )\n",
    "    #     for elt in range(feature_inter_one_col.shape[2]):\n",
    "    #         print(elt)\n",
    "    #         print(feature_inter_one_col[:, idx, :][elt])\n",
    "    #         print(feature_cat_inter[:, idx, :][elt])\n",
    "    #     print(np.sum(feature_inter_one_col[:, idx, :] - feature_cat_inter[:, idx, :]))\n",
    "    assert np.all(feature_inter_one_col[:, idx, :] == feature_cat_inter[:, idx, :])\n",
    "#     assert np.sum(feature_inter_one_col - feature_cat_inter) > 1"
   ]
  },
  {
   "cell_type": "code",
   "execution_count": null,
   "metadata": {},
   "outputs": [],
   "source": [
    "idx = 0\n",
    "real_idx = bool_sample.shape[1] + num_sample.shape[1] + idx\n",
    "sample_one_col = np.zeros(sample.shape)\n",
    "\n",
    "sample_one_col[:, idx] = sample[:, idx]\n",
    "_, feature_inter_one_col, _ = new_model.predict(\n",
    "    (bool_sample_zero, num_sample_zero, sample_one_col)\n",
    ")\n",
    "assert np.all(feature_inter_one_col[:, idx, :] == feature_cat_inter[:, idx, :])"
   ]
  },
  {
   "cell_type": "code",
   "execution_count": null,
   "metadata": {},
   "outputs": [],
   "source": [
    "feature_inter_one_col[:, 0, :].shape"
   ]
  },
  {
   "cell_type": "code",
   "execution_count": null,
   "metadata": {},
   "outputs": [],
   "source": [
    "new_model.layers[-1]"
   ]
  },
  {
   "cell_type": "code",
   "execution_count": null,
   "metadata": {},
   "outputs": [],
   "source": [
    "model.get_weights()[-2].shape"
   ]
  },
  {
   "cell_type": "code",
   "execution_count": null,
   "metadata": {},
   "outputs": [],
   "source": [
    "model.layers[-2].output"
   ]
  },
  {
   "cell_type": "code",
   "execution_count": null,
   "metadata": {},
   "outputs": [],
   "source": [
    "new_model = Model(inputs=[model.input], outputs=[model.layers[-2].output])"
   ]
  },
  {
   "cell_type": "code",
   "execution_count": null,
   "metadata": {},
   "outputs": [],
   "source": [
    "%%time\n",
    "new_train_logistic = new_model.predict((X_bool_train, X_num_train, X_train_preproc))\n",
    "new_valid_logistic = new_model.predict((X_bool_valid, X_num_valid, X_valid_preproc))\n",
    "new_test_logistic = new_model.predict((X_bool_test, X_num_test, X_test_preproc))"
   ]
  },
  {
   "cell_type": "code",
   "execution_count": null,
   "metadata": {},
   "outputs": [],
   "source": [
    "from sklearn.linear_model import LogisticRegression, LogisticRegressionCV"
   ]
  },
  {
   "cell_type": "code",
   "execution_count": null,
   "metadata": {},
   "outputs": [],
   "source": [
    "lreg = LogisticRegression(max_iter=300, n_jobs=-1)"
   ]
  },
  {
   "cell_type": "code",
   "execution_count": null,
   "metadata": {},
   "outputs": [],
   "source": [
    "%%time\n",
    "lreg.fit(new_train_logistic, y_train.reshape(-1))"
   ]
  },
  {
   "cell_type": "code",
   "execution_count": null,
   "metadata": {},
   "outputs": [],
   "source": [
    "roc_auc_score(\n",
    "    y_true=y_valid, y_score=lreg.predict_proba(new_valid_logistic)[:, 1],\n",
    ")"
   ]
  },
  {
   "cell_type": "code",
   "execution_count": null,
   "metadata": {},
   "outputs": [],
   "source": [
    "roc_auc_score(\n",
    "    y_true=y_test, y_score=lreg.predict_proba(new_test_logistic)[:, 1],\n",
    ")"
   ]
  },
  {
   "cell_type": "code",
   "execution_count": null,
   "metadata": {},
   "outputs": [],
   "source": [
    "lreg_cv = LogisticRegressionCV(Cs=10, max_iter=300, n_jobs=-1, cv=5, random_state=0)"
   ]
  },
  {
   "cell_type": "code",
   "execution_count": null,
   "metadata": {},
   "outputs": [],
   "source": [
    "%%time\n",
    "lreg_cv.fit(new_train_logistic, y_train.reshape(-1))"
   ]
  },
  {
   "cell_type": "code",
   "execution_count": null,
   "metadata": {},
   "outputs": [],
   "source": [
    "roc_auc_score(\n",
    "    y_true=y_valid, y_score=lreg_cv.predict_proba(new_valid_logistic)[:, 1],\n",
    ")"
   ]
  },
  {
   "cell_type": "code",
   "execution_count": null,
   "metadata": {},
   "outputs": [],
   "source": [
    "roc_auc_score(\n",
    "    y_true=y_test, y_score=lreg_cv.predict_proba(new_test_logistic)[:, 1],\n",
    ")"
   ]
  }
 ],
 "metadata": {
  "kernelspec": {
   "display_name": "Python 3",
   "language": "python",
   "name": "python3"
  },
  "language_info": {
   "codemirror_mode": {
    "name": "ipython",
    "version": 3
   },
   "file_extension": ".py",
   "mimetype": "text/x-python",
   "name": "python",
   "nbconvert_exporter": "python",
   "pygments_lexer": "ipython3",
   "version": "3.7.7"
  }
 },
 "nbformat": 4,
 "nbformat_minor": 4
}
