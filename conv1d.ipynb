{
 "cells": [
  {
   "cell_type": "code",
   "execution_count": 1,
   "metadata": {
    "ExecuteTime": {
     "end_time": "2020-05-25T20:59:43.941660Z",
     "start_time": "2020-05-25T20:59:43.833639Z"
    }
   },
   "outputs": [
    {
     "data": {
      "application/javascript": [
       "\n",
       "            setTimeout(function() {\n",
       "                var nbb_cell_id = 1;\n",
       "                var nbb_unformatted_code = \"%load_ext nb_black\";\n",
       "                var nbb_formatted_code = \"%load_ext nb_black\";\n",
       "                var nbb_cells = Jupyter.notebook.get_cells();\n",
       "                for (var i = 0; i < nbb_cells.length; ++i) {\n",
       "                    if (nbb_cells[i].input_prompt_number == nbb_cell_id) {\n",
       "                        if (nbb_cells[i].get_text() == nbb_unformatted_code) {\n",
       "                             nbb_cells[i].set_text(nbb_formatted_code);\n",
       "                        }\n",
       "                        break;\n",
       "                    }\n",
       "                }\n",
       "            }, 500);\n",
       "            "
      ],
      "text/plain": [
       "<IPython.core.display.Javascript object>"
      ]
     },
     "metadata": {},
     "output_type": "display_data"
    }
   ],
   "source": [
    "%load_ext nb_black"
   ]
  },
  {
   "cell_type": "code",
   "execution_count": 2,
   "metadata": {
    "ExecuteTime": {
     "end_time": "2020-05-25T20:59:44.433824Z",
     "start_time": "2020-05-25T20:59:43.943368Z"
    }
   },
   "outputs": [
    {
     "data": {
      "application/javascript": [
       "\n",
       "            setTimeout(function() {\n",
       "                var nbb_cell_id = 2;\n",
       "                var nbb_unformatted_code = \"import os\\nfrom pathlib import Path\\n\\nfrom requests import get\\nimport pandas as pd\\nimport numpy as np\\n\\nnp.random.seed(0)\\n\\nfrom sklearn.preprocessing import LabelEncoder\\nfrom sklearn.metrics import roc_auc_score\\n\\nimport logging\\n\\nlogging.basicConfig(level=logging.WARN)\";\n",
       "                var nbb_formatted_code = \"import os\\nfrom pathlib import Path\\n\\nfrom requests import get\\nimport pandas as pd\\nimport numpy as np\\n\\nnp.random.seed(0)\\n\\nfrom sklearn.preprocessing import LabelEncoder\\nfrom sklearn.metrics import roc_auc_score\\n\\nimport logging\\n\\nlogging.basicConfig(level=logging.WARN)\";\n",
       "                var nbb_cells = Jupyter.notebook.get_cells();\n",
       "                for (var i = 0; i < nbb_cells.length; ++i) {\n",
       "                    if (nbb_cells[i].input_prompt_number == nbb_cell_id) {\n",
       "                        if (nbb_cells[i].get_text() == nbb_unformatted_code) {\n",
       "                             nbb_cells[i].set_text(nbb_formatted_code);\n",
       "                        }\n",
       "                        break;\n",
       "                    }\n",
       "                }\n",
       "            }, 500);\n",
       "            "
      ],
      "text/plain": [
       "<IPython.core.display.Javascript object>"
      ]
     },
     "metadata": {},
     "output_type": "display_data"
    }
   ],
   "source": [
    "import os\n",
    "from pathlib import Path\n",
    "\n",
    "from requests import get\n",
    "import pandas as pd\n",
    "import numpy as np\n",
    "\n",
    "    np.random.seed(0)\n",
    "\n",
    "from sklearn.preprocessing import LabelEncoder\n",
    "from sklearn.metrics import roc_auc_score\n",
    "\n",
    "import logging\n",
    "\n",
    "logging.basicConfig(level=logging.WARN)\n"
   ]
  },
  {
   "cell_type": "code",
   "execution_count": 3,
   "metadata": {
    "ExecuteTime": {
     "end_time": "2020-05-25T20:59:45.767278Z",
     "start_time": "2020-05-25T20:59:44.435849Z"
    }
   },
   "outputs": [
    {
     "data": {
      "application/javascript": [
       "\n",
       "            setTimeout(function() {\n",
       "                var nbb_cell_id = 3;\n",
       "                var nbb_unformatted_code = \"from tensorflow.keras import Model, Input\\nfrom tensorflow.keras.layers import (\\n    Conv1D,\\n    SpatialDropout1D,\\n    LocallyConnected1D,\\n    Dense,\\n    Reshape,\\n    MaxPooling1D,\\n    BatchNormalization,\\n    Activation,\\n    LayerNormalization,\\n)\\n\\nfrom tensorflow.keras.callbacks import EarlyStopping\\nfrom tensorflow.keras.utils import to_categorical\\n\\nfrom tensorflow_addons.activations import mish\\nfrom tensorflow_addons.optimizers import RectifiedAdam, Lookahead\\nfrom tensorflow_addons.layers import WeightNormalization\\n\\nfrom sklearn.model_selection import train_test_split, StratifiedShuffleSplit\\nfrom sklearn.metrics import roc_auc_score\\nfrom sklearn.preprocessing import LabelEncoder\\n\\n\\nfrom itertools import repeat\\nfrom concurrent.futures import ProcessPoolExecutor as PoolExecutor\\n\\nimport matplotlib.pyplot as plt\\nfrom matplotlib.pyplot import imshow\\n\\n%matplotlib inline\";\n",
       "                var nbb_formatted_code = \"from tensorflow.keras import Model, Input\\nfrom tensorflow.keras.layers import (\\n    Conv1D,\\n    SpatialDropout1D,\\n    LocallyConnected1D,\\n    Dense,\\n    Reshape,\\n    MaxPooling1D,\\n    BatchNormalization,\\n    Activation,\\n    LayerNormalization,\\n)\\n\\nfrom tensorflow.keras.callbacks import EarlyStopping\\nfrom tensorflow.keras.utils import to_categorical\\n\\nfrom tensorflow_addons.activations import mish\\nfrom tensorflow_addons.optimizers import RectifiedAdam, Lookahead\\nfrom tensorflow_addons.layers import WeightNormalization\\n\\nfrom sklearn.model_selection import train_test_split, StratifiedShuffleSplit\\nfrom sklearn.metrics import roc_auc_score\\nfrom sklearn.preprocessing import LabelEncoder\\n\\n\\nfrom itertools import repeat\\nfrom concurrent.futures import ProcessPoolExecutor as PoolExecutor\\n\\nimport matplotlib.pyplot as plt\\nfrom matplotlib.pyplot import imshow\\n\\n%matplotlib inline\";\n",
       "                var nbb_cells = Jupyter.notebook.get_cells();\n",
       "                for (var i = 0; i < nbb_cells.length; ++i) {\n",
       "                    if (nbb_cells[i].input_prompt_number == nbb_cell_id) {\n",
       "                        if (nbb_cells[i].get_text() == nbb_unformatted_code) {\n",
       "                             nbb_cells[i].set_text(nbb_formatted_code);\n",
       "                        }\n",
       "                        break;\n",
       "                    }\n",
       "                }\n",
       "            }, 500);\n",
       "            "
      ],
      "text/plain": [
       "<IPython.core.display.Javascript object>"
      ]
     },
     "metadata": {},
     "output_type": "display_data"
    }
   ],
   "source": [
    "from tensorflow.keras import Model, Input\n",
    "from tensorflow.keras.layers import (\n",
    "    Conv1D,\n",
    "    SpatialDropout1D,\n",
    "    LocallyConnected1D,\n",
    "    Dense,\n",
    "    Reshape,\n",
    "    MaxPooling1D,\n",
    "    BatchNormalization,\n",
    "    Activation,\n",
    "    LayerNormalization,\n",
    ")\n",
    "\n",
    "from tensorflow.keras.callbacks import EarlyStopping\n",
    "from tensorflow.keras.utils import to_categorical\n",
    "\n",
    "from tensorflow_addons.activations import mish\n",
    "from tensorflow_addons.optimizers import RectifiedAdam, Lookahead\n",
    "from tensorflow_addons.layers import WeightNormalization\n",
    "\n",
    "from sklearn.model_selection import train_test_split, StratifiedShuffleSplit\n",
    "from sklearn.metrics import roc_auc_score\n",
    "from sklearn.preprocessing import LabelEncoder\n",
    "\n",
    "\n",
    "from itertools import repeat\n",
    "from concurrent.futures import ProcessPoolExecutor as PoolExecutor\n",
    "\n",
    "import matplotlib.pyplot as plt\n",
    "from matplotlib.pyplot import imshow\n",
    "\n",
    "%matplotlib inline\n"
   ]
  },
  {
   "cell_type": "code",
   "execution_count": 4,
   "metadata": {},
   "outputs": [
    {
     "data": {
      "application/javascript": [
       "\n",
       "            setTimeout(function() {\n",
       "                var nbb_cell_id = 4;\n",
       "                var nbb_unformatted_code = \"import tensorflow_addons as tfa\\n\\ntfa.options.TF_ADDONS_PY_OPS = True\";\n",
       "                var nbb_formatted_code = \"import tensorflow_addons as tfa\\n\\ntfa.options.TF_ADDONS_PY_OPS = True\";\n",
       "                var nbb_cells = Jupyter.notebook.get_cells();\n",
       "                for (var i = 0; i < nbb_cells.length; ++i) {\n",
       "                    if (nbb_cells[i].input_prompt_number == nbb_cell_id) {\n",
       "                        if (nbb_cells[i].get_text() == nbb_unformatted_code) {\n",
       "                             nbb_cells[i].set_text(nbb_formatted_code);\n",
       "                        }\n",
       "                        break;\n",
       "                    }\n",
       "                }\n",
       "            }, 500);\n",
       "            "
      ],
      "text/plain": [
       "<IPython.core.display.Javascript object>"
      ]
     },
     "metadata": {},
     "output_type": "display_data"
    }
   ],
   "source": [
    "import tensorflow_addons as tfa\n",
    "\n",
    "tfa.options.TF_ADDONS_PY_OPS = True"
   ]
  },
  {
   "cell_type": "code",
   "execution_count": 5,
   "metadata": {
    "ExecuteTime": {
     "end_time": "2020-05-25T20:59:45.781039Z",
     "start_time": "2020-05-25T20:59:45.769170Z"
    }
   },
   "outputs": [
    {
     "data": {
      "application/javascript": [
       "\n",
       "            setTimeout(function() {\n",
       "                var nbb_cell_id = 5;\n",
       "                var nbb_unformatted_code = \"def word_to_np_array(word, cut_length):\\n    result = np.zeros(cut_length, dtype=\\\"uint8\\\")\\n    for i, letter in enumerate(word[:cut_length]):\\n        result[i] = ord(letter)\\n    return result\";\n",
       "                var nbb_formatted_code = \"def word_to_np_array(word, cut_length):\\n    result = np.zeros(cut_length, dtype=\\\"uint8\\\")\\n    for i, letter in enumerate(word[:cut_length]):\\n        result[i] = ord(letter)\\n    return result\";\n",
       "                var nbb_cells = Jupyter.notebook.get_cells();\n",
       "                for (var i = 0; i < nbb_cells.length; ++i) {\n",
       "                    if (nbb_cells[i].input_prompt_number == nbb_cell_id) {\n",
       "                        if (nbb_cells[i].get_text() == nbb_unformatted_code) {\n",
       "                             nbb_cells[i].set_text(nbb_formatted_code);\n",
       "                        }\n",
       "                        break;\n",
       "                    }\n",
       "                }\n",
       "            }, 500);\n",
       "            "
      ],
      "text/plain": [
       "<IPython.core.display.Javascript object>"
      ]
     },
     "metadata": {},
     "output_type": "display_data"
    }
   ],
   "source": [
    "def word_to_np_array(word, cut_length):\n",
    "    result = np.zeros(cut_length, dtype=\"uint8\")\n",
    "    for i, letter in enumerate(word[:cut_length]):\n",
    "        result[i] = ord(letter)\n",
    "    return result"
   ]
  },
  {
   "cell_type": "code",
   "execution_count": 6,
   "metadata": {
    "ExecuteTime": {
     "end_time": "2020-05-25T20:59:45.893504Z",
     "start_time": "2020-05-25T20:59:45.782485Z"
    }
   },
   "outputs": [
    {
     "data": {
      "application/javascript": [
       "\n",
       "            setTimeout(function() {\n",
       "                var nbb_cell_id = 6;\n",
       "                var nbb_unformatted_code = \"def line_to_img(line, cut_length):\\n    result = np.zeros((line.shape[0], cut_length), dtype=\\\"uint8\\\")\\n    for i in range(line.shape[0]):\\n        result[i] = word_to_np_array(line[i], cut_length)\\n    return result\";\n",
       "                var nbb_formatted_code = \"def line_to_img(line, cut_length):\\n    result = np.zeros((line.shape[0], cut_length), dtype=\\\"uint8\\\")\\n    for i in range(line.shape[0]):\\n        result[i] = word_to_np_array(line[i], cut_length)\\n    return result\";\n",
       "                var nbb_cells = Jupyter.notebook.get_cells();\n",
       "                for (var i = 0; i < nbb_cells.length; ++i) {\n",
       "                    if (nbb_cells[i].input_prompt_number == nbb_cell_id) {\n",
       "                        if (nbb_cells[i].get_text() == nbb_unformatted_code) {\n",
       "                             nbb_cells[i].set_text(nbb_formatted_code);\n",
       "                        }\n",
       "                        break;\n",
       "                    }\n",
       "                }\n",
       "            }, 500);\n",
       "            "
      ],
      "text/plain": [
       "<IPython.core.display.Javascript object>"
      ]
     },
     "metadata": {},
     "output_type": "display_data"
    }
   ],
   "source": [
    "def line_to_img(line, cut_length):\n",
    "    result = np.zeros((line.shape[0], cut_length), dtype=\"uint8\")\n",
    "    for i in range(line.shape[0]):\n",
    "        result[i] = word_to_np_array(line[i], cut_length)\n",
    "    return result"
   ]
  },
  {
   "cell_type": "code",
   "execution_count": 7,
   "metadata": {
    "ExecuteTime": {
     "end_time": "2020-05-25T20:59:46.016629Z",
     "start_time": "2020-05-25T20:59:45.895831Z"
    }
   },
   "outputs": [
    {
     "data": {
      "application/javascript": [
       "\n",
       "            setTimeout(function() {\n",
       "                var nbb_cell_id = 7;\n",
       "                var nbb_unformatted_code = \"def do_parallel_numpy(map_func, iter_params, constant_params=None):\\n    repeated_params = (\\n        [] if constant_params is None else list(map(repeat, constant_params))\\n    )\\n    results = None\\n    with PoolExecutor() as executor:\\n        results = np.stack(\\n            list(executor.map(map_func, *iter_params, *repeated_params)), axis=0\\n        )\\n    return results\";\n",
       "                var nbb_formatted_code = \"def do_parallel_numpy(map_func, iter_params, constant_params=None):\\n    repeated_params = (\\n        [] if constant_params is None else list(map(repeat, constant_params))\\n    )\\n    results = None\\n    with PoolExecutor() as executor:\\n        results = np.stack(\\n            list(executor.map(map_func, *iter_params, *repeated_params)), axis=0\\n        )\\n    return results\";\n",
       "                var nbb_cells = Jupyter.notebook.get_cells();\n",
       "                for (var i = 0; i < nbb_cells.length; ++i) {\n",
       "                    if (nbb_cells[i].input_prompt_number == nbb_cell_id) {\n",
       "                        if (nbb_cells[i].get_text() == nbb_unformatted_code) {\n",
       "                             nbb_cells[i].set_text(nbb_formatted_code);\n",
       "                        }\n",
       "                        break;\n",
       "                    }\n",
       "                }\n",
       "            }, 500);\n",
       "            "
      ],
      "text/plain": [
       "<IPython.core.display.Javascript object>"
      ]
     },
     "metadata": {},
     "output_type": "display_data"
    }
   ],
   "source": [
    "def do_parallel_numpy(map_func, iter_params, constant_params=None):\n",
    "    repeated_params = (\n",
    "        [] if constant_params is None else list(map(repeat, constant_params))\n",
    "    )\n",
    "    results = None\n",
    "    with PoolExecutor() as executor:\n",
    "        results = np.stack(\n",
    "            list(executor.map(map_func, *iter_params, *repeated_params)), axis=0\n",
    "        )\n",
    "    return results"
   ]
  },
  {
   "cell_type": "code",
   "execution_count": 8,
   "metadata": {
    "ExecuteTime": {
     "end_time": "2020-05-25T20:59:46.106802Z",
     "start_time": "2020-05-25T20:59:46.020842Z"
    }
   },
   "outputs": [
    {
     "data": {
      "application/javascript": [
       "\n",
       "            setTimeout(function() {\n",
       "                var nbb_cell_id = 8;\n",
       "                var nbb_unformatted_code = \"def download(url, out, force=False, verify=True):\\n    out.parent.mkdir(parents=True, exist_ok=True)\\n    if force and out.exists():\\n        print(f\\\"Removing file at {str(out)}\\\")\\n        out.unlink()\\n\\n    if out.exists():\\n        print(\\\"File already exists.\\\")\\n        return\\n    print(f\\\"Downloading {url} at {str(out)} ...\\\")\\n    # open in binary mode\\n    with out.open(mode=\\\"wb\\\") as file:\\n        # get request\\n        response = get(url, verify=verify)\\n        for chunk in response.iter_content(100000):\\n            # write to file\\n            file.write(chunk)\";\n",
       "                var nbb_formatted_code = \"def download(url, out, force=False, verify=True):\\n    out.parent.mkdir(parents=True, exist_ok=True)\\n    if force and out.exists():\\n        print(f\\\"Removing file at {str(out)}\\\")\\n        out.unlink()\\n\\n    if out.exists():\\n        print(\\\"File already exists.\\\")\\n        return\\n    print(f\\\"Downloading {url} at {str(out)} ...\\\")\\n    # open in binary mode\\n    with out.open(mode=\\\"wb\\\") as file:\\n        # get request\\n        response = get(url, verify=verify)\\n        for chunk in response.iter_content(100000):\\n            # write to file\\n            file.write(chunk)\";\n",
       "                var nbb_cells = Jupyter.notebook.get_cells();\n",
       "                for (var i = 0; i < nbb_cells.length; ++i) {\n",
       "                    if (nbb_cells[i].input_prompt_number == nbb_cell_id) {\n",
       "                        if (nbb_cells[i].get_text() == nbb_unformatted_code) {\n",
       "                             nbb_cells[i].set_text(nbb_formatted_code);\n",
       "                        }\n",
       "                        break;\n",
       "                    }\n",
       "                }\n",
       "            }, 500);\n",
       "            "
      ],
      "text/plain": [
       "<IPython.core.display.Javascript object>"
      ]
     },
     "metadata": {},
     "output_type": "display_data"
    }
   ],
   "source": [
    "def download(url, out, force=False, verify=True):\n",
    "    out.parent.mkdir(parents=True, exist_ok=True)\n",
    "    if force and out.exists():\n",
    "        print(f\"Removing file at {str(out)}\")\n",
    "        out.unlink()\n",
    "\n",
    "    if out.exists():\n",
    "        print(\"File already exists.\")\n",
    "        return\n",
    "    print(f\"Downloading {url} at {str(out)} ...\")\n",
    "    # open in binary mode\n",
    "    with out.open(mode=\"wb\") as file:\n",
    "        # get request\n",
    "        response = get(url, verify=verify)\n",
    "        for chunk in response.iter_content(100000):\n",
    "            # write to file\n",
    "            file.write(chunk)\n"
   ]
  },
  {
   "cell_type": "code",
   "execution_count": 9,
   "metadata": {
    "ExecuteTime": {
     "end_time": "2020-05-25T20:59:46.210035Z",
     "start_time": "2020-05-25T20:59:46.110562Z"
    }
   },
   "outputs": [
    {
     "data": {
      "application/javascript": [
       "\n",
       "            setTimeout(function() {\n",
       "                var nbb_cell_id = 9;\n",
       "                var nbb_unformatted_code = \"def plot_history(history):\\n    loss_list = [s for s in history.history.keys() if \\\"loss\\\" in s and \\\"val\\\" not in s]\\n    val_loss_list = [s for s in history.history.keys() if \\\"loss\\\" in s and \\\"val\\\" in s]\\n    acc_list = [s for s in history.history.keys() if \\\"AUC\\\" in s and \\\"val\\\" not in s]\\n    val_acc_list = [s for s in history.history.keys() if \\\"AUC\\\" in s and \\\"val\\\" in s]\\n\\n    if len(loss_list) == 0:\\n        print(\\\"Loss is missing in history\\\")\\n        return\\n\\n    ## As loss always exists\\n    epochs = range(1, len(history.history[loss_list[0]]) + 1)\\n\\n    ## Loss\\n    plt.figure(1)\\n    for l in loss_list:\\n        plt.plot(\\n            epochs,\\n            history.history[l],\\n            \\\"b\\\",\\n            label=\\\"Training loss (\\\"\\n            + str(str(format(history.history[l][-1], \\\".5f\\\")) + \\\")\\\"),\\n        )\\n    for l in val_loss_list:\\n        plt.plot(\\n            epochs,\\n            history.history[l],\\n            \\\"g\\\",\\n            label=\\\"Validation loss (\\\"\\n            + str(str(format(history.history[l][-1], \\\".5f\\\")) + \\\")\\\"),\\n        )\\n\\n    plt.title(\\\"Loss\\\")\\n    plt.xlabel(\\\"Epochs\\\")\\n    plt.ylabel(\\\"Loss\\\")\\n    plt.legend()\\n\\n    plt.show()\";\n",
       "                var nbb_formatted_code = \"def plot_history(history):\\n    loss_list = [s for s in history.history.keys() if \\\"loss\\\" in s and \\\"val\\\" not in s]\\n    val_loss_list = [s for s in history.history.keys() if \\\"loss\\\" in s and \\\"val\\\" in s]\\n    acc_list = [s for s in history.history.keys() if \\\"AUC\\\" in s and \\\"val\\\" not in s]\\n    val_acc_list = [s for s in history.history.keys() if \\\"AUC\\\" in s and \\\"val\\\" in s]\\n\\n    if len(loss_list) == 0:\\n        print(\\\"Loss is missing in history\\\")\\n        return\\n\\n    ## As loss always exists\\n    epochs = range(1, len(history.history[loss_list[0]]) + 1)\\n\\n    ## Loss\\n    plt.figure(1)\\n    for l in loss_list:\\n        plt.plot(\\n            epochs,\\n            history.history[l],\\n            \\\"b\\\",\\n            label=\\\"Training loss (\\\"\\n            + str(str(format(history.history[l][-1], \\\".5f\\\")) + \\\")\\\"),\\n        )\\n    for l in val_loss_list:\\n        plt.plot(\\n            epochs,\\n            history.history[l],\\n            \\\"g\\\",\\n            label=\\\"Validation loss (\\\"\\n            + str(str(format(history.history[l][-1], \\\".5f\\\")) + \\\")\\\"),\\n        )\\n\\n    plt.title(\\\"Loss\\\")\\n    plt.xlabel(\\\"Epochs\\\")\\n    plt.ylabel(\\\"Loss\\\")\\n    plt.legend()\\n\\n    plt.show()\";\n",
       "                var nbb_cells = Jupyter.notebook.get_cells();\n",
       "                for (var i = 0; i < nbb_cells.length; ++i) {\n",
       "                    if (nbb_cells[i].input_prompt_number == nbb_cell_id) {\n",
       "                        if (nbb_cells[i].get_text() == nbb_unformatted_code) {\n",
       "                             nbb_cells[i].set_text(nbb_formatted_code);\n",
       "                        }\n",
       "                        break;\n",
       "                    }\n",
       "                }\n",
       "            }, 500);\n",
       "            "
      ],
      "text/plain": [
       "<IPython.core.display.Javascript object>"
      ]
     },
     "metadata": {},
     "output_type": "display_data"
    }
   ],
   "source": [
    "def plot_history(history):\n",
    "    loss_list = [s for s in history.history.keys() if \"loss\" in s and \"val\" not in s]\n",
    "    val_loss_list = [s for s in history.history.keys() if \"loss\" in s and \"val\" in s]\n",
    "    acc_list = [s for s in history.history.keys() if \"AUC\" in s and \"val\" not in s]\n",
    "    val_acc_list = [s for s in history.history.keys() if \"AUC\" in s and \"val\" in s]\n",
    "\n",
    "    if len(loss_list) == 0:\n",
    "        print(\"Loss is missing in history\")\n",
    "        return\n",
    "\n",
    "    ## As loss always exists\n",
    "    epochs = range(1, len(history.history[loss_list[0]]) + 1)\n",
    "\n",
    "    ## Loss\n",
    "    plt.figure(1)\n",
    "    for l in loss_list:\n",
    "        plt.plot(\n",
    "            epochs,\n",
    "            history.history[l],\n",
    "            \"b\",\n",
    "            label=\"Training loss (\"\n",
    "            + str(str(format(history.history[l][-1], \".5f\")) + \")\"),\n",
    "        )\n",
    "    for l in val_loss_list:\n",
    "        plt.plot(\n",
    "            epochs,\n",
    "            history.history[l],\n",
    "            \"g\",\n",
    "            label=\"Validation loss (\"\n",
    "            + str(str(format(history.history[l][-1], \".5f\")) + \")\"),\n",
    "        )\n",
    "\n",
    "    plt.title(\"Loss\")\n",
    "    plt.xlabel(\"Epochs\")\n",
    "    plt.ylabel(\"Loss\")\n",
    "    plt.legend()\n",
    "\n",
    "    plt.show()"
   ]
  },
  {
   "cell_type": "code",
   "execution_count": 10,
   "metadata": {
    "ExecuteTime": {
     "end_time": "2020-05-25T20:59:46.276902Z",
     "start_time": "2020-05-25T20:59:46.212058Z"
    }
   },
   "outputs": [
    {
     "name": "stdout",
     "output_type": "stream",
     "text": [
      "File already exists.\n",
      "File already exists.\n"
     ]
    },
    {
     "data": {
      "application/javascript": [
       "\n",
       "            setTimeout(function() {\n",
       "                var nbb_cell_id = 10;\n",
       "                var nbb_unformatted_code = \"url = \\\"https://archive.ics.uci.edu/ml/machine-learning-databases/adult/adult.data\\\"\\nurl_test = \\\"https://archive.ics.uci.edu/ml/machine-learning-databases/adult/adult.test\\\"\\n\\ndataset_name = \\\"census-income\\\"\\nout = Path(os.getcwd() + \\\"/data/\\\" + dataset_name + \\\".csv\\\")\\nout_test = Path(os.getcwd() + \\\"/data/\\\" + dataset_name + \\\"_test.csv\\\")\\n\\ndownload(url, out, force=False)\\ndownload(url_test, out_test, force=False)\";\n",
       "                var nbb_formatted_code = \"url = \\\"https://archive.ics.uci.edu/ml/machine-learning-databases/adult/adult.data\\\"\\nurl_test = \\\"https://archive.ics.uci.edu/ml/machine-learning-databases/adult/adult.test\\\"\\n\\ndataset_name = \\\"census-income\\\"\\nout = Path(os.getcwd() + \\\"/data/\\\" + dataset_name + \\\".csv\\\")\\nout_test = Path(os.getcwd() + \\\"/data/\\\" + dataset_name + \\\"_test.csv\\\")\\n\\ndownload(url, out, force=False)\\ndownload(url_test, out_test, force=False)\";\n",
       "                var nbb_cells = Jupyter.notebook.get_cells();\n",
       "                for (var i = 0; i < nbb_cells.length; ++i) {\n",
       "                    if (nbb_cells[i].input_prompt_number == nbb_cell_id) {\n",
       "                        if (nbb_cells[i].get_text() == nbb_unformatted_code) {\n",
       "                             nbb_cells[i].set_text(nbb_formatted_code);\n",
       "                        }\n",
       "                        break;\n",
       "                    }\n",
       "                }\n",
       "            }, 500);\n",
       "            "
      ],
      "text/plain": [
       "<IPython.core.display.Javascript object>"
      ]
     },
     "metadata": {},
     "output_type": "display_data"
    }
   ],
   "source": [
    "url = \"https://archive.ics.uci.edu/ml/machine-learning-databases/adult/adult.data\"\n",
    "url_test = \"https://archive.ics.uci.edu/ml/machine-learning-databases/adult/adult.test\"\n",
    "\n",
    "dataset_name = \"census-income\"\n",
    "out = Path(os.getcwd() + \"/data/\" + dataset_name + \".csv\")\n",
    "out_test = Path(os.getcwd() + \"/data/\" + dataset_name + \"_test.csv\")\n",
    "\n",
    "download(url, out, force=False)\n",
    "download(url_test, out_test, force=False)\n"
   ]
  },
  {
   "cell_type": "code",
   "execution_count": 11,
   "metadata": {
    "ExecuteTime": {
     "end_time": "2020-05-25T20:59:46.361578Z",
     "start_time": "2020-05-25T20:59:46.279187Z"
    }
   },
   "outputs": [
    {
     "data": {
      "application/javascript": [
       "\n",
       "            setTimeout(function() {\n",
       "                var nbb_cell_id = 11;\n",
       "                var nbb_unformatted_code = \"cols = [\\n    \\\"age\\\",\\n    \\\"workclass\\\",\\n    \\\"fnlwgt\\\",\\n    \\\"education\\\",\\n    \\\"education-num\\\",\\n    \\\"marital-status\\\",\\n    \\\"occupation\\\",\\n    \\\"relationship\\\",\\n    \\\"race\\\",\\n    \\\"sex\\\",\\n    \\\"capital-gain\\\",\\n    \\\"capital-loss\\\",\\n    \\\"hours-per-week\\\",\\n    \\\"native-country\\\",\\n    \\\"target\\\",\\n]\";\n",
       "                var nbb_formatted_code = \"cols = [\\n    \\\"age\\\",\\n    \\\"workclass\\\",\\n    \\\"fnlwgt\\\",\\n    \\\"education\\\",\\n    \\\"education-num\\\",\\n    \\\"marital-status\\\",\\n    \\\"occupation\\\",\\n    \\\"relationship\\\",\\n    \\\"race\\\",\\n    \\\"sex\\\",\\n    \\\"capital-gain\\\",\\n    \\\"capital-loss\\\",\\n    \\\"hours-per-week\\\",\\n    \\\"native-country\\\",\\n    \\\"target\\\",\\n]\";\n",
       "                var nbb_cells = Jupyter.notebook.get_cells();\n",
       "                for (var i = 0; i < nbb_cells.length; ++i) {\n",
       "                    if (nbb_cells[i].input_prompt_number == nbb_cell_id) {\n",
       "                        if (nbb_cells[i].get_text() == nbb_unformatted_code) {\n",
       "                             nbb_cells[i].set_text(nbb_formatted_code);\n",
       "                        }\n",
       "                        break;\n",
       "                    }\n",
       "                }\n",
       "            }, 500);\n",
       "            "
      ],
      "text/plain": [
       "<IPython.core.display.Javascript object>"
      ]
     },
     "metadata": {},
     "output_type": "display_data"
    }
   ],
   "source": [
    "cols = [\n",
    "    \"age\",\n",
    "    \"workclass\",\n",
    "    \"fnlwgt\",\n",
    "    \"education\",\n",
    "    \"education-num\",\n",
    "    \"marital-status\",\n",
    "    \"occupation\",\n",
    "    \"relationship\",\n",
    "    \"race\",\n",
    "    \"sex\",\n",
    "    \"capital-gain\",\n",
    "    \"capital-loss\",\n",
    "    \"hours-per-week\",\n",
    "    \"native-country\",\n",
    "    \"target\",\n",
    "]"
   ]
  },
  {
   "cell_type": "code",
   "execution_count": 12,
   "metadata": {
    "ExecuteTime": {
     "end_time": "2020-05-25T20:59:46.557825Z",
     "start_time": "2020-05-25T20:59:46.365361Z"
    }
   },
   "outputs": [
    {
     "data": {
      "application/javascript": [
       "\n",
       "            setTimeout(function() {\n",
       "                var nbb_cell_id = 12;\n",
       "                var nbb_unformatted_code = \"train = pd.read_csv(out, names=cols)\\ntest = pd.read_csv(out_test, names=cols, skiprows=2)\\ntarget = \\\"target\\\"\\n\\ntrain[target] = train[target].str.strip()\\n# Test has . in label, let's clean it\\ntest[target] = test[target].str.strip().str.strip(\\\".\\\")\";\n",
       "                var nbb_formatted_code = \"train = pd.read_csv(out, names=cols)\\ntest = pd.read_csv(out_test, names=cols, skiprows=2)\\ntarget = \\\"target\\\"\\n\\ntrain[target] = train[target].str.strip()\\n# Test has . in label, let's clean it\\ntest[target] = test[target].str.strip().str.strip(\\\".\\\")\";\n",
       "                var nbb_cells = Jupyter.notebook.get_cells();\n",
       "                for (var i = 0; i < nbb_cells.length; ++i) {\n",
       "                    if (nbb_cells[i].input_prompt_number == nbb_cell_id) {\n",
       "                        if (nbb_cells[i].get_text() == nbb_unformatted_code) {\n",
       "                             nbb_cells[i].set_text(nbb_formatted_code);\n",
       "                        }\n",
       "                        break;\n",
       "                    }\n",
       "                }\n",
       "            }, 500);\n",
       "            "
      ],
      "text/plain": [
       "<IPython.core.display.Javascript object>"
      ]
     },
     "metadata": {},
     "output_type": "display_data"
    }
   ],
   "source": [
    "train = pd.read_csv(out, names=cols)\n",
    "test = pd.read_csv(out_test, names=cols, skiprows=2)\n",
    "target = \"target\"\n",
    "\n",
    "train[target] = train[target].str.strip()\n",
    "# Test has . in label, let's clean it\n",
    "test[target] = test[target].str.strip().str.strip(\".\")"
   ]
  },
  {
   "cell_type": "code",
   "execution_count": 13,
   "metadata": {
    "ExecuteTime": {
     "end_time": "2020-05-25T20:59:46.566032Z",
     "start_time": "2020-05-25T20:59:46.559340Z"
    }
   },
   "outputs": [
    {
     "data": {
      "application/javascript": [
       "\n",
       "            setTimeout(function() {\n",
       "                var nbb_cell_id = 13;\n",
       "                var nbb_unformatted_code = \"target_encoder = LabelEncoder()\";\n",
       "                var nbb_formatted_code = \"target_encoder = LabelEncoder()\";\n",
       "                var nbb_cells = Jupyter.notebook.get_cells();\n",
       "                for (var i = 0; i < nbb_cells.length; ++i) {\n",
       "                    if (nbb_cells[i].input_prompt_number == nbb_cell_id) {\n",
       "                        if (nbb_cells[i].get_text() == nbb_unformatted_code) {\n",
       "                             nbb_cells[i].set_text(nbb_formatted_code);\n",
       "                        }\n",
       "                        break;\n",
       "                    }\n",
       "                }\n",
       "            }, 500);\n",
       "            "
      ],
      "text/plain": [
       "<IPython.core.display.Javascript object>"
      ]
     },
     "metadata": {},
     "output_type": "display_data"
    }
   ],
   "source": [
    "target_encoder = LabelEncoder()"
   ]
  },
  {
   "cell_type": "code",
   "execution_count": 14,
   "metadata": {
    "ExecuteTime": {
     "end_time": "2020-05-25T20:59:46.661768Z",
     "start_time": "2020-05-25T20:59:46.567593Z"
    }
   },
   "outputs": [
    {
     "data": {
      "application/javascript": [
       "\n",
       "            setTimeout(function() {\n",
       "                var nbb_cell_id = 14;\n",
       "                var nbb_unformatted_code = \"train[target] = target_encoder.fit_transform(train[target].values.reshape(-1))\\ntest[target] = target_encoder.transform(test[target].values.reshape(-1))\";\n",
       "                var nbb_formatted_code = \"train[target] = target_encoder.fit_transform(train[target].values.reshape(-1))\\ntest[target] = target_encoder.transform(test[target].values.reshape(-1))\";\n",
       "                var nbb_cells = Jupyter.notebook.get_cells();\n",
       "                for (var i = 0; i < nbb_cells.length; ++i) {\n",
       "                    if (nbb_cells[i].input_prompt_number == nbb_cell_id) {\n",
       "                        if (nbb_cells[i].get_text() == nbb_unformatted_code) {\n",
       "                             nbb_cells[i].set_text(nbb_formatted_code);\n",
       "                        }\n",
       "                        break;\n",
       "                    }\n",
       "                }\n",
       "            }, 500);\n",
       "            "
      ],
      "text/plain": [
       "<IPython.core.display.Javascript object>"
      ]
     },
     "metadata": {},
     "output_type": "display_data"
    }
   ],
   "source": [
    "train[target] = target_encoder.fit_transform(train[target].values.reshape(-1))\n",
    "test[target] = target_encoder.transform(test[target].values.reshape(-1))"
   ]
  },
  {
   "cell_type": "code",
   "execution_count": 15,
   "metadata": {
    "ExecuteTime": {
     "end_time": "2020-05-25T20:59:46.745241Z",
     "start_time": "2020-05-25T20:59:46.663423Z"
    }
   },
   "outputs": [
    {
     "data": {
      "text/plain": [
       "['hours-per-week',\n",
       " 'education-num',\n",
       " 'education',\n",
       " 'sex',\n",
       " 'relationship',\n",
       " 'age',\n",
       " 'capital-gain',\n",
       " 'occupation',\n",
       " 'workclass',\n",
       " 'marital-status',\n",
       " 'race',\n",
       " 'native-country',\n",
       " 'fnlwgt',\n",
       " 'capital-loss']"
      ]
     },
     "execution_count": 15,
     "metadata": {},
     "output_type": "execute_result"
    },
    {
     "data": {
      "application/javascript": [
       "\n",
       "            setTimeout(function() {\n",
       "                var nbb_cell_id = 15;\n",
       "                var nbb_unformatted_code = \"used_columns = list(set(train.columns.tolist()) - set([target]) - set([\\\"Set\\\"]))\\nused_columns\";\n",
       "                var nbb_formatted_code = \"used_columns = list(set(train.columns.tolist()) - set([target]) - set([\\\"Set\\\"]))\\nused_columns\";\n",
       "                var nbb_cells = Jupyter.notebook.get_cells();\n",
       "                for (var i = 0; i < nbb_cells.length; ++i) {\n",
       "                    if (nbb_cells[i].input_prompt_number == nbb_cell_id) {\n",
       "                        if (nbb_cells[i].get_text() == nbb_unformatted_code) {\n",
       "                             nbb_cells[i].set_text(nbb_formatted_code);\n",
       "                        }\n",
       "                        break;\n",
       "                    }\n",
       "                }\n",
       "            }, 500);\n",
       "            "
      ],
      "text/plain": [
       "<IPython.core.display.Javascript object>"
      ]
     },
     "metadata": {},
     "output_type": "display_data"
    }
   ],
   "source": [
    "used_columns = list(set(train.columns.tolist()) - set([target]) - set([\"Set\"]))\n",
    "used_columns"
   ]
  },
  {
   "cell_type": "code",
   "execution_count": 16,
   "metadata": {
    "ExecuteTime": {
     "end_time": "2020-05-25T20:59:47.405604Z",
     "start_time": "2020-05-25T20:59:46.747053Z"
    }
   },
   "outputs": [
    {
     "data": {
      "application/javascript": [
       "\n",
       "            setTimeout(function() {\n",
       "                var nbb_cell_id = 16;\n",
       "                var nbb_unformatted_code = \"train[\\\"Set\\\"] = np.random.choice(\\n    [\\\"train\\\", \\\"valid\\\"], p=[0.8, 0.2], size=(train.shape[0],)\\n)\\n\\ntrain_indices = train[train.Set == \\\"train\\\"].index\\nvalid_indices = train[train.Set == \\\"valid\\\"].index\\n\\nX_train = np.char.strip(train[used_columns].values[train_indices].astype(\\\"str\\\"))\\nX_valid = np.char.strip(train[used_columns].values[valid_indices].astype(\\\"str\\\"))\\n\\ny_train = train[target].values[train_indices]\\ny_valid = train[target].values[valid_indices]\\n\\n# Test here should be ignored for training, only purpose is benching with paper values\\nX_test = np.char.strip(test[used_columns].values.astype(\\\"str\\\"))\\ny_test = test[target].values\\n\\ndel train, test, train_indices, valid_indices\";\n",
       "                var nbb_formatted_code = \"train[\\\"Set\\\"] = np.random.choice(\\n    [\\\"train\\\", \\\"valid\\\"], p=[0.8, 0.2], size=(train.shape[0],)\\n)\\n\\ntrain_indices = train[train.Set == \\\"train\\\"].index\\nvalid_indices = train[train.Set == \\\"valid\\\"].index\\n\\nX_train = np.char.strip(train[used_columns].values[train_indices].astype(\\\"str\\\"))\\nX_valid = np.char.strip(train[used_columns].values[valid_indices].astype(\\\"str\\\"))\\n\\ny_train = train[target].values[train_indices]\\ny_valid = train[target].values[valid_indices]\\n\\n# Test here should be ignored for training, only purpose is benching with paper values\\nX_test = np.char.strip(test[used_columns].values.astype(\\\"str\\\"))\\ny_test = test[target].values\\n\\ndel train, test, train_indices, valid_indices\";\n",
       "                var nbb_cells = Jupyter.notebook.get_cells();\n",
       "                for (var i = 0; i < nbb_cells.length; ++i) {\n",
       "                    if (nbb_cells[i].input_prompt_number == nbb_cell_id) {\n",
       "                        if (nbb_cells[i].get_text() == nbb_unformatted_code) {\n",
       "                             nbb_cells[i].set_text(nbb_formatted_code);\n",
       "                        }\n",
       "                        break;\n",
       "                    }\n",
       "                }\n",
       "            }, 500);\n",
       "            "
      ],
      "text/plain": [
       "<IPython.core.display.Javascript object>"
      ]
     },
     "metadata": {},
     "output_type": "display_data"
    }
   ],
   "source": [
    "train[\"Set\"] = np.random.choice(\n",
    "    [\"train\", \"valid\"], p=[0.8, 0.2], size=(train.shape[0],)\n",
    ")\n",
    "\n",
    "train_indices = train[train.Set == \"train\"].index\n",
    "valid_indices = train[train.Set == \"valid\"].index\n",
    "\n",
    "X_train = np.char.strip(train[used_columns].values[train_indices].astype(\"str\"))\n",
    "X_valid = np.char.strip(train[used_columns].values[valid_indices].astype(\"str\"))\n",
    "\n",
    "y_train = train[target].values[train_indices]\n",
    "y_valid = train[target].values[valid_indices]\n",
    "\n",
    "# Test here should be ignored for training, only purpose is benching with paper values\n",
    "X_test = np.char.strip(test[used_columns].values.astype(\"str\"))\n",
    "y_test = test[target].values\n",
    "\n",
    "del train, test, train_indices, valid_indices"
   ]
  },
  {
   "cell_type": "code",
   "execution_count": 17,
   "metadata": {
    "ExecuteTime": {
     "end_time": "2020-05-25T20:59:47.412417Z",
     "start_time": "2020-05-25T20:59:47.406951Z"
    }
   },
   "outputs": [
    {
     "data": {
      "text/plain": [
       "(26072, 14)"
      ]
     },
     "execution_count": 17,
     "metadata": {},
     "output_type": "execute_result"
    },
    {
     "data": {
      "application/javascript": [
       "\n",
       "            setTimeout(function() {\n",
       "                var nbb_cell_id = 17;\n",
       "                var nbb_unformatted_code = \"X_train.shape\";\n",
       "                var nbb_formatted_code = \"X_train.shape\";\n",
       "                var nbb_cells = Jupyter.notebook.get_cells();\n",
       "                for (var i = 0; i < nbb_cells.length; ++i) {\n",
       "                    if (nbb_cells[i].input_prompt_number == nbb_cell_id) {\n",
       "                        if (nbb_cells[i].get_text() == nbb_unformatted_code) {\n",
       "                             nbb_cells[i].set_text(nbb_formatted_code);\n",
       "                        }\n",
       "                        break;\n",
       "                    }\n",
       "                }\n",
       "            }, 500);\n",
       "            "
      ],
      "text/plain": [
       "<IPython.core.display.Javascript object>"
      ]
     },
     "metadata": {},
     "output_type": "display_data"
    }
   ],
   "source": [
    "X_train.shape"
   ]
  },
  {
   "cell_type": "code",
   "execution_count": 18,
   "metadata": {
    "ExecuteTime": {
     "end_time": "2020-05-25T20:59:47.573456Z",
     "start_time": "2020-05-25T20:59:47.413649Z"
    }
   },
   "outputs": [
    {
     "data": {
      "text/plain": [
       "26"
      ]
     },
     "execution_count": 18,
     "metadata": {},
     "output_type": "execute_result"
    },
    {
     "data": {
      "application/javascript": [
       "\n",
       "            setTimeout(function() {\n",
       "                var nbb_cell_id = 18;\n",
       "                var nbb_unformatted_code = \"INPUT_DIM = X_train.shape[1]\\nNB_CHANNELS = np.vectorize(len)(X_train).max()\\nNB_CHANNELS\";\n",
       "                var nbb_formatted_code = \"INPUT_DIM = X_train.shape[1]\\nNB_CHANNELS = np.vectorize(len)(X_train).max()\\nNB_CHANNELS\";\n",
       "                var nbb_cells = Jupyter.notebook.get_cells();\n",
       "                for (var i = 0; i < nbb_cells.length; ++i) {\n",
       "                    if (nbb_cells[i].input_prompt_number == nbb_cell_id) {\n",
       "                        if (nbb_cells[i].get_text() == nbb_unformatted_code) {\n",
       "                             nbb_cells[i].set_text(nbb_formatted_code);\n",
       "                        }\n",
       "                        break;\n",
       "                    }\n",
       "                }\n",
       "            }, 500);\n",
       "            "
      ],
      "text/plain": [
       "<IPython.core.display.Javascript object>"
      ]
     },
     "metadata": {},
     "output_type": "display_data"
    }
   ],
   "source": [
    "INPUT_DIM = X_train.shape[1]\n",
    "NB_CHANNELS = np.vectorize(len)(X_train).max()\n",
    "NB_CHANNELS"
   ]
  },
  {
   "cell_type": "code",
   "execution_count": 19,
   "metadata": {
    "ExecuteTime": {
     "end_time": "2020-05-25T20:59:47.616024Z",
     "start_time": "2020-05-25T20:59:47.574971Z"
    }
   },
   "outputs": [
    {
     "data": {
      "text/plain": [
       "(14, 27)"
      ]
     },
     "execution_count": 19,
     "metadata": {},
     "output_type": "execute_result"
    },
    {
     "data": {
      "application/javascript": [
       "\n",
       "            setTimeout(function() {\n",
       "                var nbb_cell_id = 19;\n",
       "                var nbb_unformatted_code = \"line_to_img(X_train[0], 27).shape\";\n",
       "                var nbb_formatted_code = \"line_to_img(X_train[0], 27).shape\";\n",
       "                var nbb_cells = Jupyter.notebook.get_cells();\n",
       "                for (var i = 0; i < nbb_cells.length; ++i) {\n",
       "                    if (nbb_cells[i].input_prompt_number == nbb_cell_id) {\n",
       "                        if (nbb_cells[i].get_text() == nbb_unformatted_code) {\n",
       "                             nbb_cells[i].set_text(nbb_formatted_code);\n",
       "                        }\n",
       "                        break;\n",
       "                    }\n",
       "                }\n",
       "            }, 500);\n",
       "            "
      ],
      "text/plain": [
       "<IPython.core.display.Javascript object>"
      ]
     },
     "metadata": {},
     "output_type": "display_data"
    }
   ],
   "source": [
    "line_to_img(X_train[0], 27).shape"
   ]
  },
  {
   "cell_type": "code",
   "execution_count": 20,
   "metadata": {
    "ExecuteTime": {
     "end_time": "2020-05-25T21:00:00.007709Z",
     "start_time": "2020-05-25T20:59:47.617541Z"
    }
   },
   "outputs": [
    {
     "data": {
      "application/javascript": [
       "\n",
       "            setTimeout(function() {\n",
       "                var nbb_cell_id = 20;\n",
       "                var nbb_unformatted_code = \"X_train_preproc = do_parallel_numpy(line_to_img, [X_train], [NB_CHANNELS])\\nX_valid_preproc = do_parallel_numpy(line_to_img, [X_valid], [NB_CHANNELS])\\nX_test_preproc = do_parallel_numpy(line_to_img, [X_test], [NB_CHANNELS])\";\n",
       "                var nbb_formatted_code = \"X_train_preproc = do_parallel_numpy(line_to_img, [X_train], [NB_CHANNELS])\\nX_valid_preproc = do_parallel_numpy(line_to_img, [X_valid], [NB_CHANNELS])\\nX_test_preproc = do_parallel_numpy(line_to_img, [X_test], [NB_CHANNELS])\";\n",
       "                var nbb_cells = Jupyter.notebook.get_cells();\n",
       "                for (var i = 0; i < nbb_cells.length; ++i) {\n",
       "                    if (nbb_cells[i].input_prompt_number == nbb_cell_id) {\n",
       "                        if (nbb_cells[i].get_text() == nbb_unformatted_code) {\n",
       "                             nbb_cells[i].set_text(nbb_formatted_code);\n",
       "                        }\n",
       "                        break;\n",
       "                    }\n",
       "                }\n",
       "            }, 500);\n",
       "            "
      ],
      "text/plain": [
       "<IPython.core.display.Javascript object>"
      ]
     },
     "metadata": {},
     "output_type": "display_data"
    }
   ],
   "source": [
    "X_train_preproc = do_parallel_numpy(line_to_img, [X_train], [NB_CHANNELS])\n",
    "X_valid_preproc = do_parallel_numpy(line_to_img, [X_valid], [NB_CHANNELS])\n",
    "X_test_preproc = do_parallel_numpy(line_to_img, [X_test], [NB_CHANNELS])"
   ]
  },
  {
   "cell_type": "markdown",
   "metadata": {
    "ExecuteTime": {
     "end_time": "2020-05-25T19:22:09.609604Z",
     "start_time": "2020-05-25T19:22:09.602138Z"
    }
   },
   "source": [
    "Y_train_preproc = to_categorical(y_train)\n",
    "Y_valid_preproc = to_categorical(y_valid)\n",
    "Y_test_preproc = to_categorical(y_test)"
   ]
  },
  {
   "cell_type": "code",
   "execution_count": 21,
   "metadata": {
    "ExecuteTime": {
     "end_time": "2020-05-25T21:00:00.061348Z",
     "start_time": "2020-05-25T21:00:00.017086Z"
    }
   },
   "outputs": [
    {
     "data": {
      "application/javascript": [
       "\n",
       "            setTimeout(function() {\n",
       "                var nbb_cell_id = 21;\n",
       "                var nbb_unformatted_code = \"def build_model(input_dim, nb_channels, conv_dim=[], lconv_dim=[]):\\n    activation = mish\\n    optimizer = Lookahead(RectifiedAdam(1e-3), sync_period=6, slow_step_size=0.5)\\n\\n    input_layer = Input(shape=(input_dim, nb_channels), name=\\\"input\\\")\\n    x_layer = input_layer\\n    for i, conv_layer in enumerate(conv_dim):\\n        name = f\\\"block_conv_{i}_\\\"\\n        x_layer = Conv1D(\\n            filters=conv_layer,\\n            padding=\\\"valid\\\",\\n            kernel_size=1,\\n            strides=1,\\n            name=name + \\\"conv\\\",\\n            use_bias=False,\\n            activation=None,\\n        )(x_layer)\\n        x_layer = BatchNormalization(name=name + \\\"nb\\\")(x_layer)\\n        x_layer = Activation(activation, name=name + \\\"activation\\\")(x_layer)\\n\\n    for i, lconv_layer in enumerate(lconv_dim):\\n        name = f\\\"block_lconv_{i}_\\\"\\n        x_layer = LocallyConnected1D(\\n            filters=lconv_layer,\\n            padding=\\\"valid\\\",\\n            kernel_size=1,\\n            strides=1,\\n            name=name + \\\"lconv\\\",\\n            use_bias=False,\\n            activation=None,\\n        )(x_layer)\\n        x_layer = BatchNormalization(name=name + \\\"nb\\\")(x_layer)\\n        x_layer = Activation(activation, name=name + \\\"activation\\\")(x_layer)\\n\\n    nb_filters = lconv_dim[-1] if len(lconv_dim) > 0 else conv_dim[-1]\\n    x_layer = Reshape((input_dim * nb_filters,), name=\\\"reshape\\\")(x_layer)\\n    x_layer = Dense(1, activation=\\\"sigmoid\\\", name=\\\"output\\\")(x_layer)\\n\\n    model = Model(inputs=[input_layer], outputs=[x_layer], name=\\\"first_model\\\")\\n    model.compile(loss=\\\"binary_crossentropy\\\", optimizer=optimizer)\\n\\n    return model\";\n",
       "                var nbb_formatted_code = \"def build_model(input_dim, nb_channels, conv_dim=[], lconv_dim=[]):\\n    activation = mish\\n    optimizer = Lookahead(RectifiedAdam(1e-3), sync_period=6, slow_step_size=0.5)\\n\\n    input_layer = Input(shape=(input_dim, nb_channels), name=\\\"input\\\")\\n    x_layer = input_layer\\n    for i, conv_layer in enumerate(conv_dim):\\n        name = f\\\"block_conv_{i}_\\\"\\n        x_layer = Conv1D(\\n            filters=conv_layer,\\n            padding=\\\"valid\\\",\\n            kernel_size=1,\\n            strides=1,\\n            name=name + \\\"conv\\\",\\n            use_bias=False,\\n            activation=None,\\n        )(x_layer)\\n        x_layer = BatchNormalization(name=name + \\\"nb\\\")(x_layer)\\n        x_layer = Activation(activation, name=name + \\\"activation\\\")(x_layer)\\n\\n    for i, lconv_layer in enumerate(lconv_dim):\\n        name = f\\\"block_lconv_{i}_\\\"\\n        x_layer = LocallyConnected1D(\\n            filters=lconv_layer,\\n            padding=\\\"valid\\\",\\n            kernel_size=1,\\n            strides=1,\\n            name=name + \\\"lconv\\\",\\n            use_bias=False,\\n            activation=None,\\n        )(x_layer)\\n        x_layer = BatchNormalization(name=name + \\\"nb\\\")(x_layer)\\n        x_layer = Activation(activation, name=name + \\\"activation\\\")(x_layer)\\n\\n    nb_filters = lconv_dim[-1] if len(lconv_dim) > 0 else conv_dim[-1]\\n    x_layer = Reshape((input_dim * nb_filters,), name=\\\"reshape\\\")(x_layer)\\n    x_layer = Dense(1, activation=\\\"sigmoid\\\", name=\\\"output\\\")(x_layer)\\n\\n    model = Model(inputs=[input_layer], outputs=[x_layer], name=\\\"first_model\\\")\\n    model.compile(loss=\\\"binary_crossentropy\\\", optimizer=optimizer)\\n\\n    return model\";\n",
       "                var nbb_cells = Jupyter.notebook.get_cells();\n",
       "                for (var i = 0; i < nbb_cells.length; ++i) {\n",
       "                    if (nbb_cells[i].input_prompt_number == nbb_cell_id) {\n",
       "                        if (nbb_cells[i].get_text() == nbb_unformatted_code) {\n",
       "                             nbb_cells[i].set_text(nbb_formatted_code);\n",
       "                        }\n",
       "                        break;\n",
       "                    }\n",
       "                }\n",
       "            }, 500);\n",
       "            "
      ],
      "text/plain": [
       "<IPython.core.display.Javascript object>"
      ]
     },
     "metadata": {},
     "output_type": "display_data"
    }
   ],
   "source": [
    "def build_model(input_dim, nb_channels, conv_dim=[], lconv_dim=[]):\n",
    "    activation = mish\n",
    "    optimizer = Lookahead(RectifiedAdam(1e-3), sync_period=6, slow_step_size=0.5)\n",
    "\n",
    "    input_layer = Input(shape=(input_dim, nb_channels), name=\"input\")\n",
    "    x_layer = input_layer\n",
    "    for i, conv_layer in enumerate(conv_dim):\n",
    "        name = f\"block_conv_{i}_\"\n",
    "        x_layer = Conv1D(\n",
    "            filters=conv_layer,\n",
    "            padding=\"valid\",\n",
    "            kernel_size=1,\n",
    "            strides=1,\n",
    "            name=name + \"conv\",\n",
    "            use_bias=False,\n",
    "            activation=None,\n",
    "        )(x_layer)\n",
    "        x_layer = BatchNormalization(name=name + \"nb\")(x_layer)\n",
    "        x_layer = Activation(activation, name=name + \"activation\")(x_layer)\n",
    "\n",
    "    for i, lconv_layer in enumerate(lconv_dim):\n",
    "        name = f\"block_lconv_{i}_\"\n",
    "        x_layer = LocallyConnected1D(\n",
    "            filters=lconv_layer,\n",
    "            padding=\"valid\",\n",
    "            kernel_size=1,\n",
    "            strides=1,\n",
    "            name=name + \"lconv\",\n",
    "            use_bias=False,\n",
    "            activation=None,\n",
    "        )(x_layer)\n",
    "        x_layer = BatchNormalization(name=name + \"nb\")(x_layer)\n",
    "        x_layer = Activation(activation, name=name + \"activation\")(x_layer)\n",
    "\n",
    "    nb_filters = lconv_dim[-1] if len(lconv_dim) > 0 else conv_dim[-1]\n",
    "    x_layer = Reshape((input_dim * nb_filters,), name=\"reshape\")(x_layer)\n",
    "    x_layer = Dense(1, activation=\"sigmoid\", name=\"output\")(x_layer)\n",
    "\n",
    "    model = Model(inputs=[input_layer], outputs=[x_layer], name=\"first_model\")\n",
    "    model.compile(loss=\"binary_crossentropy\", optimizer=optimizer)\n",
    "\n",
    "    return model"
   ]
  },
  {
   "cell_type": "code",
   "execution_count": 22,
   "metadata": {
    "ExecuteTime": {
     "end_time": "2020-05-25T21:00:00.979562Z",
     "start_time": "2020-05-25T21:00:00.062758Z"
    }
   },
   "outputs": [
    {
     "data": {
      "application/javascript": [
       "\n",
       "            setTimeout(function() {\n",
       "                var nbb_cell_id = 22;\n",
       "                var nbb_unformatted_code = \"model = build_model(INPUT_DIM, NB_CHANNELS, conv_dim=[64], lconv_dim=[128, 64, 32])\";\n",
       "                var nbb_formatted_code = \"model = build_model(INPUT_DIM, NB_CHANNELS, conv_dim=[64], lconv_dim=[128, 64, 32])\";\n",
       "                var nbb_cells = Jupyter.notebook.get_cells();\n",
       "                for (var i = 0; i < nbb_cells.length; ++i) {\n",
       "                    if (nbb_cells[i].input_prompt_number == nbb_cell_id) {\n",
       "                        if (nbb_cells[i].get_text() == nbb_unformatted_code) {\n",
       "                             nbb_cells[i].set_text(nbb_formatted_code);\n",
       "                        }\n",
       "                        break;\n",
       "                    }\n",
       "                }\n",
       "            }, 500);\n",
       "            "
      ],
      "text/plain": [
       "<IPython.core.display.Javascript object>"
      ]
     },
     "metadata": {},
     "output_type": "display_data"
    }
   ],
   "source": [
    "model = build_model(INPUT_DIM, NB_CHANNELS, conv_dim=[64], lconv_dim=[128, 64, 32])"
   ]
  },
  {
   "cell_type": "code",
   "execution_count": 23,
   "metadata": {
    "ExecuteTime": {
     "end_time": "2020-05-25T21:00:00.994383Z",
     "start_time": "2020-05-25T21:00:00.981768Z"
    }
   },
   "outputs": [
    {
     "name": "stdout",
     "output_type": "stream",
     "text": [
      "Model: \"first_model\"\n",
      "_________________________________________________________________\n",
      "Layer (type)                 Output Shape              Param #   \n",
      "=================================================================\n",
      "input (InputLayer)           [(None, 14, 26)]          0         \n",
      "_________________________________________________________________\n",
      "block_conv_0_conv (Conv1D)   (None, 14, 64)            1664      \n",
      "_________________________________________________________________\n",
      "block_conv_0_nb (BatchNormal (None, 14, 64)            256       \n",
      "_________________________________________________________________\n",
      "block_conv_0_activation (Act (None, 14, 64)            0         \n",
      "_________________________________________________________________\n",
      "block_lconv_0_lconv (Locally (None, 14, 128)           114688    \n",
      "_________________________________________________________________\n",
      "block_lconv_0_nb (BatchNorma (None, 14, 128)           512       \n",
      "_________________________________________________________________\n",
      "block_lconv_0_activation (Ac (None, 14, 128)           0         \n",
      "_________________________________________________________________\n",
      "block_lconv_1_lconv (Locally (None, 14, 64)            114688    \n",
      "_________________________________________________________________\n",
      "block_lconv_1_nb (BatchNorma (None, 14, 64)            256       \n",
      "_________________________________________________________________\n",
      "block_lconv_1_activation (Ac (None, 14, 64)            0         \n",
      "_________________________________________________________________\n",
      "block_lconv_2_lconv (Locally (None, 14, 32)            28672     \n",
      "_________________________________________________________________\n",
      "block_lconv_2_nb (BatchNorma (None, 14, 32)            128       \n",
      "_________________________________________________________________\n",
      "block_lconv_2_activation (Ac (None, 14, 32)            0         \n",
      "_________________________________________________________________\n",
      "reshape (Reshape)            (None, 448)               0         \n",
      "_________________________________________________________________\n",
      "output (Dense)               (None, 1)                 449       \n",
      "=================================================================\n",
      "Total params: 261,313\n",
      "Trainable params: 260,737\n",
      "Non-trainable params: 576\n",
      "_________________________________________________________________\n"
     ]
    },
    {
     "data": {
      "application/javascript": [
       "\n",
       "            setTimeout(function() {\n",
       "                var nbb_cell_id = 23;\n",
       "                var nbb_unformatted_code = \"model.summary()\";\n",
       "                var nbb_formatted_code = \"model.summary()\";\n",
       "                var nbb_cells = Jupyter.notebook.get_cells();\n",
       "                for (var i = 0; i < nbb_cells.length; ++i) {\n",
       "                    if (nbb_cells[i].input_prompt_number == nbb_cell_id) {\n",
       "                        if (nbb_cells[i].get_text() == nbb_unformatted_code) {\n",
       "                             nbb_cells[i].set_text(nbb_formatted_code);\n",
       "                        }\n",
       "                        break;\n",
       "                    }\n",
       "                }\n",
       "            }, 500);\n",
       "            "
      ],
      "text/plain": [
       "<IPython.core.display.Javascript object>"
      ]
     },
     "metadata": {},
     "output_type": "display_data"
    }
   ],
   "source": [
    "model.summary()"
   ]
  },
  {
   "cell_type": "code",
   "execution_count": 24,
   "metadata": {
    "ExecuteTime": {
     "end_time": "2020-05-25T21:00:01.114121Z",
     "start_time": "2020-05-25T21:00:00.997404Z"
    }
   },
   "outputs": [
    {
     "data": {
      "text/plain": [
       "(26072,)"
      ]
     },
     "execution_count": 24,
     "metadata": {},
     "output_type": "execute_result"
    },
    {
     "data": {
      "application/javascript": [
       "\n",
       "            setTimeout(function() {\n",
       "                var nbb_cell_id = 24;\n",
       "                var nbb_unformatted_code = \"y_train.shape\";\n",
       "                var nbb_formatted_code = \"y_train.shape\";\n",
       "                var nbb_cells = Jupyter.notebook.get_cells();\n",
       "                for (var i = 0; i < nbb_cells.length; ++i) {\n",
       "                    if (nbb_cells[i].input_prompt_number == nbb_cell_id) {\n",
       "                        if (nbb_cells[i].get_text() == nbb_unformatted_code) {\n",
       "                             nbb_cells[i].set_text(nbb_formatted_code);\n",
       "                        }\n",
       "                        break;\n",
       "                    }\n",
       "                }\n",
       "            }, 500);\n",
       "            "
      ],
      "text/plain": [
       "<IPython.core.display.Javascript object>"
      ]
     },
     "metadata": {},
     "output_type": "display_data"
    }
   ],
   "source": [
    "y_train.shape"
   ]
  },
  {
   "cell_type": "code",
   "execution_count": 25,
   "metadata": {
    "ExecuteTime": {
     "end_time": "2020-05-25T21:00:07.717722Z",
     "start_time": "2020-05-25T21:00:01.118492Z"
    }
   },
   "outputs": [
    {
     "name": "stdout",
     "output_type": "stream",
     "text": [
      "Epoch 1/2000\n"
     ]
    },
    {
     "name": "stderr",
     "output_type": "stream",
     "text": [
      "WARNING:tensorflow:From /work/.cache/poetry/thc-net-KQLMmzPP-py3.7/lib/python3.7/site-packages/tensorflow/python/ops/resource_variable_ops.py:1817: calling BaseResourceVariable.__init__ (from tensorflow.python.ops.resource_variable_ops) with constraint is deprecated and will be removed in a future version.\n",
      "Instructions for updating:\n",
      "If using Keras pass *_constraint arguments to layers.\n"
     ]
    },
    {
     "name": "stdout",
     "output_type": "stream",
     "text": [
      "26/26 [==============================] - 6s 232ms/step - loss: 0.5426 - val_loss: 0.6850\n",
      "Epoch 2/2000\n",
      "26/26 [==============================] - 5s 205ms/step - loss: 0.3813 - val_loss: 0.6861\n",
      "Epoch 3/2000\n",
      "26/26 [==============================] - 5s 196ms/step - loss: 0.3558 - val_loss: 0.6881\n",
      "Epoch 4/2000\n",
      "26/26 [==============================] - 5s 203ms/step - loss: 0.3451 - val_loss: 0.6893\n",
      "Epoch 5/2000\n",
      "26/26 [==============================] - 5s 195ms/step - loss: 0.3415 - val_loss: 0.6888\n",
      "Epoch 6/2000\n",
      "26/26 [==============================] - 5s 201ms/step - loss: 0.3392 - val_loss: 0.6885\n",
      "Epoch 7/2000\n",
      "26/26 [==============================] - 5s 197ms/step - loss: 0.3365 - val_loss: 0.6860\n",
      "Epoch 8/2000\n",
      "26/26 [==============================] - 5s 200ms/step - loss: 0.3345 - val_loss: 0.6771\n",
      "Epoch 9/2000\n",
      "26/26 [==============================] - 5s 196ms/step - loss: 0.3345 - val_loss: 0.6625\n",
      "Epoch 10/2000\n",
      "26/26 [==============================] - 5s 206ms/step - loss: 0.3316 - val_loss: 0.6493\n",
      "Epoch 11/2000\n",
      "26/26 [==============================] - 5s 202ms/step - loss: 0.3326 - val_loss: 0.5982\n",
      "Epoch 12/2000\n",
      "26/26 [==============================] - 5s 198ms/step - loss: 0.3291 - val_loss: 0.5782\n",
      "Epoch 13/2000\n",
      "26/26 [==============================] - 5s 198ms/step - loss: 0.3269 - val_loss: 0.5281\n",
      "Epoch 14/2000\n",
      "26/26 [==============================] - 5s 195ms/step - loss: 0.3273 - val_loss: 0.5342\n",
      "Epoch 15/2000\n",
      "26/26 [==============================] - 5s 194ms/step - loss: 0.3252 - val_loss: 0.4678\n",
      "Epoch 16/2000\n",
      "26/26 [==============================] - 5s 200ms/step - loss: 0.3200 - val_loss: 0.4628\n",
      "Epoch 17/2000\n",
      "26/26 [==============================] - 5s 202ms/step - loss: 0.3187 - val_loss: 0.4963\n",
      "Epoch 18/2000\n",
      "26/26 [==============================] - 6s 212ms/step - loss: 0.3172 - val_loss: 0.4016\n",
      "Epoch 19/2000\n",
      "26/26 [==============================] - 5s 199ms/step - loss: 0.3139 - val_loss: 0.4071\n",
      "Epoch 20/2000\n",
      "26/26 [==============================] - 5s 195ms/step - loss: 0.3117 - val_loss: 0.4728\n",
      "Epoch 21/2000\n",
      "26/26 [==============================] - 5s 201ms/step - loss: 0.3114 - val_loss: 0.3818\n",
      "Epoch 22/2000\n",
      "26/26 [==============================] - 5s 204ms/step - loss: 0.3102 - val_loss: 0.4004\n",
      "Epoch 23/2000\n",
      "26/26 [==============================] - 5s 202ms/step - loss: 0.3071 - val_loss: 0.4492\n",
      "Epoch 24/2000\n",
      "26/26 [==============================] - 5s 198ms/step - loss: 0.3078 - val_loss: 0.4028\n",
      "Epoch 25/2000\n",
      "26/26 [==============================] - 5s 202ms/step - loss: 0.3101 - val_loss: 0.3613\n",
      "Epoch 26/2000\n",
      "26/26 [==============================] - 5s 200ms/step - loss: 0.3072 - val_loss: 0.4012\n",
      "Epoch 27/2000\n",
      "26/26 [==============================] - 5s 199ms/step - loss: 0.3057 - val_loss: 0.3565\n",
      "Epoch 28/2000\n",
      "26/26 [==============================] - 5s 198ms/step - loss: 0.3044 - val_loss: 0.3286\n",
      "Epoch 29/2000\n",
      "26/26 [==============================] - 5s 200ms/step - loss: 0.3059 - val_loss: 0.3435\n",
      "Epoch 30/2000\n",
      "26/26 [==============================] - 5s 205ms/step - loss: 0.3035 - val_loss: 0.3339\n",
      "Epoch 31/2000\n",
      "26/26 [==============================] - 5s 204ms/step - loss: 0.3038 - val_loss: 0.3597\n",
      "Epoch 32/2000\n",
      "26/26 [==============================] - 5s 203ms/step - loss: 0.3036 - val_loss: 0.3353\n",
      "Epoch 33/2000\n",
      "26/26 [==============================] - 5s 204ms/step - loss: 0.3016 - val_loss: 0.3387\n",
      "Epoch 34/2000\n",
      "26/26 [==============================] - 5s 198ms/step - loss: 0.3016 - val_loss: 0.3133\n",
      "Epoch 35/2000\n",
      "26/26 [==============================] - 5s 208ms/step - loss: 0.3063 - val_loss: 0.3133\n",
      "Epoch 36/2000\n",
      "26/26 [==============================] - 5s 204ms/step - loss: 0.3013 - val_loss: 0.3369\n",
      "Epoch 37/2000\n",
      "26/26 [==============================] - 5s 197ms/step - loss: 0.3030 - val_loss: 0.3184\n",
      "Epoch 38/2000\n",
      "26/26 [==============================] - 5s 201ms/step - loss: 0.3024 - val_loss: 0.3145\n",
      "Epoch 39/2000\n",
      "26/26 [==============================] - 5s 195ms/step - loss: 0.3002 - val_loss: 0.3242\n",
      "Epoch 40/2000\n",
      "26/26 [==============================] - 5s 195ms/step - loss: 0.3005 - val_loss: 0.3265\n",
      "Epoch 41/2000\n",
      "26/26 [==============================] - 5s 206ms/step - loss: 0.3014 - val_loss: 0.3293\n",
      "Epoch 42/2000\n",
      "26/26 [==============================] - 5s 193ms/step - loss: 0.3034 - val_loss: 0.3263\n",
      "Epoch 43/2000\n",
      "26/26 [==============================] - 5s 200ms/step - loss: 0.3018 - val_loss: 0.3034\n",
      "Epoch 44/2000\n",
      "26/26 [==============================] - 5s 207ms/step - loss: 0.3013 - val_loss: 0.3115\n",
      "Epoch 45/2000\n",
      "26/26 [==============================] - 6s 220ms/step - loss: 0.3015 - val_loss: 0.3090\n",
      "Epoch 46/2000\n",
      "26/26 [==============================] - 5s 200ms/step - loss: 0.2994 - val_loss: 0.3433\n",
      "Epoch 47/2000\n",
      "26/26 [==============================] - 6s 239ms/step - loss: 0.2987 - val_loss: 0.3093\n",
      "Epoch 48/2000\n",
      "26/26 [==============================] - 6s 238ms/step - loss: 0.3020 - val_loss: 0.3102\n",
      "Epoch 49/2000\n",
      "26/26 [==============================] - 6s 212ms/step - loss: 0.3011 - val_loss: 0.3019\n",
      "Epoch 50/2000\n",
      "26/26 [==============================] - 5s 208ms/step - loss: 0.3004 - val_loss: 0.3400\n",
      "Epoch 51/2000\n",
      "26/26 [==============================] - 5s 201ms/step - loss: 0.2986 - val_loss: 0.3100\n",
      "Epoch 52/2000\n",
      "26/26 [==============================] - 5s 204ms/step - loss: 0.2972 - val_loss: 0.3153\n",
      "Epoch 53/2000\n",
      "26/26 [==============================] - 5s 204ms/step - loss: 0.2980 - val_loss: 0.3013\n",
      "Epoch 54/2000\n",
      "26/26 [==============================] - 5s 199ms/step - loss: 0.2979 - val_loss: 0.3130\n",
      "Epoch 55/2000\n",
      "26/26 [==============================] - 5s 194ms/step - loss: 0.2979 - val_loss: 0.3017\n",
      "Epoch 56/2000\n",
      "26/26 [==============================] - 5s 196ms/step - loss: 0.2978 - val_loss: 0.2966\n",
      "Epoch 57/2000\n",
      "26/26 [==============================] - 5s 203ms/step - loss: 0.2981 - val_loss: 0.2984\n",
      "Epoch 58/2000\n",
      "26/26 [==============================] - 5s 203ms/step - loss: 0.2972 - val_loss: 0.3108\n",
      "Epoch 59/2000\n",
      "26/26 [==============================] - 5s 195ms/step - loss: 0.2976 - val_loss: 0.3046\n",
      "Epoch 60/2000\n",
      "26/26 [==============================] - 6s 223ms/step - loss: 0.2985 - val_loss: 0.3062\n",
      "Epoch 61/2000\n",
      "26/26 [==============================] - 7s 264ms/step - loss: 0.2963 - val_loss: 0.3176\n",
      "Epoch 62/2000\n",
      "26/26 [==============================] - 5s 203ms/step - loss: 0.2980 - val_loss: 0.3207\n",
      "Epoch 63/2000\n",
      "26/26 [==============================] - 5s 201ms/step - loss: 0.2965 - val_loss: 0.3093\n",
      "Epoch 64/2000\n",
      "26/26 [==============================] - 5s 203ms/step - loss: 0.2956 - val_loss: 0.3100\n",
      "Epoch 65/2000\n",
      "26/26 [==============================] - 5s 199ms/step - loss: 0.2954 - val_loss: 0.3120\n",
      "Epoch 66/2000\n",
      "26/26 [==============================] - 5s 201ms/step - loss: 0.2951 - val_loss: 0.3044\n",
      "Epoch 67/2000\n",
      "26/26 [==============================] - 5s 210ms/step - loss: 0.2953 - val_loss: 0.3145\n",
      "Epoch 68/2000\n",
      "26/26 [==============================] - 5s 200ms/step - loss: 0.2958 - val_loss: 0.2966\n",
      "Epoch 69/2000\n",
      "26/26 [==============================] - 5s 202ms/step - loss: 0.2945 - val_loss: 0.3086\n",
      "Epoch 70/2000\n",
      "26/26 [==============================] - 5s 194ms/step - loss: 0.2942 - val_loss: 0.3232\n",
      "Epoch 71/2000\n",
      "26/26 [==============================] - 5s 200ms/step - loss: 0.2968 - val_loss: 0.2961\n",
      "Epoch 72/2000\n",
      "26/26 [==============================] - 5s 199ms/step - loss: 0.2950 - val_loss: 0.3007\n",
      "Epoch 73/2000\n",
      "26/26 [==============================] - 5s 198ms/step - loss: 0.2956 - val_loss: 0.2957\n",
      "Epoch 74/2000\n",
      "26/26 [==============================] - 5s 206ms/step - loss: 0.2933 - val_loss: 0.2981\n",
      "Epoch 75/2000\n",
      "26/26 [==============================] - 5s 206ms/step - loss: 0.2929 - val_loss: 0.2958\n",
      "Epoch 76/2000\n",
      "26/26 [==============================] - 5s 202ms/step - loss: 0.2936 - val_loss: 0.3016\n",
      "Epoch 77/2000\n",
      "26/26 [==============================] - 6s 249ms/step - loss: 0.2937 - val_loss: 0.3256\n",
      "Epoch 78/2000\n",
      "26/26 [==============================] - 5s 201ms/step - loss: 0.2944 - val_loss: 0.3000\n",
      "Epoch 79/2000\n",
      "26/26 [==============================] - 5s 204ms/step - loss: 0.2942 - val_loss: 0.2978\n",
      "Epoch 80/2000\n",
      "26/26 [==============================] - 5s 201ms/step - loss: 0.2929 - val_loss: 0.3084\n"
     ]
    },
    {
     "name": "stdout",
     "output_type": "stream",
     "text": [
      "Epoch 81/2000\n",
      "26/26 [==============================] - 5s 197ms/step - loss: 0.2957 - val_loss: 0.3039\n",
      "Epoch 82/2000\n",
      "26/26 [==============================] - 5s 202ms/step - loss: 0.2917 - val_loss: 0.3080\n",
      "Epoch 83/2000\n",
      "26/26 [==============================] - 5s 200ms/step - loss: 0.2922 - val_loss: 0.3004\n",
      "Epoch 84/2000\n",
      "26/26 [==============================] - 5s 200ms/step - loss: 0.2932 - val_loss: 0.2935\n",
      "Epoch 85/2000\n",
      "26/26 [==============================] - 5s 195ms/step - loss: 0.2927 - val_loss: 0.2907\n",
      "Epoch 86/2000\n",
      "26/26 [==============================] - 5s 204ms/step - loss: 0.2933 - val_loss: 0.3066\n",
      "Epoch 87/2000\n",
      "26/26 [==============================] - 5s 199ms/step - loss: 0.2934 - val_loss: 0.2993\n",
      "Epoch 88/2000\n",
      "26/26 [==============================] - 5s 200ms/step - loss: 0.2915 - val_loss: 0.3177\n",
      "Epoch 89/2000\n",
      "26/26 [==============================] - 5s 198ms/step - loss: 0.2903 - val_loss: 0.2987\n",
      "Epoch 90/2000\n",
      "26/26 [==============================] - 5s 205ms/step - loss: 0.2915 - val_loss: 0.2981\n",
      "Epoch 91/2000\n",
      "26/26 [==============================] - 5s 207ms/step - loss: 0.2912 - val_loss: 0.2934\n",
      "Epoch 92/2000\n",
      "26/26 [==============================] - 5s 199ms/step - loss: 0.2917 - val_loss: 0.2944\n",
      "Epoch 93/2000\n",
      "26/26 [==============================] - 5s 201ms/step - loss: 0.2965 - val_loss: 0.2966\n",
      "Epoch 94/2000\n",
      "26/26 [==============================] - 5s 197ms/step - loss: 0.2953 - val_loss: 0.2952\n",
      "Epoch 95/2000\n",
      "26/26 [==============================] - 5s 196ms/step - loss: 0.2958 - val_loss: 0.2973\n",
      "Epoch 96/2000\n",
      "26/26 [==============================] - 5s 199ms/step - loss: 0.2927 - val_loss: 0.3029\n",
      "Epoch 97/2000\n",
      "26/26 [==============================] - 5s 207ms/step - loss: 0.2945 - val_loss: 0.3074\n",
      "Epoch 98/2000\n",
      "26/26 [==============================] - 5s 204ms/step - loss: 0.2939 - val_loss: 0.2941\n",
      "Epoch 99/2000\n",
      "26/26 [==============================] - 5s 196ms/step - loss: 0.2928 - val_loss: 0.2939\n",
      "Epoch 100/2000\n",
      "26/26 [==============================] - 5s 196ms/step - loss: 0.2906 - val_loss: 0.2946\n",
      "Epoch 101/2000\n",
      "26/26 [==============================] - 5s 196ms/step - loss: 0.2903 - val_loss: 0.3083\n",
      "Epoch 102/2000\n",
      "26/26 [==============================] - 5s 194ms/step - loss: 0.2906 - val_loss: 0.2958\n",
      "Epoch 103/2000\n",
      "26/26 [==============================] - 5s 198ms/step - loss: 0.2945 - val_loss: 0.2974\n",
      "Epoch 104/2000\n",
      "26/26 [==============================] - 5s 200ms/step - loss: 0.2924 - val_loss: 0.3032\n",
      "Epoch 105/2000\n",
      "26/26 [==============================] - 5s 211ms/step - loss: 0.2910 - val_loss: 0.2965\n",
      "Epoch 106/2000\n",
      "26/26 [==============================] - 5s 195ms/step - loss: 0.2916 - val_loss: 0.2938\n",
      "Epoch 107/2000\n",
      "26/26 [==============================] - 5s 197ms/step - loss: 0.2911 - val_loss: 0.2985\n",
      "Epoch 108/2000\n",
      "26/26 [==============================] - 5s 204ms/step - loss: 0.2933 - val_loss: 0.2976\n",
      "Epoch 109/2000\n",
      "26/26 [==============================] - 5s 204ms/step - loss: 0.2905 - val_loss: 0.2980\n",
      "Epoch 110/2000\n",
      "26/26 [==============================] - 5s 204ms/step - loss: 0.2894 - val_loss: 0.3051\n",
      "Epoch 111/2000\n",
      "26/26 [==============================] - 5s 202ms/step - loss: 0.2926 - val_loss: 0.2928\n",
      "Epoch 112/2000\n",
      "26/26 [==============================] - 5s 203ms/step - loss: 0.2885 - val_loss: 0.2963\n",
      "Epoch 113/2000\n",
      "26/26 [==============================] - 5s 203ms/step - loss: 0.2888 - val_loss: 0.3069\n",
      "Epoch 114/2000\n",
      "26/26 [==============================] - 5s 201ms/step - loss: 0.2888 - val_loss: 0.3018\n",
      "Epoch 115/2000\n",
      "26/26 [==============================] - 5s 208ms/step - loss: 0.2884 - val_loss: 0.2920\n",
      "Epoch 116/2000\n",
      "26/26 [==============================] - 5s 210ms/step - loss: 0.2885 - val_loss: 0.2958\n",
      "Epoch 117/2000\n",
      "26/26 [==============================] - 5s 205ms/step - loss: 0.2896 - val_loss: 0.2924\n",
      "Epoch 118/2000\n",
      "26/26 [==============================] - 5s 195ms/step - loss: 0.2884 - val_loss: 0.2978\n",
      "Epoch 119/2000\n",
      "26/26 [==============================] - 5s 202ms/step - loss: 0.2871 - val_loss: 0.2950\n",
      "Epoch 120/2000\n",
      "26/26 [==============================] - 5s 201ms/step - loss: 0.2877 - val_loss: 0.2970\n",
      "Epoch 121/2000\n",
      "26/26 [==============================] - 5s 202ms/step - loss: 0.2878 - val_loss: 0.2916\n",
      "Epoch 122/2000\n",
      "26/26 [==============================] - 5s 200ms/step - loss: 0.2873 - val_loss: 0.3023\n",
      "Epoch 123/2000\n",
      "26/26 [==============================] - 5s 200ms/step - loss: 0.2885 - val_loss: 0.2984\n",
      "Epoch 124/2000\n",
      "26/26 [==============================] - 5s 201ms/step - loss: 0.2896 - val_loss: 0.3062\n",
      "Epoch 125/2000\n",
      "26/26 [==============================] - 5s 201ms/step - loss: 0.2886 - val_loss: 0.3053\n",
      "Epoch 126/2000\n",
      "26/26 [==============================] - 5s 199ms/step - loss: 0.2907 - val_loss: 0.2892\n",
      "Epoch 127/2000\n",
      "26/26 [==============================] - 5s 200ms/step - loss: 0.2892 - val_loss: 0.3080\n",
      "Epoch 128/2000\n",
      "26/26 [==============================] - 5s 206ms/step - loss: 0.2882 - val_loss: 0.2927\n",
      "Epoch 129/2000\n",
      "26/26 [==============================] - 5s 207ms/step - loss: 0.2859 - val_loss: 0.2950\n",
      "Epoch 130/2000\n",
      "26/26 [==============================] - 5s 201ms/step - loss: 0.2853 - val_loss: 0.3081\n",
      "Epoch 131/2000\n",
      "26/26 [==============================] - 5s 202ms/step - loss: 0.2856 - val_loss: 0.2961\n",
      "Epoch 132/2000\n",
      "26/26 [==============================] - 5s 204ms/step - loss: 0.2857 - val_loss: 0.2917\n",
      "Epoch 133/2000\n",
      "26/26 [==============================] - 5s 200ms/step - loss: 0.2873 - val_loss: 0.3001\n",
      "Epoch 134/2000\n",
      "26/26 [==============================] - 6s 216ms/step - loss: 0.2854 - val_loss: 0.3091\n",
      "Epoch 135/2000\n",
      "26/26 [==============================] - 5s 194ms/step - loss: 0.2869 - val_loss: 0.2939\n",
      "Epoch 136/2000\n",
      "26/26 [==============================] - 5s 196ms/step - loss: 0.2851 - val_loss: 0.2925\n",
      "Epoch 137/2000\n",
      "26/26 [==============================] - 5s 198ms/step - loss: 0.2861 - val_loss: 0.2973\n",
      "Epoch 138/2000\n",
      "26/26 [==============================] - 5s 198ms/step - loss: 0.2867 - val_loss: 0.3009\n",
      "Epoch 139/2000\n",
      "26/26 [==============================] - 5s 202ms/step - loss: 0.2853 - val_loss: 0.2886\n",
      "Epoch 140/2000\n",
      "26/26 [==============================] - 5s 195ms/step - loss: 0.2856 - val_loss: 0.3167\n",
      "Epoch 141/2000\n",
      "26/26 [==============================] - 5s 206ms/step - loss: 0.2848 - val_loss: 0.2928\n",
      "Epoch 142/2000\n",
      "26/26 [==============================] - 5s 198ms/step - loss: 0.2846 - val_loss: 0.2894\n",
      "Epoch 143/2000\n",
      "26/26 [==============================] - 5s 204ms/step - loss: 0.2842 - val_loss: 0.2924\n",
      "Epoch 144/2000\n",
      "26/26 [==============================] - 5s 204ms/step - loss: 0.2854 - val_loss: 0.2878\n",
      "Epoch 145/2000\n",
      "26/26 [==============================] - 5s 208ms/step - loss: 0.2838 - val_loss: 0.2969\n",
      "Epoch 146/2000\n",
      "26/26 [==============================] - 5s 198ms/step - loss: 0.2827 - val_loss: 0.2947\n",
      "Epoch 147/2000\n",
      "26/26 [==============================] - 5s 200ms/step - loss: 0.2852 - val_loss: 0.2889\n",
      "Epoch 148/2000\n",
      "26/26 [==============================] - 5s 198ms/step - loss: 0.2836 - val_loss: 0.3003\n",
      "Epoch 149/2000\n",
      "26/26 [==============================] - 5s 206ms/step - loss: 0.2855 - val_loss: 0.2984\n",
      "Epoch 150/2000\n",
      "26/26 [==============================] - 5s 205ms/step - loss: 0.2845 - val_loss: 0.3032\n",
      "Epoch 151/2000\n",
      "26/26 [==============================] - 5s 202ms/step - loss: 0.2882 - val_loss: 0.2998\n",
      "Epoch 152/2000\n",
      "26/26 [==============================] - 5s 208ms/step - loss: 0.2838 - val_loss: 0.2856\n",
      "Epoch 153/2000\n",
      "26/26 [==============================] - 5s 198ms/step - loss: 0.2835 - val_loss: 0.2889\n",
      "Epoch 154/2000\n",
      "26/26 [==============================] - 5s 206ms/step - loss: 0.2828 - val_loss: 0.2839\n",
      "Epoch 155/2000\n",
      "26/26 [==============================] - 5s 198ms/step - loss: 0.2843 - val_loss: 0.2883\n",
      "Epoch 156/2000\n",
      "26/26 [==============================] - 5s 202ms/step - loss: 0.2841 - val_loss: 0.2865\n",
      "Epoch 157/2000\n",
      "26/26 [==============================] - 5s 197ms/step - loss: 0.2841 - val_loss: 0.2908\n",
      "Epoch 158/2000\n",
      "26/26 [==============================] - 5s 195ms/step - loss: 0.2828 - val_loss: 0.2865\n",
      "Epoch 159/2000\n",
      "26/26 [==============================] - 5s 201ms/step - loss: 0.2833 - val_loss: 0.2864\n"
     ]
    },
    {
     "name": "stdout",
     "output_type": "stream",
     "text": [
      "Epoch 160/2000\n",
      "26/26 [==============================] - 5s 202ms/step - loss: 0.2825 - val_loss: 0.2871\n",
      "Epoch 161/2000\n",
      "26/26 [==============================] - 5s 194ms/step - loss: 0.2830 - val_loss: 0.2940\n",
      "Epoch 162/2000\n",
      "26/26 [==============================] - 5s 197ms/step - loss: 0.2832 - val_loss: 0.2848\n",
      "Epoch 163/2000\n",
      "26/26 [==============================] - 5s 204ms/step - loss: 0.2857 - val_loss: 0.2986\n",
      "Epoch 164/2000\n",
      "26/26 [==============================] - 5s 198ms/step - loss: 0.2835 - val_loss: 0.3006\n",
      "Epoch 165/2000\n",
      "26/26 [==============================] - 5s 204ms/step - loss: 0.2836 - val_loss: 0.2918\n",
      "Epoch 166/2000\n",
      "26/26 [==============================] - 5s 198ms/step - loss: 0.2843 - val_loss: 0.2895\n",
      "Epoch 167/2000\n",
      "26/26 [==============================] - 5s 199ms/step - loss: 0.2821 - val_loss: 0.2916\n",
      "Epoch 168/2000\n",
      "26/26 [==============================] - 5s 198ms/step - loss: 0.2828 - val_loss: 0.2853\n",
      "Epoch 169/2000\n",
      "26/26 [==============================] - 5s 208ms/step - loss: 0.2826 - val_loss: 0.2884\n",
      "Epoch 170/2000\n",
      "26/26 [==============================] - 5s 200ms/step - loss: 0.2831 - val_loss: 0.2877\n",
      "Epoch 171/2000\n",
      "26/26 [==============================] - 5s 205ms/step - loss: 0.2819 - val_loss: 0.2875\n",
      "Epoch 172/2000\n",
      "26/26 [==============================] - 5s 206ms/step - loss: 0.2813 - val_loss: 0.2933\n",
      "Epoch 173/2000\n",
      "26/26 [==============================] - 5s 201ms/step - loss: 0.2816 - val_loss: 0.2875\n",
      "Epoch 174/2000\n",
      "26/26 [==============================] - 5s 200ms/step - loss: 0.2807 - val_loss: 0.2829\n",
      "Epoch 175/2000\n",
      "26/26 [==============================] - 5s 198ms/step - loss: 0.2829 - val_loss: 0.2852\n",
      "Epoch 176/2000\n",
      "26/26 [==============================] - 5s 203ms/step - loss: 0.2837 - val_loss: 0.2858\n",
      "Epoch 177/2000\n",
      "26/26 [==============================] - 7s 254ms/step - loss: 0.2827 - val_loss: 0.2819\n",
      "Epoch 178/2000\n",
      "26/26 [==============================] - 7s 255ms/step - loss: 0.2821 - val_loss: 0.2867\n",
      "Epoch 179/2000\n",
      "26/26 [==============================] - 5s 201ms/step - loss: 0.2806 - val_loss: 0.2879\n",
      "Epoch 180/2000\n",
      "26/26 [==============================] - 5s 203ms/step - loss: 0.2855 - val_loss: 0.3022\n",
      "Epoch 181/2000\n",
      "26/26 [==============================] - 5s 197ms/step - loss: 0.2841 - val_loss: 0.2982\n",
      "Epoch 182/2000\n",
      "26/26 [==============================] - 5s 198ms/step - loss: 0.2817 - val_loss: 0.2921\n",
      "Epoch 183/2000\n",
      "26/26 [==============================] - 5s 199ms/step - loss: 0.2851 - val_loss: 0.2891\n",
      "Epoch 184/2000\n",
      "26/26 [==============================] - 5s 203ms/step - loss: 0.2803 - val_loss: 0.2878\n",
      "Epoch 185/2000\n",
      "26/26 [==============================] - 5s 208ms/step - loss: 0.2816 - val_loss: 0.2825\n",
      "Epoch 186/2000\n",
      "26/26 [==============================] - 5s 204ms/step - loss: 0.2817 - val_loss: 0.2850\n",
      "Epoch 187/2000\n",
      "26/26 [==============================] - 5s 200ms/step - loss: 0.2805 - val_loss: 0.2861\n",
      "Epoch 188/2000\n",
      "26/26 [==============================] - 5s 194ms/step - loss: 0.2806 - val_loss: 0.2888\n",
      "Epoch 189/2000\n",
      "26/26 [==============================] - 5s 204ms/step - loss: 0.2845 - val_loss: 0.3058\n",
      "Epoch 190/2000\n",
      "26/26 [==============================] - 5s 196ms/step - loss: 0.2815 - val_loss: 0.3008\n",
      "Epoch 191/2000\n",
      "26/26 [==============================] - 5s 199ms/step - loss: 0.2816 - val_loss: 0.2912\n",
      "Epoch 192/2000\n",
      "26/26 [==============================] - 5s 200ms/step - loss: 0.2814 - val_loss: 0.2893\n",
      "Epoch 193/2000\n",
      "26/26 [==============================] - 5s 202ms/step - loss: 0.2809 - val_loss: 0.2881\n",
      "Epoch 194/2000\n",
      "26/26 [==============================] - 5s 203ms/step - loss: 0.2798 - val_loss: 0.2904\n",
      "Epoch 195/2000\n",
      "26/26 [==============================] - 5s 201ms/step - loss: 0.2810 - val_loss: 0.2853\n",
      "Epoch 196/2000\n",
      "26/26 [==============================] - 5s 206ms/step - loss: 0.2798 - val_loss: 0.2875\n",
      "Epoch 197/2000\n",
      "26/26 [==============================] - 5s 196ms/step - loss: 0.2879 - val_loss: 0.2915\n",
      "Epoch 198/2000\n",
      "26/26 [==============================] - 5s 206ms/step - loss: 0.2838 - val_loss: 0.2850\n",
      "Epoch 199/2000\n",
      "26/26 [==============================] - 5s 196ms/step - loss: 0.2795 - val_loss: 0.2834\n",
      "Epoch 200/2000\n",
      "26/26 [==============================] - 5s 192ms/step - loss: 0.2802 - val_loss: 0.2854\n",
      "Epoch 201/2000\n",
      "26/26 [==============================] - 5s 200ms/step - loss: 0.2801 - val_loss: 0.2841\n",
      "Epoch 202/2000\n",
      "26/26 [==============================] - 5s 203ms/step - loss: 0.2796 - val_loss: 0.2857\n",
      "Epoch 203/2000\n",
      "26/26 [==============================] - 5s 194ms/step - loss: 0.2804 - val_loss: 0.2868\n",
      "Epoch 204/2000\n",
      "26/26 [==============================] - 5s 201ms/step - loss: 0.2792 - val_loss: 0.2836\n",
      "Epoch 205/2000\n",
      "26/26 [==============================] - 5s 207ms/step - loss: 0.2790 - val_loss: 0.2807\n",
      "Epoch 206/2000\n",
      "26/26 [==============================] - 5s 207ms/step - loss: 0.2793 - val_loss: 0.2883\n",
      "Epoch 207/2000\n",
      "26/26 [==============================] - 5s 209ms/step - loss: 0.2796 - val_loss: 0.2838\n",
      "Epoch 208/2000\n",
      "26/26 [==============================] - 5s 202ms/step - loss: 0.2779 - val_loss: 0.2819\n",
      "Epoch 209/2000\n",
      "26/26 [==============================] - 5s 200ms/step - loss: 0.2802 - val_loss: 0.2803\n",
      "Epoch 210/2000\n",
      "26/26 [==============================] - 5s 204ms/step - loss: 0.2787 - val_loss: 0.2825\n",
      "Epoch 211/2000\n",
      "26/26 [==============================] - 5s 200ms/step - loss: 0.2798 - val_loss: 0.2814\n",
      "Epoch 212/2000\n",
      "26/26 [==============================] - 5s 200ms/step - loss: 0.2803 - val_loss: 0.2819\n",
      "Epoch 213/2000\n",
      "26/26 [==============================] - 5s 207ms/step - loss: 0.2797 - val_loss: 0.2844\n",
      "Epoch 214/2000\n",
      "26/26 [==============================] - 5s 202ms/step - loss: 0.2776 - val_loss: 0.2797\n",
      "Epoch 215/2000\n",
      "26/26 [==============================] - 5s 201ms/step - loss: 0.2793 - val_loss: 0.2823\n",
      "Epoch 216/2000\n",
      "26/26 [==============================] - 5s 207ms/step - loss: 0.2797 - val_loss: 0.2805\n",
      "Epoch 217/2000\n",
      "26/26 [==============================] - 5s 194ms/step - loss: 0.2782 - val_loss: 0.2831\n",
      "Epoch 218/2000\n",
      "26/26 [==============================] - 5s 197ms/step - loss: 0.2772 - val_loss: 0.2807\n",
      "Epoch 219/2000\n",
      "26/26 [==============================] - 5s 198ms/step - loss: 0.2791 - val_loss: 0.2812\n",
      "Epoch 220/2000\n",
      "26/26 [==============================] - 5s 198ms/step - loss: 0.2779 - val_loss: 0.2875\n",
      "Epoch 221/2000\n",
      "26/26 [==============================] - 5s 202ms/step - loss: 0.2781 - val_loss: 0.2837\n",
      "Epoch 222/2000\n",
      "26/26 [==============================] - 5s 200ms/step - loss: 0.2771 - val_loss: 0.2790\n",
      "Epoch 223/2000\n",
      "26/26 [==============================] - 5s 203ms/step - loss: 0.2771 - val_loss: 0.2798\n",
      "Epoch 224/2000\n",
      "26/26 [==============================] - 5s 200ms/step - loss: 0.2774 - val_loss: 0.2829\n",
      "Epoch 225/2000\n",
      "26/26 [==============================] - 5s 190ms/step - loss: 0.2777 - val_loss: 0.2805\n",
      "Epoch 226/2000\n",
      "26/26 [==============================] - 5s 206ms/step - loss: 0.2767 - val_loss: 0.2823\n",
      "Epoch 227/2000\n",
      "26/26 [==============================] - 5s 195ms/step - loss: 0.2805 - val_loss: 0.2863\n",
      "Epoch 228/2000\n",
      "26/26 [==============================] - 5s 196ms/step - loss: 0.2781 - val_loss: 0.2787\n",
      "Epoch 229/2000\n",
      "26/26 [==============================] - 5s 205ms/step - loss: 0.2786 - val_loss: 0.2850\n",
      "Epoch 230/2000\n",
      "26/26 [==============================] - 5s 199ms/step - loss: 0.2781 - val_loss: 0.2857\n",
      "Epoch 231/2000\n",
      "26/26 [==============================] - 5s 197ms/step - loss: 0.2793 - val_loss: 0.2849\n",
      "Epoch 232/2000\n",
      "26/26 [==============================] - 5s 200ms/step - loss: 0.2795 - val_loss: 0.2853\n",
      "Epoch 233/2000\n",
      "26/26 [==============================] - 5s 203ms/step - loss: 0.2777 - val_loss: 0.2845\n",
      "Epoch 234/2000\n",
      "26/26 [==============================] - 5s 194ms/step - loss: 0.2774 - val_loss: 0.2798\n",
      "Epoch 235/2000\n",
      "26/26 [==============================] - 5s 190ms/step - loss: 0.2767 - val_loss: 0.2856\n",
      "Epoch 236/2000\n",
      "26/26 [==============================] - 5s 197ms/step - loss: 0.2762 - val_loss: 0.2838\n",
      "Epoch 237/2000\n",
      "26/26 [==============================] - 5s 191ms/step - loss: 0.2802 - val_loss: 0.2883\n",
      "Epoch 238/2000\n",
      "26/26 [==============================] - 5s 188ms/step - loss: 0.2768 - val_loss: 0.2886\n"
     ]
    },
    {
     "name": "stdout",
     "output_type": "stream",
     "text": [
      "Epoch 239/2000\n",
      "26/26 [==============================] - 5s 202ms/step - loss: 0.2755 - val_loss: 0.2843\n",
      "Epoch 240/2000\n",
      "26/26 [==============================] - 5s 198ms/step - loss: 0.2764 - val_loss: 0.2815\n",
      "Epoch 241/2000\n",
      "26/26 [==============================] - 5s 194ms/step - loss: 0.2759 - val_loss: 0.2795\n",
      "Epoch 242/2000\n",
      "26/26 [==============================] - 5s 206ms/step - loss: 0.2764 - val_loss: 0.2797\n",
      "Epoch 243/2000\n",
      "26/26 [==============================] - 5s 200ms/step - loss: 0.2764 - val_loss: 0.2807\n",
      "Epoch 244/2000\n",
      "26/26 [==============================] - 5s 197ms/step - loss: 0.2751 - val_loss: 0.2815\n",
      "Epoch 245/2000\n",
      "26/26 [==============================] - 5s 198ms/step - loss: 0.2768 - val_loss: 0.2959\n",
      "Epoch 246/2000\n",
      "26/26 [==============================] - 5s 196ms/step - loss: 0.2757 - val_loss: 0.2783\n",
      "Epoch 247/2000\n",
      "26/26 [==============================] - 5s 203ms/step - loss: 0.2752 - val_loss: 0.2795\n",
      "Epoch 248/2000\n",
      "26/26 [==============================] - 5s 195ms/step - loss: 0.2782 - val_loss: 0.2839\n",
      "Epoch 249/2000\n",
      "26/26 [==============================] - 5s 194ms/step - loss: 0.2769 - val_loss: 0.2795\n",
      "Epoch 250/2000\n",
      "26/26 [==============================] - 5s 199ms/step - loss: 0.2753 - val_loss: 0.2862\n",
      "Epoch 251/2000\n",
      "26/26 [==============================] - 5s 193ms/step - loss: 0.2755 - val_loss: 0.2813\n",
      "Epoch 252/2000\n",
      "26/26 [==============================] - 5s 195ms/step - loss: 0.2766 - val_loss: 0.2799\n",
      "Epoch 253/2000\n",
      "26/26 [==============================] - 5s 209ms/step - loss: 0.2762 - val_loss: 0.2805\n",
      "Epoch 254/2000\n",
      "26/26 [==============================] - 5s 195ms/step - loss: 0.2769 - val_loss: 0.2869\n",
      "Epoch 255/2000\n",
      "26/26 [==============================] - 5s 191ms/step - loss: 0.2752 - val_loss: 0.2802\n",
      "Epoch 256/2000\n",
      "26/26 [==============================] - 5s 187ms/step - loss: 0.2740 - val_loss: 0.2850\n",
      "Epoch 257/2000\n",
      "26/26 [==============================] - 5s 204ms/step - loss: 0.2755 - val_loss: 0.2907\n",
      "Epoch 258/2000\n",
      "26/26 [==============================] - 5s 199ms/step - loss: 0.2749 - val_loss: 0.2829\n",
      "Epoch 259/2000\n",
      "26/26 [==============================] - 5s 195ms/step - loss: 0.2768 - val_loss: 0.2825\n",
      "Epoch 260/2000\n",
      "26/26 [==============================] - 5s 200ms/step - loss: 0.2756 - val_loss: 0.2806\n",
      "Epoch 261/2000\n",
      "26/26 [==============================] - 5s 202ms/step - loss: 0.2749 - val_loss: 0.2835\n",
      "Epoch 262/2000\n",
      "26/26 [==============================] - 5s 194ms/step - loss: 0.2760 - val_loss: 0.2825\n",
      "Epoch 263/2000\n",
      "26/26 [==============================] - 5s 187ms/step - loss: 0.2742 - val_loss: 0.2838\n",
      "Epoch 264/2000\n",
      "26/26 [==============================] - 5s 200ms/step - loss: 0.2757 - val_loss: 0.2856\n",
      "Epoch 265/2000\n",
      "26/26 [==============================] - 5s 210ms/step - loss: 0.2742 - val_loss: 0.2786\n",
      "Epoch 266/2000\n",
      "26/26 [==============================] - 5s 208ms/step - loss: 0.2749 - val_loss: 0.2767\n",
      "Epoch 267/2000\n",
      "26/26 [==============================] - 5s 190ms/step - loss: 0.2751 - val_loss: 0.2772\n",
      "Epoch 268/2000\n",
      "26/26 [==============================] - 5s 197ms/step - loss: 0.2754 - val_loss: 0.2790\n",
      "Epoch 269/2000\n",
      "26/26 [==============================] - 5s 197ms/step - loss: 0.2745 - val_loss: 0.2815\n",
      "Epoch 270/2000\n",
      "26/26 [==============================] - 5s 197ms/step - loss: 0.2747 - val_loss: 0.2782\n",
      "Epoch 271/2000\n",
      "26/26 [==============================] - 5s 201ms/step - loss: 0.2729 - val_loss: 0.2787\n",
      "Epoch 272/2000\n",
      "26/26 [==============================] - 5s 201ms/step - loss: 0.2742 - val_loss: 0.2787\n",
      "Epoch 273/2000\n",
      "26/26 [==============================] - 5s 196ms/step - loss: 0.2744 - val_loss: 0.2792\n",
      "Epoch 274/2000\n",
      "26/26 [==============================] - 5s 199ms/step - loss: 0.2743 - val_loss: 0.2771\n",
      "Epoch 275/2000\n",
      "26/26 [==============================] - 5s 197ms/step - loss: 0.2732 - val_loss: 0.2781\n",
      "Epoch 276/2000\n",
      "26/26 [==============================] - 5s 197ms/step - loss: 0.2733 - val_loss: 0.2800\n",
      "Epoch 277/2000\n",
      "26/26 [==============================] - 5s 196ms/step - loss: 0.2746 - val_loss: 0.2959\n",
      "Epoch 278/2000\n",
      "26/26 [==============================] - 5s 197ms/step - loss: 0.2727 - val_loss: 0.2816\n",
      "Epoch 279/2000\n",
      "26/26 [==============================] - 5s 202ms/step - loss: 0.2753 - val_loss: 0.2841\n",
      "Epoch 280/2000\n",
      "26/26 [==============================] - 5s 210ms/step - loss: 0.2742 - val_loss: 0.2778\n",
      "Epoch 281/2000\n",
      "26/26 [==============================] - 5s 197ms/step - loss: 0.2730 - val_loss: 0.2785\n",
      "Epoch 282/2000\n",
      "26/26 [==============================] - 5s 199ms/step - loss: 0.2739 - val_loss: 0.2785\n",
      "Epoch 283/2000\n",
      "26/26 [==============================] - 5s 211ms/step - loss: 0.2733 - val_loss: 0.2786\n",
      "Epoch 284/2000\n",
      "26/26 [==============================] - 5s 206ms/step - loss: 0.2728 - val_loss: 0.2780\n",
      "Epoch 285/2000\n",
      "26/26 [==============================] - 5s 203ms/step - loss: 0.2731 - val_loss: 0.2793\n",
      "Epoch 286/2000\n",
      "26/26 [==============================] - 5s 205ms/step - loss: 0.2709 - val_loss: 0.2808\n",
      "Epoch 287/2000\n",
      "26/26 [==============================] - 5s 201ms/step - loss: 0.2739 - val_loss: 0.2877\n",
      "Epoch 288/2000\n",
      "26/26 [==============================] - 5s 199ms/step - loss: 0.2723 - val_loss: 0.2797\n",
      "Epoch 289/2000\n",
      "26/26 [==============================] - 5s 193ms/step - loss: 0.2732 - val_loss: 0.2839\n",
      "Epoch 290/2000\n",
      "26/26 [==============================] - 5s 205ms/step - loss: 0.2719 - val_loss: 0.2799\n",
      "Epoch 291/2000\n",
      "26/26 [==============================] - 5s 197ms/step - loss: 0.2742 - val_loss: 0.2824\n",
      "Epoch 292/2000\n",
      "26/26 [==============================] - 5s 199ms/step - loss: 0.2731 - val_loss: 0.2890\n",
      "Epoch 293/2000\n",
      "26/26 [==============================] - 5s 199ms/step - loss: 0.2720 - val_loss: 0.2771\n",
      "Epoch 294/2000\n",
      "26/26 [==============================] - 5s 201ms/step - loss: 0.2714 - val_loss: 0.2785\n",
      "Epoch 295/2000\n",
      "26/26 [==============================] - 5s 204ms/step - loss: 0.2735 - val_loss: 0.2837\n",
      "Epoch 296/2000\n",
      "26/26 [==============================] - 5s 203ms/step - loss: 0.2738 - val_loss: 0.2910\n",
      "Epoch 297/2000\n",
      "26/26 [==============================] - 5s 205ms/step - loss: 0.2754 - val_loss: 0.2776\n",
      "Epoch 298/2000\n",
      "26/26 [==============================] - 5s 207ms/step - loss: 0.2738 - val_loss: 0.2805\n",
      "Epoch 299/2000\n",
      "26/26 [==============================] - 5s 194ms/step - loss: 0.2736 - val_loss: 0.3014\n",
      "Epoch 300/2000\n",
      "26/26 [==============================] - 5s 203ms/step - loss: 0.2725 - val_loss: 0.2774\n",
      "Epoch 301/2000\n",
      "26/26 [==============================] - 5s 199ms/step - loss: 0.2728 - val_loss: 0.2833\n",
      "Epoch 302/2000\n",
      "26/26 [==============================] - 5s 203ms/step - loss: 0.2703 - val_loss: 0.2791\n",
      "Epoch 303/2000\n",
      "26/26 [==============================] - 5s 206ms/step - loss: 0.2705 - val_loss: 0.2786\n",
      "Epoch 304/2000\n",
      "26/26 [==============================] - 5s 200ms/step - loss: 0.2737 - val_loss: 0.2788\n",
      "Epoch 305/2000\n",
      "26/26 [==============================] - 5s 198ms/step - loss: 0.2712 - val_loss: 0.2785\n",
      "Epoch 306/2000\n",
      "26/26 [==============================] - 5s 192ms/step - loss: 0.2718 - val_loss: 0.2813\n",
      "Epoch 307/2000\n",
      "26/26 [==============================] - 5s 196ms/step - loss: 0.2710 - val_loss: 0.2772\n",
      "Epoch 308/2000\n",
      "26/26 [==============================] - 5s 196ms/step - loss: 0.2710 - val_loss: 0.2858\n",
      "Epoch 309/2000\n",
      "26/26 [==============================] - 5s 206ms/step - loss: 0.2724 - val_loss: 0.2781\n",
      "Epoch 310/2000\n",
      "26/26 [==============================] - 5s 198ms/step - loss: 0.2717 - val_loss: 0.2856\n",
      "Epoch 311/2000\n",
      "26/26 [==============================] - 5s 199ms/step - loss: 0.2704 - val_loss: 0.2899\n",
      "Epoch 312/2000\n",
      "26/26 [==============================] - 5s 203ms/step - loss: 0.2739 - val_loss: 0.2805\n",
      "Epoch 313/2000\n",
      "26/26 [==============================] - 5s 199ms/step - loss: 0.2711 - val_loss: 0.2786\n",
      "Epoch 314/2000\n",
      "26/26 [==============================] - 5s 204ms/step - loss: 0.2704 - val_loss: 0.2811\n",
      "Epoch 315/2000\n",
      "26/26 [==============================] - 5s 197ms/step - loss: 0.2706 - val_loss: 0.2775\n",
      "Epoch 316/2000\n",
      "26/26 [==============================] - 5s 202ms/step - loss: 0.2707 - val_loss: 0.2769\n",
      "Epoch 317/2000\n",
      "26/26 [==============================] - 5s 200ms/step - loss: 0.2694 - val_loss: 0.2852\n"
     ]
    },
    {
     "name": "stdout",
     "output_type": "stream",
     "text": [
      "Epoch 318/2000\n",
      "26/26 [==============================] - 5s 193ms/step - loss: 0.2689 - val_loss: 0.2792\n",
      "Epoch 319/2000\n",
      "26/26 [==============================] - 5s 195ms/step - loss: 0.2713 - val_loss: 0.2869\n",
      "Epoch 320/2000\n",
      "26/26 [==============================] - 5s 198ms/step - loss: 0.2700 - val_loss: 0.2842\n",
      "Epoch 321/2000\n",
      "26/26 [==============================] - 5s 195ms/step - loss: 0.2719 - val_loss: 0.2781\n",
      "Epoch 322/2000\n",
      "26/26 [==============================] - 5s 207ms/step - loss: 0.2696 - val_loss: 0.2786\n",
      "Epoch 323/2000\n",
      "26/26 [==============================] - 5s 202ms/step - loss: 0.2691 - val_loss: 0.2810\n",
      "Epoch 324/2000\n",
      "26/26 [==============================] - 5s 200ms/step - loss: 0.2684 - val_loss: 0.2777\n",
      "Epoch 325/2000\n",
      "26/26 [==============================] - 5s 202ms/step - loss: 0.2692 - val_loss: 0.2805\n",
      "Epoch 326/2000\n",
      "26/26 [==============================] - 5s 195ms/step - loss: 0.2693 - val_loss: 0.2780\n",
      "Epoch 327/2000\n",
      "26/26 [==============================] - 5s 196ms/step - loss: 0.2713 - val_loss: 0.2780\n",
      "Epoch 328/2000\n",
      "26/26 [==============================] - 5s 197ms/step - loss: 0.2707 - val_loss: 0.2784\n",
      "Epoch 329/2000\n",
      "26/26 [==============================] - 5s 194ms/step - loss: 0.2702 - val_loss: 0.2917\n",
      "Epoch 330/2000\n",
      "26/26 [==============================] - 5s 199ms/step - loss: 0.2705 - val_loss: 0.2787\n",
      "Epoch 331/2000\n",
      "26/26 [==============================] - 5s 195ms/step - loss: 0.2700 - val_loss: 0.2813\n",
      "Epoch 332/2000\n",
      "26/26 [==============================] - 5s 204ms/step - loss: 0.2677 - val_loss: 0.2812\n",
      "Epoch 333/2000\n",
      "26/26 [==============================] - 5s 196ms/step - loss: 0.2693 - val_loss: 0.2770\n",
      "Epoch 334/2000\n",
      "26/26 [==============================] - 5s 199ms/step - loss: 0.2717 - val_loss: 0.2895\n",
      "Epoch 335/2000\n",
      "26/26 [==============================] - 5s 204ms/step - loss: 0.2706 - val_loss: 0.2791\n",
      "Epoch 336/2000\n",
      "26/26 [==============================] - 5s 204ms/step - loss: 0.2688 - val_loss: 0.2783\n",
      "Epoch 337/2000\n",
      "26/26 [==============================] - 5s 200ms/step - loss: 0.2709 - val_loss: 0.3002\n",
      "Epoch 338/2000\n",
      "26/26 [==============================] - 5s 197ms/step - loss: 0.2691 - val_loss: 0.2791\n",
      "Epoch 339/2000\n",
      "26/26 [==============================] - 5s 196ms/step - loss: 0.2681 - val_loss: 0.2780\n",
      "Epoch 340/2000\n",
      "26/26 [==============================] - 5s 201ms/step - loss: 0.2680 - val_loss: 0.2803\n",
      "Epoch 341/2000\n",
      "26/26 [==============================] - 5s 200ms/step - loss: 0.2764 - val_loss: 0.2828\n",
      "Epoch 342/2000\n",
      "26/26 [==============================] - 5s 188ms/step - loss: 0.2719 - val_loss: 0.2818\n",
      "Epoch 343/2000\n",
      "26/26 [==============================] - 5s 192ms/step - loss: 0.2688 - val_loss: 0.2813\n",
      "Epoch 344/2000\n",
      "26/26 [==============================] - 5s 195ms/step - loss: 0.2685 - val_loss: 0.2809\n",
      "Epoch 345/2000\n",
      "26/26 [==============================] - 5s 202ms/step - loss: 0.2686 - val_loss: 0.2858\n",
      "Epoch 346/2000\n",
      "26/26 [==============================] - 5s 188ms/step - loss: 0.2695 - val_loss: 0.2944\n",
      "Epoch 347/2000\n",
      "26/26 [==============================] - 5s 191ms/step - loss: 0.2696 - val_loss: 0.2822\n",
      "Epoch 348/2000\n",
      "26/26 [==============================] - 5s 197ms/step - loss: 0.2678 - val_loss: 0.2775\n",
      "Epoch 349/2000\n",
      "26/26 [==============================] - 5s 193ms/step - loss: 0.2685 - val_loss: 0.2796\n",
      "Epoch 350/2000\n",
      "26/26 [==============================] - 5s 194ms/step - loss: 0.2676 - val_loss: 0.2776\n",
      "Epoch 351/2000\n",
      "26/26 [==============================] - 5s 195ms/step - loss: 0.2682 - val_loss: 0.2774\n",
      "Epoch 352/2000\n",
      "26/26 [==============================] - 5s 197ms/step - loss: 0.2676 - val_loss: 0.2788\n",
      "Epoch 353/2000\n",
      "26/26 [==============================] - 5s 207ms/step - loss: 0.2674 - val_loss: 0.2800\n",
      "Epoch 354/2000\n",
      "26/26 [==============================] - 5s 198ms/step - loss: 0.2709 - val_loss: 0.2800\n",
      "Epoch 355/2000\n",
      "26/26 [==============================] - 5s 198ms/step - loss: 0.2673 - val_loss: 0.2819\n",
      "Epoch 356/2000\n",
      "26/26 [==============================] - 5s 203ms/step - loss: 0.2675 - val_loss: 0.2790\n",
      "Epoch 357/2000\n",
      "26/26 [==============================] - 5s 193ms/step - loss: 0.2669 - val_loss: 0.2783\n",
      "Epoch 358/2000\n",
      "26/26 [==============================] - 5s 192ms/step - loss: 0.2675 - val_loss: 0.2794\n",
      "Epoch 359/2000\n",
      "26/26 [==============================] - 5s 199ms/step - loss: 0.2679 - val_loss: 0.2804\n",
      "Epoch 360/2000\n",
      "26/26 [==============================] - 5s 191ms/step - loss: 0.2662 - val_loss: 0.2786\n",
      "Epoch 361/2000\n",
      "26/26 [==============================] - 5s 202ms/step - loss: 0.2671 - val_loss: 0.2821\n",
      "Epoch 362/2000\n",
      "26/26 [==============================] - 5s 193ms/step - loss: 0.2688 - val_loss: 0.2880\n",
      "Epoch 363/2000\n",
      "26/26 [==============================] - 5s 199ms/step - loss: 0.2668 - val_loss: 0.2785\n",
      "Epoch 364/2000\n",
      "26/26 [==============================] - 5s 195ms/step - loss: 0.2659 - val_loss: 0.2812\n",
      "Epoch 365/2000\n",
      "26/26 [==============================] - 5s 201ms/step - loss: 0.2678 - val_loss: 0.2799\n",
      "Epoch 366/2000\n",
      "26/26 [==============================] - 5s 207ms/step - loss: 0.2679 - val_loss: 0.2818\n",
      "Epoch 00366: early stopping\n",
      "CPU times: user 1h 24min 35s, sys: 44min 2s, total: 2h 8min 37s\n",
      "Wall time: 33min 15s\n"
     ]
    },
    {
     "data": {
      "application/javascript": [
       "\n",
       "            setTimeout(function() {\n",
       "                var nbb_cell_id = 25;\n",
       "                var nbb_unformatted_code = \"%%time\\nhistory = model.fit(\\n    X_train_preproc,\\n    y_train.reshape(-1, 1),\\n    epochs=2000,\\n    batch_size=1024,\\n    validation_data=(X_valid_preproc, y_valid.reshape(-1, 1),),\\n    verbose=1,\\n    callbacks=[EarlyStopping(monitor=\\\"val_loss\\\", patience=100, verbose=1)],\\n)\";\n",
       "                var nbb_formatted_code = \"%%time\\nhistory = model.fit(\\n    X_train_preproc,\\n    y_train.reshape(-1, 1),\\n    epochs=2000,\\n    batch_size=1024,\\n    validation_data=(X_valid_preproc, y_valid.reshape(-1, 1),),\\n    verbose=1,\\n    callbacks=[EarlyStopping(monitor=\\\"val_loss\\\", patience=100, verbose=1)],\\n)\";\n",
       "                var nbb_cells = Jupyter.notebook.get_cells();\n",
       "                for (var i = 0; i < nbb_cells.length; ++i) {\n",
       "                    if (nbb_cells[i].input_prompt_number == nbb_cell_id) {\n",
       "                        if (nbb_cells[i].get_text() == nbb_unformatted_code) {\n",
       "                             nbb_cells[i].set_text(nbb_formatted_code);\n",
       "                        }\n",
       "                        break;\n",
       "                    }\n",
       "                }\n",
       "            }, 500);\n",
       "            "
      ],
      "text/plain": [
       "<IPython.core.display.Javascript object>"
      ]
     },
     "metadata": {},
     "output_type": "display_data"
    }
   ],
   "source": [
    "%%time\n",
    "history = model.fit(\n",
    "    X_train_preproc,\n",
    "    y_train.reshape(-1, 1),\n",
    "    epochs=2000,\n",
    "    batch_size=1024,\n",
    "    validation_data=(X_valid_preproc, y_valid.reshape(-1, 1),),\n",
    "    verbose=1,\n",
    "    callbacks=[EarlyStopping(monitor=\"val_loss\", patience=100, verbose=1)],\n",
    ")"
   ]
  },
  {
   "cell_type": "code",
   "execution_count": 26,
   "metadata": {
    "ExecuteTime": {
     "end_time": "2020-05-25T21:00:07.719810Z",
     "start_time": "2020-05-25T20:59:43.864Z"
    }
   },
   "outputs": [
    {
     "data": {
      "image/png": "[encoded data removed]",
      "text/plain": [
       "<Figure size 432x288 with 1 Axes>"
      ]
     },
     "metadata": {
      "needs_background": "light"
     },
     "output_type": "display_data"
    },
    {
     "data": {
      "application/javascript": [
       "\n",
       "            setTimeout(function() {\n",
       "                var nbb_cell_id = 26;\n",
       "                var nbb_unformatted_code = \"plot_history(history)\";\n",
       "                var nbb_formatted_code = \"plot_history(history)\";\n",
       "                var nbb_cells = Jupyter.notebook.get_cells();\n",
       "                for (var i = 0; i < nbb_cells.length; ++i) {\n",
       "                    if (nbb_cells[i].input_prompt_number == nbb_cell_id) {\n",
       "                        if (nbb_cells[i].get_text() == nbb_unformatted_code) {\n",
       "                             nbb_cells[i].set_text(nbb_formatted_code);\n",
       "                        }\n",
       "                        break;\n",
       "                    }\n",
       "                }\n",
       "            }, 500);\n",
       "            "
      ],
      "text/plain": [
       "<IPython.core.display.Javascript object>"
      ]
     },
     "metadata": {},
     "output_type": "display_data"
    }
   ],
   "source": [
    "plot_history(history)"
   ]
  },
  {
   "cell_type": "code",
   "execution_count": 27,
   "metadata": {
    "ExecuteTime": {
     "end_time": "2020-05-25T21:00:07.720685Z",
     "start_time": "2020-05-25T20:59:43.865Z"
    }
   },
   "outputs": [
    {
     "data": {
      "text/plain": [
       "0.9247056661481613"
      ]
     },
     "execution_count": 27,
     "metadata": {},
     "output_type": "execute_result"
    },
    {
     "data": {
      "application/javascript": [
       "\n",
       "            setTimeout(function() {\n",
       "                var nbb_cell_id = 27;\n",
       "                var nbb_unformatted_code = \"model_auc = roc_auc_score(\\n    y_true=y_valid, y_score=model.predict(X_valid_preproc).reshape(-1),\\n)\\nmodel_auc\";\n",
       "                var nbb_formatted_code = \"model_auc = roc_auc_score(\\n    y_true=y_valid, y_score=model.predict(X_valid_preproc).reshape(-1),\\n)\\nmodel_auc\";\n",
       "                var nbb_cells = Jupyter.notebook.get_cells();\n",
       "                for (var i = 0; i < nbb_cells.length; ++i) {\n",
       "                    if (nbb_cells[i].input_prompt_number == nbb_cell_id) {\n",
       "                        if (nbb_cells[i].get_text() == nbb_unformatted_code) {\n",
       "                             nbb_cells[i].set_text(nbb_formatted_code);\n",
       "                        }\n",
       "                        break;\n",
       "                    }\n",
       "                }\n",
       "            }, 500);\n",
       "            "
      ],
      "text/plain": [
       "<IPython.core.display.Javascript object>"
      ]
     },
     "metadata": {},
     "output_type": "display_data"
    }
   ],
   "source": [
    "model_auc = roc_auc_score(\n",
    "    y_true=y_valid, y_score=model.predict(X_valid_preproc).reshape(-1),\n",
    ")\n",
    "model_auc"
   ]
  },
  {
   "cell_type": "code",
   "execution_count": 28,
   "metadata": {
    "ExecuteTime": {
     "end_time": "2020-05-25T21:00:07.722364Z",
     "start_time": "2020-05-25T20:59:43.867Z"
    }
   },
   "outputs": [
    {
     "data": {
      "text/plain": [
       "0.9242110564268156"
      ]
     },
     "execution_count": 28,
     "metadata": {},
     "output_type": "execute_result"
    },
    {
     "data": {
      "application/javascript": [
       "\n",
       "            setTimeout(function() {\n",
       "                var nbb_cell_id = 28;\n",
       "                var nbb_unformatted_code = \"model_auc = roc_auc_score(\\n    y_true=y_test, y_score=model.predict(X_test_preproc).reshape(-1),\\n)\\nmodel_auc\";\n",
       "                var nbb_formatted_code = \"model_auc = roc_auc_score(\\n    y_true=y_test, y_score=model.predict(X_test_preproc).reshape(-1),\\n)\\nmodel_auc\";\n",
       "                var nbb_cells = Jupyter.notebook.get_cells();\n",
       "                for (var i = 0; i < nbb_cells.length; ++i) {\n",
       "                    if (nbb_cells[i].input_prompt_number == nbb_cell_id) {\n",
       "                        if (nbb_cells[i].get_text() == nbb_unformatted_code) {\n",
       "                             nbb_cells[i].set_text(nbb_formatted_code);\n",
       "                        }\n",
       "                        break;\n",
       "                    }\n",
       "                }\n",
       "            }, 500);\n",
       "            "
      ],
      "text/plain": [
       "<IPython.core.display.Javascript object>"
      ]
     },
     "metadata": {},
     "output_type": "display_data"
    }
   ],
   "source": [
    "model_auc = roc_auc_score(\n",
    "    y_true=y_test, y_score=model.predict(X_test_preproc).reshape(-1),\n",
    ")\n",
    "model_auc"
   ]
  },
  {
   "cell_type": "code",
   "execution_count": 29,
   "metadata": {},
   "outputs": [
    {
     "data": {
      "application/javascript": [
       "\n",
       "            setTimeout(function() {\n",
       "                var nbb_cell_id = 29;\n",
       "                var nbb_unformatted_code = \"# valid 0.9282381974389771 test 0.9262939626480025 conv_dim=[64], lconv_dim=[128, 64, 32] patience 50\";\n",
       "                var nbb_formatted_code = \"# valid 0.9282381974389771 test 0.9262939626480025 conv_dim=[64], lconv_dim=[128, 64, 32] patience 50\";\n",
       "                var nbb_cells = Jupyter.notebook.get_cells();\n",
       "                for (var i = 0; i < nbb_cells.length; ++i) {\n",
       "                    if (nbb_cells[i].input_prompt_number == nbb_cell_id) {\n",
       "                        if (nbb_cells[i].get_text() == nbb_unformatted_code) {\n",
       "                             nbb_cells[i].set_text(nbb_formatted_code);\n",
       "                        }\n",
       "                        break;\n",
       "                    }\n",
       "                }\n",
       "            }, 500);\n",
       "            "
      ],
      "text/plain": [
       "<IPython.core.display.Javascript object>"
      ]
     },
     "metadata": {},
     "output_type": "display_data"
    }
   ],
   "source": [
    "# valid 0.9282381974389771 test 0.9262939626480025 conv_dim=[64], lconv_dim=[128, 64, 32] patience 50"
   ]
  },
  {
   "cell_type": "code",
   "execution_count": 30,
   "metadata": {},
   "outputs": [
    {
     "data": {
      "application/javascript": [
       "\n",
       "            setTimeout(function() {\n",
       "                var nbb_cell_id = 30;\n",
       "                var nbb_unformatted_code = \"SAMPLE_NB = 1000\";\n",
       "                var nbb_formatted_code = \"SAMPLE_NB = 1000\";\n",
       "                var nbb_cells = Jupyter.notebook.get_cells();\n",
       "                for (var i = 0; i < nbb_cells.length; ++i) {\n",
       "                    if (nbb_cells[i].input_prompt_number == nbb_cell_id) {\n",
       "                        if (nbb_cells[i].get_text() == nbb_unformatted_code) {\n",
       "                             nbb_cells[i].set_text(nbb_formatted_code);\n",
       "                        }\n",
       "                        break;\n",
       "                    }\n",
       "                }\n",
       "            }, 500);\n",
       "            "
      ],
      "text/plain": [
       "<IPython.core.display.Javascript object>"
      ]
     },
     "metadata": {},
     "output_type": "display_data"
    }
   ],
   "source": [
    "SAMPLE_NB = 1000"
   ]
  },
  {
   "cell_type": "code",
   "execution_count": 32,
   "metadata": {},
   "outputs": [
    {
     "data": {
      "application/javascript": [
       "\n",
       "            setTimeout(function() {\n",
       "                var nbb_cell_id = 32;\n",
       "                var nbb_unformatted_code = \"sample = X_valid_preproc[:SAMPLE_NB]\";\n",
       "                var nbb_formatted_code = \"sample = X_valid_preproc[:SAMPLE_NB]\";\n",
       "                var nbb_cells = Jupyter.notebook.get_cells();\n",
       "                for (var i = 0; i < nbb_cells.length; ++i) {\n",
       "                    if (nbb_cells[i].input_prompt_number == nbb_cell_id) {\n",
       "                        if (nbb_cells[i].get_text() == nbb_unformatted_code) {\n",
       "                             nbb_cells[i].set_text(nbb_formatted_code);\n",
       "                        }\n",
       "                        break;\n",
       "                    }\n",
       "                }\n",
       "            }, 500);\n",
       "            "
      ],
      "text/plain": [
       "<IPython.core.display.Javascript object>"
      ]
     },
     "metadata": {},
     "output_type": "display_data"
    }
   ],
   "source": [
    "sample = X_valid_preproc[:SAMPLE_NB]"
   ]
  },
  {
   "cell_type": "code",
   "execution_count": 33,
   "metadata": {},
   "outputs": [
    {
     "data": {
      "text/plain": [
       "(1000, 1)"
      ]
     },
     "execution_count": 33,
     "metadata": {},
     "output_type": "execute_result"
    },
    {
     "data": {
      "application/javascript": [
       "\n",
       "            setTimeout(function() {\n",
       "                var nbb_cell_id = 33;\n",
       "                var nbb_unformatted_code = \"model_pred = model.predict(sample)\\nmodel_pred.shape\";\n",
       "                var nbb_formatted_code = \"model_pred = model.predict(sample)\\nmodel_pred.shape\";\n",
       "                var nbb_cells = Jupyter.notebook.get_cells();\n",
       "                for (var i = 0; i < nbb_cells.length; ++i) {\n",
       "                    if (nbb_cells[i].input_prompt_number == nbb_cell_id) {\n",
       "                        if (nbb_cells[i].get_text() == nbb_unformatted_code) {\n",
       "                             nbb_cells[i].set_text(nbb_formatted_code);\n",
       "                        }\n",
       "                        break;\n",
       "                    }\n",
       "                }\n",
       "            }, 500);\n",
       "            "
      ],
      "text/plain": [
       "<IPython.core.display.Javascript object>"
      ]
     },
     "metadata": {},
     "output_type": "display_data"
    }
   ],
   "source": [
    "model_pred = model.predict(sample)\n",
    "model_pred.shape"
   ]
  },
  {
   "cell_type": "code",
   "execution_count": 34,
   "metadata": {},
   "outputs": [
    {
     "data": {
      "application/javascript": [
       "\n",
       "            setTimeout(function() {\n",
       "                var nbb_cell_id = 34;\n",
       "                var nbb_unformatted_code = \"new_model = Model(inputs=[model.input], outputs=[model.output, model.layers[-3].output])\";\n",
       "                var nbb_formatted_code = \"new_model = Model(inputs=[model.input], outputs=[model.output, model.layers[-3].output])\";\n",
       "                var nbb_cells = Jupyter.notebook.get_cells();\n",
       "                for (var i = 0; i < nbb_cells.length; ++i) {\n",
       "                    if (nbb_cells[i].input_prompt_number == nbb_cell_id) {\n",
       "                        if (nbb_cells[i].get_text() == nbb_unformatted_code) {\n",
       "                             nbb_cells[i].set_text(nbb_formatted_code);\n",
       "                        }\n",
       "                        break;\n",
       "                    }\n",
       "                }\n",
       "            }, 500);\n",
       "            "
      ],
      "text/plain": [
       "<IPython.core.display.Javascript object>"
      ]
     },
     "metadata": {},
     "output_type": "display_data"
    }
   ],
   "source": [
    "new_model = Model(inputs=[model.input], outputs=[model.output, model.layers[-3].output])"
   ]
  },
  {
   "cell_type": "code",
   "execution_count": 35,
   "metadata": {},
   "outputs": [
    {
     "data": {
      "application/javascript": [
       "\n",
       "            setTimeout(function() {\n",
       "                var nbb_cell_id = 35;\n",
       "                var nbb_unformatted_code = \"new_model_pred, feature_inter = new_model.predict(sample)\";\n",
       "                var nbb_formatted_code = \"new_model_pred, feature_inter = new_model.predict(sample)\";\n",
       "                var nbb_cells = Jupyter.notebook.get_cells();\n",
       "                for (var i = 0; i < nbb_cells.length; ++i) {\n",
       "                    if (nbb_cells[i].input_prompt_number == nbb_cell_id) {\n",
       "                        if (nbb_cells[i].get_text() == nbb_unformatted_code) {\n",
       "                             nbb_cells[i].set_text(nbb_formatted_code);\n",
       "                        }\n",
       "                        break;\n",
       "                    }\n",
       "                }\n",
       "            }, 500);\n",
       "            "
      ],
      "text/plain": [
       "<IPython.core.display.Javascript object>"
      ]
     },
     "metadata": {},
     "output_type": "display_data"
    }
   ],
   "source": [
    "new_model_pred, feature_inter = new_model.predict(sample)"
   ]
  },
  {
   "cell_type": "code",
   "execution_count": 36,
   "metadata": {},
   "outputs": [
    {
     "data": {
      "application/javascript": [
       "\n",
       "            setTimeout(function() {\n",
       "                var nbb_cell_id = 36;\n",
       "                var nbb_unformatted_code = \"assert np.all(model_pred == new_model_pred)\";\n",
       "                var nbb_formatted_code = \"assert np.all(model_pred == new_model_pred)\";\n",
       "                var nbb_cells = Jupyter.notebook.get_cells();\n",
       "                for (var i = 0; i < nbb_cells.length; ++i) {\n",
       "                    if (nbb_cells[i].input_prompt_number == nbb_cell_id) {\n",
       "                        if (nbb_cells[i].get_text() == nbb_unformatted_code) {\n",
       "                             nbb_cells[i].set_text(nbb_formatted_code);\n",
       "                        }\n",
       "                        break;\n",
       "                    }\n",
       "                }\n",
       "            }, 500);\n",
       "            "
      ],
      "text/plain": [
       "<IPython.core.display.Javascript object>"
      ]
     },
     "metadata": {},
     "output_type": "display_data"
    }
   ],
   "source": [
    "assert np.all(model_pred == new_model_pred)"
   ]
  },
  {
   "cell_type": "code",
   "execution_count": 37,
   "metadata": {},
   "outputs": [
    {
     "data": {
      "text/plain": [
       "(1000, 14, 32)"
      ]
     },
     "execution_count": 37,
     "metadata": {},
     "output_type": "execute_result"
    },
    {
     "data": {
      "application/javascript": [
       "\n",
       "            setTimeout(function() {\n",
       "                var nbb_cell_id = 37;\n",
       "                var nbb_unformatted_code = \"feature_inter.shape\";\n",
       "                var nbb_formatted_code = \"feature_inter.shape\";\n",
       "                var nbb_cells = Jupyter.notebook.get_cells();\n",
       "                for (var i = 0; i < nbb_cells.length; ++i) {\n",
       "                    if (nbb_cells[i].input_prompt_number == nbb_cell_id) {\n",
       "                        if (nbb_cells[i].get_text() == nbb_unformatted_code) {\n",
       "                             nbb_cells[i].set_text(nbb_formatted_code);\n",
       "                        }\n",
       "                        break;\n",
       "                    }\n",
       "                }\n",
       "            }, 500);\n",
       "            "
      ],
      "text/plain": [
       "<IPython.core.display.Javascript object>"
      ]
     },
     "metadata": {},
     "output_type": "display_data"
    }
   ],
   "source": [
    "feature_inter.shape"
   ]
  },
  {
   "cell_type": "code",
   "execution_count": 38,
   "metadata": {},
   "outputs": [
    {
     "data": {
      "application/javascript": [
       "\n",
       "            setTimeout(function() {\n",
       "                var nbb_cell_id = 38;\n",
       "                var nbb_unformatted_code = \"for idx in range(sample.shape[1]):\\n    one_col = np.zeros(sample.shape)\\n    one_col[:, idx] = sample[:, idx]\\n    _, feature_inter_one_col = new_model.predict(one_col)\\n    assert np.all(feature_inter_one_col[:, idx, :] == feature_inter[:, idx, :])\\n    assert np.sum(feature_inter_one_col - feature_inter) > 1\";\n",
       "                var nbb_formatted_code = \"for idx in range(sample.shape[1]):\\n    one_col = np.zeros(sample.shape)\\n    one_col[:, idx] = sample[:, idx]\\n    _, feature_inter_one_col = new_model.predict(one_col)\\n    assert np.all(feature_inter_one_col[:, idx, :] == feature_inter[:, idx, :])\\n    assert np.sum(feature_inter_one_col - feature_inter) > 1\";\n",
       "                var nbb_cells = Jupyter.notebook.get_cells();\n",
       "                for (var i = 0; i < nbb_cells.length; ++i) {\n",
       "                    if (nbb_cells[i].input_prompt_number == nbb_cell_id) {\n",
       "                        if (nbb_cells[i].get_text() == nbb_unformatted_code) {\n",
       "                             nbb_cells[i].set_text(nbb_formatted_code);\n",
       "                        }\n",
       "                        break;\n",
       "                    }\n",
       "                }\n",
       "            }, 500);\n",
       "            "
      ],
      "text/plain": [
       "<IPython.core.display.Javascript object>"
      ]
     },
     "metadata": {},
     "output_type": "display_data"
    }
   ],
   "source": [
    "for idx in range(sample.shape[1]):\n",
    "    one_col = np.zeros(sample.shape)\n",
    "    one_col[:, idx] = sample[:, idx]\n",
    "    _, feature_inter_one_col = new_model.predict(one_col)\n",
    "    assert np.all(feature_inter_one_col[:, idx, :] == feature_inter[:, idx, :])\n",
    "    assert np.sum(feature_inter_one_col - feature_inter) > 1"
   ]
  },
  {
   "cell_type": "code",
   "execution_count": 39,
   "metadata": {},
   "outputs": [
    {
     "data": {
      "application/javascript": [
       "\n",
       "            setTimeout(function() {\n",
       "                var nbb_cell_id = 39;\n",
       "                var nbb_unformatted_code = \"idx = 0\\none_col = np.zeros(sample.shape)\\none_col[:, idx] = sample[:, idx]\\n_, feature_inter_one_col = new_model.predict(one_col)\\nassert np.all(feature_inter_one_col[:, idx, :] == feature_inter[:, idx, :])\\nassert np.sum(feature_inter_one_col - feature_inter) > 1\";\n",
       "                var nbb_formatted_code = \"idx = 0\\none_col = np.zeros(sample.shape)\\none_col[:, idx] = sample[:, idx]\\n_, feature_inter_one_col = new_model.predict(one_col)\\nassert np.all(feature_inter_one_col[:, idx, :] == feature_inter[:, idx, :])\\nassert np.sum(feature_inter_one_col - feature_inter) > 1\";\n",
       "                var nbb_cells = Jupyter.notebook.get_cells();\n",
       "                for (var i = 0; i < nbb_cells.length; ++i) {\n",
       "                    if (nbb_cells[i].input_prompt_number == nbb_cell_id) {\n",
       "                        if (nbb_cells[i].get_text() == nbb_unformatted_code) {\n",
       "                             nbb_cells[i].set_text(nbb_formatted_code);\n",
       "                        }\n",
       "                        break;\n",
       "                    }\n",
       "                }\n",
       "            }, 500);\n",
       "            "
      ],
      "text/plain": [
       "<IPython.core.display.Javascript object>"
      ]
     },
     "metadata": {},
     "output_type": "display_data"
    }
   ],
   "source": [
    "idx = 0\n",
    "one_col = np.zeros(sample.shape)\n",
    "one_col[:, idx] = sample[:, idx]\n",
    "_, feature_inter_one_col = new_model.predict(one_col)\n",
    "assert np.all(feature_inter_one_col[:, idx, :] == feature_inter[:, idx, :])\n",
    "assert np.sum(feature_inter_one_col - feature_inter) > 1"
   ]
  },
  {
   "cell_type": "code",
   "execution_count": 40,
   "metadata": {},
   "outputs": [
    {
     "data": {
      "text/plain": [
       "(1000, 32)"
      ]
     },
     "execution_count": 40,
     "metadata": {},
     "output_type": "execute_result"
    },
    {
     "data": {
      "application/javascript": [
       "\n",
       "            setTimeout(function() {\n",
       "                var nbb_cell_id = 40;\n",
       "                var nbb_unformatted_code = \"feature_inter_one_col[:, 0, :].shape\";\n",
       "                var nbb_formatted_code = \"feature_inter_one_col[:, 0, :].shape\";\n",
       "                var nbb_cells = Jupyter.notebook.get_cells();\n",
       "                for (var i = 0; i < nbb_cells.length; ++i) {\n",
       "                    if (nbb_cells[i].input_prompt_number == nbb_cell_id) {\n",
       "                        if (nbb_cells[i].get_text() == nbb_unformatted_code) {\n",
       "                             nbb_cells[i].set_text(nbb_formatted_code);\n",
       "                        }\n",
       "                        break;\n",
       "                    }\n",
       "                }\n",
       "            }, 500);\n",
       "            "
      ],
      "text/plain": [
       "<IPython.core.display.Javascript object>"
      ]
     },
     "metadata": {},
     "output_type": "display_data"
    }
   ],
   "source": [
    "feature_inter_one_col[:, 0, :].shape"
   ]
  },
  {
   "cell_type": "code",
   "execution_count": 41,
   "metadata": {},
   "outputs": [
    {
     "data": {
      "text/plain": [
       "<tensorflow.python.keras.layers.core.Dense at 0x7f957af279d0>"
      ]
     },
     "execution_count": 41,
     "metadata": {},
     "output_type": "execute_result"
    },
    {
     "data": {
      "application/javascript": [
       "\n",
       "            setTimeout(function() {\n",
       "                var nbb_cell_id = 41;\n",
       "                var nbb_unformatted_code = \"new_model.layers[-1]\";\n",
       "                var nbb_formatted_code = \"new_model.layers[-1]\";\n",
       "                var nbb_cells = Jupyter.notebook.get_cells();\n",
       "                for (var i = 0; i < nbb_cells.length; ++i) {\n",
       "                    if (nbb_cells[i].input_prompt_number == nbb_cell_id) {\n",
       "                        if (nbb_cells[i].get_text() == nbb_unformatted_code) {\n",
       "                             nbb_cells[i].set_text(nbb_formatted_code);\n",
       "                        }\n",
       "                        break;\n",
       "                    }\n",
       "                }\n",
       "            }, 500);\n",
       "            "
      ],
      "text/plain": [
       "<IPython.core.display.Javascript object>"
      ]
     },
     "metadata": {},
     "output_type": "display_data"
    }
   ],
   "source": [
    "new_model.layers[-1]"
   ]
  },
  {
   "cell_type": "code",
   "execution_count": 42,
   "metadata": {},
   "outputs": [
    {
     "data": {
      "text/plain": [
       "(448, 1)"
      ]
     },
     "execution_count": 42,
     "metadata": {},
     "output_type": "execute_result"
    },
    {
     "data": {
      "application/javascript": [
       "\n",
       "            setTimeout(function() {\n",
       "                var nbb_cell_id = 42;\n",
       "                var nbb_unformatted_code = \"model.get_weights()[-2].shape\";\n",
       "                var nbb_formatted_code = \"model.get_weights()[-2].shape\";\n",
       "                var nbb_cells = Jupyter.notebook.get_cells();\n",
       "                for (var i = 0; i < nbb_cells.length; ++i) {\n",
       "                    if (nbb_cells[i].input_prompt_number == nbb_cell_id) {\n",
       "                        if (nbb_cells[i].get_text() == nbb_unformatted_code) {\n",
       "                             nbb_cells[i].set_text(nbb_formatted_code);\n",
       "                        }\n",
       "                        break;\n",
       "                    }\n",
       "                }\n",
       "            }, 500);\n",
       "            "
      ],
      "text/plain": [
       "<IPython.core.display.Javascript object>"
      ]
     },
     "metadata": {},
     "output_type": "display_data"
    }
   ],
   "source": [
    "model.get_weights()[-2].shape"
   ]
  },
  {
   "cell_type": "code",
   "execution_count": 43,
   "metadata": {},
   "outputs": [
    {
     "data": {
      "application/javascript": [
       "\n",
       "            setTimeout(function() {\n",
       "                var nbb_cell_id = 43;\n",
       "                var nbb_unformatted_code = \"new_model = Model(inputs=[model.input], outputs=[model.output, model.layers[-2].output])\";\n",
       "                var nbb_formatted_code = \"new_model = Model(inputs=[model.input], outputs=[model.output, model.layers[-2].output])\";\n",
       "                var nbb_cells = Jupyter.notebook.get_cells();\n",
       "                for (var i = 0; i < nbb_cells.length; ++i) {\n",
       "                    if (nbb_cells[i].input_prompt_number == nbb_cell_id) {\n",
       "                        if (nbb_cells[i].get_text() == nbb_unformatted_code) {\n",
       "                             nbb_cells[i].set_text(nbb_formatted_code);\n",
       "                        }\n",
       "                        break;\n",
       "                    }\n",
       "                }\n",
       "            }, 500);\n",
       "            "
      ],
      "text/plain": [
       "<IPython.core.display.Javascript object>"
      ]
     },
     "metadata": {},
     "output_type": "display_data"
    }
   ],
   "source": [
    "new_model = Model(inputs=[model.input], outputs=[model.output, model.layers[-2].output])"
   ]
  },
  {
   "cell_type": "code",
   "execution_count": 44,
   "metadata": {},
   "outputs": [
    {
     "name": "stdout",
     "output_type": "stream",
     "text": [
      "CPU times: user 12.9 s, sys: 9.77 s, total: 22.7 s\n",
      "Wall time: 6.67 s\n"
     ]
    },
    {
     "data": {
      "application/javascript": [
       "\n",
       "            setTimeout(function() {\n",
       "                var nbb_cell_id = 44;\n",
       "                var nbb_unformatted_code = \"%%time\\n_, new_train_logistic = new_model.predict(X_train_preproc)\\n_, new_valid_logistic = new_model.predict(X_valid_preproc)\\n_, new_test_logistic = new_model.predict(X_test_preproc)\";\n",
       "                var nbb_formatted_code = \"%%time\\n_, new_train_logistic = new_model.predict(X_train_preproc)\\n_, new_valid_logistic = new_model.predict(X_valid_preproc)\\n_, new_test_logistic = new_model.predict(X_test_preproc)\";\n",
       "                var nbb_cells = Jupyter.notebook.get_cells();\n",
       "                for (var i = 0; i < nbb_cells.length; ++i) {\n",
       "                    if (nbb_cells[i].input_prompt_number == nbb_cell_id) {\n",
       "                        if (nbb_cells[i].get_text() == nbb_unformatted_code) {\n",
       "                             nbb_cells[i].set_text(nbb_formatted_code);\n",
       "                        }\n",
       "                        break;\n",
       "                    }\n",
       "                }\n",
       "            }, 500);\n",
       "            "
      ],
      "text/plain": [
       "<IPython.core.display.Javascript object>"
      ]
     },
     "metadata": {},
     "output_type": "display_data"
    }
   ],
   "source": [
    "%%time\n",
    "_, new_train_logistic = new_model.predict(X_train_preproc)\n",
    "_, new_valid_logistic = new_model.predict(X_valid_preproc)\n",
    "_, new_test_logistic = new_model.predict(X_test_preproc)"
   ]
  },
  {
   "cell_type": "code",
   "execution_count": 45,
   "metadata": {},
   "outputs": [
    {
     "data": {
      "application/javascript": [
       "\n",
       "            setTimeout(function() {\n",
       "                var nbb_cell_id = 45;\n",
       "                var nbb_unformatted_code = \"from sklearn.linear_model import LogisticRegression, LogisticRegressionCV\";\n",
       "                var nbb_formatted_code = \"from sklearn.linear_model import LogisticRegression, LogisticRegressionCV\";\n",
       "                var nbb_cells = Jupyter.notebook.get_cells();\n",
       "                for (var i = 0; i < nbb_cells.length; ++i) {\n",
       "                    if (nbb_cells[i].input_prompt_number == nbb_cell_id) {\n",
       "                        if (nbb_cells[i].get_text() == nbb_unformatted_code) {\n",
       "                             nbb_cells[i].set_text(nbb_formatted_code);\n",
       "                        }\n",
       "                        break;\n",
       "                    }\n",
       "                }\n",
       "            }, 500);\n",
       "            "
      ],
      "text/plain": [
       "<IPython.core.display.Javascript object>"
      ]
     },
     "metadata": {},
     "output_type": "display_data"
    }
   ],
   "source": [
    "from sklearn.linear_model import LogisticRegression, LogisticRegressionCV"
   ]
  },
  {
   "cell_type": "code",
   "execution_count": 60,
   "metadata": {},
   "outputs": [
    {
     "data": {
      "application/javascript": [
       "\n",
       "            setTimeout(function() {\n",
       "                var nbb_cell_id = 60;\n",
       "                var nbb_unformatted_code = \"lreg = LogisticRegression(max_iter=1000, n_jobs=-1)\";\n",
       "                var nbb_formatted_code = \"lreg = LogisticRegression(max_iter=1000, n_jobs=-1)\";\n",
       "                var nbb_cells = Jupyter.notebook.get_cells();\n",
       "                for (var i = 0; i < nbb_cells.length; ++i) {\n",
       "                    if (nbb_cells[i].input_prompt_number == nbb_cell_id) {\n",
       "                        if (nbb_cells[i].get_text() == nbb_unformatted_code) {\n",
       "                             nbb_cells[i].set_text(nbb_formatted_code);\n",
       "                        }\n",
       "                        break;\n",
       "                    }\n",
       "                }\n",
       "            }, 500);\n",
       "            "
      ],
      "text/plain": [
       "<IPython.core.display.Javascript object>"
      ]
     },
     "metadata": {},
     "output_type": "display_data"
    }
   ],
   "source": [
    "lreg = LogisticRegression(max_iter=1000, n_jobs=-1)"
   ]
  },
  {
   "cell_type": "code",
   "execution_count": 61,
   "metadata": {},
   "outputs": [
    {
     "data": {
      "text/plain": [
       "(26072, 448)"
      ]
     },
     "execution_count": 61,
     "metadata": {},
     "output_type": "execute_result"
    },
    {
     "data": {
      "application/javascript": [
       "\n",
       "            setTimeout(function() {\n",
       "                var nbb_cell_id = 61;\n",
       "                var nbb_unformatted_code = \"new_train_logistic.shape\";\n",
       "                var nbb_formatted_code = \"new_train_logistic.shape\";\n",
       "                var nbb_cells = Jupyter.notebook.get_cells();\n",
       "                for (var i = 0; i < nbb_cells.length; ++i) {\n",
       "                    if (nbb_cells[i].input_prompt_number == nbb_cell_id) {\n",
       "                        if (nbb_cells[i].get_text() == nbb_unformatted_code) {\n",
       "                             nbb_cells[i].set_text(nbb_formatted_code);\n",
       "                        }\n",
       "                        break;\n",
       "                    }\n",
       "                }\n",
       "            }, 500);\n",
       "            "
      ],
      "text/plain": [
       "<IPython.core.display.Javascript object>"
      ]
     },
     "metadata": {},
     "output_type": "display_data"
    }
   ],
   "source": [
    "new_train_logistic.shape"
   ]
  },
  {
   "cell_type": "code",
   "execution_count": 62,
   "metadata": {},
   "outputs": [
    {
     "name": "stdout",
     "output_type": "stream",
     "text": [
      "CPU times: user 26.6 ms, sys: 88.6 ms, total: 115 ms\n",
      "Wall time: 2min 3s\n"
     ]
    },
    {
     "data": {
      "text/plain": [
       "LogisticRegression(max_iter=1000, n_jobs=-1)"
      ]
     },
     "execution_count": 62,
     "metadata": {},
     "output_type": "execute_result"
    },
    {
     "data": {
      "application/javascript": [
       "\n",
       "            setTimeout(function() {\n",
       "                var nbb_cell_id = 62;\n",
       "                var nbb_unformatted_code = \"%%time\\nlreg.fit(new_train_logistic, y_train.reshape(-1))\";\n",
       "                var nbb_formatted_code = \"%%time\\nlreg.fit(new_train_logistic, y_train.reshape(-1))\";\n",
       "                var nbb_cells = Jupyter.notebook.get_cells();\n",
       "                for (var i = 0; i < nbb_cells.length; ++i) {\n",
       "                    if (nbb_cells[i].input_prompt_number == nbb_cell_id) {\n",
       "                        if (nbb_cells[i].get_text() == nbb_unformatted_code) {\n",
       "                             nbb_cells[i].set_text(nbb_formatted_code);\n",
       "                        }\n",
       "                        break;\n",
       "                    }\n",
       "                }\n",
       "            }, 500);\n",
       "            "
      ],
      "text/plain": [
       "<IPython.core.display.Javascript object>"
      ]
     },
     "metadata": {},
     "output_type": "display_data"
    }
   ],
   "source": [
    "%%time\n",
    "lreg.fit(new_train_logistic, y_train.reshape(-1))"
   ]
  },
  {
   "cell_type": "code",
   "execution_count": 63,
   "metadata": {},
   "outputs": [
    {
     "data": {
      "text/plain": [
       "0.9236967465427502"
      ]
     },
     "execution_count": 63,
     "metadata": {},
     "output_type": "execute_result"
    },
    {
     "data": {
      "application/javascript": [
       "\n",
       "            setTimeout(function() {\n",
       "                var nbb_cell_id = 63;\n",
       "                var nbb_unformatted_code = \"roc_auc_score(\\n    y_true=y_valid, y_score=lreg.predict_proba(new_valid_logistic)[:, 1],\\n)\";\n",
       "                var nbb_formatted_code = \"roc_auc_score(\\n    y_true=y_valid, y_score=lreg.predict_proba(new_valid_logistic)[:, 1],\\n)\";\n",
       "                var nbb_cells = Jupyter.notebook.get_cells();\n",
       "                for (var i = 0; i < nbb_cells.length; ++i) {\n",
       "                    if (nbb_cells[i].input_prompt_number == nbb_cell_id) {\n",
       "                        if (nbb_cells[i].get_text() == nbb_unformatted_code) {\n",
       "                             nbb_cells[i].set_text(nbb_formatted_code);\n",
       "                        }\n",
       "                        break;\n",
       "                    }\n",
       "                }\n",
       "            }, 500);\n",
       "            "
      ],
      "text/plain": [
       "<IPython.core.display.Javascript object>"
      ]
     },
     "metadata": {},
     "output_type": "display_data"
    }
   ],
   "source": [
    "roc_auc_score(\n",
    "    y_true=y_valid, y_score=lreg.predict_proba(new_valid_logistic)[:, 1],\n",
    ")"
   ]
  },
  {
   "cell_type": "code",
   "execution_count": 64,
   "metadata": {},
   "outputs": [
    {
     "data": {
      "text/plain": [
       "0.9237837351679689"
      ]
     },
     "execution_count": 64,
     "metadata": {},
     "output_type": "execute_result"
    },
    {
     "data": {
      "application/javascript": [
       "\n",
       "            setTimeout(function() {\n",
       "                var nbb_cell_id = 64;\n",
       "                var nbb_unformatted_code = \"roc_auc_score(\\n    y_true=y_test, y_score=lreg.predict_proba(new_test_logistic)[:, 1],\\n)\";\n",
       "                var nbb_formatted_code = \"roc_auc_score(\\n    y_true=y_test, y_score=lreg.predict_proba(new_test_logistic)[:, 1],\\n)\";\n",
       "                var nbb_cells = Jupyter.notebook.get_cells();\n",
       "                for (var i = 0; i < nbb_cells.length; ++i) {\n",
       "                    if (nbb_cells[i].input_prompt_number == nbb_cell_id) {\n",
       "                        if (nbb_cells[i].get_text() == nbb_unformatted_code) {\n",
       "                             nbb_cells[i].set_text(nbb_formatted_code);\n",
       "                        }\n",
       "                        break;\n",
       "                    }\n",
       "                }\n",
       "            }, 500);\n",
       "            "
      ],
      "text/plain": [
       "<IPython.core.display.Javascript object>"
      ]
     },
     "metadata": {},
     "output_type": "display_data"
    }
   ],
   "source": [
    "roc_auc_score(\n",
    "    y_true=y_test, y_score=lreg.predict_proba(new_test_logistic)[:, 1],\n",
    ")"
   ]
  },
  {
   "cell_type": "code",
   "execution_count": 65,
   "metadata": {},
   "outputs": [
    {
     "data": {
      "application/javascript": [
       "\n",
       "            setTimeout(function() {\n",
       "                var nbb_cell_id = 65;\n",
       "                var nbb_unformatted_code = \"lreg_cv = LogisticRegressionCV(Cs=10, max_iter=300, n_jobs=-1, cv=5, random_state=0)\";\n",
       "                var nbb_formatted_code = \"lreg_cv = LogisticRegressionCV(Cs=10, max_iter=300, n_jobs=-1, cv=5, random_state=0)\";\n",
       "                var nbb_cells = Jupyter.notebook.get_cells();\n",
       "                for (var i = 0; i < nbb_cells.length; ++i) {\n",
       "                    if (nbb_cells[i].input_prompt_number == nbb_cell_id) {\n",
       "                        if (nbb_cells[i].get_text() == nbb_unformatted_code) {\n",
       "                             nbb_cells[i].set_text(nbb_formatted_code);\n",
       "                        }\n",
       "                        break;\n",
       "                    }\n",
       "                }\n",
       "            }, 500);\n",
       "            "
      ],
      "text/plain": [
       "<IPython.core.display.Javascript object>"
      ]
     },
     "metadata": {},
     "output_type": "display_data"
    }
   ],
   "source": [
    "lreg_cv = LogisticRegressionCV(Cs=10, max_iter=300, n_jobs=-1, cv=5, random_state=0)"
   ]
  },
  {
   "cell_type": "code",
   "execution_count": 66,
   "metadata": {},
   "outputs": [
    {
     "name": "stdout",
     "output_type": "stream",
     "text": [
      "CPU times: user 3.38 s, sys: 572 ms, total: 3.95 s\n",
      "Wall time: 1min 12s\n"
     ]
    },
    {
     "data": {
      "text/plain": [
       "LogisticRegressionCV(cv=5, max_iter=300, n_jobs=-1, random_state=0)"
      ]
     },
     "execution_count": 66,
     "metadata": {},
     "output_type": "execute_result"
    },
    {
     "data": {
      "application/javascript": [
       "\n",
       "            setTimeout(function() {\n",
       "                var nbb_cell_id = 66;\n",
       "                var nbb_unformatted_code = \"%%time\\nlreg_cv.fit(new_train_logistic, y_train.reshape(-1))\";\n",
       "                var nbb_formatted_code = \"%%time\\nlreg_cv.fit(new_train_logistic, y_train.reshape(-1))\";\n",
       "                var nbb_cells = Jupyter.notebook.get_cells();\n",
       "                for (var i = 0; i < nbb_cells.length; ++i) {\n",
       "                    if (nbb_cells[i].input_prompt_number == nbb_cell_id) {\n",
       "                        if (nbb_cells[i].get_text() == nbb_unformatted_code) {\n",
       "                             nbb_cells[i].set_text(nbb_formatted_code);\n",
       "                        }\n",
       "                        break;\n",
       "                    }\n",
       "                }\n",
       "            }, 500);\n",
       "            "
      ],
      "text/plain": [
       "<IPython.core.display.Javascript object>"
      ]
     },
     "metadata": {},
     "output_type": "display_data"
    }
   ],
   "source": [
    "%%time\n",
    "lreg_cv.fit(new_train_logistic, y_train.reshape(-1))"
   ]
  },
  {
   "cell_type": "code",
   "execution_count": 67,
   "metadata": {},
   "outputs": [
    {
     "data": {
      "text/plain": [
       "0.924271040489364"
      ]
     },
     "execution_count": 67,
     "metadata": {},
     "output_type": "execute_result"
    },
    {
     "data": {
      "application/javascript": [
       "\n",
       "            setTimeout(function() {\n",
       "                var nbb_cell_id = 67;\n",
       "                var nbb_unformatted_code = \"roc_auc_score(\\n    y_true=y_valid, y_score=lreg_cv.predict_proba(new_valid_logistic)[:, 1],\\n)\";\n",
       "                var nbb_formatted_code = \"roc_auc_score(\\n    y_true=y_valid, y_score=lreg_cv.predict_proba(new_valid_logistic)[:, 1],\\n)\";\n",
       "                var nbb_cells = Jupyter.notebook.get_cells();\n",
       "                for (var i = 0; i < nbb_cells.length; ++i) {\n",
       "                    if (nbb_cells[i].input_prompt_number == nbb_cell_id) {\n",
       "                        if (nbb_cells[i].get_text() == nbb_unformatted_code) {\n",
       "                             nbb_cells[i].set_text(nbb_formatted_code);\n",
       "                        }\n",
       "                        break;\n",
       "                    }\n",
       "                }\n",
       "            }, 500);\n",
       "            "
      ],
      "text/plain": [
       "<IPython.core.display.Javascript object>"
      ]
     },
     "metadata": {},
     "output_type": "display_data"
    }
   ],
   "source": [
    "roc_auc_score(\n",
    "    y_true=y_valid, y_score=lreg_cv.predict_proba(new_valid_logistic)[:, 1],\n",
    ")"
   ]
  },
  {
   "cell_type": "code",
   "execution_count": 68,
   "metadata": {},
   "outputs": [
    {
     "data": {
      "text/plain": [
       "0.9241963976451931"
      ]
     },
     "execution_count": 68,
     "metadata": {},
     "output_type": "execute_result"
    },
    {
     "data": {
      "application/javascript": [
       "\n",
       "            setTimeout(function() {\n",
       "                var nbb_cell_id = 68;\n",
       "                var nbb_unformatted_code = \"roc_auc_score(\\n    y_true=y_test, y_score=lreg_cv.predict_proba(new_test_logistic)[:, 1],\\n)\";\n",
       "                var nbb_formatted_code = \"roc_auc_score(\\n    y_true=y_test, y_score=lreg_cv.predict_proba(new_test_logistic)[:, 1],\\n)\";\n",
       "                var nbb_cells = Jupyter.notebook.get_cells();\n",
       "                for (var i = 0; i < nbb_cells.length; ++i) {\n",
       "                    if (nbb_cells[i].input_prompt_number == nbb_cell_id) {\n",
       "                        if (nbb_cells[i].get_text() == nbb_unformatted_code) {\n",
       "                             nbb_cells[i].set_text(nbb_formatted_code);\n",
       "                        }\n",
       "                        break;\n",
       "                    }\n",
       "                }\n",
       "            }, 500);\n",
       "            "
      ],
      "text/plain": [
       "<IPython.core.display.Javascript object>"
      ]
     },
     "metadata": {},
     "output_type": "display_data"
    }
   ],
   "source": [
    "roc_auc_score(\n",
    "    y_true=y_test, y_score=lreg_cv.predict_proba(new_test_logistic)[:, 1],\n",
    ")"
   ]
  },
  {
   "cell_type": "code",
   "execution_count": null,
   "metadata": {},
   "outputs": [],
   "source": []
  }
 ],
 "metadata": {
  "kernelspec": {
   "display_name": "Python 3",
   "language": "python",
   "name": "python3"
  },
  "language_info": {
   "codemirror_mode": {
    "name": "ipython",
    "version": 3
   },
   "file_extension": ".py",
   "mimetype": "text/x-python",
   "name": "python",
   "nbconvert_exporter": "python",
   "pygments_lexer": "ipython3",
   "version": "3.7.7"
  }
 },
 "nbformat": 4,
 "nbformat_minor": 4
}
