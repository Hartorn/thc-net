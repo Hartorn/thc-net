{
 "cells": [
  {
   "cell_type": "code",
   "execution_count": 1,
   "metadata": {
    "ExecuteTime": {
     "end_time": "2020-05-25T20:59:43.941660Z",
     "start_time": "2020-05-25T20:59:43.833639Z"
    }
   },
   "outputs": [
    {
     "data": {
      "application/javascript": [
       "\n",
       "            setTimeout(function() {\n",
       "                var nbb_cell_id = 1;\n",
       "                var nbb_unformatted_code = \"%load_ext nb_black\";\n",
       "                var nbb_formatted_code = \"%load_ext nb_black\";\n",
       "                var nbb_cells = Jupyter.notebook.get_cells();\n",
       "                for (var i = 0; i < nbb_cells.length; ++i) {\n",
       "                    if (nbb_cells[i].input_prompt_number == nbb_cell_id) {\n",
       "                        if (nbb_cells[i].get_text() == nbb_unformatted_code) {\n",
       "                             nbb_cells[i].set_text(nbb_formatted_code);\n",
       "                        }\n",
       "                        break;\n",
       "                    }\n",
       "                }\n",
       "            }, 500);\n",
       "            "
      ],
      "text/plain": [
       "<IPython.core.display.Javascript object>"
      ]
     },
     "metadata": {},
     "output_type": "display_data"
    }
   ],
   "source": [
    "%load_ext nb_black"
   ]
  },
  {
   "cell_type": "code",
   "execution_count": 2,
   "metadata": {
    "ExecuteTime": {
     "end_time": "2020-05-25T20:59:44.433824Z",
     "start_time": "2020-05-25T20:59:43.943368Z"
    }
   },
   "outputs": [
    {
     "data": {
      "application/javascript": [
       "\n",
       "            setTimeout(function() {\n",
       "                var nbb_cell_id = 2;\n",
       "                var nbb_unformatted_code = \"import os\\nfrom pathlib import Path\\n\\nfrom requests import get\\nimport pandas as pd\\nimport numpy as np\\n\\nnp.random.seed(0)\\n\\nfrom sklearn.preprocessing import LabelEncoder\\nfrom sklearn.metrics import roc_auc_score\\n\\nimport logging\\n\\nlogging.basicConfig(level=logging.WARN)\";\n",
       "                var nbb_formatted_code = \"import os\\nfrom pathlib import Path\\n\\nfrom requests import get\\nimport pandas as pd\\nimport numpy as np\\n\\nnp.random.seed(0)\\n\\nfrom sklearn.preprocessing import LabelEncoder\\nfrom sklearn.metrics import roc_auc_score\\n\\nimport logging\\n\\nlogging.basicConfig(level=logging.WARN)\";\n",
       "                var nbb_cells = Jupyter.notebook.get_cells();\n",
       "                for (var i = 0; i < nbb_cells.length; ++i) {\n",
       "                    if (nbb_cells[i].input_prompt_number == nbb_cell_id) {\n",
       "                        if (nbb_cells[i].get_text() == nbb_unformatted_code) {\n",
       "                             nbb_cells[i].set_text(nbb_formatted_code);\n",
       "                        }\n",
       "                        break;\n",
       "                    }\n",
       "                }\n",
       "            }, 500);\n",
       "            "
      ],
      "text/plain": [
       "<IPython.core.display.Javascript object>"
      ]
     },
     "metadata": {},
     "output_type": "display_data"
    }
   ],
   "source": [
    "import os\n",
    "from pathlib import Path\n",
    "\n",
    "from requests import get\n",
    "import pandas as pd\n",
    "import numpy as np\n",
    "\n",
    "np.random.seed(0)\n",
    "\n",
    "from sklearn.preprocessing import LabelEncoder\n",
    "from sklearn.metrics import roc_auc_score\n",
    "\n",
    "import logging\n",
    "\n",
    "logging.basicConfig(level=logging.WARN)\n"
   ]
  },
  {
   "cell_type": "code",
   "execution_count": 3,
   "metadata": {
    "ExecuteTime": {
     "end_time": "2020-05-25T20:59:45.767278Z",
     "start_time": "2020-05-25T20:59:44.435849Z"
    }
   },
   "outputs": [
    {
     "data": {
      "application/javascript": [
       "\n",
       "            setTimeout(function() {\n",
       "                var nbb_cell_id = 3;\n",
       "                var nbb_unformatted_code = \"from tensorflow.keras import Model, Input\\nfrom tensorflow.keras.layers import (\\n    Conv1D,\\n    SpatialDropout1D,\\n    LocallyConnected1D,\\n    Dense,\\n    Reshape,\\n    MaxPooling1D,\\n    BatchNormalization,\\n    Activation,\\n    LayerNormalization,\\n)\\n\\nfrom tensorflow.keras.callbacks import EarlyStopping\\nfrom tensorflow.keras.utils import to_categorical\\n\\nfrom tensorflow_addons.activations import mish\\nfrom tensorflow_addons.optimizers import RectifiedAdam, Lookahead\\nfrom tensorflow_addons.layers import WeightNormalization\\n\\nfrom sklearn.model_selection import train_test_split, StratifiedShuffleSplit\\nfrom sklearn.metrics import roc_auc_score\\nfrom sklearn.preprocessing import LabelEncoder\\n\\n\\nfrom itertools import repeat\\nfrom concurrent.futures import ProcessPoolExecutor as PoolExecutor\\n\\nimport matplotlib.pyplot as plt\\nfrom matplotlib.pyplot import imshow\\n\\n%matplotlib inline\";\n",
       "                var nbb_formatted_code = \"from tensorflow.keras import Model, Input\\nfrom tensorflow.keras.layers import (\\n    Conv1D,\\n    SpatialDropout1D,\\n    LocallyConnected1D,\\n    Dense,\\n    Reshape,\\n    MaxPooling1D,\\n    BatchNormalization,\\n    Activation,\\n    LayerNormalization,\\n)\\n\\nfrom tensorflow.keras.callbacks import EarlyStopping\\nfrom tensorflow.keras.utils import to_categorical\\n\\nfrom tensorflow_addons.activations import mish\\nfrom tensorflow_addons.optimizers import RectifiedAdam, Lookahead\\nfrom tensorflow_addons.layers import WeightNormalization\\n\\nfrom sklearn.model_selection import train_test_split, StratifiedShuffleSplit\\nfrom sklearn.metrics import roc_auc_score\\nfrom sklearn.preprocessing import LabelEncoder\\n\\n\\nfrom itertools import repeat\\nfrom concurrent.futures import ProcessPoolExecutor as PoolExecutor\\n\\nimport matplotlib.pyplot as plt\\nfrom matplotlib.pyplot import imshow\\n\\n%matplotlib inline\";\n",
       "                var nbb_cells = Jupyter.notebook.get_cells();\n",
       "                for (var i = 0; i < nbb_cells.length; ++i) {\n",
       "                    if (nbb_cells[i].input_prompt_number == nbb_cell_id) {\n",
       "                        if (nbb_cells[i].get_text() == nbb_unformatted_code) {\n",
       "                             nbb_cells[i].set_text(nbb_formatted_code);\n",
       "                        }\n",
       "                        break;\n",
       "                    }\n",
       "                }\n",
       "            }, 500);\n",
       "            "
      ],
      "text/plain": [
       "<IPython.core.display.Javascript object>"
      ]
     },
     "metadata": {},
     "output_type": "display_data"
    }
   ],
   "source": [
    "from tensorflow.keras import Model, Input\n",
    "from tensorflow.keras.layers import (\n",
    "    Conv1D,\n",
    "    SpatialDropout1D,\n",
    "    LocallyConnected1D,\n",
    "    Dense,\n",
    "    Reshape,\n",
    "    MaxPooling1D,\n",
    "    BatchNormalization,\n",
    "    Activation,\n",
    "    LayerNormalization,\n",
    ")\n",
    "\n",
    "from tensorflow.keras.callbacks import EarlyStopping\n",
    "from tensorflow.keras.utils import to_categorical\n",
    "\n",
    "from tensorflow_addons.activations import mish\n",
    "from tensorflow_addons.optimizers import RectifiedAdam, Lookahead\n",
    "from tensorflow_addons.layers import WeightNormalization\n",
    "\n",
    "from sklearn.model_selection import train_test_split, StratifiedShuffleSplit\n",
    "from sklearn.metrics import roc_auc_score\n",
    "from sklearn.preprocessing import LabelEncoder\n",
    "\n",
    "\n",
    "from itertools import repeat\n",
    "from concurrent.futures import ProcessPoolExecutor as PoolExecutor\n",
    "\n",
    "import matplotlib.pyplot as plt\n",
    "from matplotlib.pyplot import imshow\n",
    "\n",
    "%matplotlib inline\n"
   ]
  },
  {
   "cell_type": "code",
   "execution_count": 4,
   "metadata": {},
   "outputs": [
    {
     "data": {
      "application/javascript": [
       "\n",
       "            setTimeout(function() {\n",
       "                var nbb_cell_id = 4;\n",
       "                var nbb_unformatted_code = \"import tensorflow_addons as tfa\\n\\ntfa.options.TF_ADDONS_PY_OPS = True\";\n",
       "                var nbb_formatted_code = \"import tensorflow_addons as tfa\\n\\ntfa.options.TF_ADDONS_PY_OPS = True\";\n",
       "                var nbb_cells = Jupyter.notebook.get_cells();\n",
       "                for (var i = 0; i < nbb_cells.length; ++i) {\n",
       "                    if (nbb_cells[i].input_prompt_number == nbb_cell_id) {\n",
       "                        if (nbb_cells[i].get_text() == nbb_unformatted_code) {\n",
       "                             nbb_cells[i].set_text(nbb_formatted_code);\n",
       "                        }\n",
       "                        break;\n",
       "                    }\n",
       "                }\n",
       "            }, 500);\n",
       "            "
      ],
      "text/plain": [
       "<IPython.core.display.Javascript object>"
      ]
     },
     "metadata": {},
     "output_type": "display_data"
    }
   ],
   "source": [
    "import tensorflow_addons as tfa\n",
    "\n",
    "tfa.options.TF_ADDONS_PY_OPS = True"
   ]
  },
  {
   "cell_type": "code",
   "execution_count": 5,
   "metadata": {
    "ExecuteTime": {
     "end_time": "2020-05-25T20:59:45.781039Z",
     "start_time": "2020-05-25T20:59:45.769170Z"
    }
   },
   "outputs": [
    {
     "data": {
      "application/javascript": [
       "\n",
       "            setTimeout(function() {\n",
       "                var nbb_cell_id = 5;\n",
       "                var nbb_unformatted_code = \"def word_to_np_array(word, cut_length):\\n    result = np.zeros(cut_length, dtype=\\\"uint8\\\")\\n    for i, letter in enumerate(word[:cut_length]):\\n        result[i] = ord(letter)\\n    return result\";\n",
       "                var nbb_formatted_code = \"def word_to_np_array(word, cut_length):\\n    result = np.zeros(cut_length, dtype=\\\"uint8\\\")\\n    for i, letter in enumerate(word[:cut_length]):\\n        result[i] = ord(letter)\\n    return result\";\n",
       "                var nbb_cells = Jupyter.notebook.get_cells();\n",
       "                for (var i = 0; i < nbb_cells.length; ++i) {\n",
       "                    if (nbb_cells[i].input_prompt_number == nbb_cell_id) {\n",
       "                        if (nbb_cells[i].get_text() == nbb_unformatted_code) {\n",
       "                             nbb_cells[i].set_text(nbb_formatted_code);\n",
       "                        }\n",
       "                        break;\n",
       "                    }\n",
       "                }\n",
       "            }, 500);\n",
       "            "
      ],
      "text/plain": [
       "<IPython.core.display.Javascript object>"
      ]
     },
     "metadata": {},
     "output_type": "display_data"
    }
   ],
   "source": [
    "def word_to_np_array(word, cut_length):\n",
    "    result = np.zeros(cut_length, dtype=\"uint8\")\n",
    "    for i, letter in enumerate(word[:cut_length]):\n",
    "        result[i] = ord(letter)\n",
    "    return result"
   ]
  },
  {
   "cell_type": "code",
   "execution_count": 6,
   "metadata": {
    "ExecuteTime": {
     "end_time": "2020-05-25T20:59:45.893504Z",
     "start_time": "2020-05-25T20:59:45.782485Z"
    }
   },
   "outputs": [
    {
     "data": {
      "application/javascript": [
       "\n",
       "            setTimeout(function() {\n",
       "                var nbb_cell_id = 6;\n",
       "                var nbb_unformatted_code = \"def line_to_img(line, cut_length):\\n    result = np.zeros((line.shape[0], cut_length), dtype=\\\"uint8\\\")\\n    for i in range(line.shape[0]):\\n        result[i] = word_to_np_array(line[i], cut_length)\\n    return result\";\n",
       "                var nbb_formatted_code = \"def line_to_img(line, cut_length):\\n    result = np.zeros((line.shape[0], cut_length), dtype=\\\"uint8\\\")\\n    for i in range(line.shape[0]):\\n        result[i] = word_to_np_array(line[i], cut_length)\\n    return result\";\n",
       "                var nbb_cells = Jupyter.notebook.get_cells();\n",
       "                for (var i = 0; i < nbb_cells.length; ++i) {\n",
       "                    if (nbb_cells[i].input_prompt_number == nbb_cell_id) {\n",
       "                        if (nbb_cells[i].get_text() == nbb_unformatted_code) {\n",
       "                             nbb_cells[i].set_text(nbb_formatted_code);\n",
       "                        }\n",
       "                        break;\n",
       "                    }\n",
       "                }\n",
       "            }, 500);\n",
       "            "
      ],
      "text/plain": [
       "<IPython.core.display.Javascript object>"
      ]
     },
     "metadata": {},
     "output_type": "display_data"
    }
   ],
   "source": [
    "def line_to_img(line, cut_length):\n",
    "    result = np.zeros((line.shape[0], cut_length), dtype=\"uint8\")\n",
    "    for i in range(line.shape[0]):\n",
    "        result[i] = word_to_np_array(line[i], cut_length)\n",
    "    return result"
   ]
  },
  {
   "cell_type": "code",
   "execution_count": 7,
   "metadata": {
    "ExecuteTime": {
     "end_time": "2020-05-25T20:59:46.016629Z",
     "start_time": "2020-05-25T20:59:45.895831Z"
    }
   },
   "outputs": [
    {
     "data": {
      "application/javascript": [
       "\n",
       "            setTimeout(function() {\n",
       "                var nbb_cell_id = 7;\n",
       "                var nbb_unformatted_code = \"def do_parallel_numpy(map_func, iter_params, constant_params=None):\\n    repeated_params = (\\n        [] if constant_params is None else list(map(repeat, constant_params))\\n    )\\n    results = None\\n    with PoolExecutor() as executor:\\n        results = np.stack(\\n            list(executor.map(map_func, *iter_params, *repeated_params)), axis=0\\n        )\\n    return results\";\n",
       "                var nbb_formatted_code = \"def do_parallel_numpy(map_func, iter_params, constant_params=None):\\n    repeated_params = (\\n        [] if constant_params is None else list(map(repeat, constant_params))\\n    )\\n    results = None\\n    with PoolExecutor() as executor:\\n        results = np.stack(\\n            list(executor.map(map_func, *iter_params, *repeated_params)), axis=0\\n        )\\n    return results\";\n",
       "                var nbb_cells = Jupyter.notebook.get_cells();\n",
       "                for (var i = 0; i < nbb_cells.length; ++i) {\n",
       "                    if (nbb_cells[i].input_prompt_number == nbb_cell_id) {\n",
       "                        if (nbb_cells[i].get_text() == nbb_unformatted_code) {\n",
       "                             nbb_cells[i].set_text(nbb_formatted_code);\n",
       "                        }\n",
       "                        break;\n",
       "                    }\n",
       "                }\n",
       "            }, 500);\n",
       "            "
      ],
      "text/plain": [
       "<IPython.core.display.Javascript object>"
      ]
     },
     "metadata": {},
     "output_type": "display_data"
    }
   ],
   "source": [
    "def do_parallel_numpy(map_func, iter_params, constant_params=None):\n",
    "    repeated_params = (\n",
    "        [] if constant_params is None else list(map(repeat, constant_params))\n",
    "    )\n",
    "    results = None\n",
    "    with PoolExecutor() as executor:\n",
    "        results = np.stack(\n",
    "            list(executor.map(map_func, *iter_params, *repeated_params)), axis=0\n",
    "        )\n",
    "    return results"
   ]
  },
  {
   "cell_type": "code",
   "execution_count": 8,
   "metadata": {
    "ExecuteTime": {
     "end_time": "2020-05-25T20:59:46.106802Z",
     "start_time": "2020-05-25T20:59:46.020842Z"
    }
   },
   "outputs": [
    {
     "data": {
      "application/javascript": [
       "\n",
       "            setTimeout(function() {\n",
       "                var nbb_cell_id = 8;\n",
       "                var nbb_unformatted_code = \"def download(url, out, force=False, verify=True):\\n    out.parent.mkdir(parents=True, exist_ok=True)\\n    if force and out.exists():\\n        print(f\\\"Removing file at {str(out)}\\\")\\n        out.unlink()\\n\\n    if out.exists():\\n        print(\\\"File already exists.\\\")\\n        return\\n    print(f\\\"Downloading {url} at {str(out)} ...\\\")\\n    # open in binary mode\\n    with out.open(mode=\\\"wb\\\") as file:\\n        # get request\\n        response = get(url, verify=verify)\\n        for chunk in response.iter_content(100000):\\n            # write to file\\n            file.write(chunk)\";\n",
       "                var nbb_formatted_code = \"def download(url, out, force=False, verify=True):\\n    out.parent.mkdir(parents=True, exist_ok=True)\\n    if force and out.exists():\\n        print(f\\\"Removing file at {str(out)}\\\")\\n        out.unlink()\\n\\n    if out.exists():\\n        print(\\\"File already exists.\\\")\\n        return\\n    print(f\\\"Downloading {url} at {str(out)} ...\\\")\\n    # open in binary mode\\n    with out.open(mode=\\\"wb\\\") as file:\\n        # get request\\n        response = get(url, verify=verify)\\n        for chunk in response.iter_content(100000):\\n            # write to file\\n            file.write(chunk)\";\n",
       "                var nbb_cells = Jupyter.notebook.get_cells();\n",
       "                for (var i = 0; i < nbb_cells.length; ++i) {\n",
       "                    if (nbb_cells[i].input_prompt_number == nbb_cell_id) {\n",
       "                        if (nbb_cells[i].get_text() == nbb_unformatted_code) {\n",
       "                             nbb_cells[i].set_text(nbb_formatted_code);\n",
       "                        }\n",
       "                        break;\n",
       "                    }\n",
       "                }\n",
       "            }, 500);\n",
       "            "
      ],
      "text/plain": [
       "<IPython.core.display.Javascript object>"
      ]
     },
     "metadata": {},
     "output_type": "display_data"
    }
   ],
   "source": [
    "def download(url, out, force=False, verify=True):\n",
    "    out.parent.mkdir(parents=True, exist_ok=True)\n",
    "    if force and out.exists():\n",
    "        print(f\"Removing file at {str(out)}\")\n",
    "        out.unlink()\n",
    "\n",
    "    if out.exists():\n",
    "        print(\"File already exists.\")\n",
    "        return\n",
    "    print(f\"Downloading {url} at {str(out)} ...\")\n",
    "    # open in binary mode\n",
    "    with out.open(mode=\"wb\") as file:\n",
    "        # get request\n",
    "        response = get(url, verify=verify)\n",
    "        for chunk in response.iter_content(100000):\n",
    "            # write to file\n",
    "            file.write(chunk)\n"
   ]
  },
  {
   "cell_type": "code",
   "execution_count": 9,
   "metadata": {
    "ExecuteTime": {
     "end_time": "2020-05-25T20:59:46.210035Z",
     "start_time": "2020-05-25T20:59:46.110562Z"
    }
   },
   "outputs": [
    {
     "data": {
      "application/javascript": [
       "\n",
       "            setTimeout(function() {\n",
       "                var nbb_cell_id = 9;\n",
       "                var nbb_unformatted_code = \"def plot_history(history):\\n    loss_list = [s for s in history.history.keys() if \\\"loss\\\" in s and \\\"val\\\" not in s]\\n    val_loss_list = [s for s in history.history.keys() if \\\"loss\\\" in s and \\\"val\\\" in s]\\n    acc_list = [s for s in history.history.keys() if \\\"AUC\\\" in s and \\\"val\\\" not in s]\\n    val_acc_list = [s for s in history.history.keys() if \\\"AUC\\\" in s and \\\"val\\\" in s]\\n\\n    if len(loss_list) == 0:\\n        print(\\\"Loss is missing in history\\\")\\n        return\\n\\n    ## As loss always exists\\n    epochs = range(1, len(history.history[loss_list[0]]) + 1)\\n\\n    ## Loss\\n    plt.figure(1)\\n    for l in loss_list:\\n        plt.plot(\\n            epochs,\\n            history.history[l],\\n            \\\"b\\\",\\n            label=\\\"Training loss (\\\"\\n            + str(str(format(history.history[l][-1], \\\".5f\\\")) + \\\")\\\"),\\n        )\\n    for l in val_loss_list:\\n        plt.plot(\\n            epochs,\\n            history.history[l],\\n            \\\"g\\\",\\n            label=\\\"Validation loss (\\\"\\n            + str(str(format(history.history[l][-1], \\\".5f\\\")) + \\\")\\\"),\\n        )\\n\\n    plt.title(\\\"Loss\\\")\\n    plt.xlabel(\\\"Epochs\\\")\\n    plt.ylabel(\\\"Loss\\\")\\n    plt.legend()\\n\\n    plt.show()\";\n",
       "                var nbb_formatted_code = \"def plot_history(history):\\n    loss_list = [s for s in history.history.keys() if \\\"loss\\\" in s and \\\"val\\\" not in s]\\n    val_loss_list = [s for s in history.history.keys() if \\\"loss\\\" in s and \\\"val\\\" in s]\\n    acc_list = [s for s in history.history.keys() if \\\"AUC\\\" in s and \\\"val\\\" not in s]\\n    val_acc_list = [s for s in history.history.keys() if \\\"AUC\\\" in s and \\\"val\\\" in s]\\n\\n    if len(loss_list) == 0:\\n        print(\\\"Loss is missing in history\\\")\\n        return\\n\\n    ## As loss always exists\\n    epochs = range(1, len(history.history[loss_list[0]]) + 1)\\n\\n    ## Loss\\n    plt.figure(1)\\n    for l in loss_list:\\n        plt.plot(\\n            epochs,\\n            history.history[l],\\n            \\\"b\\\",\\n            label=\\\"Training loss (\\\"\\n            + str(str(format(history.history[l][-1], \\\".5f\\\")) + \\\")\\\"),\\n        )\\n    for l in val_loss_list:\\n        plt.plot(\\n            epochs,\\n            history.history[l],\\n            \\\"g\\\",\\n            label=\\\"Validation loss (\\\"\\n            + str(str(format(history.history[l][-1], \\\".5f\\\")) + \\\")\\\"),\\n        )\\n\\n    plt.title(\\\"Loss\\\")\\n    plt.xlabel(\\\"Epochs\\\")\\n    plt.ylabel(\\\"Loss\\\")\\n    plt.legend()\\n\\n    plt.show()\";\n",
       "                var nbb_cells = Jupyter.notebook.get_cells();\n",
       "                for (var i = 0; i < nbb_cells.length; ++i) {\n",
       "                    if (nbb_cells[i].input_prompt_number == nbb_cell_id) {\n",
       "                        if (nbb_cells[i].get_text() == nbb_unformatted_code) {\n",
       "                             nbb_cells[i].set_text(nbb_formatted_code);\n",
       "                        }\n",
       "                        break;\n",
       "                    }\n",
       "                }\n",
       "            }, 500);\n",
       "            "
      ],
      "text/plain": [
       "<IPython.core.display.Javascript object>"
      ]
     },
     "metadata": {},
     "output_type": "display_data"
    }
   ],
   "source": [
    "def plot_history(history):\n",
    "    loss_list = [s for s in history.history.keys() if \"loss\" in s and \"val\" not in s]\n",
    "    val_loss_list = [s for s in history.history.keys() if \"loss\" in s and \"val\" in s]\n",
    "    acc_list = [s for s in history.history.keys() if \"AUC\" in s and \"val\" not in s]\n",
    "    val_acc_list = [s for s in history.history.keys() if \"AUC\" in s and \"val\" in s]\n",
    "\n",
    "    if len(loss_list) == 0:\n",
    "        print(\"Loss is missing in history\")\n",
    "        return\n",
    "\n",
    "    ## As loss always exists\n",
    "    epochs = range(1, len(history.history[loss_list[0]]) + 1)\n",
    "\n",
    "    ## Loss\n",
    "    plt.figure(1)\n",
    "    for l in loss_list:\n",
    "        plt.plot(\n",
    "            epochs,\n",
    "            history.history[l],\n",
    "            \"b\",\n",
    "            label=\"Training loss (\"\n",
    "            + str(str(format(history.history[l][-1], \".5f\")) + \")\"),\n",
    "        )\n",
    "    for l in val_loss_list:\n",
    "        plt.plot(\n",
    "            epochs,\n",
    "            history.history[l],\n",
    "            \"g\",\n",
    "            label=\"Validation loss (\"\n",
    "            + str(str(format(history.history[l][-1], \".5f\")) + \")\"),\n",
    "        )\n",
    "\n",
    "    plt.title(\"Loss\")\n",
    "    plt.xlabel(\"Epochs\")\n",
    "    plt.ylabel(\"Loss\")\n",
    "    plt.legend()\n",
    "\n",
    "    plt.show()"
   ]
  },
  {
   "cell_type": "code",
   "execution_count": 10,
   "metadata": {
    "ExecuteTime": {
     "end_time": "2020-05-25T20:59:46.276902Z",
     "start_time": "2020-05-25T20:59:46.212058Z"
    }
   },
   "outputs": [
    {
     "name": "stdout",
     "output_type": "stream",
     "text": [
      "File already exists.\n",
      "File already exists.\n"
     ]
    },
    {
     "data": {
      "application/javascript": [
       "\n",
       "            setTimeout(function() {\n",
       "                var nbb_cell_id = 10;\n",
       "                var nbb_unformatted_code = \"url = \\\"https://archive.ics.uci.edu/ml/machine-learning-databases/adult/adult.data\\\"\\nurl_test = \\\"https://archive.ics.uci.edu/ml/machine-learning-databases/adult/adult.test\\\"\\n\\ndataset_name = \\\"census-income\\\"\\nout = Path(os.getcwd() + \\\"/data/\\\" + dataset_name + \\\".csv\\\")\\nout_test = Path(os.getcwd() + \\\"/data/\\\" + dataset_name + \\\"_test.csv\\\")\\n\\ndownload(url, out, force=False)\\ndownload(url_test, out_test, force=False)\";\n",
       "                var nbb_formatted_code = \"url = \\\"https://archive.ics.uci.edu/ml/machine-learning-databases/adult/adult.data\\\"\\nurl_test = \\\"https://archive.ics.uci.edu/ml/machine-learning-databases/adult/adult.test\\\"\\n\\ndataset_name = \\\"census-income\\\"\\nout = Path(os.getcwd() + \\\"/data/\\\" + dataset_name + \\\".csv\\\")\\nout_test = Path(os.getcwd() + \\\"/data/\\\" + dataset_name + \\\"_test.csv\\\")\\n\\ndownload(url, out, force=False)\\ndownload(url_test, out_test, force=False)\";\n",
       "                var nbb_cells = Jupyter.notebook.get_cells();\n",
       "                for (var i = 0; i < nbb_cells.length; ++i) {\n",
       "                    if (nbb_cells[i].input_prompt_number == nbb_cell_id) {\n",
       "                        if (nbb_cells[i].get_text() == nbb_unformatted_code) {\n",
       "                             nbb_cells[i].set_text(nbb_formatted_code);\n",
       "                        }\n",
       "                        break;\n",
       "                    }\n",
       "                }\n",
       "            }, 500);\n",
       "            "
      ],
      "text/plain": [
       "<IPython.core.display.Javascript object>"
      ]
     },
     "metadata": {},
     "output_type": "display_data"
    }
   ],
   "source": [
    "url = \"https://archive.ics.uci.edu/ml/machine-learning-databases/adult/adult.data\"\n",
    "url_test = \"https://archive.ics.uci.edu/ml/machine-learning-databases/adult/adult.test\"\n",
    "\n",
    "dataset_name = \"census-income\"\n",
    "out = Path(os.getcwd() + \"/data/\" + dataset_name + \".csv\")\n",
    "out_test = Path(os.getcwd() + \"/data/\" + dataset_name + \"_test.csv\")\n",
    "\n",
    "download(url, out, force=False)\n",
    "download(url_test, out_test, force=False)\n"
   ]
  },
  {
   "cell_type": "code",
   "execution_count": 11,
   "metadata": {
    "ExecuteTime": {
     "end_time": "2020-05-25T20:59:46.361578Z",
     "start_time": "2020-05-25T20:59:46.279187Z"
    }
   },
   "outputs": [
    {
     "data": {
      "application/javascript": [
       "\n",
       "            setTimeout(function() {\n",
       "                var nbb_cell_id = 11;\n",
       "                var nbb_unformatted_code = \"cols = [\\n    \\\"age\\\",\\n    \\\"workclass\\\",\\n    \\\"fnlwgt\\\",\\n    \\\"education\\\",\\n    \\\"education-num\\\",\\n    \\\"marital-status\\\",\\n    \\\"occupation\\\",\\n    \\\"relationship\\\",\\n    \\\"race\\\",\\n    \\\"sex\\\",\\n    \\\"capital-gain\\\",\\n    \\\"capital-loss\\\",\\n    \\\"hours-per-week\\\",\\n    \\\"native-country\\\",\\n    \\\"target\\\",\\n]\";\n",
       "                var nbb_formatted_code = \"cols = [\\n    \\\"age\\\",\\n    \\\"workclass\\\",\\n    \\\"fnlwgt\\\",\\n    \\\"education\\\",\\n    \\\"education-num\\\",\\n    \\\"marital-status\\\",\\n    \\\"occupation\\\",\\n    \\\"relationship\\\",\\n    \\\"race\\\",\\n    \\\"sex\\\",\\n    \\\"capital-gain\\\",\\n    \\\"capital-loss\\\",\\n    \\\"hours-per-week\\\",\\n    \\\"native-country\\\",\\n    \\\"target\\\",\\n]\";\n",
       "                var nbb_cells = Jupyter.notebook.get_cells();\n",
       "                for (var i = 0; i < nbb_cells.length; ++i) {\n",
       "                    if (nbb_cells[i].input_prompt_number == nbb_cell_id) {\n",
       "                        if (nbb_cells[i].get_text() == nbb_unformatted_code) {\n",
       "                             nbb_cells[i].set_text(nbb_formatted_code);\n",
       "                        }\n",
       "                        break;\n",
       "                    }\n",
       "                }\n",
       "            }, 500);\n",
       "            "
      ],
      "text/plain": [
       "<IPython.core.display.Javascript object>"
      ]
     },
     "metadata": {},
     "output_type": "display_data"
    }
   ],
   "source": [
    "cols = [\n",
    "    \"age\",\n",
    "    \"workclass\",\n",
    "    \"fnlwgt\",\n",
    "    \"education\",\n",
    "    \"education-num\",\n",
    "    \"marital-status\",\n",
    "    \"occupation\",\n",
    "    \"relationship\",\n",
    "    \"race\",\n",
    "    \"sex\",\n",
    "    \"capital-gain\",\n",
    "    \"capital-loss\",\n",
    "    \"hours-per-week\",\n",
    "    \"native-country\",\n",
    "    \"target\",\n",
    "]"
   ]
  },
  {
   "cell_type": "code",
   "execution_count": 104,
   "metadata": {
    "ExecuteTime": {
     "end_time": "2020-05-25T20:59:46.557825Z",
     "start_time": "2020-05-25T20:59:46.365361Z"
    }
   },
   "outputs": [
    {
     "data": {
      "application/javascript": [
       "\n",
       "            setTimeout(function() {\n",
       "                var nbb_cell_id = 104;\n",
       "                var nbb_unformatted_code = \"train = pd.read_csv(out, names=cols)\\ntest = pd.read_csv(out_test, names=cols, skiprows=2)\\ntarget = \\\"target\\\"\\n\\ntrain[target] = train[target].str.strip()\\n# Test has . in label, let's clean it\\ntest[target] = test[target].str.strip().str.strip(\\\".\\\")\";\n",
       "                var nbb_formatted_code = \"train = pd.read_csv(out, names=cols)\\ntest = pd.read_csv(out_test, names=cols, skiprows=2)\\ntarget = \\\"target\\\"\\n\\ntrain[target] = train[target].str.strip()\\n# Test has . in label, let's clean it\\ntest[target] = test[target].str.strip().str.strip(\\\".\\\")\";\n",
       "                var nbb_cells = Jupyter.notebook.get_cells();\n",
       "                for (var i = 0; i < nbb_cells.length; ++i) {\n",
       "                    if (nbb_cells[i].input_prompt_number == nbb_cell_id) {\n",
       "                        if (nbb_cells[i].get_text() == nbb_unformatted_code) {\n",
       "                             nbb_cells[i].set_text(nbb_formatted_code);\n",
       "                        }\n",
       "                        break;\n",
       "                    }\n",
       "                }\n",
       "            }, 500);\n",
       "            "
      ],
      "text/plain": [
       "<IPython.core.display.Javascript object>"
      ]
     },
     "metadata": {},
     "output_type": "display_data"
    }
   ],
   "source": [
    "train = pd.read_csv(out, names=cols)\n",
    "test = pd.read_csv(out_test, names=cols, skiprows=2)\n",
    "target = \"target\"\n",
    "\n",
    "train[target] = train[target].str.strip()\n",
    "# Test has . in label, let's clean it\n",
    "test[target] = test[target].str.strip().str.strip(\".\")"
   ]
  },
  {
   "cell_type": "code",
   "execution_count": 105,
   "metadata": {
    "ExecuteTime": {
     "end_time": "2020-05-25T20:59:46.566032Z",
     "start_time": "2020-05-25T20:59:46.559340Z"
    }
   },
   "outputs": [
    {
     "data": {
      "application/javascript": [
       "\n",
       "            setTimeout(function() {\n",
       "                var nbb_cell_id = 105;\n",
       "                var nbb_unformatted_code = \"target_encoder = LabelEncoder()\";\n",
       "                var nbb_formatted_code = \"target_encoder = LabelEncoder()\";\n",
       "                var nbb_cells = Jupyter.notebook.get_cells();\n",
       "                for (var i = 0; i < nbb_cells.length; ++i) {\n",
       "                    if (nbb_cells[i].input_prompt_number == nbb_cell_id) {\n",
       "                        if (nbb_cells[i].get_text() == nbb_unformatted_code) {\n",
       "                             nbb_cells[i].set_text(nbb_formatted_code);\n",
       "                        }\n",
       "                        break;\n",
       "                    }\n",
       "                }\n",
       "            }, 500);\n",
       "            "
      ],
      "text/plain": [
       "<IPython.core.display.Javascript object>"
      ]
     },
     "metadata": {},
     "output_type": "display_data"
    }
   ],
   "source": [
    "target_encoder = LabelEncoder()"
   ]
  },
  {
   "cell_type": "code",
   "execution_count": 106,
   "metadata": {
    "ExecuteTime": {
     "end_time": "2020-05-25T20:59:46.661768Z",
     "start_time": "2020-05-25T20:59:46.567593Z"
    }
   },
   "outputs": [
    {
     "data": {
      "application/javascript": [
       "\n",
       "            setTimeout(function() {\n",
       "                var nbb_cell_id = 106;\n",
       "                var nbb_unformatted_code = \"train[target] = target_encoder.fit_transform(train[target].values.reshape(-1))\\ntest[target] = target_encoder.transform(test[target].values.reshape(-1))\";\n",
       "                var nbb_formatted_code = \"train[target] = target_encoder.fit_transform(train[target].values.reshape(-1))\\ntest[target] = target_encoder.transform(test[target].values.reshape(-1))\";\n",
       "                var nbb_cells = Jupyter.notebook.get_cells();\n",
       "                for (var i = 0; i < nbb_cells.length; ++i) {\n",
       "                    if (nbb_cells[i].input_prompt_number == nbb_cell_id) {\n",
       "                        if (nbb_cells[i].get_text() == nbb_unformatted_code) {\n",
       "                             nbb_cells[i].set_text(nbb_formatted_code);\n",
       "                        }\n",
       "                        break;\n",
       "                    }\n",
       "                }\n",
       "            }, 500);\n",
       "            "
      ],
      "text/plain": [
       "<IPython.core.display.Javascript object>"
      ]
     },
     "metadata": {},
     "output_type": "display_data"
    }
   ],
   "source": [
    "train[target] = target_encoder.fit_transform(train[target].values.reshape(-1))\n",
    "test[target] = target_encoder.transform(test[target].values.reshape(-1))"
   ]
  },
  {
   "cell_type": "code",
   "execution_count": 107,
   "metadata": {
    "ExecuteTime": {
     "end_time": "2020-05-25T20:59:46.745241Z",
     "start_time": "2020-05-25T20:59:46.663423Z"
    }
   },
   "outputs": [
    {
     "data": {
      "text/plain": [
       "['fnlwgt',\n",
       " 'marital-status',\n",
       " 'race',\n",
       " 'education-num',\n",
       " 'hours-per-week',\n",
       " 'capital-loss',\n",
       " 'native-country',\n",
       " 'relationship',\n",
       " 'workclass',\n",
       " 'education',\n",
       " 'sex',\n",
       " 'occupation',\n",
       " 'capital-gain',\n",
       " 'age']"
      ]
     },
     "execution_count": 107,
     "metadata": {},
     "output_type": "execute_result"
    },
    {
     "data": {
      "application/javascript": [
       "\n",
       "            setTimeout(function() {\n",
       "                var nbb_cell_id = 107;\n",
       "                var nbb_unformatted_code = \"used_columns = list(set(train.columns.tolist()) - set([target]) - set([\\\"Set\\\"]))\\nused_columns\";\n",
       "                var nbb_formatted_code = \"used_columns = list(set(train.columns.tolist()) - set([target]) - set([\\\"Set\\\"]))\\nused_columns\";\n",
       "                var nbb_cells = Jupyter.notebook.get_cells();\n",
       "                for (var i = 0; i < nbb_cells.length; ++i) {\n",
       "                    if (nbb_cells[i].input_prompt_number == nbb_cell_id) {\n",
       "                        if (nbb_cells[i].get_text() == nbb_unformatted_code) {\n",
       "                             nbb_cells[i].set_text(nbb_formatted_code);\n",
       "                        }\n",
       "                        break;\n",
       "                    }\n",
       "                }\n",
       "            }, 500);\n",
       "            "
      ],
      "text/plain": [
       "<IPython.core.display.Javascript object>"
      ]
     },
     "metadata": {},
     "output_type": "display_data"
    }
   ],
   "source": [
    "used_columns = list(set(train.columns.tolist()) - set([target]) - set([\"Set\"]))\n",
    "used_columns"
   ]
  },
  {
   "cell_type": "code",
   "execution_count": 108,
   "metadata": {
    "ExecuteTime": {
     "end_time": "2020-05-25T20:59:47.405604Z",
     "start_time": "2020-05-25T20:59:46.747053Z"
    }
   },
   "outputs": [
    {
     "data": {
      "application/javascript": [
       "\n",
       "            setTimeout(function() {\n",
       "                var nbb_cell_id = 108;\n",
       "                var nbb_unformatted_code = \"train[\\\"Set\\\"] = np.random.choice(\\n    [\\\"train\\\", \\\"valid\\\"], p=[0.8, 0.2], size=(train.shape[0],)\\n)\\n\\ntrain_indices = train[train.Set == \\\"train\\\"].index\\nvalid_indices = train[train.Set == \\\"valid\\\"].index\\n\\nX_train = np.char.strip(train[used_columns].values[train_indices].astype(\\\"str\\\"))\\nX_valid = np.char.strip(train[used_columns].values[valid_indices].astype(\\\"str\\\"))\\n\\ny_train = train[target].values[train_indices]\\ny_valid = train[target].values[valid_indices]\\n\\n# Test here should be ignored for training, only purpose is benching with paper values\\nX_test = np.char.strip(test[used_columns].values.astype(\\\"str\\\"))\\ny_test = test[target].values\\n\\ndel train, test, train_indices, valid_indices\";\n",
       "                var nbb_formatted_code = \"train[\\\"Set\\\"] = np.random.choice(\\n    [\\\"train\\\", \\\"valid\\\"], p=[0.8, 0.2], size=(train.shape[0],)\\n)\\n\\ntrain_indices = train[train.Set == \\\"train\\\"].index\\nvalid_indices = train[train.Set == \\\"valid\\\"].index\\n\\nX_train = np.char.strip(train[used_columns].values[train_indices].astype(\\\"str\\\"))\\nX_valid = np.char.strip(train[used_columns].values[valid_indices].astype(\\\"str\\\"))\\n\\ny_train = train[target].values[train_indices]\\ny_valid = train[target].values[valid_indices]\\n\\n# Test here should be ignored for training, only purpose is benching with paper values\\nX_test = np.char.strip(test[used_columns].values.astype(\\\"str\\\"))\\ny_test = test[target].values\\n\\ndel train, test, train_indices, valid_indices\";\n",
       "                var nbb_cells = Jupyter.notebook.get_cells();\n",
       "                for (var i = 0; i < nbb_cells.length; ++i) {\n",
       "                    if (nbb_cells[i].input_prompt_number == nbb_cell_id) {\n",
       "                        if (nbb_cells[i].get_text() == nbb_unformatted_code) {\n",
       "                             nbb_cells[i].set_text(nbb_formatted_code);\n",
       "                        }\n",
       "                        break;\n",
       "                    }\n",
       "                }\n",
       "            }, 500);\n",
       "            "
      ],
      "text/plain": [
       "<IPython.core.display.Javascript object>"
      ]
     },
     "metadata": {},
     "output_type": "display_data"
    }
   ],
   "source": [
    "train[\"Set\"] = np.random.choice(\n",
    "    [\"train\", \"valid\"], p=[0.8, 0.2], size=(train.shape[0],)\n",
    ")\n",
    "\n",
    "train_indices = train[train.Set == \"train\"].index\n",
    "valid_indices = train[train.Set == \"valid\"].index\n",
    "\n",
    "X_train = np.char.strip(train[used_columns].values[train_indices].astype(\"str\"))\n",
    "X_valid = np.char.strip(train[used_columns].values[valid_indices].astype(\"str\"))\n",
    "\n",
    "y_train = train[target].values[train_indices]\n",
    "y_valid = train[target].values[valid_indices]\n",
    "\n",
    "# Test here should be ignored for training, only purpose is benching with paper values\n",
    "X_test = np.char.strip(test[used_columns].values.astype(\"str\"))\n",
    "y_test = test[target].values\n",
    "\n",
    "del train, test, train_indices, valid_indices"
   ]
  },
  {
   "cell_type": "code",
   "execution_count": 109,
   "metadata": {
    "ExecuteTime": {
     "end_time": "2020-05-25T20:59:47.412417Z",
     "start_time": "2020-05-25T20:59:47.406951Z"
    }
   },
   "outputs": [
    {
     "data": {
      "text/plain": [
       "(26108, 14)"
      ]
     },
     "execution_count": 109,
     "metadata": {},
     "output_type": "execute_result"
    },
    {
     "data": {
      "application/javascript": [
       "\n",
       "            setTimeout(function() {\n",
       "                var nbb_cell_id = 109;\n",
       "                var nbb_unformatted_code = \"X_train.shape\";\n",
       "                var nbb_formatted_code = \"X_train.shape\";\n",
       "                var nbb_cells = Jupyter.notebook.get_cells();\n",
       "                for (var i = 0; i < nbb_cells.length; ++i) {\n",
       "                    if (nbb_cells[i].input_prompt_number == nbb_cell_id) {\n",
       "                        if (nbb_cells[i].get_text() == nbb_unformatted_code) {\n",
       "                             nbb_cells[i].set_text(nbb_formatted_code);\n",
       "                        }\n",
       "                        break;\n",
       "                    }\n",
       "                }\n",
       "            }, 500);\n",
       "            "
      ],
      "text/plain": [
       "<IPython.core.display.Javascript object>"
      ]
     },
     "metadata": {},
     "output_type": "display_data"
    }
   ],
   "source": [
    "X_train.shape"
   ]
  },
  {
   "cell_type": "code",
   "execution_count": 18,
   "metadata": {
    "ExecuteTime": {
     "end_time": "2020-05-25T20:59:47.573456Z",
     "start_time": "2020-05-25T20:59:47.413649Z"
    }
   },
   "outputs": [
    {
     "data": {
      "text/plain": [
       "26"
      ]
     },
     "execution_count": 18,
     "metadata": {},
     "output_type": "execute_result"
    },
    {
     "data": {
      "application/javascript": [
       "\n",
       "            setTimeout(function() {\n",
       "                var nbb_cell_id = 18;\n",
       "                var nbb_unformatted_code = \"INPUT_DIM = X_train.shape[1]\\nNB_CHANNELS = np.vectorize(len)(X_train).max()\\nNB_CHANNELS\";\n",
       "                var nbb_formatted_code = \"INPUT_DIM = X_train.shape[1]\\nNB_CHANNELS = np.vectorize(len)(X_train).max()\\nNB_CHANNELS\";\n",
       "                var nbb_cells = Jupyter.notebook.get_cells();\n",
       "                for (var i = 0; i < nbb_cells.length; ++i) {\n",
       "                    if (nbb_cells[i].input_prompt_number == nbb_cell_id) {\n",
       "                        if (nbb_cells[i].get_text() == nbb_unformatted_code) {\n",
       "                             nbb_cells[i].set_text(nbb_formatted_code);\n",
       "                        }\n",
       "                        break;\n",
       "                    }\n",
       "                }\n",
       "            }, 500);\n",
       "            "
      ],
      "text/plain": [
       "<IPython.core.display.Javascript object>"
      ]
     },
     "metadata": {},
     "output_type": "display_data"
    }
   ],
   "source": [
    "INPUT_DIM = X_train.shape[1]\n",
    "NB_CHANNELS = np.vectorize(len)(X_train).max()\n",
    "NB_CHANNELS"
   ]
  },
  {
   "cell_type": "code",
   "execution_count": 19,
   "metadata": {
    "ExecuteTime": {
     "end_time": "2020-05-25T20:59:47.616024Z",
     "start_time": "2020-05-25T20:59:47.574971Z"
    }
   },
   "outputs": [
    {
     "data": {
      "text/plain": [
       "(14, 27)"
      ]
     },
     "execution_count": 19,
     "metadata": {},
     "output_type": "execute_result"
    },
    {
     "data": {
      "application/javascript": [
       "\n",
       "            setTimeout(function() {\n",
       "                var nbb_cell_id = 19;\n",
       "                var nbb_unformatted_code = \"line_to_img(X_train[0], 27).shape\";\n",
       "                var nbb_formatted_code = \"line_to_img(X_train[0], 27).shape\";\n",
       "                var nbb_cells = Jupyter.notebook.get_cells();\n",
       "                for (var i = 0; i < nbb_cells.length; ++i) {\n",
       "                    if (nbb_cells[i].input_prompt_number == nbb_cell_id) {\n",
       "                        if (nbb_cells[i].get_text() == nbb_unformatted_code) {\n",
       "                             nbb_cells[i].set_text(nbb_formatted_code);\n",
       "                        }\n",
       "                        break;\n",
       "                    }\n",
       "                }\n",
       "            }, 500);\n",
       "            "
      ],
      "text/plain": [
       "<IPython.core.display.Javascript object>"
      ]
     },
     "metadata": {},
     "output_type": "display_data"
    }
   ],
   "source": [
    "line_to_img(X_train[0], 27).shape"
   ]
  },
  {
   "cell_type": "code",
   "execution_count": 110,
   "metadata": {
    "ExecuteTime": {
     "end_time": "2020-05-25T21:00:00.007709Z",
     "start_time": "2020-05-25T20:59:47.617541Z"
    }
   },
   "outputs": [
    {
     "data": {
      "application/javascript": [
       "\n",
       "            setTimeout(function() {\n",
       "                var nbb_cell_id = 110;\n",
       "                var nbb_unformatted_code = \"X_train_preproc = do_parallel_numpy(line_to_img, [X_train], [NB_CHANNELS])\\nX_valid_preproc = do_parallel_numpy(line_to_img, [X_valid], [NB_CHANNELS])\\nX_test_preproc = do_parallel_numpy(line_to_img, [X_test], [NB_CHANNELS])\";\n",
       "                var nbb_formatted_code = \"X_train_preproc = do_parallel_numpy(line_to_img, [X_train], [NB_CHANNELS])\\nX_valid_preproc = do_parallel_numpy(line_to_img, [X_valid], [NB_CHANNELS])\\nX_test_preproc = do_parallel_numpy(line_to_img, [X_test], [NB_CHANNELS])\";\n",
       "                var nbb_cells = Jupyter.notebook.get_cells();\n",
       "                for (var i = 0; i < nbb_cells.length; ++i) {\n",
       "                    if (nbb_cells[i].input_prompt_number == nbb_cell_id) {\n",
       "                        if (nbb_cells[i].get_text() == nbb_unformatted_code) {\n",
       "                             nbb_cells[i].set_text(nbb_formatted_code);\n",
       "                        }\n",
       "                        break;\n",
       "                    }\n",
       "                }\n",
       "            }, 500);\n",
       "            "
      ],
      "text/plain": [
       "<IPython.core.display.Javascript object>"
      ]
     },
     "metadata": {},
     "output_type": "display_data"
    }
   ],
   "source": [
    "X_train_preproc = do_parallel_numpy(line_to_img, [X_train], [NB_CHANNELS])\n",
    "X_valid_preproc = do_parallel_numpy(line_to_img, [X_valid], [NB_CHANNELS])\n",
    "X_test_preproc = do_parallel_numpy(line_to_img, [X_test], [NB_CHANNELS])"
   ]
  },
  {
   "cell_type": "markdown",
   "metadata": {
    "ExecuteTime": {
     "end_time": "2020-05-25T19:22:09.609604Z",
     "start_time": "2020-05-25T19:22:09.602138Z"
    }
   },
   "source": [
    "Y_train_preproc = to_categorical(y_train)\n",
    "Y_valid_preproc = to_categorical(y_valid)\n",
    "Y_test_preproc = to_categorical(y_test)"
   ]
  },
  {
   "cell_type": "code",
   "execution_count": 26,
   "metadata": {
    "ExecuteTime": {
     "end_time": "2020-05-25T21:00:00.061348Z",
     "start_time": "2020-05-25T21:00:00.017086Z"
    }
   },
   "outputs": [
    {
     "data": {
      "application/javascript": [
       "\n",
       "            setTimeout(function() {\n",
       "                var nbb_cell_id = 26;\n",
       "                var nbb_unformatted_code = \"def build_model(input_dim, nb_channels, conv_dim=[], lconv_dim=[]):\\n    activation = mish\\n    optimizer = (\\n        Lookahead(RectifiedAdam(1e-3), sync_period=6, slow_step_size=0.5)\\n    )\\n\\n    input_layer = Input(shape=(input_dim, nb_channels), name=\\\"input\\\")\\n    x_layer = input_layer\\n    for i, conv_layer in enumerate(conv_dim):\\n        name = f\\\"block_conv_{i}_\\\"\\n        x_layer = Conv1D(\\n            filters=conv_layer,\\n            padding=\\\"valid\\\",\\n            kernel_size=1,\\n            strides=1,\\n            name=name + \\\"conv\\\",\\n            use_bias=False,\\n            activation=None,\\n        )(x_layer)\\n        x_layer = BatchNormalization(name=name + \\\"nb\\\")(x_layer)\\n        x_layer = Activation(activation, name=name + \\\"activation\\\")(x_layer)\\n\\n    for i, lconv_layer in enumerate(lconv_dim):\\n        name = f\\\"block_lconv_{i}_\\\"\\n        x_layer = LocallyConnected1D(\\n            filters=lconv_layer,\\n            padding=\\\"valid\\\",\\n            kernel_size=1,\\n            strides=1,\\n            name=name + \\\"lconv\\\",\\n            use_bias=False,\\n            activation=None,\\n        )(x_layer)\\n        x_layer = BatchNormalization(name=name + \\\"nb\\\")(x_layer)\\n        x_layer = Activation(activation, name=name + \\\"activation\\\")(x_layer)\\n\\n    nb_filters = lconv_dim[-1] if len(lconv_dim) > 0 else conv_dim[-1]\\n    x_layer = Reshape((input_dim * nb_filters,), name=\\\"reshape\\\")(x_layer)\\n    x_layer = Dense(1, activation=\\\"sigmoid\\\", name=\\\"output\\\")(x_layer)\\n\\n    model = Model(inputs=[input_layer], outputs=[x_layer], name=\\\"first_model\\\")\\n    model.compile(loss=\\\"binary_crossentropy\\\", optimizer=optimizer)\\n\\n    return model\";\n",
       "                var nbb_formatted_code = \"def build_model(input_dim, nb_channels, conv_dim=[], lconv_dim=[]):\\n    activation = mish\\n    optimizer = Lookahead(RectifiedAdam(1e-3), sync_period=6, slow_step_size=0.5)\\n\\n    input_layer = Input(shape=(input_dim, nb_channels), name=\\\"input\\\")\\n    x_layer = input_layer\\n    for i, conv_layer in enumerate(conv_dim):\\n        name = f\\\"block_conv_{i}_\\\"\\n        x_layer = Conv1D(\\n            filters=conv_layer,\\n            padding=\\\"valid\\\",\\n            kernel_size=1,\\n            strides=1,\\n            name=name + \\\"conv\\\",\\n            use_bias=False,\\n            activation=None,\\n        )(x_layer)\\n        x_layer = BatchNormalization(name=name + \\\"nb\\\")(x_layer)\\n        x_layer = Activation(activation, name=name + \\\"activation\\\")(x_layer)\\n\\n    for i, lconv_layer in enumerate(lconv_dim):\\n        name = f\\\"block_lconv_{i}_\\\"\\n        x_layer = LocallyConnected1D(\\n            filters=lconv_layer,\\n            padding=\\\"valid\\\",\\n            kernel_size=1,\\n            strides=1,\\n            name=name + \\\"lconv\\\",\\n            use_bias=False,\\n            activation=None,\\n        )(x_layer)\\n        x_layer = BatchNormalization(name=name + \\\"nb\\\")(x_layer)\\n        x_layer = Activation(activation, name=name + \\\"activation\\\")(x_layer)\\n\\n    nb_filters = lconv_dim[-1] if len(lconv_dim) > 0 else conv_dim[-1]\\n    x_layer = Reshape((input_dim * nb_filters,), name=\\\"reshape\\\")(x_layer)\\n    x_layer = Dense(1, activation=\\\"sigmoid\\\", name=\\\"output\\\")(x_layer)\\n\\n    model = Model(inputs=[input_layer], outputs=[x_layer], name=\\\"first_model\\\")\\n    model.compile(loss=\\\"binary_crossentropy\\\", optimizer=optimizer)\\n\\n    return model\";\n",
       "                var nbb_cells = Jupyter.notebook.get_cells();\n",
       "                for (var i = 0; i < nbb_cells.length; ++i) {\n",
       "                    if (nbb_cells[i].input_prompt_number == nbb_cell_id) {\n",
       "                        if (nbb_cells[i].get_text() == nbb_unformatted_code) {\n",
       "                             nbb_cells[i].set_text(nbb_formatted_code);\n",
       "                        }\n",
       "                        break;\n",
       "                    }\n",
       "                }\n",
       "            }, 500);\n",
       "            "
      ],
      "text/plain": [
       "<IPython.core.display.Javascript object>"
      ]
     },
     "metadata": {},
     "output_type": "display_data"
    }
   ],
   "source": [
    "def build_model(input_dim, nb_channels, conv_dim=[], lconv_dim=[]):\n",
    "    activation = mish\n",
    "    optimizer = Lookahead(RectifiedAdam(1e-3), sync_period=6, slow_step_size=0.5)\n",
    "\n",
    "    input_layer = Input(shape=(input_dim, nb_channels), name=\"input\")\n",
    "    x_layer = input_layer\n",
    "    for i, conv_layer in enumerate(conv_dim):\n",
    "        name = f\"block_conv_{i}_\"\n",
    "        x_layer = Conv1D(\n",
    "            filters=conv_layer,\n",
    "            padding=\"valid\",\n",
    "            kernel_size=1,\n",
    "            strides=1,\n",
    "            name=name + \"conv\",\n",
    "            use_bias=False,\n",
    "            activation=None,\n",
    "        )(x_layer)\n",
    "        x_layer = BatchNormalization(name=name + \"nb\")(x_layer)\n",
    "        x_layer = Activation(activation, name=name + \"activation\")(x_layer)\n",
    "\n",
    "    for i, lconv_layer in enumerate(lconv_dim):\n",
    "        name = f\"block_lconv_{i}_\"\n",
    "        x_layer = LocallyConnected1D(\n",
    "            filters=lconv_layer,\n",
    "            padding=\"valid\",\n",
    "            kernel_size=1,\n",
    "            strides=1,\n",
    "            name=name + \"lconv\",\n",
    "            use_bias=False,\n",
    "            activation=None,\n",
    "        )(x_layer)\n",
    "        x_layer = BatchNormalization(name=name + \"nb\")(x_layer)\n",
    "        x_layer = Activation(activation, name=name + \"activation\")(x_layer)\n",
    "\n",
    "    nb_filters = lconv_dim[-1] if len(lconv_dim) > 0 else conv_dim[-1]\n",
    "    x_layer = Reshape((input_dim * nb_filters,), name=\"reshape\")(x_layer)\n",
    "    x_layer = Dense(1, activation=\"sigmoid\", name=\"output\")(x_layer)\n",
    "\n",
    "    model = Model(inputs=[input_layer], outputs=[x_layer], name=\"first_model\")\n",
    "    model.compile(loss=\"binary_crossentropy\", optimizer=optimizer)\n",
    "\n",
    "    return model"
   ]
  },
  {
   "cell_type": "code",
   "execution_count": 27,
   "metadata": {
    "ExecuteTime": {
     "end_time": "2020-05-25T21:00:00.979562Z",
     "start_time": "2020-05-25T21:00:00.062758Z"
    }
   },
   "outputs": [
    {
     "data": {
      "application/javascript": [
       "\n",
       "            setTimeout(function() {\n",
       "                var nbb_cell_id = 27;\n",
       "                var nbb_unformatted_code = \"model = build_model(INPUT_DIM, NB_CHANNELS, conv_dim=[64], lconv_dim=[128, 64, 32])\";\n",
       "                var nbb_formatted_code = \"model = build_model(INPUT_DIM, NB_CHANNELS, conv_dim=[64], lconv_dim=[128, 64, 32])\";\n",
       "                var nbb_cells = Jupyter.notebook.get_cells();\n",
       "                for (var i = 0; i < nbb_cells.length; ++i) {\n",
       "                    if (nbb_cells[i].input_prompt_number == nbb_cell_id) {\n",
       "                        if (nbb_cells[i].get_text() == nbb_unformatted_code) {\n",
       "                             nbb_cells[i].set_text(nbb_formatted_code);\n",
       "                        }\n",
       "                        break;\n",
       "                    }\n",
       "                }\n",
       "            }, 500);\n",
       "            "
      ],
      "text/plain": [
       "<IPython.core.display.Javascript object>"
      ]
     },
     "metadata": {},
     "output_type": "display_data"
    }
   ],
   "source": [
    "model = build_model(INPUT_DIM, NB_CHANNELS, conv_dim=[64], lconv_dim=[128, 64, 32])"
   ]
  },
  {
   "cell_type": "code",
   "execution_count": 28,
   "metadata": {
    "ExecuteTime": {
     "end_time": "2020-05-25T21:00:00.994383Z",
     "start_time": "2020-05-25T21:00:00.981768Z"
    }
   },
   "outputs": [
    {
     "name": "stdout",
     "output_type": "stream",
     "text": [
      "Model: \"first_model\"\n",
      "_________________________________________________________________\n",
      "Layer (type)                 Output Shape              Param #   \n",
      "=================================================================\n",
      "input (InputLayer)           [(None, 14, 26)]          0         \n",
      "_________________________________________________________________\n",
      "block_conv_0_conv (Conv1D)   (None, 14, 64)            1664      \n",
      "_________________________________________________________________\n",
      "block_conv_0_nb (BatchNormal (None, 14, 64)            256       \n",
      "_________________________________________________________________\n",
      "block_conv_0_activation (Act (None, 14, 64)            0         \n",
      "_________________________________________________________________\n",
      "block_lconv_0_lconv (Locally (None, 14, 128)           114688    \n",
      "_________________________________________________________________\n",
      "block_lconv_0_nb (BatchNorma (None, 14, 128)           512       \n",
      "_________________________________________________________________\n",
      "block_lconv_0_activation (Ac (None, 14, 128)           0         \n",
      "_________________________________________________________________\n",
      "block_lconv_1_lconv (Locally (None, 14, 64)            114688    \n",
      "_________________________________________________________________\n",
      "block_lconv_1_nb (BatchNorma (None, 14, 64)            256       \n",
      "_________________________________________________________________\n",
      "block_lconv_1_activation (Ac (None, 14, 64)            0         \n",
      "_________________________________________________________________\n",
      "block_lconv_2_lconv (Locally (None, 14, 32)            28672     \n",
      "_________________________________________________________________\n",
      "block_lconv_2_nb (BatchNorma (None, 14, 32)            128       \n",
      "_________________________________________________________________\n",
      "block_lconv_2_activation (Ac (None, 14, 32)            0         \n",
      "_________________________________________________________________\n",
      "reshape (Reshape)            (None, 448)               0         \n",
      "_________________________________________________________________\n",
      "output (Dense)               (None, 1)                 449       \n",
      "=================================================================\n",
      "Total params: 261,313\n",
      "Trainable params: 260,737\n",
      "Non-trainable params: 576\n",
      "_________________________________________________________________\n"
     ]
    },
    {
     "data": {
      "application/javascript": [
       "\n",
       "            setTimeout(function() {\n",
       "                var nbb_cell_id = 28;\n",
       "                var nbb_unformatted_code = \"model.summary()\";\n",
       "                var nbb_formatted_code = \"model.summary()\";\n",
       "                var nbb_cells = Jupyter.notebook.get_cells();\n",
       "                for (var i = 0; i < nbb_cells.length; ++i) {\n",
       "                    if (nbb_cells[i].input_prompt_number == nbb_cell_id) {\n",
       "                        if (nbb_cells[i].get_text() == nbb_unformatted_code) {\n",
       "                             nbb_cells[i].set_text(nbb_formatted_code);\n",
       "                        }\n",
       "                        break;\n",
       "                    }\n",
       "                }\n",
       "            }, 500);\n",
       "            "
      ],
      "text/plain": [
       "<IPython.core.display.Javascript object>"
      ]
     },
     "metadata": {},
     "output_type": "display_data"
    }
   ],
   "source": [
    "model.summary()"
   ]
  },
  {
   "cell_type": "code",
   "execution_count": 29,
   "metadata": {
    "ExecuteTime": {
     "end_time": "2020-05-25T21:00:01.114121Z",
     "start_time": "2020-05-25T21:00:00.997404Z"
    }
   },
   "outputs": [
    {
     "data": {
      "text/plain": [
       "(26072,)"
      ]
     },
     "execution_count": 29,
     "metadata": {},
     "output_type": "execute_result"
    },
    {
     "data": {
      "application/javascript": [
       "\n",
       "            setTimeout(function() {\n",
       "                var nbb_cell_id = 29;\n",
       "                var nbb_unformatted_code = \"y_train.shape\";\n",
       "                var nbb_formatted_code = \"y_train.shape\";\n",
       "                var nbb_cells = Jupyter.notebook.get_cells();\n",
       "                for (var i = 0; i < nbb_cells.length; ++i) {\n",
       "                    if (nbb_cells[i].input_prompt_number == nbb_cell_id) {\n",
       "                        if (nbb_cells[i].get_text() == nbb_unformatted_code) {\n",
       "                             nbb_cells[i].set_text(nbb_formatted_code);\n",
       "                        }\n",
       "                        break;\n",
       "                    }\n",
       "                }\n",
       "            }, 500);\n",
       "            "
      ],
      "text/plain": [
       "<IPython.core.display.Javascript object>"
      ]
     },
     "metadata": {},
     "output_type": "display_data"
    }
   ],
   "source": [
    "y_train.shape"
   ]
  },
  {
   "cell_type": "code",
   "execution_count": 30,
   "metadata": {
    "ExecuteTime": {
     "end_time": "2020-05-25T21:00:07.717722Z",
     "start_time": "2020-05-25T21:00:01.118492Z"
    }
   },
   "outputs": [
    {
     "name": "stdout",
     "output_type": "stream",
     "text": [
      "Epoch 1/2000\n"
     ]
    },
    {
     "name": "stderr",
     "output_type": "stream",
     "text": [
      "WARNING:tensorflow:From /work/.cache/poetry/thc-net-KQLMmzPP-py3.7/lib/python3.7/site-packages/tensorflow/python/ops/resource_variable_ops.py:1817: calling BaseResourceVariable.__init__ (from tensorflow.python.ops.resource_variable_ops) with constraint is deprecated and will be removed in a future version.\n",
      "Instructions for updating:\n",
      "If using Keras pass *_constraint arguments to layers.\n"
     ]
    },
    {
     "name": "stdout",
     "output_type": "stream",
     "text": [
      "26/26 [==============================] - 6s 225ms/step - loss: 0.4962 - val_loss: 0.6910\n",
      "Epoch 2/2000\n",
      "26/26 [==============================] - 5s 201ms/step - loss: 0.3726 - val_loss: 0.6915\n",
      "Epoch 3/2000\n",
      "26/26 [==============================] - 5s 196ms/step - loss: 0.3486 - val_loss: 0.6933\n",
      "Epoch 4/2000\n",
      "26/26 [==============================] - 5s 200ms/step - loss: 0.3396 - val_loss: 0.6946\n",
      "Epoch 5/2000\n",
      "26/26 [==============================] - 5s 209ms/step - loss: 0.3344 - val_loss: 0.6932\n",
      "Epoch 6/2000\n",
      "26/26 [==============================] - 5s 207ms/step - loss: 0.3322 - val_loss: 0.6915\n",
      "Epoch 7/2000\n",
      "26/26 [==============================] - 5s 203ms/step - loss: 0.3315 - val_loss: 0.6775\n",
      "Epoch 8/2000\n",
      "26/26 [==============================] - 5s 196ms/step - loss: 0.3351 - val_loss: 0.6640\n",
      "Epoch 9/2000\n",
      "26/26 [==============================] - 5s 206ms/step - loss: 0.3300 - val_loss: 0.6425\n",
      "Epoch 10/2000\n",
      "26/26 [==============================] - 5s 207ms/step - loss: 0.3265 - val_loss: 0.6162\n",
      "Epoch 11/2000\n",
      "26/26 [==============================] - 5s 200ms/step - loss: 0.3241 - val_loss: 0.5571\n",
      "Epoch 12/2000\n",
      "26/26 [==============================] - 5s 203ms/step - loss: 0.3275 - val_loss: 0.5211\n",
      "Epoch 13/2000\n",
      "26/26 [==============================] - 5s 203ms/step - loss: 0.3210 - val_loss: 0.4861\n",
      "Epoch 14/2000\n",
      "26/26 [==============================] - 5s 207ms/step - loss: 0.3191 - val_loss: 0.4764\n",
      "Epoch 15/2000\n",
      "26/26 [==============================] - 5s 200ms/step - loss: 0.3191 - val_loss: 0.4176\n",
      "Epoch 16/2000\n",
      "26/26 [==============================] - 5s 204ms/step - loss: 0.3153 - val_loss: 0.4063\n",
      "Epoch 17/2000\n",
      "26/26 [==============================] - 5s 200ms/step - loss: 0.3136 - val_loss: 0.4058\n",
      "Epoch 18/2000\n",
      "26/26 [==============================] - 5s 204ms/step - loss: 0.3166 - val_loss: 0.3539\n",
      "Epoch 19/2000\n",
      "26/26 [==============================] - 5s 202ms/step - loss: 0.3128 - val_loss: 0.3659\n",
      "Epoch 20/2000\n",
      "26/26 [==============================] - 5s 197ms/step - loss: 0.3102 - val_loss: 0.3806\n",
      "Epoch 21/2000\n",
      "26/26 [==============================] - 6s 216ms/step - loss: 0.3068 - val_loss: 0.3590\n",
      "Epoch 22/2000\n",
      "26/26 [==============================] - 5s 208ms/step - loss: 0.3080 - val_loss: 0.3802\n",
      "Epoch 23/2000\n",
      "26/26 [==============================] - 5s 197ms/step - loss: 0.3075 - val_loss: 0.4105\n",
      "Epoch 24/2000\n",
      "26/26 [==============================] - 5s 196ms/step - loss: 0.3063 - val_loss: 0.3498\n",
      "Epoch 25/2000\n",
      "26/26 [==============================] - 5s 201ms/step - loss: 0.3040 - val_loss: 0.3596\n",
      "Epoch 26/2000\n",
      "26/26 [==============================] - 5s 207ms/step - loss: 0.3046 - val_loss: 0.3362\n",
      "Epoch 27/2000\n",
      "26/26 [==============================] - 5s 198ms/step - loss: 0.3061 - val_loss: 0.3372\n",
      "Epoch 28/2000\n",
      "26/26 [==============================] - 5s 202ms/step - loss: 0.3019 - val_loss: 0.3307\n",
      "Epoch 29/2000\n",
      "26/26 [==============================] - 6s 214ms/step - loss: 0.3053 - val_loss: 0.3565\n",
      "Epoch 30/2000\n",
      "26/26 [==============================] - 6s 215ms/step - loss: 0.3039 - val_loss: 0.3214\n",
      "Epoch 31/2000\n",
      "26/26 [==============================] - 5s 201ms/step - loss: 0.3046 - val_loss: 0.3412\n",
      "Epoch 32/2000\n",
      "26/26 [==============================] - 6s 229ms/step - loss: 0.3041 - val_loss: 0.3461\n",
      "Epoch 33/2000\n",
      "26/26 [==============================] - 5s 209ms/step - loss: 0.3014 - val_loss: 0.3176\n",
      "Epoch 34/2000\n",
      "26/26 [==============================] - 6s 215ms/step - loss: 0.3017 - val_loss: 0.3272\n",
      "Epoch 35/2000\n",
      "26/26 [==============================] - 5s 206ms/step - loss: 0.3025 - val_loss: 0.3291\n",
      "Epoch 36/2000\n",
      "26/26 [==============================] - 5s 211ms/step - loss: 0.3018 - val_loss: 0.3168\n",
      "Epoch 37/2000\n",
      "26/26 [==============================] - 6s 212ms/step - loss: 0.3027 - val_loss: 0.3344\n",
      "Epoch 38/2000\n",
      "26/26 [==============================] - 5s 207ms/step - loss: 0.3004 - val_loss: 0.3266\n",
      "Epoch 39/2000\n",
      "26/26 [==============================] - 5s 201ms/step - loss: 0.3009 - val_loss: 0.3156\n",
      "Epoch 40/2000\n",
      "26/26 [==============================] - 6s 212ms/step - loss: 0.2999 - val_loss: 0.3158\n",
      "Epoch 41/2000\n",
      "26/26 [==============================] - 5s 202ms/step - loss: 0.2991 - val_loss: 0.3304\n",
      "Epoch 42/2000\n",
      "26/26 [==============================] - 5s 208ms/step - loss: 0.2996 - val_loss: 0.3167\n",
      "Epoch 43/2000\n",
      "26/26 [==============================] - 6s 225ms/step - loss: 0.3001 - val_loss: 0.3090\n",
      "Epoch 44/2000\n",
      "26/26 [==============================] - 5s 208ms/step - loss: 0.2994 - val_loss: 0.3204\n",
      "Epoch 45/2000\n",
      "26/26 [==============================] - 6s 212ms/step - loss: 0.2996 - val_loss: 0.3215\n",
      "Epoch 46/2000\n",
      "26/26 [==============================] - 5s 205ms/step - loss: 0.2998 - val_loss: 0.3074\n",
      "Epoch 47/2000\n",
      "26/26 [==============================] - 5s 208ms/step - loss: 0.2979 - val_loss: 0.3113\n",
      "Epoch 48/2000\n",
      "26/26 [==============================] - 5s 207ms/step - loss: 0.2984 - val_loss: 0.3095\n",
      "Epoch 49/2000\n",
      "26/26 [==============================] - 5s 204ms/step - loss: 0.2981 - val_loss: 0.3191\n",
      "Epoch 50/2000\n",
      "26/26 [==============================] - 5s 210ms/step - loss: 0.2981 - val_loss: 0.3179\n",
      "Epoch 51/2000\n",
      "26/26 [==============================] - 5s 210ms/step - loss: 0.2976 - val_loss: 0.2976\n",
      "Epoch 52/2000\n",
      "26/26 [==============================] - 5s 207ms/step - loss: 0.3010 - val_loss: 0.3113\n",
      "Epoch 53/2000\n",
      "26/26 [==============================] - 6s 233ms/step - loss: 0.2964 - val_loss: 0.3113\n",
      "Epoch 54/2000\n",
      "26/26 [==============================] - 6s 217ms/step - loss: 0.2970 - val_loss: 0.3067\n",
      "Epoch 55/2000\n",
      "26/26 [==============================] - 5s 208ms/step - loss: 0.2965 - val_loss: 0.3316\n",
      "Epoch 56/2000\n",
      "26/26 [==============================] - 5s 208ms/step - loss: 0.2963 - val_loss: 0.3146\n",
      "Epoch 57/2000\n",
      "26/26 [==============================] - 6s 219ms/step - loss: 0.2964 - val_loss: 0.3053\n",
      "Epoch 58/2000\n",
      "26/26 [==============================] - 6s 218ms/step - loss: 0.2946 - val_loss: 0.3194\n",
      "Epoch 59/2000\n",
      "26/26 [==============================] - 5s 204ms/step - loss: 0.2945 - val_loss: 0.3088\n",
      "Epoch 60/2000\n",
      "26/26 [==============================] - 5s 207ms/step - loss: 0.2957 - val_loss: 0.3039\n",
      "Epoch 61/2000\n",
      "26/26 [==============================] - 5s 203ms/step - loss: 0.2943 - val_loss: 0.2992\n",
      "Epoch 62/2000\n",
      "26/26 [==============================] - 5s 208ms/step - loss: 0.2942 - val_loss: 0.3089\n",
      "Epoch 63/2000\n",
      "26/26 [==============================] - 5s 204ms/step - loss: 0.2951 - val_loss: 0.3026\n",
      "Epoch 64/2000\n",
      "26/26 [==============================] - 6s 214ms/step - loss: 0.2943 - val_loss: 0.3345\n",
      "Epoch 65/2000\n",
      "26/26 [==============================] - 5s 206ms/step - loss: 0.2953 - val_loss: 0.3058\n",
      "Epoch 66/2000\n",
      "26/26 [==============================] - 5s 207ms/step - loss: 0.2927 - val_loss: 0.3101\n",
      "Epoch 67/2000\n",
      "26/26 [==============================] - 5s 209ms/step - loss: 0.2916 - val_loss: 0.3139\n",
      "Epoch 68/2000\n",
      "26/26 [==============================] - 5s 211ms/step - loss: 0.2926 - val_loss: 0.3092\n",
      "Epoch 69/2000\n",
      "26/26 [==============================] - 5s 204ms/step - loss: 0.2961 - val_loss: 0.3037\n",
      "Epoch 70/2000\n",
      "26/26 [==============================] - 5s 208ms/step - loss: 0.2936 - val_loss: 0.3097\n",
      "Epoch 71/2000\n",
      "26/26 [==============================] - 5s 199ms/step - loss: 0.2923 - val_loss: 0.2944\n",
      "Epoch 72/2000\n",
      "26/26 [==============================] - 5s 202ms/step - loss: 0.2929 - val_loss: 0.3001\n",
      "Epoch 73/2000\n",
      "26/26 [==============================] - 5s 199ms/step - loss: 0.2916 - val_loss: 0.2930\n",
      "Epoch 74/2000\n",
      "26/26 [==============================] - 6s 215ms/step - loss: 0.2913 - val_loss: 0.2963\n",
      "Epoch 75/2000\n",
      "26/26 [==============================] - 6s 215ms/step - loss: 0.2913 - val_loss: 0.2970\n",
      "Epoch 76/2000\n",
      "26/26 [==============================] - 5s 206ms/step - loss: 0.2921 - val_loss: 0.2947\n",
      "Epoch 77/2000\n",
      "26/26 [==============================] - 5s 202ms/step - loss: 0.2900 - val_loss: 0.2990\n",
      "Epoch 78/2000\n",
      "26/26 [==============================] - 5s 207ms/step - loss: 0.2919 - val_loss: 0.2996\n",
      "Epoch 79/2000\n",
      "26/26 [==============================] - 5s 208ms/step - loss: 0.2901 - val_loss: 0.3081\n",
      "Epoch 80/2000\n",
      "26/26 [==============================] - 5s 211ms/step - loss: 0.2910 - val_loss: 0.2895\n"
     ]
    },
    {
     "name": "stdout",
     "output_type": "stream",
     "text": [
      "Epoch 81/2000\n",
      "26/26 [==============================] - 5s 199ms/step - loss: 0.2911 - val_loss: 0.2957\n",
      "Epoch 82/2000\n",
      "26/26 [==============================] - 6s 216ms/step - loss: 0.2911 - val_loss: 0.2906\n",
      "Epoch 83/2000\n",
      "26/26 [==============================] - 5s 206ms/step - loss: 0.2909 - val_loss: 0.3050\n",
      "Epoch 84/2000\n",
      "26/26 [==============================] - 5s 204ms/step - loss: 0.2897 - val_loss: 0.2958\n",
      "Epoch 85/2000\n",
      "26/26 [==============================] - 5s 197ms/step - loss: 0.2901 - val_loss: 0.2930\n",
      "Epoch 86/2000\n",
      "26/26 [==============================] - 6s 222ms/step - loss: 0.2903 - val_loss: 0.3056\n",
      "Epoch 87/2000\n",
      "26/26 [==============================] - 5s 205ms/step - loss: 0.2905 - val_loss: 0.2963\n",
      "Epoch 88/2000\n",
      "26/26 [==============================] - 5s 203ms/step - loss: 0.2894 - val_loss: 0.2962\n",
      "Epoch 89/2000\n",
      "26/26 [==============================] - 5s 203ms/step - loss: 0.2886 - val_loss: 0.3103\n",
      "Epoch 90/2000\n",
      "26/26 [==============================] - 5s 205ms/step - loss: 0.2903 - val_loss: 0.2989\n",
      "Epoch 91/2000\n",
      "26/26 [==============================] - 5s 200ms/step - loss: 0.2912 - val_loss: 0.2948\n",
      "Epoch 92/2000\n",
      "26/26 [==============================] - 5s 204ms/step - loss: 0.2900 - val_loss: 0.2887\n",
      "Epoch 93/2000\n",
      "26/26 [==============================] - 5s 194ms/step - loss: 0.2897 - val_loss: 0.2898\n",
      "Epoch 94/2000\n",
      "26/26 [==============================] - 5s 193ms/step - loss: 0.2882 - val_loss: 0.2894\n",
      "Epoch 95/2000\n",
      "26/26 [==============================] - 5s 196ms/step - loss: 0.2875 - val_loss: 0.2898\n",
      "Epoch 96/2000\n",
      "26/26 [==============================] - 5s 206ms/step - loss: 0.2889 - val_loss: 0.2922\n",
      "Epoch 97/2000\n",
      "26/26 [==============================] - 6s 215ms/step - loss: 0.2903 - val_loss: 0.3142\n",
      "Epoch 98/2000\n",
      "26/26 [==============================] - 5s 201ms/step - loss: 0.2907 - val_loss: 0.2948\n",
      "Epoch 99/2000\n",
      "26/26 [==============================] - 5s 207ms/step - loss: 0.2900 - val_loss: 0.3005\n",
      "Epoch 100/2000\n",
      "26/26 [==============================] - 5s 200ms/step - loss: 0.2889 - val_loss: 0.2895\n",
      "Epoch 101/2000\n",
      "26/26 [==============================] - 6s 215ms/step - loss: 0.2868 - val_loss: 0.2946\n",
      "Epoch 102/2000\n",
      "26/26 [==============================] - 6s 226ms/step - loss: 0.2866 - val_loss: 0.2918\n",
      "Epoch 103/2000\n",
      "26/26 [==============================] - 6s 215ms/step - loss: 0.2877 - val_loss: 0.2945\n",
      "Epoch 104/2000\n",
      "26/26 [==============================] - 5s 203ms/step - loss: 0.2887 - val_loss: 0.2908\n",
      "Epoch 105/2000\n",
      "26/26 [==============================] - 5s 207ms/step - loss: 0.2882 - val_loss: 0.2936\n",
      "Epoch 106/2000\n",
      "26/26 [==============================] - 6s 222ms/step - loss: 0.2869 - val_loss: 0.2941\n",
      "Epoch 107/2000\n",
      "26/26 [==============================] - 6s 223ms/step - loss: 0.2876 - val_loss: 0.2997\n",
      "Epoch 108/2000\n",
      "26/26 [==============================] - 5s 207ms/step - loss: 0.2880 - val_loss: 0.2932\n",
      "Epoch 109/2000\n",
      "26/26 [==============================] - 5s 206ms/step - loss: 0.2871 - val_loss: 0.2898\n",
      "Epoch 110/2000\n",
      "26/26 [==============================] - 5s 200ms/step - loss: 0.2864 - val_loss: 0.2909\n",
      "Epoch 111/2000\n",
      "26/26 [==============================] - 5s 200ms/step - loss: 0.2869 - val_loss: 0.2911\n",
      "Epoch 112/2000\n",
      "26/26 [==============================] - 5s 201ms/step - loss: 0.2890 - val_loss: 0.2883\n",
      "Epoch 113/2000\n",
      "26/26 [==============================] - 5s 205ms/step - loss: 0.2861 - val_loss: 0.2867\n",
      "Epoch 114/2000\n",
      "26/26 [==============================] - 5s 203ms/step - loss: 0.2860 - val_loss: 0.2905\n",
      "Epoch 115/2000\n",
      "26/26 [==============================] - 5s 194ms/step - loss: 0.2865 - val_loss: 0.2911\n",
      "Epoch 116/2000\n",
      "26/26 [==============================] - 6s 242ms/step - loss: 0.2859 - val_loss: 0.2940\n",
      "Epoch 117/2000\n",
      "26/26 [==============================] - 5s 209ms/step - loss: 0.2865 - val_loss: 0.2903\n",
      "Epoch 118/2000\n",
      "26/26 [==============================] - 6s 217ms/step - loss: 0.2852 - val_loss: 0.2900\n",
      "Epoch 119/2000\n",
      "26/26 [==============================] - 5s 199ms/step - loss: 0.2852 - val_loss: 0.2903\n",
      "Epoch 120/2000\n",
      "26/26 [==============================] - 5s 203ms/step - loss: 0.2847 - val_loss: 0.2893\n",
      "Epoch 121/2000\n",
      "26/26 [==============================] - 5s 205ms/step - loss: 0.2849 - val_loss: 0.2856\n",
      "Epoch 122/2000\n",
      "26/26 [==============================] - 5s 208ms/step - loss: 0.2875 - val_loss: 0.3015\n",
      "Epoch 123/2000\n",
      "26/26 [==============================] - 5s 206ms/step - loss: 0.2849 - val_loss: 0.2886\n",
      "Epoch 124/2000\n",
      "26/26 [==============================] - 5s 202ms/step - loss: 0.2843 - val_loss: 0.2955\n",
      "Epoch 125/2000\n",
      "26/26 [==============================] - 5s 204ms/step - loss: 0.2874 - val_loss: 0.2952\n",
      "Epoch 126/2000\n",
      "26/26 [==============================] - 5s 208ms/step - loss: 0.2854 - val_loss: 0.3001\n",
      "Epoch 127/2000\n",
      "26/26 [==============================] - 5s 210ms/step - loss: 0.2844 - val_loss: 0.2891\n",
      "Epoch 128/2000\n",
      "26/26 [==============================] - 6s 220ms/step - loss: 0.2847 - val_loss: 0.3054\n",
      "Epoch 129/2000\n",
      "26/26 [==============================] - 6s 219ms/step - loss: 0.2857 - val_loss: 0.2913\n",
      "Epoch 130/2000\n",
      "26/26 [==============================] - 6s 220ms/step - loss: 0.2838 - val_loss: 0.2917\n",
      "Epoch 131/2000\n",
      "26/26 [==============================] - 6s 218ms/step - loss: 0.2842 - val_loss: 0.2886\n",
      "Epoch 132/2000\n",
      "26/26 [==============================] - 6s 212ms/step - loss: 0.2842 - val_loss: 0.2885\n",
      "Epoch 133/2000\n",
      "26/26 [==============================] - 5s 206ms/step - loss: 0.2841 - val_loss: 0.2867\n",
      "Epoch 134/2000\n",
      "26/26 [==============================] - 5s 211ms/step - loss: 0.2833 - val_loss: 0.2899\n",
      "Epoch 135/2000\n",
      "26/26 [==============================] - 5s 207ms/step - loss: 0.2834 - val_loss: 0.2912\n",
      "Epoch 136/2000\n",
      "26/26 [==============================] - 5s 206ms/step - loss: 0.2826 - val_loss: 0.2842\n",
      "Epoch 137/2000\n",
      "26/26 [==============================] - 5s 201ms/step - loss: 0.2860 - val_loss: 0.2983\n",
      "Epoch 138/2000\n",
      "26/26 [==============================] - 5s 203ms/step - loss: 0.2856 - val_loss: 0.2868\n",
      "Epoch 139/2000\n",
      "26/26 [==============================] - 5s 207ms/step - loss: 0.2851 - val_loss: 0.2866\n",
      "Epoch 140/2000\n",
      "26/26 [==============================] - 6s 216ms/step - loss: 0.2842 - val_loss: 0.2870\n",
      "Epoch 141/2000\n",
      "26/26 [==============================] - 5s 205ms/step - loss: 0.2846 - val_loss: 0.2892\n",
      "Epoch 142/2000\n",
      "26/26 [==============================] - 5s 204ms/step - loss: 0.2844 - val_loss: 0.2856\n",
      "Epoch 143/2000\n",
      "26/26 [==============================] - 5s 199ms/step - loss: 0.2825 - val_loss: 0.2885\n",
      "Epoch 144/2000\n",
      "26/26 [==============================] - 6s 214ms/step - loss: 0.2824 - val_loss: 0.2875\n",
      "Epoch 145/2000\n",
      "26/26 [==============================] - 5s 202ms/step - loss: 0.2836 - val_loss: 0.2884\n",
      "Epoch 146/2000\n",
      "26/26 [==============================] - 5s 203ms/step - loss: 0.2825 - val_loss: 0.2854\n",
      "Epoch 147/2000\n",
      "26/26 [==============================] - 5s 203ms/step - loss: 0.2839 - val_loss: 0.2907\n",
      "Epoch 148/2000\n",
      "26/26 [==============================] - 5s 209ms/step - loss: 0.2830 - val_loss: 0.2841\n",
      "Epoch 149/2000\n",
      "26/26 [==============================] - 5s 206ms/step - loss: 0.2825 - val_loss: 0.2864\n",
      "Epoch 150/2000\n",
      "26/26 [==============================] - 6s 214ms/step - loss: 0.2827 - val_loss: 0.2899\n",
      "Epoch 151/2000\n",
      "26/26 [==============================] - 6s 223ms/step - loss: 0.2846 - val_loss: 0.2886\n",
      "Epoch 152/2000\n",
      "26/26 [==============================] - 5s 208ms/step - loss: 0.2827 - val_loss: 0.2908\n",
      "Epoch 153/2000\n",
      "26/26 [==============================] - 5s 207ms/step - loss: 0.2830 - val_loss: 0.2909\n",
      "Epoch 154/2000\n",
      "26/26 [==============================] - 5s 202ms/step - loss: 0.2811 - val_loss: 0.2922\n",
      "Epoch 155/2000\n",
      "26/26 [==============================] - 5s 205ms/step - loss: 0.2824 - val_loss: 0.2945\n",
      "Epoch 156/2000\n",
      "26/26 [==============================] - 5s 207ms/step - loss: 0.2836 - val_loss: 0.2854\n",
      "Epoch 157/2000\n",
      "26/26 [==============================] - 5s 205ms/step - loss: 0.2818 - val_loss: 0.3186\n",
      "Epoch 158/2000\n",
      "26/26 [==============================] - 5s 206ms/step - loss: 0.2842 - val_loss: 0.2955\n",
      "Epoch 159/2000\n",
      "26/26 [==============================] - 5s 211ms/step - loss: 0.2814 - val_loss: 0.2914\n"
     ]
    },
    {
     "name": "stdout",
     "output_type": "stream",
     "text": [
      "Epoch 160/2000\n",
      "26/26 [==============================] - 5s 199ms/step - loss: 0.2813 - val_loss: 0.2891\n",
      "Epoch 161/2000\n",
      "26/26 [==============================] - 5s 205ms/step - loss: 0.2817 - val_loss: 0.2881\n",
      "Epoch 162/2000\n",
      "26/26 [==============================] - 6s 234ms/step - loss: 0.2812 - val_loss: 0.2884\n",
      "Epoch 163/2000\n",
      "26/26 [==============================] - 6s 234ms/step - loss: 0.2798 - val_loss: 0.2823\n",
      "Epoch 164/2000\n",
      "26/26 [==============================] - 6s 223ms/step - loss: 0.2824 - val_loss: 0.2958\n",
      "Epoch 165/2000\n",
      "26/26 [==============================] - 5s 201ms/step - loss: 0.2837 - val_loss: 0.2855\n",
      "Epoch 166/2000\n",
      "26/26 [==============================] - 5s 197ms/step - loss: 0.2813 - val_loss: 0.2918\n",
      "Epoch 167/2000\n",
      "26/26 [==============================] - 5s 198ms/step - loss: 0.2818 - val_loss: 0.2927\n",
      "Epoch 168/2000\n",
      "26/26 [==============================] - 5s 207ms/step - loss: 0.2809 - val_loss: 0.2870\n",
      "Epoch 169/2000\n",
      "26/26 [==============================] - 5s 207ms/step - loss: 0.2795 - val_loss: 0.2904\n",
      "Epoch 170/2000\n",
      "26/26 [==============================] - 5s 204ms/step - loss: 0.2811 - val_loss: 0.2966\n",
      "Epoch 171/2000\n",
      "26/26 [==============================] - 6s 242ms/step - loss: 0.2818 - val_loss: 0.2830\n",
      "Epoch 172/2000\n",
      "26/26 [==============================] - 6s 230ms/step - loss: 0.2795 - val_loss: 0.2883\n",
      "Epoch 173/2000\n",
      "26/26 [==============================] - 6s 212ms/step - loss: 0.2802 - val_loss: 0.2921\n",
      "Epoch 174/2000\n",
      "26/26 [==============================] - 5s 211ms/step - loss: 0.2797 - val_loss: 0.2851\n",
      "Epoch 175/2000\n",
      "26/26 [==============================] - 5s 204ms/step - loss: 0.2801 - val_loss: 0.2859\n",
      "Epoch 176/2000\n",
      "26/26 [==============================] - 5s 205ms/step - loss: 0.2803 - val_loss: 0.2819\n",
      "Epoch 177/2000\n",
      "26/26 [==============================] - 6s 215ms/step - loss: 0.2798 - val_loss: 0.2897\n",
      "Epoch 178/2000\n",
      "26/26 [==============================] - 5s 211ms/step - loss: 0.2799 - val_loss: 0.2826\n",
      "Epoch 179/2000\n",
      "26/26 [==============================] - 5s 199ms/step - loss: 0.2819 - val_loss: 0.2886\n",
      "Epoch 180/2000\n",
      "26/26 [==============================] - 6s 212ms/step - loss: 0.2799 - val_loss: 0.2871\n",
      "Epoch 181/2000\n",
      "26/26 [==============================] - 5s 199ms/step - loss: 0.2786 - val_loss: 0.2848\n",
      "Epoch 182/2000\n",
      "26/26 [==============================] - 5s 206ms/step - loss: 0.2807 - val_loss: 0.2834\n",
      "Epoch 183/2000\n",
      "26/26 [==============================] - 6s 214ms/step - loss: 0.2802 - val_loss: 0.2835\n",
      "Epoch 184/2000\n",
      "26/26 [==============================] - 5s 204ms/step - loss: 0.2798 - val_loss: 0.2884\n",
      "Epoch 185/2000\n",
      "26/26 [==============================] - 5s 201ms/step - loss: 0.2806 - val_loss: 0.2912\n",
      "Epoch 186/2000\n",
      "26/26 [==============================] - 5s 207ms/step - loss: 0.2803 - val_loss: 0.2845\n",
      "Epoch 187/2000\n",
      "26/26 [==============================] - 5s 204ms/step - loss: 0.2785 - val_loss: 0.2858\n",
      "Epoch 188/2000\n",
      "26/26 [==============================] - 5s 204ms/step - loss: 0.2791 - val_loss: 0.2805\n",
      "Epoch 189/2000\n",
      "26/26 [==============================] - 5s 208ms/step - loss: 0.2834 - val_loss: 0.2818\n",
      "Epoch 190/2000\n",
      "26/26 [==============================] - 5s 211ms/step - loss: 0.2797 - val_loss: 0.2883\n",
      "Epoch 191/2000\n",
      "26/26 [==============================] - 6s 214ms/step - loss: 0.2795 - val_loss: 0.2905\n",
      "Epoch 192/2000\n",
      "26/26 [==============================] - 5s 208ms/step - loss: 0.2779 - val_loss: 0.2854\n",
      "Epoch 193/2000\n",
      "26/26 [==============================] - 5s 210ms/step - loss: 0.2779 - val_loss: 0.2868\n",
      "Epoch 194/2000\n",
      "26/26 [==============================] - 6s 215ms/step - loss: 0.2826 - val_loss: 0.2984\n",
      "Epoch 195/2000\n",
      "26/26 [==============================] - 5s 203ms/step - loss: 0.2797 - val_loss: 0.2837\n",
      "Epoch 196/2000\n",
      "26/26 [==============================] - 5s 202ms/step - loss: 0.2812 - val_loss: 0.2832\n",
      "Epoch 197/2000\n",
      "26/26 [==============================] - 5s 207ms/step - loss: 0.2799 - val_loss: 0.2824\n",
      "Epoch 198/2000\n",
      "26/26 [==============================] - 5s 202ms/step - loss: 0.2788 - val_loss: 0.2854\n",
      "Epoch 199/2000\n",
      "26/26 [==============================] - 5s 203ms/step - loss: 0.2798 - val_loss: 0.2819\n",
      "Epoch 200/2000\n",
      "26/26 [==============================] - 5s 205ms/step - loss: 0.2810 - val_loss: 0.2871\n",
      "Epoch 201/2000\n",
      "26/26 [==============================] - 6s 214ms/step - loss: 0.2785 - val_loss: 0.2860\n",
      "Epoch 202/2000\n",
      "26/26 [==============================] - 5s 208ms/step - loss: 0.2783 - val_loss: 0.2875\n",
      "Epoch 203/2000\n",
      "26/26 [==============================] - 5s 205ms/step - loss: 0.2772 - val_loss: 0.2906\n",
      "Epoch 204/2000\n",
      "26/26 [==============================] - 5s 205ms/step - loss: 0.2787 - val_loss: 0.2845\n",
      "Epoch 205/2000\n",
      "26/26 [==============================] - 6s 212ms/step - loss: 0.2768 - val_loss: 0.2842\n",
      "Epoch 206/2000\n",
      "26/26 [==============================] - 5s 204ms/step - loss: 0.2775 - val_loss: 0.2812\n",
      "Epoch 207/2000\n",
      "26/26 [==============================] - 5s 207ms/step - loss: 0.2775 - val_loss: 0.2838\n",
      "Epoch 208/2000\n",
      "26/26 [==============================] - 5s 211ms/step - loss: 0.2772 - val_loss: 0.2868\n",
      "Epoch 209/2000\n",
      "26/26 [==============================] - 5s 205ms/step - loss: 0.2778 - val_loss: 0.2828\n",
      "Epoch 210/2000\n",
      "26/26 [==============================] - 5s 200ms/step - loss: 0.2771 - val_loss: 0.2842\n",
      "Epoch 211/2000\n",
      "26/26 [==============================] - 5s 209ms/step - loss: 0.2786 - val_loss: 0.2862\n",
      "Epoch 212/2000\n",
      "26/26 [==============================] - 5s 209ms/step - loss: 0.2782 - val_loss: 0.2839\n",
      "Epoch 213/2000\n",
      "26/26 [==============================] - 6s 216ms/step - loss: 0.2765 - val_loss: 0.2870\n",
      "Epoch 214/2000\n",
      "26/26 [==============================] - 5s 211ms/step - loss: 0.2774 - val_loss: 0.2849\n",
      "Epoch 215/2000\n",
      "26/26 [==============================] - 6s 216ms/step - loss: 0.2773 - val_loss: 0.2823\n",
      "Epoch 216/2000\n",
      "26/26 [==============================] - 5s 208ms/step - loss: 0.2766 - val_loss: 0.2843\n",
      "Epoch 217/2000\n",
      "26/26 [==============================] - 5s 208ms/step - loss: 0.2779 - val_loss: 0.2857\n",
      "Epoch 218/2000\n",
      "26/26 [==============================] - 5s 202ms/step - loss: 0.2771 - val_loss: 0.2814\n",
      "Epoch 219/2000\n",
      "26/26 [==============================] - 5s 209ms/step - loss: 0.2773 - val_loss: 0.2830\n",
      "Epoch 220/2000\n",
      "26/26 [==============================] - 5s 204ms/step - loss: 0.2791 - val_loss: 0.2826\n",
      "Epoch 221/2000\n",
      "26/26 [==============================] - 5s 208ms/step - loss: 0.2792 - val_loss: 0.2834\n",
      "Epoch 222/2000\n",
      "26/26 [==============================] - 5s 204ms/step - loss: 0.2767 - val_loss: 0.2804\n",
      "Epoch 223/2000\n",
      "26/26 [==============================] - 5s 210ms/step - loss: 0.2789 - val_loss: 0.2877\n",
      "Epoch 224/2000\n",
      "26/26 [==============================] - 5s 204ms/step - loss: 0.2766 - val_loss: 0.2846\n",
      "Epoch 225/2000\n",
      "26/26 [==============================] - 6s 212ms/step - loss: 0.2771 - val_loss: 0.2806\n",
      "Epoch 226/2000\n",
      "26/26 [==============================] - 6s 238ms/step - loss: 0.2790 - val_loss: 0.2811\n",
      "Epoch 227/2000\n",
      "26/26 [==============================] - 5s 198ms/step - loss: 0.2786 - val_loss: 0.2841\n",
      "Epoch 228/2000\n",
      "26/26 [==============================] - 6s 233ms/step - loss: 0.2773 - val_loss: 0.2828\n",
      "Epoch 229/2000\n",
      "26/26 [==============================] - 6s 246ms/step - loss: 0.2771 - val_loss: 0.2925\n",
      "Epoch 230/2000\n",
      "26/26 [==============================] - 6s 234ms/step - loss: 0.2759 - val_loss: 0.2837\n",
      "Epoch 231/2000\n",
      "26/26 [==============================] - 6s 225ms/step - loss: 0.2751 - val_loss: 0.2811\n",
      "Epoch 232/2000\n",
      "26/26 [==============================] - 6s 222ms/step - loss: 0.2746 - val_loss: 0.2773\n",
      "Epoch 233/2000\n",
      "26/26 [==============================] - 6s 222ms/step - loss: 0.2750 - val_loss: 0.2800\n",
      "Epoch 234/2000\n",
      "26/26 [==============================] - 6s 234ms/step - loss: 0.2772 - val_loss: 0.2784\n",
      "Epoch 235/2000\n",
      "26/26 [==============================] - 6s 214ms/step - loss: 0.2749 - val_loss: 0.2993\n",
      "Epoch 236/2000\n",
      "26/26 [==============================] - 6s 245ms/step - loss: 0.2783 - val_loss: 0.2804\n",
      "Epoch 237/2000\n",
      "26/26 [==============================] - 5s 208ms/step - loss: 0.2779 - val_loss: 0.2801\n",
      "Epoch 238/2000\n",
      "26/26 [==============================] - 5s 210ms/step - loss: 0.2748 - val_loss: 0.2782\n"
     ]
    },
    {
     "name": "stdout",
     "output_type": "stream",
     "text": [
      "Epoch 239/2000\n",
      "26/26 [==============================] - 6s 212ms/step - loss: 0.2756 - val_loss: 0.2786\n",
      "Epoch 240/2000\n",
      "26/26 [==============================] - 5s 202ms/step - loss: 0.2755 - val_loss: 0.2790\n",
      "Epoch 241/2000\n",
      "26/26 [==============================] - 5s 201ms/step - loss: 0.2771 - val_loss: 0.3154\n",
      "Epoch 242/2000\n",
      "26/26 [==============================] - 5s 205ms/step - loss: 0.2765 - val_loss: 0.2797\n",
      "Epoch 243/2000\n",
      "26/26 [==============================] - 6s 233ms/step - loss: 0.2758 - val_loss: 0.2771\n",
      "Epoch 244/2000\n",
      "26/26 [==============================] - 6s 225ms/step - loss: 0.2747 - val_loss: 0.2814\n",
      "Epoch 245/2000\n",
      "26/26 [==============================] - 5s 206ms/step - loss: 0.2753 - val_loss: 0.2787\n",
      "Epoch 246/2000\n",
      "26/26 [==============================] - 5s 211ms/step - loss: 0.2757 - val_loss: 0.2802\n",
      "Epoch 247/2000\n",
      "26/26 [==============================] - 5s 200ms/step - loss: 0.2758 - val_loss: 0.2777\n",
      "Epoch 248/2000\n",
      "26/26 [==============================] - 5s 200ms/step - loss: 0.2739 - val_loss: 0.2790\n",
      "Epoch 249/2000\n",
      "26/26 [==============================] - 5s 200ms/step - loss: 0.2748 - val_loss: 0.2791\n",
      "Epoch 250/2000\n",
      "26/26 [==============================] - 5s 205ms/step - loss: 0.2746 - val_loss: 0.2773\n",
      "Epoch 251/2000\n",
      "26/26 [==============================] - 5s 204ms/step - loss: 0.2743 - val_loss: 0.2788\n",
      "Epoch 252/2000\n",
      "26/26 [==============================] - 5s 210ms/step - loss: 0.2753 - val_loss: 0.2779\n",
      "Epoch 253/2000\n",
      "26/26 [==============================] - 5s 210ms/step - loss: 0.2755 - val_loss: 0.2799\n",
      "Epoch 254/2000\n",
      "26/26 [==============================] - 5s 204ms/step - loss: 0.2775 - val_loss: 0.2785\n",
      "Epoch 255/2000\n",
      "26/26 [==============================] - 6s 217ms/step - loss: 0.2754 - val_loss: 0.2788\n",
      "Epoch 256/2000\n",
      "26/26 [==============================] - 6s 218ms/step - loss: 0.2738 - val_loss: 0.2778\n",
      "Epoch 257/2000\n",
      "26/26 [==============================] - 5s 208ms/step - loss: 0.2739 - val_loss: 0.2952\n",
      "Epoch 258/2000\n",
      "26/26 [==============================] - 7s 260ms/step - loss: 0.2750 - val_loss: 0.2770\n",
      "Epoch 259/2000\n",
      "26/26 [==============================] - 6s 235ms/step - loss: 0.2746 - val_loss: 0.2790\n",
      "Epoch 260/2000\n",
      "26/26 [==============================] - 6s 213ms/step - loss: 0.2741 - val_loss: 0.2789\n",
      "Epoch 261/2000\n",
      "26/26 [==============================] - 5s 199ms/step - loss: 0.2746 - val_loss: 0.2770\n",
      "Epoch 262/2000\n",
      "26/26 [==============================] - 6s 217ms/step - loss: 0.2749 - val_loss: 0.2766\n",
      "Epoch 263/2000\n",
      "26/26 [==============================] - 6s 235ms/step - loss: 0.2730 - val_loss: 0.2766\n",
      "Epoch 264/2000\n",
      "26/26 [==============================] - 6s 213ms/step - loss: 0.2767 - val_loss: 0.2804\n",
      "Epoch 265/2000\n",
      "26/26 [==============================] - 5s 191ms/step - loss: 0.2762 - val_loss: 0.2896\n",
      "Epoch 266/2000\n",
      "26/26 [==============================] - 6s 215ms/step - loss: 0.2747 - val_loss: 0.2773\n",
      "Epoch 267/2000\n",
      "26/26 [==============================] - 5s 196ms/step - loss: 0.2739 - val_loss: 0.2776\n",
      "Epoch 268/2000\n",
      "26/26 [==============================] - 6s 233ms/step - loss: 0.2753 - val_loss: 0.2801\n",
      "Epoch 269/2000\n",
      "26/26 [==============================] - 5s 201ms/step - loss: 0.2726 - val_loss: 0.2786\n",
      "Epoch 270/2000\n",
      "26/26 [==============================] - 7s 280ms/step - loss: 0.2725 - val_loss: 0.2762\n",
      "Epoch 271/2000\n",
      "26/26 [==============================] - 6s 246ms/step - loss: 0.2729 - val_loss: 0.2790\n",
      "Epoch 272/2000\n",
      "26/26 [==============================] - 6s 229ms/step - loss: 0.2756 - val_loss: 0.2780\n",
      "Epoch 273/2000\n",
      "26/26 [==============================] - 6s 228ms/step - loss: 0.2721 - val_loss: 0.2782\n",
      "Epoch 274/2000\n",
      "26/26 [==============================] - 6s 230ms/step - loss: 0.2725 - val_loss: 0.2779\n",
      "Epoch 275/2000\n",
      "26/26 [==============================] - 6s 214ms/step - loss: 0.2723 - val_loss: 0.2777\n",
      "Epoch 276/2000\n",
      "26/26 [==============================] - 6s 226ms/step - loss: 0.2720 - val_loss: 0.2742\n",
      "Epoch 277/2000\n",
      "26/26 [==============================] - 6s 215ms/step - loss: 0.2737 - val_loss: 0.2795\n",
      "Epoch 278/2000\n",
      "26/26 [==============================] - 5s 210ms/step - loss: 0.2735 - val_loss: 0.2764\n",
      "Epoch 279/2000\n",
      "26/26 [==============================] - 6s 224ms/step - loss: 0.2729 - val_loss: 0.2767\n",
      "Epoch 280/2000\n",
      "26/26 [==============================] - 5s 207ms/step - loss: 0.2717 - val_loss: 0.2753\n",
      "Epoch 281/2000\n",
      "26/26 [==============================] - 6s 213ms/step - loss: 0.2718 - val_loss: 0.2775\n",
      "Epoch 282/2000\n",
      "26/26 [==============================] - 6s 230ms/step - loss: 0.2717 - val_loss: 0.2755\n",
      "Epoch 283/2000\n",
      "26/26 [==============================] - 6s 232ms/step - loss: 0.2712 - val_loss: 0.2735\n",
      "Epoch 284/2000\n",
      "26/26 [==============================] - 5s 208ms/step - loss: 0.2728 - val_loss: 0.2789\n",
      "Epoch 285/2000\n",
      "26/26 [==============================] - 6s 241ms/step - loss: 0.2731 - val_loss: 0.2773\n",
      "Epoch 286/2000\n",
      "26/26 [==============================] - 6s 226ms/step - loss: 0.2718 - val_loss: 0.2766\n",
      "Epoch 287/2000\n",
      "26/26 [==============================] - 5s 206ms/step - loss: 0.2977 - val_loss: 0.9126\n",
      "Epoch 288/2000\n",
      "26/26 [==============================] - 6s 215ms/step - loss: 0.2891 - val_loss: 0.5072\n",
      "Epoch 289/2000\n",
      "26/26 [==============================] - 5s 200ms/step - loss: 0.2799 - val_loss: 0.3886\n",
      "Epoch 290/2000\n",
      "26/26 [==============================] - 6s 218ms/step - loss: 0.2788 - val_loss: 0.3068\n",
      "Epoch 291/2000\n",
      "26/26 [==============================] - 5s 208ms/step - loss: 0.2766 - val_loss: 0.2992\n",
      "Epoch 292/2000\n",
      "26/26 [==============================] - 5s 210ms/step - loss: 0.2761 - val_loss: 0.3029\n",
      "Epoch 293/2000\n",
      "26/26 [==============================] - 5s 206ms/step - loss: 0.2780 - val_loss: 0.2834\n",
      "Epoch 294/2000\n",
      "26/26 [==============================] - 5s 201ms/step - loss: 0.2766 - val_loss: 0.2780\n",
      "Epoch 295/2000\n",
      "26/26 [==============================] - 5s 211ms/step - loss: 0.2742 - val_loss: 0.2854\n",
      "Epoch 296/2000\n",
      "26/26 [==============================] - 5s 204ms/step - loss: 0.2759 - val_loss: 0.2903\n",
      "Epoch 297/2000\n",
      "26/26 [==============================] - 6s 213ms/step - loss: 0.2762 - val_loss: 0.2765\n",
      "Epoch 298/2000\n",
      "26/26 [==============================] - 6s 217ms/step - loss: 0.2742 - val_loss: 0.2820\n",
      "Epoch 299/2000\n",
      "26/26 [==============================] - 6s 220ms/step - loss: 0.2751 - val_loss: 0.2775\n",
      "Epoch 300/2000\n",
      "26/26 [==============================] - 5s 198ms/step - loss: 0.2747 - val_loss: 0.2776\n",
      "Epoch 301/2000\n",
      "26/26 [==============================] - 7s 258ms/step - loss: 0.2769 - val_loss: 0.2783\n",
      "Epoch 302/2000\n",
      "26/26 [==============================] - 6s 217ms/step - loss: 0.2738 - val_loss: 0.2879\n",
      "Epoch 303/2000\n",
      "26/26 [==============================] - 6s 228ms/step - loss: 0.2726 - val_loss: 0.2790\n",
      "Epoch 304/2000\n",
      "26/26 [==============================] - 5s 204ms/step - loss: 0.2735 - val_loss: 0.2818\n",
      "Epoch 305/2000\n",
      "26/26 [==============================] - 6s 212ms/step - loss: 0.2733 - val_loss: 0.2767\n",
      "Epoch 306/2000\n",
      "26/26 [==============================] - 6s 225ms/step - loss: 0.2724 - val_loss: 0.2779\n",
      "Epoch 307/2000\n",
      "26/26 [==============================] - 6s 234ms/step - loss: 0.2725 - val_loss: 0.2837\n",
      "Epoch 308/2000\n",
      "26/26 [==============================] - 5s 210ms/step - loss: 0.2726 - val_loss: 0.2823\n",
      "Epoch 309/2000\n",
      "26/26 [==============================] - 6s 218ms/step - loss: 0.2712 - val_loss: 0.2772\n",
      "Epoch 310/2000\n",
      "26/26 [==============================] - 5s 197ms/step - loss: 0.2712 - val_loss: 0.2808\n",
      "Epoch 311/2000\n",
      "26/26 [==============================] - 5s 198ms/step - loss: 0.2717 - val_loss: 0.2836\n",
      "Epoch 312/2000\n",
      "26/26 [==============================] - 5s 194ms/step - loss: 0.2717 - val_loss: 0.2743\n",
      "Epoch 313/2000\n",
      "26/26 [==============================] - 5s 194ms/step - loss: 0.2737 - val_loss: 0.2767\n",
      "Epoch 314/2000\n",
      "26/26 [==============================] - 5s 197ms/step - loss: 0.2714 - val_loss: 0.2754\n",
      "Epoch 315/2000\n",
      "26/26 [==============================] - 5s 187ms/step - loss: 0.2747 - val_loss: 0.2772\n",
      "Epoch 316/2000\n",
      "26/26 [==============================] - 5s 203ms/step - loss: 0.2726 - val_loss: 0.2802\n",
      "Epoch 317/2000\n",
      "26/26 [==============================] - 5s 193ms/step - loss: 0.2729 - val_loss: 0.2863\n"
     ]
    },
    {
     "name": "stdout",
     "output_type": "stream",
     "text": [
      "Epoch 318/2000\n",
      "26/26 [==============================] - 5s 189ms/step - loss: 0.2722 - val_loss: 0.2798\n",
      "Epoch 319/2000\n",
      "26/26 [==============================] - 5s 193ms/step - loss: 0.2726 - val_loss: 0.2755\n",
      "Epoch 320/2000\n",
      "26/26 [==============================] - 5s 196ms/step - loss: 0.2736 - val_loss: 0.2862\n",
      "Epoch 321/2000\n",
      "26/26 [==============================] - 5s 208ms/step - loss: 0.2728 - val_loss: 0.2831\n",
      "Epoch 322/2000\n",
      "26/26 [==============================] - 6s 229ms/step - loss: 0.2709 - val_loss: 0.2939\n",
      "Epoch 323/2000\n",
      "26/26 [==============================] - 5s 211ms/step - loss: 0.2747 - val_loss: 0.2765\n",
      "Epoch 324/2000\n",
      "26/26 [==============================] - 6s 215ms/step - loss: 0.2735 - val_loss: 0.2783\n",
      "Epoch 325/2000\n",
      "26/26 [==============================] - 6s 244ms/step - loss: 0.2759 - val_loss: 0.2788\n",
      "Epoch 326/2000\n",
      "26/26 [==============================] - 6s 213ms/step - loss: 0.2714 - val_loss: 0.2766\n",
      "Epoch 327/2000\n",
      "26/26 [==============================] - 6s 213ms/step - loss: 0.2702 - val_loss: 0.2769\n",
      "Epoch 328/2000\n",
      "26/26 [==============================] - 6s 212ms/step - loss: 0.2734 - val_loss: 0.2967\n",
      "Epoch 329/2000\n",
      "26/26 [==============================] - 5s 189ms/step - loss: 0.2719 - val_loss: 0.2766\n",
      "Epoch 330/2000\n",
      "26/26 [==============================] - 5s 208ms/step - loss: 0.2707 - val_loss: 0.2777\n",
      "Epoch 331/2000\n",
      "26/26 [==============================] - 5s 203ms/step - loss: 0.2707 - val_loss: 0.2756\n",
      "Epoch 332/2000\n",
      "26/26 [==============================] - 5s 195ms/step - loss: 0.2706 - val_loss: 0.2825\n",
      "Epoch 333/2000\n",
      "26/26 [==============================] - 5s 196ms/step - loss: 0.2716 - val_loss: 0.2750\n",
      "Epoch 00333: early stopping\n"
     ]
    },
    {
     "data": {
      "application/javascript": [
       "\n",
       "            setTimeout(function() {\n",
       "                var nbb_cell_id = 30;\n",
       "                var nbb_unformatted_code = \"tensorflow_addonshistory = model.fit(\\n    X_train_preproc,\\n    y_train.reshape(-1, 1),\\n    epochs=2000,\\n    batch_size=1024,\\n    validation_data=(X_valid_preproc, y_valid.reshape(-1, 1),),\\n    verbose=1,\\n    callbacks=[EarlyStopping(monitor=\\\"val_loss\\\", patience=50, verbose=1)],\\n)\";\n",
       "                var nbb_formatted_code = \"tensorflow_addonshistory = model.fit(\\n    X_train_preproc,\\n    y_train.reshape(-1, 1),\\n    epochs=2000,\\n    batch_size=1024,\\n    validation_data=(X_valid_preproc, y_valid.reshape(-1, 1),),\\n    verbose=1,\\n    callbacks=[EarlyStopping(monitor=\\\"val_loss\\\", patience=50, verbose=1)],\\n)\";\n",
       "                var nbb_cells = Jupyter.notebook.get_cells();\n",
       "                for (var i = 0; i < nbb_cells.length; ++i) {\n",
       "                    if (nbb_cells[i].input_prompt_number == nbb_cell_id) {\n",
       "                        if (nbb_cells[i].get_text() == nbb_unformatted_code) {\n",
       "                             nbb_cells[i].set_text(nbb_formatted_code);\n",
       "                        }\n",
       "                        break;\n",
       "                    }\n",
       "                }\n",
       "            }, 500);\n",
       "            "
      ],
      "text/plain": [
       "<IPython.core.display.Javascript object>"
      ]
     },
     "metadata": {},
     "output_type": "display_data"
    }
   ],
   "source": [
    "%%time\n",
    "history = model.fit(\n",
    "    X_train_preproc,\n",
    "    y_train.reshape(-1, 1),\n",
    "    epochs=2000,\n",
    "    batch_size=1024,\n",
    "    validation_data=(X_valid_preproc, y_valid.reshape(-1, 1),),\n",
    "    verbose=1,\n",
    "    callbacks=[EarlyStopping(monitor=\"val_loss\", patience=100, verbose=1)],\n",
    ")"
   ]
  },
  {
   "cell_type": "code",
   "execution_count": 32,
   "metadata": {
    "ExecuteTime": {
     "end_time": "2020-05-25T21:00:07.719810Z",
     "start_time": "2020-05-25T20:59:43.864Z"
    }
   },
   "outputs": [
    {
     "data": {
      "image/png": "[encoded data removed]",
      "text/plain": [
       "<Figure size 432x288 with 1 Axes>"
      ]
     },
     "metadata": {
      "needs_background": "light"
     },
     "output_type": "display_data"
    },
    {
     "data": {
      "application/javascript": [
       "\n",
       "            setTimeout(function() {\n",
       "                var nbb_cell_id = 32;\n",
       "                var nbb_unformatted_code = \"plot_history(tensorflow_addonshistory)\";\n",
       "                var nbb_formatted_code = \"plot_history(tensorflow_addonshistory)\";\n",
       "                var nbb_cells = Jupyter.notebook.get_cells();\n",
       "                for (var i = 0; i < nbb_cells.length; ++i) {\n",
       "                    if (nbb_cells[i].input_prompt_number == nbb_cell_id) {\n",
       "                        if (nbb_cells[i].get_text() == nbb_unformatted_code) {\n",
       "                             nbb_cells[i].set_text(nbb_formatted_code);\n",
       "                        }\n",
       "                        break;\n",
       "                    }\n",
       "                }\n",
       "            }, 500);\n",
       "            "
      ],
      "text/plain": [
       "<IPython.core.display.Javascript object>"
      ]
     },
     "metadata": {},
     "output_type": "display_data"
    }
   ],
   "source": [
    "plot_history(history)"
   ]
  },
  {
   "cell_type": "code",
   "execution_count": 114,
   "metadata": {
    "ExecuteTime": {
     "end_time": "2020-05-25T21:00:07.720685Z",
     "start_time": "2020-05-25T20:59:43.865Z"
    }
   },
   "outputs": [
    {
     "data": {
      "text/plain": [
       "0.9347420166297309"
      ]
     },
     "execution_count": 114,
     "metadata": {},
     "output_type": "execute_result"
    },
    {
     "data": {
      "application/javascript": [
       "\n",
       "            setTimeout(function() {\n",
       "                var nbb_cell_id = 114;\n",
       "                var nbb_unformatted_code = \"model_auc = roc_auc_score(\\n    y_true=y_valid, y_score=model.predict(X_valid_preproc).reshape(-1),\\n)\\nmodel_auc\";\n",
       "                var nbb_formatted_code = \"model_auc = roc_auc_score(\\n    y_true=y_valid, y_score=model.predict(X_valid_preproc).reshape(-1),\\n)\\nmodel_auc\";\n",
       "                var nbb_cells = Jupyter.notebook.get_cells();\n",
       "                for (var i = 0; i < nbb_cells.length; ++i) {\n",
       "                    if (nbb_cells[i].input_prompt_number == nbb_cell_id) {\n",
       "                        if (nbb_cells[i].get_text() == nbb_unformatted_code) {\n",
       "                             nbb_cells[i].set_text(nbb_formatted_code);\n",
       "                        }\n",
       "                        break;\n",
       "                    }\n",
       "                }\n",
       "            }, 500);\n",
       "            "
      ],
      "text/plain": [
       "<IPython.core.display.Javascript object>"
      ]
     },
     "metadata": {},
     "output_type": "display_data"
    }
   ],
   "source": [
    "model_auc = roc_auc_score(\n",
    "    y_true=y_valid, y_score=model.predict(X_valid_preproc).reshape(-1),\n",
    ")\n",
    "model_auc"
   ]
  },
  {
   "cell_type": "code",
   "execution_count": 115,
   "metadata": {
    "ExecuteTime": {
     "end_time": "2020-05-25T21:00:07.722364Z",
     "start_time": "2020-05-25T20:59:43.867Z"
    }
   },
   "outputs": [
    {
     "data": {
      "text/plain": [
       "0.9262939626480025"
      ]
     },
     "execution_count": 115,
     "metadata": {},
     "output_type": "execute_result"
    },
    {
     "data": {
      "application/javascript": [
       "\n",
       "            setTimeout(function() {\n",
       "                var nbb_cell_id = 115;\n",
       "                var nbb_unformatted_code = \"model_auc = roc_auc_score(\\n    y_true=y_test, y_score=model.predict(X_test_preproc).reshape(-1),\\n)\\nmodel_auc\";\n",
       "                var nbb_formatted_code = \"model_auc = roc_auc_score(\\n    y_true=y_test, y_score=model.predict(X_test_preproc).reshape(-1),\\n)\\nmodel_auc\";\n",
       "                var nbb_cells = Jupyter.notebook.get_cells();\n",
       "                for (var i = 0; i < nbb_cells.length; ++i) {\n",
       "                    if (nbb_cells[i].input_prompt_number == nbb_cell_id) {\n",
       "                        if (nbb_cells[i].get_text() == nbb_unformatted_code) {\n",
       "                             nbb_cells[i].set_text(nbb_formatted_code);\n",
       "                        }\n",
       "                        break;\n",
       "                    }\n",
       "                }\n",
       "            }, 500);\n",
       "            "
      ],
      "text/plain": [
       "<IPython.core.display.Javascript object>"
      ]
     },
     "metadata": {},
     "output_type": "display_data"
    }
   ],
   "source": [
    "model_auc = roc_auc_score(\n",
    "    y_true=y_test, y_score=model.predict(X_test_preproc).reshape(-1),\n",
    ")\n",
    "model_auc"
   ]
  },
  {
   "cell_type": "code",
   "execution_count": null,
   "metadata": {},
   "outputs": [],
   "source": [
    "# valid 0.9282381974389771 test 0.9262939626480025 conv_dim=[64], lconv_dim=[128, 64, 32] patience 50"
   ]
  },
  {
   "cell_type": "code",
   "execution_count": 79,
   "metadata": {},
   "outputs": [
    {
     "data": {
      "application/javascript": [
       "\n",
       "            setTimeout(function() {\n",
       "                var nbb_cell_id = 79;\n",
       "                var nbb_unformatted_code = \"SAMPLE_NB = 1000\";\n",
       "                var nbb_formatted_code = \"SAMPLE_NB = 1000\";\n",
       "                var nbb_cells = Jupyter.notebook.get_cells();\n",
       "                for (var i = 0; i < nbb_cells.length; ++i) {\n",
       "                    if (nbb_cells[i].input_prompt_number == nbb_cell_id) {\n",
       "                        if (nbb_cells[i].get_text() == nbb_unformatted_code) {\n",
       "                             nbb_cells[i].set_text(nbb_formatted_code);\n",
       "                        }\n",
       "                        break;\n",
       "                    }\n",
       "                }\n",
       "            }, 500);\n",
       "            "
      ],
      "text/plain": [
       "<IPython.core.display.Javascript object>"
      ]
     },
     "metadata": {},
     "output_type": "display_data"
    }
   ],
   "source": [
    "SAMPLE_NB = 1000"
   ]
  },
  {
   "cell_type": "code",
   "execution_count": 80,
   "metadata": {},
   "outputs": [
    {
     "data": {
      "application/javascript": [
       "\n",
       "            setTimeout(function() {\n",
       "                var nbb_cell_id = 80;\n",
       "                var nbb_unformatted_code = \"sample = X_valid_preproc[:SAMPLE]\";\n",
       "                var nbb_formatted_code = \"sample = X_valid_preproc[:SAMPLE]\";\n",
       "                var nbb_cells = Jupyter.notebook.get_cells();\n",
       "                for (var i = 0; i < nbb_cells.length; ++i) {\n",
       "                    if (nbb_cells[i].input_prompt_number == nbb_cell_id) {\n",
       "                        if (nbb_cells[i].get_text() == nbb_unformatted_code) {\n",
       "                             nbb_cells[i].set_text(nbb_formatted_code);\n",
       "                        }\n",
       "                        break;\n",
       "                    }\n",
       "                }\n",
       "            }, 500);\n",
       "            "
      ],
      "text/plain": [
       "<IPython.core.display.Javascript object>"
      ]
     },
     "metadata": {},
     "output_type": "display_data"
    }
   ],
   "source": [
    "sample = X_valid_preproc[:SAMPLE]"
   ]
  },
  {
   "cell_type": "code",
   "execution_count": 81,
   "metadata": {},
   "outputs": [
    {
     "data": {
      "text/plain": [
       "(1000, 1)"
      ]
     },
     "execution_count": 81,
     "metadata": {},
     "output_type": "execute_result"
    },
    {
     "data": {
      "application/javascript": [
       "\n",
       "            setTimeout(function() {\n",
       "                var nbb_cell_id = 81;\n",
       "                var nbb_unformatted_code = \"model_pred = model.predict(sample)\\nmodel_pred.shape\";\n",
       "                var nbb_formatted_code = \"model_pred = model.predict(sample)\\nmodel_pred.shape\";\n",
       "                var nbb_cells = Jupyter.notebook.get_cells();\n",
       "                for (var i = 0; i < nbb_cells.length; ++i) {\n",
       "                    if (nbb_cells[i].input_prompt_number == nbb_cell_id) {\n",
       "                        if (nbb_cells[i].get_text() == nbb_unformatted_code) {\n",
       "                             nbb_cells[i].set_text(nbb_formatted_code);\n",
       "                        }\n",
       "                        break;\n",
       "                    }\n",
       "                }\n",
       "            }, 500);\n",
       "            "
      ],
      "text/plain": [
       "<IPython.core.display.Javascript object>"
      ]
     },
     "metadata": {},
     "output_type": "display_data"
    }
   ],
   "source": [
    "model_pred = model.predict(sample)\n",
    "model_pred.shape"
   ]
  },
  {
   "cell_type": "code",
   "execution_count": 82,
   "metadata": {},
   "outputs": [
    {
     "data": {
      "application/javascript": [
       "\n",
       "            setTimeout(function() {\n",
       "                var nbb_cell_id = 82;\n",
       "                var nbb_unformatted_code = \"new_model = Model(inputs=[model.input], outputs=[model.output, model.layers[-3].output])\";\n",
       "                var nbb_formatted_code = \"new_model = Model(inputs=[model.input], outputs=[model.output, model.layers[-3].output])\";\n",
       "                var nbb_cells = Jupyter.notebook.get_cells();\n",
       "                for (var i = 0; i < nbb_cells.length; ++i) {\n",
       "                    if (nbb_cells[i].input_prompt_number == nbb_cell_id) {\n",
       "                        if (nbb_cells[i].get_text() == nbb_unformatted_code) {\n",
       "                             nbb_cells[i].set_text(nbb_formatted_code);\n",
       "                        }\n",
       "                        break;\n",
       "                    }\n",
       "                }\n",
       "            }, 500);\n",
       "            "
      ],
      "text/plain": [
       "<IPython.core.display.Javascript object>"
      ]
     },
     "metadata": {},
     "output_type": "display_data"
    }
   ],
   "source": [
    "new_model = Model(inputs=[model.input], outputs=[model.output, model.layers[-3].output])"
   ]
  },
  {
   "cell_type": "code",
   "execution_count": 83,
   "metadata": {},
   "outputs": [
    {
     "data": {
      "application/javascript": [
       "\n",
       "            setTimeout(function() {\n",
       "                var nbb_cell_id = 83;\n",
       "                var nbb_unformatted_code = \"new_model_pred, feature_inter = new_model.predict(sample)\";\n",
       "                var nbb_formatted_code = \"new_model_pred, feature_inter = new_model.predict(sample)\";\n",
       "                var nbb_cells = Jupyter.notebook.get_cells();\n",
       "                for (var i = 0; i < nbb_cells.length; ++i) {\n",
       "                    if (nbb_cells[i].input_prompt_number == nbb_cell_id) {\n",
       "                        if (nbb_cells[i].get_text() == nbb_unformatted_code) {\n",
       "                             nbb_cells[i].set_text(nbb_formatted_code);\n",
       "                        }\n",
       "                        break;\n",
       "                    }\n",
       "                }\n",
       "            }, 500);\n",
       "            "
      ],
      "text/plain": [
       "<IPython.core.display.Javascript object>"
      ]
     },
     "metadata": {},
     "output_type": "display_data"
    }
   ],
   "source": [
    "new_model_pred, feature_inter = new_model.predict(sample)"
   ]
  },
  {
   "cell_type": "code",
   "execution_count": 84,
   "metadata": {},
   "outputs": [
    {
     "data": {
      "application/javascript": [
       "\n",
       "            setTimeout(function() {\n",
       "                var nbb_cell_id = 84;\n",
       "                var nbb_unformatted_code = \"assert np.all(model_pred == new_model_pred)\";\n",
       "                var nbb_formatted_code = \"assert np.all(model_pred == new_model_pred)\";\n",
       "                var nbb_cells = Jupyter.notebook.get_cells();\n",
       "                for (var i = 0; i < nbb_cells.length; ++i) {\n",
       "                    if (nbb_cells[i].input_prompt_number == nbb_cell_id) {\n",
       "                        if (nbb_cells[i].get_text() == nbb_unformatted_code) {\n",
       "                             nbb_cells[i].set_text(nbb_formatted_code);\n",
       "                        }\n",
       "                        break;\n",
       "                    }\n",
       "                }\n",
       "            }, 500);\n",
       "            "
      ],
      "text/plain": [
       "<IPython.core.display.Javascript object>"
      ]
     },
     "metadata": {},
     "output_type": "display_data"
    }
   ],
   "source": [
    "assert np.all(model_pred == new_model_pred)"
   ]
  },
  {
   "cell_type": "code",
   "execution_count": 85,
   "metadata": {},
   "outputs": [
    {
     "data": {
      "text/plain": [
       "(1000, 14, 32)"
      ]
     },
     "execution_count": 85,
     "metadata": {},
     "output_type": "execute_result"
    },
    {
     "data": {
      "application/javascript": [
       "\n",
       "            setTimeout(function() {\n",
       "                var nbb_cell_id = 85;\n",
       "                var nbb_unformatted_code = \"feature_inter.shape\";\n",
       "                var nbb_formatted_code = \"feature_inter.shape\";\n",
       "                var nbb_cells = Jupyter.notebook.get_cells();\n",
       "                for (var i = 0; i < nbb_cells.length; ++i) {\n",
       "                    if (nbb_cells[i].input_prompt_number == nbb_cell_id) {\n",
       "                        if (nbb_cells[i].get_text() == nbb_unformatted_code) {\n",
       "                             nbb_cells[i].set_text(nbb_formatted_code);\n",
       "                        }\n",
       "                        break;\n",
       "                    }\n",
       "                }\n",
       "            }, 500);\n",
       "            "
      ],
      "text/plain": [
       "<IPython.core.display.Javascript object>"
      ]
     },
     "metadata": {},
     "output_type": "display_data"
    }
   ],
   "source": [
    "feature_inter.shape"
   ]
  },
  {
   "cell_type": "code",
   "execution_count": 89,
   "metadata": {},
   "outputs": [
    {
     "data": {
      "application/javascript": [
       "\n",
       "            setTimeout(function() {\n",
       "                var nbb_cell_id = 89;\n",
       "                var nbb_unformatted_code = \"for idx in range(sample.shape[1]):\\n    one_col = np.zeros(sample.shape)\\n    one_col[:, idx] = sample[:, idx]\\n    _, feature_inter_one_col = new_model.predict(one_col)\\n    assert np.all(feature_inter_one_col[:, idx, :] == feature_inter[:, idx, :])\\n    assert np.sum(feature_inter_one_col - feature_inter) > 1\";\n",
       "                var nbb_formatted_code = \"for idx in range(sample.shape[1]):\\n    one_col = np.zeros(sample.shape)\\n    one_col[:, idx] = sample[:, idx]\\n    _, feature_inter_one_col = new_model.predict(one_col)\\n    assert np.all(feature_inter_one_col[:, idx, :] == feature_inter[:, idx, :])\\n    assert np.sum(feature_inter_one_col - feature_inter) > 1\";\n",
       "                var nbb_cells = Jupyter.notebook.get_cells();\n",
       "                for (var i = 0; i < nbb_cells.length; ++i) {\n",
       "                    if (nbb_cells[i].input_prompt_number == nbb_cell_id) {\n",
       "                        if (nbb_cells[i].get_text() == nbb_unformatted_code) {\n",
       "                             nbb_cells[i].set_text(nbb_formatted_code);\n",
       "                        }\n",
       "                        break;\n",
       "                    }\n",
       "                }\n",
       "            }, 500);\n",
       "            "
      ],
      "text/plain": [
       "<IPython.core.display.Javascript object>"
      ]
     },
     "metadata": {},
     "output_type": "display_data"
    }
   ],
   "source": [
    "for idx in range(sample.shape[1]):\n",
    "    one_col = np.zeros(sample.shape)\n",
    "    one_col[:, idx] = sample[:, idx]\n",
    "    _, feature_inter_one_col = new_model.predict(one_col)\n",
    "    assert np.all(feature_inter_one_col[:, idx, :] == feature_inter[:, idx, :])\n",
    "    assert np.sum(feature_inter_one_col - feature_inter) > 1"
   ]
  },
  {
   "cell_type": "code",
   "execution_count": 90,
   "metadata": {},
   "outputs": [
    {
     "data": {
      "application/javascript": [
       "\n",
       "            setTimeout(function() {\n",
       "                var nbb_cell_id = 90;\n",
       "                var nbb_unformatted_code = \"idx = 0\\none_col = np.zeros(sample.shape)\\none_col[:, idx] = sample[:, idx]\\n_, feature_inter_one_col = new_model.predict(one_col)\\nassert np.all(feature_inter_one_col[:, idx, :] == feature_inter[:, idx, :])\\nassert np.sum(feature_inter_one_col - feature_inter) > 1\";\n",
       "                var nbb_formatted_code = \"idx = 0\\none_col = np.zeros(sample.shape)\\none_col[:, idx] = sample[:, idx]\\n_, feature_inter_one_col = new_model.predict(one_col)\\nassert np.all(feature_inter_one_col[:, idx, :] == feature_inter[:, idx, :])\\nassert np.sum(feature_inter_one_col - feature_inter) > 1\";\n",
       "                var nbb_cells = Jupyter.notebook.get_cells();\n",
       "                for (var i = 0; i < nbb_cells.length; ++i) {\n",
       "                    if (nbb_cells[i].input_prompt_number == nbb_cell_id) {\n",
       "                        if (nbb_cells[i].get_text() == nbb_unformatted_code) {\n",
       "                             nbb_cells[i].set_text(nbb_formatted_code);\n",
       "                        }\n",
       "                        break;\n",
       "                    }\n",
       "                }\n",
       "            }, 500);\n",
       "            "
      ],
      "text/plain": [
       "<IPython.core.display.Javascript object>"
      ]
     },
     "metadata": {},
     "output_type": "display_data"
    }
   ],
   "source": [
    "idx = 0\n",
    "one_col = np.zeros(sample.shape)\n",
    "one_col[:, idx] = sample[:, idx]\n",
    "_, feature_inter_one_col = new_model.predict(one_col)\n",
    "assert np.all(feature_inter_one_col[:, idx, :] == feature_inter[:, idx, :])\n",
    "assert np.sum(feature_inter_one_col - feature_inter) > 1"
   ]
  },
  {
   "cell_type": "code",
   "execution_count": 92,
   "metadata": {},
   "outputs": [
    {
     "data": {
      "text/plain": [
       "(1000, 32)"
      ]
     },
     "execution_count": 92,
     "metadata": {},
     "output_type": "execute_result"
    },
    {
     "data": {
      "application/javascript": [
       "\n",
       "            setTimeout(function() {\n",
       "                var nbb_cell_id = 92;\n",
       "                var nbb_unformatted_code = \"feature_inter_one_col[:, 0, :].shape\";\n",
       "                var nbb_formatted_code = \"feature_inter_one_col[:, 0, :].shape\";\n",
       "                var nbb_cells = Jupyter.notebook.get_cells();\n",
       "                for (var i = 0; i < nbb_cells.length; ++i) {\n",
       "                    if (nbb_cells[i].input_prompt_number == nbb_cell_id) {\n",
       "                        if (nbb_cells[i].get_text() == nbb_unformatted_code) {\n",
       "                             nbb_cells[i].set_text(nbb_formatted_code);\n",
       "                        }\n",
       "                        break;\n",
       "                    }\n",
       "                }\n",
       "            }, 500);\n",
       "            "
      ],
      "text/plain": [
       "<IPython.core.display.Javascript object>"
      ]
     },
     "metadata": {},
     "output_type": "display_data"
    }
   ],
   "source": [
    "feature_inter_one_col[:, 0, :].shape"
   ]
  },
  {
   "cell_type": "code",
   "execution_count": 94,
   "metadata": {},
   "outputs": [
    {
     "data": {
      "text/plain": [
       "<tensorflow.python.keras.layers.core.Dense at 0x7fda5c2f76d0>"
      ]
     },
     "execution_count": 94,
     "metadata": {},
     "output_type": "execute_result"
    },
    {
     "data": {
      "application/javascript": [
       "\n",
       "            setTimeout(function() {\n",
       "                var nbb_cell_id = 94;\n",
       "                var nbb_unformatted_code = \"new_model.layers[-1]\";\n",
       "                var nbb_formatted_code = \"new_model.layers[-1]\";\n",
       "                var nbb_cells = Jupyter.notebook.get_cells();\n",
       "                for (var i = 0; i < nbb_cells.length; ++i) {\n",
       "                    if (nbb_cells[i].input_prompt_number == nbb_cell_id) {\n",
       "                        if (nbb_cells[i].get_text() == nbb_unformatted_code) {\n",
       "                             nbb_cells[i].set_text(nbb_formatted_code);\n",
       "                        }\n",
       "                        break;\n",
       "                    }\n",
       "                }\n",
       "            }, 500);\n",
       "            "
      ],
      "text/plain": [
       "<IPython.core.display.Javascript object>"
      ]
     },
     "metadata": {},
     "output_type": "display_data"
    }
   ],
   "source": [
    "new_model.layers[-1]"
   ]
  },
  {
   "cell_type": "code",
   "execution_count": 102,
   "metadata": {},
   "outputs": [
    {
     "data": {
      "text/plain": [
       "(448, 1)"
      ]
     },
     "execution_count": 102,
     "metadata": {},
     "output_type": "execute_result"
    },
    {
     "data": {
      "application/javascript": [
       "\n",
       "            setTimeout(function() {\n",
       "                var nbb_cell_id = 102;\n",
       "                var nbb_unformatted_code = \"model.get_weights()[-2].shape\";\n",
       "                var nbb_formatted_code = \"model.get_weights()[-2].shape\";\n",
       "                var nbb_cells = Jupyter.notebook.get_cells();\n",
       "                for (var i = 0; i < nbb_cells.length; ++i) {\n",
       "                    if (nbb_cells[i].input_prompt_number == nbb_cell_id) {\n",
       "                        if (nbb_cells[i].get_text() == nbb_unformatted_code) {\n",
       "                             nbb_cells[i].set_text(nbb_formatted_code);\n",
       "                        }\n",
       "                        break;\n",
       "                    }\n",
       "                }\n",
       "            }, 500);\n",
       "            "
      ],
      "text/plain": [
       "<IPython.core.display.Javascript object>"
      ]
     },
     "metadata": {},
     "output_type": "display_data"
    }
   ],
   "source": [
    "model.get_weights()[-2].shape"
   ]
  },
  {
   "cell_type": "code",
   "execution_count": 123,
   "metadata": {},
   "outputs": [
    {
     "data": {
      "application/javascript": [
       "\n",
       "            setTimeout(function() {\n",
       "                var nbb_cell_id = 123;\n",
       "                var nbb_unformatted_code = \"new_model = Model(inputs=[model.input], outputs=[model.output, model.layers[-2].output])\";\n",
       "                var nbb_formatted_code = \"new_model = Model(inputs=[model.input], outputs=[model.output, model.layers[-2].output])\";\n",
       "                var nbb_cells = Jupyter.notebook.get_cells();\n",
       "                for (var i = 0; i < nbb_cells.length; ++i) {\n",
       "                    if (nbb_cells[i].input_prompt_number == nbb_cell_id) {\n",
       "                        if (nbb_cells[i].get_text() == nbb_unformatted_code) {\n",
       "                             nbb_cells[i].set_text(nbb_formatted_code);\n",
       "                        }\n",
       "                        break;\n",
       "                    }\n",
       "                }\n",
       "            }, 500);\n",
       "            "
      ],
      "text/plain": [
       "<IPython.core.display.Javascript object>"
      ]
     },
     "metadata": {},
     "output_type": "display_data"
    }
   ],
   "source": [
    "new_model = Model(inputs=[model.input], outputs=[model.output, model.layers[-2].output])"
   ]
  },
  {
   "cell_type": "code",
   "execution_count": 124,
   "metadata": {},
   "outputs": [
    {
     "name": "stdout",
     "output_type": "stream",
     "text": [
      "CPU times: user 12.4 s, sys: 9.54 s, total: 21.9 s\n",
      "Wall time: 6.14 s\n"
     ]
    },
    {
     "data": {
      "application/javascript": [
       "\n",
       "            setTimeout(function() {\n",
       "                var nbb_cell_id = 124;\n",
       "                var nbb_unformatted_code = \"%%time\\n_, new_train_logistic = new_model.predict(X_train_preproc)\\n_, new_valid_logistic = new_model.predict(X_valid_preproc)\\n_, new_test_logistic = new_model.predict(X_test_preproc)\";\n",
       "                var nbb_formatted_code = \"%%time\\n_, new_train_logistic = new_model.predict(X_train_preproc)\\n_, new_valid_logistic = new_model.predict(X_valid_preproc)\\n_, new_test_logistic = new_model.predict(X_test_preproc)\";\n",
       "                var nbb_cells = Jupyter.notebook.get_cells();\n",
       "                for (var i = 0; i < nbb_cells.length; ++i) {\n",
       "                    if (nbb_cells[i].input_prompt_number == nbb_cell_id) {\n",
       "                        if (nbb_cells[i].get_text() == nbb_unformatted_code) {\n",
       "                             nbb_cells[i].set_text(nbb_formatted_code);\n",
       "                        }\n",
       "                        break;\n",
       "                    }\n",
       "                }\n",
       "            }, 500);\n",
       "            "
      ],
      "text/plain": [
       "<IPython.core.display.Javascript object>"
      ]
     },
     "metadata": {},
     "output_type": "display_data"
    }
   ],
   "source": [
    "%%time\n",
    "_, new_train_logistic = new_model.predict(X_train_preproc)\n",
    "_, new_valid_logistic = new_model.predict(X_valid_preproc)\n",
    "_, new_test_logistic = new_model.predict(X_test_preproc)"
   ]
  },
  {
   "cell_type": "code",
   "execution_count": 136,
   "metadata": {},
   "outputs": [
    {
     "data": {
      "application/javascript": [
       "\n",
       "            setTimeout(function() {\n",
       "                var nbb_cell_id = 136;\n",
       "                var nbb_unformatted_code = \"from sklearn.linear_model import LogisticRegression, LogisticRegressionCV\";\n",
       "                var nbb_formatted_code = \"from sklearn.linear_model import LogisticRegression, LogisticRegressionCV\";\n",
       "                var nbb_cells = Jupyter.notebook.get_cells();\n",
       "                for (var i = 0; i < nbb_cells.length; ++i) {\n",
       "                    if (nbb_cells[i].input_prompt_number == nbb_cell_id) {\n",
       "                        if (nbb_cells[i].get_text() == nbb_unformatted_code) {\n",
       "                             nbb_cells[i].set_text(nbb_formatted_code);\n",
       "                        }\n",
       "                        break;\n",
       "                    }\n",
       "                }\n",
       "            }, 500);\n",
       "            "
      ],
      "text/plain": [
       "<IPython.core.display.Javascript object>"
      ]
     },
     "metadata": {},
     "output_type": "display_data"
    }
   ],
   "source": [
    "from sklearn.linear_model import LogisticRegression, LogisticRegressionCV"
   ]
  },
  {
   "cell_type": "code",
   "execution_count": 126,
   "metadata": {},
   "outputs": [
    {
     "data": {
      "application/javascript": [
       "\n",
       "            setTimeout(function() {\n",
       "                var nbb_cell_id = 126;\n",
       "                var nbb_unformatted_code = \"lreg = LogisticRegression(max_iter=200, n_jobs=-1)\";\n",
       "                var nbb_formatted_code = \"lreg = LogisticRegression(max_iter=200, n_jobs=-1)\";\n",
       "                var nbb_cells = Jupyter.notebook.get_cells();\n",
       "                for (var i = 0; i < nbb_cells.length; ++i) {\n",
       "                    if (nbb_cells[i].input_prompt_number == nbb_cell_id) {\n",
       "                        if (nbb_cells[i].get_text() == nbb_unformatted_code) {\n",
       "                             nbb_cells[i].set_text(nbb_formatted_code);\n",
       "                        }\n",
       "                        break;\n",
       "                    }\n",
       "                }\n",
       "            }, 500);\n",
       "            "
      ],
      "text/plain": [
       "<IPython.core.display.Javascript object>"
      ]
     },
     "metadata": {},
     "output_type": "display_data"
    }
   ],
   "source": [
    "lreg = LogisticRegression(max_iter=200, n_jobs=-1)"
   ]
  },
  {
   "cell_type": "code",
   "execution_count": 127,
   "metadata": {},
   "outputs": [
    {
     "data": {
      "text/plain": [
       "(26108, 448)"
      ]
     },
     "execution_count": 127,
     "metadata": {},
     "output_type": "execute_result"
    },
    {
     "data": {
      "application/javascript": [
       "\n",
       "            setTimeout(function() {\n",
       "                var nbb_cell_id = 127;\n",
       "                var nbb_unformatted_code = \"new_train_logistic.shape\";\n",
       "                var nbb_formatted_code = \"new_train_logistic.shape\";\n",
       "                var nbb_cells = Jupyter.notebook.get_cells();\n",
       "                for (var i = 0; i < nbb_cells.length; ++i) {\n",
       "                    if (nbb_cells[i].input_prompt_number == nbb_cell_id) {\n",
       "                        if (nbb_cells[i].get_text() == nbb_unformatted_code) {\n",
       "                             nbb_cells[i].set_text(nbb_formatted_code);\n",
       "                        }\n",
       "                        break;\n",
       "                    }\n",
       "                }\n",
       "            }, 500);\n",
       "            "
      ],
      "text/plain": [
       "<IPython.core.display.Javascript object>"
      ]
     },
     "metadata": {},
     "output_type": "display_data"
    }
   ],
   "source": [
    "new_train_logistic.shape"
   ]
  },
  {
   "cell_type": "code",
   "execution_count": 129,
   "metadata": {},
   "outputs": [
    {
     "data": {
      "text/plain": [
       "LogisticRegression(max_iter=200, n_jobs=-1)"
      ]
     },
     "execution_count": 129,
     "metadata": {},
     "output_type": "execute_result"
    },
    {
     "data": {
      "application/javascript": [
       "\n",
       "            setTimeout(function() {\n",
       "                var nbb_cell_id = 129;\n",
       "                var nbb_unformatted_code = \"lreg.fit(new_train_logistic, y_train.reshape(-1))\";\n",
       "                var nbb_formatted_code = \"lreg.fit(new_train_logistic, y_train.reshape(-1))\";\n",
       "                var nbb_cells = Jupyter.notebook.get_cells();\n",
       "                for (var i = 0; i < nbb_cells.length; ++i) {\n",
       "                    if (nbb_cells[i].input_prompt_number == nbb_cell_id) {\n",
       "                        if (nbb_cells[i].get_text() == nbb_unformatted_code) {\n",
       "                             nbb_cells[i].set_text(nbb_formatted_code);\n",
       "                        }\n",
       "                        break;\n",
       "                    }\n",
       "                }\n",
       "            }, 500);\n",
       "            "
      ],
      "text/plain": [
       "<IPython.core.display.Javascript object>"
      ]
     },
     "metadata": {},
     "output_type": "display_data"
    }
   ],
   "source": [
    "lreg.fit(new_train_logistic, y_train.reshape(-1))"
   ]
  },
  {
   "cell_type": "code",
   "execution_count": 134,
   "metadata": {},
   "outputs": [
    {
     "data": {
      "text/plain": [
       "0.9331454088086971"
      ]
     },
     "execution_count": 134,
     "metadata": {},
     "output_type": "execute_result"
    },
    {
     "data": {
      "application/javascript": [
       "\n",
       "            setTimeout(function() {\n",
       "                var nbb_cell_id = 134;\n",
       "                var nbb_unformatted_code = \"roc_auc_score(\\n    y_true=y_valid, y_score=lreg.predict_proba(new_valid_logistic)[:, 1],\\n)\";\n",
       "                var nbb_formatted_code = \"roc_auc_score(\\n    y_true=y_valid, y_score=lreg.predict_proba(new_valid_logistic)[:, 1],\\n)\";\n",
       "                var nbb_cells = Jupyter.notebook.get_cells();\n",
       "                for (var i = 0; i < nbb_cells.length; ++i) {\n",
       "                    if (nbb_cells[i].input_prompt_number == nbb_cell_id) {\n",
       "                        if (nbb_cells[i].get_text() == nbb_unformatted_code) {\n",
       "                             nbb_cells[i].set_text(nbb_formatted_code);\n",
       "                        }\n",
       "                        break;\n",
       "                    }\n",
       "                }\n",
       "            }, 500);\n",
       "            "
      ],
      "text/plain": [
       "<IPython.core.display.Javascript object>"
      ]
     },
     "metadata": {},
     "output_type": "display_data"
    }
   ],
   "source": [
    "roc_auc_score(\n",
    "    y_true=y_valid, y_score=lreg.predict_proba(new_valid_logistic)[:, 1],\n",
    ")"
   ]
  },
  {
   "cell_type": "code",
   "execution_count": 135,
   "metadata": {},
   "outputs": [
    {
     "data": {
      "text/plain": [
       "0.9264309103810188"
      ]
     },
     "execution_count": 135,
     "metadata": {},
     "output_type": "execute_result"
    },
    {
     "data": {
      "application/javascript": [
       "\n",
       "            setTimeout(function() {\n",
       "                var nbb_cell_id = 135;\n",
       "                var nbb_unformatted_code = \"roc_auc_score(\\n    y_true=y_test, y_score=lreg.predict_proba(new_test_logistic)[:, 1],\\n)\";\n",
       "                var nbb_formatted_code = \"roc_auc_score(\\n    y_true=y_test, y_score=lreg.predict_proba(new_test_logistic)[:, 1],\\n)\";\n",
       "                var nbb_cells = Jupyter.notebook.get_cells();\n",
       "                for (var i = 0; i < nbb_cells.length; ++i) {\n",
       "                    if (nbb_cells[i].input_prompt_number == nbb_cell_id) {\n",
       "                        if (nbb_cells[i].get_text() == nbb_unformatted_code) {\n",
       "                             nbb_cells[i].set_text(nbb_formatted_code);\n",
       "                        }\n",
       "                        break;\n",
       "                    }\n",
       "                }\n",
       "            }, 500);\n",
       "            "
      ],
      "text/plain": [
       "<IPython.core.display.Javascript object>"
      ]
     },
     "metadata": {},
     "output_type": "display_data"
    }
   ],
   "source": [
    "roc_auc_score(\n",
    "    y_true=y_test, y_score=lreg.predict_proba(new_test_logistic)[:, 1],\n",
    ")"
   ]
  },
  {
   "cell_type": "code",
   "execution_count": 141,
   "metadata": {},
   "outputs": [
    {
     "data": {
      "application/javascript": [
       "\n",
       "            setTimeout(function() {\n",
       "                var nbb_cell_id = 141;\n",
       "                var nbb_unformatted_code = \"lreg_cv = LogisticRegressionCV(Cs=100, max_iter=2000, n_jobs=-1, cv=10, random_state=0)\";\n",
       "                var nbb_formatted_code = \"lreg_cv = LogisticRegressionCV(Cs=100, max_iter=2000, n_jobs=-1, cv=10, random_state=0)\";\n",
       "                var nbb_cells = Jupyter.notebook.get_cells();\n",
       "                for (var i = 0; i < nbb_cells.length; ++i) {\n",
       "                    if (nbb_cells[i].input_prompt_number == nbb_cell_id) {\n",
       "                        if (nbb_cells[i].get_text() == nbb_unformatted_code) {\n",
       "                             nbb_cells[i].set_text(nbb_formatted_code);\n",
       "                        }\n",
       "                        break;\n",
       "                    }\n",
       "                }\n",
       "            }, 500);\n",
       "            "
      ],
      "text/plain": [
       "<IPython.core.display.Javascript object>"
      ]
     },
     "metadata": {},
     "output_type": "display_data"
    }
   ],
   "source": [
    "lreg_cv = LogisticRegressionCV(Cs=20, max_iter=2000, n_jobs=-1, cv=5, random_state=0)"
   ]
  },
  {
   "cell_type": "code",
   "execution_count": 142,
   "metadata": {},
   "outputs": [
    {
     "ename": "KeyboardInterrupt",
     "evalue": "",
     "output_type": "error",
     "traceback": [
      "\u001b[0;31m---------------------------------------------------------------------------\u001b[0m",
      "\u001b[0;31mKeyboardInterrupt\u001b[0m                         Traceback (most recent call last)",
      "\u001b[0;32m<ipython-input-142-a868486caa11>\u001b[0m in \u001b[0;36m<module>\u001b[0;34m\u001b[0m\n\u001b[0;32m----> 1\u001b[0;31m \u001b[0mlreg_cv\u001b[0m\u001b[0;34m.\u001b[0m\u001b[0mfit\u001b[0m\u001b[0;34m(\u001b[0m\u001b[0mnew_train_logistic\u001b[0m\u001b[0;34m,\u001b[0m \u001b[0my_train\u001b[0m\u001b[0;34m.\u001b[0m\u001b[0mreshape\u001b[0m\u001b[0;34m(\u001b[0m\u001b[0;34m-\u001b[0m\u001b[0;36m1\u001b[0m\u001b[0;34m)\u001b[0m\u001b[0;34m)\u001b[0m\u001b[0;34m\u001b[0m\u001b[0;34m\u001b[0m\u001b[0m\n\u001b[0m",
      "\u001b[0;32m/work/.cache/poetry/thc-net-KQLMmzPP-py3.7/lib/python3.7/site-packages/sklearn/linear_model/_logistic.py\u001b[0m in \u001b[0;36mfit\u001b[0;34m(self, X, y, sample_weight)\u001b[0m\n\u001b[1;32m   1897\u001b[0m                       \u001b[0ml1_ratio\u001b[0m\u001b[0;34m=\u001b[0m\u001b[0ml1_ratio\u001b[0m\u001b[0;34m\u001b[0m\u001b[0;34m\u001b[0m\u001b[0m\n\u001b[1;32m   1898\u001b[0m                       )\n\u001b[0;32m-> 1899\u001b[0;31m             \u001b[0;32mfor\u001b[0m \u001b[0mlabel\u001b[0m \u001b[0;32min\u001b[0m \u001b[0miter_encoded_labels\u001b[0m\u001b[0;34m\u001b[0m\u001b[0;34m\u001b[0m\u001b[0m\n\u001b[0m\u001b[1;32m   1900\u001b[0m             \u001b[0;32mfor\u001b[0m \u001b[0mtrain\u001b[0m\u001b[0;34m,\u001b[0m \u001b[0mtest\u001b[0m \u001b[0;32min\u001b[0m \u001b[0mfolds\u001b[0m\u001b[0;34m\u001b[0m\u001b[0;34m\u001b[0m\u001b[0m\n\u001b[1;32m   1901\u001b[0m             for l1_ratio in l1_ratios_)\n",
      "\u001b[0;32m/work/.cache/poetry/thc-net-KQLMmzPP-py3.7/lib/python3.7/site-packages/joblib/parallel.py\u001b[0m in \u001b[0;36m__call__\u001b[0;34m(self, iterable)\u001b[0m\n\u001b[1;32m   1040\u001b[0m \u001b[0;34m\u001b[0m\u001b[0m\n\u001b[1;32m   1041\u001b[0m             \u001b[0;32mwith\u001b[0m \u001b[0mself\u001b[0m\u001b[0;34m.\u001b[0m\u001b[0m_backend\u001b[0m\u001b[0;34m.\u001b[0m\u001b[0mretrieval_context\u001b[0m\u001b[0;34m(\u001b[0m\u001b[0;34m)\u001b[0m\u001b[0;34m:\u001b[0m\u001b[0;34m\u001b[0m\u001b[0;34m\u001b[0m\u001b[0m\n\u001b[0;32m-> 1042\u001b[0;31m                 \u001b[0mself\u001b[0m\u001b[0;34m.\u001b[0m\u001b[0mretrieve\u001b[0m\u001b[0;34m(\u001b[0m\u001b[0;34m)\u001b[0m\u001b[0;34m\u001b[0m\u001b[0;34m\u001b[0m\u001b[0m\n\u001b[0m\u001b[1;32m   1043\u001b[0m             \u001b[0;31m# Make sure that we get a last message telling us we are done\u001b[0m\u001b[0;34m\u001b[0m\u001b[0;34m\u001b[0m\u001b[0;34m\u001b[0m\u001b[0m\n\u001b[1;32m   1044\u001b[0m             \u001b[0melapsed_time\u001b[0m \u001b[0;34m=\u001b[0m \u001b[0mtime\u001b[0m\u001b[0;34m.\u001b[0m\u001b[0mtime\u001b[0m\u001b[0;34m(\u001b[0m\u001b[0;34m)\u001b[0m \u001b[0;34m-\u001b[0m \u001b[0mself\u001b[0m\u001b[0;34m.\u001b[0m\u001b[0m_start_time\u001b[0m\u001b[0;34m\u001b[0m\u001b[0;34m\u001b[0m\u001b[0m\n",
      "\u001b[0;32m/work/.cache/poetry/thc-net-KQLMmzPP-py3.7/lib/python3.7/site-packages/joblib/parallel.py\u001b[0m in \u001b[0;36mretrieve\u001b[0;34m(self)\u001b[0m\n\u001b[1;32m    919\u001b[0m             \u001b[0;32mtry\u001b[0m\u001b[0;34m:\u001b[0m\u001b[0;34m\u001b[0m\u001b[0;34m\u001b[0m\u001b[0m\n\u001b[1;32m    920\u001b[0m                 \u001b[0;32mif\u001b[0m \u001b[0mgetattr\u001b[0m\u001b[0;34m(\u001b[0m\u001b[0mself\u001b[0m\u001b[0;34m.\u001b[0m\u001b[0m_backend\u001b[0m\u001b[0;34m,\u001b[0m \u001b[0;34m'supports_timeout'\u001b[0m\u001b[0;34m,\u001b[0m \u001b[0;32mFalse\u001b[0m\u001b[0;34m)\u001b[0m\u001b[0;34m:\u001b[0m\u001b[0;34m\u001b[0m\u001b[0;34m\u001b[0m\u001b[0m\n\u001b[0;32m--> 921\u001b[0;31m                     \u001b[0mself\u001b[0m\u001b[0;34m.\u001b[0m\u001b[0m_output\u001b[0m\u001b[0;34m.\u001b[0m\u001b[0mextend\u001b[0m\u001b[0;34m(\u001b[0m\u001b[0mjob\u001b[0m\u001b[0;34m.\u001b[0m\u001b[0mget\u001b[0m\u001b[0;34m(\u001b[0m\u001b[0mtimeout\u001b[0m\u001b[0;34m=\u001b[0m\u001b[0mself\u001b[0m\u001b[0;34m.\u001b[0m\u001b[0mtimeout\u001b[0m\u001b[0;34m)\u001b[0m\u001b[0;34m)\u001b[0m\u001b[0;34m\u001b[0m\u001b[0;34m\u001b[0m\u001b[0m\n\u001b[0m\u001b[1;32m    922\u001b[0m                 \u001b[0;32melse\u001b[0m\u001b[0;34m:\u001b[0m\u001b[0;34m\u001b[0m\u001b[0;34m\u001b[0m\u001b[0m\n\u001b[1;32m    923\u001b[0m                     \u001b[0mself\u001b[0m\u001b[0;34m.\u001b[0m\u001b[0m_output\u001b[0m\u001b[0;34m.\u001b[0m\u001b[0mextend\u001b[0m\u001b[0;34m(\u001b[0m\u001b[0mjob\u001b[0m\u001b[0;34m.\u001b[0m\u001b[0mget\u001b[0m\u001b[0;34m(\u001b[0m\u001b[0;34m)\u001b[0m\u001b[0;34m)\u001b[0m\u001b[0;34m\u001b[0m\u001b[0;34m\u001b[0m\u001b[0m\n",
      "\u001b[0;32m/work/.cache/poetry/thc-net-KQLMmzPP-py3.7/lib/python3.7/site-packages/joblib/_parallel_backends.py\u001b[0m in \u001b[0;36mwrap_future_result\u001b[0;34m(future, timeout)\u001b[0m\n\u001b[1;32m    538\u001b[0m         AsyncResults.get from multiprocessing.\"\"\"\n\u001b[1;32m    539\u001b[0m         \u001b[0;32mtry\u001b[0m\u001b[0;34m:\u001b[0m\u001b[0;34m\u001b[0m\u001b[0;34m\u001b[0m\u001b[0m\n\u001b[0;32m--> 540\u001b[0;31m             \u001b[0;32mreturn\u001b[0m \u001b[0mfuture\u001b[0m\u001b[0;34m.\u001b[0m\u001b[0mresult\u001b[0m\u001b[0;34m(\u001b[0m\u001b[0mtimeout\u001b[0m\u001b[0;34m=\u001b[0m\u001b[0mtimeout\u001b[0m\u001b[0;34m)\u001b[0m\u001b[0;34m\u001b[0m\u001b[0;34m\u001b[0m\u001b[0m\n\u001b[0m\u001b[1;32m    541\u001b[0m         \u001b[0;32mexcept\u001b[0m \u001b[0mCfTimeoutError\u001b[0m\u001b[0;34m:\u001b[0m\u001b[0;34m\u001b[0m\u001b[0;34m\u001b[0m\u001b[0m\n\u001b[1;32m    542\u001b[0m             \u001b[0;32mraise\u001b[0m \u001b[0mTimeoutError\u001b[0m\u001b[0;34m(\u001b[0m\u001b[0;34m)\u001b[0m\u001b[0;34m\u001b[0m\u001b[0;34m\u001b[0m\u001b[0m\n",
      "\u001b[0;32m/usr/local/lib/python3.7/concurrent/futures/_base.py\u001b[0m in \u001b[0;36mresult\u001b[0;34m(self, timeout)\u001b[0m\n\u001b[1;32m    428\u001b[0m                 \u001b[0;32mreturn\u001b[0m \u001b[0mself\u001b[0m\u001b[0;34m.\u001b[0m\u001b[0m__get_result\u001b[0m\u001b[0;34m(\u001b[0m\u001b[0;34m)\u001b[0m\u001b[0;34m\u001b[0m\u001b[0;34m\u001b[0m\u001b[0m\n\u001b[1;32m    429\u001b[0m \u001b[0;34m\u001b[0m\u001b[0m\n\u001b[0;32m--> 430\u001b[0;31m             \u001b[0mself\u001b[0m\u001b[0;34m.\u001b[0m\u001b[0m_condition\u001b[0m\u001b[0;34m.\u001b[0m\u001b[0mwait\u001b[0m\u001b[0;34m(\u001b[0m\u001b[0mtimeout\u001b[0m\u001b[0;34m)\u001b[0m\u001b[0;34m\u001b[0m\u001b[0;34m\u001b[0m\u001b[0m\n\u001b[0m\u001b[1;32m    431\u001b[0m \u001b[0;34m\u001b[0m\u001b[0m\n\u001b[1;32m    432\u001b[0m             \u001b[0;32mif\u001b[0m \u001b[0mself\u001b[0m\u001b[0;34m.\u001b[0m\u001b[0m_state\u001b[0m \u001b[0;32min\u001b[0m \u001b[0;34m[\u001b[0m\u001b[0mCANCELLED\u001b[0m\u001b[0;34m,\u001b[0m \u001b[0mCANCELLED_AND_NOTIFIED\u001b[0m\u001b[0;34m]\u001b[0m\u001b[0;34m:\u001b[0m\u001b[0;34m\u001b[0m\u001b[0;34m\u001b[0m\u001b[0m\n",
      "\u001b[0;32m/usr/local/lib/python3.7/threading.py\u001b[0m in \u001b[0;36mwait\u001b[0;34m(self, timeout)\u001b[0m\n\u001b[1;32m    294\u001b[0m         \u001b[0;32mtry\u001b[0m\u001b[0;34m:\u001b[0m    \u001b[0;31m# restore state no matter what (e.g., KeyboardInterrupt)\u001b[0m\u001b[0;34m\u001b[0m\u001b[0;34m\u001b[0m\u001b[0m\n\u001b[1;32m    295\u001b[0m             \u001b[0;32mif\u001b[0m \u001b[0mtimeout\u001b[0m \u001b[0;32mis\u001b[0m \u001b[0;32mNone\u001b[0m\u001b[0;34m:\u001b[0m\u001b[0;34m\u001b[0m\u001b[0;34m\u001b[0m\u001b[0m\n\u001b[0;32m--> 296\u001b[0;31m                 \u001b[0mwaiter\u001b[0m\u001b[0;34m.\u001b[0m\u001b[0macquire\u001b[0m\u001b[0;34m(\u001b[0m\u001b[0;34m)\u001b[0m\u001b[0;34m\u001b[0m\u001b[0;34m\u001b[0m\u001b[0m\n\u001b[0m\u001b[1;32m    297\u001b[0m                 \u001b[0mgotit\u001b[0m \u001b[0;34m=\u001b[0m \u001b[0;32mTrue\u001b[0m\u001b[0;34m\u001b[0m\u001b[0;34m\u001b[0m\u001b[0m\n\u001b[1;32m    298\u001b[0m             \u001b[0;32melse\u001b[0m\u001b[0;34m:\u001b[0m\u001b[0;34m\u001b[0m\u001b[0;34m\u001b[0m\u001b[0m\n",
      "\u001b[0;31mKeyboardInterrupt\u001b[0m: "
     ]
    },
    {
     "data": {
      "application/javascript": [
       "\n",
       "            setTimeout(function() {\n",
       "                var nbb_cell_id = 142;\n",
       "                var nbb_unformatted_code = \"lreg_cv.fit(new_train_logistic, y_train.reshape(-1))\";\n",
       "                var nbb_formatted_code = \"lreg_cv.fit(new_train_logistic, y_train.reshape(-1))\";\n",
       "                var nbb_cells = Jupyter.notebook.get_cells();\n",
       "                for (var i = 0; i < nbb_cells.length; ++i) {\n",
       "                    if (nbb_cells[i].input_prompt_number == nbb_cell_id) {\n",
       "                        if (nbb_cells[i].get_text() == nbb_unformatted_code) {\n",
       "                             nbb_cells[i].set_text(nbb_formatted_code);\n",
       "                        }\n",
       "                        break;\n",
       "                    }\n",
       "                }\n",
       "            }, 500);\n",
       "            "
      ],
      "text/plain": [
       "<IPython.core.display.Javascript object>"
      ]
     },
     "metadata": {},
     "output_type": "display_data"
    }
   ],
   "source": [
    "lreg_cv.fit(new_train_logistic, y_train.reshape(-1))"
   ]
  },
  {
   "cell_type": "code",
   "execution_count": null,
   "metadata": {},
   "outputs": [],
   "source": [
    "roc_auc_score(\n",
    "    y_true=y_valid, y_score=lreg_cv.predict_proba(new_valid_logistic)[:, 1],\n",
    ")"
   ]
  },
  {
   "cell_type": "code",
   "execution_count": null,
   "metadata": {},
   "outputs": [],
   "source": [
    "roc_auc_score(\n",
    "    y_true=y_test, y_score=lreg_cv.predict_proba(new_test_logistic)[:, 1],\n",
    ")"
   ]
  },
  {
   "cell_type": "code",
   "execution_count": null,
   "metadata": {},
   "outputs": [],
   "source": []
  }
 ],
 "metadata": {
  "kernelspec": {
   "display_name": "Python 3",
   "language": "python",
   "name": "python3"
  },
  "language_info": {
   "codemirror_mode": {
    "name": "ipython",
    "version": 3
   },
   "file_extension": ".py",
   "mimetype": "text/x-python",
   "name": "python",
   "nbconvert_exporter": "python",
   "pygments_lexer": "ipython3",
   "version": "3.7.7"
  }
 },
 "nbformat": 4,
 "nbformat_minor": 4
}
