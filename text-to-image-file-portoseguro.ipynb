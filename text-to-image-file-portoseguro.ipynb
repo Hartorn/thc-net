{
 "cells": [
  {
   "cell_type": "code",
   "execution_count": 1,
   "metadata": {
    "ExecuteTime": {
     "end_time": "2020-04-17T21:51:58.169270Z",
     "start_time": "2020-04-17T21:51:58.030906Z"
    }
   },
   "outputs": [
    {
     "data": {
      "application/javascript": [
       "\n",
       "            setTimeout(function() {\n",
       "                var nbb_cell_id = 1;\n",
       "                var nbb_unformatted_code = \"%load_ext nb_black\";\n",
       "                var nbb_formatted_code = \"%load_ext nb_black\";\n",
       "                var nbb_cells = Jupyter.notebook.get_cells();\n",
       "                for (var i = 0; i < nbb_cells.length; ++i) {\n",
       "                    if (nbb_cells[i].input_prompt_number == nbb_cell_id) {\n",
       "                        if (nbb_cells[i].get_text() == nbb_unformatted_code) {\n",
       "                             nbb_cells[i].set_text(nbb_formatted_code);\n",
       "                        }\n",
       "                        break;\n",
       "                    }\n",
       "                }\n",
       "            }, 500);\n",
       "            "
      ],
      "text/plain": [
       "<IPython.core.display.Javascript object>"
      ]
     },
     "metadata": {},
     "output_type": "display_data"
    }
   ],
   "source": [
    "%load_ext nb_black"
   ]
  },
  {
   "cell_type": "markdown",
   "metadata": {
    "ExecuteTime": {
     "end_time": "2020-04-17T13:04:39.963383Z",
     "start_time": "2020-04-17T13:04:39.955914Z"
    },
    "heading_collapsed": true
   },
   "source": [
    "## Import + utilities"
   ]
  },
  {
   "cell_type": "code",
   "execution_count": 2,
   "metadata": {
    "ExecuteTime": {
     "end_time": "2020-04-17T21:52:00.196479Z",
     "start_time": "2020-04-17T21:51:58.171003Z"
    },
    "hidden": true
   },
   "outputs": [
    {
     "data": {
      "application/javascript": [
       "\n",
       "            setTimeout(function() {\n",
       "                var nbb_cell_id = 2;\n",
       "                var nbb_unformatted_code = \"import os\\nfrom requests import get\\nfrom pathlib import Path\\nimport shutil\\nimport gc\\nimport tensorflow as tf\\nfrom concurrent.futures import ProcessPoolExecutor as PoolExecutor\\n\\nfrom tensorflow.keras.callbacks import EarlyStopping\\nfrom tensorflow_addons.optimizers import RectifiedAdam, Lookahead\\nfrom tensorflow_addons.activations import mish\\nfrom tensorflow.keras.utils import to_categorical\\nfrom concurrent.futures import ProcessPoolExecutor as PoolExecutor\\n\\nimport pandas as pd\\nimport numpy as np\\nfrom sklearn.metrics import roc_auc_score\\n\\nnp.random.seed(0)\\n\\nfrom PIL import Image, ImageDraw, ImageFont\\nfrom matplotlib.pyplot import imshow\\nimport matplotlib.pyplot as plt\\n\\n%matplotlib inline\";\n",
       "                var nbb_formatted_code = \"import os\\nfrom requests import get\\nfrom pathlib import Path\\nimport shutil\\nimport gc\\nimport tensorflow as tf\\nfrom concurrent.futures import ProcessPoolExecutor as PoolExecutor\\n\\nfrom tensorflow.keras.callbacks import EarlyStopping\\nfrom tensorflow_addons.optimizers import RectifiedAdam, Lookahead\\nfrom tensorflow_addons.activations import mish\\nfrom tensorflow.keras.utils import to_categorical\\nfrom concurrent.futures import ProcessPoolExecutor as PoolExecutor\\n\\nimport pandas as pd\\nimport numpy as np\\nfrom sklearn.metrics import roc_auc_score\\n\\nnp.random.seed(0)\\n\\nfrom PIL import Image, ImageDraw, ImageFont\\nfrom matplotlib.pyplot import imshow\\nimport matplotlib.pyplot as plt\\n\\n%matplotlib inline\";\n",
       "                var nbb_cells = Jupyter.notebook.get_cells();\n",
       "                for (var i = 0; i < nbb_cells.length; ++i) {\n",
       "                    if (nbb_cells[i].input_prompt_number == nbb_cell_id) {\n",
       "                        if (nbb_cells[i].get_text() == nbb_unformatted_code) {\n",
       "                             nbb_cells[i].set_text(nbb_formatted_code);\n",
       "                        }\n",
       "                        break;\n",
       "                    }\n",
       "                }\n",
       "            }, 500);\n",
       "            "
      ],
      "text/plain": [
       "<IPython.core.display.Javascript object>"
      ]
     },
     "metadata": {},
     "output_type": "display_data"
    }
   ],
   "source": [
    "import os\n",
    "from requests import get\n",
    "from pathlib import Path\n",
    "import shutil\n",
    "import gc\n",
    "import tensorflow as tf\n",
    "from concurrent.futures import ProcessPoolExecutor as PoolExecutor\n",
    "\n",
    "from tensorflow.keras.callbacks import EarlyStopping\n",
    "from tensorflow_addons.optimizers import RectifiedAdam, Lookahead\n",
    "from tensorflow_addons.activations import mish\n",
    "from tensorflow.keras.utils import to_categorical\n",
    "from concurrent.futures import ProcessPoolExecutor as PoolExecutor\n",
    "\n",
    "import pandas as pd\n",
    "import numpy as np\n",
    "from sklearn.metrics import roc_auc_score\n",
    "\n",
    "np.random.seed(0)\n",
    "\n",
    "from PIL import Image, ImageDraw, ImageFont\n",
    "from matplotlib.pyplot import imshow\n",
    "import matplotlib.pyplot as plt\n",
    "\n",
    "%matplotlib inline"
   ]
  },
  {
   "cell_type": "code",
   "execution_count": 3,
   "metadata": {
    "ExecuteTime": {
     "end_time": "2020-04-17T21:52:00.220930Z",
     "start_time": "2020-04-17T21:52:00.198763Z"
    },
    "hidden": true
   },
   "outputs": [
    {
     "data": {
      "application/javascript": [
       "\n",
       "            setTimeout(function() {\n",
       "                var nbb_cell_id = 3;\n",
       "                var nbb_unformatted_code = \"def download(url, out, force=False, verify=True):\\n    out.parent.mkdir(parents=True, exist_ok=True)\\n    if force:\\n        print(f\\\"Removing file at {str(out)}\\\")\\n        out.unlink()\\n\\n    if out.exists():\\n        print(\\\"File already exists.\\\")\\n        return\\n    print(f\\\"Downloading {url} at {str(out)} ...\\\")\\n    # open in binary mode\\n    with out.open(mode=\\\"wb\\\") as file:\\n        # get request\\n        response = get(url, verify=verify)\\n        for chunk in response.iter_content(100000):\\n            # write to file\\n            file.write(chunk)\";\n",
       "                var nbb_formatted_code = \"def download(url, out, force=False, verify=True):\\n    out.parent.mkdir(parents=True, exist_ok=True)\\n    if force:\\n        print(f\\\"Removing file at {str(out)}\\\")\\n        out.unlink()\\n\\n    if out.exists():\\n        print(\\\"File already exists.\\\")\\n        return\\n    print(f\\\"Downloading {url} at {str(out)} ...\\\")\\n    # open in binary mode\\n    with out.open(mode=\\\"wb\\\") as file:\\n        # get request\\n        response = get(url, verify=verify)\\n        for chunk in response.iter_content(100000):\\n            # write to file\\n            file.write(chunk)\";\n",
       "                var nbb_cells = Jupyter.notebook.get_cells();\n",
       "                for (var i = 0; i < nbb_cells.length; ++i) {\n",
       "                    if (nbb_cells[i].input_prompt_number == nbb_cell_id) {\n",
       "                        if (nbb_cells[i].get_text() == nbb_unformatted_code) {\n",
       "                             nbb_cells[i].set_text(nbb_formatted_code);\n",
       "                        }\n",
       "                        break;\n",
       "                    }\n",
       "                }\n",
       "            }, 500);\n",
       "            "
      ],
      "text/plain": [
       "<IPython.core.display.Javascript object>"
      ]
     },
     "metadata": {},
     "output_type": "display_data"
    }
   ],
   "source": [
    "def download(url, out, force=False, verify=True):\n",
    "    out.parent.mkdir(parents=True, exist_ok=True)\n",
    "    if force:\n",
    "        print(f\"Removing file at {str(out)}\")\n",
    "        out.unlink()\n",
    "\n",
    "    if out.exists():\n",
    "        print(\"File already exists.\")\n",
    "        return\n",
    "    print(f\"Downloading {url} at {str(out)} ...\")\n",
    "    # open in binary mode\n",
    "    with out.open(mode=\"wb\") as file:\n",
    "        # get request\n",
    "        response = get(url, verify=verify)\n",
    "        for chunk in response.iter_content(100000):\n",
    "            # write to file\n",
    "            file.write(chunk)"
   ]
  },
  {
   "cell_type": "code",
   "execution_count": 4,
   "metadata": {
    "ExecuteTime": {
     "end_time": "2020-04-17T21:52:00.300398Z",
     "start_time": "2020-04-17T21:52:00.223267Z"
    },
    "hidden": true
   },
   "outputs": [
    {
     "data": {
      "application/javascript": [
       "\n",
       "            setTimeout(function() {\n",
       "                var nbb_cell_id = 4;\n",
       "                var nbb_unformatted_code = \"def plot_metric(history, metric):\\n    # Plot training & validation loss values\\n    plt.plot(history.history[metric])\\n    plt.plot(history.history[f\\\"val_{metric}\\\"])\\n    plt.title(f\\\"Model {metric}\\\")\\n    plt.ylabel(f\\\"{metric}\\\")\\n    plt.xlabel(\\\"Epoch\\\")\\n    plt.legend([\\\"Train\\\", \\\"Test\\\"], loc=\\\"upper left\\\")\\n    plt.show()\";\n",
       "                var nbb_formatted_code = \"def plot_metric(history, metric):\\n    # Plot training & validation loss values\\n    plt.plot(history.history[metric])\\n    plt.plot(history.history[f\\\"val_{metric}\\\"])\\n    plt.title(f\\\"Model {metric}\\\")\\n    plt.ylabel(f\\\"{metric}\\\")\\n    plt.xlabel(\\\"Epoch\\\")\\n    plt.legend([\\\"Train\\\", \\\"Test\\\"], loc=\\\"upper left\\\")\\n    plt.show()\";\n",
       "                var nbb_cells = Jupyter.notebook.get_cells();\n",
       "                for (var i = 0; i < nbb_cells.length; ++i) {\n",
       "                    if (nbb_cells[i].input_prompt_number == nbb_cell_id) {\n",
       "                        if (nbb_cells[i].get_text() == nbb_unformatted_code) {\n",
       "                             nbb_cells[i].set_text(nbb_formatted_code);\n",
       "                        }\n",
       "                        break;\n",
       "                    }\n",
       "                }\n",
       "            }, 500);\n",
       "            "
      ],
      "text/plain": [
       "<IPython.core.display.Javascript object>"
      ]
     },
     "metadata": {},
     "output_type": "display_data"
    }
   ],
   "source": [
    "def plot_metric(history, metric):\n",
    "    # Plot training & validation loss values\n",
    "    plt.plot(history.history[metric])\n",
    "    plt.plot(history.history[f\"val_{metric}\"])\n",
    "    plt.title(f\"Model {metric}\")\n",
    "    plt.ylabel(f\"{metric}\")\n",
    "    plt.xlabel(\"Epoch\")\n",
    "    plt.legend([\"Train\", \"Test\"], loc=\"upper left\")\n",
    "    plt.show()"
   ]
  },
  {
   "cell_type": "code",
   "execution_count": 5,
   "metadata": {
    "ExecuteTime": {
     "end_time": "2020-04-17T21:52:00.311108Z",
     "start_time": "2020-04-17T21:52:00.302548Z"
    },
    "hidden": true
   },
   "outputs": [
    {
     "data": {
      "application/javascript": [
       "\n",
       "            setTimeout(function() {\n",
       "                var nbb_cell_id = 5;\n",
       "                var nbb_unformatted_code = \"# https://he-arc.github.io/livre-python/pillow/index.html#methodes-de-dessin\\n# https://stackoverflow.com/questions/26649716/how-to-show-pil-image-in-ipython-notebook\\n# https://stackoverflow.com/questions/384759/how-to-convert-a-pil-image-into-a-numpy-array\\n# line = np.array(pic, dtypes=\\\"uint8\\\")\\n# from https://arxiv.org/pdf/1902.02160.pdf page 2\";\n",
       "                var nbb_formatted_code = \"# https://he-arc.github.io/livre-python/pillow/index.html#methodes-de-dessin\\n# https://stackoverflow.com/questions/26649716/how-to-show-pil-image-in-ipython-notebook\\n# https://stackoverflow.com/questions/384759/how-to-convert-a-pil-image-into-a-numpy-array\\n# line = np.array(pic, dtypes=\\\"uint8\\\")\\n# from https://arxiv.org/pdf/1902.02160.pdf page 2\";\n",
       "                var nbb_cells = Jupyter.notebook.get_cells();\n",
       "                for (var i = 0; i < nbb_cells.length; ++i) {\n",
       "                    if (nbb_cells[i].input_prompt_number == nbb_cell_id) {\n",
       "                        if (nbb_cells[i].get_text() == nbb_unformatted_code) {\n",
       "                             nbb_cells[i].set_text(nbb_formatted_code);\n",
       "                        }\n",
       "                        break;\n",
       "                    }\n",
       "                }\n",
       "            }, 500);\n",
       "            "
      ],
      "text/plain": [
       "<IPython.core.display.Javascript object>"
      ]
     },
     "metadata": {},
     "output_type": "display_data"
    }
   ],
   "source": [
    "# https://he-arc.github.io/livre-python/pillow/index.html#methodes-de-dessin\n",
    "# https://stackoverflow.com/questions/26649716/how-to-show-pil-image-in-ipython-notebook\n",
    "# https://stackoverflow.com/questions/384759/how-to-convert-a-pil-image-into-a-numpy-array\n",
    "# line = np.array(pic, dtypes=\"uint8\")\n",
    "# from https://arxiv.org/pdf/1902.02160.pdf page 2"
   ]
  },
  {
   "cell_type": "code",
   "execution_count": 6,
   "metadata": {
    "ExecuteTime": {
     "end_time": "2020-04-17T21:52:00.357837Z",
     "start_time": "2020-04-17T21:52:00.313621Z"
    },
    "hidden": true
   },
   "outputs": [
    {
     "data": {
      "application/javascript": [
       "\n",
       "            setTimeout(function() {\n",
       "                var nbb_cell_id = 6;\n",
       "                var nbb_unformatted_code = \"def word_to_square_image(text, size, cut_length=None, one_channel=False):\\n\\n    truncated = text[:cut_length] if cut_length is not None else text\\n    max_x = np.ceil(np.sqrt(len(truncated))).astype(\\\"int\\\")\\n    character_size = np.floor(size / max_x).astype(\\\"int\\\")\\n    padding = np.floor((size - (max_x * character_size)) / 2).astype(\\\"int\\\")\\n    # Do we need pt to px conversion ? Seems like not\\n    # font_size =  int(np.floor(character_size*0.75))\\n    font_size = character_size\\n\\n    fnt = ImageFont.truetype(out_font.as_posix(), font_size)\\n\\n    # 1 (1-bit pixels, black and white, stored with one pixel per byte)\\n    # L (8-bit pixels, black and white)\\n    # RGB (3x8-bit pixels, true color)\\n    # https://pillow.readthedocs.io/en/stable/handbook/concepts.html#concept-modes\\n    mode = \\\"L\\\" if one_channel else \\\"RGB\\\"\\n    WHITE = 1 if one_channel else (255, 255, 255)\\n    BLACK = 0 if one_channel else (0, 0, 0)\\n\\n    image = Image.new(mode, (size, size), BLACK)\\n    # Obtention du contexte graphique\\n    draw = ImageDraw.Draw(image)\\n    x = 0\\n    y = 0\\n    for letter in text:\\n        draw.text(\\n            (padding + x * character_size, padding + y * character_size),\\n            letter,\\n            font=fnt,\\n            fill=WHITE,\\n        )\\n        if x + 1 < max_x:\\n            x += 1\\n        else:\\n            y += 1\\n            x = 0\\n    return np.array(image)\";\n",
       "                var nbb_formatted_code = \"def word_to_square_image(text, size, cut_length=None, one_channel=False):\\n\\n    truncated = text[:cut_length] if cut_length is not None else text\\n    max_x = np.ceil(np.sqrt(len(truncated))).astype(\\\"int\\\")\\n    character_size = np.floor(size / max_x).astype(\\\"int\\\")\\n    padding = np.floor((size - (max_x * character_size)) / 2).astype(\\\"int\\\")\\n    # Do we need pt to px conversion ? Seems like not\\n    # font_size =  int(np.floor(character_size*0.75))\\n    font_size = character_size\\n\\n    fnt = ImageFont.truetype(out_font.as_posix(), font_size)\\n\\n    # 1 (1-bit pixels, black and white, stored with one pixel per byte)\\n    # L (8-bit pixels, black and white)\\n    # RGB (3x8-bit pixels, true color)\\n    # https://pillow.readthedocs.io/en/stable/handbook/concepts.html#concept-modes\\n    mode = \\\"L\\\" if one_channel else \\\"RGB\\\"\\n    WHITE = 1 if one_channel else (255, 255, 255)\\n    BLACK = 0 if one_channel else (0, 0, 0)\\n\\n    image = Image.new(mode, (size, size), BLACK)\\n    # Obtention du contexte graphique\\n    draw = ImageDraw.Draw(image)\\n    x = 0\\n    y = 0\\n    for letter in text:\\n        draw.text(\\n            (padding + x * character_size, padding + y * character_size),\\n            letter,\\n            font=fnt,\\n            fill=WHITE,\\n        )\\n        if x + 1 < max_x:\\n            x += 1\\n        else:\\n            y += 1\\n            x = 0\\n    return np.array(image)\";\n",
       "                var nbb_cells = Jupyter.notebook.get_cells();\n",
       "                for (var i = 0; i < nbb_cells.length; ++i) {\n",
       "                    if (nbb_cells[i].input_prompt_number == nbb_cell_id) {\n",
       "                        if (nbb_cells[i].get_text() == nbb_unformatted_code) {\n",
       "                             nbb_cells[i].set_text(nbb_formatted_code);\n",
       "                        }\n",
       "                        break;\n",
       "                    }\n",
       "                }\n",
       "            }, 500);\n",
       "            "
      ],
      "text/plain": [
       "<IPython.core.display.Javascript object>"
      ]
     },
     "metadata": {},
     "output_type": "display_data"
    }
   ],
   "source": [
    "def word_to_square_image(text, size, cut_length=None, one_channel=False):\n",
    "\n",
    "    truncated = text[:cut_length] if cut_length is not None else text\n",
    "    max_x = np.ceil(np.sqrt(len(truncated))).astype(\"int\")\n",
    "    character_size = np.floor(size / max_x).astype(\"int\")\n",
    "    padding = np.floor((size - (max_x * character_size)) / 2).astype(\"int\")\n",
    "    # Do we need pt to px conversion ? Seems like not\n",
    "    # font_size =  int(np.floor(character_size*0.75))\n",
    "    font_size = character_size\n",
    "\n",
    "    fnt = ImageFont.truetype(out_font.as_posix(), font_size)\n",
    "\n",
    "    # 1 (1-bit pixels, black and white, stored with one pixel per byte)\n",
    "    # L (8-bit pixels, black and white)\n",
    "    # RGB (3x8-bit pixels, true color)\n",
    "    # https://pillow.readthedocs.io/en/stable/handbook/concepts.html#concept-modes\n",
    "    mode = \"L\" if one_channel else \"RGB\"\n",
    "    WHITE = 1 if one_channel else (255, 255, 255)\n",
    "    BLACK = 0 if one_channel else (0, 0, 0)\n",
    "\n",
    "    image = Image.new(mode, (size, size), BLACK)\n",
    "    # Obtention du contexte graphique\n",
    "    draw = ImageDraw.Draw(image)\n",
    "    x = 0\n",
    "    y = 0\n",
    "    for letter in text:\n",
    "        draw.text(\n",
    "            (padding + x * character_size, padding + y * character_size),\n",
    "            letter,\n",
    "            font=fnt,\n",
    "            fill=WHITE,\n",
    "        )\n",
    "        if x + 1 < max_x:\n",
    "            x += 1\n",
    "        else:\n",
    "            y += 1\n",
    "            x = 0\n",
    "    return np.array(image)"
   ]
  },
  {
   "cell_type": "code",
   "execution_count": 7,
   "metadata": {
    "ExecuteTime": {
     "end_time": "2020-04-17T21:52:00.449169Z",
     "start_time": "2020-04-17T21:52:00.360153Z"
    },
    "hidden": true
   },
   "outputs": [
    {
     "data": {
      "application/javascript": [
       "\n",
       "            setTimeout(function() {\n",
       "                var nbb_cell_id = 7;\n",
       "                var nbb_unformatted_code = \"def text_to_square_image(features, image_size=299, cut_length=None, one_channel=False):\\n    nb_channel = 1 if one_channel else 3\\n    square_nb = np.ceil(np.sqrt(len(features))).astype(\\\"int\\\")\\n    word_size = np.floor(image_size / square_nb).astype(\\\"int\\\")\\n    max_features = len(features)\\n    padding = np.floor((image_size - square_nb * word_size) / 2).astype(\\\"int\\\")\\n    if one_channel:\\n        result_image = np.zeros((image_size, image_size), dtype=\\\"uint8\\\")\\n    else:\\n        result_image = np.zeros((image_size, image_size, nb_channel), dtype=\\\"uint8\\\")\\n    results = []\\n    i_feature = 0\\n    features_str = features.astype(\\\"str\\\")\\n    for x in range(0, square_nb):\\n        if i_feature is None:\\n            break\\n        for y in range(0, square_nb):\\n            i_feature = x * (square_nb) + y\\n            if i_feature >= max_features:\\n                i_feature = None\\n                break\\n            x_pos = x * word_size + padding\\n            y_pos = y * word_size + padding\\n            result_image[\\n                x_pos : x_pos + word_size, y_pos : y_pos + word_size\\n            ] = word_to_square_image(\\n                features_str[i_feature],\\n                size=word_size,\\n                cut_length=cut_length,\\n                one_channel=one_channel,\\n            )\\n    return result_image\";\n",
       "                var nbb_formatted_code = \"def text_to_square_image(features, image_size=299, cut_length=None, one_channel=False):\\n    nb_channel = 1 if one_channel else 3\\n    square_nb = np.ceil(np.sqrt(len(features))).astype(\\\"int\\\")\\n    word_size = np.floor(image_size / square_nb).astype(\\\"int\\\")\\n    max_features = len(features)\\n    padding = np.floor((image_size - square_nb * word_size) / 2).astype(\\\"int\\\")\\n    if one_channel:\\n        result_image = np.zeros((image_size, image_size), dtype=\\\"uint8\\\")\\n    else:\\n        result_image = np.zeros((image_size, image_size, nb_channel), dtype=\\\"uint8\\\")\\n    results = []\\n    i_feature = 0\\n    features_str = features.astype(\\\"str\\\")\\n    for x in range(0, square_nb):\\n        if i_feature is None:\\n            break\\n        for y in range(0, square_nb):\\n            i_feature = x * (square_nb) + y\\n            if i_feature >= max_features:\\n                i_feature = None\\n                break\\n            x_pos = x * word_size + padding\\n            y_pos = y * word_size + padding\\n            result_image[\\n                x_pos : x_pos + word_size, y_pos : y_pos + word_size\\n            ] = word_to_square_image(\\n                features_str[i_feature],\\n                size=word_size,\\n                cut_length=cut_length,\\n                one_channel=one_channel,\\n            )\\n    return result_image\";\n",
       "                var nbb_cells = Jupyter.notebook.get_cells();\n",
       "                for (var i = 0; i < nbb_cells.length; ++i) {\n",
       "                    if (nbb_cells[i].input_prompt_number == nbb_cell_id) {\n",
       "                        if (nbb_cells[i].get_text() == nbb_unformatted_code) {\n",
       "                             nbb_cells[i].set_text(nbb_formatted_code);\n",
       "                        }\n",
       "                        break;\n",
       "                    }\n",
       "                }\n",
       "            }, 500);\n",
       "            "
      ],
      "text/plain": [
       "<IPython.core.display.Javascript object>"
      ]
     },
     "metadata": {},
     "output_type": "display_data"
    }
   ],
   "source": [
    "def text_to_square_image(features, image_size=299, cut_length=None, one_channel=False):\n",
    "    nb_channel = 1 if one_channel else 3\n",
    "    square_nb = np.ceil(np.sqrt(len(features))).astype(\"int\")\n",
    "    word_size = np.floor(image_size / square_nb).astype(\"int\")\n",
    "    max_features = len(features)\n",
    "    padding = np.floor((image_size - square_nb * word_size) / 2).astype(\"int\")\n",
    "    if one_channel:\n",
    "        result_image = np.zeros((image_size, image_size), dtype=\"uint8\")\n",
    "    else:\n",
    "        result_image = np.zeros((image_size, image_size, nb_channel), dtype=\"uint8\")\n",
    "    results = []\n",
    "    i_feature = 0\n",
    "    features_str = features.astype(\"str\")\n",
    "    for x in range(0, square_nb):\n",
    "        if i_feature is None:\n",
    "            break\n",
    "        for y in range(0, square_nb):\n",
    "            i_feature = x * (square_nb) + y\n",
    "            if i_feature >= max_features:\n",
    "                i_feature = None\n",
    "                break\n",
    "            x_pos = x * word_size + padding\n",
    "            y_pos = y * word_size + padding\n",
    "            result_image[\n",
    "                x_pos : x_pos + word_size, y_pos : y_pos + word_size\n",
    "            ] = word_to_square_image(\n",
    "                features_str[i_feature],\n",
    "                size=word_size,\n",
    "                cut_length=cut_length,\n",
    "                one_channel=one_channel,\n",
    "            )\n",
    "    return result_image"
   ]
  },
  {
   "cell_type": "code",
   "execution_count": 8,
   "metadata": {
    "ExecuteTime": {
     "end_time": "2020-04-17T21:52:00.523717Z",
     "start_time": "2020-04-17T21:52:00.453429Z"
    },
    "hidden": true
   },
   "outputs": [
    {
     "data": {
      "application/javascript": [
       "\n",
       "            setTimeout(function() {\n",
       "                var nbb_cell_id = 8;\n",
       "                var nbb_unformatted_code = \"def preprocess_data(data, map_func, image_size, one_channel=False):\\n    nb_channel = 1 if one_channel else 3\\n\\n    print(f\\\"Input shape is {data.shape}\\\")\\n    print(\\n        f\\\"Output data is estimated to {(data.shape[0] * image_size * image_size * nb_channel)/ (1024 * 1024)} Mo in RAM\\\"\\n    )  # Memory size in RAM\\n    preprocessed_df = None\\n    with PoolExecutor() as executor:\\n        preprocessed_df = np.stack(list(executor.map(map_func, data)), axis=0)\\n    print(f\\\"Output shape is {preprocessed_df.shape}\\\")\\n    gc.collect()\\n    return preprocessed_df\";\n",
       "                var nbb_formatted_code = \"def preprocess_data(data, map_func, image_size, one_channel=False):\\n    nb_channel = 1 if one_channel else 3\\n\\n    print(f\\\"Input shape is {data.shape}\\\")\\n    print(\\n        f\\\"Output data is estimated to {(data.shape[0] * image_size * image_size * nb_channel)/ (1024 * 1024)} Mo in RAM\\\"\\n    )  # Memory size in RAM\\n    preprocessed_df = None\\n    with PoolExecutor() as executor:\\n        preprocessed_df = np.stack(list(executor.map(map_func, data)), axis=0)\\n    print(f\\\"Output shape is {preprocessed_df.shape}\\\")\\n    gc.collect()\\n    return preprocessed_df\";\n",
       "                var nbb_cells = Jupyter.notebook.get_cells();\n",
       "                for (var i = 0; i < nbb_cells.length; ++i) {\n",
       "                    if (nbb_cells[i].input_prompt_number == nbb_cell_id) {\n",
       "                        if (nbb_cells[i].get_text() == nbb_unformatted_code) {\n",
       "                             nbb_cells[i].set_text(nbb_formatted_code);\n",
       "                        }\n",
       "                        break;\n",
       "                    }\n",
       "                }\n",
       "            }, 500);\n",
       "            "
      ],
      "text/plain": [
       "<IPython.core.display.Javascript object>"
      ]
     },
     "metadata": {},
     "output_type": "display_data"
    }
   ],
   "source": [
    "def preprocess_data(data, map_func, image_size, one_channel=False):\n",
    "    nb_channel = 1 if one_channel else 3\n",
    "\n",
    "    print(f\"Input shape is {data.shape}\")\n",
    "    print(\n",
    "        f\"Output data is estimated to {(data.shape[0] * image_size * image_size * nb_channel)/ (1024 * 1024)} Mo in RAM\"\n",
    "    )  # Memory size in RAM\n",
    "    preprocessed_df = None\n",
    "    with PoolExecutor() as executor:\n",
    "        preprocessed_df = np.stack(list(executor.map(map_func, data)), axis=0)\n",
    "    print(f\"Output shape is {preprocessed_df.shape}\")\n",
    "    gc.collect()\n",
    "    return preprocessed_df"
   ]
  },
  {
   "cell_type": "code",
   "execution_count": 9,
   "metadata": {
    "ExecuteTime": {
     "end_time": "2020-04-17T21:52:00.595542Z",
     "start_time": "2020-04-17T21:52:00.525871Z"
    },
    "hidden": true
   },
   "outputs": [
    {
     "data": {
      "application/javascript": [
       "\n",
       "            setTimeout(function() {\n",
       "                var nbb_cell_id = 9;\n",
       "                var nbb_unformatted_code = \"def build_in_memory_dataset(X, Y, batch_size, prefetch, is_categorical=True):\\n    target = to_categorical(Y) if is_categorical else Y\\n    dataset = tf.data.Dataset.from_tensor_slices((X, target))\\n\\n    return dataset.repeat().batch(batch_size).prefetch(prefetch)\";\n",
       "                var nbb_formatted_code = \"def build_in_memory_dataset(X, Y, batch_size, prefetch, is_categorical=True):\\n    target = to_categorical(Y) if is_categorical else Y\\n    dataset = tf.data.Dataset.from_tensor_slices((X, target))\\n\\n    return dataset.repeat().batch(batch_size).prefetch(prefetch)\";\n",
       "                var nbb_cells = Jupyter.notebook.get_cells();\n",
       "                for (var i = 0; i < nbb_cells.length; ++i) {\n",
       "                    if (nbb_cells[i].input_prompt_number == nbb_cell_id) {\n",
       "                        if (nbb_cells[i].get_text() == nbb_unformatted_code) {\n",
       "                             nbb_cells[i].set_text(nbb_formatted_code);\n",
       "                        }\n",
       "                        break;\n",
       "                    }\n",
       "                }\n",
       "            }, 500);\n",
       "            "
      ],
      "text/plain": [
       "<IPython.core.display.Javascript object>"
      ]
     },
     "metadata": {},
     "output_type": "display_data"
    }
   ],
   "source": [
    "def build_in_memory_dataset(X, Y, batch_size, prefetch, is_categorical=True):\n",
    "    target = to_categorical(Y) if is_categorical else Y\n",
    "    dataset = tf.data.Dataset.from_tensor_slices((X, target))\n",
    "\n",
    "    return dataset.repeat().batch(batch_size).prefetch(prefetch)"
   ]
  },
  {
   "cell_type": "code",
   "execution_count": 10,
   "metadata": {
    "ExecuteTime": {
     "end_time": "2020-04-17T21:52:00.620755Z",
     "start_time": "2020-04-17T21:52:00.597301Z"
    },
    "hidden": true
   },
   "outputs": [
    {
     "data": {
      "application/javascript": [
       "\n",
       "            setTimeout(function() {\n",
       "                var nbb_cell_id = 10;\n",
       "                var nbb_unformatted_code = \"def save_numpy_as_image(arr, name):\\n    im = Image.fromarray(arr, mode=\\\"RGB\\\")\\n    im.save(f\\\"{name}.jpeg\\\")\";\n",
       "                var nbb_formatted_code = \"def save_numpy_as_image(arr, name):\\n    im = Image.fromarray(arr, mode=\\\"RGB\\\")\\n    im.save(f\\\"{name}.jpeg\\\")\";\n",
       "                var nbb_cells = Jupyter.notebook.get_cells();\n",
       "                for (var i = 0; i < nbb_cells.length; ++i) {\n",
       "                    if (nbb_cells[i].input_prompt_number == nbb_cell_id) {\n",
       "                        if (nbb_cells[i].get_text() == nbb_unformatted_code) {\n",
       "                             nbb_cells[i].set_text(nbb_formatted_code);\n",
       "                        }\n",
       "                        break;\n",
       "                    }\n",
       "                }\n",
       "            }, 500);\n",
       "            "
      ],
      "text/plain": [
       "<IPython.core.display.Javascript object>"
      ]
     },
     "metadata": {},
     "output_type": "display_data"
    }
   ],
   "source": [
    "def save_numpy_as_image(arr, name):\n",
    "    im = Image.fromarray(arr, mode=\"RGB\")\n",
    "    im.save(f\"{name}.jpeg\")"
   ]
  },
  {
   "cell_type": "markdown",
   "metadata": {},
   "source": [
    "## Download portoseguro"
   ]
  },
  {
   "cell_type": "code",
   "execution_count": 11,
   "metadata": {
    "ExecuteTime": {
     "end_time": "2020-04-17T21:52:00.657571Z",
     "start_time": "2020-04-17T21:52:00.622943Z"
    },
    "scrolled": true
   },
   "outputs": [
    {
     "name": "stdout",
     "output_type": "stream",
     "text": [
      "File already exists.\n"
     ]
    },
    {
     "data": {
      "application/javascript": [
       "\n",
       "            setTimeout(function() {\n",
       "                var nbb_cell_id = 11;\n",
       "                var nbb_unformatted_code = \"# url = \\\"https://archive.ics.uci.edu/ml/machine-learning-databases/adult/adult.data\\\"\\n# url_test = \\\"https://archive.ics.uci.edu/ml/machine-learning-databases/adult/adult.test\\\"\\nfont_url = \\\"https://ff.static.1001fonts.net/r/o/roboto-condensed.regular.ttf\\\"\\n\\ndataset_name = \\\"portoseguro\\\"\\nout = Path(os.getcwd()) / f\\\"data/{dataset_name}/train_bench.csv\\\"\\n# out_test = Path(os.getcwd()) / f\\\"data/{dataset_name}_test.csv\\\"\\nout_font = Path(os.getcwd()) / f\\\"RobotoCondensed-Regular.ttf\\\"\\n\\n# download(url, out)\\n# download(url_test, out_test)\\ndownload(font_url, out_font)\";\n",
       "                var nbb_formatted_code = \"# url = \\\"https://archive.ics.uci.edu/ml/machine-learning-databases/adult/adult.data\\\"\\n# url_test = \\\"https://archive.ics.uci.edu/ml/machine-learning-databases/adult/adult.test\\\"\\nfont_url = \\\"https://ff.static.1001fonts.net/r/o/roboto-condensed.regular.ttf\\\"\\n\\ndataset_name = \\\"portoseguro\\\"\\nout = Path(os.getcwd()) / f\\\"data/{dataset_name}/train_bench.csv\\\"\\n# out_test = Path(os.getcwd()) / f\\\"data/{dataset_name}_test.csv\\\"\\nout_font = Path(os.getcwd()) / f\\\"RobotoCondensed-Regular.ttf\\\"\\n\\n# download(url, out)\\n# download(url_test, out_test)\\ndownload(font_url, out_font)\";\n",
       "                var nbb_cells = Jupyter.notebook.get_cells();\n",
       "                for (var i = 0; i < nbb_cells.length; ++i) {\n",
       "                    if (nbb_cells[i].input_prompt_number == nbb_cell_id) {\n",
       "                        if (nbb_cells[i].get_text() == nbb_unformatted_code) {\n",
       "                             nbb_cells[i].set_text(nbb_formatted_code);\n",
       "                        }\n",
       "                        break;\n",
       "                    }\n",
       "                }\n",
       "            }, 500);\n",
       "            "
      ],
      "text/plain": [
       "<IPython.core.display.Javascript object>"
      ]
     },
     "metadata": {},
     "output_type": "display_data"
    }
   ],
   "source": [
    "# url = \"https://archive.ics.uci.edu/ml/machine-learning-databases/adult/adult.data\"\n",
    "# url_test = \"https://archive.ics.uci.edu/ml/machine-learning-databases/adult/adult.test\"\n",
    "font_url = \"https://ff.static.1001fonts.net/r/o/roboto-condensed.regular.ttf\"\n",
    "\n",
    "dataset_name = \"portoseguro\"\n",
    "out = Path(os.getcwd()) / f\"data/{dataset_name}/train_bench.csv\"\n",
    "# out_test = Path(os.getcwd()) / f\"data/{dataset_name}_test.csv\"\n",
    "out_font = Path(os.getcwd()) / f\"RobotoCondensed-Regular.ttf\"\n",
    "\n",
    "# download(url, out)\n",
    "# download(url_test, out_test)\n",
    "download(font_url, out_font)"
   ]
  },
  {
   "cell_type": "markdown",
   "metadata": {},
   "source": [
    "## Load portoseguro as a dataframe"
   ]
  },
  {
   "cell_type": "code",
   "execution_count": 12,
   "metadata": {
    "ExecuteTime": {
     "end_time": "2020-04-17T21:52:05.478870Z",
     "start_time": "2020-04-17T21:52:00.659619Z"
    }
   },
   "outputs": [
    {
     "name": "stdout",
     "output_type": "stream",
     "text": [
      "(595212, 60)\n"
     ]
    },
    {
     "data": {
      "application/javascript": [
       "\n",
       "            setTimeout(function() {\n",
       "                var nbb_cell_id = 12;\n",
       "                var nbb_unformatted_code = \"target = \\\"target\\\"\\ntrain = pd.read_csv(out, low_memory=False)\\nprint(train.shape)\";\n",
       "                var nbb_formatted_code = \"target = \\\"target\\\"\\ntrain = pd.read_csv(out, low_memory=False)\\nprint(train.shape)\";\n",
       "                var nbb_cells = Jupyter.notebook.get_cells();\n",
       "                for (var i = 0; i < nbb_cells.length; ++i) {\n",
       "                    if (nbb_cells[i].input_prompt_number == nbb_cell_id) {\n",
       "                        if (nbb_cells[i].get_text() == nbb_unformatted_code) {\n",
       "                             nbb_cells[i].set_text(nbb_formatted_code);\n",
       "                        }\n",
       "                        break;\n",
       "                    }\n",
       "                }\n",
       "            }, 500);\n",
       "            "
      ],
      "text/plain": [
       "<IPython.core.display.Javascript object>"
      ]
     },
     "metadata": {},
     "output_type": "display_data"
    }
   ],
   "source": [
    "target = \"target\"\n",
    "train = pd.read_csv(out, low_memory=False)\n",
    "print(train.shape)"
   ]
  },
  {
   "cell_type": "markdown",
   "metadata": {},
   "source": [
    "## Prepare split"
   ]
  },
  {
   "cell_type": "code",
   "execution_count": 13,
   "metadata": {
    "ExecuteTime": {
     "end_time": "2020-04-17T21:52:05.704317Z",
     "start_time": "2020-04-17T21:52:05.480371Z"
    }
   },
   "outputs": [
    {
     "data": {
      "application/javascript": [
       "\n",
       "            setTimeout(function() {\n",
       "                var nbb_cell_id = 13;\n",
       "                var nbb_unformatted_code = \"train_indices = train[train.Set == \\\"train\\\"].index.values\\nnp.random.shuffle(train_indices)\\nvalid_indices = train[train.Set == \\\"valid\\\"].index.values\\ntest_indices = train[train.Set == \\\"test\\\"].index.values\";\n",
       "                var nbb_formatted_code = \"train_indices = train[train.Set == \\\"train\\\"].index.values\\nnp.random.shuffle(train_indices)\\nvalid_indices = train[train.Set == \\\"valid\\\"].index.values\\ntest_indices = train[train.Set == \\\"test\\\"].index.values\";\n",
       "                var nbb_cells = Jupyter.notebook.get_cells();\n",
       "                for (var i = 0; i < nbb_cells.length; ++i) {\n",
       "                    if (nbb_cells[i].input_prompt_number == nbb_cell_id) {\n",
       "                        if (nbb_cells[i].get_text() == nbb_unformatted_code) {\n",
       "                             nbb_cells[i].set_text(nbb_formatted_code);\n",
       "                        }\n",
       "                        break;\n",
       "                    }\n",
       "                }\n",
       "            }, 500);\n",
       "            "
      ],
      "text/plain": [
       "<IPython.core.display.Javascript object>"
      ]
     },
     "metadata": {},
     "output_type": "display_data"
    }
   ],
   "source": [
    "train_indices = train[train.Set == \"train\"].index.values\n",
    "np.random.shuffle(train_indices)\n",
    "valid_indices = train[train.Set == \"valid\"].index.values\n",
    "test_indices = train[train.Set == \"test\"].index.values"
   ]
  },
  {
   "cell_type": "markdown",
   "metadata": {},
   "source": [
    "## Encode target"
   ]
  },
  {
   "cell_type": "code",
   "execution_count": 14,
   "metadata": {
    "ExecuteTime": {
     "end_time": "2020-04-17T21:52:05.956440Z",
     "start_time": "2020-04-17T21:52:05.705903Z"
    }
   },
   "outputs": [
    {
     "name": "stdout",
     "output_type": "stream",
     "text": [
      "(595212, 1)\n",
      "(595212, 58)\n"
     ]
    },
    {
     "data": {
      "text/plain": [
       "561"
      ]
     },
     "execution_count": 14,
     "metadata": {},
     "output_type": "execute_result"
    },
    {
     "data": {
      "application/javascript": [
       "\n",
       "            setTimeout(function() {\n",
       "                var nbb_cell_id = 14;\n",
       "                var nbb_unformatted_code = \"from sklearn import preprocessing\\n\\n# label_encoder object knows how to understand word labels.\\nlabel_encoder = preprocessing.LabelEncoder()\\n\\n# Encode labels in column 'species'.\\nY = (\\n    label_encoder.fit_transform(train[[target]].values.reshape(-1))\\n    .reshape(-1, 1)\\n    .astype(\\\"uint8\\\")\\n)\\n# Y = train[[target]].values.reshape(-1, 1)\\n# CLASSNAMES = np.unique(Y)\\nprint(Y.shape)\\n\\nX = train.drop(columns=[target, \\\"Set\\\"]).values\\nprint(X.shape)\\n\\ndel train\\ngc.collect()\";\n",
       "                var nbb_formatted_code = \"from sklearn import preprocessing\\n\\n# label_encoder object knows how to understand word labels.\\nlabel_encoder = preprocessing.LabelEncoder()\\n\\n# Encode labels in column 'species'.\\nY = (\\n    label_encoder.fit_transform(train[[target]].values.reshape(-1))\\n    .reshape(-1, 1)\\n    .astype(\\\"uint8\\\")\\n)\\n# Y = train[[target]].values.reshape(-1, 1)\\n# CLASSNAMES = np.unique(Y)\\nprint(Y.shape)\\n\\nX = train.drop(columns=[target, \\\"Set\\\"]).values\\nprint(X.shape)\\n\\ndel train\\ngc.collect()\";\n",
       "                var nbb_cells = Jupyter.notebook.get_cells();\n",
       "                for (var i = 0; i < nbb_cells.length; ++i) {\n",
       "                    if (nbb_cells[i].input_prompt_number == nbb_cell_id) {\n",
       "                        if (nbb_cells[i].get_text() == nbb_unformatted_code) {\n",
       "                             nbb_cells[i].set_text(nbb_formatted_code);\n",
       "                        }\n",
       "                        break;\n",
       "                    }\n",
       "                }\n",
       "            }, 500);\n",
       "            "
      ],
      "text/plain": [
       "<IPython.core.display.Javascript object>"
      ]
     },
     "metadata": {},
     "output_type": "display_data"
    }
   ],
   "source": [
    "from sklearn import preprocessing\n",
    "\n",
    "# label_encoder object knows how to understand word labels.\n",
    "label_encoder = preprocessing.LabelEncoder()\n",
    "\n",
    "# Encode labels in column 'species'.\n",
    "Y = (\n",
    "    label_encoder.fit_transform(train[[target]].values.reshape(-1))\n",
    "    .reshape(-1, 1)\n",
    "    .astype(\"uint8\")\n",
    ")\n",
    "# Y = train[[target]].values.reshape(-1, 1)\n",
    "# CLASSNAMES = np.unique(Y)\n",
    "print(Y.shape)\n",
    "\n",
    "X = train.drop(columns=[target, \"Set\"]).values\n",
    "print(X.shape)\n",
    "\n",
    "del train\n",
    "gc.collect()"
   ]
  },
  {
   "cell_type": "code",
   "execution_count": 15,
   "metadata": {
    "ExecuteTime": {
     "end_time": "2020-04-17T21:52:05.963954Z",
     "start_time": "2020-04-17T21:52:05.957978Z"
    }
   },
   "outputs": [
    {
     "data": {
      "application/javascript": [
       "\n",
       "            setTimeout(function() {\n",
       "                var nbb_cell_id = 15;\n",
       "                var nbb_unformatted_code = \"# CLASSNAMES\";\n",
       "                var nbb_formatted_code = \"# CLASSNAMES\";\n",
       "                var nbb_cells = Jupyter.notebook.get_cells();\n",
       "                for (var i = 0; i < nbb_cells.length; ++i) {\n",
       "                    if (nbb_cells[i].input_prompt_number == nbb_cell_id) {\n",
       "                        if (nbb_cells[i].get_text() == nbb_unformatted_code) {\n",
       "                             nbb_cells[i].set_text(nbb_formatted_code);\n",
       "                        }\n",
       "                        break;\n",
       "                    }\n",
       "                }\n",
       "            }, 500);\n",
       "            "
      ],
      "text/plain": [
       "<IPython.core.display.Javascript object>"
      ]
     },
     "metadata": {},
     "output_type": "display_data"
    }
   ],
   "source": [
    "# CLASSNAMES"
   ]
  },
  {
   "cell_type": "markdown",
   "metadata": {
    "ExecuteTime": {
     "end_time": "2020-04-17T12:15:21.164954Z",
     "start_time": "2020-04-17T12:15:21.156761Z"
    }
   },
   "source": [
    "## Parameters for train"
   ]
  },
  {
   "cell_type": "code",
   "execution_count": 16,
   "metadata": {
    "ExecuteTime": {
     "end_time": "2020-04-17T21:52:05.992126Z",
     "start_time": "2020-04-17T21:52:05.967221Z"
    }
   },
   "outputs": [
    {
     "data": {
      "application/javascript": [
       "\n",
       "            setTimeout(function() {\n",
       "                var nbb_cell_id = 16;\n",
       "                var nbb_unformatted_code = \"IMAGE_SIZE = 224\\nCUT_LENGTH = None\\nBATCH_SIZE = 64\\nPREFETCH = 10\\nONE_CHANNEL = False\";\n",
       "                var nbb_formatted_code = \"IMAGE_SIZE = 224\\nCUT_LENGTH = None\\nBATCH_SIZE = 64\\nPREFETCH = 10\\nONE_CHANNEL = False\";\n",
       "                var nbb_cells = Jupyter.notebook.get_cells();\n",
       "                for (var i = 0; i < nbb_cells.length; ++i) {\n",
       "                    if (nbb_cells[i].input_prompt_number == nbb_cell_id) {\n",
       "                        if (nbb_cells[i].get_text() == nbb_unformatted_code) {\n",
       "                             nbb_cells[i].set_text(nbb_formatted_code);\n",
       "                        }\n",
       "                        break;\n",
       "                    }\n",
       "                }\n",
       "            }, 500);\n",
       "            "
      ],
      "text/plain": [
       "<IPython.core.display.Javascript object>"
      ]
     },
     "metadata": {},
     "output_type": "display_data"
    }
   ],
   "source": [
    "IMAGE_SIZE = 224\n",
    "CUT_LENGTH = None\n",
    "BATCH_SIZE = 64\n",
    "PREFETCH = 10\n",
    "ONE_CHANNEL = False"
   ]
  },
  {
   "cell_type": "code",
   "execution_count": 17,
   "metadata": {
    "ExecuteTime": {
     "end_time": "2020-04-17T21:52:06.013109Z",
     "start_time": "2020-04-17T21:52:05.993765Z"
    }
   },
   "outputs": [
    {
     "data": {
      "application/javascript": [
       "\n",
       "            setTimeout(function() {\n",
       "                var nbb_cell_id = 17;\n",
       "                var nbb_unformatted_code = \"def fixed_text_to_square_image(values):\\n    return text_to_square_image(\\n        values, image_size=IMAGE_SIZE, cut_length=CUT_LENGTH, one_channel=ONE_CHANNEL\\n    )\";\n",
       "                var nbb_formatted_code = \"def fixed_text_to_square_image(values):\\n    return text_to_square_image(\\n        values, image_size=IMAGE_SIZE, cut_length=CUT_LENGTH, one_channel=ONE_CHANNEL\\n    )\";\n",
       "                var nbb_cells = Jupyter.notebook.get_cells();\n",
       "                for (var i = 0; i < nbb_cells.length; ++i) {\n",
       "                    if (nbb_cells[i].input_prompt_number == nbb_cell_id) {\n",
       "                        if (nbb_cells[i].get_text() == nbb_unformatted_code) {\n",
       "                             nbb_cells[i].set_text(nbb_formatted_code);\n",
       "                        }\n",
       "                        break;\n",
       "                    }\n",
       "                }\n",
       "            }, 500);\n",
       "            "
      ],
      "text/plain": [
       "<IPython.core.display.Javascript object>"
      ]
     },
     "metadata": {},
     "output_type": "display_data"
    }
   ],
   "source": [
    "def fixed_text_to_square_image(values):\n",
    "    return text_to_square_image(\n",
    "        values, image_size=IMAGE_SIZE, cut_length=CUT_LENGTH, one_channel=ONE_CHANNEL\n",
    "    )"
   ]
  },
  {
   "cell_type": "markdown",
   "metadata": {
    "ExecuteTime": {
     "end_time": "2020-04-17T13:09:05.896414Z",
     "start_time": "2020-04-17T13:09:05.860854Z"
    }
   },
   "source": [
    "## Preparing datasets"
   ]
  },
  {
   "cell_type": "code",
   "execution_count": 18,
   "metadata": {
    "ExecuteTime": {
     "end_time": "2020-04-17T22:58:09.716087Z",
     "start_time": "2020-04-17T21:52:06.015255Z"
    }
   },
   "outputs": [
    {
     "name": "stdout",
     "output_type": "stream",
     "text": [
      "Input shape is (10000, 58)\n",
      "Output data is estimated to 1435.546875 Mo in RAM\n",
      "Output shape is (10000, 224, 224, 3)\n",
      "Input shape is (10000, 58)\n",
      "Output data is estimated to 1435.546875 Mo in RAM\n",
      "Output shape is (10000, 224, 224, 3)\n",
      "Input shape is (10000, 58)\n",
      "Output data is estimated to 1435.546875 Mo in RAM\n",
      "Output shape is (10000, 224, 224, 3)\n",
      "Input shape is (10000, 58)\n",
      "Output data is estimated to 1435.546875 Mo in RAM\n",
      "Output shape is (10000, 224, 224, 3)\n",
      "Input shape is (10000, 58)\n",
      "Output data is estimated to 1435.546875 Mo in RAM\n",
      "Output shape is (10000, 224, 224, 3)\n",
      "Input shape is (10000, 58)\n",
      "Output data is estimated to 1435.546875 Mo in RAM\n",
      "Output shape is (10000, 224, 224, 3)\n",
      "Input shape is (10000, 58)\n",
      "Output data is estimated to 1435.546875 Mo in RAM\n",
      "Output shape is (10000, 224, 224, 3)\n",
      "Input shape is (10000, 58)\n",
      "Output data is estimated to 1435.546875 Mo in RAM\n",
      "Output shape is (10000, 224, 224, 3)\n",
      "Input shape is (10000, 58)\n",
      "Output data is estimated to 1435.546875 Mo in RAM\n",
      "Output shape is (10000, 224, 224, 3)\n",
      "Input shape is (10000, 58)\n",
      "Output data is estimated to 1435.546875 Mo in RAM\n",
      "Output shape is (10000, 224, 224, 3)\n",
      "Input shape is (10000, 58)\n",
      "Output data is estimated to 1435.546875 Mo in RAM\n",
      "Output shape is (10000, 224, 224, 3)\n",
      "Input shape is (10000, 58)\n",
      "Output data is estimated to 1435.546875 Mo in RAM\n",
      "Output shape is (10000, 224, 224, 3)\n",
      "Input shape is (10000, 58)\n",
      "Output data is estimated to 1435.546875 Mo in RAM\n",
      "Output shape is (10000, 224, 224, 3)\n",
      "Input shape is (10000, 58)\n",
      "Output data is estimated to 1435.546875 Mo in RAM\n",
      "Output shape is (10000, 224, 224, 3)\n",
      "Input shape is (10000, 58)\n",
      "Output data is estimated to 1435.546875 Mo in RAM\n",
      "Output shape is (10000, 224, 224, 3)\n",
      "Input shape is (10000, 58)\n",
      "Output data is estimated to 1435.546875 Mo in RAM\n",
      "Output shape is (10000, 224, 224, 3)\n",
      "Input shape is (10000, 58)\n",
      "Output data is estimated to 1435.546875 Mo in RAM\n",
      "Output shape is (10000, 224, 224, 3)\n",
      "Input shape is (10000, 58)\n",
      "Output data is estimated to 1435.546875 Mo in RAM\n",
      "Output shape is (10000, 224, 224, 3)\n",
      "Input shape is (10000, 58)\n",
      "Output data is estimated to 1435.546875 Mo in RAM\n",
      "Output shape is (10000, 224, 224, 3)\n",
      "Input shape is (10000, 58)\n",
      "Output data is estimated to 1435.546875 Mo in RAM\n",
      "Output shape is (10000, 224, 224, 3)\n",
      "Input shape is (10000, 58)\n",
      "Output data is estimated to 1435.546875 Mo in RAM\n",
      "Output shape is (10000, 224, 224, 3)\n",
      "Input shape is (10000, 58)\n",
      "Output data is estimated to 1435.546875 Mo in RAM\n",
      "Output shape is (10000, 224, 224, 3)\n",
      "Input shape is (10000, 58)\n",
      "Output data is estimated to 1435.546875 Mo in RAM\n",
      "Output shape is (10000, 224, 224, 3)\n",
      "Input shape is (10000, 58)\n",
      "Output data is estimated to 1435.546875 Mo in RAM\n",
      "Output shape is (10000, 224, 224, 3)\n",
      "Input shape is (10000, 58)\n",
      "Output data is estimated to 1435.546875 Mo in RAM\n",
      "Output shape is (10000, 224, 224, 3)\n",
      "Input shape is (10000, 58)\n",
      "Output data is estimated to 1435.546875 Mo in RAM\n",
      "Output shape is (10000, 224, 224, 3)\n",
      "Input shape is (10000, 58)\n",
      "Output data is estimated to 1435.546875 Mo in RAM\n",
      "Output shape is (10000, 224, 224, 3)\n",
      "Input shape is (10000, 58)\n",
      "Output data is estimated to 1435.546875 Mo in RAM\n",
      "Output shape is (10000, 224, 224, 3)\n",
      "Input shape is (10000, 58)\n",
      "Output data is estimated to 1435.546875 Mo in RAM\n",
      "Output shape is (10000, 224, 224, 3)\n",
      "Input shape is (10000, 58)\n",
      "Output data is estimated to 1435.546875 Mo in RAM\n",
      "Output shape is (10000, 224, 224, 3)\n",
      "Input shape is (10000, 58)\n",
      "Output data is estimated to 1435.546875 Mo in RAM\n",
      "Output shape is (10000, 224, 224, 3)\n",
      "Input shape is (10000, 58)\n",
      "Output data is estimated to 1435.546875 Mo in RAM\n",
      "Output shape is (10000, 224, 224, 3)\n",
      "Input shape is (10000, 58)\n",
      "Output data is estimated to 1435.546875 Mo in RAM\n",
      "Output shape is (10000, 224, 224, 3)\n",
      "Input shape is (10000, 58)\n",
      "Output data is estimated to 1435.546875 Mo in RAM\n",
      "Output shape is (10000, 224, 224, 3)\n",
      "Input shape is (10000, 58)\n",
      "Output data is estimated to 1435.546875 Mo in RAM\n",
      "Output shape is (10000, 224, 224, 3)\n",
      "Input shape is (10000, 58)\n",
      "Output data is estimated to 1435.546875 Mo in RAM\n",
      "Output shape is (10000, 224, 224, 3)\n",
      "Input shape is (10000, 58)\n",
      "Output data is estimated to 1435.546875 Mo in RAM\n",
      "Output shape is (10000, 224, 224, 3)\n",
      "Input shape is (10000, 58)\n",
      "Output data is estimated to 1435.546875 Mo in RAM\n",
      "Output shape is (10000, 224, 224, 3)\n",
      "Input shape is (10000, 58)\n",
      "Output data is estimated to 1435.546875 Mo in RAM\n",
      "Output shape is (10000, 224, 224, 3)\n",
      "Input shape is (10000, 58)\n",
      "Output data is estimated to 1435.546875 Mo in RAM\n",
      "Output shape is (10000, 224, 224, 3)\n",
      "Input shape is (10000, 58)\n",
      "Output data is estimated to 1435.546875 Mo in RAM\n",
      "Output shape is (10000, 224, 224, 3)\n",
      "Input shape is (10000, 58)\n",
      "Output data is estimated to 1435.546875 Mo in RAM\n",
      "Output shape is (10000, 224, 224, 3)\n",
      "Input shape is (10000, 58)\n",
      "Output data is estimated to 1435.546875 Mo in RAM\n",
      "Output shape is (10000, 224, 224, 3)\n",
      "Input shape is (10000, 58)\n",
      "Output data is estimated to 1435.546875 Mo in RAM\n",
      "Output shape is (10000, 224, 224, 3)\n",
      "Input shape is (10000, 58)\n",
      "Output data is estimated to 1435.546875 Mo in RAM\n",
      "Output shape is (10000, 224, 224, 3)\n",
      "Input shape is (10000, 58)\n",
      "Output data is estimated to 1435.546875 Mo in RAM\n",
      "Output shape is (10000, 224, 224, 3)\n",
      "Input shape is (10000, 58)\n",
      "Output data is estimated to 1435.546875 Mo in RAM\n",
      "Output shape is (10000, 224, 224, 3)\n",
      "Input shape is (6170, 58)\n",
      "Output data is estimated to 885.732421875 Mo in RAM\n",
      "Output shape is (6170, 224, 224, 3)\n",
      "Input shape is (10000, 58)\n",
      "Output data is estimated to 1435.546875 Mo in RAM\n",
      "Output shape is (10000, 224, 224, 3)\n",
      "Input shape is (10000, 58)\n",
      "Output data is estimated to 1435.546875 Mo in RAM\n",
      "Output shape is (10000, 224, 224, 3)\n",
      "Input shape is (10000, 58)\n",
      "Output data is estimated to 1435.546875 Mo in RAM\n",
      "Output shape is (10000, 224, 224, 3)\n",
      "Input shape is (10000, 58)\n",
      "Output data is estimated to 1435.546875 Mo in RAM\n",
      "Output shape is (10000, 224, 224, 3)\n",
      "Input shape is (10000, 58)\n",
      "Output data is estimated to 1435.546875 Mo in RAM\n",
      "Output shape is (10000, 224, 224, 3)\n",
      "Input shape is (9521, 58)\n",
      "Output data is estimated to 1366.7841796875 Mo in RAM\n",
      "Output shape is (9521, 224, 224, 3)\n",
      "Input shape is (10000, 58)\n",
      "Output data is estimated to 1435.546875 Mo in RAM\n",
      "Output shape is (10000, 224, 224, 3)\n",
      "Input shape is (10000, 58)\n",
      "Output data is estimated to 1435.546875 Mo in RAM\n",
      "Output shape is (10000, 224, 224, 3)\n",
      "Input shape is (10000, 58)\n",
      "Output data is estimated to 1435.546875 Mo in RAM\n",
      "Output shape is (10000, 224, 224, 3)\n",
      "Input shape is (10000, 58)\n",
      "Output data is estimated to 1435.546875 Mo in RAM\n",
      "Output shape is (10000, 224, 224, 3)\n",
      "Input shape is (10000, 58)\n",
      "Output data is estimated to 1435.546875 Mo in RAM\n",
      "Output shape is (10000, 224, 224, 3)\n",
      "Input shape is (9521, 58)\n",
      "Output data is estimated to 1366.7841796875 Mo in RAM\n",
      "Output shape is (9521, 224, 224, 3)\n"
     ]
    },
    {
     "data": {
      "application/javascript": [
       "\n",
       "            setTimeout(function() {\n",
       "                var nbb_cell_id = 18;\n",
       "                var nbb_unformatted_code = \"CHUNK = 10000\\nfile_list = {\\n    \\\"train\\\": [],\\n    \\\"valid\\\": [],\\n    \\\"test\\\": [],\\n}\\nfor set_label, set_indices in zip(\\n    [\\\"train\\\", \\\"valid\\\", \\\"test\\\"], [train_indices, valid_indices, test_indices]\\n):\\n    prep_data_folder = Path(os.getcwd()) / f\\\"data/{dataset_name}/prep_data/{set_label}/\\\"\\n    if prep_data_folder.exists():\\n        shutil.rmtree(prep_data_folder)\\n    prep_data_folder.mkdir(parents=True, exist_ok=True)\\n    i = 0\\n    while i * CHUNK < set_indices.shape[0]:\\n        idx = set_indices[i * CHUNK : (i + 1) * CHUNK]\\n        targets = Y[idx].reshape(-1)\\n        pred_X = preprocess_data(\\n            X[idx], fixed_text_to_square_image, IMAGE_SIZE, ONE_CHANNEL\\n        )\\n\\n        for j, (img, label) in enumerate(zip(pred_X, targets)):\\n            out_folder = prep_data_folder / str(label)\\n            out_folder.mkdir(parents=True, exist_ok=True)\\n\\n            out_file = out_folder / str(j + i * CHUNK)\\n            file_list[set_label].append(out_file.as_posix() + \\\".jpeg\\\")\\n            save_numpy_as_image(img, out_file)\\n        i += 1\";\n",
       "                var nbb_formatted_code = \"CHUNK = 10000\\nfile_list = {\\n    \\\"train\\\": [],\\n    \\\"valid\\\": [],\\n    \\\"test\\\": [],\\n}\\nfor set_label, set_indices in zip(\\n    [\\\"train\\\", \\\"valid\\\", \\\"test\\\"], [train_indices, valid_indices, test_indices]\\n):\\n    prep_data_folder = Path(os.getcwd()) / f\\\"data/{dataset_name}/prep_data/{set_label}/\\\"\\n    if prep_data_folder.exists():\\n        shutil.rmtree(prep_data_folder)\\n    prep_data_folder.mkdir(parents=True, exist_ok=True)\\n    i = 0\\n    while i * CHUNK < set_indices.shape[0]:\\n        idx = set_indices[i * CHUNK : (i + 1) * CHUNK]\\n        targets = Y[idx].reshape(-1)\\n        pred_X = preprocess_data(\\n            X[idx], fixed_text_to_square_image, IMAGE_SIZE, ONE_CHANNEL\\n        )\\n\\n        for j, (img, label) in enumerate(zip(pred_X, targets)):\\n            out_folder = prep_data_folder / str(label)\\n            out_folder.mkdir(parents=True, exist_ok=True)\\n\\n            out_file = out_folder / str(j + i * CHUNK)\\n            file_list[set_label].append(out_file.as_posix() + \\\".jpeg\\\")\\n            save_numpy_as_image(img, out_file)\\n        i += 1\";\n",
       "                var nbb_cells = Jupyter.notebook.get_cells();\n",
       "                for (var i = 0; i < nbb_cells.length; ++i) {\n",
       "                    if (nbb_cells[i].input_prompt_number == nbb_cell_id) {\n",
       "                        if (nbb_cells[i].get_text() == nbb_unformatted_code) {\n",
       "                             nbb_cells[i].set_text(nbb_formatted_code);\n",
       "                        }\n",
       "                        break;\n",
       "                    }\n",
       "                }\n",
       "            }, 500);\n",
       "            "
      ],
      "text/plain": [
       "<IPython.core.display.Javascript object>"
      ]
     },
     "metadata": {},
     "output_type": "display_data"
    }
   ],
   "source": [
    "CHUNK = 10000\n",
    "file_list = {\n",
    "    \"train\": [],\n",
    "    \"valid\": [],\n",
    "    \"test\": [],\n",
    "}\n",
    "for set_label, set_indices in zip(\n",
    "    [\"train\", \"valid\", \"test\"], [train_indices, valid_indices, test_indices]\n",
    "):\n",
    "    prep_data_folder = Path(os.getcwd()) / f\"data/{dataset_name}/prep_data/{set_label}/\"\n",
    "    if prep_data_folder.exists():\n",
    "        shutil.rmtree(prep_data_folder)\n",
    "    prep_data_folder.mkdir(parents=True, exist_ok=True)\n",
    "    i = 0\n",
    "    while i * CHUNK < set_indices.shape[0]:\n",
    "        idx = set_indices[i * CHUNK : (i + 1) * CHUNK]\n",
    "        targets = Y[idx].reshape(-1)\n",
    "        pred_X = preprocess_data(\n",
    "            X[idx], fixed_text_to_square_image, IMAGE_SIZE, ONE_CHANNEL\n",
    "        )\n",
    "\n",
    "        for j, (img, label) in enumerate(zip(pred_X, targets)):\n",
    "            out_folder = prep_data_folder / str(label)\n",
    "            out_folder.mkdir(parents=True, exist_ok=True)\n",
    "\n",
    "            out_file = out_folder / str(j + i * CHUNK)\n",
    "            file_list[set_label].append(out_file.as_posix() + \".jpeg\")\n",
    "            save_numpy_as_image(img, out_file)\n",
    "        i += 1"
   ]
  },
  {
   "cell_type": "markdown",
   "metadata": {
    "heading_collapsed": true
   },
   "source": [
    "### In RAM mode"
   ]
  },
  {
   "cell_type": "raw",
   "metadata": {
    "hidden": true
   },
   "source": [
    "X_train = preprocess_data(\n",
    "    X[train_indices], fixed_text_to_square_image, IMAGE_SIZE, ONE_CHANNEL\n",
    ")\n",
    "X_valid = preprocess_data(\n",
    "    X[valid_indices], fixed_text_to_square_image, IMAGE_SIZE, ONE_CHANNEL\n",
    ")\n",
    "X_test = preprocess_data(\n",
    "    X[test_indices], fixed_text_to_square_image, IMAGE_SIZE, ONE_CHANNEL\n",
    ")"
   ]
  },
  {
   "cell_type": "raw",
   "metadata": {
    "hidden": true
   },
   "source": [
    "Y_train = Y[train_indices]\n",
    "Y_valid = Y[valid_indices]\n",
    "Y_test = Y[test_indices]"
   ]
  },
  {
   "cell_type": "raw",
   "metadata": {
    "hidden": true
   },
   "source": [
    "dataset_train = build_in_memory_dataset(\n",
    "    X_train, Y_train, BATCH_SIZE, PREFETCH, is_categorical=True\n",
    ")\n",
    "dataset_valid = build_in_memory_dataset(\n",
    "    X_train, Y_train, BATCH_SIZE, PREFETCH, is_categorical=True\n",
    ")"
   ]
  },
  {
   "cell_type": "markdown",
   "metadata": {},
   "source": [
    "### From file mode"
   ]
  },
  {
   "cell_type": "code",
   "execution_count": 19,
   "metadata": {
    "ExecuteTime": {
     "end_time": "2020-04-17T22:58:09.721260Z",
     "start_time": "2020-04-17T22:58:09.717627Z"
    }
   },
   "outputs": [
    {
     "data": {
      "application/javascript": [
       "\n",
       "            setTimeout(function() {\n",
       "                var nbb_cell_id = 19;\n",
       "                var nbb_unformatted_code = \"# https://www.tensorflow.org/tutorials/load_data/images\";\n",
       "                var nbb_formatted_code = \"# https://www.tensorflow.org/tutorials/load_data/images\";\n",
       "                var nbb_cells = Jupyter.notebook.get_cells();\n",
       "                for (var i = 0; i < nbb_cells.length; ++i) {\n",
       "                    if (nbb_cells[i].input_prompt_number == nbb_cell_id) {\n",
       "                        if (nbb_cells[i].get_text() == nbb_unformatted_code) {\n",
       "                             nbb_cells[i].set_text(nbb_formatted_code);\n",
       "                        }\n",
       "                        break;\n",
       "                    }\n",
       "                }\n",
       "            }, 500);\n",
       "            "
      ],
      "text/plain": [
       "<IPython.core.display.Javascript object>"
      ]
     },
     "metadata": {},
     "output_type": "display_data"
    }
   ],
   "source": [
    "# https://www.tensorflow.org/tutorials/load_data/images"
   ]
  },
  {
   "cell_type": "code",
   "execution_count": 20,
   "metadata": {
    "ExecuteTime": {
     "end_time": "2020-04-17T22:58:10.176506Z",
     "start_time": "2020-04-17T22:58:09.722696Z"
    }
   },
   "outputs": [
    {
     "data": {
      "application/javascript": [
       "\n",
       "            setTimeout(function() {\n",
       "                var nbb_cell_id = 20;\n",
       "                var nbb_unformatted_code = \"classes = np.array([\\\"0\\\", \\\"1\\\"]).astype(\\\"str\\\")\";\n",
       "                var nbb_formatted_code = \"classes = np.array([\\\"0\\\", \\\"1\\\"]).astype(\\\"str\\\")\";\n",
       "                var nbb_cells = Jupyter.notebook.get_cells();\n",
       "                for (var i = 0; i < nbb_cells.length; ++i) {\n",
       "                    if (nbb_cells[i].input_prompt_number == nbb_cell_id) {\n",
       "                        if (nbb_cells[i].get_text() == nbb_unformatted_code) {\n",
       "                             nbb_cells[i].set_text(nbb_formatted_code);\n",
       "                        }\n",
       "                        break;\n",
       "                    }\n",
       "                }\n",
       "            }, 500);\n",
       "            "
      ],
      "text/plain": [
       "<IPython.core.display.Javascript object>"
      ]
     },
     "metadata": {},
     "output_type": "display_data"
    }
   ],
   "source": [
    "classes = np.array([\"0\", \"1\"]).astype(\"str\")"
   ]
  },
  {
   "cell_type": "code",
   "execution_count": 21,
   "metadata": {
    "ExecuteTime": {
     "end_time": "2020-04-17T22:58:10.400971Z",
     "start_time": "2020-04-17T22:58:10.178549Z"
    }
   },
   "outputs": [
    {
     "data": {
      "application/javascript": [
       "\n",
       "            setTimeout(function() {\n",
       "                var nbb_cell_id = 21;\n",
       "                var nbb_unformatted_code = \"def get_label(file_path):\\n    # convert the path to a list of path components\\n    parts = tf.strings.split(file_path, os.path.sep)\\n    return parts[-2] == classes\";\n",
       "                var nbb_formatted_code = \"def get_label(file_path):\\n    # convert the path to a list of path components\\n    parts = tf.strings.split(file_path, os.path.sep)\\n    return parts[-2] == classes\";\n",
       "                var nbb_cells = Jupyter.notebook.get_cells();\n",
       "                for (var i = 0; i < nbb_cells.length; ++i) {\n",
       "                    if (nbb_cells[i].input_prompt_number == nbb_cell_id) {\n",
       "                        if (nbb_cells[i].get_text() == nbb_unformatted_code) {\n",
       "                             nbb_cells[i].set_text(nbb_formatted_code);\n",
       "                        }\n",
       "                        break;\n",
       "                    }\n",
       "                }\n",
       "            }, 500);\n",
       "            "
      ],
      "text/plain": [
       "<IPython.core.display.Javascript object>"
      ]
     },
     "metadata": {},
     "output_type": "display_data"
    }
   ],
   "source": [
    "def get_label(file_path):\n",
    "    # convert the path to a list of path components\n",
    "    parts = tf.strings.split(file_path, os.path.sep)\n",
    "    return parts[-2] == classes"
   ]
  },
  {
   "cell_type": "code",
   "execution_count": 22,
   "metadata": {
    "ExecuteTime": {
     "end_time": "2020-04-17T22:58:10.427773Z",
     "start_time": "2020-04-17T22:58:10.402969Z"
    }
   },
   "outputs": [
    {
     "data": {
      "application/javascript": [
       "\n",
       "            setTimeout(function() {\n",
       "                var nbb_cell_id = 22;\n",
       "                var nbb_unformatted_code = \"def decode_img(img):\\n    # convert the compressed string to a 3D uint8 tensor\\n    img = tf.image.decode_jpeg(img, channels=3)\\n    # Use `convert_image_dtype` to convert to floats in the [0,1] range.\\n    # img = tf.image.convert_image_dtype(img, tf.float32)\\n    # resize the image to the desired size.\\n    # return tf.image.resize(img, [IMG_WIDTH, IMG_HEIGHT])\\n    return img\";\n",
       "                var nbb_formatted_code = \"def decode_img(img):\\n    # convert the compressed string to a 3D uint8 tensor\\n    img = tf.image.decode_jpeg(img, channels=3)\\n    # Use `convert_image_dtype` to convert to floats in the [0,1] range.\\n    # img = tf.image.convert_image_dtype(img, tf.float32)\\n    # resize the image to the desired size.\\n    # return tf.image.resize(img, [IMG_WIDTH, IMG_HEIGHT])\\n    return img\";\n",
       "                var nbb_cells = Jupyter.notebook.get_cells();\n",
       "                for (var i = 0; i < nbb_cells.length; ++i) {\n",
       "                    if (nbb_cells[i].input_prompt_number == nbb_cell_id) {\n",
       "                        if (nbb_cells[i].get_text() == nbb_unformatted_code) {\n",
       "                             nbb_cells[i].set_text(nbb_formatted_code);\n",
       "                        }\n",
       "                        break;\n",
       "                    }\n",
       "                }\n",
       "            }, 500);\n",
       "            "
      ],
      "text/plain": [
       "<IPython.core.display.Javascript object>"
      ]
     },
     "metadata": {},
     "output_type": "display_data"
    }
   ],
   "source": [
    "def decode_img(img):\n",
    "    # convert the compressed string to a 3D uint8 tensor\n",
    "    img = tf.image.decode_jpeg(img, channels=3)\n",
    "    # Use `convert_image_dtype` to convert to floats in the [0,1] range.\n",
    "    # img = tf.image.convert_image_dtype(img, tf.float32)\n",
    "    # resize the image to the desired size.\n",
    "    # return tf.image.resize(img, [IMG_WIDTH, IMG_HEIGHT])\n",
    "    return img"
   ]
  },
  {
   "cell_type": "code",
   "execution_count": 23,
   "metadata": {
    "ExecuteTime": {
     "end_time": "2020-04-17T22:58:10.463647Z",
     "start_time": "2020-04-17T22:58:10.433959Z"
    }
   },
   "outputs": [
    {
     "data": {
      "application/javascript": [
       "\n",
       "            setTimeout(function() {\n",
       "                var nbb_cell_id = 23;\n",
       "                var nbb_unformatted_code = \"def process_path(file_path):\\n    label = get_label(file_path)\\n    # load the raw data from the file as a string\\n    img = tf.io.read_file(file_path)\\n    img = decode_img(img)\\n    return img, label\";\n",
       "                var nbb_formatted_code = \"def process_path(file_path):\\n    label = get_label(file_path)\\n    # load the raw data from the file as a string\\n    img = tf.io.read_file(file_path)\\n    img = decode_img(img)\\n    return img, label\";\n",
       "                var nbb_cells = Jupyter.notebook.get_cells();\n",
       "                for (var i = 0; i < nbb_cells.length; ++i) {\n",
       "                    if (nbb_cells[i].input_prompt_number == nbb_cell_id) {\n",
       "                        if (nbb_cells[i].get_text() == nbb_unformatted_code) {\n",
       "                             nbb_cells[i].set_text(nbb_formatted_code);\n",
       "                        }\n",
       "                        break;\n",
       "                    }\n",
       "                }\n",
       "            }, 500);\n",
       "            "
      ],
      "text/plain": [
       "<IPython.core.display.Javascript object>"
      ]
     },
     "metadata": {},
     "output_type": "display_data"
    }
   ],
   "source": [
    "def process_path(file_path):\n",
    "    label = get_label(file_path)\n",
    "    # load the raw data from the file as a string\n",
    "    img = tf.io.read_file(file_path)\n",
    "    img = decode_img(img)\n",
    "    return img, label"
   ]
  },
  {
   "cell_type": "code",
   "execution_count": 24,
   "metadata": {
    "ExecuteTime": {
     "end_time": "2020-04-17T22:58:12.615527Z",
     "start_time": "2020-04-17T22:58:10.465989Z"
    }
   },
   "outputs": [
    {
     "data": {
      "application/javascript": [
       "\n",
       "            setTimeout(function() {\n",
       "                var nbb_cell_id = 24;\n",
       "                var nbb_unformatted_code = \"list_train = tf.data.Dataset.from_tensor_slices(file_list[\\\"train\\\"]).repeat()\";\n",
       "                var nbb_formatted_code = \"list_train = tf.data.Dataset.from_tensor_slices(file_list[\\\"train\\\"]).repeat()\";\n",
       "                var nbb_cells = Jupyter.notebook.get_cells();\n",
       "                for (var i = 0; i < nbb_cells.length; ++i) {\n",
       "                    if (nbb_cells[i].input_prompt_number == nbb_cell_id) {\n",
       "                        if (nbb_cells[i].get_text() == nbb_unformatted_code) {\n",
       "                             nbb_cells[i].set_text(nbb_formatted_code);\n",
       "                        }\n",
       "                        break;\n",
       "                    }\n",
       "                }\n",
       "            }, 500);\n",
       "            "
      ],
      "text/plain": [
       "<IPython.core.display.Javascript object>"
      ]
     },
     "metadata": {},
     "output_type": "display_data"
    }
   ],
   "source": [
    "list_train = tf.data.Dataset.from_tensor_slices(file_list[\"train\"]).repeat()"
   ]
  },
  {
   "cell_type": "code",
   "execution_count": 25,
   "metadata": {
    "ExecuteTime": {
     "end_time": "2020-04-17T22:58:12.634564Z",
     "start_time": "2020-04-17T22:58:12.617566Z"
    }
   },
   "outputs": [
    {
     "name": "stdout",
     "output_type": "stream",
     "text": [
      "Path:  b'/work/data/portoseguro/prep_data/train/0/0.jpeg'\n"
     ]
    },
    {
     "data": {
      "application/javascript": [
       "\n",
       "            setTimeout(function() {\n",
       "                var nbb_cell_id = 25;\n",
       "                var nbb_unformatted_code = \"for path in list_train.take(1):\\n    print(\\\"Path: \\\", path.numpy())\";\n",
       "                var nbb_formatted_code = \"for path in list_train.take(1):\\n    print(\\\"Path: \\\", path.numpy())\";\n",
       "                var nbb_cells = Jupyter.notebook.get_cells();\n",
       "                for (var i = 0; i < nbb_cells.length; ++i) {\n",
       "                    if (nbb_cells[i].input_prompt_number == nbb_cell_id) {\n",
       "                        if (nbb_cells[i].get_text() == nbb_unformatted_code) {\n",
       "                             nbb_cells[i].set_text(nbb_formatted_code);\n",
       "                        }\n",
       "                        break;\n",
       "                    }\n",
       "                }\n",
       "            }, 500);\n",
       "            "
      ],
      "text/plain": [
       "<IPython.core.display.Javascript object>"
      ]
     },
     "metadata": {},
     "output_type": "display_data"
    }
   ],
   "source": [
    "for path in list_train.take(1):\n",
    "    print(\"Path: \", path.numpy())"
   ]
  },
  {
   "cell_type": "code",
   "execution_count": 26,
   "metadata": {
    "ExecuteTime": {
     "end_time": "2020-04-17T22:58:12.809154Z",
     "start_time": "2020-04-17T22:58:12.637268Z"
    }
   },
   "outputs": [
    {
     "data": {
      "text/plain": [
       "array([0, 1])"
      ]
     },
     "execution_count": 26,
     "metadata": {},
     "output_type": "execute_result"
    },
    {
     "data": {
      "application/javascript": [
       "\n",
       "            setTimeout(function() {\n",
       "                var nbb_cell_id = 26;\n",
       "                var nbb_unformatted_code = \"label_encoder.classes_\";\n",
       "                var nbb_formatted_code = \"label_encoder.classes_\";\n",
       "                var nbb_cells = Jupyter.notebook.get_cells();\n",
       "                for (var i = 0; i < nbb_cells.length; ++i) {\n",
       "                    if (nbb_cells[i].input_prompt_number == nbb_cell_id) {\n",
       "                        if (nbb_cells[i].get_text() == nbb_unformatted_code) {\n",
       "                             nbb_cells[i].set_text(nbb_formatted_code);\n",
       "                        }\n",
       "                        break;\n",
       "                    }\n",
       "                }\n",
       "            }, 500);\n",
       "            "
      ],
      "text/plain": [
       "<IPython.core.display.Javascript object>"
      ]
     },
     "metadata": {},
     "output_type": "display_data"
    }
   ],
   "source": [
    "label_encoder.classes_"
   ]
  },
  {
   "cell_type": "code",
   "execution_count": 27,
   "metadata": {
    "ExecuteTime": {
     "end_time": "2020-04-17T22:58:12.831375Z",
     "start_time": "2020-04-17T22:58:12.811417Z"
    }
   },
   "outputs": [
    {
     "data": {
      "application/javascript": [
       "\n",
       "            setTimeout(function() {\n",
       "                var nbb_cell_id = 27;\n",
       "                var nbb_unformatted_code = \"AUTOTUNE = tf.data.experimental.AUTOTUNE\\n# train_path = Path(os.getcwd()) / f\\\"data/{dataset_name}/prep_data/train/\\\"\\n# list_train = tf.data.Dataset.list_files(str(train_path / \\\"/*/*\\\"))\";\n",
       "                var nbb_formatted_code = \"AUTOTUNE = tf.data.experimental.AUTOTUNE\\n# train_path = Path(os.getcwd()) / f\\\"data/{dataset_name}/prep_data/train/\\\"\\n# list_train = tf.data.Dataset.list_files(str(train_path / \\\"/*/*\\\"))\";\n",
       "                var nbb_cells = Jupyter.notebook.get_cells();\n",
       "                for (var i = 0; i < nbb_cells.length; ++i) {\n",
       "                    if (nbb_cells[i].input_prompt_number == nbb_cell_id) {\n",
       "                        if (nbb_cells[i].get_text() == nbb_unformatted_code) {\n",
       "                             nbb_cells[i].set_text(nbb_formatted_code);\n",
       "                        }\n",
       "                        break;\n",
       "                    }\n",
       "                }\n",
       "            }, 500);\n",
       "            "
      ],
      "text/plain": [
       "<IPython.core.display.Javascript object>"
      ]
     },
     "metadata": {},
     "output_type": "display_data"
    }
   ],
   "source": [
    "AUTOTUNE = tf.data.experimental.AUTOTUNE\n",
    "# train_path = Path(os.getcwd()) / f\"data/{dataset_name}/prep_data/train/\"\n",
    "# list_train = tf.data.Dataset.list_files(str(train_path / \"/*/*\"))"
   ]
  },
  {
   "cell_type": "code",
   "execution_count": 28,
   "metadata": {
    "ExecuteTime": {
     "end_time": "2020-04-17T22:58:14.931736Z",
     "start_time": "2020-04-17T22:58:12.833912Z"
    }
   },
   "outputs": [
    {
     "data": {
      "application/javascript": [
       "\n",
       "            setTimeout(function() {\n",
       "                var nbb_cell_id = 28;\n",
       "                var nbb_unformatted_code = \"# Set `num_parallel_calls` so multiple images are loaded/processed in parallel.\\nlabeled_train = list_train.map(process_path, num_parallel_calls=AUTOTUNE)\";\n",
       "                var nbb_formatted_code = \"# Set `num_parallel_calls` so multiple images are loaded/processed in parallel.\\nlabeled_train = list_train.map(process_path, num_parallel_calls=AUTOTUNE)\";\n",
       "                var nbb_cells = Jupyter.notebook.get_cells();\n",
       "                for (var i = 0; i < nbb_cells.length; ++i) {\n",
       "                    if (nbb_cells[i].input_prompt_number == nbb_cell_id) {\n",
       "                        if (nbb_cells[i].get_text() == nbb_unformatted_code) {\n",
       "                             nbb_cells[i].set_text(nbb_formatted_code);\n",
       "                        }\n",
       "                        break;\n",
       "                    }\n",
       "                }\n",
       "            }, 500);\n",
       "            "
      ],
      "text/plain": [
       "<IPython.core.display.Javascript object>"
      ]
     },
     "metadata": {},
     "output_type": "display_data"
    }
   ],
   "source": [
    "# Set `num_parallel_calls` so multiple images are loaded/processed in parallel.\n",
    "labeled_train = list_train.map(process_path, num_parallel_calls=AUTOTUNE)"
   ]
  },
  {
   "cell_type": "code",
   "execution_count": 29,
   "metadata": {
    "ExecuteTime": {
     "end_time": "2020-04-17T22:58:15.364893Z",
     "start_time": "2020-04-17T22:58:14.933327Z"
    }
   },
   "outputs": [
    {
     "name": "stdout",
     "output_type": "stream",
     "text": [
      "Image shape:  (224, 224, 3)\n",
      "Label:  [ True False]\n"
     ]
    },
    {
     "data": {
      "application/javascript": [
       "\n",
       "            setTimeout(function() {\n",
       "                var nbb_cell_id = 29;\n",
       "                var nbb_unformatted_code = \"for image, label in labeled_train.take(1):\\n    print(\\\"Image shape: \\\", image.numpy().shape)\\n    print(\\\"Label: \\\", label.numpy())\";\n",
       "                var nbb_formatted_code = \"for image, label in labeled_train.take(1):\\n    print(\\\"Image shape: \\\", image.numpy().shape)\\n    print(\\\"Label: \\\", label.numpy())\";\n",
       "                var nbb_cells = Jupyter.notebook.get_cells();\n",
       "                for (var i = 0; i < nbb_cells.length; ++i) {\n",
       "                    if (nbb_cells[i].input_prompt_number == nbb_cell_id) {\n",
       "                        if (nbb_cells[i].get_text() == nbb_unformatted_code) {\n",
       "                             nbb_cells[i].set_text(nbb_formatted_code);\n",
       "                        }\n",
       "                        break;\n",
       "                    }\n",
       "                }\n",
       "            }, 500);\n",
       "            "
      ],
      "text/plain": [
       "<IPython.core.display.Javascript object>"
      ]
     },
     "metadata": {},
     "output_type": "display_data"
    }
   ],
   "source": [
    "for image, label in labeled_train.take(1):\n",
    "    print(\"Image shape: \", image.numpy().shape)\n",
    "    print(\"Label: \", label.numpy())"
   ]
  },
  {
   "cell_type": "code",
   "execution_count": 30,
   "metadata": {
    "ExecuteTime": {
     "end_time": "2020-04-17T22:58:15.408321Z",
     "start_time": "2020-04-17T22:58:15.367370Z"
    }
   },
   "outputs": [
    {
     "data": {
      "application/javascript": [
       "\n",
       "            setTimeout(function() {\n",
       "                var nbb_cell_id = 30;\n",
       "                var nbb_unformatted_code = \"dataset_train = labeled_train.batch(BATCH_SIZE).prefetch(PREFETCH)\";\n",
       "                var nbb_formatted_code = \"dataset_train = labeled_train.batch(BATCH_SIZE).prefetch(PREFETCH)\";\n",
       "                var nbb_cells = Jupyter.notebook.get_cells();\n",
       "                for (var i = 0; i < nbb_cells.length; ++i) {\n",
       "                    if (nbb_cells[i].input_prompt_number == nbb_cell_id) {\n",
       "                        if (nbb_cells[i].get_text() == nbb_unformatted_code) {\n",
       "                             nbb_cells[i].set_text(nbb_formatted_code);\n",
       "                        }\n",
       "                        break;\n",
       "                    }\n",
       "                }\n",
       "            }, 500);\n",
       "            "
      ],
      "text/plain": [
       "<IPython.core.display.Javascript object>"
      ]
     },
     "metadata": {},
     "output_type": "display_data"
    }
   ],
   "source": [
    "dataset_train = labeled_train.batch(BATCH_SIZE).prefetch(PREFETCH)"
   ]
  },
  {
   "cell_type": "code",
   "execution_count": 31,
   "metadata": {
    "ExecuteTime": {
     "end_time": "2020-04-17T22:58:15.702266Z",
     "start_time": "2020-04-17T22:58:15.410834Z"
    }
   },
   "outputs": [
    {
     "data": {
      "application/javascript": [
       "\n",
       "            setTimeout(function() {\n",
       "                var nbb_cell_id = 31;\n",
       "                var nbb_unformatted_code = \"# valid_path = Path(os.getcwd()) / f\\\"data/{dataset_name}/prep_data/valid/\\\"\\n# list_valid = tf.data.Dataset.list_files(str(train_path / \\\"/*/*\\\"))\\nlist_valid = tf.data.Dataset.from_tensor_slices(file_list[\\\"valid\\\"]).repeat()\\n# Set `num_parallel_calls` so multiple images are loaded/processed in parallel.\\nlabeled_valid = list_valid.map(process_path, num_parallel_calls=AUTOTUNE)\\ndataset_valid = labeled_valid.repeat().batch(BATCH_SIZE).prefetch(PREFETCH)\";\n",
       "                var nbb_formatted_code = \"# valid_path = Path(os.getcwd()) / f\\\"data/{dataset_name}/prep_data/valid/\\\"\\n# list_valid = tf.data.Dataset.list_files(str(train_path / \\\"/*/*\\\"))\\nlist_valid = tf.data.Dataset.from_tensor_slices(file_list[\\\"valid\\\"]).repeat()\\n# Set `num_parallel_calls` so multiple images are loaded/processed in parallel.\\nlabeled_valid = list_valid.map(process_path, num_parallel_calls=AUTOTUNE)\\ndataset_valid = labeled_valid.repeat().batch(BATCH_SIZE).prefetch(PREFETCH)\";\n",
       "                var nbb_cells = Jupyter.notebook.get_cells();\n",
       "                for (var i = 0; i < nbb_cells.length; ++i) {\n",
       "                    if (nbb_cells[i].input_prompt_number == nbb_cell_id) {\n",
       "                        if (nbb_cells[i].get_text() == nbb_unformatted_code) {\n",
       "                             nbb_cells[i].set_text(nbb_formatted_code);\n",
       "                        }\n",
       "                        break;\n",
       "                    }\n",
       "                }\n",
       "            }, 500);\n",
       "            "
      ],
      "text/plain": [
       "<IPython.core.display.Javascript object>"
      ]
     },
     "metadata": {},
     "output_type": "display_data"
    }
   ],
   "source": [
    "# valid_path = Path(os.getcwd()) / f\"data/{dataset_name}/prep_data/valid/\"\n",
    "# list_valid = tf.data.Dataset.list_files(str(train_path / \"/*/*\"))\n",
    "list_valid = tf.data.Dataset.from_tensor_slices(file_list[\"valid\"]).repeat()\n",
    "# Set `num_parallel_calls` so multiple images are loaded/processed in parallel.\n",
    "labeled_valid = list_valid.map(process_path, num_parallel_calls=AUTOTUNE)\n",
    "dataset_valid = labeled_valid.repeat().batch(BATCH_SIZE).prefetch(PREFETCH)"
   ]
  },
  {
   "cell_type": "markdown",
   "metadata": {},
   "source": [
    "### Images Example"
   ]
  },
  {
   "cell_type": "code",
   "execution_count": 32,
   "metadata": {
    "ExecuteTime": {
     "end_time": "2020-04-17T22:58:15.712527Z",
     "start_time": "2020-04-17T22:58:15.703868Z"
    }
   },
   "outputs": [
    {
     "data": {
      "application/javascript": [
       "\n",
       "            setTimeout(function() {\n",
       "                var nbb_cell_id = 32;\n",
       "                var nbb_unformatted_code = \"def show_image(image, image_size, one_channel=False):\\n    if one_channel:\\n        imshow(image.reshape(IMAGE_SIZE, IMAGE_SIZE))\\n    else:\\n        imshow(image)\";\n",
       "                var nbb_formatted_code = \"def show_image(image, image_size, one_channel=False):\\n    if one_channel:\\n        imshow(image.reshape(IMAGE_SIZE, IMAGE_SIZE))\\n    else:\\n        imshow(image)\";\n",
       "                var nbb_cells = Jupyter.notebook.get_cells();\n",
       "                for (var i = 0; i < nbb_cells.length; ++i) {\n",
       "                    if (nbb_cells[i].input_prompt_number == nbb_cell_id) {\n",
       "                        if (nbb_cells[i].get_text() == nbb_unformatted_code) {\n",
       "                             nbb_cells[i].set_text(nbb_formatted_code);\n",
       "                        }\n",
       "                        break;\n",
       "                    }\n",
       "                }\n",
       "            }, 500);\n",
       "            "
      ],
      "text/plain": [
       "<IPython.core.display.Javascript object>"
      ]
     },
     "metadata": {},
     "output_type": "display_data"
    }
   ],
   "source": [
    "def show_image(image, image_size, one_channel=False):\n",
    "    if one_channel:\n",
    "        imshow(image.reshape(IMAGE_SIZE, IMAGE_SIZE))\n",
    "    else:\n",
    "        imshow(image)"
   ]
  },
  {
   "cell_type": "code",
   "execution_count": 33,
   "metadata": {
    "ExecuteTime": {
     "end_time": "2020-04-17T22:58:15.977636Z",
     "start_time": "2020-04-17T22:58:15.714079Z"
    }
   },
   "outputs": [
    {
     "name": "stdout",
     "output_type": "stream",
     "text": [
      "Label:  [ True False]\n"
     ]
    },
    {
     "data": {
      "image/png": "[encoded data removed]",
      "text/plain": [
       "<Figure size 432x288 with 1 Axes>"
      ]
     },
     "metadata": {
      "needs_background": "light"
     },
     "output_type": "display_data"
    },
    {
     "data": {
      "application/javascript": [
       "\n",
       "            setTimeout(function() {\n",
       "                var nbb_cell_id = 33;\n",
       "                var nbb_unformatted_code = \"for image, label in labeled_train.take(1):\\n    print(\\\"Label: \\\", label.numpy())\\n    show_image(image.numpy(), IMAGE_SIZE, ONE_CHANNEL)\";\n",
       "                var nbb_formatted_code = \"for image, label in labeled_train.take(1):\\n    print(\\\"Label: \\\", label.numpy())\\n    show_image(image.numpy(), IMAGE_SIZE, ONE_CHANNEL)\";\n",
       "                var nbb_cells = Jupyter.notebook.get_cells();\n",
       "                for (var i = 0; i < nbb_cells.length; ++i) {\n",
       "                    if (nbb_cells[i].input_prompt_number == nbb_cell_id) {\n",
       "                        if (nbb_cells[i].get_text() == nbb_unformatted_code) {\n",
       "                             nbb_cells[i].set_text(nbb_formatted_code);\n",
       "                        }\n",
       "                        break;\n",
       "                    }\n",
       "                }\n",
       "            }, 500);\n",
       "            "
      ],
      "text/plain": [
       "<IPython.core.display.Javascript object>"
      ]
     },
     "metadata": {},
     "output_type": "display_data"
    }
   ],
   "source": [
    "for image, label in labeled_train.take(1):\n",
    "    print(\"Label: \", label.numpy())\n",
    "    show_image(image.numpy(), IMAGE_SIZE, ONE_CHANNEL)"
   ]
  },
  {
   "cell_type": "code",
   "execution_count": 34,
   "metadata": {
    "ExecuteTime": {
     "end_time": "2020-04-17T22:58:16.174249Z",
     "start_time": "2020-04-17T22:58:15.979503Z"
    }
   },
   "outputs": [
    {
     "name": "stdout",
     "output_type": "stream",
     "text": [
      "Label:  [ True False]\n"
     ]
    },
    {
     "data": {
      "image/png": "[encoded data removed]",
      "text/plain": [
       "<Figure size 432x288 with 1 Axes>"
      ]
     },
     "metadata": {
      "needs_background": "light"
     },
     "output_type": "display_data"
    },
    {
     "data": {
      "application/javascript": [
       "\n",
       "            setTimeout(function() {\n",
       "                var nbb_cell_id = 34;\n",
       "                var nbb_unformatted_code = \"for image, label in labeled_valid.take(1):\\n    print(\\\"Label: \\\", label.numpy())\\n    show_image(image.numpy(), IMAGE_SIZE, ONE_CHANNEL)\";\n",
       "                var nbb_formatted_code = \"for image, label in labeled_valid.take(1):\\n    print(\\\"Label: \\\", label.numpy())\\n    show_image(image.numpy(), IMAGE_SIZE, ONE_CHANNEL)\";\n",
       "                var nbb_cells = Jupyter.notebook.get_cells();\n",
       "                for (var i = 0; i < nbb_cells.length; ++i) {\n",
       "                    if (nbb_cells[i].input_prompt_number == nbb_cell_id) {\n",
       "                        if (nbb_cells[i].get_text() == nbb_unformatted_code) {\n",
       "                             nbb_cells[i].set_text(nbb_formatted_code);\n",
       "                        }\n",
       "                        break;\n",
       "                    }\n",
       "                }\n",
       "            }, 500);\n",
       "            "
      ],
      "text/plain": [
       "<IPython.core.display.Javascript object>"
      ]
     },
     "metadata": {},
     "output_type": "display_data"
    }
   ],
   "source": [
    "for image, label in labeled_valid.take(1):\n",
    "    print(\"Label: \", label.numpy())\n",
    "    show_image(image.numpy(), IMAGE_SIZE, ONE_CHANNEL)"
   ]
  },
  {
   "cell_type": "code",
   "execution_count": 35,
   "metadata": {
    "ExecuteTime": {
     "end_time": "2020-04-17T22:58:16.180533Z",
     "start_time": "2020-04-17T22:58:16.176103Z"
    }
   },
   "outputs": [
    {
     "data": {
      "application/javascript": [
       "\n",
       "            setTimeout(function() {\n",
       "                var nbb_cell_id = 35;\n",
       "                var nbb_unformatted_code = \"# show_image(X_valid[0], IMAGE_SIZE, ONE_CHANNEL)\";\n",
       "                var nbb_formatted_code = \"# show_image(X_valid[0], IMAGE_SIZE, ONE_CHANNEL)\";\n",
       "                var nbb_cells = Jupyter.notebook.get_cells();\n",
       "                for (var i = 0; i < nbb_cells.length; ++i) {\n",
       "                    if (nbb_cells[i].input_prompt_number == nbb_cell_id) {\n",
       "                        if (nbb_cells[i].get_text() == nbb_unformatted_code) {\n",
       "                             nbb_cells[i].set_text(nbb_formatted_code);\n",
       "                        }\n",
       "                        break;\n",
       "                    }\n",
       "                }\n",
       "            }, 500);\n",
       "            "
      ],
      "text/plain": [
       "<IPython.core.display.Javascript object>"
      ]
     },
     "metadata": {},
     "output_type": "display_data"
    }
   ],
   "source": [
    "# show_image(X_valid[0], IMAGE_SIZE, ONE_CHANNEL)"
   ]
  },
  {
   "cell_type": "code",
   "execution_count": 36,
   "metadata": {
    "ExecuteTime": {
     "end_time": "2020-04-17T22:58:16.241310Z",
     "start_time": "2020-04-17T22:58:16.182255Z"
    }
   },
   "outputs": [
    {
     "data": {
      "application/javascript": [
       "\n",
       "            setTimeout(function() {\n",
       "                var nbb_cell_id = 36;\n",
       "                var nbb_unformatted_code = \"# show_image(X_test[0], IMAGE_SIZE, ONE_CHANNEL)\";\n",
       "                var nbb_formatted_code = \"# show_image(X_test[0], IMAGE_SIZE, ONE_CHANNEL)\";\n",
       "                var nbb_cells = Jupyter.notebook.get_cells();\n",
       "                for (var i = 0; i < nbb_cells.length; ++i) {\n",
       "                    if (nbb_cells[i].input_prompt_number == nbb_cell_id) {\n",
       "                        if (nbb_cells[i].get_text() == nbb_unformatted_code) {\n",
       "                             nbb_cells[i].set_text(nbb_formatted_code);\n",
       "                        }\n",
       "                        break;\n",
       "                    }\n",
       "                }\n",
       "            }, 500);\n",
       "            "
      ],
      "text/plain": [
       "<IPython.core.display.Javascript object>"
      ]
     },
     "metadata": {},
     "output_type": "display_data"
    }
   ],
   "source": [
    "# show_image(X_test[0], IMAGE_SIZE, ONE_CHANNEL)"
   ]
  },
  {
   "cell_type": "markdown",
   "metadata": {},
   "source": [
    "## Training model (transfer learning)"
   ]
  },
  {
   "cell_type": "code",
   "execution_count": 37,
   "metadata": {
    "ExecuteTime": {
     "end_time": "2020-04-17T22:58:16.324786Z",
     "start_time": "2020-04-17T22:58:16.243635Z"
    }
   },
   "outputs": [
    {
     "data": {
      "application/javascript": [
       "\n",
       "            setTimeout(function() {\n",
       "                var nbb_cell_id = 37;\n",
       "                var nbb_unformatted_code = \"epochs_1 = 500\\nepochs_2 = 200\\npatience = 10\\n\\nsteps_per_epoch = np.ceil(train_indices.shape[0] / BATCH_SIZE)\\nsteps_per_epoch_val = np.ceil(valid_indices.shape[0] / BATCH_SIZE)\";\n",
       "                var nbb_formatted_code = \"epochs_1 = 500\\nepochs_2 = 200\\npatience = 10\\n\\nsteps_per_epoch = np.ceil(train_indices.shape[0] / BATCH_SIZE)\\nsteps_per_epoch_val = np.ceil(valid_indices.shape[0] / BATCH_SIZE)\";\n",
       "                var nbb_cells = Jupyter.notebook.get_cells();\n",
       "                for (var i = 0; i < nbb_cells.length; ++i) {\n",
       "                    if (nbb_cells[i].input_prompt_number == nbb_cell_id) {\n",
       "                        if (nbb_cells[i].get_text() == nbb_unformatted_code) {\n",
       "                             nbb_cells[i].set_text(nbb_formatted_code);\n",
       "                        }\n",
       "                        break;\n",
       "                    }\n",
       "                }\n",
       "            }, 500);\n",
       "            "
      ],
      "text/plain": [
       "<IPython.core.display.Javascript object>"
      ]
     },
     "metadata": {},
     "output_type": "display_data"
    }
   ],
   "source": [
    "epochs_1 = 500\n",
    "epochs_2 = 200\n",
    "patience = 1\n",
    "\n",
    "steps_per_epoch = np.ceil(train_indices.shape[0] / BATCH_SIZE)\n",
    "steps_per_epoch_val = np.ceil(valid_indices.shape[0] / BATCH_SIZE)"
   ]
  },
  {
   "cell_type": "markdown",
   "metadata": {},
   "source": [
    "### Creating model, using existing one"
   ]
  },
  {
   "cell_type": "code",
   "execution_count": 38,
   "metadata": {
    "ExecuteTime": {
     "end_time": "2020-04-17T22:58:16.343920Z",
     "start_time": "2020-04-17T22:58:16.326843Z"
    }
   },
   "outputs": [
    {
     "data": {
      "application/javascript": [
       "\n",
       "            setTimeout(function() {\n",
       "                var nbb_cell_id = 38;\n",
       "                var nbb_unformatted_code = \"activation = mish\\noptimizer = Lookahead(RectifiedAdam(), sync_period=6, slow_step_size=0.5)\";\n",
       "                var nbb_formatted_code = \"activation = mish\\noptimizer = Lookahead(RectifiedAdam(), sync_period=6, slow_step_size=0.5)\";\n",
       "                var nbb_cells = Jupyter.notebook.get_cells();\n",
       "                for (var i = 0; i < nbb_cells.length; ++i) {\n",
       "                    if (nbb_cells[i].input_prompt_number == nbb_cell_id) {\n",
       "                        if (nbb_cells[i].get_text() == nbb_unformatted_code) {\n",
       "                             nbb_cells[i].set_text(nbb_formatted_code);\n",
       "                        }\n",
       "                        break;\n",
       "                    }\n",
       "                }\n",
       "            }, 500);\n",
       "            "
      ],
      "text/plain": [
       "<IPython.core.display.Javascript object>"
      ]
     },
     "metadata": {},
     "output_type": "display_data"
    }
   ],
   "source": [
    "activation = mish\n",
    "optimizer = Lookahead(RectifiedAdam(), sync_period=6, slow_step_size=0.5)"
   ]
  },
  {
   "cell_type": "code",
   "execution_count": 39,
   "metadata": {
    "ExecuteTime": {
     "end_time": "2020-04-17T22:58:19.386039Z",
     "start_time": "2020-04-17T22:58:16.346633Z"
    }
   },
   "outputs": [
    {
     "data": {
      "application/javascript": [
       "\n",
       "            setTimeout(function() {\n",
       "                var nbb_cell_id = 39;\n",
       "                var nbb_unformatted_code = \"from tensorflow.keras.applications import (\\n    MobileNetV2,\\n    NASNetLarge,\\n    NASNetMobile,\\n    InceptionV3,\\n)\\n\\nfrom tensorflow.keras.preprocessing import image\\nfrom tensorflow.keras.models import Model\\nfrom tensorflow.keras.layers import (\\n    Dense,\\n    GlobalAveragePooling2D,\\n    BatchNormalization,\\n    Dropout,\\n)\\nfrom tensorflow.keras import backend as K\\n\\nnb_channel = 1 if ONE_CHANNEL else 3\\n# create the base pre-trained model\\n# tf.keras.applications.NASNetMobile\\n# tf.keras.applications.NASNetLarge\\n# base_model = NASNetLarge( # IMAGE_SIZE must be 224\\n#    input_shape=(IMAGE_SIZE, IMAGE_SIZE, nb_channel),\\n#    weights=\\\"imagenet\\\",\\n#    include_top=False,\\n# )\\n\\n# base_model = NASNetLarge( # IMAGE_SIZE must be 331\\n#    input_shape=(IMAGE_SIZE, IMAGE_SIZE, nb_channel),\\n#    weights=\\\"imagenet\\\",\\n#    include_top=False,\\n# )\\nbase_model = MobileNetV2(\\n    input_shape=(IMAGE_SIZE, IMAGE_SIZE, nb_channel),\\n    weights=\\\"imagenet\\\",\\n    include_top=False,\\n)\\n# base_model = InceptionV3(\\n#     input_shape=(IMAGE_SIZE, IMAGE_SIZE, nb_channel),\\n#     weights=\\\"imagenet\\\",\\n#     include_top=False,\\n# )\\n\\n# add a global spatial average pooling layer\\nx = base_model.output\\nx = GlobalAveragePooling2D()(x)\\n# let's add a fully-connected layer\\nx = Dense(1024, activation=activation, kernel_initializer=\\\"he_normal\\\")(x)\\nx = Dropout(0.3)(x)\\n# x = Dense(128, activation=activation, kernel_initializer=\\\"he_normal\\\")(x)\\n# x = Dropout(0.2)(x)\\n\\n# and a logistic layer -- let's say we have 200 classes\\npredictions = Dense(2, activation=\\\"softmax\\\")(x)\\n\\n# this is the model we will train\\nmodel = Model(inputs=base_model.input, outputs=predictions)\\n\\n# first: train only the top layers (which were randomly initialized)\\n# i.e. freeze all convolutional InceptionV3 layers\\nfor layer in base_model.layers:\\n    layer.trainable = False\\n\\n# es.set_model(model)\\n# compile the model (should be done *after* setting layers to non-trainable)\\nes = EarlyStopping(\\n    monitor=\\\"val_loss\\\",\\n    verbose=1,\\n    mode=\\\"min\\\",\\n    patience=patience,\\n    restore_best_weights=True,\\n)\\n# We need to recompile the model for these modifications to take effect\\nes.set_model(model)\\nmodel.compile(optimizer=optimizer, loss=\\\"binary_crossentropy\\\", metrics=[\\\"AUC\\\"])\";\n",
       "                var nbb_formatted_code = \"from tensorflow.keras.applications import (\\n    MobileNetV2,\\n    NASNetLarge,\\n    NASNetMobile,\\n    InceptionV3,\\n)\\n\\nfrom tensorflow.keras.preprocessing import image\\nfrom tensorflow.keras.models import Model\\nfrom tensorflow.keras.layers import (\\n    Dense,\\n    GlobalAveragePooling2D,\\n    BatchNormalization,\\n    Dropout,\\n)\\nfrom tensorflow.keras import backend as K\\n\\nnb_channel = 1 if ONE_CHANNEL else 3\\n# create the base pre-trained model\\n# tf.keras.applications.NASNetMobile\\n# tf.keras.applications.NASNetLarge\\n# base_model = NASNetLarge( # IMAGE_SIZE must be 224\\n#    input_shape=(IMAGE_SIZE, IMAGE_SIZE, nb_channel),\\n#    weights=\\\"imagenet\\\",\\n#    include_top=False,\\n# )\\n\\n# base_model = NASNetLarge( # IMAGE_SIZE must be 331\\n#    input_shape=(IMAGE_SIZE, IMAGE_SIZE, nb_channel),\\n#    weights=\\\"imagenet\\\",\\n#    include_top=False,\\n# )\\nbase_model = MobileNetV2(\\n    input_shape=(IMAGE_SIZE, IMAGE_SIZE, nb_channel),\\n    weights=\\\"imagenet\\\",\\n    include_top=False,\\n)\\n# base_model = InceptionV3(\\n#     input_shape=(IMAGE_SIZE, IMAGE_SIZE, nb_channel),\\n#     weights=\\\"imagenet\\\",\\n#     include_top=False,\\n# )\\n\\n# add a global spatial average pooling layer\\nx = base_model.output\\nx = GlobalAveragePooling2D()(x)\\n# let's add a fully-connected layer\\nx = Dense(1024, activation=activation, kernel_initializer=\\\"he_normal\\\")(x)\\nx = Dropout(0.3)(x)\\n# x = Dense(128, activation=activation, kernel_initializer=\\\"he_normal\\\")(x)\\n# x = Dropout(0.2)(x)\\n\\n# and a logistic layer -- let's say we have 200 classes\\npredictions = Dense(2, activation=\\\"softmax\\\")(x)\\n\\n# this is the model we will train\\nmodel = Model(inputs=base_model.input, outputs=predictions)\\n\\n# first: train only the top layers (which were randomly initialized)\\n# i.e. freeze all convolutional InceptionV3 layers\\nfor layer in base_model.layers:\\n    layer.trainable = False\\n\\n# es.set_model(model)\\n# compile the model (should be done *after* setting layers to non-trainable)\\nes = EarlyStopping(\\n    monitor=\\\"val_loss\\\",\\n    verbose=1,\\n    mode=\\\"min\\\",\\n    patience=patience,\\n    restore_best_weights=True,\\n)\\n# We need to recompile the model for these modifications to take effect\\nes.set_model(model)\\nmodel.compile(optimizer=optimizer, loss=\\\"binary_crossentropy\\\", metrics=[\\\"AUC\\\"])\";\n",
       "                var nbb_cells = Jupyter.notebook.get_cells();\n",
       "                for (var i = 0; i < nbb_cells.length; ++i) {\n",
       "                    if (nbb_cells[i].input_prompt_number == nbb_cell_id) {\n",
       "                        if (nbb_cells[i].get_text() == nbb_unformatted_code) {\n",
       "                             nbb_cells[i].set_text(nbb_formatted_code);\n",
       "                        }\n",
       "                        break;\n",
       "                    }\n",
       "                }\n",
       "            }, 500);\n",
       "            "
      ],
      "text/plain": [
       "<IPython.core.display.Javascript object>"
      ]
     },
     "metadata": {},
     "output_type": "display_data"
    }
   ],
   "source": [
    "from tensorflow.keras.applications import (\n",
    "    MobileNetV2,\n",
    "    NASNetLarge,\n",
    "    NASNetMobile,\n",
    "    InceptionV3,\n",
    ")\n",
    "\n",
    "from tensorflow.keras.preprocessing import image\n",
    "from tensorflow.keras.models import Model\n",
    "from tensorflow.keras.layers import (\n",
    "    Dense,\n",
    "    GlobalAveragePooling2D,\n",
    "    BatchNormalization,\n",
    "    Dropout,\n",
    ")\n",
    "from tensorflow.keras import backend as K\n",
    "\n",
    "nb_channel = 1 if ONE_CHANNEL else 3\n",
    "# create the base pre-trained model\n",
    "# tf.keras.applications.NASNetMobile\n",
    "# tf.keras.applications.NASNetLarge\n",
    "# base_model = NASNetLarge( # IMAGE_SIZE must be 224\n",
    "#    input_shape=(IMAGE_SIZE, IMAGE_SIZE, nb_channel),\n",
    "#    weights=\"imagenet\",\n",
    "#    include_top=False,\n",
    "# )\n",
    "\n",
    "# base_model = NASNetLarge( # IMAGE_SIZE must be 331\n",
    "#    input_shape=(IMAGE_SIZE, IMAGE_SIZE, nb_channel),\n",
    "#    weights=\"imagenet\",\n",
    "#    include_top=False,\n",
    "# )\n",
    "base_model = MobileNetV2(\n",
    "    input_shape=(IMAGE_SIZE, IMAGE_SIZE, nb_channel),\n",
    "    weights=\"imagenet\",\n",
    "    include_top=False,\n",
    ")\n",
    "# base_model = InceptionV3(\n",
    "#     input_shape=(IMAGE_SIZE, IMAGE_SIZE, nb_channel),\n",
    "#     weights=\"imagenet\",\n",
    "#     include_top=False,\n",
    "# )\n",
    "\n",
    "# add a global spatial average pooling layer\n",
    "x = base_model.output\n",
    "x = GlobalAveragePooling2D()(x)\n",
    "# let's add a fully-connected layer\n",
    "x = Dense(1024, activation=activation, kernel_initializer=\"he_normal\")(x)\n",
    "x = Dropout(0.3)(x)\n",
    "# x = Dense(128, activation=activation, kernel_initializer=\"he_normal\")(x)\n",
    "# x = Dropout(0.2)(x)\n",
    "\n",
    "# and a logistic layer -- let's say we have 200 classes\n",
    "predictions = Dense(2, activation=\"softmax\")(x)\n",
    "\n",
    "# this is the model we will train\n",
    "model = Model(inputs=base_model.input, outputs=predictions)\n",
    "\n",
    "# first: train only the top layers (which were randomly initialized)\n",
    "# i.e. freeze all convolutional InceptionV3 layers\n",
    "for layer in base_model.layers:\n",
    "    layer.trainable = False\n",
    "\n",
    "# es.set_model(model)\n",
    "# compile the model (should be done *after* setting layers to non-trainable)\n",
    "es = EarlyStopping(\n",
    "    monitor=\"val_loss\",\n",
    "    verbose=1,\n",
    "    mode=\"min\",\n",
    "    patience=patience,\n",
    "    restore_best_weights=True,\n",
    ")\n",
    "# We need to recompile the model for these modifications to take effect\n",
    "es.set_model(model)\n",
    "model.compile(optimizer=optimizer, loss=\"binary_crossentropy\", metrics=[\"AUC\"])"
   ]
  },
  {
   "cell_type": "markdown",
   "metadata": {},
   "source": [
    "### Fit new layers"
   ]
  },
  {
   "cell_type": "code",
   "execution_count": 40,
   "metadata": {
    "ExecuteTime": {
     "end_time": "2020-04-18T01:07:48.652254Z",
     "start_time": "2020-04-17T22:58:19.389912Z"
    }
   },
   "outputs": [
    {
     "name": "stdout",
     "output_type": "stream",
     "text": [
      "Train for 7441.0 steps, validate for 931.0 steps\n",
      "Epoch 1/500\n",
      "WARNING:tensorflow:From /work/.cache/poetry/thc-net-KQLMmzPP-py3.7/lib/python3.7/site-packages/tensorflow_core/python/ops/resource_variable_ops.py:1786: calling BaseResourceVariable.__init__ (from tensorflow.python.ops.resource_variable_ops) with constraint is deprecated and will be removed in a future version.\n",
      "Instructions for updating:\n",
      "If using Keras pass *_constraint arguments to layers.\n",
      "7441/7441 [==============================] - 710s 95ms/step - loss: 0.1615 - AUC: 0.9655 - val_loss: 0.1575 - val_AUC: 0.9635\n",
      "Epoch 2/500\n",
      "7441/7441 [==============================] - 704s 95ms/step - loss: 0.1582 - AUC: 0.9674 - val_loss: 0.1614 - val_AUC: 0.9643\n",
      "Epoch 3/500\n",
      "7441/7441 [==============================] - 704s 95ms/step - loss: 0.1565 - AUC: 0.9694 - val_loss: 0.1582 - val_AUC: 0.9642\n",
      "Epoch 4/500\n",
      "7441/7441 [==============================] - 706s 95ms/step - loss: 0.1545 - AUC: 0.9715 - val_loss: 0.1812 - val_AUC: 0.9647\n",
      "Epoch 5/500\n",
      "7441/7441 [==============================] - 706s 95ms/step - loss: 0.1520 - AUC: 0.9737 - val_loss: 0.4237 - val_AUC: 0.9602\n",
      "Epoch 6/500\n",
      "7441/7441 [==============================] - 706s 95ms/step - loss: 0.1491 - AUC: 0.9757 - val_loss: 1.1154 - val_AUC: 0.0923\n",
      "Epoch 7/500\n",
      "7441/7441 [==============================] - 705s 95ms/step - loss: 0.1454 - AUC: 0.9778 - val_loss: 1.8613 - val_AUC: 0.0383\n",
      "Epoch 8/500\n",
      "7441/7441 [==============================] - 705s 95ms/step - loss: 0.1418 - AUC: 0.9795 - val_loss: 5.4507 - val_AUC: 0.0369\n",
      "Epoch 9/500\n",
      "7441/7441 [==============================] - 705s 95ms/step - loss: 0.1375 - AUC: 0.9813 - val_loss: 7.7972 - val_AUC: 0.0364\n",
      "Epoch 10/500\n",
      "7441/7441 [==============================] - 713s 96ms/step - loss: 0.1338 - AUC: 0.9827 - val_loss: 9.0132 - val_AUC: 0.0365\n",
      "Epoch 11/500\n",
      "7440/7441 [============================>.] - ETA: 0s - loss: 0.1299 - AUC: 0.9840Restoring model weights from the end of the best epoch.\n",
      "7441/7441 [==============================] - 705s 95ms/step - loss: 0.1299 - AUC: 0.9840 - val_loss: 11.2553 - val_AUC: 0.0366\n",
      "Epoch 00011: early stopping\n",
      "CPU times: user 3h 30s, sys: 20min 11s, total: 3h 20min 41s\n",
      "Wall time: 2h 9min 29s\n"
     ]
    },
    {
     "data": {
      "application/javascript": [
       "\n",
       "            setTimeout(function() {\n",
       "                var nbb_cell_id = 40;\n",
       "                var nbb_unformatted_code = \"%%time\\n# train the model on the new data for a few epochs\\nhistory_1 = model.fit(\\n    dataset_train, \\n    callbacks=[es],\\n    epochs=epochs_1,\\n    steps_per_epoch=steps_per_epoch,\\n    validation_data=dataset_valid,\\n    validation_steps=steps_per_epoch_val\\n)\\n# at this point, the top layers are well trained and we can start fine-tuning\\n# convolutional layers from inception V3. We will freeze the bottom N layers\\n# and train the remaining top layers.\";\n",
       "                var nbb_formatted_code = \"%%time\\n# train the model on the new data for a few epochs\\nhistory_1 = model.fit(\\n    dataset_train, \\n    callbacks=[es],\\n    epochs=epochs_1,\\n    steps_per_epoch=steps_per_epoch,\\n    validation_data=dataset_valid,\\n    validation_steps=steps_per_epoch_val\\n)\\n# at this point, the top layers are well trained and we can start fine-tuning\\n# convolutional layers from inception V3. We will freeze the bottom N layers\\n# and train the remaining top layers.\";\n",
       "                var nbb_cells = Jupyter.notebook.get_cells();\n",
       "                for (var i = 0; i < nbb_cells.length; ++i) {\n",
       "                    if (nbb_cells[i].input_prompt_number == nbb_cell_id) {\n",
       "                        if (nbb_cells[i].get_text() == nbb_unformatted_code) {\n",
       "                             nbb_cells[i].set_text(nbb_formatted_code);\n",
       "                        }\n",
       "                        break;\n",
       "                    }\n",
       "                }\n",
       "            }, 500);\n",
       "            "
      ],
      "text/plain": [
       "<IPython.core.display.Javascript object>"
      ]
     },
     "metadata": {},
     "output_type": "display_data"
    }
   ],
   "source": [
    "%%time\n",
    "# train the model on the new data for a few epochs\n",
    "history_1 = model.fit(\n",
    "    dataset_train, \n",
    "    callbacks=[es],\n",
    "    epochs=epochs_1,\n",
    "    steps_per_epoch=steps_per_epoch,\n",
    "    validation_data=dataset_valid,\n",
    "    validation_steps=steps_per_epoch_val\n",
    ")\n",
    "# at this point, the top layers are well trained and we can start fine-tuning\n",
    "# convolutional layers from inception V3. We will freeze the bottom N layers\n",
    "# and train the remaining top layers."
   ]
  },
  {
   "cell_type": "markdown",
   "metadata": {},
   "source": [
    "### Unfreeze and fit more/all layers"
   ]
  },
  {
   "cell_type": "code",
   "execution_count": 41,
   "metadata": {
    "ExecuteTime": {
     "end_time": "2020-04-18T01:07:48.704812Z",
     "start_time": "2020-04-18T01:07:48.654436Z"
    }
   },
   "outputs": [
    {
     "name": "stdout",
     "output_type": "stream",
     "text": [
      "Model: \"model\"\n",
      "__________________________________________________________________________________________________\n",
      "Layer (type)                    Output Shape         Param #     Connected to                     \n",
      "==================================================================================================\n",
      "input_1 (InputLayer)            [(None, 224, 224, 3) 0                                            \n",
      "__________________________________________________________________________________________________\n",
      "Conv1_pad (ZeroPadding2D)       (None, 225, 225, 3)  0           input_1[0][0]                    \n",
      "__________________________________________________________________________________________________\n",
      "Conv1 (Conv2D)                  (None, 112, 112, 32) 864         Conv1_pad[0][0]                  \n",
      "__________________________________________________________________________________________________\n",
      "bn_Conv1 (BatchNormalization)   (None, 112, 112, 32) 128         Conv1[0][0]                      \n",
      "__________________________________________________________________________________________________\n",
      "Conv1_relu (ReLU)               (None, 112, 112, 32) 0           bn_Conv1[0][0]                   \n",
      "__________________________________________________________________________________________________\n",
      "expanded_conv_depthwise (Depthw (None, 112, 112, 32) 288         Conv1_relu[0][0]                 \n",
      "__________________________________________________________________________________________________\n",
      "expanded_conv_depthwise_BN (Bat (None, 112, 112, 32) 128         expanded_conv_depthwise[0][0]    \n",
      "__________________________________________________________________________________________________\n",
      "expanded_conv_depthwise_relu (R (None, 112, 112, 32) 0           expanded_conv_depthwise_BN[0][0] \n",
      "__________________________________________________________________________________________________\n",
      "expanded_conv_project (Conv2D)  (None, 112, 112, 16) 512         expanded_conv_depthwise_relu[0][0\n",
      "__________________________________________________________________________________________________\n",
      "expanded_conv_project_BN (Batch (None, 112, 112, 16) 64          expanded_conv_project[0][0]      \n",
      "__________________________________________________________________________________________________\n",
      "block_1_expand (Conv2D)         (None, 112, 112, 96) 1536        expanded_conv_project_BN[0][0]   \n",
      "__________________________________________________________________________________________________\n",
      "block_1_expand_BN (BatchNormali (None, 112, 112, 96) 384         block_1_expand[0][0]             \n",
      "__________________________________________________________________________________________________\n",
      "block_1_expand_relu (ReLU)      (None, 112, 112, 96) 0           block_1_expand_BN[0][0]          \n",
      "__________________________________________________________________________________________________\n",
      "block_1_pad (ZeroPadding2D)     (None, 113, 113, 96) 0           block_1_expand_relu[0][0]        \n",
      "__________________________________________________________________________________________________\n",
      "block_1_depthwise (DepthwiseCon (None, 56, 56, 96)   864         block_1_pad[0][0]                \n",
      "__________________________________________________________________________________________________\n",
      "block_1_depthwise_BN (BatchNorm (None, 56, 56, 96)   384         block_1_depthwise[0][0]          \n",
      "__________________________________________________________________________________________________\n",
      "block_1_depthwise_relu (ReLU)   (None, 56, 56, 96)   0           block_1_depthwise_BN[0][0]       \n",
      "__________________________________________________________________________________________________\n",
      "block_1_project (Conv2D)        (None, 56, 56, 24)   2304        block_1_depthwise_relu[0][0]     \n",
      "__________________________________________________________________________________________________\n",
      "block_1_project_BN (BatchNormal (None, 56, 56, 24)   96          block_1_project[0][0]            \n",
      "__________________________________________________________________________________________________\n",
      "block_2_expand (Conv2D)         (None, 56, 56, 144)  3456        block_1_project_BN[0][0]         \n",
      "__________________________________________________________________________________________________\n",
      "block_2_expand_BN (BatchNormali (None, 56, 56, 144)  576         block_2_expand[0][0]             \n",
      "__________________________________________________________________________________________________\n",
      "block_2_expand_relu (ReLU)      (None, 56, 56, 144)  0           block_2_expand_BN[0][0]          \n",
      "__________________________________________________________________________________________________\n",
      "block_2_depthwise (DepthwiseCon (None, 56, 56, 144)  1296        block_2_expand_relu[0][0]        \n",
      "__________________________________________________________________________________________________\n",
      "block_2_depthwise_BN (BatchNorm (None, 56, 56, 144)  576         block_2_depthwise[0][0]          \n",
      "__________________________________________________________________________________________________\n",
      "block_2_depthwise_relu (ReLU)   (None, 56, 56, 144)  0           block_2_depthwise_BN[0][0]       \n",
      "__________________________________________________________________________________________________\n",
      "block_2_project (Conv2D)        (None, 56, 56, 24)   3456        block_2_depthwise_relu[0][0]     \n",
      "__________________________________________________________________________________________________\n",
      "block_2_project_BN (BatchNormal (None, 56, 56, 24)   96          block_2_project[0][0]            \n",
      "__________________________________________________________________________________________________\n",
      "block_2_add (Add)               (None, 56, 56, 24)   0           block_1_project_BN[0][0]         \n",
      "                                                                 block_2_project_BN[0][0]         \n",
      "__________________________________________________________________________________________________\n",
      "block_3_expand (Conv2D)         (None, 56, 56, 144)  3456        block_2_add[0][0]                \n",
      "__________________________________________________________________________________________________\n",
      "block_3_expand_BN (BatchNormali (None, 56, 56, 144)  576         block_3_expand[0][0]             \n",
      "__________________________________________________________________________________________________\n",
      "block_3_expand_relu (ReLU)      (None, 56, 56, 144)  0           block_3_expand_BN[0][0]          \n",
      "__________________________________________________________________________________________________\n",
      "block_3_pad (ZeroPadding2D)     (None, 57, 57, 144)  0           block_3_expand_relu[0][0]        \n",
      "__________________________________________________________________________________________________\n",
      "block_3_depthwise (DepthwiseCon (None, 28, 28, 144)  1296        block_3_pad[0][0]                \n",
      "__________________________________________________________________________________________________\n",
      "block_3_depthwise_BN (BatchNorm (None, 28, 28, 144)  576         block_3_depthwise[0][0]          \n",
      "__________________________________________________________________________________________________\n",
      "block_3_depthwise_relu (ReLU)   (None, 28, 28, 144)  0           block_3_depthwise_BN[0][0]       \n",
      "__________________________________________________________________________________________________\n",
      "block_3_project (Conv2D)        (None, 28, 28, 32)   4608        block_3_depthwise_relu[0][0]     \n",
      "__________________________________________________________________________________________________\n",
      "block_3_project_BN (BatchNormal (None, 28, 28, 32)   128         block_3_project[0][0]            \n",
      "__________________________________________________________________________________________________\n",
      "block_4_expand (Conv2D)         (None, 28, 28, 192)  6144        block_3_project_BN[0][0]         \n",
      "__________________________________________________________________________________________________\n",
      "block_4_expand_BN (BatchNormali (None, 28, 28, 192)  768         block_4_expand[0][0]             \n",
      "__________________________________________________________________________________________________\n",
      "block_4_expand_relu (ReLU)      (None, 28, 28, 192)  0           block_4_expand_BN[0][0]          \n",
      "__________________________________________________________________________________________________\n",
      "block_4_depthwise (DepthwiseCon (None, 28, 28, 192)  1728        block_4_expand_relu[0][0]        \n",
      "__________________________________________________________________________________________________\n",
      "block_4_depthwise_BN (BatchNorm (None, 28, 28, 192)  768         block_4_depthwise[0][0]          \n",
      "__________________________________________________________________________________________________\n",
      "block_4_depthwise_relu (ReLU)   (None, 28, 28, 192)  0           block_4_depthwise_BN[0][0]       \n",
      "__________________________________________________________________________________________________\n",
      "block_4_project (Conv2D)        (None, 28, 28, 32)   6144        block_4_depthwise_relu[0][0]     \n",
      "__________________________________________________________________________________________________\n",
      "block_4_project_BN (BatchNormal (None, 28, 28, 32)   128         block_4_project[0][0]            \n",
      "__________________________________________________________________________________________________\n",
      "block_4_add (Add)               (None, 28, 28, 32)   0           block_3_project_BN[0][0]         \n",
      "                                                                 block_4_project_BN[0][0]         \n",
      "__________________________________________________________________________________________________\n",
      "block_5_expand (Conv2D)         (None, 28, 28, 192)  6144        block_4_add[0][0]                \n",
      "__________________________________________________________________________________________________\n",
      "block_5_expand_BN (BatchNormali (None, 28, 28, 192)  768         block_5_expand[0][0]             \n",
      "__________________________________________________________________________________________________\n",
      "block_5_expand_relu (ReLU)      (None, 28, 28, 192)  0           block_5_expand_BN[0][0]          \n",
      "__________________________________________________________________________________________________\n",
      "block_5_depthwise (DepthwiseCon (None, 28, 28, 192)  1728        block_5_expand_relu[0][0]        \n",
      "__________________________________________________________________________________________________\n",
      "block_5_depthwise_BN (BatchNorm (None, 28, 28, 192)  768         block_5_depthwise[0][0]          \n",
      "__________________________________________________________________________________________________\n",
      "block_5_depthwise_relu (ReLU)   (None, 28, 28, 192)  0           block_5_depthwise_BN[0][0]       \n",
      "__________________________________________________________________________________________________\n",
      "block_5_project (Conv2D)        (None, 28, 28, 32)   6144        block_5_depthwise_relu[0][0]     \n",
      "__________________________________________________________________________________________________\n",
      "block_5_project_BN (BatchNormal (None, 28, 28, 32)   128         block_5_project[0][0]            \n",
      "__________________________________________________________________________________________________\n",
      "block_5_add (Add)               (None, 28, 28, 32)   0           block_4_add[0][0]                \n",
      "                                                                 block_5_project_BN[0][0]         \n",
      "__________________________________________________________________________________________________\n",
      "block_6_expand (Conv2D)         (None, 28, 28, 192)  6144        block_5_add[0][0]                \n",
      "__________________________________________________________________________________________________\n",
      "block_6_expand_BN (BatchNormali (None, 28, 28, 192)  768         block_6_expand[0][0]             \n",
      "__________________________________________________________________________________________________\n",
      "block_6_expand_relu (ReLU)      (None, 28, 28, 192)  0           block_6_expand_BN[0][0]          \n",
      "__________________________________________________________________________________________________\n",
      "block_6_pad (ZeroPadding2D)     (None, 29, 29, 192)  0           block_6_expand_relu[0][0]        \n",
      "__________________________________________________________________________________________________\n",
      "block_6_depthwise (DepthwiseCon (None, 14, 14, 192)  1728        block_6_pad[0][0]                \n",
      "__________________________________________________________________________________________________\n",
      "block_6_depthwise_BN (BatchNorm (None, 14, 14, 192)  768         block_6_depthwise[0][0]          \n",
      "__________________________________________________________________________________________________\n",
      "block_6_depthwise_relu (ReLU)   (None, 14, 14, 192)  0           block_6_depthwise_BN[0][0]       \n",
      "__________________________________________________________________________________________________\n",
      "block_6_project (Conv2D)        (None, 14, 14, 64)   12288       block_6_depthwise_relu[0][0]     \n",
      "__________________________________________________________________________________________________\n",
      "block_6_project_BN (BatchNormal (None, 14, 14, 64)   256         block_6_project[0][0]            \n",
      "__________________________________________________________________________________________________\n",
      "block_7_expand (Conv2D)         (None, 14, 14, 384)  24576       block_6_project_BN[0][0]         \n",
      "__________________________________________________________________________________________________\n",
      "block_7_expand_BN (BatchNormali (None, 14, 14, 384)  1536        block_7_expand[0][0]             \n",
      "__________________________________________________________________________________________________\n",
      "block_7_expand_relu (ReLU)      (None, 14, 14, 384)  0           block_7_expand_BN[0][0]          \n",
      "__________________________________________________________________________________________________\n",
      "block_7_depthwise (DepthwiseCon (None, 14, 14, 384)  3456        block_7_expand_relu[0][0]        \n",
      "__________________________________________________________________________________________________\n",
      "block_7_depthwise_BN (BatchNorm (None, 14, 14, 384)  1536        block_7_depthwise[0][0]          \n",
      "__________________________________________________________________________________________________\n",
      "block_7_depthwise_relu (ReLU)   (None, 14, 14, 384)  0           block_7_depthwise_BN[0][0]       \n",
      "__________________________________________________________________________________________________\n",
      "block_7_project (Conv2D)        (None, 14, 14, 64)   24576       block_7_depthwise_relu[0][0]     \n",
      "__________________________________________________________________________________________________\n",
      "block_7_project_BN (BatchNormal (None, 14, 14, 64)   256         block_7_project[0][0]            \n",
      "__________________________________________________________________________________________________\n",
      "block_7_add (Add)               (None, 14, 14, 64)   0           block_6_project_BN[0][0]         \n",
      "                                                                 block_7_project_BN[0][0]         \n",
      "__________________________________________________________________________________________________\n",
      "block_8_expand (Conv2D)         (None, 14, 14, 384)  24576       block_7_add[0][0]                \n",
      "__________________________________________________________________________________________________\n",
      "block_8_expand_BN (BatchNormali (None, 14, 14, 384)  1536        block_8_expand[0][0]             \n",
      "__________________________________________________________________________________________________\n",
      "block_8_expand_relu (ReLU)      (None, 14, 14, 384)  0           block_8_expand_BN[0][0]          \n",
      "__________________________________________________________________________________________________\n",
      "block_8_depthwise (DepthwiseCon (None, 14, 14, 384)  3456        block_8_expand_relu[0][0]        \n",
      "__________________________________________________________________________________________________\n",
      "block_8_depthwise_BN (BatchNorm (None, 14, 14, 384)  1536        block_8_depthwise[0][0]          \n",
      "__________________________________________________________________________________________________\n",
      "block_8_depthwise_relu (ReLU)   (None, 14, 14, 384)  0           block_8_depthwise_BN[0][0]       \n",
      "__________________________________________________________________________________________________\n",
      "block_8_project (Conv2D)        (None, 14, 14, 64)   24576       block_8_depthwise_relu[0][0]     \n",
      "__________________________________________________________________________________________________\n",
      "block_8_project_BN (BatchNormal (None, 14, 14, 64)   256         block_8_project[0][0]            \n",
      "__________________________________________________________________________________________________\n",
      "block_8_add (Add)               (None, 14, 14, 64)   0           block_7_add[0][0]                \n",
      "                                                                 block_8_project_BN[0][0]         \n",
      "__________________________________________________________________________________________________\n",
      "block_9_expand (Conv2D)         (None, 14, 14, 384)  24576       block_8_add[0][0]                \n",
      "__________________________________________________________________________________________________\n",
      "block_9_expand_BN (BatchNormali (None, 14, 14, 384)  1536        block_9_expand[0][0]             \n",
      "__________________________________________________________________________________________________\n",
      "block_9_expand_relu (ReLU)      (None, 14, 14, 384)  0           block_9_expand_BN[0][0]          \n",
      "__________________________________________________________________________________________________\n",
      "block_9_depthwise (DepthwiseCon (None, 14, 14, 384)  3456        block_9_expand_relu[0][0]        \n",
      "__________________________________________________________________________________________________\n",
      "block_9_depthwise_BN (BatchNorm (None, 14, 14, 384)  1536        block_9_depthwise[0][0]          \n",
      "__________________________________________________________________________________________________\n",
      "block_9_depthwise_relu (ReLU)   (None, 14, 14, 384)  0           block_9_depthwise_BN[0][0]       \n",
      "__________________________________________________________________________________________________\n",
      "block_9_project (Conv2D)        (None, 14, 14, 64)   24576       block_9_depthwise_relu[0][0]     \n",
      "__________________________________________________________________________________________________\n",
      "block_9_project_BN (BatchNormal (None, 14, 14, 64)   256         block_9_project[0][0]            \n",
      "__________________________________________________________________________________________________\n",
      "block_9_add (Add)               (None, 14, 14, 64)   0           block_8_add[0][0]                \n",
      "                                                                 block_9_project_BN[0][0]         \n",
      "__________________________________________________________________________________________________\n",
      "block_10_expand (Conv2D)        (None, 14, 14, 384)  24576       block_9_add[0][0]                \n",
      "__________________________________________________________________________________________________\n",
      "block_10_expand_BN (BatchNormal (None, 14, 14, 384)  1536        block_10_expand[0][0]            \n",
      "__________________________________________________________________________________________________\n",
      "block_10_expand_relu (ReLU)     (None, 14, 14, 384)  0           block_10_expand_BN[0][0]         \n",
      "__________________________________________________________________________________________________\n",
      "block_10_depthwise (DepthwiseCo (None, 14, 14, 384)  3456        block_10_expand_relu[0][0]       \n",
      "__________________________________________________________________________________________________\n",
      "block_10_depthwise_BN (BatchNor (None, 14, 14, 384)  1536        block_10_depthwise[0][0]         \n",
      "__________________________________________________________________________________________________\n",
      "block_10_depthwise_relu (ReLU)  (None, 14, 14, 384)  0           block_10_depthwise_BN[0][0]      \n",
      "__________________________________________________________________________________________________\n",
      "block_10_project (Conv2D)       (None, 14, 14, 96)   36864       block_10_depthwise_relu[0][0]    \n",
      "__________________________________________________________________________________________________\n",
      "block_10_project_BN (BatchNorma (None, 14, 14, 96)   384         block_10_project[0][0]           \n",
      "__________________________________________________________________________________________________\n",
      "block_11_expand (Conv2D)        (None, 14, 14, 576)  55296       block_10_project_BN[0][0]        \n",
      "__________________________________________________________________________________________________\n",
      "block_11_expand_BN (BatchNormal (None, 14, 14, 576)  2304        block_11_expand[0][0]            \n",
      "__________________________________________________________________________________________________\n",
      "block_11_expand_relu (ReLU)     (None, 14, 14, 576)  0           block_11_expand_BN[0][0]         \n",
      "__________________________________________________________________________________________________\n",
      "block_11_depthwise (DepthwiseCo (None, 14, 14, 576)  5184        block_11_expand_relu[0][0]       \n",
      "__________________________________________________________________________________________________\n",
      "block_11_depthwise_BN (BatchNor (None, 14, 14, 576)  2304        block_11_depthwise[0][0]         \n",
      "__________________________________________________________________________________________________\n",
      "block_11_depthwise_relu (ReLU)  (None, 14, 14, 576)  0           block_11_depthwise_BN[0][0]      \n",
      "__________________________________________________________________________________________________\n",
      "block_11_project (Conv2D)       (None, 14, 14, 96)   55296       block_11_depthwise_relu[0][0]    \n",
      "__________________________________________________________________________________________________\n",
      "block_11_project_BN (BatchNorma (None, 14, 14, 96)   384         block_11_project[0][0]           \n",
      "__________________________________________________________________________________________________\n",
      "block_11_add (Add)              (None, 14, 14, 96)   0           block_10_project_BN[0][0]        \n",
      "                                                                 block_11_project_BN[0][0]        \n",
      "__________________________________________________________________________________________________\n",
      "block_12_expand (Conv2D)        (None, 14, 14, 576)  55296       block_11_add[0][0]               \n",
      "__________________________________________________________________________________________________\n",
      "block_12_expand_BN (BatchNormal (None, 14, 14, 576)  2304        block_12_expand[0][0]            \n",
      "__________________________________________________________________________________________________\n",
      "block_12_expand_relu (ReLU)     (None, 14, 14, 576)  0           block_12_expand_BN[0][0]         \n",
      "__________________________________________________________________________________________________\n",
      "block_12_depthwise (DepthwiseCo (None, 14, 14, 576)  5184        block_12_expand_relu[0][0]       \n",
      "__________________________________________________________________________________________________\n",
      "block_12_depthwise_BN (BatchNor (None, 14, 14, 576)  2304        block_12_depthwise[0][0]         \n",
      "__________________________________________________________________________________________________\n",
      "block_12_depthwise_relu (ReLU)  (None, 14, 14, 576)  0           block_12_depthwise_BN[0][0]      \n",
      "__________________________________________________________________________________________________\n",
      "block_12_project (Conv2D)       (None, 14, 14, 96)   55296       block_12_depthwise_relu[0][0]    \n",
      "__________________________________________________________________________________________________\n",
      "block_12_project_BN (BatchNorma (None, 14, 14, 96)   384         block_12_project[0][0]           \n",
      "__________________________________________________________________________________________________\n",
      "block_12_add (Add)              (None, 14, 14, 96)   0           block_11_add[0][0]               \n",
      "                                                                 block_12_project_BN[0][0]        \n",
      "__________________________________________________________________________________________________\n",
      "block_13_expand (Conv2D)        (None, 14, 14, 576)  55296       block_12_add[0][0]               \n",
      "__________________________________________________________________________________________________\n",
      "block_13_expand_BN (BatchNormal (None, 14, 14, 576)  2304        block_13_expand[0][0]            \n",
      "__________________________________________________________________________________________________\n",
      "block_13_expand_relu (ReLU)     (None, 14, 14, 576)  0           block_13_expand_BN[0][0]         \n",
      "__________________________________________________________________________________________________\n",
      "block_13_pad (ZeroPadding2D)    (None, 15, 15, 576)  0           block_13_expand_relu[0][0]       \n",
      "__________________________________________________________________________________________________\n",
      "block_13_depthwise (DepthwiseCo (None, 7, 7, 576)    5184        block_13_pad[0][0]               \n",
      "__________________________________________________________________________________________________\n",
      "block_13_depthwise_BN (BatchNor (None, 7, 7, 576)    2304        block_13_depthwise[0][0]         \n",
      "__________________________________________________________________________________________________\n",
      "block_13_depthwise_relu (ReLU)  (None, 7, 7, 576)    0           block_13_depthwise_BN[0][0]      \n",
      "__________________________________________________________________________________________________\n",
      "block_13_project (Conv2D)       (None, 7, 7, 160)    92160       block_13_depthwise_relu[0][0]    \n",
      "__________________________________________________________________________________________________\n",
      "block_13_project_BN (BatchNorma (None, 7, 7, 160)    640         block_13_project[0][0]           \n",
      "__________________________________________________________________________________________________\n",
      "block_14_expand (Conv2D)        (None, 7, 7, 960)    153600      block_13_project_BN[0][0]        \n",
      "__________________________________________________________________________________________________\n",
      "block_14_expand_BN (BatchNormal (None, 7, 7, 960)    3840        block_14_expand[0][0]            \n",
      "__________________________________________________________________________________________________\n",
      "block_14_expand_relu (ReLU)     (None, 7, 7, 960)    0           block_14_expand_BN[0][0]         \n",
      "__________________________________________________________________________________________________\n",
      "block_14_depthwise (DepthwiseCo (None, 7, 7, 960)    8640        block_14_expand_relu[0][0]       \n",
      "__________________________________________________________________________________________________\n",
      "block_14_depthwise_BN (BatchNor (None, 7, 7, 960)    3840        block_14_depthwise[0][0]         \n",
      "__________________________________________________________________________________________________\n",
      "block_14_depthwise_relu (ReLU)  (None, 7, 7, 960)    0           block_14_depthwise_BN[0][0]      \n",
      "__________________________________________________________________________________________________\n",
      "block_14_project (Conv2D)       (None, 7, 7, 160)    153600      block_14_depthwise_relu[0][0]    \n",
      "__________________________________________________________________________________________________\n",
      "block_14_project_BN (BatchNorma (None, 7, 7, 160)    640         block_14_project[0][0]           \n",
      "__________________________________________________________________________________________________\n",
      "block_14_add (Add)              (None, 7, 7, 160)    0           block_13_project_BN[0][0]        \n",
      "                                                                 block_14_project_BN[0][0]        \n",
      "__________________________________________________________________________________________________\n",
      "block_15_expand (Conv2D)        (None, 7, 7, 960)    153600      block_14_add[0][0]               \n",
      "__________________________________________________________________________________________________\n",
      "block_15_expand_BN (BatchNormal (None, 7, 7, 960)    3840        block_15_expand[0][0]            \n",
      "__________________________________________________________________________________________________\n",
      "block_15_expand_relu (ReLU)     (None, 7, 7, 960)    0           block_15_expand_BN[0][0]         \n",
      "__________________________________________________________________________________________________\n",
      "block_15_depthwise (DepthwiseCo (None, 7, 7, 960)    8640        block_15_expand_relu[0][0]       \n",
      "__________________________________________________________________________________________________\n",
      "block_15_depthwise_BN (BatchNor (None, 7, 7, 960)    3840        block_15_depthwise[0][0]         \n",
      "__________________________________________________________________________________________________\n",
      "block_15_depthwise_relu (ReLU)  (None, 7, 7, 960)    0           block_15_depthwise_BN[0][0]      \n",
      "__________________________________________________________________________________________________\n",
      "block_15_project (Conv2D)       (None, 7, 7, 160)    153600      block_15_depthwise_relu[0][0]    \n",
      "__________________________________________________________________________________________________\n",
      "block_15_project_BN (BatchNorma (None, 7, 7, 160)    640         block_15_project[0][0]           \n",
      "__________________________________________________________________________________________________\n",
      "block_15_add (Add)              (None, 7, 7, 160)    0           block_14_add[0][0]               \n",
      "                                                                 block_15_project_BN[0][0]        \n",
      "__________________________________________________________________________________________________\n",
      "block_16_expand (Conv2D)        (None, 7, 7, 960)    153600      block_15_add[0][0]               \n",
      "__________________________________________________________________________________________________\n",
      "block_16_expand_BN (BatchNormal (None, 7, 7, 960)    3840        block_16_expand[0][0]            \n",
      "__________________________________________________________________________________________________\n",
      "block_16_expand_relu (ReLU)     (None, 7, 7, 960)    0           block_16_expand_BN[0][0]         \n",
      "__________________________________________________________________________________________________\n",
      "block_16_depthwise (DepthwiseCo (None, 7, 7, 960)    8640        block_16_expand_relu[0][0]       \n",
      "__________________________________________________________________________________________________\n",
      "block_16_depthwise_BN (BatchNor (None, 7, 7, 960)    3840        block_16_depthwise[0][0]         \n",
      "__________________________________________________________________________________________________\n",
      "block_16_depthwise_relu (ReLU)  (None, 7, 7, 960)    0           block_16_depthwise_BN[0][0]      \n",
      "__________________________________________________________________________________________________\n",
      "block_16_project (Conv2D)       (None, 7, 7, 320)    307200      block_16_depthwise_relu[0][0]    \n",
      "__________________________________________________________________________________________________\n",
      "block_16_project_BN (BatchNorma (None, 7, 7, 320)    1280        block_16_project[0][0]           \n",
      "__________________________________________________________________________________________________\n",
      "Conv_1 (Conv2D)                 (None, 7, 7, 1280)   409600      block_16_project_BN[0][0]        \n",
      "__________________________________________________________________________________________________\n",
      "Conv_1_bn (BatchNormalization)  (None, 7, 7, 1280)   5120        Conv_1[0][0]                     \n",
      "__________________________________________________________________________________________________\n",
      "out_relu (ReLU)                 (None, 7, 7, 1280)   0           Conv_1_bn[0][0]                  \n",
      "__________________________________________________________________________________________________\n",
      "global_average_pooling2d (Globa (None, 1280)         0           out_relu[0][0]                   \n",
      "__________________________________________________________________________________________________\n",
      "dense (Dense)                   (None, 1024)         1311744     global_average_pooling2d[0][0]   \n",
      "__________________________________________________________________________________________________\n",
      "dropout (Dropout)               (None, 1024)         0           dense[0][0]                      \n",
      "__________________________________________________________________________________________________\n",
      "dense_1 (Dense)                 (None, 2)            2050        dropout[0][0]                    \n",
      "==================================================================================================\n",
      "Total params: 3,571,778\n",
      "Trainable params: 1,313,794\n",
      "Non-trainable params: 2,257,984\n",
      "__________________________________________________________________________________________________\n"
     ]
    },
    {
     "data": {
      "application/javascript": [
       "\n",
       "            setTimeout(function() {\n",
       "                var nbb_cell_id = 41;\n",
       "                var nbb_unformatted_code = \"model.summary()\";\n",
       "                var nbb_formatted_code = \"model.summary()\";\n",
       "                var nbb_cells = Jupyter.notebook.get_cells();\n",
       "                for (var i = 0; i < nbb_cells.length; ++i) {\n",
       "                    if (nbb_cells[i].input_prompt_number == nbb_cell_id) {\n",
       "                        if (nbb_cells[i].get_text() == nbb_unformatted_code) {\n",
       "                             nbb_cells[i].set_text(nbb_formatted_code);\n",
       "                        }\n",
       "                        break;\n",
       "                    }\n",
       "                }\n",
       "            }, 500);\n",
       "            "
      ],
      "text/plain": [
       "<IPython.core.display.Javascript object>"
      ]
     },
     "metadata": {},
     "output_type": "display_data"
    }
   ],
   "source": [
    "model.summary()"
   ]
  },
  {
   "cell_type": "code",
   "execution_count": 42,
   "metadata": {
    "ExecuteTime": {
     "end_time": "2020-04-18T01:07:48.965493Z",
     "start_time": "2020-04-18T01:07:48.706673Z"
    }
   },
   "outputs": [
    {
     "name": "stdout",
     "output_type": "stream",
     "text": [
      "0 input_1\n",
      "1 Conv1_pad\n",
      "2 Conv1\n",
      "3 bn_Conv1\n",
      "4 Conv1_relu\n",
      "5 expanded_conv_depthwise\n",
      "6 expanded_conv_depthwise_BN\n",
      "7 expanded_conv_depthwise_relu\n",
      "8 expanded_conv_project\n",
      "9 expanded_conv_project_BN\n",
      "10 block_1_expand\n",
      "11 block_1_expand_BN\n",
      "12 block_1_expand_relu\n",
      "13 block_1_pad\n",
      "14 block_1_depthwise\n",
      "15 block_1_depthwise_BN\n",
      "16 block_1_depthwise_relu\n",
      "17 block_1_project\n",
      "18 block_1_project_BN\n",
      "19 block_2_expand\n",
      "20 block_2_expand_BN\n",
      "21 block_2_expand_relu\n",
      "22 block_2_depthwise\n",
      "23 block_2_depthwise_BN\n",
      "24 block_2_depthwise_relu\n",
      "25 block_2_project\n",
      "26 block_2_project_BN\n",
      "27 block_2_add\n",
      "28 block_3_expand\n",
      "29 block_3_expand_BN\n",
      "30 block_3_expand_relu\n",
      "31 block_3_pad\n",
      "32 block_3_depthwise\n",
      "33 block_3_depthwise_BN\n",
      "34 block_3_depthwise_relu\n",
      "35 block_3_project\n",
      "36 block_3_project_BN\n",
      "37 block_4_expand\n",
      "38 block_4_expand_BN\n",
      "39 block_4_expand_relu\n",
      "40 block_4_depthwise\n",
      "41 block_4_depthwise_BN\n",
      "42 block_4_depthwise_relu\n",
      "43 block_4_project\n",
      "44 block_4_project_BN\n",
      "45 block_4_add\n",
      "46 block_5_expand\n",
      "47 block_5_expand_BN\n",
      "48 block_5_expand_relu\n",
      "49 block_5_depthwise\n",
      "50 block_5_depthwise_BN\n",
      "51 block_5_depthwise_relu\n",
      "52 block_5_project\n",
      "53 block_5_project_BN\n",
      "54 block_5_add\n",
      "55 block_6_expand\n",
      "56 block_6_expand_BN\n",
      "57 block_6_expand_relu\n",
      "58 block_6_pad\n",
      "59 block_6_depthwise\n",
      "60 block_6_depthwise_BN\n",
      "61 block_6_depthwise_relu\n",
      "62 block_6_project\n",
      "63 block_6_project_BN\n",
      "64 block_7_expand\n",
      "65 block_7_expand_BN\n",
      "66 block_7_expand_relu\n",
      "67 block_7_depthwise\n",
      "68 block_7_depthwise_BN\n",
      "69 block_7_depthwise_relu\n",
      "70 block_7_project\n",
      "71 block_7_project_BN\n",
      "72 block_7_add\n",
      "73 block_8_expand\n",
      "74 block_8_expand_BN\n",
      "75 block_8_expand_relu\n",
      "76 block_8_depthwise\n",
      "77 block_8_depthwise_BN\n",
      "78 block_8_depthwise_relu\n",
      "79 block_8_project\n",
      "80 block_8_project_BN\n",
      "81 block_8_add\n",
      "82 block_9_expand\n",
      "83 block_9_expand_BN\n",
      "84 block_9_expand_relu\n",
      "85 block_9_depthwise\n",
      "86 block_9_depthwise_BN\n",
      "87 block_9_depthwise_relu\n",
      "88 block_9_project\n",
      "89 block_9_project_BN\n",
      "90 block_9_add\n",
      "91 block_10_expand\n",
      "92 block_10_expand_BN\n",
      "93 block_10_expand_relu\n",
      "94 block_10_depthwise\n",
      "95 block_10_depthwise_BN\n",
      "96 block_10_depthwise_relu\n",
      "97 block_10_project\n",
      "98 block_10_project_BN\n",
      "99 block_11_expand\n",
      "100 block_11_expand_BN\n",
      "101 block_11_expand_relu\n",
      "102 block_11_depthwise\n",
      "103 block_11_depthwise_BN\n",
      "104 block_11_depthwise_relu\n",
      "105 block_11_project\n",
      "106 block_11_project_BN\n",
      "107 block_11_add\n",
      "108 block_12_expand\n",
      "109 block_12_expand_BN\n",
      "110 block_12_expand_relu\n",
      "111 block_12_depthwise\n",
      "112 block_12_depthwise_BN\n",
      "113 block_12_depthwise_relu\n",
      "114 block_12_project\n",
      "115 block_12_project_BN\n",
      "116 block_12_add\n",
      "117 block_13_expand\n",
      "118 block_13_expand_BN\n",
      "119 block_13_expand_relu\n",
      "120 block_13_pad\n",
      "121 block_13_depthwise\n",
      "122 block_13_depthwise_BN\n",
      "123 block_13_depthwise_relu\n",
      "124 block_13_project\n",
      "125 block_13_project_BN\n",
      "126 block_14_expand\n",
      "127 block_14_expand_BN\n",
      "128 block_14_expand_relu\n",
      "129 block_14_depthwise\n",
      "130 block_14_depthwise_BN\n",
      "131 block_14_depthwise_relu\n",
      "132 block_14_project\n",
      "133 block_14_project_BN\n",
      "134 block_14_add\n",
      "135 block_15_expand\n",
      "136 block_15_expand_BN\n",
      "137 block_15_expand_relu\n",
      "138 block_15_depthwise\n",
      "139 block_15_depthwise_BN\n",
      "140 block_15_depthwise_relu\n",
      "141 block_15_project\n",
      "142 block_15_project_BN\n",
      "143 block_15_add\n",
      "144 block_16_expand\n",
      "145 block_16_expand_BN\n",
      "146 block_16_expand_relu\n",
      "147 block_16_depthwise\n",
      "148 block_16_depthwise_BN\n",
      "149 block_16_depthwise_relu\n",
      "150 block_16_project\n",
      "151 block_16_project_BN\n",
      "152 Conv_1\n",
      "153 Conv_1_bn\n",
      "154 out_relu\n",
      "155 global_average_pooling2d\n",
      "156 dense\n",
      "157 dropout\n",
      "158 dense_1\n"
     ]
    },
    {
     "data": {
      "application/javascript": [
       "\n",
       "            setTimeout(function() {\n",
       "                var nbb_cell_id = 42;\n",
       "                var nbb_unformatted_code = \"# let's visualize layer names and layer indices to see how many layers\\n# we should freeze:\\nfor i, layer in enumerate(model.layers):\\n    print(i, layer.name)\";\n",
       "                var nbb_formatted_code = \"# let's visualize layer names and layer indices to see how many layers\\n# we should freeze:\\nfor i, layer in enumerate(model.layers):\\n    print(i, layer.name)\";\n",
       "                var nbb_cells = Jupyter.notebook.get_cells();\n",
       "                for (var i = 0; i < nbb_cells.length; ++i) {\n",
       "                    if (nbb_cells[i].input_prompt_number == nbb_cell_id) {\n",
       "                        if (nbb_cells[i].get_text() == nbb_unformatted_code) {\n",
       "                             nbb_cells[i].set_text(nbb_formatted_code);\n",
       "                        }\n",
       "                        break;\n",
       "                    }\n",
       "                }\n",
       "            }, 500);\n",
       "            "
      ],
      "text/plain": [
       "<IPython.core.display.Javascript object>"
      ]
     },
     "metadata": {},
     "output_type": "display_data"
    }
   ],
   "source": [
    "# let's visualize layer names and layer indices to see how many layers\n",
    "# we should freeze:\n",
    "for i, layer in enumerate(model.layers):\n",
    "    print(i, layer.name)"
   ]
  },
  {
   "cell_type": "code",
   "execution_count": 43,
   "metadata": {
    "ExecuteTime": {
     "end_time": "2020-04-18T01:07:49.313255Z",
     "start_time": "2020-04-18T01:07:48.967427Z"
    }
   },
   "outputs": [
    {
     "data": {
      "application/javascript": [
       "\n",
       "            setTimeout(function() {\n",
       "                var nbb_cell_id = 43;\n",
       "                var nbb_unformatted_code = \"# raise Exception(\\\"STOP\\\")\";\n",
       "                var nbb_formatted_code = \"# raise Exception(\\\"STOP\\\")\";\n",
       "                var nbb_cells = Jupyter.notebook.get_cells();\n",
       "                for (var i = 0; i < nbb_cells.length; ++i) {\n",
       "                    if (nbb_cells[i].input_prompt_number == nbb_cell_id) {\n",
       "                        if (nbb_cells[i].get_text() == nbb_unformatted_code) {\n",
       "                             nbb_cells[i].set_text(nbb_formatted_code);\n",
       "                        }\n",
       "                        break;\n",
       "                    }\n",
       "                }\n",
       "            }, 500);\n",
       "            "
      ],
      "text/plain": [
       "<IPython.core.display.Javascript object>"
      ]
     },
     "metadata": {},
     "output_type": "display_data"
    }
   ],
   "source": [
    "# raise Exception(\"STOP\")"
   ]
  },
  {
   "cell_type": "code",
   "execution_count": 44,
   "metadata": {
    "ExecuteTime": {
     "end_time": "2020-04-18T01:07:49.849366Z",
     "start_time": "2020-04-18T01:07:49.317388Z"
    }
   },
   "outputs": [
    {
     "data": {
      "application/javascript": [
       "\n",
       "            setTimeout(function() {\n",
       "                var nbb_cell_id = 44;\n",
       "                var nbb_unformatted_code = \"# Let's unfreeze the whole model\\nfor layer in model.layers:  # [1019:]:  # [293:]:\\n    layer.trainable = True\\n# Let's build an optimizer\\noptimizer = Lookahead(RectifiedAdam(), sync_period=6, slow_step_size=0.5)\\nes = EarlyStopping(\\n    monitor=\\\"val_loss\\\",\\n    verbose=1,\\n    mode=\\\"min\\\",\\n    patience=patience,\\n    restore_best_weights=True,\\n)\\n# We need to recompile the model for these modifications to take effect\\nes.set_model(model)\\nmodel.compile(optimizer=optimizer, loss=\\\"binary_crossentropy\\\", metrics=[\\\"AUC\\\"])\";\n",
       "                var nbb_formatted_code = \"# Let's unfreeze the whole model\\nfor layer in model.layers:  # [1019:]:  # [293:]:\\n    layer.trainable = True\\n# Let's build an optimizer\\noptimizer = Lookahead(RectifiedAdam(), sync_period=6, slow_step_size=0.5)\\nes = EarlyStopping(\\n    monitor=\\\"val_loss\\\",\\n    verbose=1,\\n    mode=\\\"min\\\",\\n    patience=patience,\\n    restore_best_weights=True,\\n)\\n# We need to recompile the model for these modifications to take effect\\nes.set_model(model)\\nmodel.compile(optimizer=optimizer, loss=\\\"binary_crossentropy\\\", metrics=[\\\"AUC\\\"])\";\n",
       "                var nbb_cells = Jupyter.notebook.get_cells();\n",
       "                for (var i = 0; i < nbb_cells.length; ++i) {\n",
       "                    if (nbb_cells[i].input_prompt_number == nbb_cell_id) {\n",
       "                        if (nbb_cells[i].get_text() == nbb_unformatted_code) {\n",
       "                             nbb_cells[i].set_text(nbb_formatted_code);\n",
       "                        }\n",
       "                        break;\n",
       "                    }\n",
       "                }\n",
       "            }, 500);\n",
       "            "
      ],
      "text/plain": [
       "<IPython.core.display.Javascript object>"
      ]
     },
     "metadata": {},
     "output_type": "display_data"
    }
   ],
   "source": [
    "# Let's unfreeze the whole model\n",
    "for layer in model.layers:  # [1019:]:  # [293:]:\n",
    "    layer.trainable = True\n",
    "# Let's build an optimizer\n",
    "optimizer = Lookahead(RectifiedAdam(), sync_period=6, slow_step_size=0.5)\n",
    "es = EarlyStopping(\n",
    "    monitor=\"val_loss\",\n",
    "    verbose=1,\n",
    "    mode=\"min\",\n",
    "    patience=patience,\n",
    "    restore_best_weights=True,\n",
    ")\n",
    "# We need to recompile the model for these modifications to take effect\n",
    "es.set_model(model)\n",
    "model.compile(optimizer=optimizer, loss=\"binary_crossentropy\", metrics=[\"AUC\"])"
   ]
  },
  {
   "cell_type": "code",
   "execution_count": 45,
   "metadata": {
    "ExecuteTime": {
     "end_time": "2020-04-18T08:02:15.932330Z",
     "start_time": "2020-04-18T01:07:49.851018Z"
    },
    "scrolled": true
   },
   "outputs": [
    {
     "name": "stdout",
     "output_type": "stream",
     "text": [
      "Train for 7441.0 steps, validate for 931.0 steps\n",
      "Epoch 1/200\n",
      "7441/7441 [==============================] - 2948s 396ms/step - loss: 0.1563 - AUC: 0.9687 - val_loss: 0.1836 - val_AUC: 0.9686\n",
      "Epoch 2/200\n",
      "7441/7441 [==============================] - 2921s 393ms/step - loss: 0.1553 - AUC: 0.9699 - val_loss: 0.1556 - val_AUC: 0.9707\n",
      "Epoch 3/200\n",
      "7441/7441 [==============================] - 2925s 393ms/step - loss: 0.1544 - AUC: 0.9709 - val_loss: 0.1547 - val_AUC: 0.9718\n",
      "Epoch 4/200\n",
      "7441/7441 [==============================] - 2924s 393ms/step - loss: 0.1540 - AUC: 0.9714 - val_loss: 0.1537 - val_AUC: 0.9720\n",
      "Epoch 5/200\n",
      "7441/7441 [==============================] - 2925s 393ms/step - loss: 0.1536 - AUC: 0.9719 - val_loss: 0.1536 - val_AUC: 0.9720\n",
      "Epoch 6/200\n",
      "7441/7441 [==============================] - 2924s 393ms/step - loss: 0.1534 - AUC: 0.9721 - val_loss: 0.1542 - val_AUC: 0.9720\n",
      "Epoch 7/200\n",
      "7441/7441 [==============================] - 2942s 395ms/step - loss: 0.1531 - AUC: 0.9724 - val_loss: 0.1542 - val_AUC: 0.9722\n",
      "Epoch 8/200\n",
      "7441/7441 [==============================] - 2909s 391ms/step - loss: 0.1529 - AUC: 0.9727 - val_loss: 0.1542 - val_AUC: 0.9721\n",
      "Epoch 9/200\n",
      "3759/7441 [==============>...............] - ETA: 23:37 - loss: 0.1522 - AUC: 0.9731WARNING:tensorflow:Early stopping conditioned on metric `val_loss` which is not available. Available metrics are: loss,AUC\n"
     ]
    },
    {
     "ename": "KeyboardInterrupt",
     "evalue": "",
     "output_type": "error",
     "traceback": [
      "\u001b[0;31m---------------------------------------------------------------------------\u001b[0m",
      "\u001b[0;31mKeyboardInterrupt\u001b[0m                         Traceback (most recent call last)",
      "\u001b[0;32m<ipython-input-45-f1e7c269138c>\u001b[0m in \u001b[0;36m<module>\u001b[0;34m\u001b[0m\n\u001b[1;32m      7\u001b[0m     \u001b[0msteps_per_epoch\u001b[0m\u001b[0;34m=\u001b[0m\u001b[0msteps_per_epoch\u001b[0m\u001b[0;34m,\u001b[0m\u001b[0;34m\u001b[0m\u001b[0;34m\u001b[0m\u001b[0m\n\u001b[1;32m      8\u001b[0m     \u001b[0mvalidation_data\u001b[0m\u001b[0;34m=\u001b[0m\u001b[0mdataset_valid\u001b[0m\u001b[0;34m,\u001b[0m\u001b[0;34m\u001b[0m\u001b[0;34m\u001b[0m\u001b[0m\n\u001b[0;32m----> 9\u001b[0;31m     \u001b[0mvalidation_steps\u001b[0m\u001b[0;34m=\u001b[0m\u001b[0msteps_per_epoch_val\u001b[0m\u001b[0;34m,\u001b[0m\u001b[0;34m\u001b[0m\u001b[0;34m\u001b[0m\u001b[0m\n\u001b[0m\u001b[1;32m     10\u001b[0m )\n",
      "\u001b[0;32m/work/.cache/poetry/thc-net-KQLMmzPP-py3.7/lib/python3.7/site-packages/tensorflow_core/python/keras/engine/training.py\u001b[0m in \u001b[0;36mfit\u001b[0;34m(self, x, y, batch_size, epochs, verbose, callbacks, validation_split, validation_data, shuffle, class_weight, sample_weight, initial_epoch, steps_per_epoch, validation_steps, validation_freq, max_queue_size, workers, use_multiprocessing, **kwargs)\u001b[0m\n\u001b[1;32m    817\u001b[0m         \u001b[0mmax_queue_size\u001b[0m\u001b[0;34m=\u001b[0m\u001b[0mmax_queue_size\u001b[0m\u001b[0;34m,\u001b[0m\u001b[0;34m\u001b[0m\u001b[0;34m\u001b[0m\u001b[0m\n\u001b[1;32m    818\u001b[0m         \u001b[0mworkers\u001b[0m\u001b[0;34m=\u001b[0m\u001b[0mworkers\u001b[0m\u001b[0;34m,\u001b[0m\u001b[0;34m\u001b[0m\u001b[0;34m\u001b[0m\u001b[0m\n\u001b[0;32m--> 819\u001b[0;31m         use_multiprocessing=use_multiprocessing)\n\u001b[0m\u001b[1;32m    820\u001b[0m \u001b[0;34m\u001b[0m\u001b[0m\n\u001b[1;32m    821\u001b[0m   def evaluate(self,\n",
      "\u001b[0;32m/work/.cache/poetry/thc-net-KQLMmzPP-py3.7/lib/python3.7/site-packages/tensorflow_core/python/keras/engine/training_v2.py\u001b[0m in \u001b[0;36mfit\u001b[0;34m(self, model, x, y, batch_size, epochs, verbose, callbacks, validation_split, validation_data, shuffle, class_weight, sample_weight, initial_epoch, steps_per_epoch, validation_steps, validation_freq, max_queue_size, workers, use_multiprocessing, **kwargs)\u001b[0m\n\u001b[1;32m    340\u001b[0m                 \u001b[0mmode\u001b[0m\u001b[0;34m=\u001b[0m\u001b[0mModeKeys\u001b[0m\u001b[0;34m.\u001b[0m\u001b[0mTRAIN\u001b[0m\u001b[0;34m,\u001b[0m\u001b[0;34m\u001b[0m\u001b[0;34m\u001b[0m\u001b[0m\n\u001b[1;32m    341\u001b[0m                 \u001b[0mtraining_context\u001b[0m\u001b[0;34m=\u001b[0m\u001b[0mtraining_context\u001b[0m\u001b[0;34m,\u001b[0m\u001b[0;34m\u001b[0m\u001b[0;34m\u001b[0m\u001b[0m\n\u001b[0;32m--> 342\u001b[0;31m                 total_epochs=epochs)\n\u001b[0m\u001b[1;32m    343\u001b[0m             \u001b[0mcbks\u001b[0m\u001b[0;34m.\u001b[0m\u001b[0mmake_logs\u001b[0m\u001b[0;34m(\u001b[0m\u001b[0mmodel\u001b[0m\u001b[0;34m,\u001b[0m \u001b[0mepoch_logs\u001b[0m\u001b[0;34m,\u001b[0m \u001b[0mtraining_result\u001b[0m\u001b[0;34m,\u001b[0m \u001b[0mModeKeys\u001b[0m\u001b[0;34m.\u001b[0m\u001b[0mTRAIN\u001b[0m\u001b[0;34m)\u001b[0m\u001b[0;34m\u001b[0m\u001b[0;34m\u001b[0m\u001b[0m\n\u001b[1;32m    344\u001b[0m \u001b[0;34m\u001b[0m\u001b[0m\n",
      "\u001b[0;32m/work/.cache/poetry/thc-net-KQLMmzPP-py3.7/lib/python3.7/site-packages/tensorflow_core/python/keras/engine/training_v2.py\u001b[0m in \u001b[0;36mrun_one_epoch\u001b[0;34m(model, iterator, execution_function, dataset_size, batch_size, strategy, steps_per_epoch, num_samples, mode, training_context, total_epochs)\u001b[0m\n\u001b[1;32m    126\u001b[0m         step=step, mode=mode, size=current_batch_size) as batch_logs:\n\u001b[1;32m    127\u001b[0m       \u001b[0;32mtry\u001b[0m\u001b[0;34m:\u001b[0m\u001b[0;34m\u001b[0m\u001b[0;34m\u001b[0m\u001b[0m\n\u001b[0;32m--> 128\u001b[0;31m         \u001b[0mbatch_outs\u001b[0m \u001b[0;34m=\u001b[0m \u001b[0mexecution_function\u001b[0m\u001b[0;34m(\u001b[0m\u001b[0miterator\u001b[0m\u001b[0;34m)\u001b[0m\u001b[0;34m\u001b[0m\u001b[0;34m\u001b[0m\u001b[0m\n\u001b[0m\u001b[1;32m    129\u001b[0m       \u001b[0;32mexcept\u001b[0m \u001b[0;34m(\u001b[0m\u001b[0mStopIteration\u001b[0m\u001b[0;34m,\u001b[0m \u001b[0merrors\u001b[0m\u001b[0;34m.\u001b[0m\u001b[0mOutOfRangeError\u001b[0m\u001b[0;34m)\u001b[0m\u001b[0;34m:\u001b[0m\u001b[0;34m\u001b[0m\u001b[0;34m\u001b[0m\u001b[0m\n\u001b[1;32m    130\u001b[0m         \u001b[0;31m# TODO(kaftan): File bug about tf function and errors.OutOfRangeError?\u001b[0m\u001b[0;34m\u001b[0m\u001b[0;34m\u001b[0m\u001b[0;34m\u001b[0m\u001b[0m\n",
      "\u001b[0;32m/work/.cache/poetry/thc-net-KQLMmzPP-py3.7/lib/python3.7/site-packages/tensorflow_core/python/keras/engine/training_v2_utils.py\u001b[0m in \u001b[0;36mexecution_function\u001b[0;34m(input_fn)\u001b[0m\n\u001b[1;32m     96\u001b[0m     \u001b[0;31m# `numpy` translates Tensors to values in Eager mode.\u001b[0m\u001b[0;34m\u001b[0m\u001b[0;34m\u001b[0m\u001b[0;34m\u001b[0m\u001b[0m\n\u001b[1;32m     97\u001b[0m     return nest.map_structure(_non_none_constant_value,\n\u001b[0;32m---> 98\u001b[0;31m                               distributed_function(input_fn))\n\u001b[0m\u001b[1;32m     99\u001b[0m \u001b[0;34m\u001b[0m\u001b[0m\n\u001b[1;32m    100\u001b[0m   \u001b[0;32mreturn\u001b[0m \u001b[0mexecution_function\u001b[0m\u001b[0;34m\u001b[0m\u001b[0;34m\u001b[0m\u001b[0m\n",
      "\u001b[0;32m/work/.cache/poetry/thc-net-KQLMmzPP-py3.7/lib/python3.7/site-packages/tensorflow_core/python/eager/def_function.py\u001b[0m in \u001b[0;36m__call__\u001b[0;34m(self, *args, **kwds)\u001b[0m\n\u001b[1;32m    566\u001b[0m         \u001b[0mxla_context\u001b[0m\u001b[0;34m.\u001b[0m\u001b[0mExit\u001b[0m\u001b[0;34m(\u001b[0m\u001b[0;34m)\u001b[0m\u001b[0;34m\u001b[0m\u001b[0;34m\u001b[0m\u001b[0m\n\u001b[1;32m    567\u001b[0m     \u001b[0;32melse\u001b[0m\u001b[0;34m:\u001b[0m\u001b[0;34m\u001b[0m\u001b[0;34m\u001b[0m\u001b[0m\n\u001b[0;32m--> 568\u001b[0;31m       \u001b[0mresult\u001b[0m \u001b[0;34m=\u001b[0m \u001b[0mself\u001b[0m\u001b[0;34m.\u001b[0m\u001b[0m_call\u001b[0m\u001b[0;34m(\u001b[0m\u001b[0;34m*\u001b[0m\u001b[0margs\u001b[0m\u001b[0;34m,\u001b[0m \u001b[0;34m**\u001b[0m\u001b[0mkwds\u001b[0m\u001b[0;34m)\u001b[0m\u001b[0;34m\u001b[0m\u001b[0;34m\u001b[0m\u001b[0m\n\u001b[0m\u001b[1;32m    569\u001b[0m \u001b[0;34m\u001b[0m\u001b[0m\n\u001b[1;32m    570\u001b[0m     \u001b[0;32mif\u001b[0m \u001b[0mtracing_count\u001b[0m \u001b[0;34m==\u001b[0m \u001b[0mself\u001b[0m\u001b[0;34m.\u001b[0m\u001b[0m_get_tracing_count\u001b[0m\u001b[0;34m(\u001b[0m\u001b[0;34m)\u001b[0m\u001b[0;34m:\u001b[0m\u001b[0;34m\u001b[0m\u001b[0;34m\u001b[0m\u001b[0m\n",
      "\u001b[0;32m/work/.cache/poetry/thc-net-KQLMmzPP-py3.7/lib/python3.7/site-packages/tensorflow_core/python/eager/def_function.py\u001b[0m in \u001b[0;36m_call\u001b[0;34m(self, *args, **kwds)\u001b[0m\n\u001b[1;32m    597\u001b[0m       \u001b[0;31m# In this case we have created variables on the first call, so we run the\u001b[0m\u001b[0;34m\u001b[0m\u001b[0;34m\u001b[0m\u001b[0;34m\u001b[0m\u001b[0m\n\u001b[1;32m    598\u001b[0m       \u001b[0;31m# defunned version which is guaranteed to never create variables.\u001b[0m\u001b[0;34m\u001b[0m\u001b[0;34m\u001b[0m\u001b[0;34m\u001b[0m\u001b[0m\n\u001b[0;32m--> 599\u001b[0;31m       \u001b[0;32mreturn\u001b[0m \u001b[0mself\u001b[0m\u001b[0;34m.\u001b[0m\u001b[0m_stateless_fn\u001b[0m\u001b[0;34m(\u001b[0m\u001b[0;34m*\u001b[0m\u001b[0margs\u001b[0m\u001b[0;34m,\u001b[0m \u001b[0;34m**\u001b[0m\u001b[0mkwds\u001b[0m\u001b[0;34m)\u001b[0m  \u001b[0;31m# pylint: disable=not-callable\u001b[0m\u001b[0;34m\u001b[0m\u001b[0;34m\u001b[0m\u001b[0m\n\u001b[0m\u001b[1;32m    600\u001b[0m     \u001b[0;32melif\u001b[0m \u001b[0mself\u001b[0m\u001b[0;34m.\u001b[0m\u001b[0m_stateful_fn\u001b[0m \u001b[0;32mis\u001b[0m \u001b[0;32mnot\u001b[0m \u001b[0;32mNone\u001b[0m\u001b[0;34m:\u001b[0m\u001b[0;34m\u001b[0m\u001b[0;34m\u001b[0m\u001b[0m\n\u001b[1;32m    601\u001b[0m       \u001b[0;31m# Release the lock early so that multiple threads can perform the call\u001b[0m\u001b[0;34m\u001b[0m\u001b[0;34m\u001b[0m\u001b[0;34m\u001b[0m\u001b[0m\n",
      "\u001b[0;32m/work/.cache/poetry/thc-net-KQLMmzPP-py3.7/lib/python3.7/site-packages/tensorflow_core/python/eager/function.py\u001b[0m in \u001b[0;36m__call__\u001b[0;34m(self, *args, **kwargs)\u001b[0m\n\u001b[1;32m   2361\u001b[0m     \u001b[0;32mwith\u001b[0m \u001b[0mself\u001b[0m\u001b[0;34m.\u001b[0m\u001b[0m_lock\u001b[0m\u001b[0;34m:\u001b[0m\u001b[0;34m\u001b[0m\u001b[0;34m\u001b[0m\u001b[0m\n\u001b[1;32m   2362\u001b[0m       \u001b[0mgraph_function\u001b[0m\u001b[0;34m,\u001b[0m \u001b[0margs\u001b[0m\u001b[0;34m,\u001b[0m \u001b[0mkwargs\u001b[0m \u001b[0;34m=\u001b[0m \u001b[0mself\u001b[0m\u001b[0;34m.\u001b[0m\u001b[0m_maybe_define_function\u001b[0m\u001b[0;34m(\u001b[0m\u001b[0margs\u001b[0m\u001b[0;34m,\u001b[0m \u001b[0mkwargs\u001b[0m\u001b[0;34m)\u001b[0m\u001b[0;34m\u001b[0m\u001b[0;34m\u001b[0m\u001b[0m\n\u001b[0;32m-> 2363\u001b[0;31m     \u001b[0;32mreturn\u001b[0m \u001b[0mgraph_function\u001b[0m\u001b[0;34m.\u001b[0m\u001b[0m_filtered_call\u001b[0m\u001b[0;34m(\u001b[0m\u001b[0margs\u001b[0m\u001b[0;34m,\u001b[0m \u001b[0mkwargs\u001b[0m\u001b[0;34m)\u001b[0m  \u001b[0;31m# pylint: disable=protected-access\u001b[0m\u001b[0;34m\u001b[0m\u001b[0;34m\u001b[0m\u001b[0m\n\u001b[0m\u001b[1;32m   2364\u001b[0m \u001b[0;34m\u001b[0m\u001b[0m\n\u001b[1;32m   2365\u001b[0m   \u001b[0;34m@\u001b[0m\u001b[0mproperty\u001b[0m\u001b[0;34m\u001b[0m\u001b[0;34m\u001b[0m\u001b[0m\n",
      "\u001b[0;32m/work/.cache/poetry/thc-net-KQLMmzPP-py3.7/lib/python3.7/site-packages/tensorflow_core/python/eager/function.py\u001b[0m in \u001b[0;36m_filtered_call\u001b[0;34m(self, args, kwargs)\u001b[0m\n\u001b[1;32m   1609\u001b[0m          if isinstance(t, (ops.Tensor,\n\u001b[1;32m   1610\u001b[0m                            resource_variable_ops.BaseResourceVariable))),\n\u001b[0;32m-> 1611\u001b[0;31m         self.captured_inputs)\n\u001b[0m\u001b[1;32m   1612\u001b[0m \u001b[0;34m\u001b[0m\u001b[0m\n\u001b[1;32m   1613\u001b[0m   \u001b[0;32mdef\u001b[0m \u001b[0m_call_flat\u001b[0m\u001b[0;34m(\u001b[0m\u001b[0mself\u001b[0m\u001b[0;34m,\u001b[0m \u001b[0margs\u001b[0m\u001b[0;34m,\u001b[0m \u001b[0mcaptured_inputs\u001b[0m\u001b[0;34m,\u001b[0m \u001b[0mcancellation_manager\u001b[0m\u001b[0;34m=\u001b[0m\u001b[0;32mNone\u001b[0m\u001b[0;34m)\u001b[0m\u001b[0;34m:\u001b[0m\u001b[0;34m\u001b[0m\u001b[0;34m\u001b[0m\u001b[0m\n",
      "\u001b[0;32m/work/.cache/poetry/thc-net-KQLMmzPP-py3.7/lib/python3.7/site-packages/tensorflow_core/python/eager/function.py\u001b[0m in \u001b[0;36m_call_flat\u001b[0;34m(self, args, captured_inputs, cancellation_manager)\u001b[0m\n\u001b[1;32m   1690\u001b[0m       \u001b[0;31m# No tape is watching; skip to running the function.\u001b[0m\u001b[0;34m\u001b[0m\u001b[0;34m\u001b[0m\u001b[0;34m\u001b[0m\u001b[0m\n\u001b[1;32m   1691\u001b[0m       return self._build_call_outputs(self._inference_function.call(\n\u001b[0;32m-> 1692\u001b[0;31m           ctx, args, cancellation_manager=cancellation_manager))\n\u001b[0m\u001b[1;32m   1693\u001b[0m     forward_backward = self._select_forward_and_backward_functions(\n\u001b[1;32m   1694\u001b[0m         \u001b[0margs\u001b[0m\u001b[0;34m,\u001b[0m\u001b[0;34m\u001b[0m\u001b[0;34m\u001b[0m\u001b[0m\n",
      "\u001b[0;32m/work/.cache/poetry/thc-net-KQLMmzPP-py3.7/lib/python3.7/site-packages/tensorflow_core/python/eager/function.py\u001b[0m in \u001b[0;36mcall\u001b[0;34m(self, ctx, args, cancellation_manager)\u001b[0m\n\u001b[1;32m    543\u001b[0m               \u001b[0minputs\u001b[0m\u001b[0;34m=\u001b[0m\u001b[0margs\u001b[0m\u001b[0;34m,\u001b[0m\u001b[0;34m\u001b[0m\u001b[0;34m\u001b[0m\u001b[0m\n\u001b[1;32m    544\u001b[0m               \u001b[0mattrs\u001b[0m\u001b[0;34m=\u001b[0m\u001b[0;34m(\u001b[0m\u001b[0;34m\"executor_type\"\u001b[0m\u001b[0;34m,\u001b[0m \u001b[0mexecutor_type\u001b[0m\u001b[0;34m,\u001b[0m \u001b[0;34m\"config_proto\"\u001b[0m\u001b[0;34m,\u001b[0m \u001b[0mconfig\u001b[0m\u001b[0;34m)\u001b[0m\u001b[0;34m,\u001b[0m\u001b[0;34m\u001b[0m\u001b[0;34m\u001b[0m\u001b[0m\n\u001b[0;32m--> 545\u001b[0;31m               ctx=ctx)\n\u001b[0m\u001b[1;32m    546\u001b[0m         \u001b[0;32melse\u001b[0m\u001b[0;34m:\u001b[0m\u001b[0;34m\u001b[0m\u001b[0;34m\u001b[0m\u001b[0m\n\u001b[1;32m    547\u001b[0m           outputs = execute.execute_with_cancellation(\n",
      "\u001b[0;32m/work/.cache/poetry/thc-net-KQLMmzPP-py3.7/lib/python3.7/site-packages/tensorflow_core/python/eager/execute.py\u001b[0m in \u001b[0;36mquick_execute\u001b[0;34m(op_name, num_outputs, inputs, attrs, ctx, name)\u001b[0m\n\u001b[1;32m     59\u001b[0m     tensors = pywrap_tensorflow.TFE_Py_Execute(ctx._handle, device_name,\n\u001b[1;32m     60\u001b[0m                                                \u001b[0mop_name\u001b[0m\u001b[0;34m,\u001b[0m \u001b[0minputs\u001b[0m\u001b[0;34m,\u001b[0m \u001b[0mattrs\u001b[0m\u001b[0;34m,\u001b[0m\u001b[0;34m\u001b[0m\u001b[0;34m\u001b[0m\u001b[0m\n\u001b[0;32m---> 61\u001b[0;31m                                                num_outputs)\n\u001b[0m\u001b[1;32m     62\u001b[0m   \u001b[0;32mexcept\u001b[0m \u001b[0mcore\u001b[0m\u001b[0;34m.\u001b[0m\u001b[0m_NotOkStatusException\u001b[0m \u001b[0;32mas\u001b[0m \u001b[0me\u001b[0m\u001b[0;34m:\u001b[0m\u001b[0;34m\u001b[0m\u001b[0;34m\u001b[0m\u001b[0m\n\u001b[1;32m     63\u001b[0m     \u001b[0;32mif\u001b[0m \u001b[0mname\u001b[0m \u001b[0;32mis\u001b[0m \u001b[0;32mnot\u001b[0m \u001b[0;32mNone\u001b[0m\u001b[0;34m:\u001b[0m\u001b[0;34m\u001b[0m\u001b[0;34m\u001b[0m\u001b[0m\n",
      "\u001b[0;31mKeyboardInterrupt\u001b[0m: "
     ]
    },
    {
     "data": {
      "application/javascript": [
       "\n",
       "            setTimeout(function() {\n",
       "                var nbb_cell_id = 45;\n",
       "                var nbb_unformatted_code = \"# we train our model again (this time fine-tuning the top 2 inception blocks\\n# alongside the top Dense layers\\nhistory_2 = model.fit(\\n    dataset_train,\\n    callbacks=[es],\\n    epochs=epochs_2,\\n    steps_per_epoch=steps_per_epoch,\\n    validation_data=dataset_valid,\\n    validation_steps=steps_per_epoch_val,\\n)\";\n",
       "                var nbb_formatted_code = \"# we train our model again (this time fine-tuning the top 2 inception blocks\\n# alongside the top Dense layers\\nhistory_2 = model.fit(\\n    dataset_train,\\n    callbacks=[es],\\n    epochs=epochs_2,\\n    steps_per_epoch=steps_per_epoch,\\n    validation_data=dataset_valid,\\n    validation_steps=steps_per_epoch_val,\\n)\";\n",
       "                var nbb_cells = Jupyter.notebook.get_cells();\n",
       "                for (var i = 0; i < nbb_cells.length; ++i) {\n",
       "                    if (nbb_cells[i].input_prompt_number == nbb_cell_id) {\n",
       "                        if (nbb_cells[i].get_text() == nbb_unformatted_code) {\n",
       "                             nbb_cells[i].set_text(nbb_formatted_code);\n",
       "                        }\n",
       "                        break;\n",
       "                    }\n",
       "                }\n",
       "            }, 500);\n",
       "            "
      ],
      "text/plain": [
       "<IPython.core.display.Javascript object>"
      ]
     },
     "metadata": {},
     "output_type": "display_data"
    }
   ],
   "source": [
    "# we train our model again (this time fine-tuning the top 2 inception blocks\n",
    "# alongside the top Dense layers\n",
    "history_2 = model.fit(\n",
    "    dataset_train,\n",
    "    callbacks=[es],\n",
    "    epochs=epochs_2,\n",
    "    steps_per_epoch=steps_per_epoch,\n",
    "    validation_data=dataset_valid,\n",
    "    validation_steps=steps_per_epoch_val,\n",
    ")"
   ]
  },
  {
   "cell_type": "code",
   "execution_count": null,
   "metadata": {
    "ExecuteTime": {
     "end_time": "2020-04-18T08:02:15.934213Z",
     "start_time": "2020-04-17T21:51:58.183Z"
    }
   },
   "outputs": [],
   "source": [
    "plot_metric(history_2, \"loss\")"
   ]
  },
  {
   "cell_type": "code",
   "execution_count": null,
   "metadata": {
    "ExecuteTime": {
     "end_time": "2020-04-18T08:02:15.935387Z",
     "start_time": "2020-04-17T21:51:58.186Z"
    },
    "scrolled": true
   },
   "outputs": [],
   "source": [
    "plot_metric(history_2, \"AUC\")"
   ]
  },
  {
   "cell_type": "markdown",
   "metadata": {
    "ExecuteTime": {
     "end_time": "2020-04-17T13:16:20.349217Z",
     "start_time": "2020-04-17T13:16:16.612Z"
    }
   },
   "source": [
    "## Evaluation"
   ]
  },
  {
   "cell_type": "raw",
   "metadata": {
    "ExecuteTime": {
     "end_time": "2020-04-17T19:35:42.421034Z",
     "start_time": "2020-04-17T19:35:42.307583Z"
    }
   },
   "source": [
    "preds_valid = model.predict(X_valid)\n",
    "print(roc_auc_score(Y_valid, preds_valid[:, 1]))"
   ]
  },
  {
   "cell_type": "code",
   "execution_count": 46,
   "metadata": {
    "ExecuteTime": {
     "end_time": "2020-04-18T08:02:35.838803Z",
     "start_time": "2020-04-18T08:02:24.044450Z"
    }
   },
   "outputs": [
    {
     "name": "stdout",
     "output_type": "stream",
     "text": [
      "Input shape is (59521, 58)\n",
      "Output data is estimated to 8544.5185546875 Mo in RAM\n"
     ]
    },
    {
     "ename": "KeyboardInterrupt",
     "evalue": "",
     "output_type": "error",
     "traceback": [
      "\u001b[0;31m---------------------------------------------------------------------------\u001b[0m",
      "\u001b[0;31mKeyboardInterrupt\u001b[0m                         Traceback (most recent call last)",
      "\u001b[0;32m<ipython-input-46-300e72738b8c>\u001b[0m in \u001b[0;36m<module>\u001b[0;34m\u001b[0m\n\u001b[1;32m      1\u001b[0m X_test = preprocess_data(\n\u001b[0;32m----> 2\u001b[0;31m     \u001b[0mX\u001b[0m\u001b[0;34m[\u001b[0m\u001b[0mtest_indices\u001b[0m\u001b[0;34m]\u001b[0m\u001b[0;34m,\u001b[0m \u001b[0mfixed_text_to_square_image\u001b[0m\u001b[0;34m,\u001b[0m \u001b[0mIMAGE_SIZE\u001b[0m\u001b[0;34m,\u001b[0m \u001b[0mONE_CHANNEL\u001b[0m\u001b[0;34m\u001b[0m\u001b[0;34m\u001b[0m\u001b[0m\n\u001b[0m\u001b[1;32m      3\u001b[0m )\n\u001b[1;32m      4\u001b[0m \u001b[0mY_test\u001b[0m \u001b[0;34m=\u001b[0m \u001b[0mY\u001b[0m\u001b[0;34m[\u001b[0m\u001b[0mtest_indices\u001b[0m\u001b[0;34m]\u001b[0m\u001b[0;34m\u001b[0m\u001b[0;34m\u001b[0m\u001b[0m\n",
      "\u001b[0;32m<ipython-input-8-d1fd9c735b08>\u001b[0m in \u001b[0;36mpreprocess_data\u001b[0;34m(data, map_func, image_size, one_channel)\u001b[0m\n\u001b[1;32m      8\u001b[0m     \u001b[0mpreprocessed_df\u001b[0m \u001b[0;34m=\u001b[0m \u001b[0;32mNone\u001b[0m\u001b[0;34m\u001b[0m\u001b[0;34m\u001b[0m\u001b[0m\n\u001b[1;32m      9\u001b[0m     \u001b[0;32mwith\u001b[0m \u001b[0mPoolExecutor\u001b[0m\u001b[0;34m(\u001b[0m\u001b[0;34m)\u001b[0m \u001b[0;32mas\u001b[0m \u001b[0mexecutor\u001b[0m\u001b[0;34m:\u001b[0m\u001b[0;34m\u001b[0m\u001b[0;34m\u001b[0m\u001b[0m\n\u001b[0;32m---> 10\u001b[0;31m         \u001b[0mpreprocessed_df\u001b[0m \u001b[0;34m=\u001b[0m \u001b[0mnp\u001b[0m\u001b[0;34m.\u001b[0m\u001b[0mstack\u001b[0m\u001b[0;34m(\u001b[0m\u001b[0mlist\u001b[0m\u001b[0;34m(\u001b[0m\u001b[0mexecutor\u001b[0m\u001b[0;34m.\u001b[0m\u001b[0mmap\u001b[0m\u001b[0;34m(\u001b[0m\u001b[0mmap_func\u001b[0m\u001b[0;34m,\u001b[0m \u001b[0mdata\u001b[0m\u001b[0;34m)\u001b[0m\u001b[0;34m)\u001b[0m\u001b[0;34m,\u001b[0m \u001b[0maxis\u001b[0m\u001b[0;34m=\u001b[0m\u001b[0;36m0\u001b[0m\u001b[0;34m)\u001b[0m\u001b[0;34m\u001b[0m\u001b[0;34m\u001b[0m\u001b[0m\n\u001b[0m\u001b[1;32m     11\u001b[0m     \u001b[0mprint\u001b[0m\u001b[0;34m(\u001b[0m\u001b[0;34mf\"Output shape is {preprocessed_df.shape}\"\u001b[0m\u001b[0;34m)\u001b[0m\u001b[0;34m\u001b[0m\u001b[0;34m\u001b[0m\u001b[0m\n\u001b[1;32m     12\u001b[0m     \u001b[0mgc\u001b[0m\u001b[0;34m.\u001b[0m\u001b[0mcollect\u001b[0m\u001b[0;34m(\u001b[0m\u001b[0;34m)\u001b[0m\u001b[0;34m\u001b[0m\u001b[0;34m\u001b[0m\u001b[0m\n",
      "\u001b[0;32m/usr/local/lib/python3.7/concurrent/futures/process.py\u001b[0m in \u001b[0;36m_chain_from_iterable_of_lists\u001b[0;34m(iterable)\u001b[0m\n\u001b[1;32m    481\u001b[0m     \u001b[0mcareful\u001b[0m \u001b[0;32mnot\u001b[0m \u001b[0mto\u001b[0m \u001b[0mkeep\u001b[0m \u001b[0mreferences\u001b[0m \u001b[0mto\u001b[0m \u001b[0myielded\u001b[0m \u001b[0mobjects\u001b[0m\u001b[0;34m.\u001b[0m\u001b[0;34m\u001b[0m\u001b[0;34m\u001b[0m\u001b[0m\n\u001b[1;32m    482\u001b[0m     \"\"\"\n\u001b[0;32m--> 483\u001b[0;31m     \u001b[0;32mfor\u001b[0m \u001b[0melement\u001b[0m \u001b[0;32min\u001b[0m \u001b[0miterable\u001b[0m\u001b[0;34m:\u001b[0m\u001b[0;34m\u001b[0m\u001b[0;34m\u001b[0m\u001b[0m\n\u001b[0m\u001b[1;32m    484\u001b[0m         \u001b[0melement\u001b[0m\u001b[0;34m.\u001b[0m\u001b[0mreverse\u001b[0m\u001b[0;34m(\u001b[0m\u001b[0;34m)\u001b[0m\u001b[0;34m\u001b[0m\u001b[0;34m\u001b[0m\u001b[0m\n\u001b[1;32m    485\u001b[0m         \u001b[0;32mwhile\u001b[0m \u001b[0melement\u001b[0m\u001b[0;34m:\u001b[0m\u001b[0;34m\u001b[0m\u001b[0;34m\u001b[0m\u001b[0m\n",
      "\u001b[0;32m/usr/local/lib/python3.7/concurrent/futures/_base.py\u001b[0m in \u001b[0;36mresult_iterator\u001b[0;34m()\u001b[0m\n\u001b[1;32m    596\u001b[0m                     \u001b[0;31m# Careful not to keep a reference to the popped future\u001b[0m\u001b[0;34m\u001b[0m\u001b[0;34m\u001b[0m\u001b[0;34m\u001b[0m\u001b[0m\n\u001b[1;32m    597\u001b[0m                     \u001b[0;32mif\u001b[0m \u001b[0mtimeout\u001b[0m \u001b[0;32mis\u001b[0m \u001b[0;32mNone\u001b[0m\u001b[0;34m:\u001b[0m\u001b[0;34m\u001b[0m\u001b[0;34m\u001b[0m\u001b[0m\n\u001b[0;32m--> 598\u001b[0;31m                         \u001b[0;32myield\u001b[0m \u001b[0mfs\u001b[0m\u001b[0;34m.\u001b[0m\u001b[0mpop\u001b[0m\u001b[0;34m(\u001b[0m\u001b[0;34m)\u001b[0m\u001b[0;34m.\u001b[0m\u001b[0mresult\u001b[0m\u001b[0;34m(\u001b[0m\u001b[0;34m)\u001b[0m\u001b[0;34m\u001b[0m\u001b[0;34m\u001b[0m\u001b[0m\n\u001b[0m\u001b[1;32m    599\u001b[0m                     \u001b[0;32melse\u001b[0m\u001b[0;34m:\u001b[0m\u001b[0;34m\u001b[0m\u001b[0;34m\u001b[0m\u001b[0m\n\u001b[1;32m    600\u001b[0m                         \u001b[0;32myield\u001b[0m \u001b[0mfs\u001b[0m\u001b[0;34m.\u001b[0m\u001b[0mpop\u001b[0m\u001b[0;34m(\u001b[0m\u001b[0;34m)\u001b[0m\u001b[0;34m.\u001b[0m\u001b[0mresult\u001b[0m\u001b[0;34m(\u001b[0m\u001b[0mend_time\u001b[0m \u001b[0;34m-\u001b[0m \u001b[0mtime\u001b[0m\u001b[0;34m.\u001b[0m\u001b[0mmonotonic\u001b[0m\u001b[0;34m(\u001b[0m\u001b[0;34m)\u001b[0m\u001b[0;34m)\u001b[0m\u001b[0;34m\u001b[0m\u001b[0;34m\u001b[0m\u001b[0m\n",
      "\u001b[0;32m/usr/local/lib/python3.7/concurrent/futures/_base.py\u001b[0m in \u001b[0;36mresult\u001b[0;34m(self, timeout)\u001b[0m\n\u001b[1;32m    428\u001b[0m                 \u001b[0;32mreturn\u001b[0m \u001b[0mself\u001b[0m\u001b[0;34m.\u001b[0m\u001b[0m__get_result\u001b[0m\u001b[0;34m(\u001b[0m\u001b[0;34m)\u001b[0m\u001b[0;34m\u001b[0m\u001b[0;34m\u001b[0m\u001b[0m\n\u001b[1;32m    429\u001b[0m \u001b[0;34m\u001b[0m\u001b[0m\n\u001b[0;32m--> 430\u001b[0;31m             \u001b[0mself\u001b[0m\u001b[0;34m.\u001b[0m\u001b[0m_condition\u001b[0m\u001b[0;34m.\u001b[0m\u001b[0mwait\u001b[0m\u001b[0;34m(\u001b[0m\u001b[0mtimeout\u001b[0m\u001b[0;34m)\u001b[0m\u001b[0;34m\u001b[0m\u001b[0;34m\u001b[0m\u001b[0m\n\u001b[0m\u001b[1;32m    431\u001b[0m \u001b[0;34m\u001b[0m\u001b[0m\n\u001b[1;32m    432\u001b[0m             \u001b[0;32mif\u001b[0m \u001b[0mself\u001b[0m\u001b[0;34m.\u001b[0m\u001b[0m_state\u001b[0m \u001b[0;32min\u001b[0m \u001b[0;34m[\u001b[0m\u001b[0mCANCELLED\u001b[0m\u001b[0;34m,\u001b[0m \u001b[0mCANCELLED_AND_NOTIFIED\u001b[0m\u001b[0;34m]\u001b[0m\u001b[0;34m:\u001b[0m\u001b[0;34m\u001b[0m\u001b[0;34m\u001b[0m\u001b[0m\n",
      "\u001b[0;32m/usr/local/lib/python3.7/threading.py\u001b[0m in \u001b[0;36mwait\u001b[0;34m(self, timeout)\u001b[0m\n\u001b[1;32m    294\u001b[0m         \u001b[0;32mtry\u001b[0m\u001b[0;34m:\u001b[0m    \u001b[0;31m# restore state no matter what (e.g., KeyboardInterrupt)\u001b[0m\u001b[0;34m\u001b[0m\u001b[0;34m\u001b[0m\u001b[0m\n\u001b[1;32m    295\u001b[0m             \u001b[0;32mif\u001b[0m \u001b[0mtimeout\u001b[0m \u001b[0;32mis\u001b[0m \u001b[0;32mNone\u001b[0m\u001b[0;34m:\u001b[0m\u001b[0;34m\u001b[0m\u001b[0;34m\u001b[0m\u001b[0m\n\u001b[0;32m--> 296\u001b[0;31m                 \u001b[0mwaiter\u001b[0m\u001b[0;34m.\u001b[0m\u001b[0macquire\u001b[0m\u001b[0;34m(\u001b[0m\u001b[0;34m)\u001b[0m\u001b[0;34m\u001b[0m\u001b[0;34m\u001b[0m\u001b[0m\n\u001b[0m\u001b[1;32m    297\u001b[0m                 \u001b[0mgotit\u001b[0m \u001b[0;34m=\u001b[0m \u001b[0;32mTrue\u001b[0m\u001b[0;34m\u001b[0m\u001b[0;34m\u001b[0m\u001b[0m\n\u001b[1;32m    298\u001b[0m             \u001b[0;32melse\u001b[0m\u001b[0;34m:\u001b[0m\u001b[0;34m\u001b[0m\u001b[0;34m\u001b[0m\u001b[0m\n",
      "\u001b[0;31mKeyboardInterrupt\u001b[0m: "
     ]
    },
    {
     "data": {
      "application/javascript": [
       "\n",
       "            setTimeout(function() {\n",
       "                var nbb_cell_id = 46;\n",
       "                var nbb_unformatted_code = \"X_test = preprocess_data(\\n    X[test_indices], fixed_text_to_square_image, IMAGE_SIZE, ONE_CHANNEL\\n)\\nY_test = Y[test_indices]\";\n",
       "                var nbb_formatted_code = \"X_test = preprocess_data(\\n    X[test_indices], fixed_text_to_square_image, IMAGE_SIZE, ONE_CHANNEL\\n)\\nY_test = Y[test_indices]\";\n",
       "                var nbb_cells = Jupyter.notebook.get_cells();\n",
       "                for (var i = 0; i < nbb_cells.length; ++i) {\n",
       "                    if (nbb_cells[i].input_prompt_number == nbb_cell_id) {\n",
       "                        if (nbb_cells[i].get_text() == nbb_unformatted_code) {\n",
       "                             nbb_cells[i].set_text(nbb_formatted_code);\n",
       "                        }\n",
       "                        break;\n",
       "                    }\n",
       "                }\n",
       "            }, 500);\n",
       "            "
      ],
      "text/plain": [
       "<IPython.core.display.Javascript object>"
      ]
     },
     "metadata": {},
     "output_type": "display_data"
    }
   ],
   "source": [
    "X_test = preprocess_data(\n",
    "    X[test_indices], fixed_text_to_square_image, IMAGE_SIZE, ONE_CHANNEL\n",
    ")\n",
    "Y_test = Y[test_indices]"
   ]
  },
  {
   "cell_type": "code",
   "execution_count": null,
   "metadata": {
    "ExecuteTime": {
     "end_time": "2020-04-18T08:02:35.840681Z",
     "start_time": "2020-04-18T08:02:26.658Z"
    }
   },
   "outputs": [],
   "source": [
    "preds_test = model.predict(X_test)\n",
    "print(roc_auc_score(Y_test, preds_test[:, 1]))"
   ]
  },
  {
   "cell_type": "markdown",
   "metadata": {
    "heading_collapsed": true
   },
   "source": [
    "## Explainability"
   ]
  },
  {
   "cell_type": "code",
   "execution_count": null,
   "metadata": {
    "ExecuteTime": {
     "end_time": "2020-04-18T08:02:15.938659Z",
     "start_time": "2020-04-17T21:51:58.227Z"
    },
    "hidden": true
   },
   "outputs": [],
   "source": [
    "# https://medium.com/google-developer-experts/interpreting-deep-learning-models-for-computer-vision-f95683e23c1d"
   ]
  },
  {
   "cell_type": "code",
   "execution_count": null,
   "metadata": {
    "ExecuteTime": {
     "end_time": "2020-04-18T08:02:15.939610Z",
     "start_time": "2020-04-17T21:51:58.230Z"
    },
    "hidden": true,
    "scrolled": true
   },
   "outputs": [],
   "source": [
    "for i, layer in enumerate(model.layers):\n",
    "    print(i, layer.name)"
   ]
  },
  {
   "cell_type": "code",
   "execution_count": null,
   "metadata": {
    "ExecuteTime": {
     "end_time": "2020-04-18T08:02:15.940658Z",
     "start_time": "2020-04-17T21:51:58.233Z"
    },
    "hidden": true
   },
   "outputs": [],
   "source": [
    "!pip install shap"
   ]
  },
  {
   "cell_type": "code",
   "execution_count": null,
   "metadata": {
    "ExecuteTime": {
     "end_time": "2020-04-18T08:02:15.941704Z",
     "start_time": "2020-04-17T21:51:58.236Z"
    },
    "hidden": true
   },
   "outputs": [],
   "source": [
    "# import keras\n",
    "# from keras.applications.vgg16 import VGG16\n",
    "# from keras.applications.vgg16 import preprocess_input, decode_predictions\n",
    "# from matplotlib.colors import LinearSegmentedColormap\n",
    "# import numpy as np\n",
    "import shap\n",
    "\n",
    "# import keras.backend as K\n",
    "# import json\n",
    "\n",
    "shap.initjs()\n",
    "\n",
    "\n",
    "# utility function to visualize SHAP values in larger image formats\n",
    "# this modifies the `shap.image_plot(...)` function\n",
    "def visualize_model_decisions(shap_values, x, labels=None, figsize=(20, 30)):\n",
    "\n",
    "    colors = []\n",
    "    for l in np.linspace(1, 0, 100):\n",
    "        colors.append((30.0 / 255, 136.0 / 255, 229.0 / 255, l))\n",
    "    for l in np.linspace(0, 1, 100):\n",
    "        colors.append((255.0 / 255, 13.0 / 255, 87.0 / 255, l))\n",
    "    red_transparent_blue = LinearSegmentedColormap.from_list(\n",
    "        \"red_transparent_blue\", colors\n",
    "    )\n",
    "\n",
    "    multi_output = True\n",
    "    if type(shap_values) != list:\n",
    "        multi_output = False\n",
    "        shap_values = [shap_values]\n",
    "\n",
    "    # make sure labels\n",
    "    if labels is not None:\n",
    "        assert (\n",
    "            labels.shape[0] == shap_values[0].shape[0]\n",
    "        ), \"Labels must have same row count as shap_values arrays!\"\n",
    "        if multi_output:\n",
    "            assert labels.shape[1] == len(\n",
    "                shap_values\n",
    "            ), \"Labels must have a column for each output in shap_values!\"\n",
    "        else:\n",
    "            assert (\n",
    "                len(labels.shape) == 1\n",
    "            ), \"Labels must be a vector for single output shap_values.\"\n",
    "\n",
    "    # plot our explanations\n",
    "    fig_size = figsize\n",
    "    fig, axes = plt.subplots(\n",
    "        nrows=x.shape[0], ncols=len(shap_values) + 1, figsize=fig_size\n",
    "    )\n",
    "    if len(axes.shape) == 1:\n",
    "        axes = axes.reshape(1, axes.size)\n",
    "    for row in range(x.shape[0]):\n",
    "        x_curr = x[row].copy()\n",
    "\n",
    "        # make sure\n",
    "        if len(x_curr.shape) == 3 and x_curr.shape[2] == 1:\n",
    "            x_curr = x_curr.reshape(x_curr.shape[:2])\n",
    "        if x_curr.max() > 1:\n",
    "            x_curr /= 255.0\n",
    "\n",
    "        axes[row, 0].imshow(x_curr)\n",
    "        axes[row, 0].axis(\"off\")\n",
    "\n",
    "        # get a grayscale version of the image\n",
    "        if len(x_curr.shape) == 3 and x_curr.shape[2] == 3:\n",
    "            x_curr_gray = (\n",
    "                0.2989 * x_curr[:, :, 0]\n",
    "                + 0.5870 * x_curr[:, :, 1]\n",
    "                + 0.1140 * x_curr[:, :, 2]\n",
    "            )  # rgb to gray\n",
    "        else:\n",
    "            x_curr_gray = x_curr\n",
    "\n",
    "        if len(shap_values[0][row].shape) == 2:\n",
    "            abs_vals = np.stack(\n",
    "                [np.abs(shap_values[i]) for i in range(len(shap_values))], 0\n",
    "            ).flatten()\n",
    "        else:\n",
    "            abs_vals = np.stack(\n",
    "                [np.abs(shap_values[i].sum(-1)) for i in range(len(shap_values))], 0\n",
    "            ).flatten()\n",
    "        max_val = np.nanpercentile(abs_vals, 99.9)\n",
    "        for i in range(len(shap_values)):\n",
    "            if labels is not None:\n",
    "                axes[row, i + 1].set_title(labels[row, i])\n",
    "            sv = (\n",
    "                shap_values[i][row]\n",
    "                if len(shap_values[i][row].shape) == 2\n",
    "                else shap_values[i][row].sum(-1)\n",
    "            )\n",
    "            axes[row, i + 1].imshow(\n",
    "                x_curr_gray,\n",
    "                cmap=plt.get_cmap(\"gray\"),\n",
    "                alpha=0.15,\n",
    "                extent=(-1, sv.shape[0], sv.shape[1], -1),\n",
    "            )\n",
    "            im = axes[row, i + 1].imshow(\n",
    "                sv, cmap=red_transparent_blue, vmin=-max_val, vmax=max_val\n",
    "            )\n",
    "            axes[row, i + 1].axis(\"off\")\n",
    "\n",
    "    cb = fig.colorbar(\n",
    "        im,\n",
    "        ax=np.ravel(axes).tolist(),\n",
    "        label=\"SHAP value\",\n",
    "        orientation=\"horizontal\",\n",
    "        aspect=fig_size[0] / 0.2,\n",
    "    )\n",
    "    cb.outline.set_visible(False)"
   ]
  },
  {
   "cell_type": "code",
   "execution_count": null,
   "metadata": {
    "ExecuteTime": {
     "end_time": "2020-04-18T08:02:15.942561Z",
     "start_time": "2020-04-17T21:51:58.239Z"
    },
    "hidden": true
   },
   "outputs": [],
   "source": [
    "# make model predictions\n",
    "n_layer = 311\n",
    "\n",
    "\n",
    "def map2layer(x, layer):\n",
    "    feed_dict = dict(zip([model.layers[0].input], [x]))\n",
    "    return K.get_session().run(model.layers[layer].input, feed_dict)\n",
    "\n",
    "\n",
    "e = shap.GradientExplainer(\n",
    "    (model.layers[n_layer].input, model.layers[-1].output),\n",
    "    map2layer(preprocess_input(X.copy()), n_layer),\n",
    ")\n",
    "shap_values, indexes = e.shap_values(map2layer(to_predict, n_layer), ranked_outputs=2)\n",
    "index_names = np.vectorize(lambda x: class_names[str(x)][1])(indexes)\n",
    "print(index_names)\n",
    "# visualize model decisions\n",
    "visualize_model_decisions(\n",
    "    shap_values=shap_values, x=to_predict, labels=index_names, figsize=(20, 40)\n",
    ")"
   ]
  },
  {
   "cell_type": "code",
   "execution_count": null,
   "metadata": {
    "hidden": true
   },
   "outputs": [],
   "source": []
  }
 ],
 "metadata": {
  "kernelspec": {
   "display_name": "Python 3",
   "language": "python",
   "name": "python3"
  },
  "language_info": {
   "codemirror_mode": {
    "name": "ipython",
    "version": 3
   },
   "file_extension": ".py",
   "mimetype": "text/x-python",
   "name": "python",
   "nbconvert_exporter": "python",
   "pygments_lexer": "ipython3",
   "version": "3.7.5"
  },
  "notify_time": "5"
 },
 "nbformat": 4,
 "nbformat_minor": 2
}
