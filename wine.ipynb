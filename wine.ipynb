{
 "cells": [
  {
   "cell_type": "raw",
   "metadata": {},
   "source": [
    "pip install jupyter_contrib_nbextensions && jupyter contrib nbextension install "
   ]
  },
  {
   "cell_type": "raw",
   "metadata": {},
   "source": [
    "!pip install wget matplotlib"
   ]
  },
  {
   "cell_type": "code",
   "execution_count": null,
   "metadata": {},
   "outputs": [],
   "source": [
    "from sklearn.preprocessing import LabelEncoder\n",
    "from sklearn.metrics import roc_auc_score, mean_absolute_error\n",
    "\n",
    "import pandas as pd\n",
    "import numpy as np\n",
    "np.random.seed(0)\n",
    "\n",
    "\n",
    "import os\n",
    "import wget\n",
    "from pathlib import Path\n",
    "import gc\n",
    "from zipfile import ZipFile\n",
    "\n",
    "from matplotlib import pyplot as plt\n",
    "%matplotlib inline"
   ]
  },
  {
   "cell_type": "code",
   "execution_count": null,
   "metadata": {},
   "outputs": [],
   "source": [
    "from thc_net.regressor import ThcNetRegressor\n",
    "from thc_net.classifier import ThcNetClassifier\n",
    "\n",
    "from thc_net.input_utils import prepare_input_data, detect_cat"
   ]
  },
  {
   "cell_type": "markdown",
   "metadata": {},
   "source": [
    "# Download census-income dataset"
   ]
  },
  {
   "cell_type": "code",
   "execution_count": null,
   "metadata": {},
   "outputs": [],
   "source": [
    "url = \"https://archive.ics.uci.edu/ml/machine-learning-databases/wine-quality/winequality-red.csv\"\n",
    "#dataset_name = 'student-por'\n",
    "dataset_name = 'wine-quality'\n",
    "#out_zip = Path(os.getcwd().rsplit(\"/\", 1)[0]+'/data/student.zip')\n",
    "out = Path(os.getcwd().rsplit(\"/\", 1)[0]+'/data/'+dataset_name+'.csv')"
   ]
  },
  {
   "cell_type": "code",
   "execution_count": null,
   "metadata": {},
   "outputs": [],
   "source": [
    "out.parent.mkdir(parents=True, exist_ok=True)\n",
    "if out.exists():\n",
    "    print(\"File already exists.\")\n",
    "else:\n",
    "    print(\"Downloading file...\")\n",
    "    wget.download(url, out.as_posix())\n",
    "    #with ZipFile(out_zip, 'r') as zipObj:\n",
    "    #    zipObj.extractall(\"/data\")"
   ]
  },
  {
   "cell_type": "markdown",
   "metadata": {},
   "source": [
    "# Load data and split"
   ]
  },
  {
   "cell_type": "code",
   "execution_count": null,
   "metadata": {},
   "outputs": [],
   "source": [
    "train = pd.read_csv(out, sep=\";\", low_memory=False)\n",
    "to_remove = []\n",
    "target = 'quality'\n",
    "if \"Set\" not in train.columns:\n",
    "    train[\"Set\"] = np.random.choice([\"train\", \"valid\", \"test\"], p =[.8, .1, .1], size=(train.shape[0],))\n",
    "\n",
    "train_indices = train[train.Set==\"train\"].index\n",
    "valid_indices = train[train.Set==\"valid\"].index\n",
    "test_indices = train[train.Set==\"test\"].index"
   ]
  },
  {
   "cell_type": "code",
   "execution_count": null,
   "metadata": {},
   "outputs": [],
   "source": [
    "Y = train[target].values -1 \n",
    "X = train.drop(columns=['Set'] + [target] + to_remove)"
   ]
  },
  {
   "cell_type": "code",
   "execution_count": null,
   "metadata": {},
   "outputs": [],
   "source": [
    "ratio = 0.005"
   ]
  },
  {
   "cell_type": "code",
   "execution_count": null,
   "metadata": {},
   "outputs": [],
   "source": [
    "cat_idxs, cat_dims = detect_cat(X, ratio=ratio)"
   ]
  },
  {
   "cell_type": "code",
   "execution_count": null,
   "metadata": {},
   "outputs": [],
   "source": [
    "gc.collect()"
   ]
  },
  {
   "cell_type": "markdown",
   "metadata": {},
   "source": [
    "# Training"
   ]
  },
  {
   "cell_type": "code",
   "execution_count": null,
   "metadata": {},
   "outputs": [],
   "source": [
    "tg_enc = LabelEncoder()\n",
    "Y_clf = tg_enc.fit_transform(Y)"
   ]
  },
  {
   "cell_type": "code",
   "execution_count": null,
   "metadata": {},
   "outputs": [],
   "source": [
    "X_train = X.values[train_indices]\n",
    "y_train = Y[train_indices]\n",
    "y_train_clf = Y_clf[train_indices]\n",
    "\n",
    "X_valid = X.values[valid_indices]\n",
    "y_valid = Y[valid_indices]\n",
    "y_valid_clf = Y_clf[valid_indices]\n",
    "\n",
    "X_test = X.values[test_indices]\n",
    "y_test = Y[test_indices]\n",
    "y_test_clf = Y_clf[test_indices]"
   ]
  },
  {
   "cell_type": "code",
   "execution_count": null,
   "metadata": {},
   "outputs": [],
   "source": [
    "X_train.shape"
   ]
  },
  {
   "cell_type": "code",
   "execution_count": null,
   "metadata": {},
   "outputs": [],
   "source": [
    "X_train_prep, encoders = prepare_input_data(X_train, cat_idxs)\n",
    "X_valid_prep, _ = prepare_input_data(X_valid, cat_idxs, encoders=encoders, fit=False)\n",
    "X_test_prep, _ = prepare_input_data(X_test, cat_idxs, encoders=encoders, fit=False)"
   ]
  },
  {
   "cell_type": "markdown",
   "metadata": {},
   "source": [
    "# Network parameters"
   ]
  },
  {
   "cell_type": "code",
   "execution_count": null,
   "metadata": {},
   "outputs": [],
   "source": [
    "%%time\n",
    "\n",
    "model = ThcNetRegressor(\n",
    "    n_layer=3,\n",
    "    mul_input=8, \n",
    "    #metrics=['AUC'],\n",
    "    cat_idxs=cat_idxs,\n",
    "    cat_emb_dims=cat_dims,\n",
    "    dropout=0.05,\n",
    "    normalize=False,\n",
    "    max_emb=10,\n",
    "    patience=20\n",
    ")\n",
    "\n",
    "history = model.fit(\n",
    "        X=X_train_prep, \n",
    "        y=y_train,\n",
    "        X_valid=X_valid_prep,\n",
    "        y_valid=y_valid,\n",
    "        batch_size=1024,\n",
    "        epochs=10000,\n",
    "        verbose=2,\n",
    ")"
   ]
  },
  {
   "cell_type": "code",
   "execution_count": null,
   "metadata": {},
   "outputs": [],
   "source": [
    "%%time\n",
    "\n",
    "model_clf = ThcNetClassifier(\n",
    "    n_layer=3,\n",
    "    mul_input=8, \n",
    "    #metrics=['AUC'],\n",
    "    cat_idxs=cat_idxs,\n",
    "    cat_emb_dims=cat_dims,\n",
    "    dropout=0.05,\n",
    "    normalize=False,\n",
    "    max_emb=10,\n",
    "    patience=20\n",
    ")\n",
    "\n",
    "history_clf = model_clf.fit(\n",
    "        X=X_train_prep, \n",
    "        y=y_train_clf,\n",
    "        X_valid=X_valid_prep,\n",
    "        y_valid=y_valid_clf,\n",
    "        batch_size=1024,\n",
    "        epochs=10000,\n",
    "        verbose=2,\n",
    ")"
   ]
  },
  {
   "cell_type": "code",
   "execution_count": null,
   "metadata": {},
   "outputs": [],
   "source": [
    "%%time\n",
    "\n",
    "model_snn_clf = ThcNetClassifier(\n",
    "    n_layer=3,\n",
    "    mul_input=8, \n",
    "    #metrics=['AUC'],\n",
    "    cat_idxs=cat_idxs,\n",
    "    cat_emb_dims=cat_dims,\n",
    "    dropout=0.05,\n",
    "    normalize=False,\n",
    "    max_emb=10,\n",
    "    patience=20,\n",
    "    use_snn=True,\n",
    "    noise=None\n",
    ")\n",
    "\n",
    "history_snn_clf = model_snn_clf.fit(\n",
    "        X=X_train_prep, \n",
    "        y=y_train_clf,\n",
    "        X_valid=X_valid_prep,\n",
    "        y_valid=y_valid_clf,\n",
    "        batch_size=1024,\n",
    "        epochs=10000,\n",
    "        verbose=2,\n",
    ")"
   ]
  },
  {
   "cell_type": "code",
   "execution_count": null,
   "metadata": {},
   "outputs": [],
   "source": [
    "%%time\n",
    "\n",
    "model_snn = ThcNetRegressor(\n",
    "    n_layer=3,\n",
    "    mul_input=8, \n",
    "    #metrics=['AUC'],\n",
    "    cat_idxs=cat_idxs,\n",
    "    cat_emb_dims=cat_dims,\n",
    "    dropout=0.05,\n",
    "    normalize=False,\n",
    "    max_emb=10,\n",
    "    patience=20,\n",
    "    use_snn=True,\n",
    "    noise=None\n",
    ")\n",
    "\n",
    "history_snn = model_snn.fit(\n",
    "        X=X_train_prep, \n",
    "        y=y_train,\n",
    "        X_valid=X_valid_prep,\n",
    "        y_valid=y_valid,\n",
    "        batch_size=1024,\n",
    "        epochs=10000,\n",
    "        verbose=2,\n",
    ")"
   ]
  },
  {
   "cell_type": "code",
   "execution_count": null,
   "metadata": {},
   "outputs": [],
   "source": [
    "model.network.summary()"
   ]
  },
  {
   "cell_type": "code",
   "execution_count": null,
   "metadata": {},
   "outputs": [],
   "source": [
    "model_clf.network.summary()"
   ]
  },
  {
   "cell_type": "code",
   "execution_count": null,
   "metadata": {},
   "outputs": [],
   "source": [
    "model_snn.network.summary()"
   ]
  },
  {
   "cell_type": "code",
   "execution_count": null,
   "metadata": {},
   "outputs": [],
   "source": [
    "model_snn_clf.network.summary()"
   ]
  },
  {
   "cell_type": "markdown",
   "metadata": {},
   "source": [
    "### Predictions"
   ]
  },
  {
   "cell_type": "code",
   "execution_count": null,
   "metadata": {},
   "outputs": [],
   "source": [
    "import matplotlib.pyplot as plt\n",
    "\n",
    "# Plot training & validation loss values\n",
    "plt.plot(history.history['loss'])\n",
    "plt.plot(history.history['val_loss'])\n",
    "plt.title('Model loss')\n",
    "plt.ylabel('Loss')\n",
    "plt.xlabel('Epoch')\n",
    "plt.legend(['Train', 'Test'], loc='upper left')\n",
    "plt.show()"
   ]
  },
  {
   "cell_type": "code",
   "execution_count": null,
   "metadata": {},
   "outputs": [],
   "source": [
    "import matplotlib.pyplot as plt\n",
    "\n",
    "# Plot training & validation loss values\n",
    "plt.plot(history_clf.history['loss'])\n",
    "plt.plot(history_clf.history['val_loss'])\n",
    "plt.title('Model loss')\n",
    "plt.ylabel('Loss')\n",
    "plt.xlabel('Epoch')\n",
    "plt.legend(['Train', 'Test'], loc='upper left')\n",
    "plt.show()"
   ]
  },
  {
   "cell_type": "code",
   "execution_count": null,
   "metadata": {},
   "outputs": [],
   "source": [
    "import matplotlib.pyplot as plt\n",
    "\n",
    "# Plot training & validation loss values\n",
    "plt.plot(history_snn.history['loss'])\n",
    "plt.plot(history_snn.history['val_loss'])\n",
    "plt.title('Model loss')\n",
    "plt.ylabel('Loss')\n",
    "plt.xlabel('Epoch')\n",
    "plt.legend(['Train', 'Test'], loc='upper left')\n",
    "plt.show()"
   ]
  },
  {
   "cell_type": "code",
   "execution_count": null,
   "metadata": {},
   "outputs": [],
   "source": [
    "import matplotlib.pyplot as plt\n",
    "\n",
    "# Plot training & validation loss values\n",
    "plt.plot(history_snn_clf.history['loss'])\n",
    "plt.plot(history_snn_clf.history['val_loss'])\n",
    "plt.title('Model loss')\n",
    "plt.ylabel('Loss')\n",
    "plt.xlabel('Epoch')\n",
    "plt.legend(['Train', 'Test'], loc='upper left')\n",
    "plt.show()"
   ]
  },
  {
   "cell_type": "code",
   "execution_count": null,
   "metadata": {},
   "outputs": [],
   "source": [
    "y_pred = model.predict_proba(X_test_prep)\n",
    "test_auc = mean_absolute_error(y_pred=y_pred, y_true=y_test)\n",
    "print(f\"FINAL TEST SCORE FOR {dataset_name} : {test_auc}\")"
   ]
  },
  {
   "cell_type": "code",
   "execution_count": null,
   "metadata": {},
   "outputs": [],
   "source": [
    "y_pred = tg_enc.inverse_transform(np.argmax(model_clf.predict_proba(X_test_prep), axis=1))\n",
    "test_auc = mean_absolute_error(y_pred=y_pred, y_true=y_test)\n",
    "print(f\"FINAL TEST SCORE FOR {dataset_name} : {test_auc}\")"
   ]
  },
  {
   "cell_type": "code",
   "execution_count": null,
   "metadata": {},
   "outputs": [],
   "source": [
    "y_pred = model_snn.predict_proba(X_test_prep)\n",
    "test_auc = mean_absolute_error(y_pred=y_pred, y_true=y_test)\n",
    "print(f\"FINAL TEST SCORE FOR {dataset_name} : {test_auc}\")"
   ]
  },
  {
   "cell_type": "code",
   "execution_count": null,
   "metadata": {},
   "outputs": [],
   "source": [
    "y_pred = tg_enc.inverse_transform(np.argmax(model_snn_clf.predict_proba(X_test_prep), axis=1))\n",
    "test_auc = mean_absolute_error(y_pred=y_pred, y_true=y_test)\n",
    "print(f\"FINAL TEST SCORE FOR {dataset_name} : {test_auc}\")"
   ]
  }
 ],
 "metadata": {
  "kernelspec": {
   "display_name": "Python 3",
   "language": "python",
   "name": "python3"
  },
  "language_info": {
   "codemirror_mode": {
    "name": "ipython",
    "version": 3
   },
   "file_extension": ".py",
   "mimetype": "text/x-python",
   "name": "python",
   "nbconvert_exporter": "python",
   "pygments_lexer": "ipython3",
   "version": "3.7.6"
  }
 },
 "nbformat": 4,
 "nbformat_minor": 2
}
